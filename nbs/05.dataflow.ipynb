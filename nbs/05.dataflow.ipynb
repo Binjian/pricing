{
 "cells": [
  {
   "cell_type": "markdown",
   "metadata": {},
   "source": [
    "# dataflow \n",
    "> extract data, assemble into dataframe, analyse, training and inferring "
   ]
  },
  {
   "cell_type": "code",
   "execution_count": null,
   "metadata": {},
   "outputs": [],
   "source": [
    "#| default_exp dataflow"
   ]
  },
  {
   "cell_type": "code",
   "execution_count": null,
   "metadata": {},
   "outputs": [],
   "source": [
    "#| hide\n",
    "from nbdev.showdoc import *"
   ]
  },
  {
   "cell_type": "code",
   "execution_count": null,
   "metadata": {},
   "outputs": [],
   "source": [
    "#| export\n",
    "def foo(): pass"
   ]
  },
  {
   "cell_type": "code",
   "execution_count": null,
   "metadata": {},
   "outputs": [],
   "source": [
    "#| hide\n",
    "import nbdev; nbdev.nbdev_export()"
   ]
  },
  {
   "cell_type": "code",
   "execution_count": null,
   "metadata": {},
   "outputs": [],
   "source": [
    "#| hide\n",
    "from IPython.core.interactiveshell import InteractiveShell\n",
    "InteractiveShell.ast_node_interactivity = \"all\""
   ]
  },
  {
   "cell_type": "markdown",
   "metadata": {},
   "source": []
  },
  {
   "cell_type": "code",
   "execution_count": null,
   "metadata": {},
   "outputs": [],
   "source": [
    "from dotenv import load_dotenv\n",
    "import os"
   ]
  },
  {
   "cell_type": "code",
   "execution_count": null,
   "metadata": {},
   "outputs": [],
   "source": [
    "\n",
    "load_dotenv(\"../.env\")"
   ]
  },
  {
   "cell_type": "code",
   "execution_count": null,
   "metadata": {},
   "outputs": [],
   "source": [
    "\n",
    "os.environ['HTTP_PROXY'] = \"http://127.0.0.1:20171\"\n",
    "os.environ['HTTPS_PROXY'] = \"http://127.0.0.1:20171\"\n",
    "os.environ['http_proxy'] = \"http://127.0.0.1:20171\"\n",
    "os.environ['https_proxy'] = \"http://127.0.0.1:20171\"\n",
    "\n"
   ]
  },
  {
   "cell_type": "code",
   "execution_count": null,
   "metadata": {},
   "outputs": [],
   "source": [
    "os.getenv('GC_QUOTE_API_CREDENTIALS')\n",
    "os.getenv('HTTP_PROXY')\n",
    "os.getenv('HTTPS_PROXY')"
   ]
  },
  {
   "cell_type": "code",
   "execution_count": null,
   "metadata": {},
   "outputs": [],
   "source": [
    "from dotenv import dotenv_values\n",
    "config = dotenv_values(\"../.env\")\n",
    "key = config.get('GC_QUOTE_API_CREDENTIALS')"
   ]
  },
  {
   "cell_type": "code",
   "execution_count": null,
   "metadata": {},
   "outputs": [],
   "source": [
    "from google.cloud import bigquery\n",
    "import pandas_gbq\n",
    "from google.oauth2 import service_account\n",
    "credentials = service_account.Credentials.from_service_account_file(\"../\" + key)"
   ]
  },
  {
   "cell_type": "code",
   "execution_count": null,
   "metadata": {},
   "outputs": [],
   "source": [
    "client = bigquery.Client(credentials=credentials)\n",
    "\n",
    "QUERY = \"\"\"\n",
    "\t\tselect *\n",
    "\t\tfrom `quote-api-365206.report.ride_dispatch_v` r\n",
    "\t\twhere dispatch_amount_net_usd is not null\n",
    "        limit 20\n",
    "\t\t\"\"\""
   ]
  },
  {
   "cell_type": "code",
   "execution_count": null,
   "metadata": {},
   "outputs": [],
   "source": [
    "\n",
    "query_job = client.query(QUERY)\n"
   ]
  },
  {
   "cell_type": "code",
   "execution_count": null,
   "metadata": {},
   "outputs": [],
   "source": [
    "\n",
    "df = pandas_gbq.read_gbq(QUERY,credentials=credentials)"
   ]
  },
  {
   "cell_type": "code",
   "execution_count": null,
   "metadata": {},
   "outputs": [],
   "source": [
    "df.head()"
   ]
  },
  {
   "cell_type": "code",
   "execution_count": null,
   "metadata": {},
   "outputs": [],
   "source": [
    "QUERY = \"\"\"\n",
    "\t\tselect *\n",
    "\t\tfrom elife-data-warehouse-prod.ods.ride_ride as t0 \n",
    "        limit 20\n",
    "\t\t\"\"\"\n"
   ]
  },
  {
   "cell_type": "code",
   "execution_count": null,
   "metadata": {},
   "outputs": [],
   "source": [
    "\n",
    "df = pandas_gbq.read_gbq(QUERY,credentials=credentials)"
   ]
  },
  {
   "cell_type": "code",
   "execution_count": null,
   "metadata": {},
   "outputs": [],
   "source": [
    "df.head()"
   ]
  },
  {
   "cell_type": "code",
   "execution_count": null,
   "metadata": {},
   "outputs": [],
   "source": [
    "QUERY = \"\"\"\n",
    "\t\tselect *\n",
    "\t\tfrom elife-data-warehouse-prod.ods.ride_ride as t0 \n",
    "        limit 20\n",
    "\t\t\"\"\"\n"
   ]
  },
  {
   "cell_type": "code",
   "execution_count": null,
   "metadata": {},
   "outputs": [],
   "source": [
    "\n",
    "df = pandas_gbq.read_gbq(QUERY,credentials=credentials)"
   ]
  },
  {
   "cell_type": "code",
   "execution_count": null,
   "metadata": {},
   "outputs": [],
   "source": [
    "QUERY = \"\"\"\n",
    "\t\tselect *\n",
    "\t\tfrom elife-data-warehouse-prod.ods.ride_ride as t0 \n",
    "        limit 20\n",
    "\t\t\"\"\"\n"
   ]
  },
  {
   "cell_type": "code",
   "execution_count": null,
   "metadata": {},
   "outputs": [],
   "source": [
    "\n",
    "df = pandas_gbq.read_gbq(QUERY,credentials=credentials)"
   ]
  },
  {
   "cell_type": "code",
   "execution_count": null,
   "metadata": {},
   "outputs": [],
   "source": [
    "QUERY = \"\"\"\n",
    "\t\tselect\n",
    "\t\t    t0.id as ride_id,\n",
    "\t\t    t1.id as dispatch_id,\n",
    "\t\t    t1.trip_no,\n",
    "\t\t    t0.stat,\n",
    "\t\t    ARRAY_TO_STRING(ARRAY(\n",
    "\t\t        SELECT\n",
    "                    t1.name\n",
    "                FROM\n",
    "                    elife-data-warehouse-prod.ods.ride_enum \n",
    "                    AS t1\n",
    "                    WHERE t1.id = t0.stat\n",
    "            ), ',') AS ride_status,\n",
    "\t\t    t0.from_time_str,\n",
    "\t\t    t0.from_timezone_str,\n",
    "\t\t    t0.to_time_str,\n",
    "\t\t    t0.to_timezone_str,\n",
    "\t\t    t0.from_place_id,\n",
    "\t\t    ARRAY_TO_STRING(ARRAY(\n",
    "\t\t        SELECT\n",
    "                    t1.name\n",
    "                FROM\n",
    "                    elife-data-warehouse-prod.ods.ride_place\n",
    "                    AS t1\n",
    "                    WHERE t1.id = t0.from_place_id\n",
    "            ), ',') AS from_place,\n",
    "\t\t    t0.to_place_id,\n",
    "\t\t    ARRAY_TO_STRING(ARRAY(\n",
    "\t\t        SELECT\n",
    "                    t1.name\n",
    "                FROM\n",
    "                    elife-data-warehouse-prod.ods.ride_place\n",
    "                    AS t1\n",
    "                    WHERE t1.id = t0.to_place_id\n",
    "            ), ',') AS to_place,\n",
    "\t\t    t0.distance,\n",
    "\t\t    t0.duration,\n",
    "\t\t    ARRAY_TO_STRING(ARRAY(\n",
    "\t\t        SELECT\n",
    "                    t1.name\n",
    "                FROM\n",
    "                    elife-data-warehouse-prod.ods.ride_vehicle_class\n",
    "                    AS t1\n",
    "                    WHERE t1.id = t0.vehicle_class_id\n",
    "            ), ',') AS vehicle_class,\n",
    "\t\t    t0.vehicle_class_id,\n",
    "\t\t    t0.passenger_count,\n",
    "\t\t    t0.luggage_count,\n",
    "\t\t    t0.trip_count\n",
    "\t\tFROM \n",
    "            elife-data-warehouse-prod.ods.ride_ride AS t0 JOIN elife-data-warehouse-prod.ods.ride_dispatch AS t1\n",
    "            ON t0.id = t1.ride_id\n",
    "        limit 20\n",
    "\t\t\"\"\"\n"
   ]
  },
  {
   "cell_type": "code",
   "execution_count": null,
   "metadata": {},
   "outputs": [],
   "source": [
    "\n",
    "df = pandas_gbq.read_gbq(QUERY,credentials=credentials)"
   ]
  },
  {
   "cell_type": "code",
   "execution_count": null,
   "metadata": {},
   "outputs": [],
   "source": [
    "df.head()"
   ]
  }
 ],
 "metadata": {
  "kernelspec": {
   "display_name": "python3",
   "language": "python",
   "name": "python3"
  }
 },
 "nbformat": 4,
 "nbformat_minor": 4
}
