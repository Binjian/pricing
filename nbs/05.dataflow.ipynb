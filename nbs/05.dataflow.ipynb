{
 "cells": [
  {
   "cell_type": "markdown",
   "metadata": {},
   "source": [
    "# dataflow \n",
    "> extract data, assemble into dataframe, analyse, training and inferring "
   ]
  },
  {
   "cell_type": "code",
   "execution_count": null,
   "metadata": {},
   "outputs": [],
   "source": [
    "#| default_exp dataflow"
   ]
  },
  {
   "cell_type": "code",
   "execution_count": null,
   "metadata": {},
   "outputs": [],
   "source": [
    "#| hide\n",
    "from nbdev.showdoc import *"
   ]
  },
  {
   "cell_type": "code",
   "execution_count": null,
   "metadata": {},
   "outputs": [],
   "source": [
    "#| export\n",
    "def foo(): pass"
   ]
  },
  {
   "cell_type": "code",
   "execution_count": null,
   "metadata": {},
   "outputs": [],
   "source": [
    "#| hide\n",
    "import nbdev; nbdev.nbdev_export()"
   ]
  },
  {
   "cell_type": "code",
   "execution_count": null,
   "metadata": {},
   "outputs": [],
   "source": [
    "#| hide\n",
    "from IPython.core.interactiveshell import InteractiveShell\n",
    "InteractiveShell.ast_node_interactivity = \"all\""
   ]
  },
  {
   "cell_type": "markdown",
   "metadata": {},
   "source": []
  },
  {
   "cell_type": "code",
   "execution_count": null,
   "metadata": {},
   "outputs": [],
   "source": [
    "import os\n",
    "from google.cloud import bigquery\n",
    "from google.oauth2 import service_account\n",
    "from dotenv import load_dotenv\n",
    "from dotenv import dotenv_values\n",
    "import pandas_gbq"
   ]
  },
  {
   "cell_type": "code",
   "execution_count": null,
   "metadata": {},
   "outputs": [],
   "source": [
    "# os.environ"
   ]
  },
  {
   "cell_type": "code",
   "execution_count": null,
   "metadata": {},
   "outputs": [],
   "source": [
    "\n",
    "load_dotenv(\"../.env\")"
   ]
  },
  {
   "cell_type": "code",
   "execution_count": null,
   "metadata": {},
   "outputs": [],
   "source": [
    "os.environ"
   ]
  },
  {
   "cell_type": "code",
   "execution_count": null,
   "metadata": {},
   "outputs": [],
   "source": [
    "# os.getenv('GC_QUOTE_API_CREDENTIALS')\n",
    "# os.getenv('HTTP_PROXY')\n",
    "# os.getenv('HTTPS_PROXY')"
   ]
  },
  {
   "cell_type": "code",
   "execution_count": null,
   "metadata": {},
   "outputs": [],
   "source": [
    "# config = dotenv_values(\"../.env\")\n",
    "# key = config.get('GC_QUOTE_API_CREDENTIALS')\n",
    "key = os.getenv('GC_QUOTE_API_CREDENTIALS')"
   ]
  },
  {
   "cell_type": "code",
   "execution_count": null,
   "metadata": {},
   "outputs": [],
   "source": [
    "\n",
    "credentials = service_account.Credentials.from_service_account_file(\"../\" + key)\n"
   ]
  },
  {
   "cell_type": "code",
   "execution_count": null,
   "metadata": {},
   "outputs": [],
   "source": [
    "\n",
    "#os.environ['HTTP_PROXY'] = \"http://127.0.0.1:20171\"\n",
    "#os.environ['HTTPS_PROXY'] = \"http://127.0.0.1:20171\"\n",
    "#os.environ['http_proxy'] = \"http://127.0.0.1:20171\"\n",
    "#os.environ['https_proxy'] = \"http://127.0.0.1:20171\"\n",
    "\n"
   ]
  },
  {
   "cell_type": "code",
   "execution_count": null,
   "metadata": {},
   "outputs": [],
   "source": [
    "os.environ"
   ]
  },
  {
   "cell_type": "code",
   "execution_count": null,
   "metadata": {},
   "outputs": [],
   "source": [
    "client = bigquery.Client(credentials=credentials)\n",
    "\n",
    "QUERY = \"\"\"\n",
    "\t\tselect *\n",
    "\t\tfrom `quote-api-365206.report.ride_dispatch_v` r\n",
    "\t\twhere dispatch_amount_net_usd is not null\n",
    "        limit 20\n",
    "\t\t\"\"\""
   ]
  },
  {
   "cell_type": "code",
   "execution_count": null,
   "metadata": {},
   "outputs": [],
   "source": [
    "\n",
    "# query_job = client.query(QUERY)\n"
   ]
  },
  {
   "cell_type": "code",
   "execution_count": null,
   "metadata": {},
   "outputs": [],
   "source": [
    "\n",
    "df = pandas_gbq.read_gbq(QUERY,credentials=credentials)"
   ]
  },
  {
   "cell_type": "code",
   "execution_count": null,
   "metadata": {},
   "outputs": [],
   "source": [
    "df.head()"
   ]
  },
  {
   "cell_type": "code",
   "execution_count": null,
   "metadata": {},
   "outputs": [],
   "source": [
    "QUERY = \"\"\"\n",
    "\t\tselect *\n",
    "\t\tfrom elife-data-warehouse-prod.ods.ride_ride as t0 \n",
    "        limit 20\n",
    "\t\t\"\"\"\n"
   ]
  },
  {
   "cell_type": "code",
   "execution_count": null,
   "metadata": {},
   "outputs": [],
   "source": [
    "\n",
    "df = pandas_gbq.read_gbq(QUERY,credentials=credentials)"
   ]
  },
  {
   "cell_type": "code",
   "execution_count": null,
   "metadata": {},
   "outputs": [],
   "source": [
    "df.head()"
   ]
  },
  {
   "cell_type": "code",
   "execution_count": null,
   "metadata": {},
   "outputs": [],
   "source": []
  },
  {
   "cell_type": "code",
   "execution_count": null,
   "metadata": {},
   "outputs": [],
   "source": [
    "QUERY = \"\"\"\n",
    "\t\tselect\n",
    "\t\t    t0.id as ride_id,\n",
    "\t\t    t1.id as dispatch_id,\n",
    "            CASE\n",
    "                WHEN t2.trip_no = t1.trip_no THEN t2.trip_type\n",
    "                ELSE NULL\n",
    "            END AS trip_type_id,\n",
    "\t\t    ARRAY_TO_STRING(ARRAY(\n",
    "\t\t        SELECT\n",
    "                    t3.name\n",
    "                FROM\n",
    "                    elife-data-warehouse-prod.ods.ride_enum \n",
    "                    AS t3\n",
    "                    WHERE t3.id = t2.trip_type AND t2.trip_no = t1.trip_no\n",
    "            ), ',') AS trip_type,\n",
    "\t\t    t1.trip_no,\n",
    "\t\t    t0.stat AS ride_status_id,\n",
    "\t\t    ARRAY_TO_STRING(ARRAY(\n",
    "\t\t        SELECT\n",
    "                    t3.name\n",
    "                FROM\n",
    "                    elife-data-warehouse-prod.ods.ride_enum \n",
    "                    AS t3\n",
    "                    WHERE t3.id = t0.stat\n",
    "            ), ',') AS ride_status,\n",
    "            CASE\n",
    "                WHEN t3.id = t0.partner_tran_id THEN t3.partner_id\n",
    "                ELSE NULL\n",
    "            END AS partner_id,\n",
    "\t\t    t0.from_time_str,\n",
    "\t\t    t0.from_timezone_str,\n",
    "\t\t    t0.to_time_str,\n",
    "\t\t    t0.to_timezone_str,\n",
    "\t\t    t0.from_place_id,\n",
    "\t\t    ARRAY_TO_STRING(ARRAY(\n",
    "\t\t        SELECT\n",
    "                    t1.name\n",
    "                FROM\n",
    "                    elife-data-warehouse-prod.ods.ride_place\n",
    "                    AS t1\n",
    "                    WHERE t1.id = t0.from_place_id\n",
    "            ), ',') AS from_place,\n",
    "\t\t    t0.to_place_id,\n",
    "\t\t    ARRAY_TO_STRING(ARRAY(\n",
    "\t\t        SELECT\n",
    "                    t1.name\n",
    "                FROM\n",
    "                    elife-data-warehouse-prod.ods.ride_place\n",
    "                    AS t1\n",
    "                    WHERE t1.id = t0.to_place_id\n",
    "            ), ',') AS to_place,\n",
    "\t\t    t0.distance,\n",
    "\t\t    t0.duration,\n",
    "\t\t    ARRAY_TO_STRING(ARRAY(\n",
    "\t\t        SELECT\n",
    "                    t1.name\n",
    "                FROM\n",
    "                    elife-data-warehouse-prod.ods.ride_vehicle_class\n",
    "                    AS t1\n",
    "                    WHERE t1.id = t0.vehicle_class_id\n",
    "            ), ',') AS vehicle_class,\n",
    "\t\t    t0.vehicle_class_id,\n",
    "\t\t    t0.passenger_count,\n",
    "\t\t    t0.luggage_count,\n",
    "\t\t    t0.trip_count,\n",
    "\t\t    t0.children_count,\n",
    "\t\t    t0.infant_count,\n",
    "\t\t    t1.amount as dispatch_amount,\n",
    "\t\t    t1.currency as dispatch_currency,\n",
    "\t\t    \n",
    "\t\tFROM \n",
    "            elife-data-warehouse-prod.ods.ride_ride AS t0 \n",
    "            JOIN elife-data-warehouse-prod.ods.ride_dispatch AS t1 ON t0.id = t1.ride_id \n",
    "            LEFT JOIN elife-data-warehouse-prod.ods.ride_trip AS t2 ON t0.id = t2.ride_id \n",
    "            LEFT JOIN elife-data-warehouse-prod.ods.ride_partner_tran AS t3 ON t0.partner_tran_id = t3.id\n",
    "        WHERE\n",
    "            from_time_str > '2024-01-01'\n",
    "        LIMIT\n",
    "            10\n",
    "\t\t\"\"\"\n"
   ]
  },
  {
   "cell_type": "code",
   "execution_count": null,
   "metadata": {},
   "outputs": [],
   "source": [
    "\n",
    "#df = pandas_gbq.read_gbq(QUERY,credentials=credentials)"
   ]
  },
  {
   "cell_type": "code",
   "execution_count": null,
   "metadata": {},
   "outputs": [],
   "source": [
    "QUERY = \"\"\"\n",
    "        WITH\n",
    "        TripTypeID AS (\n",
    "            SELECT\n",
    "                t1.ride_id,\n",
    "                CASE\n",
    "                    WHEN t2.trip_no = t1.trip_no THEN t2.trip_type\n",
    "                    ELSE NULL\n",
    "                END AS trip_type_id,\n",
    "            FROM\n",
    "                elife-data-warehouse-prod.ods.ride_dispatch AS t1\n",
    "                JOIN elife-data-warehouse-prod.ods.ride_trip AS t2 ON t1.ride_id = t2.ride_id\n",
    "        ),\n",
    "        TripType AS (\n",
    "            SELECT\n",
    "                t1.ride_id,\n",
    "                t1.trip_type_id,\n",
    "                t2.name AS trip_type,\n",
    "            FROM\n",
    "                TripTypeID AS t1\n",
    "                LEFT JOIN elife-data-warehouse-prod.ods.ride_enum AS t2 ON t1.trip_type_id = t2.id\n",
    "        ),\n",
    "        RideStatus AS (\n",
    "            SELECT\n",
    "                t1.id AS ride_id,\n",
    "                t1.stat AS ride_status_id,\n",
    "                t2.name AS ride_status,\n",
    "            FROM\n",
    "                elife-data-warehouse-prod.ods.ride_ride AS t1\n",
    "                LEFT JOIN elife-data-warehouse-prod.ods.ride_enum AS t2 ON t1.stat = t2.id\n",
    "        ),\n",
    "        PartnerID AS (\n",
    "            SELECT\n",
    "                t1.id AS ride_id,\n",
    "                CASE\n",
    "                    WHEN t2.id = t1.partner_tran_id THEN t2.partner_id\n",
    "                    ELSE NULL\n",
    "                END AS partner_id,\n",
    "            FROM\n",
    "                elife-data-warehouse-prod.ods.ride_ride AS t1\n",
    "                LEFT JOIN elife-data-warehouse-prod.ods.ride_partner_tran AS t2 ON t1.partner_tran_id = t2.id\n",
    "        ),\n",
    "        Partner AS (\n",
    "            SELECT\n",
    "                t1.ride_id,\n",
    "                t1.partner_id,\n",
    "                t2.name AS partner,\n",
    "            FROM\n",
    "                PartnerID AS t1\n",
    "                LEFT JOIN elife-data-warehouse-prod.ods.ride_partner AS t2 ON t1.partner_id = t2.id\n",
    "        ),\n",
    "        FromPlace AS (\n",
    "            SELECT\n",
    "                t1.id AS ride_id,\n",
    "                t1.from_place_id as start_place_id,\n",
    "                t2.name AS start_place,\n",
    "                t2.lng AS longt,\n",
    "                t2.lat AS latit,\n",
    "            FROM\n",
    "                elife-data-warehouse-prod.ods.ride_ride AS t1\n",
    "                LEFT JOIN elife-data-warehouse-prod.dim.dim_place AS t2 ON t1.from_place_id = t2.id\n",
    "        ),\n",
    "        ToPlace AS (\n",
    "            SELECT\n",
    "                t1.id AS ride_id,\n",
    "                t1.to_place_id as end_place_id,\n",
    "                t2.name AS end_place,\n",
    "                t2.lng AS longt,\n",
    "                t2.lat AS latit,\n",
    "            FROM\n",
    "                elife-data-warehouse-prod.ods.ride_ride AS t1\n",
    "                LEFT JOIN elife-data-warehouse-prod.dim.dim_place AS t2 ON t1.to_place_id = t2.id\n",
    "        ),\n",
    "        VehicleClass AS (\n",
    "            SELECT\n",
    "                t1.id AS ride_id,\n",
    "                t1.vehicle_class_id as vehicle_class_id,\n",
    "                t2.name AS vehicle_class,\n",
    "            FROM\n",
    "                elife-data-warehouse-prod.ods.ride_ride AS t1\n",
    "                LEFT JOIN elife-data-warehouse-prod.ods.ride_vehicle_class AS t2 ON t1.vehicle_class_id = t2.id\n",
    "        ),\n",
    "        PricingTraining AS (SELECT t0.id       AS ride_id,\n",
    "                                   t1.id       AS dispatch_id,\n",
    "                                   t2.trip_type_id,\n",
    "                                   t2.trip_type,\n",
    "                                   t1.trip_no,\n",
    "                                   t3.ride_status_id,\n",
    "                                   t3.ride_status,\n",
    "                                   t4.partner_id,\n",
    "                                   t4.partner,\n",
    "                                   t0.from_time_str,\n",
    "                                   t0.from_timezone_str,\n",
    "                                   t0.to_time_str,\n",
    "                                   t0.to_timezone_str,\n",
    "                                   t5.start_place_id,\n",
    "                                   t5.start_place,\n",
    "                                   t5.longt    AS start_longt,\n",
    "                                   t5.latit    AS start_latit,\n",
    "                                   t6.end_place_id,\n",
    "                                   t6.end_place,\n",
    "                                   t6.longt    AS end_longt,\n",
    "                                   t6.latit    AS end_latit,\n",
    "                                   t0.distance,\n",
    "                                   t0.duration,\n",
    "                                   t7.vehicle_class_id,\n",
    "                                   t7.vehicle_class,\n",
    "                                   t0.passenger_count,\n",
    "                                   t0.luggage_count,\n",
    "                                   t0.trip_count,\n",
    "                                   t0.children_count,\n",
    "                                   t0.infant_count,\n",
    "                                   t1.amount   as dispatch_amount,\n",
    "                                   t1.currency as dispatch_currency,\n",
    "\n",
    "                            FROM `elife-data-warehouse-prod.ods.ride_ride` AS t0\n",
    "                                     JOIN `elife-data-warehouse-prod.ods.ride_dispatch` AS t1 ON t0.id = t1.ride_id\n",
    "                                     LEFT JOIN TripType AS t2 ON t0.id = t2.ride_id\n",
    "                                     LEFT JOIN RideStatus AS t3 ON t0.id = t3.ride_id\n",
    "                                     LEFT JOIN Partner AS t4 ON t0.id = t4.ride_id\n",
    "                                     LEFT JOIN FromPlace AS t5 ON t0.id = t5.ride_id\n",
    "                                     LEFT JOIN ToPlace AS t6 ON t0.id = t6.ride_id\n",
    "                                     LEFT JOIN VehicleClass AS t7 ON t0.id = t7.ride_id\n",
    "                            WHERE from_time_str > '2024-01-01'\n",
    "        )\n",
    "\n",
    "        SELECT\n",
    "            t.ride_id,\n",
    "            t.dispatch_id,\n",
    "            t.trip_type,\n",
    "            t.trip_no,\n",
    "            t.ride_status,\n",
    "            t.partner,\n",
    "            t.from_time_str,\n",
    "            t.from_timezone_str,\n",
    "            t.to_time_str,\n",
    "            t.to_timezone_str,\n",
    "            t.start_place,\n",
    "            t.start_latit,\n",
    "            t.start_longt,\n",
    "            t.end_place,\n",
    "            t.end_latit,\n",
    "            t.end_longt,\n",
    "            t.distance,\n",
    "            t.duration,\n",
    "            t.vehicle_class,\n",
    "            t.passenger_count,\n",
    "            t.luggage_count,\n",
    "            t.trip_count,\n",
    "            t.children_count,\n",
    "            t.infant_count,\n",
    "            t.dispatch_amount,\n",
    "            t.dispatch_currency,\n",
    "\n",
    "        FROM\n",
    "            PricingTraining AS t\n",
    "        WHERE\n",
    "            from_time_str > '2024-01-01'\n",
    "        LIMIT\n",
    "            200\n",
    "\n",
    "\n",
    "\"\"\"\n"
   ]
  },
  {
   "cell_type": "code",
   "execution_count": null,
   "metadata": {},
   "outputs": [],
   "source": [
    "df = pandas_gbq.read_gbq(QUERY,credentials=credentials)"
   ]
  },
  {
   "cell_type": "code",
   "execution_count": null,
   "metadata": {},
   "outputs": [],
   "source": [
    "df"
   ]
  },
  {
   "cell_type": "code",
   "execution_count": null,
   "metadata": {},
   "outputs": [],
   "source": [
    "from sqllineage.runner import LineageRunner\n",
    "#from lineagex.lineagex import lineagex"
   ]
  },
  {
   "cell_type": "code",
   "execution_count": null,
   "metadata": {},
   "outputs": [],
   "source": [
    "sql =   \"\"\"\n",
    "        WITH\n",
    "        TripTypeID AS (\n",
    "            SELECT\n",
    "                t1.ride_id,\n",
    "                CASE\n",
    "                    WHEN t2.trip_no = t1.trip_no THEN t2.trip_type\n",
    "                    ELSE NULL\n",
    "                END AS trip_type_id,\n",
    "            FROM\n",
    "                `elife-data-warehouse-prod.ods.ride_dispatch` AS t1\n",
    "                JOIN `elife-data-warehouse-prod.ods.ride_trip` AS t2 ON t1.ride_id = t2.ride_id\n",
    "        ),\n",
    "        TripType AS (\n",
    "            SELECT\n",
    "                t1.ride_id,\n",
    "                t1.trip_type_id,\n",
    "                t2.name AS trip_type,\n",
    "            FROM\n",
    "                TripTypeID AS t1\n",
    "                LEFT JOIN `elife-data-warehouse-prod.ods.ride_enum AS` t2 ON t1.trip_type_id = t2.id\n",
    "        ),\n",
    "        RideStatus AS (\n",
    "            SELECT\n",
    "                t1.id AS ride_id,\n",
    "                t1.stat AS ride_status_id,\n",
    "                t2.name AS ride_status,\n",
    "            FROM\n",
    "                `elife-data-warehouse-prod.ods.ride_ride` AS t1\n",
    "                LEFT JOIN `elife-data-warehouse-prod.ods.ride_enum` AS t2 ON t1.stat = t2.id\n",
    "        ),\n",
    "        PartnerID AS (\n",
    "            SELECT\n",
    "                t1.id AS ride_id,\n",
    "                CASE\n",
    "                    WHEN t2.id = t1.partner_tran_id THEN t2.partner_id\n",
    "                    ELSE NULL\n",
    "                END AS partner_id,\n",
    "            FROM\n",
    "                `elife-data-warehouse-prod.ods.ride_ride` AS t1\n",
    "                LEFT JOIN `elife-data-warehouse-prod.ods.ride_partner_tran` AS t2 ON t1.partner_tran_id = t2.id\n",
    "        ),\n",
    "        Partner AS (\n",
    "            SELECT\n",
    "                t1.ride_id,\n",
    "                t1.partner_id,\n",
    "                t2.name AS partner,\n",
    "            FROM\n",
    "                PartnerID AS t1\n",
    "                LEFT JOIN `elife-data-warehouse-prod.ods.ride_partner` AS t2 ON t1.partner_id = t2.id\n",
    "        ),\n",
    "        FromPlace AS (\n",
    "            SELECT\n",
    "                t1.id AS ride_id,\n",
    "                t1.from_place_id as start_place_id,\n",
    "                t2.name AS start_place,\n",
    "                t2.lng AS longt,\n",
    "                t2.lat AS latit,\n",
    "            FROM\n",
    "                `elife-data-warehouse-prod.ods.ride_ride` AS t1\n",
    "                LEFT JOIN `elife-data-warehouse-prod.dim.dim_place` AS t2 ON t1.from_place_id = t2.id\n",
    "        ),\n",
    "        ToPlace AS (\n",
    "            SELECT\n",
    "                t1.id AS ride_id,\n",
    "                t1.to_place_id as end_place_id,\n",
    "                t2.name AS end_place,\n",
    "                t2.lng AS longt,\n",
    "                t2.lat AS latit,\n",
    "            FROM\n",
    "                `elife-data-warehouse-prod.ods.ride_ride` AS t1\n",
    "                LEFT JOIN `elife-data-warehouse-prod.dim.dim_place` AS t2 ON t1.to_place_id = t2.id\n",
    "        ),\n",
    "        VehicleClass AS (\n",
    "            SELECT\n",
    "                t1.id AS ride_id,\n",
    "                t1.vehicle_class_id as vehicle_class_id,\n",
    "                t2.name AS vehicle_class,\n",
    "            FROM\n",
    "                `elife-data-warehouse-prod.ods.ride_ride` AS t1\n",
    "                LEFT JOIN `elife-data-warehouse-prod.ods.ride_vehicle_class` AS t2 ON t1.vehicle_class_id = t2.id\n",
    "        ),\n",
    "        PricingTraining AS (SELECT t0.id       AS ride_id,\n",
    "                                   t1.id       AS dispatch_id,\n",
    "                                   t2.trip_type_id,\n",
    "                                   t2.trip_type,\n",
    "                                   t1.trip_no,\n",
    "                                   t3.ride_status_id,\n",
    "                                   t3.ride_status,\n",
    "                                   t4.partner_id,\n",
    "                                   t4.partner,\n",
    "                                   t0.from_time_str,\n",
    "                                   t0.from_timezone_str,\n",
    "                                   t0.to_time_str,\n",
    "                                   t0.to_timezone_str,\n",
    "                                   t5.start_place_id,\n",
    "                                   t5.start_place,\n",
    "                                   t5.longt    AS start_longt,\n",
    "                                   t5.latit    AS start_latit,\n",
    "                                   t6.end_place_id,\n",
    "                                   t6.end_place,\n",
    "                                   t6.longt    AS end_longt,\n",
    "                                   t6.latit    AS end_latit,\n",
    "                                   t0.distance,\n",
    "                                   t0.duration,\n",
    "                                   t7.vehicle_class_id,\n",
    "                                   t7.vehicle_class,\n",
    "                                   t0.passenger_count,\n",
    "                                   t0.luggage_count,\n",
    "                                   t0.trip_count,\n",
    "                                   t0.children_count,\n",
    "                                   t0.infant_count,\n",
    "                                   t1.amount   as dispatch_amount,\n",
    "                                   t1.currency as dispatch_currency,\n",
    "\n",
    "                            FROM `elife-data-warehouse-prod.ods.ride_ride` AS t0\n",
    "                                     JOIN `elife-data-warehouse-prod.ods.ride_dispatch` AS t1 ON t0.id = t1.ride_id\n",
    "                                     LEFT JOIN TripType AS t2 ON t0.id = t2.ride_id\n",
    "                                     LEFT JOIN RideStatus AS t3 ON t0.id = t3.ride_id\n",
    "                                     LEFT JOIN Partner AS t4 ON t0.id = t4.ride_id\n",
    "                                     LEFT JOIN FromPlace AS t5 ON t0.id = t5.ride_id\n",
    "                                     LEFT JOIN ToPlace AS t6 ON t0.id = t6.ride_id\n",
    "                                     LEFT JOIN VehicleClass AS t7 ON t0.id = t7.ride_id\n",
    "                            WHERE from_time_str > '2024-01-01'\n",
    "        )\n",
    "\n",
    "        SELECT\n",
    "            t.ride_id,\n",
    "            t.dispatch_id,\n",
    "            t.trip_type,\n",
    "            t.trip_no,\n",
    "            t.ride_status,\n",
    "            t.partner,\n",
    "            t.from_time_str,\n",
    "            t.from_timezone_str,\n",
    "            t.to_time_str,\n",
    "            t.to_timezone_str,\n",
    "            t.start_place,\n",
    "            t.start_latit,\n",
    "            t.start_longt,\n",
    "            t.end_place,\n",
    "            t.end_latit,\n",
    "            t.end_longt,\n",
    "            t.distance,\n",
    "            t.duration,\n",
    "            t.vehicle_class,\n",
    "            t.passenger_count,\n",
    "            t.luggage_count,\n",
    "            t.trip_count,\n",
    "            t.children_count,\n",
    "            t.infant_count,\n",
    "            t.dispatch_amount,\n",
    "            t.dispatch_currency,\n",
    "\n",
    "        FROM\n",
    "            PricingTraining AS t\n",
    "        WHERE\n",
    "            from_time_str > '2024-01-01'\n",
    "        LIMIT\n",
    "            200\n",
    "        \"\"\" "
   ]
  },
  {
   "cell_type": "code",
   "execution_count": null,
   "metadata": {},
   "outputs": [],
   "source": [
    "# result = LineageRunner(\"../data/pricing_training_bigquery.sql\", dialect=\"bigquery\")\n",
    "result = LineageRunner(sql, dialect=\"bigquery\")\n",
    "#from lineagex.example import example\n",
    "#example(\"dependency_example\")\n",
    "#lineagex(sql=\"../data/pricing_training_bigquery.sql\", target_schema=\"schema1\", search_path_schema=\"schema1, public\")"
   ]
  },
  {
   "cell_type": "code",
   "execution_count": null,
   "metadata": {},
   "outputs": [],
   "source": [
    "print(result)"
   ]
  },
  {
   "cell_type": "code",
   "execution_count": null,
   "metadata": {},
   "outputs": [],
   "source": [
    "import numpy as np\n",
    "import pandas as pd\n",
    "import requests\n",
    "import xml.etree.ElementTree as ET\n",
    "from tqdm import tqdm\n",
    "import plotly.express as px\n",
    "from datetime import timedelta\n",
    "\n"
   ]
  },
  {
   "cell_type": "code",
   "execution_count": null,
   "metadata": {},
   "outputs": [],
   "source": [
    "from geopy.distance import geodesic as GD\n",
    "import haversine as hs\n",
    "from haversine import Unit"
   ]
  },
  {
   "cell_type": "code",
   "execution_count": null,
   "metadata": {},
   "outputs": [],
   "source": [
    "df.loc[:,['start_latit','start_longt','end_latit','end_longt']]\n",
    "df.columns"
   ]
  },
  {
   "cell_type": "code",
   "execution_count": null,
   "metadata": {},
   "outputs": [],
   "source": [
    "df['haversine_distance'] = df.apply(lambda x: hs.haversine((x['start_latit'],x['start_longt']),(x['end_latit'],x['end_longt']), unit=Unit.KILOMETERS), axis=1)\n",
    "df['geodesic_distance'] = df.apply(lambda x: GD((x['start_latit'],x['start_longt']),(x['end_latit'],x['end_longt'])).km, axis=1)"
   ]
  },
  {
   "cell_type": "code",
   "execution_count": null,
   "metadata": {},
   "outputs": [],
   "source": [
    "df.loc[:,['distance','haversine_distance','geodesic_distance','ride_status','trip_type','vehicle_class','partner']]\n"
   ]
  },
  {
   "cell_type": "code",
   "execution_count": null,
   "metadata": {},
   "outputs": [],
   "source": []
  },
  {
   "cell_type": "code",
   "execution_count": null,
   "metadata": {},
   "outputs": [],
   "source": [
    "df_trips = df.loc[:,['start_latit','start_longt','end_latit','end_longt', 'distance', 'duration', 'geodesic_distance', 'dispatch_amount', 'dispatch_currency', 'from_timezone_str']]\n",
    "df_trips['saved_distance'] = df['distance']/1000.0\n",
    "df_trips"
   ]
  },
  {
   "cell_type": "code",
   "execution_count": null,
   "metadata": {},
   "outputs": [],
   "source": [
    "source = df_trips.loc[:,['start_latit','start_longt']]\n",
    "destin = df_trips.loc[:,['end_latit','end_longt']]\n",
    "source.loc[0]"
   ]
  },
  {
   "cell_type": "code",
   "execution_count": null,
   "metadata": {},
   "outputs": [],
   "source": [
    "source.loc[0,'start_latit']"
   ]
  },
  {
   "cell_type": "code",
   "execution_count": null,
   "metadata": {},
   "outputs": [],
   "source": [
    "start = f\"{df_trips.loc[0,'start_longt']},{df_trips.loc[0,'start_latit']}\"\n",
    "end = f\"{df_trips.loc[0,'end_longt']},{df_trips.loc[0,'end_latit']}\"\n",
    "start\n",
    "end"
   ]
  },
  {
   "cell_type": "code",
   "execution_count": null,
   "metadata": {},
   "outputs": [],
   "source": [
    "url = f'http://router.project-osrm.org/route/v1/driving/{start};{end}?alternatives=false&annotations=nodes'\n",
    "\n",
    "headers = { 'Content-type': 'application/json'}\n",
    "r = requests.get(url, headers = headers)\n",
    "print(\"Calling API ...:\", r.status_code) # Status Code 200 is success\n"
   ]
  },
  {
   "cell_type": "code",
   "execution_count": null,
   "metadata": {},
   "outputs": [],
   "source": [
    "\n",
    "routejson = r.json()\n",
    "route_nodes = routejson['routes'][0]['legs'][0]['annotation']['nodes']\n",
    "route_distance = routejson[\"routes\"][0][\"distance\"]\n",
    "route_duration = routejson[\"routes\"][0][\"duration\"]\n"
   ]
  },
  {
   "cell_type": "code",
   "execution_count": null,
   "metadata": {},
   "outputs": [],
   "source": [
    "td = timedelta(seconds=route_duration)\n",
    "td\n",
    "route_duration"
   ]
  },
  {
   "cell_type": "code",
   "execution_count": null,
   "metadata": {},
   "outputs": [],
   "source": []
  },
  {
   "cell_type": "code",
   "execution_count": null,
   "metadata": {},
   "outputs": [],
   "source": [
    "\n",
    "f\"{str(td)}\"\n"
   ]
  },
  {
   "cell_type": "code",
   "execution_count": null,
   "metadata": {},
   "outputs": [],
   "source": [
    "len(df)"
   ]
  },
  {
   "cell_type": "code",
   "execution_count": null,
   "metadata": {},
   "outputs": [],
   "source": [
    "df_trips.loc[:, ['route_distance', 'route_duration','saved_duration']] = np.zeros(shape=(len(df),3))\n",
    "df_trips['route_duration'] = df_trips['route_duration'].astype('object')\n",
    "df_trips['saved_duration'] = df_trips['saved_duration'].astype('object') \n",
    "df_trips\n",
    "df_trips.dtypes"
   ]
  },
  {
   "cell_type": "code",
   "execution_count": null,
   "metadata": {},
   "outputs": [],
   "source": [
    "\n",
    "#td = timedelta(seconds=route_duration)\n",
    "df.loc[0,'duration']\n",
    "td = timedelta(seconds=float(df.loc[0,'duration']))\n",
    "str(td)\n"
   ]
  },
  {
   "cell_type": "code",
   "execution_count": null,
   "metadata": {},
   "outputs": [],
   "source": [
    "df_trips.loc[0,'start_longt']\n",
    "df_trips.loc[0,'duration']\n",
    "df_trips.head()"
   ]
  },
  {
   "cell_type": "code",
   "execution_count": null,
   "metadata": {},
   "outputs": [],
   "source": [
    "from tqdm import tqdm\n",
    "for i in tqdm(range(0, len(df_trips))):\n",
    "    start = f\"{float(df_trips.loc[i,'start_longt'])},{float(df_trips.loc[i,'start_latit'])}\"\n",
    "    end   = f\"{float(df_trips.loc[i,'end_longt'])},{float(df_trips.loc[i,'end_latit'])}\"\n",
    "    url = f'http://router.project-osrm.org/route/v1/driving/{start};{end}?alternatives=false&annotations=nodes'\n",
    "    headers = { 'Content-type': 'application/json'}\n",
    "    try:\n",
    "        r = requests.get(url, headers = headers)\n",
    "    except requests.exceptions.RequestException as e:\n",
    "        df_trips.loc[i,'route_distance'] = -100.0\n",
    "        df_trips.loc[i,'route_duration'] = 'N/A' \n",
    "        df_trips.loc[i,'saved_duration'] = 'N/A'\n",
    "        continue\n",
    "        \n",
    "    # print(\"Calling API ...:\", r.status_code) # Status Code 200 is success\n",
    "    routejson = r.json()\n",
    "    route_dist = routejson[\"routes\"][0][\"distance\"]\n",
    "    route_dura = routejson[\"routes\"][0][\"duration\"]\n",
    "    df_trips.loc[i,'route_distance'] = route_dist/1000\n",
    "    df_trips.loc[i,'route_duration'] = str(timedelta(seconds=route_dura))\n",
    "    df_trips.loc[i,'saved_duration'] = str(timedelta(seconds=float(df_trips.loc[i,'duration'])))\n",
    "    \n",
    "#df['route_distance'] = df.apply(lambda x: get_route_distance((x['start_latit'],x['start_longt']),(x['end_latit'],x['end_longt'])), axis=1)  # not working since it is not vectorized  (need to create UFUNC)\n"
   ]
  },
  {
   "cell_type": "code",
   "execution_count": null,
   "metadata": {},
   "outputs": [],
   "source": [
    "df_trips.loc[:,['distance','saved_duration','route_distance','route_duration']]"
   ]
  },
  {
   "cell_type": "code",
   "execution_count": null,
   "metadata": {},
   "outputs": [],
   "source": [
    "df['route_duration'] = df_trips['route_duration']\n",
    "df['route_distance'] = df_trips['route_distance']\n",
    "df['saved_duration'] = df_trips['saved_duration']\n",
    "df['saved_distance'] = df['distance']/1000.0\n",
    "\n"
   ]
  },
  {
   "cell_type": "code",
   "execution_count": null,
   "metadata": {},
   "outputs": [],
   "source": [
    "df_trips['saved_distance'] = df['saved_distance']\n",
    "df_trips"
   ]
  },
  {
   "cell_type": "code",
   "execution_count": null,
   "metadata": {},
   "outputs": [],
   "source": [
    "### keeping every third element in the node list to optimise time\n",
    "route_list = []\n",
    "for i in range(0, len(route_nodes)):\n",
    "    if i % 3==1:\n",
    "        route_list.append(route_nodes[i])\n",
    "\n",
    "coordinates = []\n",
    "\n",
    "for node in tqdm(route_list):\n",
    "    try:\n",
    "        url = 'https://api.openstreetmap.org/api/0.6/node/' + str(node)\n",
    "        r = requests.get(url, headers = headers)\n",
    "        myroot = ET.fromstring(r.text)\n",
    "        for child in myroot:\n",
    "            lat, long = child.attrib['lat'], child.attrib['lon']\n",
    "        coordinates.append((lat, long))\n",
    "    except:\n",
    "        continue\n",
    "print(coordinates[:10])"
   ]
  },
  {
   "cell_type": "code",
   "execution_count": null,
   "metadata": {},
   "outputs": [],
   "source": [
    "df_out = pd.DataFrame({'Node': np.arange(len(coordinates))})\n",
    "df_out['coordinates'] = coordinates\n",
    "df_out[['lat', 'long']] = pd.DataFrame(df_out['coordinates'].tolist())"
   ]
  },
  {
   "cell_type": "code",
   "execution_count": null,
   "metadata": {},
   "outputs": [],
   "source": [
    "\n",
    "# Converting Latitude and Longitude into float\n",
    "df_out['lat'] = df_out['lat'].astype(float)\n",
    "df_out['long'] = df_out['long'].astype(float)\n",
    "\n",
    "# Plotting the coordinates on map\n",
    "color_scale = [(0, 'red'), (1,'green')]\n",
    "fig = px.scatter_mapbox(df_out, \n",
    "                        lat=\"lat\", \n",
    "                        lon=\"long\", \n",
    "                        zoom=8, \n",
    "                        height=600,\n",
    "                        width=900)\n",
    "\n",
    "\n",
    "fig.update_layout(mapbox_style=\"open-street-map\",margin={\"r\":0,\"t\":0,\"l\":0,\"b\":0})"
   ]
  },
  {
   "cell_type": "code",
   "execution_count": null,
   "metadata": {},
   "outputs": [],
   "source": [
    "df.to_csv(\"../data/pricing_training_dataset_sample.csv\")\n",
    "df_trips.to_csv(\"../data/pricing_training_dataset_trip_sample.csv\")"
   ]
  }
 ],
 "metadata": {
  "kernelspec": {
   "display_name": "python3",
   "language": "python",
   "name": "python3"
  }
 },
 "nbformat": 4,
 "nbformat_minor": 4
}
