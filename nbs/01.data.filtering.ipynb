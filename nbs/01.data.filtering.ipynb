{
 "cells": [
  {
   "cell_type": "markdown",
   "metadata": {},
   "source": [
    "# filtering\n",
    "> raw data filtering based on date and location (service area, workdays, excluding festivals, rush hours, weekends),\n",
    "> currency,\n",
    "> thresholding inliers by distance(?)/duration(?)  "
   ]
  },
  {
   "cell_type": "code",
   "execution_count": null,
   "metadata": {},
   "outputs": [],
   "source": [
    "#| default_exp filtering"
   ]
  },
  {
   "cell_type": "code",
   "execution_count": null,
   "metadata": {},
   "outputs": [],
   "source": [
    "#| hide\n",
    "from nbdev.showdoc import *"
   ]
  },
  {
   "cell_type": "code",
   "execution_count": null,
   "metadata": {},
   "outputs": [],
   "source": [
    "#| hide\n",
    "import nbdev; nbdev.nbdev_export()"
   ]
  },
  {
   "cell_type": "code",
   "execution_count": null,
   "metadata": {},
   "outputs": [],
   "source": [
    "#| hide\n",
    "from IPython.core.interactiveshell import InteractiveShell\n",
    "InteractiveShell.ast_node_interactivity = \"all\""
   ]
  },
  {
   "cell_type": "code",
   "execution_count": null,
   "metadata": {},
   "outputs": [],
   "source": [
    "#| export\n",
    "import os\n",
    "import numpy as np\n",
    "import pandas as pd\n",
    "import requests\n",
    "import xml.etree.ElementTree as ET\n",
    "from tqdm import tqdm\n",
    "import plotly.express as px\n",
    "from datetime import timedelta\n",
    "from google.oauth2 import service_account\n",
    "from dotenv import load_dotenv\n",
    "import pandas_gbq\n"
   ]
  },
  {
   "cell_type": "code",
   "execution_count": null,
   "metadata": {},
   "outputs": [],
   "source": [
    "from geopy.distance import geodesic as GD\n",
    "import haversine as hs\n",
    "from haversine import Unit"
   ]
  },
  {
   "cell_type": "code",
   "execution_count": null,
   "metadata": {},
   "outputs": [],
   "source": [
    "from workalendar.usa import Florida, NewYork"
   ]
  },
  {
   "cell_type": "code",
   "execution_count": null,
   "metadata": {},
   "outputs": [],
   "source": [
    "from pricing.data.database import QUERY_PRICING_TRAINING, get_dataframe_from_sql"
   ]
  },
  {
   "cell_type": "code",
   "execution_count": null,
   "metadata": {},
   "outputs": [],
   "source": [
    "load_dotenv(\"../.env\")\n",
    "key = os.getenv('GC_QUOTE_API_CREDENTIALS')"
   ]
  },
  {
   "cell_type": "code",
   "execution_count": null,
   "metadata": {},
   "outputs": [],
   "source": [
    "\n",
    "credential = service_account.Credentials.from_service_account_file(\"../\" + key)\n"
   ]
  },
  {
   "cell_type": "code",
   "execution_count": null,
   "metadata": {},
   "outputs": [],
   "source": [
    "cal_orlando = Florida()\n",
    "cal_orlando.holidays(2024)"
   ]
  },
  {
   "cell_type": "code",
   "execution_count": null,
   "metadata": {},
   "outputs": [],
   "source": [
    "cal_newyork = NewYork()\n",
    "cal_newyork.holidays(2024)"
   ]
  },
  {
   "cell_type": "code",
   "execution_count": null,
   "metadata": {},
   "outputs": [],
   "source": [
    "from workalendar.asia import China\n",
    "cal_shanghai = China()\n",
    "cal_shanghai.holidays(2023)"
   ]
  },
  {
   "cell_type": "code",
   "execution_count": null,
   "metadata": {},
   "outputs": [],
   "source": [
    "import holidays"
   ]
  },
  {
   "cell_type": "code",
   "execution_count": null,
   "metadata": {},
   "outputs": [],
   "source": [
    "cn_holidays = holidays.China()\n",
    "cn_holidays"
   ]
  },
  {
   "cell_type": "code",
   "execution_count": null,
   "metadata": {},
   "outputs": [],
   "source": [
    "\n",
    "df = get_dataframe_from_sql(credential=credential,query=QUERY_PRICING_TRAINING)\n",
    "# df = pandas_gbq.read_gbq(\n",
    "#     QUERY_PRICING_TRAINING,credential\n",
    "# )"
   ]
  },
  {
   "cell_type": "code",
   "execution_count": null,
   "metadata": {},
   "outputs": [],
   "source": [
    "df"
   ]
  },
  {
   "cell_type": "code",
   "execution_count": null,
   "metadata": {},
   "outputs": [],
   "source": [
    "df.loc[:,['start_latit','start_longt','end_latit','end_longt']]\n",
    "df.columns"
   ]
  },
  {
   "cell_type": "code",
   "execution_count": null,
   "metadata": {},
   "outputs": [],
   "source": [
    "df['haversine_distance'] = df.apply(lambda x: hs.haversine((x['start_latit'],x['start_longt']),(x['end_latit'],x['end_longt']), unit=Unit.KILOMETERS), axis=1)\n",
    "df['geodesic_distance'] = df.apply(lambda x: GD((x['start_latit'],x['start_longt']),(x['end_latit'],x['end_longt'])).km, axis=1)"
   ]
  },
  {
   "cell_type": "code",
   "execution_count": null,
   "metadata": {},
   "outputs": [],
   "source": [
    "df.loc[:,['distance','haversine_distance','geodesic_distance','ride_status','trip_type','vehicle_class','partner']]\n"
   ]
  },
  {
   "cell_type": "code",
   "execution_count": null,
   "metadata": {},
   "outputs": [],
   "source": []
  },
  {
   "cell_type": "code",
   "execution_count": null,
   "metadata": {},
   "outputs": [],
   "source": [
    "df_trips = df.loc[:,['start_latit','start_longt','end_latit','end_longt', 'distance', 'duration', 'geodesic_distance', 'dispatch_amount', 'dispatch_currency', 'from_timezone_str']]\n",
    "df_trips['saved_distance'] = df['distance']/1000.0\n",
    "df_trips"
   ]
  },
  {
   "cell_type": "code",
   "execution_count": null,
   "metadata": {},
   "outputs": [],
   "source": [
    "source = df_trips.loc[:,['start_latit','start_longt']]\n",
    "destin = df_trips.loc[:,['end_latit','end_longt']]\n",
    "source.loc[0]"
   ]
  },
  {
   "cell_type": "code",
   "execution_count": null,
   "metadata": {},
   "outputs": [],
   "source": [
    "source.loc[0,'start_latit']"
   ]
  },
  {
   "cell_type": "code",
   "execution_count": null,
   "metadata": {},
   "outputs": [],
   "source": [
    "start = f\"{df_trips.loc[0,'start_longt']},{df_trips.loc[0,'start_latit']}\"\n",
    "end = f\"{df_trips.loc[0,'end_longt']},{df_trips.loc[0,'end_latit']}\"\n",
    "start\n",
    "end"
   ]
  },
  {
   "cell_type": "code",
   "execution_count": null,
   "metadata": {},
   "outputs": [],
   "source": [
    "url = f'http://router.project-osrm.org/route/v1/driving/{start};{end}?alternatives=false&annotations=nodes'\n",
    "\n",
    "headers = { 'Content-type': 'application/json'}\n",
    "r = requests.get(url, headers = headers)\n",
    "print(\"Calling API ...:\", r.status_code) # Status Code 200 is success"
   ]
  },
  {
   "cell_type": "code",
   "execution_count": null,
   "metadata": {},
   "outputs": [],
   "source": [
    "routejson = r.json()\n",
    "route_nodes = routejson['routes'][0]['legs'][0]['annotation']['nodes']\n",
    "route_distance = routejson[\"routes\"][0][\"distance\"]\n",
    "route_duration = routejson[\"routes\"][0][\"duration\"]"
   ]
  },
  {
   "cell_type": "code",
   "execution_count": null,
   "metadata": {},
   "outputs": [],
   "source": [
    "td = timedelta(seconds=route_duration)\n",
    "td\n",
    "str(td)\n",
    "route_duration"
   ]
  },
  {
   "cell_type": "code",
   "execution_count": null,
   "metadata": {},
   "outputs": [],
   "source": [
    "\n",
    "f\"{str(td)}\"\n"
   ]
  },
  {
   "cell_type": "code",
   "execution_count": null,
   "metadata": {},
   "outputs": [],
   "source": [
    "len(df)"
   ]
  },
  {
   "cell_type": "code",
   "execution_count": null,
   "metadata": {},
   "outputs": [],
   "source": [
    "df_trips.loc[:, ['route_distance', 'route_duration','saved_duration']] = np.zeros(shape=(len(df),3))\n",
    "df_trips['route_duration'] = df_trips['route_duration'].astype('object')\n",
    "df_trips['saved_duration'] = df_trips['saved_duration'].astype('object') \n",
    "df_trips\n",
    "df_trips.dtypes"
   ]
  },
  {
   "cell_type": "code",
   "execution_count": null,
   "metadata": {},
   "outputs": [],
   "source": [
    "\n",
    "#td = timedelta(seconds=route_duration)\n",
    "df.loc[0,'duration']\n",
    "td = timedelta(seconds=float(df.loc[0,'duration']))\n",
    "str(td)\n"
   ]
  },
  {
   "cell_type": "markdown",
   "metadata": {},
   "source": []
  },
  {
   "cell_type": "code",
   "execution_count": null,
   "metadata": {},
   "outputs": [],
   "source": [
    "df_trips.loc[0,'start_longt']\n",
    "df_trips.loc[0,'duration']\n",
    "df_trips"
   ]
  },
  {
   "cell_type": "code",
   "execution_count": null,
   "metadata": {},
   "outputs": [],
   "source": [
    "from tqdm import tqdm\n",
    "for i in tqdm(range(0, len(df_trips))):\n",
    "    start = f\"{float(df_trips.loc[i,'start_longt'])},{float(df_trips.loc[i,'start_latit'])}\"\n",
    "    end   = f\"{float(df_trips.loc[i,'end_longt'])},{float(df_trips.loc[i,'end_latit'])}\"\n",
    "    url = f'http://router.project-osrm.org/route/v1/driving/{start};{end}?alternatives=false&annotations=nodes'\n",
    "    headers = { 'Content-type': 'application/json'}\n",
    "    try:\n",
    "        r = requests.get(url, headers = headers)\n",
    "    except requests.exceptions.RequestException as e:\n",
    "        df_trips.loc[i,'route_distance'] = -100.0\n",
    "        df_trips.loc[i,'route_duration'] = 'N/A' \n",
    "        df_trips.loc[i,'saved_duration'] = 'N/A'\n",
    "        continue\n",
    "        \n",
    "    # print(\"Calling API ...:\", r.status_code) # Status Code 200 is success\n",
    "    routejson = r.json()\n",
    "    route_dist = routejson[\"routes\"][0][\"distance\"]\n",
    "    route_dura = routejson[\"routes\"][0][\"duration\"]\n",
    "    df_trips.loc[i,'route_distance'] = route_dist/1000\n",
    "    df_trips.loc[i,'route_duration'] = str(timedelta(seconds=route_dura))\n",
    "    df_trips.loc[i,'saved_duration'] = str(timedelta(seconds=float(df_trips.loc[i,'duration'])))\n",
    "    \n",
    "#df['route_distance'] = df.apply(lambda x: get_route_distance((x['start_latit'],x['start_longt']),(x['end_latit'],x['end_longt'])), axis=1)  # not working since it is not vectorized  (need to create UFUNC)\n"
   ]
  },
  {
   "cell_type": "code",
   "execution_count": null,
   "metadata": {},
   "outputs": [],
   "source": [
    "df_trips.loc[:,['distance','saved_duration','route_distance','route_duration']]"
   ]
  },
  {
   "cell_type": "code",
   "execution_count": null,
   "metadata": {},
   "outputs": [],
   "source": [
    "df['route_duration'] = df_trips['route_duration']\n",
    "df['route_distance'] = df_trips['route_distance']\n",
    "df['saved_duration'] = df_trips['saved_duration']\n",
    "df['saved_distance'] = df['distance']/1000.0\n",
    "\n"
   ]
  },
  {
   "cell_type": "code",
   "execution_count": null,
   "metadata": {},
   "outputs": [],
   "source": [
    "df_trips['saved_distance'] = df['saved_distance']\n",
    "df_trips"
   ]
  },
  {
   "cell_type": "code",
   "execution_count": null,
   "metadata": {
    "jupyter": {
     "is_executing": true
    }
   },
   "outputs": [],
   "source": [
    "### keeping every third element in the node list to optimise time\n",
    "route_list = []\n",
    "for i in range(0, len(route_nodes)):\n",
    "    if i % 3==1:\n",
    "        route_list.append(route_nodes[i])\n",
    "\n",
    "coordinates = []\n",
    "\n",
    "for node in tqdm(route_list):\n",
    "    try:\n",
    "        url = 'https://api.openstreetmap.org/api/0.6/node/' + str(node)\n",
    "        r = requests.get(url, headers = headers)\n",
    "        myroot = ET.fromstring(r.text)\n",
    "        for child in myroot:\n",
    "            lat, long = child.attrib['lat'], child.attrib['lon']\n",
    "        coordinates.append((lat, long))\n",
    "    except:\n",
    "        continue\n",
    "print(coordinates[:10])"
   ]
  },
  {
   "cell_type": "code",
   "execution_count": null,
   "metadata": {},
   "outputs": [],
   "source": [
    "df_out = pd.DataFrame({'Node': np.arange(len(coordinates))})\n",
    "df_out['coordinates'] = coordinates\n",
    "df_out[['lat', 'long']] = pd.DataFrame(df_out['coordinates'].tolist())"
   ]
  },
  {
   "cell_type": "code",
   "execution_count": null,
   "metadata": {},
   "outputs": [],
   "source": [
    "# Converting Latitude and Longitude into float\n",
    "df_out['lat'] = df_out['lat'].astype(float)\n",
    "df_out['long'] = df_out['long'].astype(float)\n",
    "\n",
    "# Plotting the coordinates on map\n",
    "color_scale = [(0, 'red'), (1,'green')]\n",
    "fig = px.scatter_mapbox(df_out, \n",
    "                        lat=\"lat\", \n",
    "                        lon=\"long\", \n",
    "                        zoom=8, \n",
    "                        height=600,\n",
    "                        width=900)\n",
    "\n",
    "\n",
    "fig.update_layout(mapbox_style=\"open-street-map\",margin={\"r\":0,\"t\":0,\"l\":0,\"b\":0})"
   ]
  },
  {
   "cell_type": "code",
   "execution_count": null,
   "metadata": {},
   "outputs": [],
   "source": [
    "df.to_csv(\"../data/pricing_training_dataset_sample1.csv\")\n",
    "df_trips.to_csv(\"../data/pricing_training_dataset_trip_sample1.csv\")"
   ]
  },
  {
   "cell_type": "code",
   "execution_count": null,
   "metadata": {},
   "outputs": [],
   "source": [
    "#| hide\n",
    "import nbdev; nbdev.nbdev_export()"
   ]
  }
 ],
 "metadata": {
  "kernelspec": {
   "display_name": "python3",
   "language": "python",
   "name": "python3"
  }
 },
 "nbformat": 4,
 "nbformat_minor": 4
}
