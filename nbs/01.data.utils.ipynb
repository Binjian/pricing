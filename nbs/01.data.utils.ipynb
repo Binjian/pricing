{
 "cells": [
  {
   "metadata": {},
   "cell_type": "markdown",
   "source": [
    "# core data utilities\n",
    "\n",
    "> core utilities for data processing: \n",
    "> datetime processing, time zone processing, validity, filtering"
   ]
  },
  {
   "cell_type": "code",
   "metadata": {
    "ExecuteTime": {
     "end_time": "2024-09-17T06:19:12.624688Z",
     "start_time": "2024-09-17T06:19:12.622302Z"
    }
   },
   "source": "#| default_exp data.utils",
   "outputs": [],
   "execution_count": 2
  },
  {
   "cell_type": "code",
   "metadata": {
    "ExecuteTime": {
     "end_time": "2024-09-17T06:19:12.663779Z",
     "start_time": "2024-09-17T06:19:12.646423Z"
    }
   },
   "source": [
    "#| hide\n",
    "from nbdev.showdoc import *"
   ],
   "outputs": [],
   "execution_count": 3
  },
  {
   "metadata": {
    "ExecuteTime": {
     "end_time": "2024-09-17T06:19:12.696326Z",
     "start_time": "2024-09-17T06:19:12.694463Z"
    }
   },
   "cell_type": "code",
   "source": [
    "#| hide\n",
    "from IPython.core.interactiveshell import InteractiveShell\n",
    "InteractiveShell.ast_node_interactivity = \"all\""
   ],
   "outputs": [],
   "execution_count": 4
  },
  {
   "metadata": {
    "ExecuteTime": {
     "end_time": "2024-09-17T06:19:12.964040Z",
     "start_time": "2024-09-17T06:19:12.746883Z"
    }
   },
   "cell_type": "code",
   "source": [
    "#| export\n",
    "from datetime import datetime\n",
    "import pandas as pd\n",
    "import pytz"
   ],
   "outputs": [],
   "execution_count": 5
  },
  {
   "metadata": {
    "ExecuteTime": {
     "end_time": "2024-09-17T06:19:12.970940Z",
     "start_time": "2024-09-17T06:19:12.969115Z"
    }
   },
   "cell_type": "code",
   "source": [
    "#| export\n",
    "pd.options.mode.chained_assignment = None"
   ],
   "outputs": [],
   "execution_count": 6
  },
  {
   "metadata": {
    "ExecuteTime": {
     "end_time": "2024-09-17T06:19:13.021662Z",
     "start_time": "2024-09-17T06:19:13.017026Z"
    }
   },
   "cell_type": "code",
   "source": [
    "#| export\n",
    "def validate_datetime(date_string, format_string):\n",
    "    \"\"\"\n",
    "    Validates if a string is a valid datetime according to the given format.\n",
    "    \"\"\"\n",
    "\n",
    "    try:\n",
    "        datetime.strptime(date_string, format_string)\n",
    "        return True\n",
    "    except ValueError:\n",
    "        return False\n",
    "    \n",
    "def validate_datetime_in_iso_format(date_text):\n",
    "        try:\n",
    "            datetime.fromisoformat(date_text)\n",
    "            return True\n",
    "        except ValueError:\n",
    "            # raise ValueError(\"Incorrect data format, should be YYYY-MM-DD\")\n",
    "            return False\n"
   ],
   "outputs": [],
   "execution_count": 7
  },
  {
   "metadata": {
    "ExecuteTime": {
     "end_time": "2024-09-17T06:26:40.074642Z",
     "start_time": "2024-09-17T06:26:40.071310Z"
    }
   },
   "cell_type": "code",
   "source": [
    "# Example usage\n",
    "date_strings = [\n",
    "    \"2023-12-25 24:00:00\",\n",
    "    \"2023-12-25 12:60:00.12\",\n",
    "    \"2023-12-25 12:10:00\",\n",
    "    \"2023-12-25 23:00:00\",\n",
    "    \"2011-11-04\",\n",
    "    \"20111104\",\n",
    "    \"2011-11-04T00:05:23\",\n",
    "    \"2011-11-04T00:05:23.283185\",\n",
    "    \"20111104T000523\",\n",
    "    \"20111104T000523.283185\",\n",
    "    \"2011-11-04T00:05:23Z\",\n",
    "    \"2011-11-04T00:05:23.283185+08:00\",\n",
    "    \"2011-11-04T00:05:23+08:00\",\n",
    "    ]\n",
    "format_string = \"%Y-%m-%d\"\n",
    "\n",
    "for s in date_strings:\n",
    "    if validate_datetime_in_iso_format(s):\n",
    "        print(f\"{s} is Valid datetime string\")\n",
    "    else:\n",
    "        print(f\"{s} is Invalid datetime string\")"
   ],
   "outputs": [
    {
     "name": "stdout",
     "output_type": "stream",
     "text": [
      "2023-12-25 24:00:00 is Invalid datetime string\n",
      "2023-12-25 12:60:00.12 is Invalid datetime string\n",
      "2023-12-25 12:10:00 is Valid datetime string\n",
      "2023-12-25 23:00:00 is Valid datetime string\n",
      "2011-11-04 is Valid datetime string\n",
      "20111104 is Valid datetime string\n",
      "2011-11-04T00:05:23 is Valid datetime string\n",
      "2011-11-04T00:05:23.283185 is Valid datetime string\n",
      "20111104T000523 is Valid datetime string\n",
      "20111104T000523.283185 is Valid datetime string\n",
      "2011-11-04T00:05:23Z is Valid datetime string\n",
      "2011-11-04T00:05:23.283185+08:00 is Valid datetime string\n",
      "2011-11-04T00:05:23+08:00 is Valid datetime string\n"
     ]
    }
   ],
   "execution_count": 28
  },
  {
   "metadata": {
    "ExecuteTime": {
     "end_time": "2024-09-17T06:27:32.003153Z",
     "start_time": "2024-09-17T06:27:31.996317Z"
    }
   },
   "cell_type": "code",
   "source": [
    "df_datetime_str = pd.DataFrame(date_strings)\n",
    "df_datetime_str.columns = ['datetime']\n",
    "# df_datetime_str\n",
    "df_datetime_str['validity'] = df_datetime_str.apply(lambda x: validate_datetime_in_iso_format(x.iloc[0]), axis=1)\n",
    "df_datetime_str\n"
   ],
   "outputs": [
    {
     "data": {
      "text/plain": [
       "                            datetime  validity\n",
       "0                2023-12-25 24:00:00     False\n",
       "1             2023-12-25 12:60:00.12     False\n",
       "2                2023-12-25 12:10:00      True\n",
       "3                2023-12-25 23:00:00      True\n",
       "4                         2011-11-04      True\n",
       "5                           20111104      True\n",
       "6                2011-11-04T00:05:23      True\n",
       "7         2011-11-04T00:05:23.283185      True\n",
       "8                    20111104T000523      True\n",
       "9             20111104T000523.283185      True\n",
       "10              2011-11-04T00:05:23Z      True\n",
       "11  2011-11-04T00:05:23.283185+08:00      True\n",
       "12         2011-11-04T00:05:23+08:00      True"
      ],
      "text/html": [
       "<div>\n",
       "<style scoped>\n",
       "    .dataframe tbody tr th:only-of-type {\n",
       "        vertical-align: middle;\n",
       "    }\n",
       "\n",
       "    .dataframe tbody tr th {\n",
       "        vertical-align: top;\n",
       "    }\n",
       "\n",
       "    .dataframe thead th {\n",
       "        text-align: right;\n",
       "    }\n",
       "</style>\n",
       "<table border=\"1\" class=\"dataframe\">\n",
       "  <thead>\n",
       "    <tr style=\"text-align: right;\">\n",
       "      <th></th>\n",
       "      <th>datetime</th>\n",
       "      <th>validity</th>\n",
       "    </tr>\n",
       "  </thead>\n",
       "  <tbody>\n",
       "    <tr>\n",
       "      <th>0</th>\n",
       "      <td>2023-12-25 24:00:00</td>\n",
       "      <td>False</td>\n",
       "    </tr>\n",
       "    <tr>\n",
       "      <th>1</th>\n",
       "      <td>2023-12-25 12:60:00.12</td>\n",
       "      <td>False</td>\n",
       "    </tr>\n",
       "    <tr>\n",
       "      <th>2</th>\n",
       "      <td>2023-12-25 12:10:00</td>\n",
       "      <td>True</td>\n",
       "    </tr>\n",
       "    <tr>\n",
       "      <th>3</th>\n",
       "      <td>2023-12-25 23:00:00</td>\n",
       "      <td>True</td>\n",
       "    </tr>\n",
       "    <tr>\n",
       "      <th>4</th>\n",
       "      <td>2011-11-04</td>\n",
       "      <td>True</td>\n",
       "    </tr>\n",
       "    <tr>\n",
       "      <th>5</th>\n",
       "      <td>20111104</td>\n",
       "      <td>True</td>\n",
       "    </tr>\n",
       "    <tr>\n",
       "      <th>6</th>\n",
       "      <td>2011-11-04T00:05:23</td>\n",
       "      <td>True</td>\n",
       "    </tr>\n",
       "    <tr>\n",
       "      <th>7</th>\n",
       "      <td>2011-11-04T00:05:23.283185</td>\n",
       "      <td>True</td>\n",
       "    </tr>\n",
       "    <tr>\n",
       "      <th>8</th>\n",
       "      <td>20111104T000523</td>\n",
       "      <td>True</td>\n",
       "    </tr>\n",
       "    <tr>\n",
       "      <th>9</th>\n",
       "      <td>20111104T000523.283185</td>\n",
       "      <td>True</td>\n",
       "    </tr>\n",
       "    <tr>\n",
       "      <th>10</th>\n",
       "      <td>2011-11-04T00:05:23Z</td>\n",
       "      <td>True</td>\n",
       "    </tr>\n",
       "    <tr>\n",
       "      <th>11</th>\n",
       "      <td>2011-11-04T00:05:23.283185+08:00</td>\n",
       "      <td>True</td>\n",
       "    </tr>\n",
       "    <tr>\n",
       "      <th>12</th>\n",
       "      <td>2011-11-04T00:05:23+08:00</td>\n",
       "      <td>True</td>\n",
       "    </tr>\n",
       "  </tbody>\n",
       "</table>\n",
       "</div>"
      ]
     },
     "execution_count": 30,
     "metadata": {},
     "output_type": "execute_result"
    }
   ],
   "execution_count": 30
  },
  {
   "metadata": {
    "ExecuteTime": {
     "end_time": "2024-09-17T06:27:35.613311Z",
     "start_time": "2024-09-17T06:27:35.607913Z"
    }
   },
   "cell_type": "code",
   "source": [
    "df_datetime = df_datetime_str[df_datetime_str.apply(lambda x: validate_datetime_in_iso_format(x.iloc[0]), axis=1)]\n",
    "df_datetime\n"
   ],
   "outputs": [
    {
     "data": {
      "text/plain": [
       "                            datetime  validity\n",
       "2                2023-12-25 12:10:00      True\n",
       "3                2023-12-25 23:00:00      True\n",
       "4                         2011-11-04      True\n",
       "5                           20111104      True\n",
       "6                2011-11-04T00:05:23      True\n",
       "7         2011-11-04T00:05:23.283185      True\n",
       "8                    20111104T000523      True\n",
       "9             20111104T000523.283185      True\n",
       "10              2011-11-04T00:05:23Z      True\n",
       "11  2011-11-04T00:05:23.283185+08:00      True\n",
       "12         2011-11-04T00:05:23+08:00      True"
      ],
      "text/html": [
       "<div>\n",
       "<style scoped>\n",
       "    .dataframe tbody tr th:only-of-type {\n",
       "        vertical-align: middle;\n",
       "    }\n",
       "\n",
       "    .dataframe tbody tr th {\n",
       "        vertical-align: top;\n",
       "    }\n",
       "\n",
       "    .dataframe thead th {\n",
       "        text-align: right;\n",
       "    }\n",
       "</style>\n",
       "<table border=\"1\" class=\"dataframe\">\n",
       "  <thead>\n",
       "    <tr style=\"text-align: right;\">\n",
       "      <th></th>\n",
       "      <th>datetime</th>\n",
       "      <th>validity</th>\n",
       "    </tr>\n",
       "  </thead>\n",
       "  <tbody>\n",
       "    <tr>\n",
       "      <th>2</th>\n",
       "      <td>2023-12-25 12:10:00</td>\n",
       "      <td>True</td>\n",
       "    </tr>\n",
       "    <tr>\n",
       "      <th>3</th>\n",
       "      <td>2023-12-25 23:00:00</td>\n",
       "      <td>True</td>\n",
       "    </tr>\n",
       "    <tr>\n",
       "      <th>4</th>\n",
       "      <td>2011-11-04</td>\n",
       "      <td>True</td>\n",
       "    </tr>\n",
       "    <tr>\n",
       "      <th>5</th>\n",
       "      <td>20111104</td>\n",
       "      <td>True</td>\n",
       "    </tr>\n",
       "    <tr>\n",
       "      <th>6</th>\n",
       "      <td>2011-11-04T00:05:23</td>\n",
       "      <td>True</td>\n",
       "    </tr>\n",
       "    <tr>\n",
       "      <th>7</th>\n",
       "      <td>2011-11-04T00:05:23.283185</td>\n",
       "      <td>True</td>\n",
       "    </tr>\n",
       "    <tr>\n",
       "      <th>8</th>\n",
       "      <td>20111104T000523</td>\n",
       "      <td>True</td>\n",
       "    </tr>\n",
       "    <tr>\n",
       "      <th>9</th>\n",
       "      <td>20111104T000523.283185</td>\n",
       "      <td>True</td>\n",
       "    </tr>\n",
       "    <tr>\n",
       "      <th>10</th>\n",
       "      <td>2011-11-04T00:05:23Z</td>\n",
       "      <td>True</td>\n",
       "    </tr>\n",
       "    <tr>\n",
       "      <th>11</th>\n",
       "      <td>2011-11-04T00:05:23.283185+08:00</td>\n",
       "      <td>True</td>\n",
       "    </tr>\n",
       "    <tr>\n",
       "      <th>12</th>\n",
       "      <td>2011-11-04T00:05:23+08:00</td>\n",
       "      <td>True</td>\n",
       "    </tr>\n",
       "  </tbody>\n",
       "</table>\n",
       "</div>"
      ]
     },
     "execution_count": 31,
     "metadata": {},
     "output_type": "execute_result"
    }
   ],
   "execution_count": 31
  },
  {
   "metadata": {
    "ExecuteTime": {
     "end_time": "2024-09-17T06:27:38.362157Z",
     "start_time": "2024-09-17T06:27:38.354718Z"
    }
   },
   "cell_type": "code",
   "source": [
    "df_datetime_invalid = df_datetime_str[df_datetime_str.apply(lambda x: not validate_datetime_in_iso_format(x.iloc[0]), axis=1)]\n",
    "df_datetime_invalid\n"
   ],
   "outputs": [
    {
     "data": {
      "text/plain": [
       "                 datetime  validity\n",
       "0     2023-12-25 24:00:00     False\n",
       "1  2023-12-25 12:60:00.12     False"
      ],
      "text/html": [
       "<div>\n",
       "<style scoped>\n",
       "    .dataframe tbody tr th:only-of-type {\n",
       "        vertical-align: middle;\n",
       "    }\n",
       "\n",
       "    .dataframe tbody tr th {\n",
       "        vertical-align: top;\n",
       "    }\n",
       "\n",
       "    .dataframe thead th {\n",
       "        text-align: right;\n",
       "    }\n",
       "</style>\n",
       "<table border=\"1\" class=\"dataframe\">\n",
       "  <thead>\n",
       "    <tr style=\"text-align: right;\">\n",
       "      <th></th>\n",
       "      <th>datetime</th>\n",
       "      <th>validity</th>\n",
       "    </tr>\n",
       "  </thead>\n",
       "  <tbody>\n",
       "    <tr>\n",
       "      <th>0</th>\n",
       "      <td>2023-12-25 24:00:00</td>\n",
       "      <td>False</td>\n",
       "    </tr>\n",
       "    <tr>\n",
       "      <th>1</th>\n",
       "      <td>2023-12-25 12:60:00.12</td>\n",
       "      <td>False</td>\n",
       "    </tr>\n",
       "  </tbody>\n",
       "</table>\n",
       "</div>"
      ]
     },
     "execution_count": 32,
     "metadata": {},
     "output_type": "execute_result"
    }
   ],
   "execution_count": 32
  },
  {
   "metadata": {
    "ExecuteTime": {
     "end_time": "2024-09-17T06:19:13.287124Z",
     "start_time": "2024-09-17T06:19:13.283395Z"
    }
   },
   "cell_type": "code",
   "source": "df_datetime['datetime']",
   "outputs": [
    {
     "data": {
      "text/plain": [
       "1                  2023-12-25 12:10:00\n",
       "2                  2023-12-25 23:00:00\n",
       "3                           2011-11-04\n",
       "4                             20111104\n",
       "5                  2011-11-04T00:05:23\n",
       "6           2011-11-04T00:05:23.283185\n",
       "7                      20111104T000523\n",
       "8               20111104T000523.283185\n",
       "9                 2011-11-04T00:05:23Z\n",
       "10    2011-11-04T00:05:23.283185+08:00\n",
       "11           2011-11-04T00:05:23+08:00\n",
       "Name: datetime, dtype: object"
      ]
     },
     "execution_count": 11,
     "metadata": {},
     "output_type": "execute_result"
    }
   ],
   "execution_count": 11
  },
  {
   "metadata": {
    "ExecuteTime": {
     "end_time": "2024-09-17T06:19:13.382641Z",
     "start_time": "2024-09-17T06:19:13.378303Z"
    }
   },
   "cell_type": "code",
   "source": [
    "# df_datetime_str.apply(lambda x: validate_datetime_in_iso_format(x.iloc[0]), axis=1)\n",
    "df_datetime1 = df_datetime.apply(lambda x: datetime.fromisoformat(x['datetime']), axis=1)\n",
    "df_datetime1.name = 'datetime'\n",
    "df_datetime1\n"
   ],
   "outputs": [
    {
     "data": {
      "text/plain": [
       "1                  2023-12-25 12:10:00\n",
       "2                  2023-12-25 23:00:00\n",
       "3                  2011-11-04 00:00:00\n",
       "4                  2011-11-04 00:00:00\n",
       "5                  2011-11-04 00:05:23\n",
       "6           2011-11-04 00:05:23.283185\n",
       "7                  2011-11-04 00:05:23\n",
       "8           2011-11-04 00:05:23.283185\n",
       "9            2011-11-04 00:05:23+00:00\n",
       "10    2011-11-04 00:05:23.283185+08:00\n",
       "11           2011-11-04 00:05:23+08:00\n",
       "Name: datetime, dtype: object"
      ]
     },
     "execution_count": 12,
     "metadata": {},
     "output_type": "execute_result"
    }
   ],
   "execution_count": 12
  },
  {
   "metadata": {
    "ExecuteTime": {
     "end_time": "2024-09-17T06:19:13.470480Z",
     "start_time": "2024-09-17T06:19:13.467707Z"
    }
   },
   "cell_type": "code",
   "source": "df_datetime1.loc[0:8]",
   "outputs": [
    {
     "data": {
      "text/plain": [
       "1           2023-12-25 12:10:00\n",
       "2           2023-12-25 23:00:00\n",
       "3           2011-11-04 00:00:00\n",
       "4           2011-11-04 00:00:00\n",
       "5           2011-11-04 00:05:23\n",
       "6    2011-11-04 00:05:23.283185\n",
       "7           2011-11-04 00:05:23\n",
       "8    2011-11-04 00:05:23.283185\n",
       "Name: datetime, dtype: object"
      ]
     },
     "execution_count": 13,
     "metadata": {},
     "output_type": "execute_result"
    }
   ],
   "execution_count": 13
  },
  {
   "metadata": {
    "ExecuteTime": {
     "end_time": "2024-09-17T06:19:13.496103Z",
     "start_time": "2024-09-17T06:19:13.492811Z"
    }
   },
   "cell_type": "code",
   "source": [
    "df_no_tz = pd.to_datetime(df_datetime1.loc[0:8])\n",
    "df_no_tz"
   ],
   "outputs": [
    {
     "data": {
      "text/plain": [
       "1   2023-12-25 12:10:00.000000\n",
       "2   2023-12-25 23:00:00.000000\n",
       "3   2011-11-04 00:00:00.000000\n",
       "4   2011-11-04 00:00:00.000000\n",
       "5   2011-11-04 00:05:23.000000\n",
       "6   2011-11-04 00:05:23.283185\n",
       "7   2011-11-04 00:05:23.000000\n",
       "8   2011-11-04 00:05:23.283185\n",
       "Name: datetime, dtype: datetime64[ns]"
      ]
     },
     "execution_count": 14,
     "metadata": {},
     "output_type": "execute_result"
    }
   ],
   "execution_count": 14
  },
  {
   "metadata": {
    "ExecuteTime": {
     "end_time": "2024-09-17T06:19:13.598132Z",
     "start_time": "2024-09-17T06:19:13.595917Z"
    }
   },
   "cell_type": "code",
   "source": [
    "#| export\n",
    "def get_timezone_abbreviation(timezone_name):\n",
    "    timezone = pytz.timezone(timezone_name)\n",
    "    now = datetime.now(timezone)\n",
    "    return now.strftime(\"%Z\")\n",
    "\n",
    "def validate_timezone_in_iana(timezone_name):\n",
    "    return timezone_name in pytz.all_timezones\n"
   ],
   "outputs": [],
   "execution_count": 15
  },
  {
   "metadata": {
    "ExecuteTime": {
     "end_time": "2024-09-17T06:19:13.716282Z",
     "start_time": "2024-09-17T06:19:13.706535Z"
    }
   },
   "cell_type": "code",
   "source": [
    "\n",
    "time_zone_strings = [\n",
    "    'Asia/Shanghai',\n",
    "    'Asia/Mumbai',\n",
    "    'America/New_York',\n",
    "    'Europe/London',\n",
    "    'Eastern Standard Time',\n",
    "    'US/Eastern',\n",
    "    'America/Los_Angeles',\n",
    "    'Asia/Kolkata',\n",
    "    'Europe/London',\n",
    "    'Asia/Hong_Kong',\n",
    "    'Asia/Tokyo',\n",
    "]\n",
    "df_timezone_str = pd.DataFrame(time_zone_strings)\n",
    "df_timezone_str.columns = ['timezone']\n",
    "\n",
    "# df_datetime_str\n",
    "df_timezone_str['validity'] = df_timezone_str.apply(lambda x: validate_timezone_in_iana(x.iloc[0]), axis=1)\n",
    "df_timezone_str\n"
   ],
   "outputs": [
    {
     "data": {
      "text/plain": [
       "                 timezone  validity\n",
       "0           Asia/Shanghai      True\n",
       "1             Asia/Mumbai     False\n",
       "2        America/New_York      True\n",
       "3           Europe/London      True\n",
       "4   Eastern Standard Time     False\n",
       "5              US/Eastern      True\n",
       "6     America/Los_Angeles      True\n",
       "7            Asia/Kolkata      True\n",
       "8           Europe/London      True\n",
       "9          Asia/Hong_Kong      True\n",
       "10             Asia/Tokyo      True"
      ],
      "text/html": [
       "<div>\n",
       "<style scoped>\n",
       "    .dataframe tbody tr th:only-of-type {\n",
       "        vertical-align: middle;\n",
       "    }\n",
       "\n",
       "    .dataframe tbody tr th {\n",
       "        vertical-align: top;\n",
       "    }\n",
       "\n",
       "    .dataframe thead th {\n",
       "        text-align: right;\n",
       "    }\n",
       "</style>\n",
       "<table border=\"1\" class=\"dataframe\">\n",
       "  <thead>\n",
       "    <tr style=\"text-align: right;\">\n",
       "      <th></th>\n",
       "      <th>timezone</th>\n",
       "      <th>validity</th>\n",
       "    </tr>\n",
       "  </thead>\n",
       "  <tbody>\n",
       "    <tr>\n",
       "      <th>0</th>\n",
       "      <td>Asia/Shanghai</td>\n",
       "      <td>True</td>\n",
       "    </tr>\n",
       "    <tr>\n",
       "      <th>1</th>\n",
       "      <td>Asia/Mumbai</td>\n",
       "      <td>False</td>\n",
       "    </tr>\n",
       "    <tr>\n",
       "      <th>2</th>\n",
       "      <td>America/New_York</td>\n",
       "      <td>True</td>\n",
       "    </tr>\n",
       "    <tr>\n",
       "      <th>3</th>\n",
       "      <td>Europe/London</td>\n",
       "      <td>True</td>\n",
       "    </tr>\n",
       "    <tr>\n",
       "      <th>4</th>\n",
       "      <td>Eastern Standard Time</td>\n",
       "      <td>False</td>\n",
       "    </tr>\n",
       "    <tr>\n",
       "      <th>5</th>\n",
       "      <td>US/Eastern</td>\n",
       "      <td>True</td>\n",
       "    </tr>\n",
       "    <tr>\n",
       "      <th>6</th>\n",
       "      <td>America/Los_Angeles</td>\n",
       "      <td>True</td>\n",
       "    </tr>\n",
       "    <tr>\n",
       "      <th>7</th>\n",
       "      <td>Asia/Kolkata</td>\n",
       "      <td>True</td>\n",
       "    </tr>\n",
       "    <tr>\n",
       "      <th>8</th>\n",
       "      <td>Europe/London</td>\n",
       "      <td>True</td>\n",
       "    </tr>\n",
       "    <tr>\n",
       "      <th>9</th>\n",
       "      <td>Asia/Hong_Kong</td>\n",
       "      <td>True</td>\n",
       "    </tr>\n",
       "    <tr>\n",
       "      <th>10</th>\n",
       "      <td>Asia/Tokyo</td>\n",
       "      <td>True</td>\n",
       "    </tr>\n",
       "  </tbody>\n",
       "</table>\n",
       "</div>"
      ]
     },
     "execution_count": 16,
     "metadata": {},
     "output_type": "execute_result"
    }
   ],
   "execution_count": 16
  },
  {
   "metadata": {
    "ExecuteTime": {
     "end_time": "2024-09-17T06:19:13.754119Z",
     "start_time": "2024-09-17T06:19:13.749341Z"
    }
   },
   "cell_type": "code",
   "source": [
    "\n",
    "df_timezone = df_timezone_str[df_timezone_str.apply(lambda x: validate_timezone_in_iana(x.iloc[0]), axis=1)]\n",
    "df_timezone"
   ],
   "outputs": [
    {
     "data": {
      "text/plain": [
       "               timezone  validity\n",
       "0         Asia/Shanghai      True\n",
       "2      America/New_York      True\n",
       "3         Europe/London      True\n",
       "5            US/Eastern      True\n",
       "6   America/Los_Angeles      True\n",
       "7          Asia/Kolkata      True\n",
       "8         Europe/London      True\n",
       "9        Asia/Hong_Kong      True\n",
       "10           Asia/Tokyo      True"
      ],
      "text/html": [
       "<div>\n",
       "<style scoped>\n",
       "    .dataframe tbody tr th:only-of-type {\n",
       "        vertical-align: middle;\n",
       "    }\n",
       "\n",
       "    .dataframe tbody tr th {\n",
       "        vertical-align: top;\n",
       "    }\n",
       "\n",
       "    .dataframe thead th {\n",
       "        text-align: right;\n",
       "    }\n",
       "</style>\n",
       "<table border=\"1\" class=\"dataframe\">\n",
       "  <thead>\n",
       "    <tr style=\"text-align: right;\">\n",
       "      <th></th>\n",
       "      <th>timezone</th>\n",
       "      <th>validity</th>\n",
       "    </tr>\n",
       "  </thead>\n",
       "  <tbody>\n",
       "    <tr>\n",
       "      <th>0</th>\n",
       "      <td>Asia/Shanghai</td>\n",
       "      <td>True</td>\n",
       "    </tr>\n",
       "    <tr>\n",
       "      <th>2</th>\n",
       "      <td>America/New_York</td>\n",
       "      <td>True</td>\n",
       "    </tr>\n",
       "    <tr>\n",
       "      <th>3</th>\n",
       "      <td>Europe/London</td>\n",
       "      <td>True</td>\n",
       "    </tr>\n",
       "    <tr>\n",
       "      <th>5</th>\n",
       "      <td>US/Eastern</td>\n",
       "      <td>True</td>\n",
       "    </tr>\n",
       "    <tr>\n",
       "      <th>6</th>\n",
       "      <td>America/Los_Angeles</td>\n",
       "      <td>True</td>\n",
       "    </tr>\n",
       "    <tr>\n",
       "      <th>7</th>\n",
       "      <td>Asia/Kolkata</td>\n",
       "      <td>True</td>\n",
       "    </tr>\n",
       "    <tr>\n",
       "      <th>8</th>\n",
       "      <td>Europe/London</td>\n",
       "      <td>True</td>\n",
       "    </tr>\n",
       "    <tr>\n",
       "      <th>9</th>\n",
       "      <td>Asia/Hong_Kong</td>\n",
       "      <td>True</td>\n",
       "    </tr>\n",
       "    <tr>\n",
       "      <th>10</th>\n",
       "      <td>Asia/Tokyo</td>\n",
       "      <td>True</td>\n",
       "    </tr>\n",
       "  </tbody>\n",
       "</table>\n",
       "</div>"
      ]
     },
     "execution_count": 17,
     "metadata": {},
     "output_type": "execute_result"
    }
   ],
   "execution_count": 17
  },
  {
   "metadata": {
    "ExecuteTime": {
     "end_time": "2024-09-17T06:25:09.097497Z",
     "start_time": "2024-09-17T06:25:09.089446Z"
    }
   },
   "cell_type": "code",
   "source": [
    "# extract invalid data\n",
    "df_timezone_invalid = df_timezone_str[df_timezone_str.apply(lambda x: not validate_timezone_in_iana(x.iloc[0]), axis=1)]\n",
    "df_timezone_invalid"
   ],
   "outputs": [
    {
     "data": {
      "text/plain": [
       "                timezone  validity\n",
       "1            Asia/Mumbai     False\n",
       "4  Eastern Standard Time     False"
      ],
      "text/html": [
       "<div>\n",
       "<style scoped>\n",
       "    .dataframe tbody tr th:only-of-type {\n",
       "        vertical-align: middle;\n",
       "    }\n",
       "\n",
       "    .dataframe tbody tr th {\n",
       "        vertical-align: top;\n",
       "    }\n",
       "\n",
       "    .dataframe thead th {\n",
       "        text-align: right;\n",
       "    }\n",
       "</style>\n",
       "<table border=\"1\" class=\"dataframe\">\n",
       "  <thead>\n",
       "    <tr style=\"text-align: right;\">\n",
       "      <th></th>\n",
       "      <th>timezone</th>\n",
       "      <th>validity</th>\n",
       "    </tr>\n",
       "  </thead>\n",
       "  <tbody>\n",
       "    <tr>\n",
       "      <th>1</th>\n",
       "      <td>Asia/Mumbai</td>\n",
       "      <td>False</td>\n",
       "    </tr>\n",
       "    <tr>\n",
       "      <th>4</th>\n",
       "      <td>Eastern Standard Time</td>\n",
       "      <td>False</td>\n",
       "    </tr>\n",
       "  </tbody>\n",
       "</table>\n",
       "</div>"
      ]
     },
     "execution_count": 26,
     "metadata": {},
     "output_type": "execute_result"
    }
   ],
   "execution_count": 26
  },
  {
   "metadata": {
    "ExecuteTime": {
     "end_time": "2024-09-17T06:19:13.866017Z",
     "start_time": "2024-09-17T06:19:13.860257Z"
    }
   },
   "cell_type": "code",
   "source": [
    "df_abbr = df_timezone.apply(lambda x: get_timezone_abbreviation(x.loc['timezone']), axis=1)\n",
    "df_abbr.name = 'abbr'\n",
    "df_abbr"
   ],
   "outputs": [
    {
     "data": {
      "text/plain": [
       "0     CST\n",
       "2     EDT\n",
       "3     BST\n",
       "5     EDT\n",
       "6     PDT\n",
       "7     IST\n",
       "8     BST\n",
       "9     HKT\n",
       "10    JST\n",
       "Name: abbr, dtype: object"
      ]
     },
     "execution_count": 18,
     "metadata": {},
     "output_type": "execute_result"
    }
   ],
   "execution_count": 18
  },
  {
   "metadata": {
    "ExecuteTime": {
     "end_time": "2024-09-17T06:19:13.988312Z",
     "start_time": "2024-09-17T06:19:13.984278Z"
    }
   },
   "cell_type": "code",
   "source": "df_timezone",
   "outputs": [
    {
     "data": {
      "text/plain": [
       "               timezone  validity\n",
       "0         Asia/Shanghai      True\n",
       "2      America/New_York      True\n",
       "3         Europe/London      True\n",
       "5            US/Eastern      True\n",
       "6   America/Los_Angeles      True\n",
       "7          Asia/Kolkata      True\n",
       "8         Europe/London      True\n",
       "9        Asia/Hong_Kong      True\n",
       "10           Asia/Tokyo      True"
      ],
      "text/html": [
       "<div>\n",
       "<style scoped>\n",
       "    .dataframe tbody tr th:only-of-type {\n",
       "        vertical-align: middle;\n",
       "    }\n",
       "\n",
       "    .dataframe tbody tr th {\n",
       "        vertical-align: top;\n",
       "    }\n",
       "\n",
       "    .dataframe thead th {\n",
       "        text-align: right;\n",
       "    }\n",
       "</style>\n",
       "<table border=\"1\" class=\"dataframe\">\n",
       "  <thead>\n",
       "    <tr style=\"text-align: right;\">\n",
       "      <th></th>\n",
       "      <th>timezone</th>\n",
       "      <th>validity</th>\n",
       "    </tr>\n",
       "  </thead>\n",
       "  <tbody>\n",
       "    <tr>\n",
       "      <th>0</th>\n",
       "      <td>Asia/Shanghai</td>\n",
       "      <td>True</td>\n",
       "    </tr>\n",
       "    <tr>\n",
       "      <th>2</th>\n",
       "      <td>America/New_York</td>\n",
       "      <td>True</td>\n",
       "    </tr>\n",
       "    <tr>\n",
       "      <th>3</th>\n",
       "      <td>Europe/London</td>\n",
       "      <td>True</td>\n",
       "    </tr>\n",
       "    <tr>\n",
       "      <th>5</th>\n",
       "      <td>US/Eastern</td>\n",
       "      <td>True</td>\n",
       "    </tr>\n",
       "    <tr>\n",
       "      <th>6</th>\n",
       "      <td>America/Los_Angeles</td>\n",
       "      <td>True</td>\n",
       "    </tr>\n",
       "    <tr>\n",
       "      <th>7</th>\n",
       "      <td>Asia/Kolkata</td>\n",
       "      <td>True</td>\n",
       "    </tr>\n",
       "    <tr>\n",
       "      <th>8</th>\n",
       "      <td>Europe/London</td>\n",
       "      <td>True</td>\n",
       "    </tr>\n",
       "    <tr>\n",
       "      <th>9</th>\n",
       "      <td>Asia/Hong_Kong</td>\n",
       "      <td>True</td>\n",
       "    </tr>\n",
       "    <tr>\n",
       "      <th>10</th>\n",
       "      <td>Asia/Tokyo</td>\n",
       "      <td>True</td>\n",
       "    </tr>\n",
       "  </tbody>\n",
       "</table>\n",
       "</div>"
      ]
     },
     "execution_count": 19,
     "metadata": {},
     "output_type": "execute_result"
    }
   ],
   "execution_count": 19
  },
  {
   "metadata": {
    "ExecuteTime": {
     "end_time": "2024-09-17T06:19:14.095961Z",
     "start_time": "2024-09-17T06:19:14.091012Z"
    }
   },
   "cell_type": "code",
   "source": [
    "# df_timezone_str['validity'] = df_timezone_str.apply(lambda x: validate_timezone_in_iana(x.iloc[0]), axis=1)\n",
    "# df_timezone['abbr'] = df_timezone.apply(lambda x: get_timezone_abbreviation(x.iloc[0]), axis=1)\n",
    "# df_timezone.apply(lambda x: get_timezone_abbreviation(x.iloc[0]), axis=1)\n",
    "df_timezone.loc[:,'abbr'] = df_abbr\n",
    "df_timezone\n",
    "# df_timezone\n"
   ],
   "outputs": [
    {
     "data": {
      "text/plain": [
       "               timezone  validity abbr\n",
       "0         Asia/Shanghai      True  CST\n",
       "2      America/New_York      True  EDT\n",
       "3         Europe/London      True  BST\n",
       "5            US/Eastern      True  EDT\n",
       "6   America/Los_Angeles      True  PDT\n",
       "7          Asia/Kolkata      True  IST\n",
       "8         Europe/London      True  BST\n",
       "9        Asia/Hong_Kong      True  HKT\n",
       "10           Asia/Tokyo      True  JST"
      ],
      "text/html": [
       "<div>\n",
       "<style scoped>\n",
       "    .dataframe tbody tr th:only-of-type {\n",
       "        vertical-align: middle;\n",
       "    }\n",
       "\n",
       "    .dataframe tbody tr th {\n",
       "        vertical-align: top;\n",
       "    }\n",
       "\n",
       "    .dataframe thead th {\n",
       "        text-align: right;\n",
       "    }\n",
       "</style>\n",
       "<table border=\"1\" class=\"dataframe\">\n",
       "  <thead>\n",
       "    <tr style=\"text-align: right;\">\n",
       "      <th></th>\n",
       "      <th>timezone</th>\n",
       "      <th>validity</th>\n",
       "      <th>abbr</th>\n",
       "    </tr>\n",
       "  </thead>\n",
       "  <tbody>\n",
       "    <tr>\n",
       "      <th>0</th>\n",
       "      <td>Asia/Shanghai</td>\n",
       "      <td>True</td>\n",
       "      <td>CST</td>\n",
       "    </tr>\n",
       "    <tr>\n",
       "      <th>2</th>\n",
       "      <td>America/New_York</td>\n",
       "      <td>True</td>\n",
       "      <td>EDT</td>\n",
       "    </tr>\n",
       "    <tr>\n",
       "      <th>3</th>\n",
       "      <td>Europe/London</td>\n",
       "      <td>True</td>\n",
       "      <td>BST</td>\n",
       "    </tr>\n",
       "    <tr>\n",
       "      <th>5</th>\n",
       "      <td>US/Eastern</td>\n",
       "      <td>True</td>\n",
       "      <td>EDT</td>\n",
       "    </tr>\n",
       "    <tr>\n",
       "      <th>6</th>\n",
       "      <td>America/Los_Angeles</td>\n",
       "      <td>True</td>\n",
       "      <td>PDT</td>\n",
       "    </tr>\n",
       "    <tr>\n",
       "      <th>7</th>\n",
       "      <td>Asia/Kolkata</td>\n",
       "      <td>True</td>\n",
       "      <td>IST</td>\n",
       "    </tr>\n",
       "    <tr>\n",
       "      <th>8</th>\n",
       "      <td>Europe/London</td>\n",
       "      <td>True</td>\n",
       "      <td>BST</td>\n",
       "    </tr>\n",
       "    <tr>\n",
       "      <th>9</th>\n",
       "      <td>Asia/Hong_Kong</td>\n",
       "      <td>True</td>\n",
       "      <td>HKT</td>\n",
       "    </tr>\n",
       "    <tr>\n",
       "      <th>10</th>\n",
       "      <td>Asia/Tokyo</td>\n",
       "      <td>True</td>\n",
       "      <td>JST</td>\n",
       "    </tr>\n",
       "  </tbody>\n",
       "</table>\n",
       "</div>"
      ]
     },
     "execution_count": 20,
     "metadata": {},
     "output_type": "execute_result"
    }
   ],
   "execution_count": 20
  },
  {
   "metadata": {
    "ExecuteTime": {
     "end_time": "2024-09-17T06:19:14.223053Z",
     "start_time": "2024-09-17T06:19:14.218928Z"
    }
   },
   "cell_type": "code",
   "source": [
    "\n",
    "df_utc_offset = (df_timezone.apply(lambda x: datetime.now(pytz.timezone(x.loc['timezone'])), axis=1)\n",
    "                            .apply(lambda x: x.strftime('%z')))\n",
    "df_utc_offset.name = 'utc_offset'\n",
    "df_utc_offset\n"
   ],
   "outputs": [
    {
     "data": {
      "text/plain": [
       "0     +0800\n",
       "2     -0400\n",
       "3     +0100\n",
       "5     -0400\n",
       "6     -0700\n",
       "7     +0530\n",
       "8     +0100\n",
       "9     +0800\n",
       "10    +0900\n",
       "Name: utc_offset, dtype: object"
      ]
     },
     "execution_count": 21,
     "metadata": {},
     "output_type": "execute_result"
    }
   ],
   "execution_count": 21
  },
  {
   "metadata": {
    "ExecuteTime": {
     "end_time": "2024-09-17T06:19:14.335548Z",
     "start_time": "2024-09-17T06:19:14.331775Z"
    }
   },
   "cell_type": "code",
   "source": [
    "\n",
    "df_timezone.loc[:,'utc_offset'] = df_utc_offset\n",
    "df_timezone\n"
   ],
   "outputs": [
    {
     "data": {
      "text/plain": [
       "               timezone  validity abbr utc_offset\n",
       "0         Asia/Shanghai      True  CST      +0800\n",
       "2      America/New_York      True  EDT      -0400\n",
       "3         Europe/London      True  BST      +0100\n",
       "5            US/Eastern      True  EDT      -0400\n",
       "6   America/Los_Angeles      True  PDT      -0700\n",
       "7          Asia/Kolkata      True  IST      +0530\n",
       "8         Europe/London      True  BST      +0100\n",
       "9        Asia/Hong_Kong      True  HKT      +0800\n",
       "10           Asia/Tokyo      True  JST      +0900"
      ],
      "text/html": [
       "<div>\n",
       "<style scoped>\n",
       "    .dataframe tbody tr th:only-of-type {\n",
       "        vertical-align: middle;\n",
       "    }\n",
       "\n",
       "    .dataframe tbody tr th {\n",
       "        vertical-align: top;\n",
       "    }\n",
       "\n",
       "    .dataframe thead th {\n",
       "        text-align: right;\n",
       "    }\n",
       "</style>\n",
       "<table border=\"1\" class=\"dataframe\">\n",
       "  <thead>\n",
       "    <tr style=\"text-align: right;\">\n",
       "      <th></th>\n",
       "      <th>timezone</th>\n",
       "      <th>validity</th>\n",
       "      <th>abbr</th>\n",
       "      <th>utc_offset</th>\n",
       "    </tr>\n",
       "  </thead>\n",
       "  <tbody>\n",
       "    <tr>\n",
       "      <th>0</th>\n",
       "      <td>Asia/Shanghai</td>\n",
       "      <td>True</td>\n",
       "      <td>CST</td>\n",
       "      <td>+0800</td>\n",
       "    </tr>\n",
       "    <tr>\n",
       "      <th>2</th>\n",
       "      <td>America/New_York</td>\n",
       "      <td>True</td>\n",
       "      <td>EDT</td>\n",
       "      <td>-0400</td>\n",
       "    </tr>\n",
       "    <tr>\n",
       "      <th>3</th>\n",
       "      <td>Europe/London</td>\n",
       "      <td>True</td>\n",
       "      <td>BST</td>\n",
       "      <td>+0100</td>\n",
       "    </tr>\n",
       "    <tr>\n",
       "      <th>5</th>\n",
       "      <td>US/Eastern</td>\n",
       "      <td>True</td>\n",
       "      <td>EDT</td>\n",
       "      <td>-0400</td>\n",
       "    </tr>\n",
       "    <tr>\n",
       "      <th>6</th>\n",
       "      <td>America/Los_Angeles</td>\n",
       "      <td>True</td>\n",
       "      <td>PDT</td>\n",
       "      <td>-0700</td>\n",
       "    </tr>\n",
       "    <tr>\n",
       "      <th>7</th>\n",
       "      <td>Asia/Kolkata</td>\n",
       "      <td>True</td>\n",
       "      <td>IST</td>\n",
       "      <td>+0530</td>\n",
       "    </tr>\n",
       "    <tr>\n",
       "      <th>8</th>\n",
       "      <td>Europe/London</td>\n",
       "      <td>True</td>\n",
       "      <td>BST</td>\n",
       "      <td>+0100</td>\n",
       "    </tr>\n",
       "    <tr>\n",
       "      <th>9</th>\n",
       "      <td>Asia/Hong_Kong</td>\n",
       "      <td>True</td>\n",
       "      <td>HKT</td>\n",
       "      <td>+0800</td>\n",
       "    </tr>\n",
       "    <tr>\n",
       "      <th>10</th>\n",
       "      <td>Asia/Tokyo</td>\n",
       "      <td>True</td>\n",
       "      <td>JST</td>\n",
       "      <td>+0900</td>\n",
       "    </tr>\n",
       "  </tbody>\n",
       "</table>\n",
       "</div>"
      ]
     },
     "execution_count": 22,
     "metadata": {},
     "output_type": "execute_result"
    }
   ],
   "execution_count": 22
  },
  {
   "metadata": {
    "ExecuteTime": {
     "end_time": "2024-09-17T06:19:14.407505Z",
     "start_time": "2024-09-17T06:19:14.404457Z"
    }
   },
   "cell_type": "code",
   "source": [
    "for tz in df_timezone.loc[:,'timezone']:\n",
    "    print(f\"{tz}: {datetime.now(pytz.timezone(tz))} - {datetime.now(pytz.timezone(tz)).strftime('%Z')}, {datetime.now(pytz.timezone(tz)).strftime('%z')}\")"
   ],
   "outputs": [
    {
     "name": "stdout",
     "output_type": "stream",
     "text": [
      "Asia/Shanghai: 2024-09-17 14:19:14.405560+08:00 - CST, +0800\n",
      "America/New_York: 2024-09-17 02:19:14.405642-04:00 - EDT, -0400\n",
      "Europe/London: 2024-09-17 07:19:14.405672+01:00 - BST, +0100\n",
      "US/Eastern: 2024-09-17 02:19:14.405695-04:00 - EDT, -0400\n",
      "America/Los_Angeles: 2024-09-16 23:19:14.405716-07:00 - PDT, -0700\n",
      "Asia/Kolkata: 2024-09-17 11:49:14.405737+05:30 - IST, +0530\n",
      "Europe/London: 2024-09-17 07:19:14.405756+01:00 - BST, +0100\n",
      "Asia/Hong_Kong: 2024-09-17 14:19:14.405773+08:00 - HKT, +0800\n",
      "Asia/Tokyo: 2024-09-17 15:19:14.405793+09:00 - JST, +0900\n"
     ]
    }
   ],
   "execution_count": 23
  },
  {
   "metadata": {
    "ExecuteTime": {
     "end_time": "2024-09-17T06:19:14.566536Z",
     "start_time": "2024-09-17T06:19:14.561279Z"
    }
   },
   "cell_type": "code",
   "source": [
    "for dt,tz in zip(df_no_tz.loc[0:8], df_timezone.loc[:,'timezone']):\n",
    "    print(f\"{dt}: {dt.tz_localize(tz)}, as {dt.tz_localize(tz).astimezone('utc')}\")"
   ],
   "outputs": [
    {
     "name": "stdout",
     "output_type": "stream",
     "text": [
      "2023-12-25 12:10:00: 2023-12-25 12:10:00+08:00, as 2023-12-25 04:10:00+00:00\n",
      "2023-12-25 23:00:00: 2023-12-25 23:00:00-05:00, as 2023-12-26 04:00:00+00:00\n",
      "2011-11-04 00:00:00: 2011-11-04 00:00:00+00:00, as 2011-11-04 00:00:00+00:00\n",
      "2011-11-04 00:00:00: 2011-11-04 00:00:00-04:00, as 2011-11-04 04:00:00+00:00\n",
      "2011-11-04 00:05:23: 2011-11-04 00:05:23-07:00, as 2011-11-04 07:05:23+00:00\n",
      "2011-11-04 00:05:23.283185: 2011-11-04 00:05:23.283185+05:30, as 2011-11-03 18:35:23.283185+00:00\n",
      "2011-11-04 00:05:23: 2011-11-04 00:05:23+00:00, as 2011-11-04 00:05:23+00:00\n",
      "2011-11-04 00:05:23.283185: 2011-11-04 00:05:23.283185+08:00, as 2011-11-03 16:05:23.283185+00:00\n"
     ]
    }
   ],
   "execution_count": 24
  },
  {
   "cell_type": "code",
   "metadata": {
    "ExecuteTime": {
     "end_time": "2024-09-17T06:19:14.742710Z",
     "start_time": "2024-09-17T06:19:14.643015Z"
    }
   },
   "source": [
    "#| hide\n",
    "import nbdev; nbdev.nbdev_export()"
   ],
   "outputs": [],
   "execution_count": 25
  },
  {
   "metadata": {
    "ExecuteTime": {
     "end_time": "2024-09-17T06:19:14.796131Z",
     "start_time": "2024-09-17T06:19:14.794378Z"
    }
   },
   "cell_type": "code",
   "source": "",
   "outputs": [],
   "execution_count": null
  }
 ],
 "metadata": {
  "kernelspec": {
   "display_name": "python3",
   "language": "python",
   "name": "python3"
  }
 },
 "nbformat": 4,
 "nbformat_minor": 4
}
