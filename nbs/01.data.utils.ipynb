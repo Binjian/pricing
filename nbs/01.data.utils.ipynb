{
 "cells": [
  {
   "metadata": {},
   "cell_type": "markdown",
   "source": [
    "# core data utilities\n",
    "\n",
    "> core utilities for data processing: \n",
    "> datetime processing, time zone processing, validity, filtering"
   ]
  },
  {
   "cell_type": "code",
   "metadata": {
    "ExecuteTime": {
     "end_time": "2024-09-18T05:27:41.362268Z",
     "start_time": "2024-09-18T05:27:41.357056Z"
    }
   },
   "source": "#| default_exp data.utils",
   "outputs": [],
   "execution_count": 70
  },
  {
   "cell_type": "code",
   "metadata": {
    "ExecuteTime": {
     "end_time": "2024-09-18T05:27:41.389986Z",
     "start_time": "2024-09-18T05:27:41.384699Z"
    }
   },
   "source": [
    "#| hide\n",
    "from nbdev.showdoc import *"
   ],
   "outputs": [],
   "execution_count": 71
  },
  {
   "metadata": {
    "ExecuteTime": {
     "end_time": "2024-09-18T05:27:41.440370Z",
     "start_time": "2024-09-18T05:27:41.435770Z"
    }
   },
   "cell_type": "code",
   "source": [
    "#| hide\n",
    "from IPython.core.interactiveshell import InteractiveShell\n",
    "InteractiveShell.ast_node_interactivity = \"all\""
   ],
   "outputs": [],
   "execution_count": 72
  },
  {
   "metadata": {
    "ExecuteTime": {
     "end_time": "2024-09-18T05:27:41.491868Z",
     "start_time": "2024-09-18T05:27:41.486678Z"
    }
   },
   "cell_type": "code",
   "source": [
    "#| export\n",
    "from datetime import datetime\n",
    "import pandas as pd\n",
    "import pytz"
   ],
   "outputs": [],
   "execution_count": 73
  },
  {
   "metadata": {
    "ExecuteTime": {
     "end_time": "2024-09-18T05:27:41.539954Z",
     "start_time": "2024-09-18T05:27:41.537554Z"
    }
   },
   "cell_type": "code",
   "source": [
    "#| export\n",
    "pd.options.mode.chained_assignment = None"
   ],
   "outputs": [],
   "execution_count": 74
  },
  {
   "metadata": {
    "ExecuteTime": {
     "end_time": "2024-09-18T05:27:41.589290Z",
     "start_time": "2024-09-18T05:27:41.584869Z"
    }
   },
   "cell_type": "code",
   "source": [
    "#| export\n",
    "def validate_datetime(date_string, format_string):\n",
    "    \"\"\"\n",
    "    Validates if a string is a valid datetime according to the given format.\n",
    "    \"\"\"\n",
    "\n",
    "    try:\n",
    "        datetime.strptime(date_string, format_string)\n",
    "        return True\n",
    "    except ValueError:\n",
    "        return False\n",
    "    \n",
    "def validate_datetime_in_iso_format(date_text):\n",
    "        try:\n",
    "            datetime.fromisoformat(date_text)\n",
    "            return True\n",
    "        except ValueError:\n",
    "            # raise ValueError(\"Incorrect data format, should be YYYY-MM-DD\")\n",
    "            return False\n"
   ],
   "outputs": [],
   "execution_count": 75
  },
  {
   "metadata": {
    "ExecuteTime": {
     "end_time": "2024-09-18T05:27:41.666540Z",
     "start_time": "2024-09-18T05:27:41.659548Z"
    }
   },
   "cell_type": "code",
   "source": [
    "# Example usage\n",
    "date_strings = [\n",
    "    \"2023-12-25 24:00:00\",\n",
    "    \"2023-12-25 12:60:00.12\",\n",
    "    \"2023-12-25 12:10:00\",\n",
    "    \"2023-12-25 23:00:00\",\n",
    "    \"2011-11-04\",\n",
    "    \"20111104\",\n",
    "    \"2011-11-04T00:05:23\",\n",
    "    \"2011-11-04T00:05:23.283185\",\n",
    "    \"20111104T000523\",\n",
    "    \"20111104T000523.283185\",\n",
    "    \"2011-11-04T00:05:23Z\",\n",
    "    \"2011-11-04T00:05:23.283185+08:00\",\n",
    "    \"2011-11-04T00:05:23+08:00\",\n",
    "    ]\n",
    "format_string = \"%Y-%m-%d\"\n",
    "\n",
    "for s in date_strings:\n",
    "    if validate_datetime_in_iso_format(s):\n",
    "        print(f\"{s} is Valid datetime string\")\n",
    "    else:\n",
    "        print(f\"{s} is Invalid datetime string\")"
   ],
   "outputs": [
    {
     "name": "stdout",
     "output_type": "stream",
     "text": [
      "2023-12-25 24:00:00 is Invalid datetime string\n",
      "2023-12-25 12:60:00.12 is Invalid datetime string\n",
      "2023-12-25 12:10:00 is Valid datetime string\n",
      "2023-12-25 23:00:00 is Valid datetime string\n",
      "2011-11-04 is Valid datetime string\n",
      "20111104 is Valid datetime string\n",
      "2011-11-04T00:05:23 is Valid datetime string\n",
      "2011-11-04T00:05:23.283185 is Valid datetime string\n",
      "20111104T000523 is Valid datetime string\n",
      "20111104T000523.283185 is Valid datetime string\n",
      "2011-11-04T00:05:23Z is Valid datetime string\n",
      "2011-11-04T00:05:23.283185+08:00 is Valid datetime string\n",
      "2011-11-04T00:05:23+08:00 is Valid datetime string\n"
     ]
    }
   ],
   "execution_count": 76
  },
  {
   "metadata": {
    "ExecuteTime": {
     "end_time": "2024-09-18T05:27:41.792221Z",
     "start_time": "2024-09-18T05:27:41.782003Z"
    }
   },
   "cell_type": "code",
   "source": [
    "df_datetime_str = pd.DataFrame(date_strings)\n",
    "df_datetime_str.columns = ['datetime']\n",
    "# df_datetime_str\n",
    "df_datetime_str['validity'] = df_datetime_str.apply(lambda x: validate_datetime_in_iso_format(x.iloc[0]), axis=1)\n",
    "df_datetime_str\n"
   ],
   "outputs": [
    {
     "data": {
      "text/plain": [
       "                            datetime  validity\n",
       "0                2023-12-25 24:00:00     False\n",
       "1             2023-12-25 12:60:00.12     False\n",
       "2                2023-12-25 12:10:00      True\n",
       "3                2023-12-25 23:00:00      True\n",
       "4                         2011-11-04      True\n",
       "5                           20111104      True\n",
       "6                2011-11-04T00:05:23      True\n",
       "7         2011-11-04T00:05:23.283185      True\n",
       "8                    20111104T000523      True\n",
       "9             20111104T000523.283185      True\n",
       "10              2011-11-04T00:05:23Z      True\n",
       "11  2011-11-04T00:05:23.283185+08:00      True\n",
       "12         2011-11-04T00:05:23+08:00      True"
      ],
      "text/html": [
       "<div>\n",
       "<style scoped>\n",
       "    .dataframe tbody tr th:only-of-type {\n",
       "        vertical-align: middle;\n",
       "    }\n",
       "\n",
       "    .dataframe tbody tr th {\n",
       "        vertical-align: top;\n",
       "    }\n",
       "\n",
       "    .dataframe thead th {\n",
       "        text-align: right;\n",
       "    }\n",
       "</style>\n",
       "<table border=\"1\" class=\"dataframe\">\n",
       "  <thead>\n",
       "    <tr style=\"text-align: right;\">\n",
       "      <th></th>\n",
       "      <th>datetime</th>\n",
       "      <th>validity</th>\n",
       "    </tr>\n",
       "  </thead>\n",
       "  <tbody>\n",
       "    <tr>\n",
       "      <th>0</th>\n",
       "      <td>2023-12-25 24:00:00</td>\n",
       "      <td>False</td>\n",
       "    </tr>\n",
       "    <tr>\n",
       "      <th>1</th>\n",
       "      <td>2023-12-25 12:60:00.12</td>\n",
       "      <td>False</td>\n",
       "    </tr>\n",
       "    <tr>\n",
       "      <th>2</th>\n",
       "      <td>2023-12-25 12:10:00</td>\n",
       "      <td>True</td>\n",
       "    </tr>\n",
       "    <tr>\n",
       "      <th>3</th>\n",
       "      <td>2023-12-25 23:00:00</td>\n",
       "      <td>True</td>\n",
       "    </tr>\n",
       "    <tr>\n",
       "      <th>4</th>\n",
       "      <td>2011-11-04</td>\n",
       "      <td>True</td>\n",
       "    </tr>\n",
       "    <tr>\n",
       "      <th>5</th>\n",
       "      <td>20111104</td>\n",
       "      <td>True</td>\n",
       "    </tr>\n",
       "    <tr>\n",
       "      <th>6</th>\n",
       "      <td>2011-11-04T00:05:23</td>\n",
       "      <td>True</td>\n",
       "    </tr>\n",
       "    <tr>\n",
       "      <th>7</th>\n",
       "      <td>2011-11-04T00:05:23.283185</td>\n",
       "      <td>True</td>\n",
       "    </tr>\n",
       "    <tr>\n",
       "      <th>8</th>\n",
       "      <td>20111104T000523</td>\n",
       "      <td>True</td>\n",
       "    </tr>\n",
       "    <tr>\n",
       "      <th>9</th>\n",
       "      <td>20111104T000523.283185</td>\n",
       "      <td>True</td>\n",
       "    </tr>\n",
       "    <tr>\n",
       "      <th>10</th>\n",
       "      <td>2011-11-04T00:05:23Z</td>\n",
       "      <td>True</td>\n",
       "    </tr>\n",
       "    <tr>\n",
       "      <th>11</th>\n",
       "      <td>2011-11-04T00:05:23.283185+08:00</td>\n",
       "      <td>True</td>\n",
       "    </tr>\n",
       "    <tr>\n",
       "      <th>12</th>\n",
       "      <td>2011-11-04T00:05:23+08:00</td>\n",
       "      <td>True</td>\n",
       "    </tr>\n",
       "  </tbody>\n",
       "</table>\n",
       "</div>"
      ]
     },
     "execution_count": 77,
     "metadata": {},
     "output_type": "execute_result"
    }
   ],
   "execution_count": 77
  },
  {
   "metadata": {
    "ExecuteTime": {
     "end_time": "2024-09-18T05:27:41.906620Z",
     "start_time": "2024-09-18T05:27:41.897745Z"
    }
   },
   "cell_type": "code",
   "source": [
    "df_datetime = df_datetime_str[df_datetime_str.apply(lambda x: validate_datetime_in_iso_format(x.iloc[0]), axis=1)]\n",
    "df_datetime\n"
   ],
   "outputs": [
    {
     "data": {
      "text/plain": [
       "                            datetime  validity\n",
       "2                2023-12-25 12:10:00      True\n",
       "3                2023-12-25 23:00:00      True\n",
       "4                         2011-11-04      True\n",
       "5                           20111104      True\n",
       "6                2011-11-04T00:05:23      True\n",
       "7         2011-11-04T00:05:23.283185      True\n",
       "8                    20111104T000523      True\n",
       "9             20111104T000523.283185      True\n",
       "10              2011-11-04T00:05:23Z      True\n",
       "11  2011-11-04T00:05:23.283185+08:00      True\n",
       "12         2011-11-04T00:05:23+08:00      True"
      ],
      "text/html": [
       "<div>\n",
       "<style scoped>\n",
       "    .dataframe tbody tr th:only-of-type {\n",
       "        vertical-align: middle;\n",
       "    }\n",
       "\n",
       "    .dataframe tbody tr th {\n",
       "        vertical-align: top;\n",
       "    }\n",
       "\n",
       "    .dataframe thead th {\n",
       "        text-align: right;\n",
       "    }\n",
       "</style>\n",
       "<table border=\"1\" class=\"dataframe\">\n",
       "  <thead>\n",
       "    <tr style=\"text-align: right;\">\n",
       "      <th></th>\n",
       "      <th>datetime</th>\n",
       "      <th>validity</th>\n",
       "    </tr>\n",
       "  </thead>\n",
       "  <tbody>\n",
       "    <tr>\n",
       "      <th>2</th>\n",
       "      <td>2023-12-25 12:10:00</td>\n",
       "      <td>True</td>\n",
       "    </tr>\n",
       "    <tr>\n",
       "      <th>3</th>\n",
       "      <td>2023-12-25 23:00:00</td>\n",
       "      <td>True</td>\n",
       "    </tr>\n",
       "    <tr>\n",
       "      <th>4</th>\n",
       "      <td>2011-11-04</td>\n",
       "      <td>True</td>\n",
       "    </tr>\n",
       "    <tr>\n",
       "      <th>5</th>\n",
       "      <td>20111104</td>\n",
       "      <td>True</td>\n",
       "    </tr>\n",
       "    <tr>\n",
       "      <th>6</th>\n",
       "      <td>2011-11-04T00:05:23</td>\n",
       "      <td>True</td>\n",
       "    </tr>\n",
       "    <tr>\n",
       "      <th>7</th>\n",
       "      <td>2011-11-04T00:05:23.283185</td>\n",
       "      <td>True</td>\n",
       "    </tr>\n",
       "    <tr>\n",
       "      <th>8</th>\n",
       "      <td>20111104T000523</td>\n",
       "      <td>True</td>\n",
       "    </tr>\n",
       "    <tr>\n",
       "      <th>9</th>\n",
       "      <td>20111104T000523.283185</td>\n",
       "      <td>True</td>\n",
       "    </tr>\n",
       "    <tr>\n",
       "      <th>10</th>\n",
       "      <td>2011-11-04T00:05:23Z</td>\n",
       "      <td>True</td>\n",
       "    </tr>\n",
       "    <tr>\n",
       "      <th>11</th>\n",
       "      <td>2011-11-04T00:05:23.283185+08:00</td>\n",
       "      <td>True</td>\n",
       "    </tr>\n",
       "    <tr>\n",
       "      <th>12</th>\n",
       "      <td>2011-11-04T00:05:23+08:00</td>\n",
       "      <td>True</td>\n",
       "    </tr>\n",
       "  </tbody>\n",
       "</table>\n",
       "</div>"
      ]
     },
     "execution_count": 78,
     "metadata": {},
     "output_type": "execute_result"
    }
   ],
   "execution_count": 78
  },
  {
   "metadata": {
    "ExecuteTime": {
     "end_time": "2024-09-18T05:27:42.070538Z",
     "start_time": "2024-09-18T05:27:42.065700Z"
    }
   },
   "cell_type": "code",
   "source": [
    "df_datetime_invalid = df_datetime_str[df_datetime_str.apply(lambda x: not validate_datetime_in_iso_format(x.iloc[0]), axis=1)]\n",
    "df_datetime_invalid\n"
   ],
   "outputs": [
    {
     "data": {
      "text/plain": [
       "                 datetime  validity\n",
       "0     2023-12-25 24:00:00     False\n",
       "1  2023-12-25 12:60:00.12     False"
      ],
      "text/html": [
       "<div>\n",
       "<style scoped>\n",
       "    .dataframe tbody tr th:only-of-type {\n",
       "        vertical-align: middle;\n",
       "    }\n",
       "\n",
       "    .dataframe tbody tr th {\n",
       "        vertical-align: top;\n",
       "    }\n",
       "\n",
       "    .dataframe thead th {\n",
       "        text-align: right;\n",
       "    }\n",
       "</style>\n",
       "<table border=\"1\" class=\"dataframe\">\n",
       "  <thead>\n",
       "    <tr style=\"text-align: right;\">\n",
       "      <th></th>\n",
       "      <th>datetime</th>\n",
       "      <th>validity</th>\n",
       "    </tr>\n",
       "  </thead>\n",
       "  <tbody>\n",
       "    <tr>\n",
       "      <th>0</th>\n",
       "      <td>2023-12-25 24:00:00</td>\n",
       "      <td>False</td>\n",
       "    </tr>\n",
       "    <tr>\n",
       "      <th>1</th>\n",
       "      <td>2023-12-25 12:60:00.12</td>\n",
       "      <td>False</td>\n",
       "    </tr>\n",
       "  </tbody>\n",
       "</table>\n",
       "</div>"
      ]
     },
     "execution_count": 79,
     "metadata": {},
     "output_type": "execute_result"
    }
   ],
   "execution_count": 79
  },
  {
   "metadata": {
    "ExecuteTime": {
     "end_time": "2024-09-18T05:27:42.258928Z",
     "start_time": "2024-09-18T05:27:42.255050Z"
    }
   },
   "cell_type": "code",
   "source": "df_datetime['datetime']",
   "outputs": [
    {
     "data": {
      "text/plain": [
       "2                  2023-12-25 12:10:00\n",
       "3                  2023-12-25 23:00:00\n",
       "4                           2011-11-04\n",
       "5                             20111104\n",
       "6                  2011-11-04T00:05:23\n",
       "7           2011-11-04T00:05:23.283185\n",
       "8                      20111104T000523\n",
       "9               20111104T000523.283185\n",
       "10                2011-11-04T00:05:23Z\n",
       "11    2011-11-04T00:05:23.283185+08:00\n",
       "12           2011-11-04T00:05:23+08:00\n",
       "Name: datetime, dtype: object"
      ]
     },
     "execution_count": 80,
     "metadata": {},
     "output_type": "execute_result"
    }
   ],
   "execution_count": 80
  },
  {
   "metadata": {
    "ExecuteTime": {
     "end_time": "2024-09-18T05:27:42.419179Z",
     "start_time": "2024-09-18T05:27:42.415321Z"
    }
   },
   "cell_type": "code",
   "source": [
    "# df_datetime_str.apply(lambda x: validate_datetime_in_iso_format(x.iloc[0]), axis=1)\n",
    "df_datetime1 = df_datetime.apply(lambda x: datetime.fromisoformat(x['datetime']), axis=1)\n",
    "df_datetime1.name = 'datetime'\n",
    "df_datetime1\n"
   ],
   "outputs": [
    {
     "data": {
      "text/plain": [
       "2                  2023-12-25 12:10:00\n",
       "3                  2023-12-25 23:00:00\n",
       "4                  2011-11-04 00:00:00\n",
       "5                  2011-11-04 00:00:00\n",
       "6                  2011-11-04 00:05:23\n",
       "7           2011-11-04 00:05:23.283185\n",
       "8                  2011-11-04 00:05:23\n",
       "9           2011-11-04 00:05:23.283185\n",
       "10           2011-11-04 00:05:23+00:00\n",
       "11    2011-11-04 00:05:23.283185+08:00\n",
       "12           2011-11-04 00:05:23+08:00\n",
       "Name: datetime, dtype: object"
      ]
     },
     "execution_count": 81,
     "metadata": {},
     "output_type": "execute_result"
    }
   ],
   "execution_count": 81
  },
  {
   "metadata": {
    "ExecuteTime": {
     "end_time": "2024-09-18T05:27:42.657391Z",
     "start_time": "2024-09-18T05:27:42.651476Z"
    }
   },
   "cell_type": "code",
   "source": "df_datetime1.loc[0:8]",
   "outputs": [
    {
     "data": {
      "text/plain": [
       "2           2023-12-25 12:10:00\n",
       "3           2023-12-25 23:00:00\n",
       "4           2011-11-04 00:00:00\n",
       "5           2011-11-04 00:00:00\n",
       "6           2011-11-04 00:05:23\n",
       "7    2011-11-04 00:05:23.283185\n",
       "8           2011-11-04 00:05:23\n",
       "Name: datetime, dtype: object"
      ]
     },
     "execution_count": 82,
     "metadata": {},
     "output_type": "execute_result"
    }
   ],
   "execution_count": 82
  },
  {
   "metadata": {
    "ExecuteTime": {
     "end_time": "2024-09-18T05:27:42.863751Z",
     "start_time": "2024-09-18T05:27:42.857708Z"
    }
   },
   "cell_type": "code",
   "source": [
    "df_no_tz = pd.to_datetime(df_datetime1.loc[0:8])\n",
    "df_no_tz"
   ],
   "outputs": [
    {
     "data": {
      "text/plain": [
       "2   2023-12-25 12:10:00.000000\n",
       "3   2023-12-25 23:00:00.000000\n",
       "4   2011-11-04 00:00:00.000000\n",
       "5   2011-11-04 00:00:00.000000\n",
       "6   2011-11-04 00:05:23.000000\n",
       "7   2011-11-04 00:05:23.283185\n",
       "8   2011-11-04 00:05:23.000000\n",
       "Name: datetime, dtype: datetime64[ns]"
      ]
     },
     "execution_count": 83,
     "metadata": {},
     "output_type": "execute_result"
    }
   ],
   "execution_count": 83
  },
  {
   "metadata": {
    "ExecuteTime": {
     "end_time": "2024-09-18T05:27:43.066570Z",
     "start_time": "2024-09-18T05:27:43.064026Z"
    }
   },
   "cell_type": "code",
   "source": [
    "#| export\n",
    "def get_timezone_abbreviation(timezone_name):\n",
    "    timezone = pytz.timezone(timezone_name)\n",
    "    now = datetime.now(timezone)\n",
    "    return now.strftime(\"%Z\")\n",
    "\n",
    "def validate_timezone_in_iana(timezone_name):\n",
    "    return timezone_name in pytz.all_timezones\n"
   ],
   "outputs": [],
   "execution_count": 84
  },
  {
   "metadata": {
    "ExecuteTime": {
     "end_time": "2024-09-18T05:27:43.193398Z",
     "start_time": "2024-09-18T05:27:43.187083Z"
    }
   },
   "cell_type": "code",
   "source": [
    "\n",
    "time_zone_strings = [\n",
    "    'Eastern Standard Time',\n",
    "    'Eastern Daylight Time',\n",
    "    'US/Eastern',\n",
    "    'US/Daylight',\n",
    "    'Asia/Shanghai',\n",
    "    'Asia/Mumbai',\n",
    "    'America/New_York',\n",
    "    'Europe/London',\n",
    "    'America/Los_Angeles',\n",
    "    'Asia/Kolkata',\n",
    "    'Europe/London',\n",
    "    'Asia/Hong_Kong',\n",
    "    'Asia/Tokyo',\n",
    "]\n",
    "df_timezone_str = pd.DataFrame(time_zone_strings)\n",
    "df_timezone_str.columns = ['timezone']\n",
    "\n",
    "# df_datetime_str\n",
    "df_timezone_str['validity'] = df_timezone_str.apply(lambda x: validate_timezone_in_iana(x['timezone']), axis=1)\n",
    "df_timezone_str\n"
   ],
   "outputs": [
    {
     "data": {
      "text/plain": [
       "                 timezone  validity\n",
       "0   Eastern Standard Time     False\n",
       "1   Eastern Daylight Time     False\n",
       "2              US/Eastern      True\n",
       "3             US/Daylight     False\n",
       "4           Asia/Shanghai      True\n",
       "5             Asia/Mumbai     False\n",
       "6        America/New_York      True\n",
       "7           Europe/London      True\n",
       "8     America/Los_Angeles      True\n",
       "9            Asia/Kolkata      True\n",
       "10          Europe/London      True\n",
       "11         Asia/Hong_Kong      True\n",
       "12             Asia/Tokyo      True"
      ],
      "text/html": [
       "<div>\n",
       "<style scoped>\n",
       "    .dataframe tbody tr th:only-of-type {\n",
       "        vertical-align: middle;\n",
       "    }\n",
       "\n",
       "    .dataframe tbody tr th {\n",
       "        vertical-align: top;\n",
       "    }\n",
       "\n",
       "    .dataframe thead th {\n",
       "        text-align: right;\n",
       "    }\n",
       "</style>\n",
       "<table border=\"1\" class=\"dataframe\">\n",
       "  <thead>\n",
       "    <tr style=\"text-align: right;\">\n",
       "      <th></th>\n",
       "      <th>timezone</th>\n",
       "      <th>validity</th>\n",
       "    </tr>\n",
       "  </thead>\n",
       "  <tbody>\n",
       "    <tr>\n",
       "      <th>0</th>\n",
       "      <td>Eastern Standard Time</td>\n",
       "      <td>False</td>\n",
       "    </tr>\n",
       "    <tr>\n",
       "      <th>1</th>\n",
       "      <td>Eastern Daylight Time</td>\n",
       "      <td>False</td>\n",
       "    </tr>\n",
       "    <tr>\n",
       "      <th>2</th>\n",
       "      <td>US/Eastern</td>\n",
       "      <td>True</td>\n",
       "    </tr>\n",
       "    <tr>\n",
       "      <th>3</th>\n",
       "      <td>US/Daylight</td>\n",
       "      <td>False</td>\n",
       "    </tr>\n",
       "    <tr>\n",
       "      <th>4</th>\n",
       "      <td>Asia/Shanghai</td>\n",
       "      <td>True</td>\n",
       "    </tr>\n",
       "    <tr>\n",
       "      <th>5</th>\n",
       "      <td>Asia/Mumbai</td>\n",
       "      <td>False</td>\n",
       "    </tr>\n",
       "    <tr>\n",
       "      <th>6</th>\n",
       "      <td>America/New_York</td>\n",
       "      <td>True</td>\n",
       "    </tr>\n",
       "    <tr>\n",
       "      <th>7</th>\n",
       "      <td>Europe/London</td>\n",
       "      <td>True</td>\n",
       "    </tr>\n",
       "    <tr>\n",
       "      <th>8</th>\n",
       "      <td>America/Los_Angeles</td>\n",
       "      <td>True</td>\n",
       "    </tr>\n",
       "    <tr>\n",
       "      <th>9</th>\n",
       "      <td>Asia/Kolkata</td>\n",
       "      <td>True</td>\n",
       "    </tr>\n",
       "    <tr>\n",
       "      <th>10</th>\n",
       "      <td>Europe/London</td>\n",
       "      <td>True</td>\n",
       "    </tr>\n",
       "    <tr>\n",
       "      <th>11</th>\n",
       "      <td>Asia/Hong_Kong</td>\n",
       "      <td>True</td>\n",
       "    </tr>\n",
       "    <tr>\n",
       "      <th>12</th>\n",
       "      <td>Asia/Tokyo</td>\n",
       "      <td>True</td>\n",
       "    </tr>\n",
       "  </tbody>\n",
       "</table>\n",
       "</div>"
      ]
     },
     "execution_count": 85,
     "metadata": {},
     "output_type": "execute_result"
    }
   ],
   "execution_count": 85
  },
  {
   "metadata": {
    "ExecuteTime": {
     "end_time": "2024-09-18T05:28:44.413906Z",
     "start_time": "2024-09-18T05:28:44.410553Z"
    }
   },
   "cell_type": "code",
   "source": [
    "#| export\n",
    "timezone_fixing_map = {'Eastern Standard Time': 'US/Eastern',\n",
    "                       'Eastern Daylight Time': 'US/Eastern',\n",
    "                       'US/Daylight': 'US/Eastern',\n",
    "                       'Asia/Mumbai': 'Asia/Calcutta',}"
   ],
   "outputs": [],
   "execution_count": 104
  },
  {
   "metadata": {
    "ExecuteTime": {
     "end_time": "2024-09-18T05:28:46.006731Z",
     "start_time": "2024-09-18T05:28:46.004229Z"
    }
   },
   "cell_type": "code",
   "source": [
    "#| export\n",
    "def fix_timezone(timezone_name):\n",
    "    return timezone_fixing_map.get(timezone_name, timezone_name)"
   ],
   "outputs": [],
   "execution_count": 105
  },
  {
   "metadata": {
    "ExecuteTime": {
     "end_time": "2024-09-18T05:27:43.465059Z",
     "start_time": "2024-09-18T05:27:43.461317Z"
    }
   },
   "cell_type": "code",
   "source": [
    "for tz in time_zone_strings:\n",
    "    print(f\"{tz} -> {fix_timezone(tz)} -> {get_timezone_abbreviation(fix_timezone(tz))}\")\n"
   ],
   "outputs": [
    {
     "name": "stdout",
     "output_type": "stream",
     "text": [
      "Eastern Standard Time -> US/Eastern -> EDT\n",
      "Eastern Daylight Time -> US/Eastern -> EDT\n",
      "US/Eastern -> US/Eastern -> EDT\n",
      "US/Daylight -> US/Eastern -> EDT\n",
      "Asia/Shanghai -> Asia/Shanghai -> CST\n",
      "Asia/Mumbai -> Asia/Calcutta -> IST\n",
      "America/New_York -> America/New_York -> EDT\n",
      "Europe/London -> Europe/London -> BST\n",
      "America/Los_Angeles -> America/Los_Angeles -> PDT\n",
      "Asia/Kolkata -> Asia/Kolkata -> IST\n",
      "Europe/London -> Europe/London -> BST\n",
      "Asia/Hong_Kong -> Asia/Hong_Kong -> HKT\n",
      "Asia/Tokyo -> Asia/Tokyo -> JST\n"
     ]
    }
   ],
   "execution_count": 87
  },
  {
   "metadata": {
    "ExecuteTime": {
     "end_time": "2024-09-18T05:27:43.634501Z",
     "start_time": "2024-09-18T05:27:43.629619Z"
    }
   },
   "cell_type": "code",
   "source": [
    "\n",
    "df_timezone_unidentified = df_timezone_str[df_timezone_str.apply(lambda x: not validate_timezone_in_iana(x['timezone']), axis=1)]\n",
    "df_timezone_unidentified"
   ],
   "outputs": [
    {
     "data": {
      "text/plain": [
       "                timezone  validity\n",
       "0  Eastern Standard Time     False\n",
       "1  Eastern Daylight Time     False\n",
       "3            US/Daylight     False\n",
       "5            Asia/Mumbai     False"
      ],
      "text/html": [
       "<div>\n",
       "<style scoped>\n",
       "    .dataframe tbody tr th:only-of-type {\n",
       "        vertical-align: middle;\n",
       "    }\n",
       "\n",
       "    .dataframe tbody tr th {\n",
       "        vertical-align: top;\n",
       "    }\n",
       "\n",
       "    .dataframe thead th {\n",
       "        text-align: right;\n",
       "    }\n",
       "</style>\n",
       "<table border=\"1\" class=\"dataframe\">\n",
       "  <thead>\n",
       "    <tr style=\"text-align: right;\">\n",
       "      <th></th>\n",
       "      <th>timezone</th>\n",
       "      <th>validity</th>\n",
       "    </tr>\n",
       "  </thead>\n",
       "  <tbody>\n",
       "    <tr>\n",
       "      <th>0</th>\n",
       "      <td>Eastern Standard Time</td>\n",
       "      <td>False</td>\n",
       "    </tr>\n",
       "    <tr>\n",
       "      <th>1</th>\n",
       "      <td>Eastern Daylight Time</td>\n",
       "      <td>False</td>\n",
       "    </tr>\n",
       "    <tr>\n",
       "      <th>3</th>\n",
       "      <td>US/Daylight</td>\n",
       "      <td>False</td>\n",
       "    </tr>\n",
       "    <tr>\n",
       "      <th>5</th>\n",
       "      <td>Asia/Mumbai</td>\n",
       "      <td>False</td>\n",
       "    </tr>\n",
       "  </tbody>\n",
       "</table>\n",
       "</div>"
      ]
     },
     "execution_count": 88,
     "metadata": {},
     "output_type": "execute_result"
    }
   ],
   "execution_count": 88
  },
  {
   "metadata": {
    "ExecuteTime": {
     "end_time": "2024-09-18T05:27:43.751239Z",
     "start_time": "2024-09-18T05:27:43.747860Z"
    }
   },
   "cell_type": "code",
   "source": [
    "\n",
    "df_timezone_unidentified.apply(lambda x: fix_timezone(x['timezone']), axis=1)\n"
   ],
   "outputs": [
    {
     "data": {
      "text/plain": [
       "0       US/Eastern\n",
       "1       US/Eastern\n",
       "3       US/Eastern\n",
       "5    Asia/Calcutta\n",
       "dtype: object"
      ]
     },
     "execution_count": 89,
     "metadata": {},
     "output_type": "execute_result"
    }
   ],
   "execution_count": 89
  },
  {
   "metadata": {
    "ExecuteTime": {
     "end_time": "2024-09-18T05:27:43.960913Z",
     "start_time": "2024-09-18T05:27:43.951970Z"
    }
   },
   "cell_type": "code",
   "source": [
    "df_timezone_str['timezone_fixed'] = df_timezone_str.apply(lambda x: fix_timezone(x['timezone']), axis=1)\n",
    "df_timezone_str\n"
   ],
   "outputs": [
    {
     "data": {
      "text/plain": [
       "                 timezone  validity       timezone_fixed\n",
       "0   Eastern Standard Time     False           US/Eastern\n",
       "1   Eastern Daylight Time     False           US/Eastern\n",
       "2              US/Eastern      True           US/Eastern\n",
       "3             US/Daylight     False           US/Eastern\n",
       "4           Asia/Shanghai      True        Asia/Shanghai\n",
       "5             Asia/Mumbai     False        Asia/Calcutta\n",
       "6        America/New_York      True     America/New_York\n",
       "7           Europe/London      True        Europe/London\n",
       "8     America/Los_Angeles      True  America/Los_Angeles\n",
       "9            Asia/Kolkata      True         Asia/Kolkata\n",
       "10          Europe/London      True        Europe/London\n",
       "11         Asia/Hong_Kong      True       Asia/Hong_Kong\n",
       "12             Asia/Tokyo      True           Asia/Tokyo"
      ],
      "text/html": [
       "<div>\n",
       "<style scoped>\n",
       "    .dataframe tbody tr th:only-of-type {\n",
       "        vertical-align: middle;\n",
       "    }\n",
       "\n",
       "    .dataframe tbody tr th {\n",
       "        vertical-align: top;\n",
       "    }\n",
       "\n",
       "    .dataframe thead th {\n",
       "        text-align: right;\n",
       "    }\n",
       "</style>\n",
       "<table border=\"1\" class=\"dataframe\">\n",
       "  <thead>\n",
       "    <tr style=\"text-align: right;\">\n",
       "      <th></th>\n",
       "      <th>timezone</th>\n",
       "      <th>validity</th>\n",
       "      <th>timezone_fixed</th>\n",
       "    </tr>\n",
       "  </thead>\n",
       "  <tbody>\n",
       "    <tr>\n",
       "      <th>0</th>\n",
       "      <td>Eastern Standard Time</td>\n",
       "      <td>False</td>\n",
       "      <td>US/Eastern</td>\n",
       "    </tr>\n",
       "    <tr>\n",
       "      <th>1</th>\n",
       "      <td>Eastern Daylight Time</td>\n",
       "      <td>False</td>\n",
       "      <td>US/Eastern</td>\n",
       "    </tr>\n",
       "    <tr>\n",
       "      <th>2</th>\n",
       "      <td>US/Eastern</td>\n",
       "      <td>True</td>\n",
       "      <td>US/Eastern</td>\n",
       "    </tr>\n",
       "    <tr>\n",
       "      <th>3</th>\n",
       "      <td>US/Daylight</td>\n",
       "      <td>False</td>\n",
       "      <td>US/Eastern</td>\n",
       "    </tr>\n",
       "    <tr>\n",
       "      <th>4</th>\n",
       "      <td>Asia/Shanghai</td>\n",
       "      <td>True</td>\n",
       "      <td>Asia/Shanghai</td>\n",
       "    </tr>\n",
       "    <tr>\n",
       "      <th>5</th>\n",
       "      <td>Asia/Mumbai</td>\n",
       "      <td>False</td>\n",
       "      <td>Asia/Calcutta</td>\n",
       "    </tr>\n",
       "    <tr>\n",
       "      <th>6</th>\n",
       "      <td>America/New_York</td>\n",
       "      <td>True</td>\n",
       "      <td>America/New_York</td>\n",
       "    </tr>\n",
       "    <tr>\n",
       "      <th>7</th>\n",
       "      <td>Europe/London</td>\n",
       "      <td>True</td>\n",
       "      <td>Europe/London</td>\n",
       "    </tr>\n",
       "    <tr>\n",
       "      <th>8</th>\n",
       "      <td>America/Los_Angeles</td>\n",
       "      <td>True</td>\n",
       "      <td>America/Los_Angeles</td>\n",
       "    </tr>\n",
       "    <tr>\n",
       "      <th>9</th>\n",
       "      <td>Asia/Kolkata</td>\n",
       "      <td>True</td>\n",
       "      <td>Asia/Kolkata</td>\n",
       "    </tr>\n",
       "    <tr>\n",
       "      <th>10</th>\n",
       "      <td>Europe/London</td>\n",
       "      <td>True</td>\n",
       "      <td>Europe/London</td>\n",
       "    </tr>\n",
       "    <tr>\n",
       "      <th>11</th>\n",
       "      <td>Asia/Hong_Kong</td>\n",
       "      <td>True</td>\n",
       "      <td>Asia/Hong_Kong</td>\n",
       "    </tr>\n",
       "    <tr>\n",
       "      <th>12</th>\n",
       "      <td>Asia/Tokyo</td>\n",
       "      <td>True</td>\n",
       "      <td>Asia/Tokyo</td>\n",
       "    </tr>\n",
       "  </tbody>\n",
       "</table>\n",
       "</div>"
      ]
     },
     "execution_count": 90,
     "metadata": {},
     "output_type": "execute_result"
    }
   ],
   "execution_count": 90
  },
  {
   "metadata": {
    "ExecuteTime": {
     "end_time": "2024-09-18T05:27:44.178975Z",
     "start_time": "2024-09-18T05:27:44.170194Z"
    }
   },
   "cell_type": "code",
   "source": [
    "\n",
    "df_timezone = df_timezone_str[df_timezone_str.apply(lambda x: validate_timezone_in_iana(x['timezone_fixed']), axis=1)]\n",
    "df_timezone"
   ],
   "outputs": [
    {
     "data": {
      "text/plain": [
       "                 timezone  validity       timezone_fixed\n",
       "0   Eastern Standard Time     False           US/Eastern\n",
       "1   Eastern Daylight Time     False           US/Eastern\n",
       "2              US/Eastern      True           US/Eastern\n",
       "3             US/Daylight     False           US/Eastern\n",
       "4           Asia/Shanghai      True        Asia/Shanghai\n",
       "5             Asia/Mumbai     False        Asia/Calcutta\n",
       "6        America/New_York      True     America/New_York\n",
       "7           Europe/London      True        Europe/London\n",
       "8     America/Los_Angeles      True  America/Los_Angeles\n",
       "9            Asia/Kolkata      True         Asia/Kolkata\n",
       "10          Europe/London      True        Europe/London\n",
       "11         Asia/Hong_Kong      True       Asia/Hong_Kong\n",
       "12             Asia/Tokyo      True           Asia/Tokyo"
      ],
      "text/html": [
       "<div>\n",
       "<style scoped>\n",
       "    .dataframe tbody tr th:only-of-type {\n",
       "        vertical-align: middle;\n",
       "    }\n",
       "\n",
       "    .dataframe tbody tr th {\n",
       "        vertical-align: top;\n",
       "    }\n",
       "\n",
       "    .dataframe thead th {\n",
       "        text-align: right;\n",
       "    }\n",
       "</style>\n",
       "<table border=\"1\" class=\"dataframe\">\n",
       "  <thead>\n",
       "    <tr style=\"text-align: right;\">\n",
       "      <th></th>\n",
       "      <th>timezone</th>\n",
       "      <th>validity</th>\n",
       "      <th>timezone_fixed</th>\n",
       "    </tr>\n",
       "  </thead>\n",
       "  <tbody>\n",
       "    <tr>\n",
       "      <th>0</th>\n",
       "      <td>Eastern Standard Time</td>\n",
       "      <td>False</td>\n",
       "      <td>US/Eastern</td>\n",
       "    </tr>\n",
       "    <tr>\n",
       "      <th>1</th>\n",
       "      <td>Eastern Daylight Time</td>\n",
       "      <td>False</td>\n",
       "      <td>US/Eastern</td>\n",
       "    </tr>\n",
       "    <tr>\n",
       "      <th>2</th>\n",
       "      <td>US/Eastern</td>\n",
       "      <td>True</td>\n",
       "      <td>US/Eastern</td>\n",
       "    </tr>\n",
       "    <tr>\n",
       "      <th>3</th>\n",
       "      <td>US/Daylight</td>\n",
       "      <td>False</td>\n",
       "      <td>US/Eastern</td>\n",
       "    </tr>\n",
       "    <tr>\n",
       "      <th>4</th>\n",
       "      <td>Asia/Shanghai</td>\n",
       "      <td>True</td>\n",
       "      <td>Asia/Shanghai</td>\n",
       "    </tr>\n",
       "    <tr>\n",
       "      <th>5</th>\n",
       "      <td>Asia/Mumbai</td>\n",
       "      <td>False</td>\n",
       "      <td>Asia/Calcutta</td>\n",
       "    </tr>\n",
       "    <tr>\n",
       "      <th>6</th>\n",
       "      <td>America/New_York</td>\n",
       "      <td>True</td>\n",
       "      <td>America/New_York</td>\n",
       "    </tr>\n",
       "    <tr>\n",
       "      <th>7</th>\n",
       "      <td>Europe/London</td>\n",
       "      <td>True</td>\n",
       "      <td>Europe/London</td>\n",
       "    </tr>\n",
       "    <tr>\n",
       "      <th>8</th>\n",
       "      <td>America/Los_Angeles</td>\n",
       "      <td>True</td>\n",
       "      <td>America/Los_Angeles</td>\n",
       "    </tr>\n",
       "    <tr>\n",
       "      <th>9</th>\n",
       "      <td>Asia/Kolkata</td>\n",
       "      <td>True</td>\n",
       "      <td>Asia/Kolkata</td>\n",
       "    </tr>\n",
       "    <tr>\n",
       "      <th>10</th>\n",
       "      <td>Europe/London</td>\n",
       "      <td>True</td>\n",
       "      <td>Europe/London</td>\n",
       "    </tr>\n",
       "    <tr>\n",
       "      <th>11</th>\n",
       "      <td>Asia/Hong_Kong</td>\n",
       "      <td>True</td>\n",
       "      <td>Asia/Hong_Kong</td>\n",
       "    </tr>\n",
       "    <tr>\n",
       "      <th>12</th>\n",
       "      <td>Asia/Tokyo</td>\n",
       "      <td>True</td>\n",
       "      <td>Asia/Tokyo</td>\n",
       "    </tr>\n",
       "  </tbody>\n",
       "</table>\n",
       "</div>"
      ]
     },
     "execution_count": 91,
     "metadata": {},
     "output_type": "execute_result"
    }
   ],
   "execution_count": 91
  },
  {
   "metadata": {
    "ExecuteTime": {
     "end_time": "2024-09-18T05:27:44.390980Z",
     "start_time": "2024-09-18T05:27:44.384740Z"
    }
   },
   "cell_type": "code",
   "source": [
    "# extract invalid data\n",
    "df_timezone_invalid = df_timezone_str[df_timezone_str.apply(lambda x: not validate_timezone_in_iana(x.iloc[0]), axis=1)]\n",
    "df_timezone_invalid"
   ],
   "outputs": [
    {
     "data": {
      "text/plain": [
       "                timezone  validity timezone_fixed\n",
       "0  Eastern Standard Time     False     US/Eastern\n",
       "1  Eastern Daylight Time     False     US/Eastern\n",
       "3            US/Daylight     False     US/Eastern\n",
       "5            Asia/Mumbai     False  Asia/Calcutta"
      ],
      "text/html": [
       "<div>\n",
       "<style scoped>\n",
       "    .dataframe tbody tr th:only-of-type {\n",
       "        vertical-align: middle;\n",
       "    }\n",
       "\n",
       "    .dataframe tbody tr th {\n",
       "        vertical-align: top;\n",
       "    }\n",
       "\n",
       "    .dataframe thead th {\n",
       "        text-align: right;\n",
       "    }\n",
       "</style>\n",
       "<table border=\"1\" class=\"dataframe\">\n",
       "  <thead>\n",
       "    <tr style=\"text-align: right;\">\n",
       "      <th></th>\n",
       "      <th>timezone</th>\n",
       "      <th>validity</th>\n",
       "      <th>timezone_fixed</th>\n",
       "    </tr>\n",
       "  </thead>\n",
       "  <tbody>\n",
       "    <tr>\n",
       "      <th>0</th>\n",
       "      <td>Eastern Standard Time</td>\n",
       "      <td>False</td>\n",
       "      <td>US/Eastern</td>\n",
       "    </tr>\n",
       "    <tr>\n",
       "      <th>1</th>\n",
       "      <td>Eastern Daylight Time</td>\n",
       "      <td>False</td>\n",
       "      <td>US/Eastern</td>\n",
       "    </tr>\n",
       "    <tr>\n",
       "      <th>3</th>\n",
       "      <td>US/Daylight</td>\n",
       "      <td>False</td>\n",
       "      <td>US/Eastern</td>\n",
       "    </tr>\n",
       "    <tr>\n",
       "      <th>5</th>\n",
       "      <td>Asia/Mumbai</td>\n",
       "      <td>False</td>\n",
       "      <td>Asia/Calcutta</td>\n",
       "    </tr>\n",
       "  </tbody>\n",
       "</table>\n",
       "</div>"
      ]
     },
     "execution_count": 92,
     "metadata": {},
     "output_type": "execute_result"
    }
   ],
   "execution_count": 92
  },
  {
   "metadata": {
    "ExecuteTime": {
     "end_time": "2024-09-18T05:27:44.564902Z",
     "start_time": "2024-09-18T05:27:44.557845Z"
    }
   },
   "cell_type": "code",
   "source": [
    "df_abbr = df_timezone.apply(lambda x: get_timezone_abbreviation(x.loc['timezone_fixed']), axis=1)\n",
    "df_abbr.name = 'abbr'\n",
    "df_abbr"
   ],
   "outputs": [
    {
     "data": {
      "text/plain": [
       "0     EDT\n",
       "1     EDT\n",
       "2     EDT\n",
       "3     EDT\n",
       "4     CST\n",
       "5     IST\n",
       "6     EDT\n",
       "7     BST\n",
       "8     PDT\n",
       "9     IST\n",
       "10    BST\n",
       "11    HKT\n",
       "12    JST\n",
       "Name: abbr, dtype: object"
      ]
     },
     "execution_count": 93,
     "metadata": {},
     "output_type": "execute_result"
    }
   ],
   "execution_count": 93
  },
  {
   "metadata": {
    "ExecuteTime": {
     "end_time": "2024-09-18T05:27:44.888273Z",
     "start_time": "2024-09-18T05:27:44.883307Z"
    }
   },
   "cell_type": "code",
   "source": "df_timezone",
   "outputs": [
    {
     "data": {
      "text/plain": [
       "                 timezone  validity       timezone_fixed\n",
       "0   Eastern Standard Time     False           US/Eastern\n",
       "1   Eastern Daylight Time     False           US/Eastern\n",
       "2              US/Eastern      True           US/Eastern\n",
       "3             US/Daylight     False           US/Eastern\n",
       "4           Asia/Shanghai      True        Asia/Shanghai\n",
       "5             Asia/Mumbai     False        Asia/Calcutta\n",
       "6        America/New_York      True     America/New_York\n",
       "7           Europe/London      True        Europe/London\n",
       "8     America/Los_Angeles      True  America/Los_Angeles\n",
       "9            Asia/Kolkata      True         Asia/Kolkata\n",
       "10          Europe/London      True        Europe/London\n",
       "11         Asia/Hong_Kong      True       Asia/Hong_Kong\n",
       "12             Asia/Tokyo      True           Asia/Tokyo"
      ],
      "text/html": [
       "<div>\n",
       "<style scoped>\n",
       "    .dataframe tbody tr th:only-of-type {\n",
       "        vertical-align: middle;\n",
       "    }\n",
       "\n",
       "    .dataframe tbody tr th {\n",
       "        vertical-align: top;\n",
       "    }\n",
       "\n",
       "    .dataframe thead th {\n",
       "        text-align: right;\n",
       "    }\n",
       "</style>\n",
       "<table border=\"1\" class=\"dataframe\">\n",
       "  <thead>\n",
       "    <tr style=\"text-align: right;\">\n",
       "      <th></th>\n",
       "      <th>timezone</th>\n",
       "      <th>validity</th>\n",
       "      <th>timezone_fixed</th>\n",
       "    </tr>\n",
       "  </thead>\n",
       "  <tbody>\n",
       "    <tr>\n",
       "      <th>0</th>\n",
       "      <td>Eastern Standard Time</td>\n",
       "      <td>False</td>\n",
       "      <td>US/Eastern</td>\n",
       "    </tr>\n",
       "    <tr>\n",
       "      <th>1</th>\n",
       "      <td>Eastern Daylight Time</td>\n",
       "      <td>False</td>\n",
       "      <td>US/Eastern</td>\n",
       "    </tr>\n",
       "    <tr>\n",
       "      <th>2</th>\n",
       "      <td>US/Eastern</td>\n",
       "      <td>True</td>\n",
       "      <td>US/Eastern</td>\n",
       "    </tr>\n",
       "    <tr>\n",
       "      <th>3</th>\n",
       "      <td>US/Daylight</td>\n",
       "      <td>False</td>\n",
       "      <td>US/Eastern</td>\n",
       "    </tr>\n",
       "    <tr>\n",
       "      <th>4</th>\n",
       "      <td>Asia/Shanghai</td>\n",
       "      <td>True</td>\n",
       "      <td>Asia/Shanghai</td>\n",
       "    </tr>\n",
       "    <tr>\n",
       "      <th>5</th>\n",
       "      <td>Asia/Mumbai</td>\n",
       "      <td>False</td>\n",
       "      <td>Asia/Calcutta</td>\n",
       "    </tr>\n",
       "    <tr>\n",
       "      <th>6</th>\n",
       "      <td>America/New_York</td>\n",
       "      <td>True</td>\n",
       "      <td>America/New_York</td>\n",
       "    </tr>\n",
       "    <tr>\n",
       "      <th>7</th>\n",
       "      <td>Europe/London</td>\n",
       "      <td>True</td>\n",
       "      <td>Europe/London</td>\n",
       "    </tr>\n",
       "    <tr>\n",
       "      <th>8</th>\n",
       "      <td>America/Los_Angeles</td>\n",
       "      <td>True</td>\n",
       "      <td>America/Los_Angeles</td>\n",
       "    </tr>\n",
       "    <tr>\n",
       "      <th>9</th>\n",
       "      <td>Asia/Kolkata</td>\n",
       "      <td>True</td>\n",
       "      <td>Asia/Kolkata</td>\n",
       "    </tr>\n",
       "    <tr>\n",
       "      <th>10</th>\n",
       "      <td>Europe/London</td>\n",
       "      <td>True</td>\n",
       "      <td>Europe/London</td>\n",
       "    </tr>\n",
       "    <tr>\n",
       "      <th>11</th>\n",
       "      <td>Asia/Hong_Kong</td>\n",
       "      <td>True</td>\n",
       "      <td>Asia/Hong_Kong</td>\n",
       "    </tr>\n",
       "    <tr>\n",
       "      <th>12</th>\n",
       "      <td>Asia/Tokyo</td>\n",
       "      <td>True</td>\n",
       "      <td>Asia/Tokyo</td>\n",
       "    </tr>\n",
       "  </tbody>\n",
       "</table>\n",
       "</div>"
      ]
     },
     "execution_count": 94,
     "metadata": {},
     "output_type": "execute_result"
    }
   ],
   "execution_count": 94
  },
  {
   "metadata": {
    "ExecuteTime": {
     "end_time": "2024-09-18T05:27:45.085417Z",
     "start_time": "2024-09-18T05:27:45.077767Z"
    }
   },
   "cell_type": "code",
   "source": [
    "# df_timezone_str['validity'] = df_timezone_str.apply(lambda x: validate_timezone_in_iana(x.iloc[0]), axis=1)\n",
    "# df_timezone['abbr'] = df_timezone.apply(lambda x: get_timezone_abbreviation(x.iloc[0]), axis=1)\n",
    "# df_timezone.apply(lambda x: get_timezone_abbreviation(x.iloc[0]), axis=1)\n",
    "df_timezone.loc[:,'abbr'] = df_abbr\n",
    "df_timezone\n",
    "# df_timezone\n"
   ],
   "outputs": [
    {
     "data": {
      "text/plain": [
       "                 timezone  validity       timezone_fixed abbr\n",
       "0   Eastern Standard Time     False           US/Eastern  EDT\n",
       "1   Eastern Daylight Time     False           US/Eastern  EDT\n",
       "2              US/Eastern      True           US/Eastern  EDT\n",
       "3             US/Daylight     False           US/Eastern  EDT\n",
       "4           Asia/Shanghai      True        Asia/Shanghai  CST\n",
       "5             Asia/Mumbai     False        Asia/Calcutta  IST\n",
       "6        America/New_York      True     America/New_York  EDT\n",
       "7           Europe/London      True        Europe/London  BST\n",
       "8     America/Los_Angeles      True  America/Los_Angeles  PDT\n",
       "9            Asia/Kolkata      True         Asia/Kolkata  IST\n",
       "10          Europe/London      True        Europe/London  BST\n",
       "11         Asia/Hong_Kong      True       Asia/Hong_Kong  HKT\n",
       "12             Asia/Tokyo      True           Asia/Tokyo  JST"
      ],
      "text/html": [
       "<div>\n",
       "<style scoped>\n",
       "    .dataframe tbody tr th:only-of-type {\n",
       "        vertical-align: middle;\n",
       "    }\n",
       "\n",
       "    .dataframe tbody tr th {\n",
       "        vertical-align: top;\n",
       "    }\n",
       "\n",
       "    .dataframe thead th {\n",
       "        text-align: right;\n",
       "    }\n",
       "</style>\n",
       "<table border=\"1\" class=\"dataframe\">\n",
       "  <thead>\n",
       "    <tr style=\"text-align: right;\">\n",
       "      <th></th>\n",
       "      <th>timezone</th>\n",
       "      <th>validity</th>\n",
       "      <th>timezone_fixed</th>\n",
       "      <th>abbr</th>\n",
       "    </tr>\n",
       "  </thead>\n",
       "  <tbody>\n",
       "    <tr>\n",
       "      <th>0</th>\n",
       "      <td>Eastern Standard Time</td>\n",
       "      <td>False</td>\n",
       "      <td>US/Eastern</td>\n",
       "      <td>EDT</td>\n",
       "    </tr>\n",
       "    <tr>\n",
       "      <th>1</th>\n",
       "      <td>Eastern Daylight Time</td>\n",
       "      <td>False</td>\n",
       "      <td>US/Eastern</td>\n",
       "      <td>EDT</td>\n",
       "    </tr>\n",
       "    <tr>\n",
       "      <th>2</th>\n",
       "      <td>US/Eastern</td>\n",
       "      <td>True</td>\n",
       "      <td>US/Eastern</td>\n",
       "      <td>EDT</td>\n",
       "    </tr>\n",
       "    <tr>\n",
       "      <th>3</th>\n",
       "      <td>US/Daylight</td>\n",
       "      <td>False</td>\n",
       "      <td>US/Eastern</td>\n",
       "      <td>EDT</td>\n",
       "    </tr>\n",
       "    <tr>\n",
       "      <th>4</th>\n",
       "      <td>Asia/Shanghai</td>\n",
       "      <td>True</td>\n",
       "      <td>Asia/Shanghai</td>\n",
       "      <td>CST</td>\n",
       "    </tr>\n",
       "    <tr>\n",
       "      <th>5</th>\n",
       "      <td>Asia/Mumbai</td>\n",
       "      <td>False</td>\n",
       "      <td>Asia/Calcutta</td>\n",
       "      <td>IST</td>\n",
       "    </tr>\n",
       "    <tr>\n",
       "      <th>6</th>\n",
       "      <td>America/New_York</td>\n",
       "      <td>True</td>\n",
       "      <td>America/New_York</td>\n",
       "      <td>EDT</td>\n",
       "    </tr>\n",
       "    <tr>\n",
       "      <th>7</th>\n",
       "      <td>Europe/London</td>\n",
       "      <td>True</td>\n",
       "      <td>Europe/London</td>\n",
       "      <td>BST</td>\n",
       "    </tr>\n",
       "    <tr>\n",
       "      <th>8</th>\n",
       "      <td>America/Los_Angeles</td>\n",
       "      <td>True</td>\n",
       "      <td>America/Los_Angeles</td>\n",
       "      <td>PDT</td>\n",
       "    </tr>\n",
       "    <tr>\n",
       "      <th>9</th>\n",
       "      <td>Asia/Kolkata</td>\n",
       "      <td>True</td>\n",
       "      <td>Asia/Kolkata</td>\n",
       "      <td>IST</td>\n",
       "    </tr>\n",
       "    <tr>\n",
       "      <th>10</th>\n",
       "      <td>Europe/London</td>\n",
       "      <td>True</td>\n",
       "      <td>Europe/London</td>\n",
       "      <td>BST</td>\n",
       "    </tr>\n",
       "    <tr>\n",
       "      <th>11</th>\n",
       "      <td>Asia/Hong_Kong</td>\n",
       "      <td>True</td>\n",
       "      <td>Asia/Hong_Kong</td>\n",
       "      <td>HKT</td>\n",
       "    </tr>\n",
       "    <tr>\n",
       "      <th>12</th>\n",
       "      <td>Asia/Tokyo</td>\n",
       "      <td>True</td>\n",
       "      <td>Asia/Tokyo</td>\n",
       "      <td>JST</td>\n",
       "    </tr>\n",
       "  </tbody>\n",
       "</table>\n",
       "</div>"
      ]
     },
     "execution_count": 95,
     "metadata": {},
     "output_type": "execute_result"
    }
   ],
   "execution_count": 95
  },
  {
   "metadata": {
    "ExecuteTime": {
     "end_time": "2024-09-18T05:27:45.278518Z",
     "start_time": "2024-09-18T05:27:45.274682Z"
    }
   },
   "cell_type": "code",
   "source": [
    "\n",
    "df_utc_offset = (df_timezone.apply(lambda x: datetime.now(pytz.timezone(x.loc['timezone_fixed'])), axis=1)\n",
    "                            .apply(lambda x: x.strftime('%z')))\n",
    "df_utc_offset.name = 'utc_offset'\n",
    "df_utc_offset\n"
   ],
   "outputs": [
    {
     "data": {
      "text/plain": [
       "0     -0400\n",
       "1     -0400\n",
       "2     -0400\n",
       "3     -0400\n",
       "4     +0800\n",
       "5     +0530\n",
       "6     -0400\n",
       "7     +0100\n",
       "8     -0700\n",
       "9     +0530\n",
       "10    +0100\n",
       "11    +0800\n",
       "12    +0900\n",
       "Name: utc_offset, dtype: object"
      ]
     },
     "execution_count": 96,
     "metadata": {},
     "output_type": "execute_result"
    }
   ],
   "execution_count": 96
  },
  {
   "metadata": {
    "ExecuteTime": {
     "end_time": "2024-09-18T05:27:45.477825Z",
     "start_time": "2024-09-18T05:27:45.472734Z"
    }
   },
   "cell_type": "code",
   "source": [
    "\n",
    "df_timezone.loc[:,'utc_offset'] = df_utc_offset\n",
    "df_timezone\n"
   ],
   "outputs": [
    {
     "data": {
      "text/plain": [
       "                 timezone  validity       timezone_fixed abbr utc_offset\n",
       "0   Eastern Standard Time     False           US/Eastern  EDT      -0400\n",
       "1   Eastern Daylight Time     False           US/Eastern  EDT      -0400\n",
       "2              US/Eastern      True           US/Eastern  EDT      -0400\n",
       "3             US/Daylight     False           US/Eastern  EDT      -0400\n",
       "4           Asia/Shanghai      True        Asia/Shanghai  CST      +0800\n",
       "5             Asia/Mumbai     False        Asia/Calcutta  IST      +0530\n",
       "6        America/New_York      True     America/New_York  EDT      -0400\n",
       "7           Europe/London      True        Europe/London  BST      +0100\n",
       "8     America/Los_Angeles      True  America/Los_Angeles  PDT      -0700\n",
       "9            Asia/Kolkata      True         Asia/Kolkata  IST      +0530\n",
       "10          Europe/London      True        Europe/London  BST      +0100\n",
       "11         Asia/Hong_Kong      True       Asia/Hong_Kong  HKT      +0800\n",
       "12             Asia/Tokyo      True           Asia/Tokyo  JST      +0900"
      ],
      "text/html": [
       "<div>\n",
       "<style scoped>\n",
       "    .dataframe tbody tr th:only-of-type {\n",
       "        vertical-align: middle;\n",
       "    }\n",
       "\n",
       "    .dataframe tbody tr th {\n",
       "        vertical-align: top;\n",
       "    }\n",
       "\n",
       "    .dataframe thead th {\n",
       "        text-align: right;\n",
       "    }\n",
       "</style>\n",
       "<table border=\"1\" class=\"dataframe\">\n",
       "  <thead>\n",
       "    <tr style=\"text-align: right;\">\n",
       "      <th></th>\n",
       "      <th>timezone</th>\n",
       "      <th>validity</th>\n",
       "      <th>timezone_fixed</th>\n",
       "      <th>abbr</th>\n",
       "      <th>utc_offset</th>\n",
       "    </tr>\n",
       "  </thead>\n",
       "  <tbody>\n",
       "    <tr>\n",
       "      <th>0</th>\n",
       "      <td>Eastern Standard Time</td>\n",
       "      <td>False</td>\n",
       "      <td>US/Eastern</td>\n",
       "      <td>EDT</td>\n",
       "      <td>-0400</td>\n",
       "    </tr>\n",
       "    <tr>\n",
       "      <th>1</th>\n",
       "      <td>Eastern Daylight Time</td>\n",
       "      <td>False</td>\n",
       "      <td>US/Eastern</td>\n",
       "      <td>EDT</td>\n",
       "      <td>-0400</td>\n",
       "    </tr>\n",
       "    <tr>\n",
       "      <th>2</th>\n",
       "      <td>US/Eastern</td>\n",
       "      <td>True</td>\n",
       "      <td>US/Eastern</td>\n",
       "      <td>EDT</td>\n",
       "      <td>-0400</td>\n",
       "    </tr>\n",
       "    <tr>\n",
       "      <th>3</th>\n",
       "      <td>US/Daylight</td>\n",
       "      <td>False</td>\n",
       "      <td>US/Eastern</td>\n",
       "      <td>EDT</td>\n",
       "      <td>-0400</td>\n",
       "    </tr>\n",
       "    <tr>\n",
       "      <th>4</th>\n",
       "      <td>Asia/Shanghai</td>\n",
       "      <td>True</td>\n",
       "      <td>Asia/Shanghai</td>\n",
       "      <td>CST</td>\n",
       "      <td>+0800</td>\n",
       "    </tr>\n",
       "    <tr>\n",
       "      <th>5</th>\n",
       "      <td>Asia/Mumbai</td>\n",
       "      <td>False</td>\n",
       "      <td>Asia/Calcutta</td>\n",
       "      <td>IST</td>\n",
       "      <td>+0530</td>\n",
       "    </tr>\n",
       "    <tr>\n",
       "      <th>6</th>\n",
       "      <td>America/New_York</td>\n",
       "      <td>True</td>\n",
       "      <td>America/New_York</td>\n",
       "      <td>EDT</td>\n",
       "      <td>-0400</td>\n",
       "    </tr>\n",
       "    <tr>\n",
       "      <th>7</th>\n",
       "      <td>Europe/London</td>\n",
       "      <td>True</td>\n",
       "      <td>Europe/London</td>\n",
       "      <td>BST</td>\n",
       "      <td>+0100</td>\n",
       "    </tr>\n",
       "    <tr>\n",
       "      <th>8</th>\n",
       "      <td>America/Los_Angeles</td>\n",
       "      <td>True</td>\n",
       "      <td>America/Los_Angeles</td>\n",
       "      <td>PDT</td>\n",
       "      <td>-0700</td>\n",
       "    </tr>\n",
       "    <tr>\n",
       "      <th>9</th>\n",
       "      <td>Asia/Kolkata</td>\n",
       "      <td>True</td>\n",
       "      <td>Asia/Kolkata</td>\n",
       "      <td>IST</td>\n",
       "      <td>+0530</td>\n",
       "    </tr>\n",
       "    <tr>\n",
       "      <th>10</th>\n",
       "      <td>Europe/London</td>\n",
       "      <td>True</td>\n",
       "      <td>Europe/London</td>\n",
       "      <td>BST</td>\n",
       "      <td>+0100</td>\n",
       "    </tr>\n",
       "    <tr>\n",
       "      <th>11</th>\n",
       "      <td>Asia/Hong_Kong</td>\n",
       "      <td>True</td>\n",
       "      <td>Asia/Hong_Kong</td>\n",
       "      <td>HKT</td>\n",
       "      <td>+0800</td>\n",
       "    </tr>\n",
       "    <tr>\n",
       "      <th>12</th>\n",
       "      <td>Asia/Tokyo</td>\n",
       "      <td>True</td>\n",
       "      <td>Asia/Tokyo</td>\n",
       "      <td>JST</td>\n",
       "      <td>+0900</td>\n",
       "    </tr>\n",
       "  </tbody>\n",
       "</table>\n",
       "</div>"
      ]
     },
     "execution_count": 97,
     "metadata": {},
     "output_type": "execute_result"
    }
   ],
   "execution_count": 97
  },
  {
   "metadata": {
    "ExecuteTime": {
     "end_time": "2024-09-18T05:27:45.679138Z",
     "start_time": "2024-09-18T05:27:45.675838Z"
    }
   },
   "cell_type": "code",
   "source": [
    "for tz in df_timezone.loc[:,'timezone_fixed']:\n",
    "    print(f\"{tz}: {datetime.now(pytz.timezone(tz))} - {datetime.now(pytz.timezone(tz)).strftime('%Z')}, {datetime.now(pytz.timezone(tz)).strftime('%z')}\")"
   ],
   "outputs": [
    {
     "name": "stdout",
     "output_type": "stream",
     "text": [
      "US/Eastern: 2024-09-18 01:27:45.676836-04:00 - EDT, -0400\n",
      "US/Eastern: 2024-09-18 01:27:45.676916-04:00 - EDT, -0400\n",
      "US/Eastern: 2024-09-18 01:27:45.676956-04:00 - EDT, -0400\n",
      "US/Eastern: 2024-09-18 01:27:45.677000-04:00 - EDT, -0400\n",
      "Asia/Shanghai: 2024-09-18 13:27:45.677040+08:00 - CST, +0800\n",
      "Asia/Calcutta: 2024-09-18 10:57:45.677080+05:30 - IST, +0530\n",
      "America/New_York: 2024-09-18 01:27:45.677121-04:00 - EDT, -0400\n",
      "Europe/London: 2024-09-18 06:27:45.677151+01:00 - BST, +0100\n",
      "America/Los_Angeles: 2024-09-17 22:27:45.677175-07:00 - PDT, -0700\n",
      "Asia/Kolkata: 2024-09-18 10:57:45.677201+05:30 - IST, +0530\n",
      "Europe/London: 2024-09-18 06:27:45.677221+01:00 - BST, +0100\n",
      "Asia/Hong_Kong: 2024-09-18 13:27:45.677240+08:00 - HKT, +0800\n",
      "Asia/Tokyo: 2024-09-18 14:27:45.677262+09:00 - JST, +0900\n"
     ]
    }
   ],
   "execution_count": 98
  },
  {
   "metadata": {
    "ExecuteTime": {
     "end_time": "2024-09-18T05:27:45.978802Z",
     "start_time": "2024-09-18T05:27:45.972723Z"
    }
   },
   "cell_type": "code",
   "source": [
    "for dt,tz in zip(df_no_tz, df_timezone.loc[:,'timezone_fixed']):\n",
    "    print(f\"{dt}: {dt.tz_localize(tz)}, as {dt.tz_localize(tz).astimezone('utc')}\")"
   ],
   "outputs": [
    {
     "name": "stdout",
     "output_type": "stream",
     "text": [
      "2023-12-25 12:10:00: 2023-12-25 12:10:00-05:00, as 2023-12-25 17:10:00+00:00\n",
      "2023-12-25 23:00:00: 2023-12-25 23:00:00-05:00, as 2023-12-26 04:00:00+00:00\n",
      "2011-11-04 00:00:00: 2011-11-04 00:00:00-04:00, as 2011-11-04 04:00:00+00:00\n",
      "2011-11-04 00:00:00: 2011-11-04 00:00:00-04:00, as 2011-11-04 04:00:00+00:00\n",
      "2011-11-04 00:05:23: 2011-11-04 00:05:23+08:00, as 2011-11-03 16:05:23+00:00\n",
      "2011-11-04 00:05:23.283185: 2011-11-04 00:05:23.283185+05:30, as 2011-11-03 18:35:23.283185+00:00\n",
      "2011-11-04 00:05:23: 2011-11-04 00:05:23-04:00, as 2011-11-04 04:05:23+00:00\n"
     ]
    }
   ],
   "execution_count": 99
  },
  {
   "metadata": {
    "ExecuteTime": {
     "end_time": "2024-09-18T05:27:46.149441Z",
     "start_time": "2024-09-18T05:27:46.146516Z"
    }
   },
   "cell_type": "code",
   "source": "from zoneinfo import ZoneInfo",
   "outputs": [],
   "execution_count": 100
  },
  {
   "metadata": {
    "ExecuteTime": {
     "end_time": "2024-09-18T05:27:46.237956Z",
     "start_time": "2024-09-18T05:27:46.233819Z"
    }
   },
   "cell_type": "code",
   "source": [
    "for dt,tz in zip(df_no_tz, df_timezone.loc[:,'timezone_fixed']):\n",
    "    tz_zone = pytz.timezone(tz)\n",
    "    print(f\"{dt}: {tz_zone.localize(dt)}, or {dt.replace(tzinfo=tz_zone)}, or {dt.tz_localize(tz)}, as {dt.tz_localize(tz).astimezone('utc')}\")"
   ],
   "outputs": [
    {
     "name": "stdout",
     "output_type": "stream",
     "text": [
      "2023-12-25 12:10:00: 2023-12-25 12:10:00-05:00, or 2023-12-25 12:10:00-05:00, or 2023-12-25 12:10:00-05:00, as 2023-12-25 17:10:00+00:00\n",
      "2023-12-25 23:00:00: 2023-12-25 23:00:00-05:00, or 2023-12-25 23:00:00-05:00, or 2023-12-25 23:00:00-05:00, as 2023-12-26 04:00:00+00:00\n",
      "2011-11-04 00:00:00: 2011-11-04 00:00:00-04:00, or 2011-11-04 00:00:00-04:00, or 2011-11-04 00:00:00-04:00, as 2011-11-04 04:00:00+00:00\n",
      "2011-11-04 00:00:00: 2011-11-04 00:00:00-04:00, or 2011-11-04 00:00:00-04:00, or 2011-11-04 00:00:00-04:00, as 2011-11-04 04:00:00+00:00\n",
      "2011-11-04 00:05:23: 2011-11-04 00:05:23+08:00, or 2011-11-04 00:05:23+08:00, or 2011-11-04 00:05:23+08:00, as 2011-11-03 16:05:23+00:00\n",
      "2011-11-04 00:05:23.283185: 2011-11-04 00:05:23.283185+05:30, or 2011-11-04 00:05:23.283185+05:30, or 2011-11-04 00:05:23.283185+05:30, as 2011-11-03 18:35:23.283185+00:00\n",
      "2011-11-04 00:05:23: 2011-11-04 00:05:23-04:00, or 2011-11-04 00:05:23-04:00, or 2011-11-04 00:05:23-04:00, as 2011-11-04 04:05:23+00:00\n"
     ]
    }
   ],
   "execution_count": 101
  },
  {
   "cell_type": "code",
   "metadata": {
    "ExecuteTime": {
     "end_time": "2024-09-18T05:28:52.649081Z",
     "start_time": "2024-09-18T05:28:52.620087Z"
    }
   },
   "source": [
    "#| hide\n",
    "import nbdev; nbdev.nbdev_export()"
   ],
   "outputs": [],
   "execution_count": 106
  },
  {
   "metadata": {
    "ExecuteTime": {
     "end_time": "2024-09-18T05:27:46.476070Z",
     "start_time": "2024-09-18T05:27:46.474428Z"
    }
   },
   "cell_type": "code",
   "source": "",
   "outputs": [],
   "execution_count": null
  }
 ],
 "metadata": {
  "kernelspec": {
   "display_name": "python3",
   "language": "python",
   "name": "python3"
  }
 },
 "nbformat": 4,
 "nbformat_minor": 4
}
