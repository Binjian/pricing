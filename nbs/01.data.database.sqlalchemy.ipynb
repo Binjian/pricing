{
 "cells": [
  {
   "cell_type": "code",
   "metadata": {
    "ExecuteTime": {
     "end_time": "2024-09-14T07:17:19.325589Z",
     "start_time": "2024-09-14T07:17:19.323497Z"
    }
   },
   "source": "#| default_exp data.database.sqlalchemy",
   "outputs": [],
   "execution_count": 1
  },
  {
   "cell_type": "code",
   "metadata": {
    "ExecuteTime": {
     "end_time": "2024-09-14T07:17:19.423710Z",
     "start_time": "2024-09-14T07:17:19.368985Z"
    }
   },
   "source": [
    "#| hide\n",
    "from nbdev.showdoc import *"
   ],
   "outputs": [],
   "execution_count": 2
  },
  {
   "cell_type": "code",
   "metadata": {
    "ExecuteTime": {
     "end_time": "2024-09-14T07:17:19.537912Z",
     "start_time": "2024-09-14T07:17:19.454502Z"
    }
   },
   "source": [
    "#| hide\n",
    "import nbdev; nbdev.nbdev_export()"
   ],
   "outputs": [],
   "execution_count": 3
  },
  {
   "metadata": {},
   "cell_type": "markdown",
   "source": ""
  },
  {
   "metadata": {
    "ExecuteTime": {
     "end_time": "2024-09-14T07:17:19.544096Z",
     "start_time": "2024-09-14T07:17:19.542374Z"
    }
   },
   "cell_type": "code",
   "source": [
    "#| hide\n",
    "from IPython.core.interactiveshell import InteractiveShell\n",
    "InteractiveShell.ast_node_interactivity = \"all\""
   ],
   "outputs": [],
   "execution_count": 4
  },
  {
   "metadata": {
    "ExecuteTime": {
     "end_time": "2024-09-14T07:17:19.798736Z",
     "start_time": "2024-09-14T07:17:19.587143Z"
    }
   },
   "cell_type": "code",
   "source": [
    "import os\n",
    "import pandas as pd "
   ],
   "outputs": [],
   "execution_count": 5
  },
  {
   "metadata": {
    "ExecuteTime": {
     "end_time": "2024-09-14T07:17:19.934979Z",
     "start_time": "2024-09-14T07:17:19.803221Z"
    }
   },
   "cell_type": "code",
   "source": [
    "from sqlalchemy import MetaData, create_engine, asc, desc, and_, or_, not_, case, extract, cast, text\n",
    "from sqlalchemy.types import DateTime, Date, Time\n",
    "from sqlalchemy.schema import *\n",
    "from sqlalchemy.sql import func as F, Selectable, select\n",
    "from sqlalchemy.dialects import registry\n",
    "from sqlalchemy.engine.row import Row\n",
    "from sqlalchemy.orm import Session"
   ],
   "outputs": [],
   "execution_count": 6
  },
  {
   "metadata": {
    "ExecuteTime": {
     "end_time": "2024-09-14T07:17:19.972Z",
     "start_time": "2024-09-14T07:17:19.939129Z"
    }
   },
   "cell_type": "code",
   "source": [
    "#| export\n",
    "from google.oauth2 import service_account\n",
    "from google.oauth2.service_account import Credentials\n"
   ],
   "outputs": [],
   "execution_count": 7
  },
  {
   "metadata": {
    "ExecuteTime": {
     "end_time": "2024-09-14T07:17:20.223752Z",
     "start_time": "2024-09-14T07:17:19.982696Z"
    }
   },
   "cell_type": "code",
   "source": [
    "#| hide\n",
    "from google.cloud import bigquery\n",
    "from dotenv import load_dotenv\n"
   ],
   "outputs": [],
   "execution_count": 8
  },
  {
   "metadata": {
    "ExecuteTime": {
     "end_time": "2024-09-14T07:17:20.240639Z",
     "start_time": "2024-09-14T07:17:20.236544Z"
    }
   },
   "cell_type": "code",
   "source": [
    "\n",
    "load_dotenv(\"../.env\")"
   ],
   "outputs": [
    {
     "data": {
      "text/plain": [
       "True"
      ]
     },
     "execution_count": 9,
     "metadata": {},
     "output_type": "execute_result"
    }
   ],
   "execution_count": 9
  },
  {
   "metadata": {
    "ExecuteTime": {
     "end_time": "2024-09-14T07:17:20.301457Z",
     "start_time": "2024-09-14T07:17:20.296997Z"
    }
   },
   "cell_type": "code",
   "source": "os.environ",
   "outputs": [
    {
     "data": {
      "text/plain": [
       "environ{'GSM_SKIP_SSH_AGENT_WORKAROUND': 'true',\n",
       "        'LC_ALL': 'en_US.UTF-8',\n",
       "        'WINDOWPATH': '2',\n",
       "        'PATH': '/home/x/.pyenv/versions/miniforge3-latest/envs/prc/bin:/home/x/.pyenv/versions/miniforge3-latest/condabin:/usr/local/sbin:/usr/local/bin:/usr/sbin:/usr/bin:/sbin:/bin:/usr/games:/usr/local/games:/snap/bin:/snap/bin',\n",
       "        'CONDA_PREFIX': '/home/x/.pyenv/versions/miniforge3-latest/envs/prc',\n",
       "        'LIBVIRT_DEFAULT_URI': 'qemu:///system',\n",
       "        'LOGNAME': 'x',\n",
       "        'XDG_CONFIG_DIRS': '/etc/xdg/xdg-cinnamon:/etc/xdg',\n",
       "        'XAUTHORITY': '/run/user/1000/gdm/Xauthority',\n",
       "        'XDG_SESSION_ID': '3',\n",
       "        'CONDA_SHLVL': '1',\n",
       "        'XMODIFIERS': '@im=ibus',\n",
       "        'GIO_LAUNCHED_DESKTOP_FILE_PID': '215017',\n",
       "        'GIO_LAUNCHED_DESKTOP_FILE': '/home/x/Desktop/pycharm.desktop',\n",
       "        'QT_ACCESSIBILITY': '1',\n",
       "        'CONDA_DEFAULT_ENV': 'prc',\n",
       "        'XDG_SEAT': 'seat0',\n",
       "        'XDG_VTNR': '2',\n",
       "        'QTWEBENGINE_DICTIONARIES_PATH': '/usr/share/hunspell-bdic/',\n",
       "        'XDG_SESSION_DESKTOP': 'cinnamon',\n",
       "        'DBUS_SESSION_BUS_ADDRESS': 'unix:path=/run/user/1000/bus',\n",
       "        'CONDA_PROMPT_MODIFIER': '(prc) ',\n",
       "        'USERNAME': 'x',\n",
       "        'SHLVL': '0',\n",
       "        'XDG_DATA_DIRS': '/usr/share/gnome:/usr/share/cinnamon:/usr/share/gnome:/home/x/.local/share/flatpak/exports/share:/var/lib/flatpak/exports/share:/usr/local/share/:/usr/share/:/var/lib/snapd/desktop',\n",
       "        'SHELL': '/usr/bin/zsh',\n",
       "        'PYTHONPATH': '/home/x/projects/pricing',\n",
       "        'GTK_IM_MODULE': 'ibus',\n",
       "        'SESSION_MANAGER': 'local/l:@/tmp/.ICE-unix/3871,unix/l:/tmp/.ICE-unix/3871',\n",
       "        'XDG_SESSION_CLASS': 'user',\n",
       "        'GTK_MODULES': 'gail:atk-bridge',\n",
       "        'DISPLAY': ':1',\n",
       "        'HOME': '/home/x',\n",
       "        'XDG_CURRENT_DESKTOP': 'X-Cinnamon',\n",
       "        'DEBUGINFOD_URLS': 'https://debuginfod.ubuntu.com ',\n",
       "        'QT_IM_MODULE': 'ibus',\n",
       "        'LANG': 'en_US.UTF-8',\n",
       "        'GDMSESSION': 'cinnamon',\n",
       "        'GNOME_DESKTOP_SESSION_ID': 'this-is-deprecated',\n",
       "        'CLUTTER_IM_MODULE': 'ibus',\n",
       "        'GTK3_MODULES': 'xapp-gtk3-module',\n",
       "        'LANGUAGE': '',\n",
       "        'SSH_AUTH_SOCK': '/run/user/1000/keyring/ssh',\n",
       "        'XDG_RUNTIME_DIR': '/run/user/1000',\n",
       "        'GDAL_DATA': '/home/x/.pyenv/versions/miniforge3-latest/envs/prc/share/gdal',\n",
       "        'GPG_AGENT_INFO': '/run/user/1000/gnupg/S.gpg-agent:0:1',\n",
       "        'DESKTOP_SESSION': 'cinnamon',\n",
       "        'USER': 'x',\n",
       "        'XDG_SESSION_TYPE': 'x11',\n",
       "        'PWD': '/home/x/projects/pricing',\n",
       "        'JPY_SESSION_NAME': 'nbs/01.data.database.sqlalchemy.ipynb',\n",
       "        'JPY_PARENT_PID': '226547',\n",
       "        'PYDEVD_USE_FRAME_EVAL': 'NO',\n",
       "        'TERM': 'xterm-color',\n",
       "        'CLICOLOR': '1',\n",
       "        'FORCE_COLOR': '1',\n",
       "        'CLICOLOR_FORCE': '1',\n",
       "        'PAGER': 'cat',\n",
       "        'GIT_PAGER': 'cat',\n",
       "        'MPLBACKEND': 'module://matplotlib_inline.backend_inline',\n",
       "        'GC_QUOTE_API_CREDENTIALS': 'res/quote-api-365206-39d39b2fde07.json',\n",
       "        'HTTP_PROXY': 'http://127.0.0.1:20171',\n",
       "        'HTTPS_PROXY': 'http://127.0.0.1:20171'}"
      ]
     },
     "execution_count": 10,
     "metadata": {},
     "output_type": "execute_result"
    }
   ],
   "execution_count": 10
  },
  {
   "metadata": {
    "ExecuteTime": {
     "end_time": "2024-09-14T07:17:20.360989Z",
     "start_time": "2024-09-14T07:17:20.358983Z"
    }
   },
   "cell_type": "code",
   "source": [
    "# os.getenv('GC_QUOTE_API_CREDENTIALS')\n",
    "# os.getenv('HTTP_PROXY')\n",
    "# os.getenv('HTTPS_PROXY')"
   ],
   "outputs": [],
   "execution_count": 11
  },
  {
   "metadata": {
    "ExecuteTime": {
     "end_time": "2024-09-14T07:17:20.410097Z",
     "start_time": "2024-09-14T07:17:20.406925Z"
    }
   },
   "cell_type": "code",
   "source": [
    "# config = dotenv_values(\"../.env\")\n",
    "# key = config.get('GC_QUOTE_API_CREDENTIALS')\n",
    "key = os.getenv('GC_QUOTE_API_CREDENTIALS')"
   ],
   "outputs": [],
   "execution_count": 12
  },
  {
   "metadata": {
    "ExecuteTime": {
     "end_time": "2024-09-14T07:17:20.495862Z",
     "start_time": "2024-09-14T07:17:20.454793Z"
    }
   },
   "cell_type": "code",
   "source": "credential = service_account.Credentials.from_service_account_file(\"../\" + key)\n",
   "outputs": [],
   "execution_count": 13
  },
  {
   "metadata": {
    "ExecuteTime": {
     "end_time": "2024-09-14T07:17:20.503144Z",
     "start_time": "2024-09-14T07:17:20.501691Z"
    }
   },
   "cell_type": "code",
   "source": [
    "\n",
    "#os.environ['HTTP_PROXY'] = \"http://127.0.0.1:20171\"\n",
    "#os.environ['HTTPS_PROXY'] = \"http://127.0.0.1:20171\"\n",
    "#os.environ['http_proxy'] = \"http://127.0.0.1:20171\"\n",
    "#os.environ['https_proxy'] = \"http://127.0.0.1:20171\"\n",
    "\n"
   ],
   "outputs": [],
   "execution_count": 14
  },
  {
   "metadata": {
    "ExecuteTime": {
     "end_time": "2024-09-14T07:17:20.598421Z",
     "start_time": "2024-09-14T07:17:20.548978Z"
    }
   },
   "cell_type": "code",
   "source": [
    "registry.register('bigquery', 'sqlalchemy_bigquery', 'BigQueryDialect')\n",
    "engine = create_engine('bigquery://quote-api-365206',\n",
    "                       credentials_path='../' + key,)\n"
   ],
   "outputs": [],
   "execution_count": 15
  },
  {
   "metadata": {
    "ExecuteTime": {
     "end_time": "2024-09-14T07:17:20.605888Z",
     "start_time": "2024-09-14T07:17:20.603876Z"
    }
   },
   "cell_type": "code",
   "source": [
    "metadata = MetaData()\n",
    "def get_table(project_name: str, dataset_name: str, table_name: str)-> Table:\n",
    "    table = Table(f'{project_name}.{dataset_name}.{table_name}', metadata, autoload_with=engine)\n",
    "    return table"
   ],
   "outputs": [],
   "execution_count": 16
  },
  {
   "metadata": {
    "ExecuteTime": {
     "end_time": "2024-09-14T07:17:20.654449Z",
     "start_time": "2024-09-14T07:17:20.650240Z"
    }
   },
   "cell_type": "code",
   "source": "# table = get_table('quote-api-365206', 'report', 'ride_dispatch_v')",
   "outputs": [],
   "execution_count": 17
  },
  {
   "metadata": {
    "ExecuteTime": {
     "end_time": "2024-09-14T07:17:20.704424Z",
     "start_time": "2024-09-14T07:17:20.700956Z"
    }
   },
   "cell_type": "code",
   "source": [
    "# query = select(table).limit(20).where(table.c.ride_stat == 'Accepted').order_by(asc(table.c.ride_id))\n",
    "# df = pd.read_sql(query, engine)\n",
    "# df\n"
   ],
   "outputs": [],
   "execution_count": 18
  },
  {
   "metadata": {
    "ExecuteTime": {
     "end_time": "2024-09-14T07:17:20.750598Z",
     "start_time": "2024-09-14T07:17:20.747712Z"
    }
   },
   "cell_type": "code",
   "source": "# table = get_table('elife-data-warehouse-prod', 'ods', 'ride_ride')",
   "outputs": [],
   "execution_count": 19
  },
  {
   "metadata": {
    "ExecuteTime": {
     "end_time": "2024-09-14T07:17:20.802115Z",
     "start_time": "2024-09-14T07:17:20.797210Z"
    }
   },
   "cell_type": "code",
   "source": "# table",
   "outputs": [],
   "execution_count": 20
  },
  {
   "metadata": {
    "ExecuteTime": {
     "end_time": "2024-09-14T07:17:20.856878Z",
     "start_time": "2024-09-14T07:17:20.853356Z"
    }
   },
   "cell_type": "code",
   "source": "# query = select(table).where(table.c.airport_code3 == 'JFK').limit(20)",
   "outputs": [],
   "execution_count": 21
  },
  {
   "metadata": {
    "ExecuteTime": {
     "end_time": "2024-09-14T07:17:20.907145Z",
     "start_time": "2024-09-14T07:17:20.903116Z"
    }
   },
   "cell_type": "code",
   "source": [
    "# df = pd.read_sql(query, engine)\n",
    "# df\n"
   ],
   "outputs": [],
   "execution_count": 22
  },
  {
   "metadata": {},
   "cell_type": "markdown",
   "source": "# find all tables in the database"
  },
  {
   "metadata": {
    "ExecuteTime": {
     "end_time": "2024-09-14T07:17:28.612638Z",
     "start_time": "2024-09-14T07:17:20.951700Z"
    }
   },
   "cell_type": "code",
   "source": [
    "ride_trip_t = get_table('elife-data-warehouse-prod','ods', 'ride_trip').alias()\n",
    "ride_dispatch_t = get_table('elife-data-warehouse-prod','ods', 'ride_dispatch').alias()\n",
    "ride_enum_t = get_table('elife-data-warehouse-prod','ods', 'ride_enum').alias()\n",
    "ride_ride_t = get_table('elife-data-warehouse-prod','ods', 'ride_ride').alias()\n",
    "ride_partner_tran_t = get_table('elife-data-warehouse-prod','ods', 'ride_partner_tran').alias()\n",
    "ride_partner_t = get_table('elife-data-warehouse-prod','ods', 'ride_partner').alias()\n",
    "dim_place_t = get_table('elife-data-warehouse-prod','dim', 'dim_place').alias()\n",
    "ride_vehicle_class_t = get_table('elife-data-warehouse-prod','ods', 'ride_vehicle_class').alias()"
   ],
   "outputs": [],
   "execution_count": 23
  },
  {
   "metadata": {
    "ExecuteTime": {
     "end_time": "2024-09-14T07:17:31.541623Z",
     "start_time": "2024-09-14T07:17:28.622193Z"
    }
   },
   "cell_type": "code",
   "source": [
    "auction_ride_t = get_table('elife-data-warehouse-prod','ods', 'ride_auction_ride').alias()\n",
    "auction_fleet_t = get_table('elife-data-warehouse-prod','ods', 'ride_auction_fleet').alias()\n",
    "ride_fleet_t = get_table('elife-data-warehouse-prod','ods', 'ride_fleet').alias()\n",
    "\n"
   ],
   "outputs": [],
   "execution_count": 24
  },
  {
   "metadata": {
    "ExecuteTime": {
     "end_time": "2024-09-14T07:17:31.555957Z",
     "start_time": "2024-09-14T07:17:31.551966Z"
    }
   },
   "cell_type": "code",
   "source": [
    "trip_type_id_t = select(ride_dispatch_t.c.ride_id, ride_trip_t.c.trip_type.label('trip_type_id'))\n",
    "trip_type_id_t = trip_type_id_t.select_from(ride_dispatch_t\n",
    "                                      .join(ride_trip_t, ride_dispatch_t.c.ride_id == ride_trip_t.c.ride_id))\n",
    "trip_type_id_t = trip_type_id_t.alias()\n",
    "                  "
   ],
   "outputs": [],
   "execution_count": 25
  },
  {
   "metadata": {
    "ExecuteTime": {
     "end_time": "2024-09-14T07:17:31.601585Z",
     "start_time": "2024-09-14T07:17:31.597823Z"
    }
   },
   "cell_type": "code",
   "source": [
    "# trip_type_id_t = trip_type_id_t.limit(10)\n",
    "# df = pd.read_sql(trip_type_id_t, engine)\n",
    "# df"
   ],
   "outputs": [],
   "execution_count": 26
  },
  {
   "metadata": {
    "ExecuteTime": {
     "end_time": "2024-09-14T07:17:31.653034Z",
     "start_time": "2024-09-14T07:17:31.646585Z"
    }
   },
   "cell_type": "code",
   "source": [
    "trip_type_t = select(trip_type_id_t.c.ride_id, trip_type_id_t.c.trip_type_id, ride_enum_t.c.name.label('trip_type'))\n",
    "trip_type_t = trip_type_t.select_from(trip_type_id_t\n",
    "                                      .join(ride_enum_t, trip_type_id_t.c.trip_type_id == ride_enum_t.c.id, isouter=True))\n",
    "trip_type_t = trip_type_t.alias()\n"
   ],
   "outputs": [],
   "execution_count": 27
  },
  {
   "metadata": {
    "ExecuteTime": {
     "end_time": "2024-09-14T07:17:31.704055Z",
     "start_time": "2024-09-14T07:17:31.700996Z"
    }
   },
   "cell_type": "code",
   "source": "",
   "outputs": [],
   "execution_count": null
  },
  {
   "metadata": {
    "ExecuteTime": {
     "end_time": "2024-09-14T07:17:31.757919Z",
     "start_time": "2024-09-14T07:17:31.752662Z"
    }
   },
   "cell_type": "code",
   "source": [
    "ride_status_t = select(ride_ride_t.c.id.label('ride_id'), ride_ride_t.c.stat.label('ride_status_id'), ride_enum_t.c.name.label('ride_status'))\n",
    "ride_status_t = ride_status_t.select_from(ride_ride_t\n",
    "                                          .join(ride_enum_t, ride_ride_t.c.stat == ride_enum_t.c.id, isouter=True))\n",
    "ride_status_t = ride_status_t.alias()\n",
    "# ride_status_t = ride_status_t.limit(10)\n",
    "# df = pd.read_sql(ride_status_t, engine)\n",
    "# df"
   ],
   "outputs": [],
   "execution_count": 28
  },
  {
   "metadata": {},
   "cell_type": "markdown",
   "source": [
    "## Traffic peak time exclusion\n",
    "source https://www.quora.com/What-is-the-trickiest-time-of-the-day-to-drive-in-Orlando"
   ]
  },
  {
   "metadata": {
    "ExecuteTime": {
     "end_time": "2024-09-14T07:17:31.805160Z",
     "start_time": "2024-09-14T07:17:31.803053Z"
    }
   },
   "cell_type": "code",
   "source": [
    "#ride_datetime_tz_t = select(ride_datetime_t.c.ride_id,\n",
    "#                         # F.timestamp(ride_datetime_t.c.from_datetime).label('from_datetime_utc'),\n",
    "#                         ride_datetime_t.c.from_datetime,\n",
    "#                         ride_datetime_t.c.from_datetime_str,\n",
    "#                         cast(ride_datetime_t.c.from_date_str, Date).label('from_date'),\n",
    "#                         cast(ride_datetime_t.c.from_time_str, Time).label('from_time'),\n",
    "#                         # ride_datetime_t.c.from_date_str,\n",
    "#                         # ride_datetime_t.c.from_time_str,\n",
    "#                         ride_datetime_t.c.utc,\n",
    "#                         ride_datetime_t.c.tz,\n",
    "#                         ride_datetime_t.c.day_of_week,\n",
    "#                         F.datetime(F.timestamp_seconds(ride_datetime_t.c.utc)).label('from_datetime_utc'),\n",
    "#                         #F.format_timestamp('%Y-%m-%d %H:%M:%S', F.timestamp_seconds(ride_datetime_t.c.utc), ride_datetime_t.c.tz).label('datetime_with_new_timezone')\n",
    "#                         # text(\"TIMESTAMP(ride_datetime_t.c.from_datetime) AT TIME ZONE 'UTC' AT TIME ZONE ride_datetime_t.c.tz\").label('datetime_with_new_timezone') \n",
    "#                         #F.datetime(F.timestamp_seconds(ride_datetime_t.c.utc), F.timezone(ride_datetime_t.c.tz)).label('from_datetime_local'),\n",
    "#                         # cast(ride_datetime_t.c.from_datetime_str, DateTime).label('from_datetime_tz'),\n",
    "#                         )\n",
    "#ride_datetime_tz_t = ride_datetime_tz_t.select_from(ride_datetime_t) #.join(ride_ride_t, ride_ride_t.c.id == ride_datetime_t.c.ride_id))\n",
    "## print(ride_non_peak_t.compile(compile_kwargs={\"literal_binds\": True}))\n",
    "#ride_datetime_tz_t = ride_datetime_tz_t.alias()\n",
    "## ride_datetime_tz_t = ride_datetime_tz_t.limit(100)\n",
    "## df = pd.read_sql(ride_datetime_tz_t,engine)\n",
    "## df.dtypes\n",
    "## df"
   ],
   "outputs": [],
   "execution_count": 29
  },
  {
   "metadata": {
    "ExecuteTime": {
     "end_time": "2024-09-14T07:17:31.858547Z",
     "start_time": "2024-09-14T07:17:31.851382Z"
    }
   },
   "cell_type": "code",
   "source": [
    "ride_datetime_t = select(ride_ride_t.c.id.label('ride_id'), \n",
    "                         F.substring(ride_ride_t.c.from_time_str, 1, 10).label('from_date_str'),\n",
    "                         F.concat(F.substring(ride_ride_t.c.from_time_str, 12, 16),':00').label('from_time_fix_str'),\n",
    "                         F.concat(F.substring(ride_ride_t.c.from_time_str, 1, 10), \n",
    "                                  ' ', \n",
    "                                  F.substring(ride_ride_t.c.from_time_str, 12, 16),\n",
    "                                  ':00'\n",
    "                                  ).label('from_datetime_fix_str'),\n",
    "                         extract(\n",
    "                             'DAYOFWEEK',\n",
    "                             cast(F.concat(F.substring(ride_ride_t.c.from_time_str, 1, 10),\n",
    "                                       ' ',\n",
    "                                       F.substring(ride_ride_t.c.from_time_str, 12, 16),\n",
    "                                       ':00'\n",
    "                                       ),\n",
    "                              DateTime)\n",
    "                         ).label('day_of_week_local'),\n",
    "                         extract(\n",
    "                             'DAYOFWEEK',\n",
    "                             cast(F.timestamp_seconds(ride_ride_t.c.from_utc), \n",
    "                                  DateTime)\n",
    "                         ).label('day_of_week_utc'),\n",
    "                         F.datetime(F.timestamp_seconds(ride_ride_t.c.from_utc)).label('from_datetime_utc'),\n",
    "                         ride_ride_t.c.from_timezone_str,\n",
    "                         # F.current_date(ride_ride_t.c.from_timezone_str).label('current_date'),\n",
    "                         #cast(ride_ride_t.c.from_time_str,DateTime).label('from_datetime'),\n",
    "                         #cast(F.concat(F.substring(ride_ride_t.c.from_time_str, 1, 10), 'T', F.substring(ride_ride_t.c.from_time_str, 12, 16)),DateTime).label('from_datetime'),\n",
    "                         #cast(ride_ride_t.c.from_time_str, DateTime).label('from_time_dt'),\n",
    "                         # F.timezone(ride_ride_t.c.from_timezone_str, cast(ride_ride_t.c.from_time_str, DateTime).label('from_time_dt')),\n",
    "                         )                  \n",
    "ride_datetime_t = ride_datetime_t.select_from(ride_ride_t)\n",
    "ride_datetime_t = ride_datetime_t.alias()\n",
    "# ride_datetime_t = ride_datetime_t.limit(100)\n",
    "# df = pd.read_sql(ride_datetime_t, engine)"
   ],
   "outputs": [],
   "execution_count": 30
  },
  {
   "metadata": {
    "ExecuteTime": {
     "end_time": "2024-09-14T07:17:31.909184Z",
     "start_time": "2024-09-14T07:17:31.905134Z"
    }
   },
   "cell_type": "code",
   "source": "#df",
   "outputs": [],
   "execution_count": 31
  },
  {
   "metadata": {
    "ExecuteTime": {
     "end_time": "2024-09-14T07:17:32.001227Z",
     "start_time": "2024-09-14T07:17:31.966478Z"
    }
   },
   "cell_type": "code",
   "source": [
    "from workalendar.usa import Florida \n",
    "import numpy as np\n",
    "cal_florida = Florida()\n",
    "exclude_dates_str = [str(d[0]) for d in cal_florida.holidays(2024)]\n",
    "exclude_dates_str"
   ],
   "outputs": [
    {
     "data": {
      "text/plain": [
       "['2024-01-01',\n",
       " '2024-01-15',\n",
       " '2024-05-27',\n",
       " '2024-07-04',\n",
       " '2024-09-02',\n",
       " '2024-11-11',\n",
       " '2024-11-28',\n",
       " '2024-11-29',\n",
       " '2024-12-25']"
      ]
     },
     "execution_count": 32,
     "metadata": {},
     "output_type": "execute_result"
    }
   ],
   "execution_count": 32
  },
  {
   "metadata": {
    "ExecuteTime": {
     "end_time": "2024-09-14T07:17:32.043949Z",
     "start_time": "2024-09-14T07:17:32.038731Z"
    }
   },
   "cell_type": "code",
   "source": [
    "peak_time_str = [('07:00:00', '09:00:00'), ('16:00:00', '19:00:00')]\n",
    "night_time_str = [('22:00:00', '6:00:00')]  # Shanghai, US usually no overtime extra fees New York 8pm ~ 6am\n",
    "ind = []\n",
    "td = []\n",
    "for pt in peak_time_str:\n",
    "    ind.append(pd.DatetimeIndex(pt))\n",
    "ind\n",
    "for i in ind:\n",
    "    i[1]-i[0]"
   ],
   "outputs": [
    {
     "data": {
      "text/plain": [
       "[DatetimeIndex(['2024-09-14 07:00:00', '2024-09-14 09:00:00'], dtype='datetime64[ns]', freq=None),\n",
       " DatetimeIndex(['2024-09-14 16:00:00', '2024-09-14 19:00:00'], dtype='datetime64[ns]', freq=None)]"
      ]
     },
     "execution_count": 33,
     "metadata": {},
     "output_type": "execute_result"
    },
    {
     "data": {
      "text/plain": [
       "Timedelta('0 days 02:00:00')"
      ]
     },
     "execution_count": 33,
     "metadata": {},
     "output_type": "execute_result"
    },
    {
     "data": {
      "text/plain": [
       "Timedelta('0 days 03:00:00')"
      ]
     },
     "execution_count": 33,
     "metadata": {},
     "output_type": "execute_result"
    }
   ],
   "execution_count": 33
  },
  {
   "metadata": {},
   "cell_type": "code",
   "outputs": [],
   "execution_count": null,
   "source": ""
  },
  {
   "metadata": {
    "ExecuteTime": {
     "end_time": "2024-09-14T07:17:32.126673Z",
     "start_time": "2024-09-14T07:17:32.122922Z"
    }
   },
   "cell_type": "code",
   "source": [
    "peak_time = []\n",
    "for pt in peak_time_str:\n",
    "    peak_time.append(pd.date_range(pt[0], pt[1], freq='h'))\n",
    "for pt in peak_time:\n",
    "    print(pt, pt.time)"
   ],
   "outputs": [
    {
     "name": "stdout",
     "output_type": "stream",
     "text": [
      "DatetimeIndex(['2024-09-14 07:00:00', '2024-09-14 08:00:00',\n",
      "               '2024-09-14 09:00:00'],\n",
      "              dtype='datetime64[ns]', freq='h') [datetime.time(7, 0) datetime.time(8, 0) datetime.time(9, 0)]\n",
      "DatetimeIndex(['2024-09-14 16:00:00', '2024-09-14 17:00:00',\n",
      "               '2024-09-14 18:00:00', '2024-09-14 19:00:00'],\n",
      "              dtype='datetime64[ns]', freq='h') [datetime.time(16, 0) datetime.time(17, 0) datetime.time(18, 0)\n",
      " datetime.time(19, 0)]\n"
     ]
    }
   ],
   "execution_count": 34
  },
  {
   "metadata": {
    "ExecuteTime": {
     "end_time": "2024-09-14T07:17:32.193398Z",
     "start_time": "2024-09-14T07:17:32.190082Z"
    }
   },
   "cell_type": "code",
   "source": "peak_time_str",
   "outputs": [
    {
     "data": {
      "text/plain": [
       "[('07:00:00', '09:00:00'), ('16:00:00', '19:00:00')]"
      ]
     },
     "execution_count": 35,
     "metadata": {},
     "output_type": "execute_result"
    }
   ],
   "execution_count": 35
  },
  {
   "metadata": {
    "ExecuteTime": {
     "end_time": "2024-09-14T07:17:32.248648Z",
     "start_time": "2024-09-14T07:17:32.244987Z"
    }
   },
   "cell_type": "code",
   "source": [
    "#ride_non_peak_t = select(ride_datetime_t).where(\n",
    "#            # not_(ride_datetime_tz_t.c.day_of_week.in_([1, 7])),\n",
    "#            # not_(ride_datetime_tz_t.c.from_datetime_str.in_(exclude_dates)),\n",
    "#            and_(\n",
    "#                # not_(ride_datetime_t.c.day_of_week.in_([1, 7])),\n",
    "#                not_(ride_datetime_t.c.from_datetime_str.in_(exclude_dates_str)),\n",
    "#                not_(\n",
    "#                    and_(\n",
    "#                        # text(f\"TIME({ride_datetime_tz_t.c.from_time}) > TIME({peak_time_str[0][0]}) AND TIME({ride_datetime_tz_t.c.from_time}) < TIME({peak_time_str[0][1]})\"),\n",
    "#                        # text(f\"TIME({ride_datetime_tz_t.c.from_time}) > TIME({peak_time_str[1][0]}) AND TIME({ride_datetime_tz_t.c.from_time}) < TIME({peak_time_str[1][1]})\"),\n",
    "#                        cast(ride_datetime_t.c.from_time, Time) > cast(peak_time_str[0][0],Time),\n",
    "#                        cast(ride_datetime_t.c.from_time, Time) < cast(peak_time_str[0][1],Time),\n",
    "#                    )\n",
    "#                ),\n",
    "#                not_(\n",
    "#                    and_(\n",
    "#                        cast(ride_datetime_t.c.from_time, Time) > cast(peak_time_str[1][0],Time),\n",
    "#                        cast(ride_datetime_t.c.from_time, Time) < cast(peak_time_str[1][1],Time),\n",
    "#                    )\n",
    "#                )\n",
    "#            )\n",
    "#        )               \n",
    "#ride_non_peak_t = ride_non_peak_t.select_from(ride_datetime_t)\n",
    "## ride_non_peak_t = ride_non_peak_t.alias()\n",
    "#ride_non_peak_t = ride_non_peak_t.limit(1000)\n",
    "#df = pd.read_sql(ride_non_peak_t,engine)\n",
    "#df.head()"
   ],
   "outputs": [],
   "execution_count": 36
  },
  {
   "metadata": {
    "ExecuteTime": {
     "end_time": "2024-09-14T07:17:32.293571Z",
     "start_time": "2024-09-14T07:17:32.291751Z"
    }
   },
   "cell_type": "code",
   "source": "# df",
   "outputs": [],
   "execution_count": 37
  },
  {
   "metadata": {
    "ExecuteTime": {
     "end_time": "2024-09-14T07:17:32.343023Z",
     "start_time": "2024-09-14T07:17:32.338749Z"
    }
   },
   "cell_type": "code",
   "source": [
    "exclude_dates = [d[0] for d in cal_florida.holidays(2024)]\n",
    "# exclude_dates\n",
    "# res = df['from_datetime_utc'].apply(lambda x: x in exclude_dates)"
   ],
   "outputs": [],
   "execution_count": 38
  },
  {
   "metadata": {
    "ExecuteTime": {
     "end_time": "2024-09-14T07:17:32.388902Z",
     "start_time": "2024-09-14T07:17:32.386225Z"
    }
   },
   "cell_type": "code",
   "source": [
    "# np.any(res.apply(lambda x: x in exclude_dates))\n",
    "# res[0]=True\n",
    "# res\n",
    "# np.any(res)\n"
   ],
   "outputs": [],
   "execution_count": 39
  },
  {
   "metadata": {
    "ExecuteTime": {
     "end_time": "2024-09-14T07:17:32.440407Z",
     "start_time": "2024-09-14T07:17:32.434275Z"
    }
   },
   "cell_type": "code",
   "source": [
    "dispatch_status_t = select(ride_dispatch_t.c.id.label('ride_id'), ride_dispatch_t.c.stat.label('dispatch_status_id'), ride_enum_t.c.name.label('distpatch_status'))\n",
    "dispatch_status_t = dispatch_status_t.select_from(ride_dispatch_t\n",
    "                                          .join(ride_enum_t, ride_dispatch_t.c.stat == ride_enum_t.c.id, isouter=True))\n",
    "dispatch_status_t = dispatch_status_t.alias()\n",
    "#dispatch_status_t = dispatch_status_t.limit(10)\n",
    "#df = pd.read_sql(dispatch_status_t, engine)\n",
    "#df"
   ],
   "outputs": [],
   "execution_count": 40
  },
  {
   "metadata": {
    "ExecuteTime": {
     "end_time": "2024-09-14T07:17:32.491601Z",
     "start_time": "2024-09-14T07:17:32.487731Z"
    }
   },
   "cell_type": "code",
   "source": [
    "\n",
    "expr = case(\n",
    "    (ride_dispatch_t.c.to_fleet_id == auction_fleet_t.c.fleet_id, 'auction'), \n",
    "    else_='dispatch',\n",
    ")\n"
   ],
   "outputs": [],
   "execution_count": 41
  },
  {
   "metadata": {
    "ExecuteTime": {
     "end_time": "2024-09-14T07:17:32.544187Z",
     "start_time": "2024-09-14T07:17:32.536986Z"
    }
   },
   "cell_type": "code",
   "source": [
    "auction_type_t = select(\n",
    "    auction_ride_t.c.ride_id.label('ride_id'),\n",
    "    auction_ride_t.c.auction_id.label('auction_id'),\n",
    "    auction_fleet_t.c.fleet_id.label('auction_fleet_id'),\n",
    "    ride_dispatch_t.c.to_fleet_id.label('dispatch_fleet_id'),\n",
    "    ride_fleet_t.c.name.label('fleet'),\n",
    "    case(\n",
    "        (ride_dispatch_t.c.to_fleet_id == auction_fleet_t.c.fleet_id, 'auction'),\n",
    "        else_ = 'dispatch',\n",
    "    ).label('dispatch_type')\n",
    ")\n",
    "auction_type_t = auction_type_t.select_from(auction_ride_t\n",
    "                                            .join(auction_fleet_t, auction_ride_t.c.auction_id == auction_fleet_t.c.auction_id, isouter=True)\n",
    "                                            .join(ride_dispatch_t, auction_ride_t.c.ride_id == ride_dispatch_t.c.ride_id, isouter=True)\n",
    "                                            .join(ride_fleet_t, ride_dispatch_t.c.to_fleet_id == ride_fleet_t.c.id, isouter=True))\n",
    "auction_type_t = auction_type_t.alias()\n",
    "# auction_type_t = auction_type_t.limit(100)\n",
    "# df = pd.read_sql(auction_type_t, engine)\n",
    "# df"
   ],
   "outputs": [],
   "execution_count": 42
  },
  {
   "metadata": {
    "ExecuteTime": {
     "end_time": "2024-09-14T07:17:32.595185Z",
     "start_time": "2024-09-14T07:17:32.589611Z"
    }
   },
   "cell_type": "code",
   "source": [
    "dispatch_type_t = (select(\n",
    "    ride_dispatch_t.c.id.label('ride_id'),\n",
    "    ride_dispatch_t.c.to_fleet_id.label('dispatch_fleet_id'),\n",
    "    auction_ride_t.c.auction_id.label('auction_id'),\n",
    "    auction_fleet_t.c.fleet_id.label('auction_fleet_id'),\n",
    "    case(\n",
    "        (ride_dispatch_t.c.to_fleet_id == auction_fleet_t.c.fleet_id, 'auction'), \n",
    "        else_ = 'dispatch',\n",
    "    ).label('dispatch_type'),\n",
    "    ride_fleet_t.c.name.label('fleet')\n",
    "))\n",
    "# .where(\n",
    "#     ride_dispatch_t.c.to_fleet_id == auction_fleet_t.c.fleet_id\n",
    "# ))\n",
    "dispatch_type_t = dispatch_type_t.select_from(ride_dispatch_t\n",
    "                                          .join(auction_ride_t, ride_dispatch_t.c.ride_id == auction_ride_t.c.ride_id, isouter=True)\n",
    "                                          .join(auction_fleet_t, auction_ride_t.c.auction_id == auction_fleet_t.c.auction_id, isouter=True)\n",
    "                                          .join(ride_fleet_t, ride_dispatch_t.c.to_fleet_id == ride_fleet_t.c.id, isouter=True))\n",
    "dispatch_type_t = dispatch_type_t.alias()\n",
    "# dispatch_type_t = dispatch_type_t.limit(100)\n",
    "# df = pd.read_sql(dispatch_type_t, engine)\n",
    "# df"
   ],
   "outputs": [],
   "execution_count": 43
  },
  {
   "metadata": {
    "ExecuteTime": {
     "end_time": "2024-09-14T07:17:32.644666Z",
     "start_time": "2024-09-14T07:17:32.640321Z"
    }
   },
   "cell_type": "code",
   "source": [
    "partner_id_t = select(ride_ride_t.c.id.label('ride_id'), ride_partner_tran_t.c.partner_id.label('partner_id'))\n",
    "partner_id_t = partner_id_t.select_from(ride_ride_t\n",
    "                                        .join(ride_partner_tran_t, ride_ride_t.c.partner_tran_id == ride_partner_tran_t.c.id, isouter=True))\n",
    "partner_id_t = partner_id_t.alias()\n",
    "#partner_id_t = partner_id_t.limit(10)\n",
    "#df = pd.read_sql(partner_id_t, engine)\n",
    "#df"
   ],
   "outputs": [],
   "execution_count": 44
  },
  {
   "metadata": {
    "ExecuteTime": {
     "end_time": "2024-09-14T07:17:32.696835Z",
     "start_time": "2024-09-14T07:17:32.691904Z"
    }
   },
   "cell_type": "code",
   "source": [
    "partner_t = select(partner_id_t.c.ride_id, partner_id_t.c.partner_id, ride_partner_t.c.name.label('partner'))\n",
    "partner_t = partner_t.select_from(partner_id_t\n",
    "                                  .join(ride_partner_t, partner_id_t.c.partner_id == ride_partner_t.c.id, isouter=True))\n",
    "partner_t = partner_t.alias()\n",
    "# partner_t = partner_t.limit(10)\n",
    "# df = pd.read_sql(partner_t,engine)\n",
    "# df"
   ],
   "outputs": [],
   "execution_count": 45
  },
  {
   "metadata": {
    "ExecuteTime": {
     "end_time": "2024-09-14T07:17:32.743740Z",
     "start_time": "2024-09-14T07:17:32.740482Z"
    }
   },
   "cell_type": "code",
   "source": [
    "from_place_t = select(ride_ride_t.c.id.label('ride_id'), \n",
    "                      ride_ride_t.c.from_place_id.label('start_place_id'), \n",
    "                      dim_place_t.c.name.label('start_place'), \n",
    "                      dim_place_t.c.lng.label('lng'), \n",
    "                      dim_place_t.c.lat.label('ltt'),\n",
    "                      )\n",
    "from_place_t = from_place_t.select_from(ride_ride_t\n",
    "                                        .join(dim_place_t, ride_ride_t.c.from_place_id == dim_place_t.c.id, isouter=True))\n",
    "from_place_t = from_place_t.alias()\n",
    "#from_place_t = from_place_t.limit(10)\n",
    "#df = pd.read_sql(from_place_t, engine)\n",
    "#df"
   ],
   "outputs": [],
   "execution_count": 46
  },
  {
   "metadata": {
    "ExecuteTime": {
     "end_time": "2024-09-14T07:17:32.804272Z",
     "start_time": "2024-09-14T07:17:32.801339Z"
    }
   },
   "cell_type": "code",
   "source": [
    "to_place_t = select(ride_ride_t.c.id.label('ride_id'), \n",
    "                      ride_ride_t.c.to_place_id.label('end_place_id'), \n",
    "                      dim_place_t.c.name.label('end_place'), \n",
    "                      dim_place_t.c.lng.label('lng'), \n",
    "                      dim_place_t.c.lat.label('ltt'))\n",
    "to_place_t = to_place_t.select_from(ride_ride_t\n",
    "                                        .join(dim_place_t, ride_ride_t.c.to_place_id == dim_place_t.c.id, isouter=True))\n",
    "to_place_t = to_place_t.alias()\n",
    "#to_place_t = to_place_t.limit(10)\n",
    "#df = pd.read_sql(to_place_t, engine)\n",
    "#df"
   ],
   "outputs": [],
   "execution_count": 47
  },
  {
   "metadata": {
    "ExecuteTime": {
     "end_time": "2024-09-14T07:17:32.855570Z",
     "start_time": "2024-09-14T07:17:32.849635Z"
    }
   },
   "cell_type": "code",
   "source": [
    "vehicle_class_t = select(ride_ride_t.c.id.label('ride_id'),\n",
    "                         ride_ride_t.c.vehicle_class_id.label('vehicle_class_id'), \n",
    "                         ride_vehicle_class_t.c.name.label('vehicle_class'))\n",
    "vehicle_class_t = vehicle_class_t.select_from(ride_ride_t\n",
    "                                              .join(ride_vehicle_class_t, ride_ride_t.c.vehicle_class_id == ride_vehicle_class_t.c.id, isouter=True))\n",
    "vehicle_class_t = vehicle_class_t.alias()\n",
    "#vehicle_class_t = vehicle_class_t.limit(10)\n",
    "#df = pd.read_sql(vehicle_class_t, engine)\n",
    "#df"
   ],
   "outputs": [],
   "execution_count": 48
  },
  {
   "metadata": {
    "ExecuteTime": {
     "end_time": "2024-09-14T07:17:32.903921Z",
     "start_time": "2024-09-14T07:17:32.900459Z"
    }
   },
   "cell_type": "code",
   "source": "from workalendar.usa import Florida",
   "outputs": [],
   "execution_count": 49
  },
  {
   "metadata": {
    "ExecuteTime": {
     "end_time": "2024-09-14T07:17:32.954173Z",
     "start_time": "2024-09-14T07:17:32.949790Z"
    }
   },
   "cell_type": "code",
   "source": [
    "cal_orlando = Florida()\n",
    "data_from_date = '2024-01-01'\n"
   ],
   "outputs": [],
   "execution_count": 50
  },
  {
   "metadata": {
    "ExecuteTime": {
     "end_time": "2024-09-14T07:17:33.013368Z",
     "start_time": "2024-09-14T07:17:33.009234Z"
    }
   },
   "cell_type": "code",
   "source": [
    "exclude_dates = [d[0] for d in cal_orlando.holidays(2024)]\n",
    "exclude_dates"
   ],
   "outputs": [
    {
     "data": {
      "text/plain": [
       "[datetime.date(2024, 1, 1),\n",
       " datetime.date(2024, 1, 15),\n",
       " datetime.date(2024, 5, 27),\n",
       " datetime.date(2024, 7, 4),\n",
       " datetime.date(2024, 9, 2),\n",
       " datetime.date(2024, 11, 11),\n",
       " datetime.date(2024, 11, 28),\n",
       " datetime.date(2024, 11, 29),\n",
       " datetime.date(2024, 12, 25)]"
      ]
     },
     "execution_count": 51,
     "metadata": {},
     "output_type": "execute_result"
    }
   ],
   "execution_count": 51
  },
  {
   "metadata": {
    "ExecuteTime": {
     "end_time": "2024-09-14T07:17:33.073883Z",
     "start_time": "2024-09-14T07:17:33.068324Z"
    }
   },
   "cell_type": "code",
   "source": [
    "price_training_t = select(ride_ride_t.c.id.label('ride_id'),\n",
    "                          ride_ride_t.c.trip_count,\n",
    "                          ride_ride_t.c.from_utc,\n",
    "                          ride_ride_t.c.from_time_str,\n",
    "                          ride_ride_t.c.from_timezone_str,\n",
    "                          ride_ride_t.c.to_time_str,\n",
    "                          ride_ride_t.c.to_timezone_str,\n",
    "                          ride_ride_t.c.passenger_count,\n",
    "                          ride_ride_t.c.luggage_count,\n",
    "                          ride_ride_t.c.children_count,\n",
    "                          ride_ride_t.c.infant_count,\n",
    "                          ride_ride_t.c.distance,\n",
    "                          ride_ride_t.c.duration,\n",
    "                          ride_dispatch_t.c.id.label('dispatch_id'),\n",
    "                          ride_dispatch_t.c.trip_no,\n",
    "                          ride_dispatch_t.c.amount.label('dispatch_amount'),\n",
    "                          ride_dispatch_t.c.currency.label('dispatch_currency'),\n",
    "                          ride_datetime_t.c.from_date_str,\n",
    "                          ride_datetime_t.c.from_time_fix_str,\n",
    "                          ride_datetime_t.c.from_datetime_fix_str,\n",
    "                          # ride_datetime_t.c.day_of_week,\n",
    "                          # text(\"EXTRACT(DAYOFWEEK FROM TIMESTAMP_SECONDS(ride_ride_t.from_utc))\").label('day_of_week'),\n",
    "                          trip_type_t.c.trip_type_id,\n",
    "                          trip_type_t.c.trip_type,\n",
    "                          ride_status_t.c.ride_status_id,\n",
    "                          ride_status_t.c.ride_status,\n",
    "                          dispatch_status_t.c.dispatch_status_id,\n",
    "                          dispatch_status_t.c.distpatch_status,\n",
    "                          dispatch_type_t.c.dispatch_type,\n",
    "                          ride_fleet_t.c.name.label('fleet'),\n",
    "                          partner_t.c.partner_id,\n",
    "                          partner_t.c.partner,\n",
    "                          from_place_t.c.start_place_id,\n",
    "                          from_place_t.c.start_place,\n",
    "                          from_place_t.c.lng.label('start_lng'),\n",
    "                          from_place_t.c.ltt.label('start_ltt'),\n",
    "                          to_place_t.c.end_place_id,\n",
    "                          to_place_t.c.end_place,\n",
    "                          to_place_t.c.lng.label('end_lng'),\n",
    "                          to_place_t.c.ltt.label('end_ltt'),\n",
    "                          vehicle_class_t.c.vehicle_class_id,\n",
    "                          vehicle_class_t.c.vehicle_class,\n",
    "                          ).where(\n",
    "                              and_(\n",
    "                                  ride_ride_t.c.from_time_str > data_from_date,\n",
    "                                  ride_dispatch_t.c.currency == 'USD',\n",
    "                                  vehicle_class_t.c.vehicle_class== 'MPV-5',\n",
    "                                  or_ (dispatch_type_t.c.dispatch_type == 'auction',\n",
    "                                       dispatch_type_t.c.dispatch_type == 'dispatch'),\n",
    "                                  F.lower(from_place_t.c.start_place).like('%orlando%'),\n",
    "                                  F.lower(to_place_t.c.end_place).like('%orlando%'),\n",
    "                                  \n",
    "                                  # not_(ride_datetime_t.c.day_of_week.in_([1, 7])),\n",
    "                                  # not_(ride_ride_t.c.from_time_str.in_(exclude_dates)),\n",
    "                              )\n",
    "                          )"
   ],
   "outputs": [],
   "execution_count": 52
  },
  {
   "metadata": {
    "ExecuteTime": {
     "end_time": "2024-09-14T07:17:33.124192Z",
     "start_time": "2024-09-14T07:17:33.118557Z"
    }
   },
   "cell_type": "code",
   "source": [
    "\n",
    "price_training_t = price_training_t.select_from(ride_ride_t\n",
    "                                                .join(ride_dispatch_t, ride_ride_t.c.id == ride_dispatch_t.c.ride_id)\n",
    "                                                .join(ride_datetime_t, ride_ride_t.c.id == ride_datetime_t.c.ride_id)\n",
    "                                                .join(trip_type_t, ride_ride_t.c.id == trip_type_t.c.ride_id, isouter=True)\n",
    "                                                .join(ride_status_t, ride_ride_t.c.id == ride_status_t.c.ride_id, isouter=True)\n",
    "                                                .join(dispatch_status_t, ride_ride_t.c.id == dispatch_status_t.c.ride_id, isouter=True)\n",
    "                                                .join(dispatch_type_t, ride_ride_t.c.id == dispatch_type_t.c.ride_id, isouter=True)\n",
    "                                                .join(partner_t, ride_ride_t.c.id == partner_t.c.ride_id, isouter=True)\n",
    "                                                .join(from_place_t, ride_ride_t.c.id == from_place_t.c.ride_id, isouter=True)\n",
    "                                                .join(to_place_t, ride_ride_t.c.id == to_place_t.c.ride_id, isouter=True)\n",
    "                                                .join(vehicle_class_t, ride_ride_t.c.id == vehicle_class_t.c.ride_id, isouter=True)\n",
    "                                                .join(ride_fleet_t, ride_dispatch_t.c.to_fleet_id == ride_fleet_t.c.id, isouter=True)\n",
    "                                                )\n",
    "                                                                                                                                    \n",
    "#price_training_t = price_training_t.where(ride_ride_t.c.from_time_str > '2024-01-01')\n",
    "price_training_t = price_training_t.limit(1000)\n"
   ],
   "outputs": [],
   "execution_count": 53
  },
  {
   "metadata": {
    "ExecuteTime": {
     "end_time": "2024-09-14T07:17:55.180023Z",
     "start_time": "2024-09-14T07:17:38.930596Z"
    }
   },
   "cell_type": "code",
   "source": [
    "df = pd.read_sql(price_training_t, engine)\n",
    "df"
   ],
   "outputs": [
    {
     "data": {
      "text/plain": [
       "     ride_id  trip_count    from_utc     from_time_str      from_timezone_str  \\\n",
       "0    3237873           1  1720310100  2024-07-06 19:55       America/New_York   \n",
       "1    3237873           1  1720310100  2024-07-06 19:55       America/New_York   \n",
       "2    3237873           1  1720310100  2024-07-06 19:55       America/New_York   \n",
       "3    3237873           1  1720310100  2024-07-06 19:55       America/New_York   \n",
       "4    3122071           1  1705025100  2024-01-11 21:05       America/New_York   \n",
       "..       ...         ...         ...               ...                    ...   \n",
       "644  2806494           1  1711605720  2024-03-28 02:02  Eastern Daylight Time   \n",
       "645  2858428           1  1704978000  2024-01-11 08:00       America/New_York   \n",
       "646  2858428           1  1704978000  2024-01-11 08:00       America/New_York   \n",
       "647  2858428           1  1704978000  2024-01-11 08:00       America/New_York   \n",
       "648  2858428           1  1704978000  2024-01-11 08:00       America/New_York   \n",
       "\n",
       "    to_time_str to_timezone_str  passenger_count  luggage_count  \\\n",
       "0          None            None                4            4.0   \n",
       "1          None            None                4            4.0   \n",
       "2          None            None                4            4.0   \n",
       "3          None            None                4            4.0   \n",
       "4          None            None                4            4.0   \n",
       "..          ...             ...              ...            ...   \n",
       "644        None            None                2            2.0   \n",
       "645        None            None                3            3.0   \n",
       "646        None            None                3            3.0   \n",
       "647        None            None                3            3.0   \n",
       "648        None            None                3            3.0   \n",
       "\n",
       "     children_count  ...  start_place_id  \\\n",
       "0               NaN  ...         1164523   \n",
       "1               NaN  ...         1164523   \n",
       "2               NaN  ...         1164523   \n",
       "3               NaN  ...         1164523   \n",
       "4               NaN  ...          946274   \n",
       "..              ...  ...             ...   \n",
       "644             0.0  ...          381714   \n",
       "645             NaN  ...          474099   \n",
       "646             NaN  ...          474099   \n",
       "647             NaN  ...          474099   \n",
       "648             NaN  ...          474099   \n",
       "\n",
       "                                           start_place  start_lng  start_ltt  \\\n",
       "0    Orlando International Airport (MCO), 1 Jeff Fu... -81.308332  28.429425   \n",
       "1    Orlando International Airport (MCO), 1 Jeff Fu... -81.308332  28.429425   \n",
       "2    Orlando International Airport (MCO), 1 Jeff Fu... -81.308332  28.429425   \n",
       "3    Orlando International Airport (MCO), 1 Jeff Fu... -81.308332  28.429425   \n",
       "4    Orlando International Airport (MCO), 1 Jeff Fu... -81.308332  28.429425   \n",
       "..                                                 ...        ...        ...   \n",
       "644  Orlando International Airport (MCO), 1 Jeff Fu... -81.308332  28.429425   \n",
       "645  Bluegreen Vacations Fountains, Ascend Resort C... -81.478587  28.389856   \n",
       "646  Bluegreen Vacations Fountains, Ascend Resort C... -81.478587  28.389856   \n",
       "647  Bluegreen Vacations Fountains, Ascend Resort C... -81.478587  28.389856   \n",
       "648  Bluegreen Vacations Fountains, Ascend Resort C... -81.478587  28.389856   \n",
       "\n",
       "     end_place_id                                          end_place  \\\n",
       "0         1164524                 409 FL-527, Orlando, FL 32801, USA   \n",
       "1         1164524                 409 FL-527, Orlando, FL 32801, USA   \n",
       "2         1164524                 409 FL-527, Orlando, FL 32801, USA   \n",
       "3         1164524                 409 FL-527, Orlando, FL 32801, USA   \n",
       "4          946275  Universal's Loews Portofino Bay Hotel, 5601 Un...   \n",
       "..            ...                                                ...   \n",
       "644        381715  Universal's Loews Sapphire Falls Resort, 6601 ...   \n",
       "645        474100  Orlando International Airport (MCO), 1 Jeff Fu...   \n",
       "646        474100  Orlando International Airport (MCO), 1 Jeff Fu...   \n",
       "647        474100  Orlando International Airport (MCO), 1 Jeff Fu...   \n",
       "648        474100  Orlando International Airport (MCO), 1 Jeff Fu...   \n",
       "\n",
       "       end_lng    end_ltt vehicle_class_id vehicle_class  \n",
       "0   -81.376616  28.547888                3         MPV-5  \n",
       "1   -81.376616  28.547888                3         MPV-5  \n",
       "2   -81.376616  28.547888                3         MPV-5  \n",
       "3   -81.376616  28.547888                3         MPV-5  \n",
       "4   -81.460235  28.480653                3         MPV-5  \n",
       "..         ...        ...              ...           ...  \n",
       "644 -81.470804  28.466518                3         MPV-5  \n",
       "645 -81.308332  28.429425                3         MPV-5  \n",
       "646 -81.308332  28.429425                3         MPV-5  \n",
       "647 -81.308332  28.429425                3         MPV-5  \n",
       "648 -81.308332  28.429425                3         MPV-5  \n",
       "\n",
       "[649 rows x 40 columns]"
      ],
      "text/html": [
       "<div>\n",
       "<style scoped>\n",
       "    .dataframe tbody tr th:only-of-type {\n",
       "        vertical-align: middle;\n",
       "    }\n",
       "\n",
       "    .dataframe tbody tr th {\n",
       "        vertical-align: top;\n",
       "    }\n",
       "\n",
       "    .dataframe thead th {\n",
       "        text-align: right;\n",
       "    }\n",
       "</style>\n",
       "<table border=\"1\" class=\"dataframe\">\n",
       "  <thead>\n",
       "    <tr style=\"text-align: right;\">\n",
       "      <th></th>\n",
       "      <th>ride_id</th>\n",
       "      <th>trip_count</th>\n",
       "      <th>from_utc</th>\n",
       "      <th>from_time_str</th>\n",
       "      <th>from_timezone_str</th>\n",
       "      <th>to_time_str</th>\n",
       "      <th>to_timezone_str</th>\n",
       "      <th>passenger_count</th>\n",
       "      <th>luggage_count</th>\n",
       "      <th>children_count</th>\n",
       "      <th>...</th>\n",
       "      <th>start_place_id</th>\n",
       "      <th>start_place</th>\n",
       "      <th>start_lng</th>\n",
       "      <th>start_ltt</th>\n",
       "      <th>end_place_id</th>\n",
       "      <th>end_place</th>\n",
       "      <th>end_lng</th>\n",
       "      <th>end_ltt</th>\n",
       "      <th>vehicle_class_id</th>\n",
       "      <th>vehicle_class</th>\n",
       "    </tr>\n",
       "  </thead>\n",
       "  <tbody>\n",
       "    <tr>\n",
       "      <th>0</th>\n",
       "      <td>3237873</td>\n",
       "      <td>1</td>\n",
       "      <td>1720310100</td>\n",
       "      <td>2024-07-06 19:55</td>\n",
       "      <td>America/New_York</td>\n",
       "      <td>None</td>\n",
       "      <td>None</td>\n",
       "      <td>4</td>\n",
       "      <td>4.0</td>\n",
       "      <td>NaN</td>\n",
       "      <td>...</td>\n",
       "      <td>1164523</td>\n",
       "      <td>Orlando International Airport (MCO), 1 Jeff Fu...</td>\n",
       "      <td>-81.308332</td>\n",
       "      <td>28.429425</td>\n",
       "      <td>1164524</td>\n",
       "      <td>409 FL-527, Orlando, FL 32801, USA</td>\n",
       "      <td>-81.376616</td>\n",
       "      <td>28.547888</td>\n",
       "      <td>3</td>\n",
       "      <td>MPV-5</td>\n",
       "    </tr>\n",
       "    <tr>\n",
       "      <th>1</th>\n",
       "      <td>3237873</td>\n",
       "      <td>1</td>\n",
       "      <td>1720310100</td>\n",
       "      <td>2024-07-06 19:55</td>\n",
       "      <td>America/New_York</td>\n",
       "      <td>None</td>\n",
       "      <td>None</td>\n",
       "      <td>4</td>\n",
       "      <td>4.0</td>\n",
       "      <td>NaN</td>\n",
       "      <td>...</td>\n",
       "      <td>1164523</td>\n",
       "      <td>Orlando International Airport (MCO), 1 Jeff Fu...</td>\n",
       "      <td>-81.308332</td>\n",
       "      <td>28.429425</td>\n",
       "      <td>1164524</td>\n",
       "      <td>409 FL-527, Orlando, FL 32801, USA</td>\n",
       "      <td>-81.376616</td>\n",
       "      <td>28.547888</td>\n",
       "      <td>3</td>\n",
       "      <td>MPV-5</td>\n",
       "    </tr>\n",
       "    <tr>\n",
       "      <th>2</th>\n",
       "      <td>3237873</td>\n",
       "      <td>1</td>\n",
       "      <td>1720310100</td>\n",
       "      <td>2024-07-06 19:55</td>\n",
       "      <td>America/New_York</td>\n",
       "      <td>None</td>\n",
       "      <td>None</td>\n",
       "      <td>4</td>\n",
       "      <td>4.0</td>\n",
       "      <td>NaN</td>\n",
       "      <td>...</td>\n",
       "      <td>1164523</td>\n",
       "      <td>Orlando International Airport (MCO), 1 Jeff Fu...</td>\n",
       "      <td>-81.308332</td>\n",
       "      <td>28.429425</td>\n",
       "      <td>1164524</td>\n",
       "      <td>409 FL-527, Orlando, FL 32801, USA</td>\n",
       "      <td>-81.376616</td>\n",
       "      <td>28.547888</td>\n",
       "      <td>3</td>\n",
       "      <td>MPV-5</td>\n",
       "    </tr>\n",
       "    <tr>\n",
       "      <th>3</th>\n",
       "      <td>3237873</td>\n",
       "      <td>1</td>\n",
       "      <td>1720310100</td>\n",
       "      <td>2024-07-06 19:55</td>\n",
       "      <td>America/New_York</td>\n",
       "      <td>None</td>\n",
       "      <td>None</td>\n",
       "      <td>4</td>\n",
       "      <td>4.0</td>\n",
       "      <td>NaN</td>\n",
       "      <td>...</td>\n",
       "      <td>1164523</td>\n",
       "      <td>Orlando International Airport (MCO), 1 Jeff Fu...</td>\n",
       "      <td>-81.308332</td>\n",
       "      <td>28.429425</td>\n",
       "      <td>1164524</td>\n",
       "      <td>409 FL-527, Orlando, FL 32801, USA</td>\n",
       "      <td>-81.376616</td>\n",
       "      <td>28.547888</td>\n",
       "      <td>3</td>\n",
       "      <td>MPV-5</td>\n",
       "    </tr>\n",
       "    <tr>\n",
       "      <th>4</th>\n",
       "      <td>3122071</td>\n",
       "      <td>1</td>\n",
       "      <td>1705025100</td>\n",
       "      <td>2024-01-11 21:05</td>\n",
       "      <td>America/New_York</td>\n",
       "      <td>None</td>\n",
       "      <td>None</td>\n",
       "      <td>4</td>\n",
       "      <td>4.0</td>\n",
       "      <td>NaN</td>\n",
       "      <td>...</td>\n",
       "      <td>946274</td>\n",
       "      <td>Orlando International Airport (MCO), 1 Jeff Fu...</td>\n",
       "      <td>-81.308332</td>\n",
       "      <td>28.429425</td>\n",
       "      <td>946275</td>\n",
       "      <td>Universal's Loews Portofino Bay Hotel, 5601 Un...</td>\n",
       "      <td>-81.460235</td>\n",
       "      <td>28.480653</td>\n",
       "      <td>3</td>\n",
       "      <td>MPV-5</td>\n",
       "    </tr>\n",
       "    <tr>\n",
       "      <th>...</th>\n",
       "      <td>...</td>\n",
       "      <td>...</td>\n",
       "      <td>...</td>\n",
       "      <td>...</td>\n",
       "      <td>...</td>\n",
       "      <td>...</td>\n",
       "      <td>...</td>\n",
       "      <td>...</td>\n",
       "      <td>...</td>\n",
       "      <td>...</td>\n",
       "      <td>...</td>\n",
       "      <td>...</td>\n",
       "      <td>...</td>\n",
       "      <td>...</td>\n",
       "      <td>...</td>\n",
       "      <td>...</td>\n",
       "      <td>...</td>\n",
       "      <td>...</td>\n",
       "      <td>...</td>\n",
       "      <td>...</td>\n",
       "      <td>...</td>\n",
       "    </tr>\n",
       "    <tr>\n",
       "      <th>644</th>\n",
       "      <td>2806494</td>\n",
       "      <td>1</td>\n",
       "      <td>1711605720</td>\n",
       "      <td>2024-03-28 02:02</td>\n",
       "      <td>Eastern Daylight Time</td>\n",
       "      <td>None</td>\n",
       "      <td>None</td>\n",
       "      <td>2</td>\n",
       "      <td>2.0</td>\n",
       "      <td>0.0</td>\n",
       "      <td>...</td>\n",
       "      <td>381714</td>\n",
       "      <td>Orlando International Airport (MCO), 1 Jeff Fu...</td>\n",
       "      <td>-81.308332</td>\n",
       "      <td>28.429425</td>\n",
       "      <td>381715</td>\n",
       "      <td>Universal's Loews Sapphire Falls Resort, 6601 ...</td>\n",
       "      <td>-81.470804</td>\n",
       "      <td>28.466518</td>\n",
       "      <td>3</td>\n",
       "      <td>MPV-5</td>\n",
       "    </tr>\n",
       "    <tr>\n",
       "      <th>645</th>\n",
       "      <td>2858428</td>\n",
       "      <td>1</td>\n",
       "      <td>1704978000</td>\n",
       "      <td>2024-01-11 08:00</td>\n",
       "      <td>America/New_York</td>\n",
       "      <td>None</td>\n",
       "      <td>None</td>\n",
       "      <td>3</td>\n",
       "      <td>3.0</td>\n",
       "      <td>NaN</td>\n",
       "      <td>...</td>\n",
       "      <td>474099</td>\n",
       "      <td>Bluegreen Vacations Fountains, Ascend Resort C...</td>\n",
       "      <td>-81.478587</td>\n",
       "      <td>28.389856</td>\n",
       "      <td>474100</td>\n",
       "      <td>Orlando International Airport (MCO), 1 Jeff Fu...</td>\n",
       "      <td>-81.308332</td>\n",
       "      <td>28.429425</td>\n",
       "      <td>3</td>\n",
       "      <td>MPV-5</td>\n",
       "    </tr>\n",
       "    <tr>\n",
       "      <th>646</th>\n",
       "      <td>2858428</td>\n",
       "      <td>1</td>\n",
       "      <td>1704978000</td>\n",
       "      <td>2024-01-11 08:00</td>\n",
       "      <td>America/New_York</td>\n",
       "      <td>None</td>\n",
       "      <td>None</td>\n",
       "      <td>3</td>\n",
       "      <td>3.0</td>\n",
       "      <td>NaN</td>\n",
       "      <td>...</td>\n",
       "      <td>474099</td>\n",
       "      <td>Bluegreen Vacations Fountains, Ascend Resort C...</td>\n",
       "      <td>-81.478587</td>\n",
       "      <td>28.389856</td>\n",
       "      <td>474100</td>\n",
       "      <td>Orlando International Airport (MCO), 1 Jeff Fu...</td>\n",
       "      <td>-81.308332</td>\n",
       "      <td>28.429425</td>\n",
       "      <td>3</td>\n",
       "      <td>MPV-5</td>\n",
       "    </tr>\n",
       "    <tr>\n",
       "      <th>647</th>\n",
       "      <td>2858428</td>\n",
       "      <td>1</td>\n",
       "      <td>1704978000</td>\n",
       "      <td>2024-01-11 08:00</td>\n",
       "      <td>America/New_York</td>\n",
       "      <td>None</td>\n",
       "      <td>None</td>\n",
       "      <td>3</td>\n",
       "      <td>3.0</td>\n",
       "      <td>NaN</td>\n",
       "      <td>...</td>\n",
       "      <td>474099</td>\n",
       "      <td>Bluegreen Vacations Fountains, Ascend Resort C...</td>\n",
       "      <td>-81.478587</td>\n",
       "      <td>28.389856</td>\n",
       "      <td>474100</td>\n",
       "      <td>Orlando International Airport (MCO), 1 Jeff Fu...</td>\n",
       "      <td>-81.308332</td>\n",
       "      <td>28.429425</td>\n",
       "      <td>3</td>\n",
       "      <td>MPV-5</td>\n",
       "    </tr>\n",
       "    <tr>\n",
       "      <th>648</th>\n",
       "      <td>2858428</td>\n",
       "      <td>1</td>\n",
       "      <td>1704978000</td>\n",
       "      <td>2024-01-11 08:00</td>\n",
       "      <td>America/New_York</td>\n",
       "      <td>None</td>\n",
       "      <td>None</td>\n",
       "      <td>3</td>\n",
       "      <td>3.0</td>\n",
       "      <td>NaN</td>\n",
       "      <td>...</td>\n",
       "      <td>474099</td>\n",
       "      <td>Bluegreen Vacations Fountains, Ascend Resort C...</td>\n",
       "      <td>-81.478587</td>\n",
       "      <td>28.389856</td>\n",
       "      <td>474100</td>\n",
       "      <td>Orlando International Airport (MCO), 1 Jeff Fu...</td>\n",
       "      <td>-81.308332</td>\n",
       "      <td>28.429425</td>\n",
       "      <td>3</td>\n",
       "      <td>MPV-5</td>\n",
       "    </tr>\n",
       "  </tbody>\n",
       "</table>\n",
       "<p>649 rows × 40 columns</p>\n",
       "</div>"
      ]
     },
     "execution_count": 54,
     "metadata": {},
     "output_type": "execute_result"
    }
   ],
   "execution_count": 54
  },
  {
   "metadata": {
    "ExecuteTime": {
     "end_time": "2024-09-14T02:52:24.638981Z",
     "start_time": "2024-09-14T02:52:24.600950Z"
    }
   },
   "cell_type": "code",
   "source": "sqlite_eng = create_engine('sqlite:///../data/price_training_from_gbq_raw.db', echo=False)",
   "outputs": [],
   "execution_count": 58
  },
  {
   "metadata": {
    "ExecuteTime": {
     "end_time": "2024-09-14T02:52:38.379256Z",
     "start_time": "2024-09-14T02:52:38.323469Z"
    }
   },
   "cell_type": "code",
   "source": "df.to_sql('price_training_orlando_mpv5', sqlite_eng, if_exists='replace')",
   "outputs": [
    {
     "data": {
      "text/plain": [
       "649"
      ]
     },
     "execution_count": 59,
     "metadata": {},
     "output_type": "execute_result"
    }
   ],
   "execution_count": 59
  },
  {
   "metadata": {
    "ExecuteTime": {
     "end_time": "2024-09-12T01:33:05.073244639Z",
     "start_time": "2024-09-11T08:54:52.544530Z"
    }
   },
   "cell_type": "code",
   "source": [
    "#orlando_airport = pd.read_csv('../../data/orlando_all_output.csv')\n",
    "#orlando_airport.head()\n",
    "#orlando_airport.dtypes\n",
    "#orlando_airport.to_sql('orlando_airport', sqlite_eng, if_exists='append')\n",
    "\n"
   ],
   "outputs": [],
   "execution_count": 115
  },
  {
   "metadata": {
    "ExecuteTime": {
     "end_time": "2024-09-14T08:33:32.007101Z",
     "start_time": "2024-09-14T08:33:31.995704Z"
    }
   },
   "cell_type": "code",
   "source": [
    "df_training = df.loc[:,['ride_id', 'trip_type', 'trip_no', 'trip_count', 'ride_status', 'partner', 'fleet', \n",
    "                'from_time_str', 'from_timezone_str', \n",
    "                'start_place', 'end_place', \n",
    "                'distance', 'duration', 'vehicle_class', \n",
    "                'passenger_count', 'luggage_count', \n",
    "                'dispatch_amount', 'dispatch_currency']]\n",
    "df_training['cent_price_per_km'] = df_training['dispatch_amount'] / df_training['distance']*100.0\n",
    "df_training"
   ],
   "outputs": [
    {
     "data": {
      "text/plain": [
       "     ride_id    trip_type  trip_no  trip_count ride_status  partner  \\\n",
       "0    3237873  point2point        0           1     Pending  Booking   \n",
       "1    3237873  point2point        0           1     Pending  Booking   \n",
       "2    3237873  point2point       -1           1     Pending  Booking   \n",
       "3    3237873  point2point       -1           1     Pending  Booking   \n",
       "4    3122071  point2point        0           1     Pending  Booking   \n",
       "..       ...          ...      ...         ...         ...      ...   \n",
       "644  2806494         None        0           1     Pending  Booking   \n",
       "645  2858428         None        0           1     Pending  Booking   \n",
       "646  2858428         None        0           1     Pending  Booking   \n",
       "647  2858428         None       -1           1     Pending  Booking   \n",
       "648  2858428         None       -1           1     Pending  Booking   \n",
       "\n",
       "                            fleet     from_time_str      from_timezone_str  \\\n",
       "0                Yorvis Hernández  2024-07-06 19:55       America/New_York   \n",
       "1                Yorvis Hernández  2024-07-06 19:55       America/New_York   \n",
       "2                           Elife  2024-07-06 19:55       America/New_York   \n",
       "3                           Elife  2024-07-06 19:55       America/New_York   \n",
       "4         Lumasini Transportation  2024-01-11 21:05       America/New_York   \n",
       "..                            ...               ...                    ...   \n",
       "644                   xiaorong wu  2024-03-28 02:02  Eastern Daylight Time   \n",
       "645  CARLOS RODRIGO BELTRAN LOPEZ  2024-01-11 08:00       America/New_York   \n",
       "646  CARLOS RODRIGO BELTRAN LOPEZ  2024-01-11 08:00       America/New_York   \n",
       "647                         Elife  2024-01-11 08:00       America/New_York   \n",
       "648                         Elife  2024-01-11 08:00       America/New_York   \n",
       "\n",
       "                                           start_place  \\\n",
       "0    Orlando International Airport (MCO), 1 Jeff Fu...   \n",
       "1    Orlando International Airport (MCO), 1 Jeff Fu...   \n",
       "2    Orlando International Airport (MCO), 1 Jeff Fu...   \n",
       "3    Orlando International Airport (MCO), 1 Jeff Fu...   \n",
       "4    Orlando International Airport (MCO), 1 Jeff Fu...   \n",
       "..                                                 ...   \n",
       "644  Orlando International Airport (MCO), 1 Jeff Fu...   \n",
       "645  Bluegreen Vacations Fountains, Ascend Resort C...   \n",
       "646  Bluegreen Vacations Fountains, Ascend Resort C...   \n",
       "647  Bluegreen Vacations Fountains, Ascend Resort C...   \n",
       "648  Bluegreen Vacations Fountains, Ascend Resort C...   \n",
       "\n",
       "                                             end_place  distance  duration  \\\n",
       "0                   409 FL-527, Orlando, FL 32801, USA     20571      1454   \n",
       "1                   409 FL-527, Orlando, FL 32801, USA     20571      1454   \n",
       "2                   409 FL-527, Orlando, FL 32801, USA     20571      1454   \n",
       "3                   409 FL-527, Orlando, FL 32801, USA     20571      1454   \n",
       "4    Universal's Loews Portofino Bay Hotel, 5601 Un...     29638      1449   \n",
       "..                                                 ...       ...       ...   \n",
       "644  Universal's Loews Sapphire Falls Resort, 6601 ...     27519      1293   \n",
       "645  Orlando International Airport (MCO), 1 Jeff Fu...     25063      1440   \n",
       "646  Orlando International Airport (MCO), 1 Jeff Fu...     25063      1440   \n",
       "647  Orlando International Airport (MCO), 1 Jeff Fu...     25063      1440   \n",
       "648  Orlando International Airport (MCO), 1 Jeff Fu...     25063      1440   \n",
       "\n",
       "    vehicle_class  passenger_count  luggage_count  dispatch_amount  \\\n",
       "0           MPV-5                4            4.0            30.66   \n",
       "1           MPV-5                4            4.0            30.66   \n",
       "2           MPV-5                4            4.0            40.88   \n",
       "3           MPV-5                4            4.0            40.88   \n",
       "4           MPV-5                4            4.0            33.15   \n",
       "..            ...              ...            ...              ...   \n",
       "644         MPV-5                2            2.0            45.00   \n",
       "645         MPV-5                3            3.0            35.00   \n",
       "646         MPV-5                3            3.0            35.00   \n",
       "647         MPV-5                3            3.0            40.30   \n",
       "648         MPV-5                3            3.0            40.30   \n",
       "\n",
       "    dispatch_currency  cent_price_per_km  \n",
       "0                 USD           0.149045  \n",
       "1                 USD           0.149045  \n",
       "2                 USD           0.198726  \n",
       "3                 USD           0.198726  \n",
       "4                 USD           0.111850  \n",
       "..                ...                ...  \n",
       "644               USD           0.163523  \n",
       "645               USD           0.139648  \n",
       "646               USD           0.139648  \n",
       "647               USD           0.160795  \n",
       "648               USD           0.160795  \n",
       "\n",
       "[649 rows x 19 columns]"
      ],
      "text/html": [
       "<div>\n",
       "<style scoped>\n",
       "    .dataframe tbody tr th:only-of-type {\n",
       "        vertical-align: middle;\n",
       "    }\n",
       "\n",
       "    .dataframe tbody tr th {\n",
       "        vertical-align: top;\n",
       "    }\n",
       "\n",
       "    .dataframe thead th {\n",
       "        text-align: right;\n",
       "    }\n",
       "</style>\n",
       "<table border=\"1\" class=\"dataframe\">\n",
       "  <thead>\n",
       "    <tr style=\"text-align: right;\">\n",
       "      <th></th>\n",
       "      <th>ride_id</th>\n",
       "      <th>trip_type</th>\n",
       "      <th>trip_no</th>\n",
       "      <th>trip_count</th>\n",
       "      <th>ride_status</th>\n",
       "      <th>partner</th>\n",
       "      <th>fleet</th>\n",
       "      <th>from_time_str</th>\n",
       "      <th>from_timezone_str</th>\n",
       "      <th>start_place</th>\n",
       "      <th>end_place</th>\n",
       "      <th>distance</th>\n",
       "      <th>duration</th>\n",
       "      <th>vehicle_class</th>\n",
       "      <th>passenger_count</th>\n",
       "      <th>luggage_count</th>\n",
       "      <th>dispatch_amount</th>\n",
       "      <th>dispatch_currency</th>\n",
       "      <th>cent_price_per_km</th>\n",
       "    </tr>\n",
       "  </thead>\n",
       "  <tbody>\n",
       "    <tr>\n",
       "      <th>0</th>\n",
       "      <td>3237873</td>\n",
       "      <td>point2point</td>\n",
       "      <td>0</td>\n",
       "      <td>1</td>\n",
       "      <td>Pending</td>\n",
       "      <td>Booking</td>\n",
       "      <td>Yorvis Hernández</td>\n",
       "      <td>2024-07-06 19:55</td>\n",
       "      <td>America/New_York</td>\n",
       "      <td>Orlando International Airport (MCO), 1 Jeff Fu...</td>\n",
       "      <td>409 FL-527, Orlando, FL 32801, USA</td>\n",
       "      <td>20571</td>\n",
       "      <td>1454</td>\n",
       "      <td>MPV-5</td>\n",
       "      <td>4</td>\n",
       "      <td>4.0</td>\n",
       "      <td>30.66</td>\n",
       "      <td>USD</td>\n",
       "      <td>0.149045</td>\n",
       "    </tr>\n",
       "    <tr>\n",
       "      <th>1</th>\n",
       "      <td>3237873</td>\n",
       "      <td>point2point</td>\n",
       "      <td>0</td>\n",
       "      <td>1</td>\n",
       "      <td>Pending</td>\n",
       "      <td>Booking</td>\n",
       "      <td>Yorvis Hernández</td>\n",
       "      <td>2024-07-06 19:55</td>\n",
       "      <td>America/New_York</td>\n",
       "      <td>Orlando International Airport (MCO), 1 Jeff Fu...</td>\n",
       "      <td>409 FL-527, Orlando, FL 32801, USA</td>\n",
       "      <td>20571</td>\n",
       "      <td>1454</td>\n",
       "      <td>MPV-5</td>\n",
       "      <td>4</td>\n",
       "      <td>4.0</td>\n",
       "      <td>30.66</td>\n",
       "      <td>USD</td>\n",
       "      <td>0.149045</td>\n",
       "    </tr>\n",
       "    <tr>\n",
       "      <th>2</th>\n",
       "      <td>3237873</td>\n",
       "      <td>point2point</td>\n",
       "      <td>-1</td>\n",
       "      <td>1</td>\n",
       "      <td>Pending</td>\n",
       "      <td>Booking</td>\n",
       "      <td>Elife</td>\n",
       "      <td>2024-07-06 19:55</td>\n",
       "      <td>America/New_York</td>\n",
       "      <td>Orlando International Airport (MCO), 1 Jeff Fu...</td>\n",
       "      <td>409 FL-527, Orlando, FL 32801, USA</td>\n",
       "      <td>20571</td>\n",
       "      <td>1454</td>\n",
       "      <td>MPV-5</td>\n",
       "      <td>4</td>\n",
       "      <td>4.0</td>\n",
       "      <td>40.88</td>\n",
       "      <td>USD</td>\n",
       "      <td>0.198726</td>\n",
       "    </tr>\n",
       "    <tr>\n",
       "      <th>3</th>\n",
       "      <td>3237873</td>\n",
       "      <td>point2point</td>\n",
       "      <td>-1</td>\n",
       "      <td>1</td>\n",
       "      <td>Pending</td>\n",
       "      <td>Booking</td>\n",
       "      <td>Elife</td>\n",
       "      <td>2024-07-06 19:55</td>\n",
       "      <td>America/New_York</td>\n",
       "      <td>Orlando International Airport (MCO), 1 Jeff Fu...</td>\n",
       "      <td>409 FL-527, Orlando, FL 32801, USA</td>\n",
       "      <td>20571</td>\n",
       "      <td>1454</td>\n",
       "      <td>MPV-5</td>\n",
       "      <td>4</td>\n",
       "      <td>4.0</td>\n",
       "      <td>40.88</td>\n",
       "      <td>USD</td>\n",
       "      <td>0.198726</td>\n",
       "    </tr>\n",
       "    <tr>\n",
       "      <th>4</th>\n",
       "      <td>3122071</td>\n",
       "      <td>point2point</td>\n",
       "      <td>0</td>\n",
       "      <td>1</td>\n",
       "      <td>Pending</td>\n",
       "      <td>Booking</td>\n",
       "      <td>Lumasini Transportation</td>\n",
       "      <td>2024-01-11 21:05</td>\n",
       "      <td>America/New_York</td>\n",
       "      <td>Orlando International Airport (MCO), 1 Jeff Fu...</td>\n",
       "      <td>Universal's Loews Portofino Bay Hotel, 5601 Un...</td>\n",
       "      <td>29638</td>\n",
       "      <td>1449</td>\n",
       "      <td>MPV-5</td>\n",
       "      <td>4</td>\n",
       "      <td>4.0</td>\n",
       "      <td>33.15</td>\n",
       "      <td>USD</td>\n",
       "      <td>0.111850</td>\n",
       "    </tr>\n",
       "    <tr>\n",
       "      <th>...</th>\n",
       "      <td>...</td>\n",
       "      <td>...</td>\n",
       "      <td>...</td>\n",
       "      <td>...</td>\n",
       "      <td>...</td>\n",
       "      <td>...</td>\n",
       "      <td>...</td>\n",
       "      <td>...</td>\n",
       "      <td>...</td>\n",
       "      <td>...</td>\n",
       "      <td>...</td>\n",
       "      <td>...</td>\n",
       "      <td>...</td>\n",
       "      <td>...</td>\n",
       "      <td>...</td>\n",
       "      <td>...</td>\n",
       "      <td>...</td>\n",
       "      <td>...</td>\n",
       "      <td>...</td>\n",
       "    </tr>\n",
       "    <tr>\n",
       "      <th>644</th>\n",
       "      <td>2806494</td>\n",
       "      <td>None</td>\n",
       "      <td>0</td>\n",
       "      <td>1</td>\n",
       "      <td>Pending</td>\n",
       "      <td>Booking</td>\n",
       "      <td>xiaorong wu</td>\n",
       "      <td>2024-03-28 02:02</td>\n",
       "      <td>Eastern Daylight Time</td>\n",
       "      <td>Orlando International Airport (MCO), 1 Jeff Fu...</td>\n",
       "      <td>Universal's Loews Sapphire Falls Resort, 6601 ...</td>\n",
       "      <td>27519</td>\n",
       "      <td>1293</td>\n",
       "      <td>MPV-5</td>\n",
       "      <td>2</td>\n",
       "      <td>2.0</td>\n",
       "      <td>45.00</td>\n",
       "      <td>USD</td>\n",
       "      <td>0.163523</td>\n",
       "    </tr>\n",
       "    <tr>\n",
       "      <th>645</th>\n",
       "      <td>2858428</td>\n",
       "      <td>None</td>\n",
       "      <td>0</td>\n",
       "      <td>1</td>\n",
       "      <td>Pending</td>\n",
       "      <td>Booking</td>\n",
       "      <td>CARLOS RODRIGO BELTRAN LOPEZ</td>\n",
       "      <td>2024-01-11 08:00</td>\n",
       "      <td>America/New_York</td>\n",
       "      <td>Bluegreen Vacations Fountains, Ascend Resort C...</td>\n",
       "      <td>Orlando International Airport (MCO), 1 Jeff Fu...</td>\n",
       "      <td>25063</td>\n",
       "      <td>1440</td>\n",
       "      <td>MPV-5</td>\n",
       "      <td>3</td>\n",
       "      <td>3.0</td>\n",
       "      <td>35.00</td>\n",
       "      <td>USD</td>\n",
       "      <td>0.139648</td>\n",
       "    </tr>\n",
       "    <tr>\n",
       "      <th>646</th>\n",
       "      <td>2858428</td>\n",
       "      <td>None</td>\n",
       "      <td>0</td>\n",
       "      <td>1</td>\n",
       "      <td>Pending</td>\n",
       "      <td>Booking</td>\n",
       "      <td>CARLOS RODRIGO BELTRAN LOPEZ</td>\n",
       "      <td>2024-01-11 08:00</td>\n",
       "      <td>America/New_York</td>\n",
       "      <td>Bluegreen Vacations Fountains, Ascend Resort C...</td>\n",
       "      <td>Orlando International Airport (MCO), 1 Jeff Fu...</td>\n",
       "      <td>25063</td>\n",
       "      <td>1440</td>\n",
       "      <td>MPV-5</td>\n",
       "      <td>3</td>\n",
       "      <td>3.0</td>\n",
       "      <td>35.00</td>\n",
       "      <td>USD</td>\n",
       "      <td>0.139648</td>\n",
       "    </tr>\n",
       "    <tr>\n",
       "      <th>647</th>\n",
       "      <td>2858428</td>\n",
       "      <td>None</td>\n",
       "      <td>-1</td>\n",
       "      <td>1</td>\n",
       "      <td>Pending</td>\n",
       "      <td>Booking</td>\n",
       "      <td>Elife</td>\n",
       "      <td>2024-01-11 08:00</td>\n",
       "      <td>America/New_York</td>\n",
       "      <td>Bluegreen Vacations Fountains, Ascend Resort C...</td>\n",
       "      <td>Orlando International Airport (MCO), 1 Jeff Fu...</td>\n",
       "      <td>25063</td>\n",
       "      <td>1440</td>\n",
       "      <td>MPV-5</td>\n",
       "      <td>3</td>\n",
       "      <td>3.0</td>\n",
       "      <td>40.30</td>\n",
       "      <td>USD</td>\n",
       "      <td>0.160795</td>\n",
       "    </tr>\n",
       "    <tr>\n",
       "      <th>648</th>\n",
       "      <td>2858428</td>\n",
       "      <td>None</td>\n",
       "      <td>-1</td>\n",
       "      <td>1</td>\n",
       "      <td>Pending</td>\n",
       "      <td>Booking</td>\n",
       "      <td>Elife</td>\n",
       "      <td>2024-01-11 08:00</td>\n",
       "      <td>America/New_York</td>\n",
       "      <td>Bluegreen Vacations Fountains, Ascend Resort C...</td>\n",
       "      <td>Orlando International Airport (MCO), 1 Jeff Fu...</td>\n",
       "      <td>25063</td>\n",
       "      <td>1440</td>\n",
       "      <td>MPV-5</td>\n",
       "      <td>3</td>\n",
       "      <td>3.0</td>\n",
       "      <td>40.30</td>\n",
       "      <td>USD</td>\n",
       "      <td>0.160795</td>\n",
       "    </tr>\n",
       "  </tbody>\n",
       "</table>\n",
       "<p>649 rows × 19 columns</p>\n",
       "</div>"
      ]
     },
     "execution_count": 55,
     "metadata": {},
     "output_type": "execute_result"
    }
   ],
   "execution_count": 55
  },
  {
   "metadata": {
    "ExecuteTime": {
     "end_time": "2024-09-12T01:33:05.074417201Z",
     "start_time": "2024-09-11T09:26:28.472305Z"
    }
   },
   "cell_type": "code",
   "source": [
    "\n",
    "df_training['cent_per_km'] = df_training['dispatch_amount'] / df_training['distance'] * 100.0\n",
    "df_training\n"
   ],
   "outputs": [
    {
     "data": {
      "text/plain": [
       "     ride_id    trip_type  trip_no  trip_count ride_status           partner  \\\n",
       "0    3231310  point2point       -1           1     Pending           Booking   \n",
       "1    3231310  point2point       -1           1     Pending           Booking   \n",
       "2    3231310  point2point       -1           1     Pending           Booking   \n",
       "3    3259057  point2point        0           1     Pending           Booking   \n",
       "4    3259057  point2point        0           1     Pending           Booking   \n",
       "..       ...          ...      ...         ...         ...               ...   \n",
       "195  3015680  point2point        0           2     Pending  CityAirportTaxis   \n",
       "196  3015680  point2point        0           2     Pending  CityAirportTaxis   \n",
       "197  3015680  point2point        0           2     Pending  CityAirportTaxis   \n",
       "198  3015680  point2point        0           2     Pending  CityAirportTaxis   \n",
       "199  3015680  point2point        0           2     Pending  CityAirportTaxis   \n",
       "\n",
       "                               fleet     from_time_str from_timezone_str  \\\n",
       "0                              Elife  2024-03-01 19:54  America/New_York   \n",
       "1                              Elife  2024-03-01 19:54  America/New_York   \n",
       "2                              Elife  2024-03-01 19:54  America/New_York   \n",
       "3                   DMS Car Service   2024-03-17 17:25  America/New_York   \n",
       "4                   DMS Car Service   2024-03-17 17:25  America/New_York   \n",
       "..                               ...               ...               ...   \n",
       "195  wagner Valladao de Araujo Filho  2024-01-09 18:20  America/New_York   \n",
       "196  wagner Valladao de Araujo Filho  2024-01-09 18:20  America/New_York   \n",
       "197  wagner Valladao de Araujo Filho  2024-01-09 18:20  America/New_York   \n",
       "198  wagner Valladao de Araujo Filho  2024-01-09 18:20  America/New_York   \n",
       "199  wagner Valladao de Araujo Filho  2024-01-09 18:20  America/New_York   \n",
       "\n",
       "                                           start_place  \\\n",
       "0    Orlando International Airport (MCO), 1 Jeff Fu...   \n",
       "1    Orlando International Airport (MCO), 1 Jeff Fu...   \n",
       "2    Orlando International Airport (MCO), 1 Jeff Fu...   \n",
       "3    Orlando International Airport (MCO), 1 Jeff Fu...   \n",
       "4    Orlando International Airport (MCO), 1 Jeff Fu...   \n",
       "..                                                 ...   \n",
       "195                                    Orlando Airport   \n",
       "196                                    Orlando Airport   \n",
       "197                                    Orlando Airport   \n",
       "198                                    Orlando Airport   \n",
       "199                                    Orlando Airport   \n",
       "\n",
       "                                             end_place  distance  duration  \\\n",
       "0    Clarion Inn & Suites Across From Universal Orl...     28177      1284   \n",
       "1    Clarion Inn & Suites Across From Universal Orl...     28177      1284   \n",
       "2    Clarion Inn & Suites Across From Universal Orl...     28177      1284   \n",
       "3    Universal's Aventura Hotel, 6725 Adventure Wy,...     27370      1403   \n",
       "4    Universal's Aventura Hotel, 6725 Adventure Wy,...     27370      1403   \n",
       "..                                                 ...       ...       ...   \n",
       "195                         Orlando Marriott Lake Mary     60193      2470   \n",
       "196                         Orlando Marriott Lake Mary     60193      2470   \n",
       "197                         Orlando Marriott Lake Mary     60193      2470   \n",
       "198                         Orlando Marriott Lake Mary     60193      2470   \n",
       "199                         Orlando Marriott Lake Mary     60193      2470   \n",
       "\n",
       "    vehicle_class  passenger_count  luggage_count  dispatch_amount  \\\n",
       "0           MPV-4                4              4            36.99   \n",
       "1           MPV-4                4              4            36.99   \n",
       "2           MPV-4                4              4            36.99   \n",
       "3           Sedan                3              3            33.00   \n",
       "4           Sedan                3              3            33.00   \n",
       "..            ...              ...            ...              ...   \n",
       "195         Sedan                1              1            47.50   \n",
       "196         Sedan                1              1            47.50   \n",
       "197         Sedan                1              1            47.50   \n",
       "198         Sedan                1              1            47.50   \n",
       "199         Sedan                1              1            47.50   \n",
       "\n",
       "    dispatch_currency  price_per_km  cent_per_km  \n",
       "0                 USD      0.131277     0.131277  \n",
       "1                 USD      0.131277     0.131277  \n",
       "2                 USD      0.131277     0.131277  \n",
       "3                 USD      0.120570     0.120570  \n",
       "4                 USD      0.120570     0.120570  \n",
       "..                ...           ...          ...  \n",
       "195               USD      0.078913     0.078913  \n",
       "196               USD      0.078913     0.078913  \n",
       "197               USD      0.078913     0.078913  \n",
       "198               USD      0.078913     0.078913  \n",
       "199               USD      0.078913     0.078913  \n",
       "\n",
       "[200 rows x 20 columns]"
      ],
      "text/html": [
       "<div>\n",
       "<style scoped>\n",
       "    .dataframe tbody tr th:only-of-type {\n",
       "        vertical-align: middle;\n",
       "    }\n",
       "\n",
       "    .dataframe tbody tr th {\n",
       "        vertical-align: top;\n",
       "    }\n",
       "\n",
       "    .dataframe thead th {\n",
       "        text-align: right;\n",
       "    }\n",
       "</style>\n",
       "<table border=\"1\" class=\"dataframe\">\n",
       "  <thead>\n",
       "    <tr style=\"text-align: right;\">\n",
       "      <th></th>\n",
       "      <th>ride_id</th>\n",
       "      <th>trip_type</th>\n",
       "      <th>trip_no</th>\n",
       "      <th>trip_count</th>\n",
       "      <th>ride_status</th>\n",
       "      <th>partner</th>\n",
       "      <th>fleet</th>\n",
       "      <th>from_time_str</th>\n",
       "      <th>from_timezone_str</th>\n",
       "      <th>start_place</th>\n",
       "      <th>end_place</th>\n",
       "      <th>distance</th>\n",
       "      <th>duration</th>\n",
       "      <th>vehicle_class</th>\n",
       "      <th>passenger_count</th>\n",
       "      <th>luggage_count</th>\n",
       "      <th>dispatch_amount</th>\n",
       "      <th>dispatch_currency</th>\n",
       "      <th>price_per_km</th>\n",
       "      <th>cent_per_km</th>\n",
       "    </tr>\n",
       "  </thead>\n",
       "  <tbody>\n",
       "    <tr>\n",
       "      <th>0</th>\n",
       "      <td>3231310</td>\n",
       "      <td>point2point</td>\n",
       "      <td>-1</td>\n",
       "      <td>1</td>\n",
       "      <td>Pending</td>\n",
       "      <td>Booking</td>\n",
       "      <td>Elife</td>\n",
       "      <td>2024-03-01 19:54</td>\n",
       "      <td>America/New_York</td>\n",
       "      <td>Orlando International Airport (MCO), 1 Jeff Fu...</td>\n",
       "      <td>Clarion Inn &amp; Suites Across From Universal Orl...</td>\n",
       "      <td>28177</td>\n",
       "      <td>1284</td>\n",
       "      <td>MPV-4</td>\n",
       "      <td>4</td>\n",
       "      <td>4</td>\n",
       "      <td>36.99</td>\n",
       "      <td>USD</td>\n",
       "      <td>0.131277</td>\n",
       "      <td>0.131277</td>\n",
       "    </tr>\n",
       "    <tr>\n",
       "      <th>1</th>\n",
       "      <td>3231310</td>\n",
       "      <td>point2point</td>\n",
       "      <td>-1</td>\n",
       "      <td>1</td>\n",
       "      <td>Pending</td>\n",
       "      <td>Booking</td>\n",
       "      <td>Elife</td>\n",
       "      <td>2024-03-01 19:54</td>\n",
       "      <td>America/New_York</td>\n",
       "      <td>Orlando International Airport (MCO), 1 Jeff Fu...</td>\n",
       "      <td>Clarion Inn &amp; Suites Across From Universal Orl...</td>\n",
       "      <td>28177</td>\n",
       "      <td>1284</td>\n",
       "      <td>MPV-4</td>\n",
       "      <td>4</td>\n",
       "      <td>4</td>\n",
       "      <td>36.99</td>\n",
       "      <td>USD</td>\n",
       "      <td>0.131277</td>\n",
       "      <td>0.131277</td>\n",
       "    </tr>\n",
       "    <tr>\n",
       "      <th>2</th>\n",
       "      <td>3231310</td>\n",
       "      <td>point2point</td>\n",
       "      <td>-1</td>\n",
       "      <td>1</td>\n",
       "      <td>Pending</td>\n",
       "      <td>Booking</td>\n",
       "      <td>Elife</td>\n",
       "      <td>2024-03-01 19:54</td>\n",
       "      <td>America/New_York</td>\n",
       "      <td>Orlando International Airport (MCO), 1 Jeff Fu...</td>\n",
       "      <td>Clarion Inn &amp; Suites Across From Universal Orl...</td>\n",
       "      <td>28177</td>\n",
       "      <td>1284</td>\n",
       "      <td>MPV-4</td>\n",
       "      <td>4</td>\n",
       "      <td>4</td>\n",
       "      <td>36.99</td>\n",
       "      <td>USD</td>\n",
       "      <td>0.131277</td>\n",
       "      <td>0.131277</td>\n",
       "    </tr>\n",
       "    <tr>\n",
       "      <th>3</th>\n",
       "      <td>3259057</td>\n",
       "      <td>point2point</td>\n",
       "      <td>0</td>\n",
       "      <td>1</td>\n",
       "      <td>Pending</td>\n",
       "      <td>Booking</td>\n",
       "      <td>DMS Car Service</td>\n",
       "      <td>2024-03-17 17:25</td>\n",
       "      <td>America/New_York</td>\n",
       "      <td>Orlando International Airport (MCO), 1 Jeff Fu...</td>\n",
       "      <td>Universal's Aventura Hotel, 6725 Adventure Wy,...</td>\n",
       "      <td>27370</td>\n",
       "      <td>1403</td>\n",
       "      <td>Sedan</td>\n",
       "      <td>3</td>\n",
       "      <td>3</td>\n",
       "      <td>33.00</td>\n",
       "      <td>USD</td>\n",
       "      <td>0.120570</td>\n",
       "      <td>0.120570</td>\n",
       "    </tr>\n",
       "    <tr>\n",
       "      <th>4</th>\n",
       "      <td>3259057</td>\n",
       "      <td>point2point</td>\n",
       "      <td>0</td>\n",
       "      <td>1</td>\n",
       "      <td>Pending</td>\n",
       "      <td>Booking</td>\n",
       "      <td>DMS Car Service</td>\n",
       "      <td>2024-03-17 17:25</td>\n",
       "      <td>America/New_York</td>\n",
       "      <td>Orlando International Airport (MCO), 1 Jeff Fu...</td>\n",
       "      <td>Universal's Aventura Hotel, 6725 Adventure Wy,...</td>\n",
       "      <td>27370</td>\n",
       "      <td>1403</td>\n",
       "      <td>Sedan</td>\n",
       "      <td>3</td>\n",
       "      <td>3</td>\n",
       "      <td>33.00</td>\n",
       "      <td>USD</td>\n",
       "      <td>0.120570</td>\n",
       "      <td>0.120570</td>\n",
       "    </tr>\n",
       "    <tr>\n",
       "      <th>...</th>\n",
       "      <td>...</td>\n",
       "      <td>...</td>\n",
       "      <td>...</td>\n",
       "      <td>...</td>\n",
       "      <td>...</td>\n",
       "      <td>...</td>\n",
       "      <td>...</td>\n",
       "      <td>...</td>\n",
       "      <td>...</td>\n",
       "      <td>...</td>\n",
       "      <td>...</td>\n",
       "      <td>...</td>\n",
       "      <td>...</td>\n",
       "      <td>...</td>\n",
       "      <td>...</td>\n",
       "      <td>...</td>\n",
       "      <td>...</td>\n",
       "      <td>...</td>\n",
       "      <td>...</td>\n",
       "      <td>...</td>\n",
       "    </tr>\n",
       "    <tr>\n",
       "      <th>195</th>\n",
       "      <td>3015680</td>\n",
       "      <td>point2point</td>\n",
       "      <td>0</td>\n",
       "      <td>2</td>\n",
       "      <td>Pending</td>\n",
       "      <td>CityAirportTaxis</td>\n",
       "      <td>wagner Valladao de Araujo Filho</td>\n",
       "      <td>2024-01-09 18:20</td>\n",
       "      <td>America/New_York</td>\n",
       "      <td>Orlando Airport</td>\n",
       "      <td>Orlando Marriott Lake Mary</td>\n",
       "      <td>60193</td>\n",
       "      <td>2470</td>\n",
       "      <td>Sedan</td>\n",
       "      <td>1</td>\n",
       "      <td>1</td>\n",
       "      <td>47.50</td>\n",
       "      <td>USD</td>\n",
       "      <td>0.078913</td>\n",
       "      <td>0.078913</td>\n",
       "    </tr>\n",
       "    <tr>\n",
       "      <th>196</th>\n",
       "      <td>3015680</td>\n",
       "      <td>point2point</td>\n",
       "      <td>0</td>\n",
       "      <td>2</td>\n",
       "      <td>Pending</td>\n",
       "      <td>CityAirportTaxis</td>\n",
       "      <td>wagner Valladao de Araujo Filho</td>\n",
       "      <td>2024-01-09 18:20</td>\n",
       "      <td>America/New_York</td>\n",
       "      <td>Orlando Airport</td>\n",
       "      <td>Orlando Marriott Lake Mary</td>\n",
       "      <td>60193</td>\n",
       "      <td>2470</td>\n",
       "      <td>Sedan</td>\n",
       "      <td>1</td>\n",
       "      <td>1</td>\n",
       "      <td>47.50</td>\n",
       "      <td>USD</td>\n",
       "      <td>0.078913</td>\n",
       "      <td>0.078913</td>\n",
       "    </tr>\n",
       "    <tr>\n",
       "      <th>197</th>\n",
       "      <td>3015680</td>\n",
       "      <td>point2point</td>\n",
       "      <td>0</td>\n",
       "      <td>2</td>\n",
       "      <td>Pending</td>\n",
       "      <td>CityAirportTaxis</td>\n",
       "      <td>wagner Valladao de Araujo Filho</td>\n",
       "      <td>2024-01-09 18:20</td>\n",
       "      <td>America/New_York</td>\n",
       "      <td>Orlando Airport</td>\n",
       "      <td>Orlando Marriott Lake Mary</td>\n",
       "      <td>60193</td>\n",
       "      <td>2470</td>\n",
       "      <td>Sedan</td>\n",
       "      <td>1</td>\n",
       "      <td>1</td>\n",
       "      <td>47.50</td>\n",
       "      <td>USD</td>\n",
       "      <td>0.078913</td>\n",
       "      <td>0.078913</td>\n",
       "    </tr>\n",
       "    <tr>\n",
       "      <th>198</th>\n",
       "      <td>3015680</td>\n",
       "      <td>point2point</td>\n",
       "      <td>0</td>\n",
       "      <td>2</td>\n",
       "      <td>Pending</td>\n",
       "      <td>CityAirportTaxis</td>\n",
       "      <td>wagner Valladao de Araujo Filho</td>\n",
       "      <td>2024-01-09 18:20</td>\n",
       "      <td>America/New_York</td>\n",
       "      <td>Orlando Airport</td>\n",
       "      <td>Orlando Marriott Lake Mary</td>\n",
       "      <td>60193</td>\n",
       "      <td>2470</td>\n",
       "      <td>Sedan</td>\n",
       "      <td>1</td>\n",
       "      <td>1</td>\n",
       "      <td>47.50</td>\n",
       "      <td>USD</td>\n",
       "      <td>0.078913</td>\n",
       "      <td>0.078913</td>\n",
       "    </tr>\n",
       "    <tr>\n",
       "      <th>199</th>\n",
       "      <td>3015680</td>\n",
       "      <td>point2point</td>\n",
       "      <td>0</td>\n",
       "      <td>2</td>\n",
       "      <td>Pending</td>\n",
       "      <td>CityAirportTaxis</td>\n",
       "      <td>wagner Valladao de Araujo Filho</td>\n",
       "      <td>2024-01-09 18:20</td>\n",
       "      <td>America/New_York</td>\n",
       "      <td>Orlando Airport</td>\n",
       "      <td>Orlando Marriott Lake Mary</td>\n",
       "      <td>60193</td>\n",
       "      <td>2470</td>\n",
       "      <td>Sedan</td>\n",
       "      <td>1</td>\n",
       "      <td>1</td>\n",
       "      <td>47.50</td>\n",
       "      <td>USD</td>\n",
       "      <td>0.078913</td>\n",
       "      <td>0.078913</td>\n",
       "    </tr>\n",
       "  </tbody>\n",
       "</table>\n",
       "<p>200 rows × 20 columns</p>\n",
       "</div>"
      ]
     },
     "execution_count": 47,
     "metadata": {},
     "output_type": "execute_result"
    }
   ],
   "execution_count": 47
  },
  {
   "metadata": {
    "ExecuteTime": {
     "end_time": "2024-09-12T01:33:05.076502547Z",
     "start_time": "2024-09-06T08:08:47.195814Z"
    }
   },
   "cell_type": "code",
   "source": [
    "#| hide\n",
    "import nbdev; nbdev.nbdev_export()"
   ],
   "outputs": [],
   "execution_count": 33
  }
 ],
 "metadata": {
  "kernelspec": {
   "display_name": "python3",
   "language": "python",
   "name": "python3"
  }
 },
 "nbformat": 4,
 "nbformat_minor": 4
}
