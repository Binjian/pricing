{
 "cells": [
  {
   "cell_type": "code",
   "execution_count": null,
   "metadata": {},
   "outputs": [],
   "source": [
    "#| default_exp data.database.sqlalchemy"
   ]
  },
  {
   "cell_type": "code",
   "execution_count": null,
   "metadata": {},
   "outputs": [],
   "source": [
    "from geopy.timezone import from_timezone_name\n",
    "#| hide\n",
    "from nbdev.showdoc import *\n",
    "from pyasn1_modules.rfc3279 import id_fieldType"
   ]
  },
  {
   "cell_type": "code",
   "execution_count": null,
   "metadata": {},
   "outputs": [],
   "source": [
    "#| hide\n",
    "import nbdev;\n",
    "\n",
    "nbdev.nbdev_export()"
   ]
  },
  {
   "cell_type": "markdown",
   "metadata": {},
   "source": []
  },
  {
   "cell_type": "code",
   "execution_count": null,
   "metadata": {},
   "outputs": [],
   "source": [
    "#| hide\n",
    "from IPython.core.interactiveshell import InteractiveShell\n",
    "\n",
    "InteractiveShell.ast_node_interactivity = \"all\""
   ]
  },
  {
   "cell_type": "code",
   "execution_count": null,
   "metadata": {},
   "outputs": [],
   "source": [
    "import os\n",
    "import pandas as pd"
   ]
  },
  {
   "cell_type": "code",
   "execution_count": null,
   "metadata": {},
   "outputs": [],
   "source": [
    "from sqlalchemy import MetaData, create_engine, asc, desc, and_, or_, not_, case, extract, cast, text\n",
    "from sqlalchemy.types import DateTime, Date, Time\n",
    "from sqlalchemy.schema import *\n",
    "from sqlalchemy.sql import func as F, Selectable, select\n",
    "from sqlalchemy.dialects import registry\n",
    "from sqlalchemy.engine.row import Row\n",
    "from sqlalchemy.orm import Session"
   ]
  },
  {
   "cell_type": "markdown",
   "metadata": {},
   "source": []
  },
  {
   "cell_type": "code",
   "execution_count": null,
   "metadata": {},
   "outputs": [],
   "source": [
    "#| export\n",
    "from google.oauth2 import service_account\n",
    "from google.oauth2.service_account import Credentials\n"
   ]
  },
  {
   "cell_type": "code",
   "execution_count": null,
   "metadata": {},
   "outputs": [],
   "source": [
    "#| hide\n",
    "from google.cloud import bigquery\n",
    "from dotenv import load_dotenv\n"
   ]
  },
  {
   "cell_type": "code",
   "execution_count": null,
   "metadata": {},
   "outputs": [],
   "source": [
    "\n",
    "load_dotenv(\"../.env\")"
   ]
  },
  {
   "cell_type": "code",
   "execution_count": null,
   "metadata": {},
   "outputs": [],
   "source": [
    "os.environ"
   ]
  },
  {
   "cell_type": "code",
   "execution_count": null,
   "metadata": {},
   "outputs": [],
   "source": [
    "# os.getenv('GC_QUOTE_API_CREDENTIALS')\n",
    "# os.getenv('HTTP_PROXY')\n",
    "# os.getenv('HTTPS_PROXY')"
   ]
  },
  {
   "cell_type": "code",
   "execution_count": null,
   "metadata": {},
   "outputs": [],
   "source": [
    "# config = dotenv_values(\"../.env\")\n",
    "# key = config.get('GC_QUOTE_API_CREDENTIALS')\n",
    "key = os.getenv('GC_QUOTE_API_CREDENTIALS')"
   ]
  },
  {
   "cell_type": "code",
   "execution_count": null,
   "metadata": {},
   "outputs": [],
   "source": [
    "credential = service_account.Credentials.from_service_account_file(\"../\" + key)\n"
   ]
  },
  {
   "cell_type": "code",
   "execution_count": null,
   "metadata": {},
   "outputs": [],
   "source": [
    "\n",
    "#os.environ['HTTP_PROXY'] = \"http://127.0.0.1:20171\"\n",
    "#os.environ['HTTPS_PROXY'] = \"http://127.0.0.1:20171\"\n",
    "#os.environ['http_proxy'] = \"http://127.0.0.1:20171\"\n",
    "#os.environ['https_proxy'] = \"http://127.0.0.1:20171\"\n",
    "\n"
   ]
  },
  {
   "cell_type": "code",
   "execution_count": null,
   "metadata": {},
   "outputs": [],
   "source": [
    "registry.register('bigquery', 'sqlalchemy_bigquery', 'BigQueryDialect')\n",
    "engine = create_engine('bigquery://quote-api-365206',\n",
    "                       credentials_path='../' + key, )\n"
   ]
  },
  {
   "cell_type": "code",
   "execution_count": null,
   "metadata": {},
   "outputs": [],
   "source": [
    "metadata = MetaData()\n",
    "\n",
    "\n",
    "def get_table(project_name: str, dataset_name: str, table_name: str) -> Table:\n",
    "    table = Table(f'{project_name}.{dataset_name}.{table_name}', metadata, autoload_with=engine)\n",
    "    return table"
   ]
  },
  {
   "cell_type": "code",
   "execution_count": null,
   "metadata": {},
   "outputs": [],
   "source": [
    "# table = get_table('quote-api-365206', 'report', 'ride_dispatch_v')"
   ]
  },
  {
   "cell_type": "code",
   "execution_count": null,
   "metadata": {},
   "outputs": [],
   "source": [
    "# query = select(table).limit(20).where(table.c.ride_stat == 'Accepted').order_by(asc(table.c.ride_id))\n",
    "# df = pd.read_sql(query, engine)\n",
    "# df\n"
   ]
  },
  {
   "cell_type": "code",
   "execution_count": null,
   "metadata": {},
   "outputs": [],
   "source": [
    "# table = get_table('elife-data-warehouse-prod', 'ods', 'ride_ride')"
   ]
  },
  {
   "cell_type": "code",
   "execution_count": null,
   "metadata": {},
   "outputs": [],
   "source": [
    "# table"
   ]
  },
  {
   "cell_type": "code",
   "execution_count": null,
   "metadata": {},
   "outputs": [],
   "source": [
    "# query = select(table).where(table.c.airport_code3 == 'JFK').limit(20)"
   ]
  },
  {
   "cell_type": "code",
   "execution_count": null,
   "metadata": {},
   "outputs": [],
   "source": [
    "# df = pd.read_sql(query, engine)\n",
    "# df\n"
   ]
  },
  {
   "cell_type": "code",
   "execution_count": null,
   "metadata": {},
   "outputs": [],
   "source": [
    "# find all tables in the database"
   ]
  },
  {
   "cell_type": "code",
   "execution_count": null,
   "metadata": {},
   "outputs": [],
   "source": [
    "ride_trip_t = get_table('elife-data-warehouse-prod', 'ods', 'ride_trip').alias()\n",
    "ride_dispatch_t = get_table('elife-data-warehouse-prod', 'ods', 'ride_dispatch').alias()\n",
    "ride_enum_t = get_table('elife-data-warehouse-prod', 'ods', 'ride_enum').alias()\n",
    "ride_ride_t = get_table('elife-data-warehouse-prod', 'ods', 'ride_ride').alias()\n",
    "ride_partner_tran_t = get_table('elife-data-warehouse-prod', 'ods', 'ride_partner_tran').alias()\n",
    "ride_partner_t = get_table('elife-data-warehouse-prod', 'ods', 'ride_partner').alias()\n",
    "dim_place_t = get_table('elife-data-warehouse-prod', 'dim', 'dim_place').alias()\n",
    "ride_vehicle_class_t = get_table('elife-data-warehouse-prod', 'ods', 'ride_vehicle_class').alias()\n"
   ]
  },
  {
   "cell_type": "code",
   "execution_count": null,
   "metadata": {},
   "outputs": [],
   "source": [
    "auction_ride_t = get_table('elife-data-warehouse-prod', 'ods', 'ride_auction_ride').alias()\n",
    "auction_fleet_t = get_table('elife-data-warehouse-prod', 'ods', 'ride_auction_fleet').alias()\n",
    "ride_fleet_t = get_table('elife-data-warehouse-prod', 'ods', 'ride_fleet').alias()\n",
    "dim_service_area_t = get_table('elife-data-warehouse-prod', 'dim', 'dim_service_area').alias()\n",
    "ride_cur_xrate_history_t = get_table('elife-data-warehouse-prod', 'ods', 'ride_cur_exch_rate_history').alias()\n",
    "\n"
   ]
  },
  {
   "cell_type": "code",
   "execution_count": null,
   "metadata": {},
   "outputs": [],
   "source": [
    "ride_cur_xrate_t = select(ride_ride_t.c.id.label('ride_id'),\n",
    "                          ride_dispatch_t.c.inserted_at,\n",
    "                          ride_cur_xrate_history_t.c.from_cur,\n",
    "                          ride_cur_xrate_history_t.c.to_cur,\n",
    "                          ride_cur_xrate_history_t.c.rate,\n",
    "                          ride_cur_xrate_history_t.c.effective_at,\n",
    "                          ride_cur_xrate_history_t.c.expire_at)\n",
    "ride_cur_xrate_t = ride_cur_xrate_t.select_from(ride_ride_t\n",
    "                                                .join(ride_dispatch_t, ride_ride_t.c.id == ride_dispatch_t.c.ride_id)\n",
    "                                                .join(ride_cur_xrate_history_t,\n",
    "                                                      ride_dispatch_t.c.inserted_at.between(\n",
    "                                                          ride_cur_xrate_history_t.c.effective_at,\n",
    "                                                          ride_cur_xrate_history_t.c.expire_at),\n",
    "                                                      )\n",
    "                                                ).where(\n",
    "    and_(\n",
    "        # ride_dispatch_t.c.inserted_at.between(ride_cur_xrate_history_t.c.effective_at, ride_cur_xrate_history_t.c.expire_at),\n",
    "        ride_cur_xrate_history_t.c.from_cur == 'USD',\n",
    "        ride_cur_xrate_history_t.c.to_cur == ride_dispatch_t.c.currency\n",
    "    )\n",
    ")\n",
    "# ride_cur_xrate_history_t.c.effective_at <= ride_dispatch_t.c.inserted_at,\n",
    "# ride_dispatch_t.c.inserted_at == ride_cur_xrate_history_t.c.inserted_at,\n",
    "\n",
    "# and_(\n",
    "#     ride_cur_xrate_history_t.c.effective_at <= ride_dispatch_t.c.inserted_at,\n",
    "#     ride_dispatch_t.c.inserted_at < ride_cur_xrate_history_t.c.expire_at\n",
    "# ),\n",
    "ride_cur_xrate_t = ride_cur_xrate_t.alias()\n",
    "\n"
   ]
  },
  {
   "cell_type": "code",
   "execution_count": null,
   "metadata": {},
   "outputs": [],
   "source": [
    "\n",
    "# print(ride_cur_xrate_t)\n",
    "# ride_cur_xrate_t = ride_cur_xrate_t.limit(100)\n",
    "# df = pd.read_sql(ride_cur_xrate_t, engine)\n",
    "# df"
   ]
  },
  {
   "cell_type": "code",
   "execution_count": null,
   "metadata": {},
   "outputs": [],
   "source": [
    "# ride_cur_xrate_t = select(ride_ride_t.c.id.label('ride_id'),\n",
    "#                           ride_dispatch_t.c.inserted_at,\n",
    "#                           ride_cur_xrate_history_t.c.from_cur,\n",
    "#                           ride_cur_xrate_history_t.c.to_cur,\n",
    "#                           ride_cur_xrate_history_t.c.rate,\n",
    "#                           ride_cur_xrate_history_t.c.effective_at,\n",
    "#                           ride_cur_xrate_history_t.c.expire_at).where(\n",
    "#     and_(\n",
    "#         ride_dispatch_t.c.inserted_at.between(ride_cur_xrate_history_t.c.effective_at, ride_cur_xrate_history_t.c.expire_at),\n",
    "#         ride_cur_xrate_history_t.c.from_cur == 'USD',\n",
    "#         ride_cur_xrate_history_t.c.to_cur == ride_dispatch_t.c.currency\n",
    "#     )\n",
    "# )\n",
    "# ride_cur_xrate_t = ride_cur_xrate_t.select_from(ride_ride_t\n",
    "#                                                 .join(ride_dispatch_t, ride_ride_t.c.id == ride_dispatch_t.c.ride_id)\n",
    "#                                                 .join(ride_cur_xrate_history_t, \n",
    "#                                                       ride_dispatch_t.c.inserted_at.between(ride_cur_xrate_history_t.c.effective_at, \n",
    "#                                                                                             ride_cur_xrate_history_t.c.expire_at),\n",
    "#                                                       isouter=True)\n",
    "#                                                 )\n",
    "#                                                       # ride_cur_xrate_history_t.c.effective_at <= ride_dispatch_t.c.inserted_at,\n",
    "#                                                       # ride_dispatch_t.c.inserted_at == ride_cur_xrate_history_t.c.inserted_at,\n",
    "#                                                       \n",
    "#                                                       # and_(\n",
    "#                                                       #     ride_cur_xrate_history_t.c.effective_at <= ride_dispatch_t.c.inserted_at,\n",
    "#                                                       #     ride_dispatch_t.c.inserted_at < ride_cur_xrate_history_t.c.expire_at\n",
    "#                                                       # ),\n",
    "# ride_cur_xrate_t = ride_cur_xrate_t.alias()\n",
    "\n"
   ]
  },
  {
   "cell_type": "code",
   "execution_count": null,
   "metadata": {},
   "outputs": [],
   "source": [
    "trip_type_id_t = select(ride_dispatch_t.c.ride_id, ride_trip_t.c.trip_type.label('trip_type_id'))\n",
    "trip_type_id_t = trip_type_id_t.select_from(ride_dispatch_t\n",
    "                                            .join(ride_trip_t, ride_dispatch_t.c.ride_id == ride_trip_t.c.ride_id))\n",
    "trip_type_id_t = trip_type_id_t.alias()\n"
   ]
  },
  {
   "cell_type": "code",
   "execution_count": null,
   "metadata": {},
   "outputs": [],
   "source": [
    "# trip_type_id_t = trip_type_id_t.limit(10)\n",
    "# df = pd.read_sql(trip_type_id_t, engine)\n",
    "# df"
   ]
  },
  {
   "cell_type": "code",
   "execution_count": null,
   "metadata": {},
   "outputs": [],
   "source": [
    "trip_type_t = select(trip_type_id_t.c.ride_id, trip_type_id_t.c.trip_type_id, ride_enum_t.c.name.label('trip_type'))\n",
    "trip_type_t = trip_type_t.select_from(trip_type_id_t\n",
    "                                      .join(ride_enum_t, trip_type_id_t.c.trip_type_id == ride_enum_t.c.id,\n",
    "                                            isouter=True))\n",
    "trip_type_t = trip_type_t.alias()\n"
   ]
  },
  {
   "cell_type": "code",
   "execution_count": null,
   "metadata": {},
   "outputs": [],
   "source": [
    "ride_status_t = select(ride_ride_t.c.id.label('ride_id'), ride_ride_t.c.stat.label('ride_status_id'),\n",
    "                       ride_enum_t.c.name.label('ride_status'))\n",
    "ride_status_t = ride_status_t.select_from(ride_ride_t\n",
    "                                          .join(ride_enum_t, ride_ride_t.c.stat == ride_enum_t.c.id, isouter=True))\n",
    "ride_status_t = ride_status_t.alias()\n",
    "# ride_status_t = ride_status_t.limit(10)\n",
    "# df = pd.read_sql(ride_status_t, engine)\n",
    "# df"
   ]
  },
  {
   "cell_type": "code",
   "execution_count": null,
   "metadata": {},
   "outputs": [],
   "source": [
    "\n",
    "service_area_t = select(ride_ride_t.c.id.label('ride_id'), ride_ride_t.c.service_area_id,\n",
    "                        dim_service_area_t.c.name.label('service_area'))\n",
    "service_area_t = service_area_t.select_from(ride_ride_t\n",
    "                                            .join(dim_service_area_t,\n",
    "                                                  ride_ride_t.c.service_area_id == dim_service_area_t.c.id))\n",
    "service_area_t = service_area_t.alias()\n",
    "# service_area_t = service_area_t.limit(10)\n",
    "# df = pd.read_sql(service_area_t,engine)\n",
    "# df.dtypes\n",
    "# df\n",
    "print(service_area_t)\n"
   ]
  },
  {
   "cell_type": "markdown",
   "metadata": {},
   "source": [
    "## Traffic peak time exclusion\n",
    "source https://www.quora.com/What-is-the-trickiest-time-of-the-day-to-drive-in-Orlando"
   ]
  },
  {
   "cell_type": "code",
   "execution_count": null,
   "metadata": {},
   "outputs": [],
   "source": [
    "#ride_datetime_tz_t = select(ride_datetime_t.c.ride_id,\n",
    "#                         # F.timestamp(ride_datetime_t.c.from_datetime).label('from_datetime_utc'),\n",
    "#                         ride_datetime_t.c.from_datetime,\n",
    "#                         ride_datetime_t.c.from_datetime_str,\n",
    "#                         cast(ride_datetime_t.c.from_date_str, Date).label('from_date'),\n",
    "#                         cast(ride_datetime_t.c.from_time_str, Time).label('from_time'),\n",
    "#                         # ride_datetime_t.c.from_date_str,\n",
    "#                         # ride_datetime_t.c.from_time_str,\n",
    "#                         ride_datetime_t.c.utc,\n",
    "#                         ride_datetime_t.c.tz,\n",
    "#                         ride_datetime_t.c.day_of_week,\n",
    "#                         F.datetime(F.timestamp_seconds(ride_datetime_t.c.utc)).label('from_datetime_utc'),\n",
    "#                         #F.format_timestamp('%Y-%m-%d %H:%M:%S', F.timestamp_seconds(ride_datetime_t.c.utc), ride_datetime_t.c.tz).label('datetime_with_new_timezone')\n",
    "#                         # text(\"TIMESTAMP(ride_datetime_t.c.from_datetime) AT TIME ZONE 'UTC' AT TIME ZONE ride_datetime_t.c.tz\").label('datetime_with_new_timezone') \n",
    "#                         #F.datetime(F.timestamp_seconds(ride_datetime_t.c.utc), F.timezone(ride_datetime_t.c.tz)).label('from_datetime_local'),\n",
    "#                         # cast(ride_datetime_t.c.from_datetime_str, DateTime).label('from_datetime_tz'),\n",
    "#                         )\n",
    "#ride_datetime_tz_t = ride_datetime_tz_t.select_from(ride_datetime_t) #.join(ride_ride_t, ride_ride_t.c.id == ride_datetime_t.c.ride_id))\n",
    "## print(ride_non_peak_t.compile(compile_kwargs={\"literal_binds\": True}))\n",
    "#ride_datetime_tz_t = ride_datetime_tz_t.alias()\n",
    "## ride_datetime_tz_t = ride_datetime_tz_t.limit(100)\n",
    "## df = pd.read_sql(ride_datetime_tz_t,engine)\n",
    "## df.dtypes\n",
    "## df"
   ]
  },
  {
   "cell_type": "code",
   "execution_count": null,
   "metadata": {},
   "outputs": [],
   "source": [
    "ride_datetime_t = select(ride_ride_t.c.id.label('ride_id'),\n",
    "                         F.substring(ride_ride_t.c.from_time_str, 1, 10).label('from_date_str'),\n",
    "                         F.concat(F.substring(ride_ride_t.c.from_time_str, 12, 16), ':00').label('from_time_fix_str'),\n",
    "                         F.concat(F.substring(ride_ride_t.c.from_time_str, 1, 10),\n",
    "                                  ' ',\n",
    "                                  F.substring(ride_ride_t.c.from_time_str, 12, 16),\n",
    "                                  ':00'\n",
    "                                  ).label('from_datetime_fix_str'),\n",
    "                         # extract(\n",
    "                         #     'DAYOFWEEK',\n",
    "                         #     cast(F.concat(F.substring(ride_ride_t.c.from_time_str, 1, 10),\n",
    "                         #                   ' ',\n",
    "                         #                   F.substring(ride_ride_t.c.from_time_str, 12, 16),\n",
    "                         #                   # ':00'\n",
    "                         #                   ),\n",
    "                         #          DateTime)\n",
    "                         # ).label('day_of_week_local'),\n",
    "                         extract(\n",
    "                             'DAYOFWEEK',\n",
    "                             cast(F.timestamp_seconds(ride_ride_t.c.from_utc),\n",
    "                                  DateTime)\n",
    "                         ).label('day_of_week_utc'),\n",
    "                         F.datetime(F.timestamp_seconds(ride_ride_t.c.from_utc)).label('from_datetime_utc'),\n",
    "                         ride_ride_t.c.from_timezone_str,\n",
    "                         # F.current_date(ride_ride_t.c.from_timezone_str).label('current_date'),\n",
    "                         #cast(ride_ride_t.c.from_time_str,DateTime).label('from_datetime'),\n",
    "                         #cast(F.concat(F.substring(ride_ride_t.c.from_time_str, 1, 10), 'T', F.substring(ride_ride_t.c.from_time_str, 12, 16)),DateTime).label('from_datetime'),\n",
    "                         #cast(ride_ride_t.c.from_time_str, DateTime).label('from_time_dt'),\n",
    "                         # F.timezone(ride_ride_t.c.from_timezone_str, cast(ride_ride_t.c.from_time_str, DateTime).label('from_time_dt')),\n",
    "                         )\n",
    "ride_datetime_t = ride_datetime_t.select_from(ride_ride_t)\n",
    "ride_datetime_t = ride_datetime_t.alias()\n",
    "# ride_datetime_t = ride_datetime_t.limit(100)\n",
    "# df = pd.read_sql(ride_datetime_t, engine)"
   ]
  },
  {
   "cell_type": "code",
   "execution_count": null,
   "metadata": {},
   "outputs": [],
   "source": [
    "#df"
   ]
  },
  {
   "cell_type": "code",
   "execution_count": null,
   "metadata": {},
   "outputs": [],
   "source": [
    "from workalendar.usa import Florida\n",
    "import numpy as np\n",
    "\n",
    "cal_florida = Florida()\n",
    "exclude_dates_str = [str(d[0]) for d in cal_florida.holidays(2024)]\n",
    "exclude_dates_str"
   ]
  },
  {
   "cell_type": "code",
   "execution_count": null,
   "metadata": {},
   "outputs": [],
   "source": [
    "#ride_non_peak_t = select(ride_datetime_t).where(\n",
    "#            # not_(ride_datetime_tz_t.c.day_of_week.in_([1, 7])),\n",
    "#            # not_(ride_datetime_tz_t.c.from_datetime_str.in_(exclude_dates)),\n",
    "#            and_(\n",
    "#                # not_(ride_datetime_t.c.day_of_week.in_([1, 7])),\n",
    "#                not_(ride_datetime_t.c.from_datetime_str.in_(exclude_dates_str)),\n",
    "#                not_(\n",
    "#                    and_(\n",
    "#                        # text(f\"TIME({ride_datetime_tz_t.c.from_time}) > TIME({peak_time_str[0][0]}) AND TIME({ride_datetime_tz_t.c.from_time}) < TIME({peak_time_str[0][1]})\"),\n",
    "#                        # text(f\"TIME({ride_datetime_tz_t.c.from_time}) > TIME({peak_time_str[1][0]}) AND TIME({ride_datetime_tz_t.c.from_time}) < TIME({peak_time_str[1][1]})\"),\n",
    "#                        cast(ride_datetime_t.c.from_time, Time) > cast(peak_time_str[0][0],Time),\n",
    "#                        cast(ride_datetime_t.c.from_time, Time) < cast(peak_time_str[0][1],Time),\n",
    "#                    )\n",
    "#                ),\n",
    "#                not_(\n",
    "#                    and_(\n",
    "#                        cast(ride_datetime_t.c.from_time, Time) > cast(peak_time_str[1][0],Time),\n",
    "#                        cast(ride_datetime_t.c.from_time, Time) < cast(peak_time_str[1][1],Time),\n",
    "#                    )\n",
    "#                )\n",
    "#            )\n",
    "#        )               \n",
    "#ride_non_peak_t = ride_non_peak_t.select_from(ride_datetime_t)\n",
    "## ride_non_peak_t = ride_non_peak_t.alias()\n",
    "#ride_non_peak_t = ride_non_peak_t.limit(1000)\n",
    "#df = pd.read_sql(ride_non_peak_t,engine)\n",
    "#df.head()"
   ]
  },
  {
   "cell_type": "code",
   "execution_count": null,
   "metadata": {},
   "outputs": [],
   "source": [
    "# df"
   ]
  },
  {
   "cell_type": "code",
   "execution_count": null,
   "metadata": {},
   "outputs": [],
   "source": [
    "exclude_dates = [d[0] for d in cal_florida.holidays(2024)]\n",
    "# exclude_dates\n",
    "# res = df['from_datetime_utc'].apply(lambda x: x in exclude_dates)"
   ]
  },
  {
   "cell_type": "code",
   "execution_count": null,
   "metadata": {},
   "outputs": [],
   "source": [
    "# np.any(res.apply(lambda x: x in exclude_dates))\n",
    "# res[0]=True\n",
    "# res\n",
    "# np.any(res)\n"
   ]
  },
  {
   "cell_type": "code",
   "execution_count": null,
   "metadata": {},
   "outputs": [],
   "source": [
    "dispatch_status_t = select(ride_dispatch_t.c.id.label('ride_id'), ride_dispatch_t.c.stat.label('dispatch_status_id'),\n",
    "                           ride_enum_t.c.name.label('dispatch_status'))\n",
    "dispatch_status_t = dispatch_status_t.select_from(ride_dispatch_t\n",
    "                                                  .join(ride_enum_t, ride_dispatch_t.c.stat == ride_enum_t.c.id,\n",
    "                                                        isouter=True))\n",
    "dispatch_status_t = dispatch_status_t.alias()\n",
    "#dispatch_status_t = dispatch_status_t.limit(10)\n",
    "#df = pd.read_sql(dispatch_status_t, engine)\n",
    "#df"
   ]
  },
  {
   "cell_type": "code",
   "execution_count": null,
   "metadata": {},
   "outputs": [],
   "source": [
    "\n",
    "expr = case(\n",
    "    (ride_dispatch_t.c.to_fleet_id == auction_fleet_t.c.fleet_id, 'auction'),\n",
    "    else_='dispatch',\n",
    ")\n"
   ]
  },
  {
   "cell_type": "code",
   "execution_count": null,
   "metadata": {},
   "outputs": [],
   "source": [
    "auction_type_t = select(\n",
    "    auction_ride_t.c.ride_id.label('ride_id'),\n",
    "    auction_ride_t.c.auction_id.label('auction_id'),\n",
    "    auction_fleet_t.c.fleet_id.label('auction_fleet_id'),\n",
    "    ride_dispatch_t.c.to_fleet_id.label('dispatch_fleet_id'),\n",
    "    ride_fleet_t.c.name.label('fleet'),\n",
    "    case(\n",
    "        (ride_dispatch_t.c.to_fleet_id == auction_fleet_t.c.fleet_id, 'auction'),\n",
    "        else_='dispatch',\n",
    "    ).label('dispatch_type')\n",
    ")\n",
    "auction_type_t = auction_type_t.select_from(auction_ride_t\n",
    "                                            .join(auction_fleet_t,\n",
    "                                                  auction_ride_t.c.auction_id == auction_fleet_t.c.auction_id,\n",
    "                                                  isouter=True)\n",
    "                                            .join(ride_dispatch_t,\n",
    "                                                  auction_ride_t.c.ride_id == ride_dispatch_t.c.ride_id, isouter=True)\n",
    "                                            .join(ride_fleet_t, ride_dispatch_t.c.to_fleet_id == ride_fleet_t.c.id,\n",
    "                                                  isouter=True))\n",
    "auction_type_t = auction_type_t.alias()\n",
    "# auction_type_t = auction_type_t.limit(100)\n",
    "# df = pd.read_sql(auction_type_t, engine)\n",
    "# df"
   ]
  },
  {
   "cell_type": "code",
   "execution_count": null,
   "metadata": {},
   "outputs": [],
   "source": [
    "dispatch_type_t = (select(\n",
    "    ride_dispatch_t.c.id.label('ride_id'),\n",
    "    ride_dispatch_t.c.to_fleet_id.label('dispatch_fleet_id'),\n",
    "    auction_ride_t.c.auction_id.label('auction_id'),\n",
    "    auction_fleet_t.c.fleet_id.label('auction_fleet_id'),\n",
    "    case(\n",
    "        (ride_dispatch_t.c.to_fleet_id == auction_fleet_t.c.fleet_id, 'auction'),\n",
    "        else_='dispatch',\n",
    "    ).label('dispatch_type'),\n",
    "    ride_fleet_t.c.name.label('fleet')\n",
    "))\n",
    "# .where(\n",
    "#     ride_dispatch_t.c.to_fleet_id == auction_fleet_t.c.fleet_id\n",
    "# ))\n",
    "dispatch_type_t = dispatch_type_t.select_from(ride_dispatch_t\n",
    "                                              .join(auction_ride_t,\n",
    "                                                    ride_dispatch_t.c.ride_id == auction_ride_t.c.ride_id, isouter=True)\n",
    "                                              .join(auction_fleet_t,\n",
    "                                                    auction_ride_t.c.auction_id == auction_fleet_t.c.auction_id,\n",
    "                                                    isouter=True)\n",
    "                                              .join(ride_fleet_t, ride_dispatch_t.c.to_fleet_id == ride_fleet_t.c.id,\n",
    "                                                    isouter=True))\n",
    "dispatch_type_t = dispatch_type_t.alias()\n",
    "# dispatch_type_t = dispatch_type_t.limit(100)\n",
    "# df = pd.read_sql(dispatch_type_t, engine)\n",
    "# df"
   ]
  },
  {
   "cell_type": "code",
   "execution_count": null,
   "metadata": {},
   "outputs": [],
   "source": [
    "partner_id_t = select(ride_ride_t.c.id.label('ride_id'), ride_partner_tran_t.c.partner_id.label('partner_id'))\n",
    "partner_id_t = partner_id_t.select_from(ride_ride_t\n",
    "                                        .join(ride_partner_tran_t,\n",
    "                                              ride_ride_t.c.partner_tran_id == ride_partner_tran_t.c.id, isouter=True))\n",
    "partner_id_t = partner_id_t.alias()\n",
    "#partner_id_t = partner_id_t.limit(10)\n",
    "#df = pd.read_sql(partner_id_t, engine)\n",
    "#df"
   ]
  },
  {
   "cell_type": "code",
   "execution_count": null,
   "metadata": {},
   "outputs": [],
   "source": [
    "partner_t = select(partner_id_t.c.ride_id, partner_id_t.c.partner_id, ride_partner_t.c.name.label('partner'))\n",
    "partner_t = partner_t.select_from(partner_id_t\n",
    "                                  .join(ride_partner_t, partner_id_t.c.partner_id == ride_partner_t.c.id, isouter=True))\n",
    "partner_t = partner_t.alias()\n",
    "# partner_t = partner_t.limit(10)\n",
    "# df = pd.read_sql(partner_t,engine)\n",
    "# df\n",
    "# print(partner_t)"
   ]
  },
  {
   "cell_type": "code",
   "execution_count": null,
   "metadata": {},
   "outputs": [],
   "source": []
  },
  {
   "cell_type": "code",
   "execution_count": null,
   "metadata": {},
   "outputs": [],
   "source": [
    "from_place_t = select(ride_ride_t.c.id.label('ride_id'),\n",
    "                      ride_ride_t.c.from_place_id.label('start_place_id'),\n",
    "                      dim_place_t.c.name.label('start_place'),\n",
    "                      dim_place_t.c.lng.label('lng'),\n",
    "                      dim_place_t.c.lat.label('ltt'),\n",
    "                      )\n",
    "from_place_t = from_place_t.select_from(ride_ride_t\n",
    "                                        .join(dim_place_t, ride_ride_t.c.from_place_id == dim_place_t.c.id,\n",
    "                                              isouter=True))\n",
    "from_place_t = from_place_t.alias()\n",
    "#from_place_t = from_place_t.limit(10)\n",
    "#df = pd.read_sql(from_place_t, engine)\n",
    "#df"
   ]
  },
  {
   "cell_type": "code",
   "execution_count": null,
   "metadata": {},
   "outputs": [],
   "source": [
    "to_place_t = select(ride_ride_t.c.id.label('ride_id'),\n",
    "                    ride_ride_t.c.to_place_id.label('end_place_id'),\n",
    "                    dim_place_t.c.name.label('end_place'),\n",
    "                    dim_place_t.c.lng.label('lng'),\n",
    "                    dim_place_t.c.lat.label('ltt'))\n",
    "to_place_t = to_place_t.select_from(ride_ride_t\n",
    "                                    .join(dim_place_t, ride_ride_t.c.to_place_id == dim_place_t.c.id, isouter=True))\n",
    "to_place_t = to_place_t.alias()\n",
    "#to_place_t = to_place_t.limit(10)\n",
    "#df = pd.read_sql(to_place_t, engine)\n",
    "#df"
   ]
  },
  {
   "cell_type": "code",
   "execution_count": null,
   "metadata": {},
   "outputs": [],
   "source": [
    "vehicle_class_t = select(ride_ride_t.c.id.label('ride_id'),\n",
    "                         ride_ride_t.c.vehicle_class_id.label('vehicle_class_id'),\n",
    "                         ride_vehicle_class_t.c.name.label('vehicle_class'))\n",
    "vehicle_class_t = vehicle_class_t.select_from(ride_ride_t\n",
    "                                              .join(ride_vehicle_class_t,\n",
    "                                                    ride_ride_t.c.vehicle_class_id == ride_vehicle_class_t.c.id,\n",
    "                                                    isouter=True))\n",
    "vehicle_class_t = vehicle_class_t.alias()\n",
    "#vehicle_class_t = vehicle_class_t.limit(10)\n",
    "#df = pd.read_sql(vehicle_class_t, engine)\n",
    "#df"
   ]
  },
  {
   "cell_type": "code",
   "execution_count": null,
   "metadata": {},
   "outputs": [],
   "source": []
  },
  {
   "cell_type": "code",
   "execution_count": null,
   "metadata": {},
   "outputs": [],
   "source": [
    "from workalendar.usa import Florida"
   ]
  },
  {
   "cell_type": "code",
   "execution_count": null,
   "metadata": {},
   "outputs": [],
   "source": [
    "cal_orlando = Florida()\n",
    "data_from_date = '2024-01-01'\n"
   ]
  },
  {
   "cell_type": "code",
   "execution_count": null,
   "metadata": {},
   "outputs": [],
   "source": [
    "exclude_dates = [d[0] for d in cal_orlando.holidays(2024)]\n",
    "exclude_dates"
   ]
  },
  {
   "cell_type": "code",
   "execution_count": null,
   "metadata": {},
   "outputs": [],
   "source": [
    "price_training_t = select(ride_ride_t.c.id.label('ride_id'),\n",
    "                          ride_ride_t.c.trip_count,\n",
    "                          ride_ride_t.c.from_utc,\n",
    "                          ride_ride_t.c.from_time_str,\n",
    "                          ride_ride_t.c.from_timezone_str,\n",
    "                          ride_ride_t.c.to_time_str,\n",
    "                          ride_ride_t.c.to_timezone_str,\n",
    "                          ride_ride_t.c.passenger_count,\n",
    "                          ride_ride_t.c.luggage_count,\n",
    "                          ride_ride_t.c.children_count,\n",
    "                          ride_ride_t.c.infant_count,\n",
    "                          ride_ride_t.c.distance,\n",
    "                          ride_ride_t.c.duration,\n",
    "                          ride_dispatch_t.c.id.label('dispatch_id'),\n",
    "                          ride_dispatch_t.c.trip_no,\n",
    "                          ride_dispatch_t.c.amount.label('dispatch_amount'),\n",
    "                          ride_dispatch_t.c.currency.label('dispatch_currency'),\n",
    "                          ride_dispatch_t.c.inserted_at,\n",
    "                          ride_cur_xrate_history_t.c.from_cur,\n",
    "                          ride_cur_xrate_history_t.c.to_cur,\n",
    "                          ride_cur_xrate_history_t.c.rate,\n",
    "                          ride_cur_xrate_history_t.c.effective_at,\n",
    "                          ride_cur_xrate_history_t.c.expire_at,\n",
    "                          # ride_cur_xrate_t.c.inserted_at,\n",
    "                          # ride_cur_xrate_t.c.from_cur,\n",
    "                          # ride_cur_xrate_t.c.to_cur,\n",
    "                          # ride_cur_xrate_t.c.rate,\n",
    "                          # ride_cur_xrate_t.c.effective_at,\n",
    "                          # ride_cur_xrate_t.c.expire_at,\n",
    "                          ride_datetime_t.c.from_date_str,\n",
    "                          ride_datetime_t.c.from_time_fix_str,\n",
    "                          ride_datetime_t.c.from_datetime_fix_str,\n",
    "                          # text(\"EXTRACT(DAYOFWEEK FROM TIMESTAMP_SECONDS(ride_ride_t.from_utc))\").label('day_of_week'),\n",
    "                          trip_type_t.c.trip_type_id,\n",
    "                          trip_type_t.c.trip_type,\n",
    "                          ride_status_t.c.ride_status_id,\n",
    "                          ride_status_t.c.ride_status,\n",
    "                          dispatch_status_t.c.dispatch_status_id,\n",
    "                          dispatch_status_t.c.dispatch_status,\n",
    "                          dispatch_type_t.c.dispatch_type,\n",
    "                          ride_fleet_t.c.name.label('fleet'),\n",
    "                          partner_t.c.partner_id,\n",
    "                          partner_t.c.partner,\n",
    "                          service_area_t.c.service_area_id,\n",
    "                          service_area_t.c.service_area,\n",
    "                          from_place_t.c.start_place_id,\n",
    "                          from_place_t.c.start_place,\n",
    "                          from_place_t.c.lng.label('start_lng'),\n",
    "                          from_place_t.c.ltt.label('start_ltt'),\n",
    "                          to_place_t.c.end_place_id,\n",
    "                          to_place_t.c.end_place,\n",
    "                          to_place_t.c.lng.label('end_lng'),\n",
    "                          to_place_t.c.ltt.label('end_ltt'),\n",
    "                          vehicle_class_t.c.vehicle_class_id,\n",
    "                          vehicle_class_t.c.vehicle_class\n",
    "                          )"
   ]
  },
  {
   "cell_type": "code",
   "execution_count": null,
   "metadata": {},
   "outputs": [],
   "source": [
    "price_training_t = price_training_t.select_from(ride_ride_t\n",
    "                                                .join(ride_dispatch_t, ride_ride_t.c.id == ride_dispatch_t.c.ride_id)\n",
    "                                                # .join(ride_cur_xrate_history_t,\n",
    "                                                #       ride_dispatch_t.c.inserted_at.between(\n",
    "                                                #           ride_cur_xrate_history_t.c.effective_at,\n",
    "                                                #           ride_cur_xrate_history_t.c.expire_at),\n",
    "                                                #       )\n",
    "                                                .join(ride_datetime_t, ride_ride_t.c.id == ride_datetime_t.c.ride_id)\n",
    "                                                # .join(ride_cur_xrate_t, ride_ride_t.c.id == ride_cur_xrate_t.c.ride_id, isouter=True)\n",
    "                                                .join(trip_type_t, ride_ride_t.c.id == trip_type_t.c.ride_id,\n",
    "                                                      isouter=True)\n",
    "                                                .join(ride_status_t, ride_ride_t.c.id == ride_status_t.c.ride_id,\n",
    "                                                      isouter=True)\n",
    "                                                .join(dispatch_status_t,\n",
    "                                                      ride_ride_t.c.id == dispatch_status_t.c.ride_id, isouter=True)\n",
    "                                                .join(dispatch_type_t, ride_ride_t.c.id == dispatch_type_t.c.ride_id,\n",
    "                                                      isouter=True)\n",
    "                                                .join(ride_fleet_t, ride_dispatch_t.c.to_fleet_id == ride_fleet_t.c.id,\n",
    "                                                      isouter=True)\n",
    "                                                .join(partner_t, ride_ride_t.c.id == partner_t.c.ride_id, isouter=True)\n",
    "                                                .join(service_area_t, ride_ride_t.c.id == service_area_t.c.ride_id)\n",
    "                                                .join(from_place_t, ride_ride_t.c.id == from_place_t.c.ride_id,\n",
    "                                                      isouter=True)\n",
    "                                                .join(to_place_t, ride_ride_t.c.id == to_place_t.c.ride_id,\n",
    "                                                      isouter=True)\n",
    "                                                .join(vehicle_class_t, ride_ride_t.c.id == vehicle_class_t.c.ride_id,\n",
    "                                                      isouter=True)\n",
    "                                                ).where(\n",
    "    and_(\n",
    "        ride_ride_t.c.from_time_str > data_from_date,\n",
    "        # ride_dispatch_t.c.currency == 'USD',\n",
    "        # vehicle_class_t.c.vehicle_class== 'MPV-5',\n",
    "        or_(dispatch_type_t.c.dispatch_type == 'auction',\n",
    "            dispatch_type_t.c.dispatch_type == 'dispatch'),\n",
    "        # ride_dispatch_t.c.inserted_at.between(ride_cur_xrate_history_t.c.effective_at, ride_cur_xrate_history_t.c.expire_at),\n",
    "        and_(\n",
    "            ride_dispatch_t.c.inserted_at.between(ride_cur_xrate_history_t.c.effective_at, ride_cur_xrate_history_t.c.expire_at),\n",
    "            ride_cur_xrate_history_t.c.from_cur == 'USD',\n",
    "            ride_cur_xrate_history_t.c.to_cur == ride_dispatch_t.c.currency,\n",
    "        ),\n",
    "        # ride_cur_xrate_history_t.c.from_cur == 'USD',\n",
    "        # ride_cur_xrate_history_t.c.to_cur == ride_dispatch_t.c.currency\n",
    "        # F.lower(from_place_t.c.start_place).like('%orlando%'),\n",
    "        # F.lower(to_place_t.c.end_place).like('%orlando%'),\n",
    "\n",
    "        # not_(ride_datetime_t.c.day_of_week.in_([1, 7])),\n",
    "        # not_(ride_ride_t.c.from_time_str.in_(exclude_dates)),\n",
    "    )\n",
    ")\n",
    "#price_training_t = price_training_t.where(ride_ride_t.c.from_time_str > '2024-01-01')\n",
    "price_training_t = price_training_t.limit(10)\n"
   ]
  },
  {
   "cell_type": "code",
   "execution_count": null,
   "metadata": {},
   "outputs": [],
   "source": [
    "# print(price_training_t)\n",
    "print(price_training_t.compile())"
   ]
  },
  {
   "cell_type": "code",
   "execution_count": null,
   "metadata": {},
   "outputs": [],
   "source": [
    "\n",
    "print(price_training_t.compile().params)\n"
   ]
  },
  {
   "cell_type": "code",
   "execution_count": null,
   "metadata": {},
   "outputs": [],
   "source": [
    "df = pd.read_sql(price_training_t, engine)\n",
    "df"
   ]
  },
  {
   "cell_type": "code",
   "execution_count": null,
   "metadata": {},
   "outputs": [],
   "source": [
    "sqlite_eng = create_engine('sqlite:///../data/price_training_from_gbq_raw.db', echo=False)"
   ]
  },
  {
   "cell_type": "code",
   "execution_count": null,
   "metadata": {},
   "outputs": [],
   "source": [
    "df.to_sql('price_training_orlando_mpv5', sqlite_eng, if_exists='replace')"
   ]
  },
  {
   "cell_type": "code",
   "execution_count": null,
   "metadata": {},
   "outputs": [],
   "source": [
    "from pricing.data.utils import validate_datetime_in_iso_format, validate_timezone_in_iana, get_timezone_abbreviation, \\\n",
    "    fix_timezone"
   ]
  },
  {
   "cell_type": "code",
   "execution_count": null,
   "metadata": {},
   "outputs": [],
   "source": [
    "df_invalid_datetime = df[df.apply(lambda x: not validate_datetime_in_iso_format(x['from_datetime_fix_str']), axis=1)]\n",
    "df_invalid_datetime"
   ]
  },
  {
   "cell_type": "code",
   "execution_count": null,
   "metadata": {},
   "outputs": [],
   "source": [
    "df_invalid_timezone = df[df.apply(lambda x: not validate_timezone_in_iana(x['from_timezone_str']), axis=1)]\n",
    "df_invalid_timezone"
   ]
  },
  {
   "cell_type": "code",
   "execution_count": null,
   "metadata": {},
   "outputs": [],
   "source": [
    "#orlando_airport = pd.read_csv('../../data/orlando_all_output.csv')\n",
    "#orlando_airport.head()\n",
    "#orlando_airport.dtypes\n",
    "#orlando_airport.to_sql('orlando_airport', sqlite_eng, if_exists='append')"
   ]
  },
  {
   "cell_type": "code",
   "execution_count": null,
   "metadata": {},
   "outputs": [],
   "source": [
    "df['from_timezone_fix_str'] = df.apply(lambda x: fix_timezone(x['from_timezone_str']), axis=1)\n",
    "df"
   ]
  },
  {
   "cell_type": "code",
   "execution_count": null,
   "metadata": {},
   "outputs": [],
   "source": [
    "\n",
    "df_valid_datetime = df[df.apply(lambda x: validate_datetime_in_iso_format(x['from_datetime_fix_str']), axis=1)]\n",
    "df_valid_timezone = df_valid_datetime[\n",
    "    df_valid_datetime.apply(lambda x: validate_timezone_in_iana(x['from_timezone_fix_str']), axis=1)]\n",
    "df_valid_timezone\n"
   ]
  },
  {
   "cell_type": "code",
   "execution_count": null,
   "metadata": {},
   "outputs": [],
   "source": [
    "\n",
    "df_valid_timezone.loc[df_invalid_timezone.index, ['from_timezone_str', 'from_timezone_fix_str']]\n"
   ]
  },
  {
   "cell_type": "code",
   "execution_count": null,
   "metadata": {},
   "outputs": [],
   "source": [
    "from datetime import datetime\n",
    "import pytz\n",
    "\n",
    "df_utc_offset = (df_valid_timezone.apply(lambda x: datetime.now(pytz.timezone(x['from_timezone_fix_str'])), axis=1)\n",
    "                 .apply(lambda x: x.strftime('%z')))\n",
    "df_utc_offset.name = 'utc_offset'\n",
    "df_utc_offset\n"
   ]
  },
  {
   "cell_type": "code",
   "execution_count": null,
   "metadata": {},
   "outputs": [],
   "source": [
    "df_dt_str = df_valid_timezone['from_datetime_fix_str']\n",
    "df_valid_timezone['from_datetime_local'] = df_valid_timezone.apply(\n",
    "    lambda x: (pd.to_datetime(x['from_datetime_fix_str']).to_datetime64()), axis=1)\n",
    "df_valid_timezone"
   ]
  },
  {
   "cell_type": "code",
   "execution_count": null,
   "metadata": {},
   "outputs": [],
   "source": [
    "df_valid_timezone.dtypes"
   ]
  },
  {
   "cell_type": "code",
   "execution_count": null,
   "metadata": {},
   "outputs": [],
   "source": [
    "\n",
    "# df_valid_timezone['from_datetime_local_tz'] = df_valid_timezone.apply(lambda x: pytz.timezone(x.loc[:,'from_timezone_str']).localize(x.loc[:,'from_datetime_local']), axis=1)\n",
    "df_valid_timezone['from_timezone'] = df_valid_timezone.apply(lambda x: pytz.timezone(x['from_timezone_fix_str']),\n",
    "                                                             axis=1)\n",
    "df_valid_timezone\n"
   ]
  },
  {
   "cell_type": "code",
   "execution_count": null,
   "metadata": {},
   "outputs": [],
   "source": [
    "df_valid_timezone['from_datetime_tz'] = df_valid_timezone.apply(\n",
    "    lambda x: x['from_timezone'].localize(x['from_datetime_local']), axis=1)\n",
    "df_valid_timezone\n",
    "# .apply(lambda x: x.localize(x.loc[:,'from_timezone_str']), axis=1))\n",
    "# df_valid_timezone\n"
   ]
  },
  {
   "cell_type": "markdown",
   "metadata": {},
   "source": [
    "# filtering out peak traffic time"
   ]
  },
  {
   "cell_type": "code",
   "execution_count": null,
   "metadata": {},
   "outputs": [],
   "source": [
    "peak_time_str = [('07:00:00', '09:00:00'), ('16:00:00', '19:00:00')]\n",
    "night_time_str = [('22:00:00', '6:00:00')]  # Shanghai, US usually no overtime extra fees New York 8pm ~ 6am\n",
    "ind = []\n",
    "td = []\n",
    "for pt in peak_time_str:\n",
    "    ind.append(pd.DatetimeIndex(pt))\n",
    "ind\n",
    "for i in ind:\n",
    "    i[1] - i[0]"
   ]
  },
  {
   "cell_type": "code",
   "execution_count": null,
   "metadata": {},
   "outputs": [],
   "source": []
  },
  {
   "cell_type": "code",
   "execution_count": null,
   "metadata": {},
   "outputs": [],
   "source": [
    "peak_time = []\n",
    "for pt in peak_time_str:\n",
    "    peak_time.append(pd.date_range(pt[0], pt[1], freq='h'))\n",
    "for pt in peak_time:\n",
    "    print(pt, pt.time)"
   ]
  },
  {
   "cell_type": "code",
   "execution_count": null,
   "metadata": {},
   "outputs": [],
   "source": [
    "peak_time_str"
   ]
  },
  {
   "cell_type": "code",
   "execution_count": null,
   "metadata": {},
   "outputs": [],
   "source": [
    "\n",
    "df_peak_traffic_time = df_valid_timezone[\n",
    "    df_valid_timezone['from_datetime_tz'].apply(lambda x: x.strftime('%H:%M:%S')).between(*peak_time_str[0])\n",
    "    | df_valid_timezone['from_datetime_tz'].apply(lambda x: x.strftime('%H:%M:%S')).between(*peak_time_str[1])\n",
    "    ]\n",
    "df_peak_traffic_time"
   ]
  },
  {
   "cell_type": "code",
   "execution_count": null,
   "metadata": {},
   "outputs": [],
   "source": [
    "\n",
    "df_out_of_peak_traffic_time = df_valid_timezone[\n",
    "    ~ (df_valid_timezone['from_datetime_tz'].apply(lambda x: x.strftime('%H:%M:%S')).between(*peak_time_str[0])\n",
    "       | df_valid_timezone['from_datetime_tz'].apply(lambda x: x.strftime('%H:%M:%S')).between(*peak_time_str[1]))\n",
    "]\n",
    "df_out_of_peak_traffic_time\n"
   ]
  },
  {
   "cell_type": "code",
   "execution_count": null,
   "metadata": {},
   "outputs": [],
   "source": [
    "\n",
    "# df_utc_offset = (df_valid_timezone.apply(lambda x: datetime.now(pytz.timezone(x.loc['timezone'])))\n",
    "#                             .apply(lambda x: x.strftime('%z')))\n",
    "# df_utc_offset.name = 'utc_offset'\n",
    "# df_utc_offset\n",
    "# "
   ]
  },
  {
   "cell_type": "markdown",
   "metadata": {},
   "source": [
    "# filter out round trip (time reservation) with feature distance = 1 (m)"
   ]
  },
  {
   "cell_type": "code",
   "execution_count": null,
   "metadata": {},
   "outputs": [],
   "source": [
    "df_no_round_trip = df_valid_timezone[df_valid_timezone['distance'] > 1]"
   ]
  },
  {
   "cell_type": "code",
   "execution_count": null,
   "metadata": {},
   "outputs": [],
   "source": [
    "df_training = df_no_round_trip.loc[:,\n",
    "              ['ride_id', 'trip_type', 'trip_no', 'trip_count', 'ride_status', 'partner', 'fleet',\n",
    "               'start_place', 'end_place',\n",
    "               'passenger_count', 'luggage_count',\n",
    "               'dispatch_amount', 'dispatch_currency',\n",
    "               'distance', 'duration', 'vehicle_class',\n",
    "               'from_datetime_tz']]\n",
    "\n",
    "df_training['cent_price_per_km'] = df_training['dispatch_amount'] / df_training['distance'] * 100.0\n",
    "df_training"
   ]
  },
  {
   "cell_type": "code",
   "execution_count": null,
   "metadata": {},
   "outputs": [],
   "source": [
    "def average_cent_per_km(x):\n",
    "    x['average_cent_per_km'] = x['cent_price_per_km'].mean()\n",
    "    return x"
   ]
  },
  {
   "cell_type": "code",
   "execution_count": null,
   "metadata": {},
   "outputs": [],
   "source": [
    "def fleet_trip_no(x):\n",
    "    x['fleet_trip_count'] = len(x)\n",
    "    return x"
   ]
  },
  {
   "cell_type": "code",
   "execution_count": null,
   "metadata": {},
   "outputs": [],
   "source": [
    "df_fleet_statistics = df_training.loc[:, ['ride_id', 'fleet']]\n",
    "df_fleet_statistics"
   ]
  },
  {
   "cell_type": "code",
   "execution_count": null,
   "metadata": {},
   "outputs": [],
   "source": [
    "\n",
    "df_fleet_trip_no = df_fleet_statistics.groupby('fleet').aggregate([len])\n",
    "df_fleet_trip_no.sort_values(by=('ride_id', 'len'), ascending=False, inplace=True)\n",
    "df_fleet_trip_no\n"
   ]
  },
  {
   "cell_type": "code",
   "execution_count": null,
   "metadata": {},
   "outputs": [],
   "source": [
    "df_big_fleets = df_fleet_trip_no[df_fleet_trip_no[('ride_id', 'len')] > 100]\n",
    "df_big_fleets"
   ]
  },
  {
   "cell_type": "code",
   "execution_count": null,
   "metadata": {},
   "outputs": [],
   "source": [
    "df_big_fleet_data = []\n",
    "for f in df_big_fleets.index:\n",
    "    print(f)\n",
    "    df_big_fleet_data.append(df_training[df_training['fleet'] == f])"
   ]
  },
  {
   "cell_type": "code",
   "execution_count": null,
   "metadata": {},
   "outputs": [],
   "source": [
    "df_big_fleet_data[0]"
   ]
  },
  {
   "cell_type": "code",
   "execution_count": null,
   "metadata": {},
   "outputs": [],
   "source": [
    "df_big_fleet_data[1]"
   ]
  },
  {
   "cell_type": "code",
   "execution_count": null,
   "metadata": {},
   "outputs": [],
   "source": [
    "df_big_fleet_data[2]"
   ]
  },
  {
   "cell_type": "code",
   "execution_count": null,
   "metadata": {},
   "outputs": [],
   "source": [
    "\n",
    "# df_training['average_cent_per_km'] = df_training.groupby('fleet').apply(average_cent_per_km)\n",
    "df_analysis = df_training.groupby('fleet').apply(average_cent_per_km)\n",
    "df_analysis\n"
   ]
  },
  {
   "cell_type": "code",
   "execution_count": null,
   "metadata": {},
   "outputs": [],
   "source": [
    "\n",
    "df_training"
   ]
  },
  {
   "cell_type": "code",
   "execution_count": null,
   "metadata": {},
   "outputs": [],
   "source": [
    "#| hide\n",
    "import nbdev;\n",
    "\n",
    "nbdev.nbdev_export()"
   ]
  }
 ],
 "metadata": {
  "kernelspec": {
   "display_name": "python3",
   "language": "python",
   "name": "python3"
  }
 },
 "nbformat": 4,
 "nbformat_minor": 4
}
