{
 "cells": [
  {
   "cell_type": "code",
   "execution_count": null,
   "metadata": {},
   "outputs": [],
   "source": [
    "#| default_exp data.database.sqlalchemy"
   ]
  },
  {
   "cell_type": "code",
   "execution_count": null,
   "metadata": {},
   "outputs": [],
   "source": [
    "#| hide\n",
    "from nbdev.showdoc import *"
   ]
  },
  {
   "cell_type": "code",
   "execution_count": null,
   "metadata": {},
   "outputs": [],
   "source": [
    "#| hide\n",
    "import nbdev; nbdev.nbdev_export()"
   ]
  },
  {
   "cell_type": "code",
   "execution_count": null,
   "metadata": {},
   "outputs": [],
   "source": [
    "#| hide\n",
    "from IPython.core.interactiveshell import InteractiveShell\n",
    "InteractiveShell.ast_node_interactivity = \"all\""
   ]
  },
  {
   "cell_type": "code",
   "execution_count": null,
   "metadata": {},
   "outputs": [],
   "source": [
    "import os\n",
    "import pandas as pd "
   ]
  },
  {
   "cell_type": "code",
   "execution_count": null,
   "metadata": {},
   "outputs": [],
   "source": [
    "from sqlalchemy import MetaData, create_engine, asc, desc, and_, or_, not_\n",
    "from sqlalchemy.schema import *\n",
    "from sqlalchemy.sql import func as F, Selectable, select\n",
    "from sqlalchemy.dialects import registry\n",
    "from sqlalchemy.engine.row import Row\n",
    "from sqlalchemy.orm import Session"
   ]
  },
  {
   "cell_type": "code",
   "execution_count": null,
   "metadata": {},
   "outputs": [],
   "source": [
    "#| export\n",
    "from google.oauth2 import service_account\n",
    "from google.oauth2.service_account import Credentials\n"
   ]
  },
  {
   "cell_type": "code",
   "execution_count": null,
   "metadata": {},
   "outputs": [],
   "source": [
    "#| hide\n",
    "from google.cloud import bigquery\n",
    "from dotenv import load_dotenv\n"
   ]
  },
  {
   "cell_type": "code",
   "execution_count": null,
   "metadata": {},
   "outputs": [],
   "source": [
    "\n",
    "load_dotenv(\"../.env\")"
   ]
  },
  {
   "cell_type": "code",
   "execution_count": null,
   "metadata": {},
   "outputs": [],
   "source": [
    "os.environ"
   ]
  },
  {
   "cell_type": "code",
   "execution_count": null,
   "metadata": {},
   "outputs": [],
   "source": [
    "# os.getenv('GC_QUOTE_API_CREDENTIALS')\n",
    "# os.getenv('HTTP_PROXY')\n",
    "# os.getenv('HTTPS_PROXY')"
   ]
  },
  {
   "cell_type": "code",
   "execution_count": null,
   "metadata": {},
   "outputs": [],
   "source": [
    "# config = dotenv_values(\"../.env\")\n",
    "# key = config.get('GC_QUOTE_API_CREDENTIALS')\n",
    "key = os.getenv('GC_QUOTE_API_CREDENTIALS')"
   ]
  },
  {
   "cell_type": "code",
   "execution_count": null,
   "metadata": {},
   "outputs": [],
   "source": [
    "credential = service_account.Credentials.from_service_account_file(\"../\" + key)\n"
   ]
  },
  {
   "cell_type": "code",
   "execution_count": null,
   "metadata": {},
   "outputs": [],
   "source": [
    "\n",
    "#os.environ['HTTP_PROXY'] = \"http://127.0.0.1:20171\"\n",
    "#os.environ['HTTPS_PROXY'] = \"http://127.0.0.1:20171\"\n",
    "#os.environ['http_proxy'] = \"http://127.0.0.1:20171\"\n",
    "#os.environ['https_proxy'] = \"http://127.0.0.1:20171\"\n",
    "\n"
   ]
  },
  {
   "cell_type": "code",
   "execution_count": null,
   "metadata": {},
   "outputs": [],
   "source": [
    "registry.register('bigquery', 'sqlalchemy_bigquery', 'BigQueryDialect')\n",
    "engine = create_engine('bigquery://quote-api-365206',\n",
    "                       credentials_path='../' + key,)\n"
   ]
  },
  {
   "cell_type": "code",
   "execution_count": null,
   "metadata": {},
   "outputs": [],
   "source": [
    "metadata = MetaData()\n",
    "def get_table(project_name: str, dataset_name: str, table_name: str)-> Table:\n",
    "    table = Table(f'{project_name}.{dataset_name}.{table_name}', metadata, autoload_with=engine)\n",
    "    return table"
   ]
  },
  {
   "cell_type": "code",
   "execution_count": null,
   "metadata": {},
   "outputs": [],
   "source": [
    "# table = get_table('quote-api-365206', 'report', 'ride_dispatch_v')"
   ]
  },
  {
   "cell_type": "code",
   "execution_count": null,
   "metadata": {},
   "outputs": [],
   "source": [
    "# query = select(table).limit(20).where(table.c.ride_stat == 'Accepted').order_by(asc(table.c.ride_id))\n",
    "# df = pd.read_sql(query, engine)\n",
    "# df\n"
   ]
  },
  {
   "cell_type": "code",
   "execution_count": null,
   "metadata": {},
   "outputs": [],
   "source": [
    "# table = get_table('elife-data-warehouse-prod', 'ods', 'ride_ride')"
   ]
  },
  {
   "cell_type": "code",
   "execution_count": null,
   "metadata": {},
   "outputs": [],
   "source": [
    "# table"
   ]
  },
  {
   "cell_type": "code",
   "execution_count": null,
   "metadata": {},
   "outputs": [],
   "source": [
    "# query = select(table).where(table.c.airport_code3 == 'JFK').limit(20)"
   ]
  },
  {
   "cell_type": "code",
   "execution_count": null,
   "metadata": {},
   "outputs": [],
   "source": [
    "# df = pd.read_sql(query, engine)\n",
    "# df\n"
   ]
  },
  {
   "cell_type": "markdown",
   "metadata": {},
   "source": [
    "# find all tables in the database"
   ]
  },
  {
   "cell_type": "code",
   "execution_count": null,
   "metadata": {},
   "outputs": [],
   "source": [
    "ride_trip_t = get_table('elife-data-warehouse-prod','ods', 'ride_trip').alias()\n",
    "ride_dispatch_t = get_table('elife-data-warehouse-prod','ods', 'ride_dispatch').alias()\n",
    "ride_enum_t = get_table('elife-data-warehouse-prod','ods', 'ride_enum').alias()\n",
    "ride_ride_t = get_table('elife-data-warehouse-prod','ods', 'ride_ride').alias()\n",
    "ride_partner_tran_t = get_table('elife-data-warehouse-prod','ods', 'ride_partner_tran').alias()\n",
    "ride_partner_t = get_table('elife-data-warehouse-prod','ods', 'ride_partner').alias()\n",
    "dim_place_t = get_table('elife-data-warehouse-prod','dim', 'dim_place').alias()\n",
    "ride_vehicle_class_t = get_table('elife-data-warehouse-prod','ods', 'ride_vehicle_class').alias()"
   ]
  },
  {
   "cell_type": "code",
   "execution_count": null,
   "metadata": {},
   "outputs": [],
   "source": [
    "trip_type_id_t = select(ride_dispatch_t.c.ride_id, ride_trip_t.c.trip_type.label('trip_type_id'))\n",
    "trip_type_id_t = trip_type_id_t.select_from(ride_dispatch_t\n",
    "                                      .join(ride_trip_t, ride_dispatch_t.c.ride_id == ride_trip_t.c.ride_id))\n",
    "trip_type_id_t = trip_type_id_t.alias()\n",
    "                  "
   ]
  },
  {
   "cell_type": "code",
   "execution_count": null,
   "metadata": {},
   "outputs": [],
   "source": [
    "# trip_type_id_t = trip_type_id_t.limit(10)\n",
    "# df = pd.read_sql(trip_type_id_t, engine)\n",
    "# df"
   ]
  },
  {
   "cell_type": "code",
   "execution_count": null,
   "metadata": {},
   "outputs": [],
   "source": [
    "trip_type_t = select(trip_type_id_t.c.ride_id, trip_type_id_t.c.trip_type_id, ride_enum_t.c.name.label('trip_type'))\n",
    "trip_type_t = trip_type_t.select_from(trip_type_id_t\n",
    "                                      .join(ride_enum_t, trip_type_id_t.c.trip_type_id == ride_enum_t.c.id, isouter=True))\n",
    "trip_type_t = trip_type_t.alias()\n"
   ]
  },
  {
   "cell_type": "code",
   "execution_count": null,
   "metadata": {},
   "outputs": [],
   "source": []
  },
  {
   "cell_type": "code",
   "execution_count": null,
   "metadata": {},
   "outputs": [],
   "source": [
    "ride_status_t = select(ride_ride_t.c.id.label('ride_id'), ride_ride_t.c.stat.label('ride_status_id'), ride_enum_t.c.name.label('ride_status'))\n",
    "ride_status_t = ride_status_t.select_from(ride_ride_t\n",
    "                                          .join(ride_enum_t, ride_ride_t.c.stat == ride_enum_t.c.id, isouter=True))\n",
    "ride_status_t = ride_status_t.alias()\n",
    "# ride_status_t = ride_status_t.limit(10)\n",
    "# df = pd.read_sql(ride_status_t, engine)\n",
    "# df"
   ]
  },
  {
   "cell_type": "code",
   "execution_count": null,
   "metadata": {},
   "outputs": [],
   "source": [
    "partner_id_t = select(ride_ride_t.c.id.label('ride_id'), ride_partner_tran_t.c.partner_id.label('partner_id'))\n",
    "partner_id_t = partner_id_t.select_from(ride_ride_t\n",
    "                                        .join(ride_partner_tran_t, ride_ride_t.c.partner_tran_id == ride_partner_tran_t.c.id, isouter=True))\n",
    "partner_id_t = partner_id_t.alias()\n",
    "#partner_id_t = partner_id_t.limit(10)\n",
    "#df = pd.read_sql(partner_id_t, engine)\n",
    "#df"
   ]
  },
  {
   "cell_type": "code",
   "execution_count": null,
   "metadata": {},
   "outputs": [],
   "source": [
    "partner_t = select(partner_id_t.c.ride_id, partner_id_t.c.partner_id, ride_partner_t.c.name.label('partner'))\n",
    "partner_t = partner_t.select_from(partner_id_t\n",
    "                                  .join(ride_partner_t, partner_id_t.c.partner_id == ride_partner_t.c.id, isouter=True))\n",
    "partner_t = partner_t.alias()\n",
    "# partner_t = partner_t.limit(10)\n",
    "# df = pd.read_sql(partner_t,engine)\n",
    "# df"
   ]
  },
  {
   "cell_type": "code",
   "execution_count": null,
   "metadata": {},
   "outputs": [],
   "source": [
    "from_place_t = select(ride_ride_t.c.id.label('ride_id'), \n",
    "                      ride_ride_t.c.from_place_id.label('start_place_id'), \n",
    "                      dim_place_t.c.name.label('start_place'), \n",
    "                      dim_place_t.c.lng.label('lng'), \n",
    "                      dim_place_t.c.lat.label('ltt'))\n",
    "from_place_t = from_place_t.select_from(ride_ride_t\n",
    "                                        .join(dim_place_t, ride_ride_t.c.from_place_id == dim_place_t.c.id, isouter=True))\n",
    "from_place_t = from_place_t.alias()\n",
    "#from_place_t = from_place_t.limit(10)\n",
    "#df = pd.read_sql(from_place_t, engine)\n",
    "#df"
   ]
  },
  {
   "cell_type": "code",
   "execution_count": null,
   "metadata": {},
   "outputs": [],
   "source": [
    "to_place_t = select(ride_ride_t.c.id.label('ride_id'), \n",
    "                      ride_ride_t.c.to_place_id.label('end_place_id'), \n",
    "                      dim_place_t.c.name.label('end_place'), \n",
    "                      dim_place_t.c.lng.label('lng'), \n",
    "                      dim_place_t.c.lat.label('ltt'))\n",
    "to_place_t = to_place_t.select_from(ride_ride_t\n",
    "                                        .join(dim_place_t, ride_ride_t.c.to_place_id == dim_place_t.c.id, isouter=True))\n",
    "to_place_t = to_place_t.alias()\n",
    "#to_place_t = to_place_t.limit(10)\n",
    "#df = pd.read_sql(to_place_t, engine)\n",
    "#df"
   ]
  },
  {
   "cell_type": "code",
   "execution_count": null,
   "metadata": {},
   "outputs": [],
   "source": [
    "vehicle_class_t = select(ride_ride_t.c.id.label('ride_id'),\n",
    "                         ride_ride_t.c.vehicle_class_id.label('vehicle_class_id'), \n",
    "                         ride_vehicle_class_t.c.name.label('vehicle_class'))\n",
    "vehicle_class_t = vehicle_class_t.select_from(ride_ride_t\n",
    "                                              .join(ride_vehicle_class_t, ride_ride_t.c.vehicle_class_id == ride_vehicle_class_t.c.id, isouter=True))\n",
    "vehicle_class_t = vehicle_class_t.alias()\n",
    "#vehicle_class_t = vehicle_class_t.limit(10)\n",
    "#df = pd.read_sql(vehicle_class_t, engine)\n",
    "#df"
   ]
  },
  {
   "cell_type": "code",
   "execution_count": null,
   "metadata": {},
   "outputs": [],
   "source": [
    "price_training_t = select(ride_ride_t.c.id.label('ride_id'),\n",
    "                          ride_dispatch_t.c.id.label('dispatch_id'),\n",
    "                          trip_type_t.c.trip_type_id,\n",
    "                          trip_type_t.c.trip_type,\n",
    "                          ride_ride_t.c.trip_count,\n",
    "                          ride_dispatch_t.c.trip_no,\n",
    "                          ride_status_t.c.ride_status_id,\n",
    "                          ride_status_t.c.ride_status,\n",
    "                          partner_t.c.partner_id,\n",
    "                          partner_t.c.partner,\n",
    "                          ride_ride_t.c.from_time_str,\n",
    "                          ride_ride_t.c.from_timezone_str,\n",
    "                          ride_ride_t.c.to_time_str,\n",
    "                          ride_ride_t.c.to_timezone_str,\n",
    "                          from_place_t.c.start_place_id,\n",
    "                          from_place_t.c.start_place,\n",
    "                          from_place_t.c.lng.label('start_lng'),\n",
    "                          from_place_t.c.ltt.label('start_ltt'),\n",
    "                          to_place_t.c.end_place_id,\n",
    "                          to_place_t.c.end_place,\n",
    "                          to_place_t.c.lng.label('end_lng'),\n",
    "                          to_place_t.c.ltt.label('end_ltt'),\n",
    "                          ride_ride_t.c.distance,\n",
    "                          ride_ride_t.c.duration,\n",
    "                          vehicle_class_t.c.vehicle_class_id,\n",
    "                          vehicle_class_t.c.vehicle_class,\n",
    "                          ride_ride_t.c.passenger_count,\n",
    "                          ride_ride_t.c.luggage_count,\n",
    "                          ride_ride_t.c.children_count,\n",
    "                          ride_ride_t.c.infant_count,\n",
    "                          ride_dispatch_t.c.amount.label('dispatch_amount'),\n",
    "                          ride_dispatch_t.c.currency.label('dispatch_currency')).where(\n",
    "                              and_(\n",
    "                                  ride_ride_t.c.from_time_str > '2024-01-01',\n",
    "                                  ride_dispatch_t.c.currency == 'USD')\n",
    "                          )\n"
   ]
  },
  {
   "cell_type": "code",
   "execution_count": null,
   "metadata": {},
   "outputs": [],
   "source": [
    "\n",
    "price_training_t = price_training_t.select_from(ride_ride_t\n",
    "                                                .join(ride_dispatch_t, ride_ride_t.c.id == ride_dispatch_t.c.ride_id)\n",
    "                                                .join(trip_type_t, ride_ride_t.c.id == trip_type_t.c.ride_id, isouter=True)\n",
    "                                                .join(ride_status_t, ride_ride_t.c.id == ride_status_t.c.ride_id, isouter=True)\n",
    "                                                .join(partner_t, ride_ride_t.c.id == partner_t.c.ride_id, isouter=True)\n",
    "                                                .join(from_place_t, ride_ride_t.c.id == from_place_t.c.ride_id, isouter=True)\n",
    "                                                .join(to_place_t, ride_ride_t.c.id == to_place_t.c.ride_id, isouter=True)\n",
    "                                                .join(vehicle_class_t, ride_ride_t.c.id == vehicle_class_t.c.ride_id, isouter=True)\n",
    "                                                )\n",
    "                                                                                                                                    \n",
    "price_training_t = price_training_t.where(ride_ride_t.c.from_time_str > '2024-01-01')"
   ]
  },
  {
   "cell_type": "code",
   "execution_count": null,
   "metadata": {},
   "outputs": [],
   "source": [
    "price_training_t = price_training_t.limit(200)"
   ]
  },
  {
   "cell_type": "code",
   "execution_count": null,
   "metadata": {},
   "outputs": [],
   "source": [
    "df = pd.read_sql(price_training_t, engine)\n",
    "df"
   ]
  },
  {
   "cell_type": "code",
   "execution_count": null,
   "metadata": {},
   "outputs": [],
   "source": [
    "df_training = df.loc[:,['ride_id', 'trip_type', 'trip_no', 'trip_count', 'ride_status', 'partner', \n",
    "                'from_time_str', 'from_timezone_str', 'to_time_str', 'to_timezone_str', \n",
    "                'start_place', 'start_ltt', 'start_lng', 'end_place', 'end_ltt', 'end_lng', \n",
    "                'distance', 'duration', 'vehicle_class', \n",
    "                'passenger_count', 'luggage_count', 'children_count', 'infant_count', \n",
    "                'dispatch_amount', 'dispatch_currency']]\n",
    "df_training['price_per_km'] = df_training['dispatch_amount'] / df_training['distance'] * 100.0\n",
    "df_training"
   ]
  },
  {
   "cell_type": "code",
   "execution_count": null,
   "metadata": {},
   "outputs": [],
   "source": [
    "#| export\n",
    "QUERY_PRICING_TRAINING_FILTER = \"\"\"\n",
    "        WITH\n",
    "        TripTypeID AS (\n",
    "            SELECT\n",
    "                t1.ride_id,\n",
    "                CASE\n",
    "                    WHEN t2.trip_no = t1.trip_no THEN t2.trip_type\n",
    "                    ELSE NULL\n",
    "                END AS trip_type_id,\n",
    "            FROM\n",
    "                elife-data-warehouse-prod.ods.ride_dispatch AS t1\n",
    "                JOIN elife-data-warehouse-prod.ods.ride_trip AS t2 ON t1.ride_id = t2.ride_id\n",
    "        ),\n",
    "        TripType AS (\n",
    "            SELECT\n",
    "                t1.ride_id,\n",
    "                t1.trip_type_id,\n",
    "                t2.name AS trip_type,\n",
    "            FROM\n",
    "                TripTypeID AS t1\n",
    "                LEFT JOIN elife-data-warehouse-prod.ods.ride_enum AS t2 ON t1.trip_type_id = t2.id\n",
    "        ),\n",
    "        RideStatus AS (\n",
    "            SELECT\n",
    "                t1.id AS ride_id,\n",
    "                t1.stat AS ride_status_id,\n",
    "                t2.name AS ride_status,\n",
    "            FROM\n",
    "                elife-data-warehouse-prod.ods.ride_ride AS t1\n",
    "                LEFT JOIN elife-data-warehouse-prod.ods.ride_enum AS t2 ON t1.stat = t2.id\n",
    "        ),\n",
    "        PartnerID AS (\n",
    "            SELECT\n",
    "                t1.id AS ride_id,\n",
    "                CASE\n",
    "                    WHEN t2.id = t1.partner_tran_id THEN t2.partner_id\n",
    "                    ELSE NULL\n",
    "                END AS partner_id,\n",
    "            FROM\n",
    "                elife-data-warehouse-prod.ods.ride_ride AS t1\n",
    "                LEFT JOIN elife-data-warehouse-prod.ods.ride_partner_tran AS t2 ON t1.partner_tran_id = t2.id\n",
    "        ),\n",
    "        Partner AS (\n",
    "            SELECT\n",
    "                t1.ride_id,\n",
    "                t1.partner_id,\n",
    "                t2.name AS partner,\n",
    "            FROM\n",
    "                PartnerID AS t1\n",
    "                LEFT JOIN elife-data-warehouse-prod.ods.ride_partner AS t2 ON t1.partner_id = t2.id\n",
    "        ),\n",
    "        FromPlace AS (\n",
    "            SELECT\n",
    "                t1.id AS ride_id,\n",
    "                t1.from_place_id as start_place_id,\n",
    "                t2.name AS start_place,\n",
    "                t2.lng AS longt,\n",
    "                t2.lat AS latit,\n",
    "            FROM\n",
    "                elife-data-warehouse-prod.ods.ride_ride AS t1\n",
    "                LEFT JOIN elife-data-warehouse-prod.dim.dim_place AS t2 ON t1.from_place_id = t2.id\n",
    "        ),\n",
    "        ToPlace AS (\n",
    "            SELECT\n",
    "                t1.id AS ride_id,\n",
    "                t1.to_place_id as end_place_id,\n",
    "                t2.name AS end_place,\n",
    "                t2.lng AS longt,\n",
    "                t2.lat AS latit,\n",
    "            FROM\n",
    "                elife-data-warehouse-prod.ods.ride_ride AS t1\n",
    "                LEFT JOIN elife-data-warehouse-prod.dim.dim_place AS t2 ON t1.to_place_id = t2.id\n",
    "        ),\n",
    "        VehicleClass AS (\n",
    "            SELECT\n",
    "                t1.id AS ride_id,\n",
    "                t1.vehicle_class_id as vehicle_class_id,\n",
    "                t2.name AS vehicle_class,\n",
    "            FROM\n",
    "                elife-data-warehouse-prod.ods.ride_ride AS t1\n",
    "                LEFT JOIN elife-data-warehouse-prod.ods.ride_vehicle_class AS t2 ON t1.vehicle_class_id = t2.id\n",
    "        ),\n",
    "        PricingTraining AS (SELECT t0.id       AS ride_id,\n",
    "                                   t1.id       AS dispatch_id,\n",
    "                                   t2.trip_type_id,\n",
    "                                   t2.trip_type,\n",
    "                                   t1.trip_no,\n",
    "                                   t3.ride_status_id,\n",
    "                                   t3.ride_status,\n",
    "                                   t4.partner_id,\n",
    "                                   t4.partner,\n",
    "                                   t0.from_time_str,\n",
    "                                   t0.from_timezone_str,\n",
    "                                   t0.to_time_str,\n",
    "                                   t0.to_timezone_str,\n",
    "                                   t5.start_place_id,\n",
    "                                   t5.start_place,\n",
    "                                   t5.longt    AS start_longt,\n",
    "                                   t5.latit    AS start_latit,\n",
    "                                   t6.end_place_id,\n",
    "                                   t6.end_place,\n",
    "                                   t6.longt    AS end_longt,\n",
    "                                   t6.latit    AS end_latit,\n",
    "                                   t0.distance,\n",
    "                                   t0.duration,\n",
    "                                   t7.vehicle_class_id,\n",
    "                                   t7.vehicle_class,\n",
    "                                   t0.passenger_count,\n",
    "                                   t0.luggage_count,\n",
    "                                   t0.trip_count,\n",
    "                                   t0.children_count,\n",
    "                                   t0.infant_count,\n",
    "                                   t1.amount   as dispatch_amount,\n",
    "                                   t1.currency as dispatch_currency,\n",
    "\n",
    "                            FROM `elife-data-warehouse-prod.ods.ride_ride` AS t0\n",
    "                                     JOIN `elife-data-warehouse-prod.ods.ride_dispatch` AS t1 ON t0.id = t1.ride_id\n",
    "                                     LEFT JOIN TripType AS t2 ON t0.id = t2.ride_id\n",
    "                                     LEFT JOIN RideStatus AS t3 ON t0.id = t3.ride_id\n",
    "                                     LEFT JOIN Partner AS t4 ON t0.id = t4.ride_id\n",
    "                                     LEFT JOIN FromPlace AS t5 ON t0.id = t5.ride_id\n",
    "                                     LEFT JOIN ToPlace AS t6 ON t0.id = t6.ride_id\n",
    "                                     LEFT JOIN VehicleClass AS t7 ON t0.id = t7.ride_id\n",
    "                            WHERE from_time_str > '2024-01-01'\n",
    "        )\n",
    "\n",
    "        SELECT\n",
    "            t.ride_id,\n",
    "            t.dispatch_id,\n",
    "            t.trip_type,\n",
    "            t.trip_no,\n",
    "            t.ride_status,\n",
    "            t.partner,\n",
    "            t.from_time_str,\n",
    "            t.from_timezone_str,\n",
    "            t.to_time_str,\n",
    "            t.to_timezone_str,\n",
    "            t.start_place,\n",
    "            t.start_latit,\n",
    "            t.start_longt,\n",
    "            t.end_place,\n",
    "            t.end_latit,\n",
    "            t.end_longt,\n",
    "            t.distance,\n",
    "            t.duration,\n",
    "            t.vehicle_class,\n",
    "            t.passenger_count,\n",
    "            t.luggage_count,\n",
    "            t.trip_count,\n",
    "            t.children_count,\n",
    "            t.infant_count,\n",
    "            t.dispatch_amount,\n",
    "            t.dispatch_currency,\n",
    "\n",
    "        FROM\n",
    "            PricingTraining AS t\n",
    "        WHERE\n",
    "            from_time_str > '2024-01-01'\n",
    "        LIMIT\n",
    "            200\n",
    "\"\"\"\n"
   ]
  },
  {
   "cell_type": "code",
   "execution_count": null,
   "metadata": {},
   "outputs": [],
   "source": [
    "#| export\n",
    "def get_dataframe_from_sql(\n",
    "        credential: Credentials,\n",
    "        query: str = QUERY_PRICING_TRAINING\n",
    ") -> pd.DataFrame:\n",
    "    \"\"\"\n",
    "    get dataframe from sql query in BigQuery dialect \n",
    "    \n",
    "    :param\n",
    "        credential: google.oauth2.service_account.Credentials\n",
    "        query: string for sql query in BigQuery dialect\n",
    "    :return: \n",
    "    \"\"\"\n",
    "    \n",
    "    df = pandas_gbq.read_gbq(query,credentials=credential)\n",
    "    \n",
    "    return df\n"
   ]
  },
  {
   "cell_type": "code",
   "execution_count": null,
   "metadata": {},
   "outputs": [],
   "source": [
    "# df = get_dataframe_from_sql(QUERY_PRCING_TRAINING,credential)"
   ]
  },
  {
   "cell_type": "code",
   "execution_count": null,
   "metadata": {},
   "outputs": [],
   "source": [
    "# df"
   ]
  },
  {
   "cell_type": "code",
   "execution_count": null,
   "metadata": {},
   "outputs": [],
   "source": [
    "from sqllineage.runner import LineageRunner\n",
    "#from lineagex.lineagex import lineagex"
   ]
  },
  {
   "cell_type": "code",
   "execution_count": null,
   "metadata": {},
   "outputs": [],
   "source": [
    "sql =   \"\"\"\n",
    "        WITH\n",
    "        TripTypeID AS (\n",
    "            SELECT\n",
    "                t1.ride_id,\n",
    "                CASE\n",
    "                    WHEN t2.trip_no = t1.trip_no THEN t2.trip_type\n",
    "                    ELSE NULL\n",
    "                END AS trip_type_id,\n",
    "            FROM\n",
    "                `elife-data-warehouse-prod.ods.ride_dispatch` AS t1\n",
    "                JOIN `elife-data-warehouse-prod.ods.ride_trip` AS t2 ON t1.ride_id = t2.ride_id\n",
    "        ),\n",
    "        TripType AS (\n",
    "            SELECT\n",
    "                t1.ride_id,\n",
    "                t1.trip_type_id,\n",
    "                t2.name AS trip_type,\n",
    "            FROM\n",
    "                TripTypeID AS t1\n",
    "                LEFT JOIN `elife-data-warehouse-prod.ods.ride_enum AS` t2 ON t1.trip_type_id = t2.id\n",
    "        ),\n",
    "        RideStatus AS (\n",
    "            SELECT\n",
    "                t1.id AS ride_id,\n",
    "                t1.stat AS ride_status_id,\n",
    "                t2.name AS ride_status,\n",
    "            FROM\n",
    "                `elife-data-warehouse-prod.ods.ride_ride` AS t1\n",
    "                LEFT JOIN `elife-data-warehouse-prod.ods.ride_enum` AS t2 ON t1.stat = t2.id\n",
    "        ),\n",
    "        PartnerID AS (\n",
    "            SELECT\n",
    "                t1.id AS ride_id,\n",
    "                CASE\n",
    "                    WHEN t2.id = t1.partner_tran_id THEN t2.partner_id\n",
    "                    ELSE NULL\n",
    "                END AS partner_id,\n",
    "            FROM\n",
    "                `elife-data-warehouse-prod.ods.ride_ride` AS t1\n",
    "                LEFT JOIN `elife-data-warehouse-prod.ods.ride_partner_tran` AS t2 ON t1.partner_tran_id = t2.id\n",
    "        ),\n",
    "        Partner AS (\n",
    "            SELECT\n",
    "                t1.ride_id,\n",
    "                t1.partner_id,\n",
    "                t2.name AS partner,\n",
    "            FROM\n",
    "                PartnerID AS t1\n",
    "                LEFT JOIN `elife-data-warehouse-prod.ods.ride_partner` AS t2 ON t1.partner_id = t2.id\n",
    "        ),\n",
    "        FromPlace AS (\n",
    "            SELECT\n",
    "                t1.id AS ride_id,\n",
    "                t1.from_place_id as start_place_id,\n",
    "                t2.name AS start_place,\n",
    "                t2.lng AS longt,\n",
    "                t2.lat AS latit,\n",
    "            FROM\n",
    "                `elife-data-warehouse-prod.ods.ride_ride` AS t1\n",
    "                LEFT JOIN `elife-data-warehouse-prod.dim.dim_place` AS t2 ON t1.from_place_id = t2.id\n",
    "        ),\n",
    "        ToPlace AS (\n",
    "            SELECT\n",
    "                t1.id AS ride_id,\n",
    "                t1.to_place_id as end_place_id,\n",
    "                t2.name AS end_place,\n",
    "                t2.lng AS longt,\n",
    "                t2.lat AS latit,\n",
    "            FROM\n",
    "                `elife-data-warehouse-prod.ods.ride_ride` AS t1\n",
    "                LEFT JOIN `elife-data-warehouse-prod.dim.dim_place` AS t2 ON t1.to_place_id = t2.id\n",
    "        ),\n",
    "        VehicleClass AS (\n",
    "            SELECT\n",
    "                t1.id AS ride_id,\n",
    "                t1.vehicle_class_id as vehicle_class_id,\n",
    "                t2.name AS vehicle_class,\n",
    "            FROM\n",
    "                `elife-data-warehouse-prod.ods.ride_ride` AS t1\n",
    "                LEFT JOIN `elife-data-warehouse-prod.ods.ride_vehicle_class` AS t2 ON t1.vehicle_class_id = t2.id\n",
    "        ),\n",
    "        PricingTraining AS (SELECT t0.id       AS ride_id,\n",
    "                                   t1.id       AS dispatch_id,\n",
    "                                   t2.trip_type_id,\n",
    "                                   t2.trip_type,\n",
    "                                   t1.trip_no,\n",
    "                                   t3.ride_status_id,\n",
    "                                   t3.ride_status,\n",
    "                                   t4.partner_id,\n",
    "                                   t4.partner,\n",
    "                                   t0.from_time_str,\n",
    "                                   t0.from_timezone_str,\n",
    "                                   t0.to_time_str,\n",
    "                                   t0.to_timezone_str,\n",
    "                                   t5.start_place_id,\n",
    "                                   t5.start_place,\n",
    "                                   t5.longt    AS start_longt,\n",
    "                                   t5.latit    AS start_latit,\n",
    "                                   t6.end_place_id,\n",
    "                                   t6.end_place,\n",
    "                                   t6.longt    AS end_longt,\n",
    "                                   t6.latit    AS end_latit,\n",
    "                                   t0.distance,\n",
    "                                   t0.duration,\n",
    "                                   t7.vehicle_class_id,\n",
    "                                   t7.vehicle_class,\n",
    "                                   t0.passenger_count,\n",
    "                                   t0.luggage_count,\n",
    "                                   t0.trip_count,\n",
    "                                   t0.children_count,\n",
    "                                   t0.infant_count,\n",
    "                                   t1.amount   as dispatch_amount,\n",
    "                                   t1.currency as dispatch_currency,\n",
    "\n",
    "                            FROM `elife-data-warehouse-prod.ods.ride_ride` AS t0\n",
    "                                     JOIN `elife-data-warehouse-prod.ods.ride_dispatch` AS t1 ON t0.id = t1.ride_id\n",
    "                                     LEFT JOIN TripType AS t2 ON t0.id = t2.ride_id\n",
    "                                     LEFT JOIN RideStatus AS t3 ON t0.id = t3.ride_id\n",
    "                                     LEFT JOIN Partner AS t4 ON t0.id = t4.ride_id\n",
    "                                     LEFT JOIN FromPlace AS t5 ON t0.id = t5.ride_id\n",
    "                                     LEFT JOIN ToPlace AS t6 ON t0.id = t6.ride_id\n",
    "                                     LEFT JOIN VehicleClass AS t7 ON t0.id = t7.ride_id\n",
    "                            WHERE from_time_str > '2024-01-01'\n",
    "        )\n",
    "\n",
    "        SELECT\n",
    "            t.ride_id,\n",
    "            t.dispatch_id,\n",
    "            t.trip_type,\n",
    "            t.trip_no,\n",
    "            t.ride_status,\n",
    "            t.partner,\n",
    "            t.from_time_str,\n",
    "            t.from_timezone_str,\n",
    "            t.to_time_str,\n",
    "            t.to_timezone_str,\n",
    "            t.start_place,\n",
    "            t.start_latit,\n",
    "            t.start_longt,\n",
    "            t.end_place,\n",
    "            t.end_latit,\n",
    "            t.end_longt,\n",
    "            t.distance,\n",
    "            t.duration,\n",
    "            t.vehicle_class,\n",
    "            t.passenger_count,\n",
    "            t.luggage_count,\n",
    "            t.trip_count,\n",
    "            t.children_count,\n",
    "            t.infant_count,\n",
    "            t.dispatch_amount,\n",
    "            t.dispatch_currency,\n",
    "\n",
    "        FROM\n",
    "            PricingTraining AS t\n",
    "        WHERE\n",
    "            from_time_str > '2024-01-01'\n",
    "        LIMIT\n",
    "            200\n",
    "        \"\"\" "
   ]
  },
  {
   "cell_type": "code",
   "execution_count": null,
   "metadata": {},
   "outputs": [],
   "source": [
    "# result = LineageRunner(\"../data/pricing_training_bigquery.sql\", dialect=\"bigquery\")\n",
    "result = LineageRunner(sql, dialect=\"bigquery\")\n",
    "#from lineagex.example import example\n",
    "#example(\"dependency_example\")\n",
    "#lineagex(sql=\"../data/pricing_training_bigquery.sql\", target_schema=\"schema1\", search_path_schema=\"schema1, public\")"
   ]
  },
  {
   "cell_type": "code",
   "execution_count": null,
   "metadata": {},
   "outputs": [],
   "source": [
    "print(result)"
   ]
  },
  {
   "cell_type": "code",
   "execution_count": null,
   "metadata": {},
   "outputs": [],
   "source": [
    "#| hide\n",
    "import nbdev; nbdev.nbdev_export()"
   ]
  }
 ],
 "metadata": {
  "kernelspec": {
   "display_name": "python3",
   "language": "python",
   "name": "python3"
  }
 },
 "nbformat": 4,
 "nbformat_minor": 4
}
