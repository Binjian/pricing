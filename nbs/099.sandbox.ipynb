{
 "cells": [
  {
   "cell_type": "code",
   "id": "initial_id",
   "metadata": {
    "collapsed": true,
    "ExecuteTime": {
     "end_time": "2024-08-30T02:16:54.886151Z",
     "start_time": "2024-08-30T02:16:54.884153Z"
    }
   },
   "source": "#| default_exp sandbox",
   "outputs": [],
   "execution_count": 1
  },
  {
   "metadata": {
    "ExecuteTime": {
     "end_time": "2024-08-30T02:16:55.270720Z",
     "start_time": "2024-08-30T02:16:54.933436Z"
    }
   },
   "cell_type": "code",
   "source": [
    "from jupyterlab.extensions.pypi import https_proxy_url\n",
    "#| hide\n",
    "from nbdev.showdoc import *"
   ],
   "id": "69f2fd9f1001fde",
   "outputs": [],
   "execution_count": 2
  },
  {
   "metadata": {
    "ExecuteTime": {
     "end_time": "2024-08-30T02:16:55.311029Z",
     "start_time": "2024-08-30T02:16:55.302972Z"
    }
   },
   "cell_type": "code",
   "source": [
    "#| hide\n",
    "import nbdev; nbdev.nbdev_export()"
   ],
   "id": "e45af2fbb67e9b10",
   "outputs": [],
   "execution_count": 3
  },
  {
   "metadata": {
    "ExecuteTime": {
     "end_time": "2024-08-30T02:53:33.773067Z",
     "start_time": "2024-08-30T02:53:33.769654Z"
    }
   },
   "cell_type": "code",
   "source": [
    "#| hide\n",
    "from IPython.core.interactiveshell import InteractiveShell\n",
    "InteractiveShell.ast_node_interactivity = \"all\""
   ],
   "id": "64bbfb25e116b5d7",
   "outputs": [],
   "execution_count": 20
  },
  {
   "metadata": {
    "ExecuteTime": {
     "end_time": "2024-08-30T02:52:08.432829Z",
     "start_time": "2024-08-30T02:52:08.429194Z"
    }
   },
   "cell_type": "code",
   "source": [
    "from dotenv import load_dotenv\n",
    "import os\n",
    "load_dotenv()"
   ],
   "id": "9ece9e708562bcd0",
   "outputs": [
    {
     "data": {
      "text/plain": [
       "True"
      ]
     },
     "execution_count": 18,
     "metadata": {},
     "output_type": "execute_result"
    }
   ],
   "execution_count": 18
  },
  {
   "metadata": {
    "ExecuteTime": {
     "end_time": "2024-08-30T02:54:02.392707Z",
     "start_time": "2024-08-30T02:54:02.387510Z"
    }
   },
   "cell_type": "code",
   "source": [
    "os.getenv('GC_QUOTE_API_CREDENTIALS')\n",
    "os.getenv('HTTP_PROXY')\n",
    "os.getenv('HTTPS_PROXY')"
   ],
   "id": "5f0abe5ff30ba42f",
   "outputs": [
    {
     "data": {
      "text/plain": [
       "'res/quote-api-365206-39d39b2fde07.json'"
      ]
     },
     "execution_count": 21,
     "metadata": {},
     "output_type": "execute_result"
    },
    {
     "data": {
      "text/plain": [
       "'http://127.0.0.1:20171'"
      ]
     },
     "execution_count": 21,
     "metadata": {},
     "output_type": "execute_result"
    },
    {
     "data": {
      "text/plain": [
       "'http://127.0.0.1:20171'"
      ]
     },
     "execution_count": 21,
     "metadata": {},
     "output_type": "execute_result"
    }
   ],
   "execution_count": 21
  },
  {
   "metadata": {
    "ExecuteTime": {
     "end_time": "2024-08-30T02:54:50.571841Z",
     "start_time": "2024-08-30T02:54:50.568266Z"
    }
   },
   "cell_type": "code",
   "source": [
    "from dotenv import dotenv_values\n",
    "config = dotenv_values(\"../.env\")\n",
    "key = config.get('GC_QUOTE_API_CREDENTIALS')"
   ],
   "id": "7d7b4652b6129837",
   "outputs": [],
   "execution_count": 22
  },
  {
   "metadata": {
    "ExecuteTime": {
     "end_time": "2024-08-30T02:57:49.827834Z",
     "start_time": "2024-08-30T02:57:49.819525Z"
    }
   },
   "cell_type": "code",
   "source": [
    "from google.cloud import bigquery\n",
    "import pandas_gbq\n",
    "from google.oauth2 import service_account\n",
    "credentials = service_account.Credentials.from_service_account_file(\"../\" + key)"
   ],
   "id": "b7544c5a7f3bc524",
   "outputs": [],
   "execution_count": 23
  },
  {
   "metadata": {
    "ExecuteTime": {
     "end_time": "2024-08-30T02:58:06.635082Z",
     "start_time": "2024-08-30T02:58:06.632930Z"
    }
   },
   "cell_type": "code",
   "source": [
    "client = bigquery.Client(credentials=credentials)\n",
    "\n",
    "QUERY = \"\"\"\n",
    "\t\tselect *\n",
    "\t\tfrom `quote-api-365206.report.ride_dispatch_v` r\n",
    "\t\twhere dispatch_amount_net_usd is not null\n",
    "        limit 200\n",
    "\t\t\"\"\""
   ],
   "id": "9f7054304ef1f5e7",
   "outputs": [],
   "execution_count": 24
  },
  {
   "metadata": {
    "ExecuteTime": {
     "end_time": "2024-08-30T02:16:55.891675Z",
     "start_time": "2024-08-30T02:16:55.889260Z"
    }
   },
   "cell_type": "code",
   "source": [
    "QUERY_DISINCT = \"\"\"\n",
    "\t\tselect count (*)\n",
    "\t\tfrom `quote-api-365206.report.ride_dispatch_v` r\n",
    "\t\twhere trip_type is null\n",
    "        limit 200\n",
    "\t\t\"\"\""
   ],
   "id": "5e519ab5e84831b",
   "outputs": [],
   "execution_count": 8
  },
  {
   "metadata": {
    "ExecuteTime": {
     "end_time": "2024-08-30T02:16:56.163532Z",
     "start_time": "2024-08-30T02:16:55.938858Z"
    }
   },
   "cell_type": "code",
   "source": "!echo $HTTP_PROXY",
   "id": "7f3fb8607d727318",
   "outputs": [
    {
     "name": "stdout",
     "output_type": "stream",
     "text": [
      "http://127.0.0.1:20171\r\n"
     ]
    }
   ],
   "execution_count": 9
  },
  {
   "metadata": {
    "ExecuteTime": {
     "end_time": "2024-08-30T02:16:56.177190Z",
     "start_time": "2024-08-30T02:16:56.174290Z"
    }
   },
   "cell_type": "code",
   "source": "#query_job = client.query(QUERY)",
   "id": "eeeab2e7d37fa1f8",
   "outputs": [],
   "execution_count": 10
  },
  {
   "metadata": {
    "ExecuteTime": {
     "end_time": "2024-08-30T02:16:56.223717Z",
     "start_time": "2024-08-30T02:16:56.220166Z"
    }
   },
   "cell_type": "code",
   "source": "",
   "id": "b1b22490da524ffa",
   "outputs": [],
   "execution_count": null
  },
  {
   "metadata": {
    "ExecuteTime": {
     "end_time": "2024-08-30T02:58:16.777160Z",
     "start_time": "2024-08-30T02:58:15.124390Z"
    }
   },
   "cell_type": "code",
   "source": [
    "\n",
    "df = pandas_gbq.read_gbq(QUERY,credentials=credentials)"
   ],
   "id": "b3e020145cabe697",
   "outputs": [
    {
     "name": "stdout",
     "output_type": "stream",
     "text": [
      "Downloading: 100%|\u001B[32m██████████\u001B[0m|\n"
     ]
    }
   ],
   "execution_count": 25
  },
  {
   "metadata": {
    "ExecuteTime": {
     "end_time": "2024-08-30T02:17:01.094684Z",
     "start_time": "2024-08-30T02:16:59.019759Z"
    }
   },
   "cell_type": "code",
   "source": [
    "\n",
    "df_trip_type = pandas_gbq.read_gbq(QUERY_DISINCT,credentials=credentials)"
   ],
   "id": "a265f9a53856f6f1",
   "outputs": [
    {
     "name": "stdout",
     "output_type": "stream",
     "text": [
      "Downloading: 100%|\u001B[32m██████████\u001B[0m|\n"
     ]
    }
   ],
   "execution_count": 12
  },
  {
   "metadata": {
    "ExecuteTime": {
     "end_time": "2024-08-30T02:58:21.292630Z",
     "start_time": "2024-08-30T02:58:21.279329Z"
    }
   },
   "cell_type": "code",
   "source": [
    "\n",
    "df.head()"
   ],
   "id": "a1d4a54fb0713446",
   "outputs": [
    {
     "data": {
      "text/plain": [
       "   ride_id  trip_no  dispatch_id    trip_type ride_stat     dispatch_stat  \\\n",
       "0  2324292        1       345056         None  Accepted    At destination   \n",
       "1  2398953        0       518874         None  Accepted  Customer no show   \n",
       "2  2378500        0       472749         None  Accepted    At destination   \n",
       "3  2382836        0       482760         None  Accepted  Customer no show   \n",
       "4  3316247        0      2340475  point2point   Pending    At destination   \n",
       "\n",
       "   partner_tran_id  partner_id  from_fleet_id_as_customer pickup_date  ...  \\\n",
       "0           161955           1                         16  2022-08-01  ...   \n",
       "1           237411           1                         16  2022-11-24  ...   \n",
       "2           216589           1                         16  2022-10-21  ...   \n",
       "3           221063           1                         16  2022-11-25  ...   \n",
       "4          1162413           1                         16  2024-03-28  ...   \n",
       "\n",
       "  has_complaint has_fleet_complaint has_penalty_complaint has_ops_complaint  \\\n",
       "0             0                   0                     0                 0   \n",
       "1             1                   1                     0                 0   \n",
       "2             1                   0                     1                 1   \n",
       "3             1                   1                     0                 0   \n",
       "4             0                   0                     0                 0   \n",
       "\n",
       "   gps_ad_check  gps_cns_check  score  incoming_dispatch_info_last_updated_at  \\\n",
       "0             0              0   None               2022-07-08 20:18:48+00:00   \n",
       "1             0              0   None               2022-11-24 09:28:34+00:00   \n",
       "2             0              0   None               2023-01-10 16:48:45+00:00   \n",
       "3             0              0   None               2022-12-02 10:25:19+00:00   \n",
       "4             0              0   None               2024-04-18 05:23:39+00:00   \n",
       "\n",
       "  dispatch_info_last_updated_at                         etl_time  \n",
       "0     2022-08-01 23:58:01+00:00 2024-08-29 23:05:33.393026+00:00  \n",
       "1     2022-11-24 09:03:50+00:00 2024-08-29 23:05:33.393026+00:00  \n",
       "2     2023-01-10 01:08:03+00:00 2024-08-29 23:05:33.393026+00:00  \n",
       "3     2022-11-25 12:12:22+00:00 2024-08-29 23:05:33.393026+00:00  \n",
       "4     2024-04-18 05:24:06+00:00 2024-08-29 23:05:33.393026+00:00  \n",
       "\n",
       "[5 rows x 56 columns]"
      ],
      "text/html": [
       "<div>\n",
       "<style scoped>\n",
       "    .dataframe tbody tr th:only-of-type {\n",
       "        vertical-align: middle;\n",
       "    }\n",
       "\n",
       "    .dataframe tbody tr th {\n",
       "        vertical-align: top;\n",
       "    }\n",
       "\n",
       "    .dataframe thead th {\n",
       "        text-align: right;\n",
       "    }\n",
       "</style>\n",
       "<table border=\"1\" class=\"dataframe\">\n",
       "  <thead>\n",
       "    <tr style=\"text-align: right;\">\n",
       "      <th></th>\n",
       "      <th>ride_id</th>\n",
       "      <th>trip_no</th>\n",
       "      <th>dispatch_id</th>\n",
       "      <th>trip_type</th>\n",
       "      <th>ride_stat</th>\n",
       "      <th>dispatch_stat</th>\n",
       "      <th>partner_tran_id</th>\n",
       "      <th>partner_id</th>\n",
       "      <th>from_fleet_id_as_customer</th>\n",
       "      <th>pickup_date</th>\n",
       "      <th>...</th>\n",
       "      <th>has_complaint</th>\n",
       "      <th>has_fleet_complaint</th>\n",
       "      <th>has_penalty_complaint</th>\n",
       "      <th>has_ops_complaint</th>\n",
       "      <th>gps_ad_check</th>\n",
       "      <th>gps_cns_check</th>\n",
       "      <th>score</th>\n",
       "      <th>incoming_dispatch_info_last_updated_at</th>\n",
       "      <th>dispatch_info_last_updated_at</th>\n",
       "      <th>etl_time</th>\n",
       "    </tr>\n",
       "  </thead>\n",
       "  <tbody>\n",
       "    <tr>\n",
       "      <th>0</th>\n",
       "      <td>2324292</td>\n",
       "      <td>1</td>\n",
       "      <td>345056</td>\n",
       "      <td>None</td>\n",
       "      <td>Accepted</td>\n",
       "      <td>At destination</td>\n",
       "      <td>161955</td>\n",
       "      <td>1</td>\n",
       "      <td>16</td>\n",
       "      <td>2022-08-01</td>\n",
       "      <td>...</td>\n",
       "      <td>0</td>\n",
       "      <td>0</td>\n",
       "      <td>0</td>\n",
       "      <td>0</td>\n",
       "      <td>0</td>\n",
       "      <td>0</td>\n",
       "      <td>None</td>\n",
       "      <td>2022-07-08 20:18:48+00:00</td>\n",
       "      <td>2022-08-01 23:58:01+00:00</td>\n",
       "      <td>2024-08-29 23:05:33.393026+00:00</td>\n",
       "    </tr>\n",
       "    <tr>\n",
       "      <th>1</th>\n",
       "      <td>2398953</td>\n",
       "      <td>0</td>\n",
       "      <td>518874</td>\n",
       "      <td>None</td>\n",
       "      <td>Accepted</td>\n",
       "      <td>Customer no show</td>\n",
       "      <td>237411</td>\n",
       "      <td>1</td>\n",
       "      <td>16</td>\n",
       "      <td>2022-11-24</td>\n",
       "      <td>...</td>\n",
       "      <td>1</td>\n",
       "      <td>1</td>\n",
       "      <td>0</td>\n",
       "      <td>0</td>\n",
       "      <td>0</td>\n",
       "      <td>0</td>\n",
       "      <td>None</td>\n",
       "      <td>2022-11-24 09:28:34+00:00</td>\n",
       "      <td>2022-11-24 09:03:50+00:00</td>\n",
       "      <td>2024-08-29 23:05:33.393026+00:00</td>\n",
       "    </tr>\n",
       "    <tr>\n",
       "      <th>2</th>\n",
       "      <td>2378500</td>\n",
       "      <td>0</td>\n",
       "      <td>472749</td>\n",
       "      <td>None</td>\n",
       "      <td>Accepted</td>\n",
       "      <td>At destination</td>\n",
       "      <td>216589</td>\n",
       "      <td>1</td>\n",
       "      <td>16</td>\n",
       "      <td>2022-10-21</td>\n",
       "      <td>...</td>\n",
       "      <td>1</td>\n",
       "      <td>0</td>\n",
       "      <td>1</td>\n",
       "      <td>1</td>\n",
       "      <td>0</td>\n",
       "      <td>0</td>\n",
       "      <td>None</td>\n",
       "      <td>2023-01-10 16:48:45+00:00</td>\n",
       "      <td>2023-01-10 01:08:03+00:00</td>\n",
       "      <td>2024-08-29 23:05:33.393026+00:00</td>\n",
       "    </tr>\n",
       "    <tr>\n",
       "      <th>3</th>\n",
       "      <td>2382836</td>\n",
       "      <td>0</td>\n",
       "      <td>482760</td>\n",
       "      <td>None</td>\n",
       "      <td>Accepted</td>\n",
       "      <td>Customer no show</td>\n",
       "      <td>221063</td>\n",
       "      <td>1</td>\n",
       "      <td>16</td>\n",
       "      <td>2022-11-25</td>\n",
       "      <td>...</td>\n",
       "      <td>1</td>\n",
       "      <td>1</td>\n",
       "      <td>0</td>\n",
       "      <td>0</td>\n",
       "      <td>0</td>\n",
       "      <td>0</td>\n",
       "      <td>None</td>\n",
       "      <td>2022-12-02 10:25:19+00:00</td>\n",
       "      <td>2022-11-25 12:12:22+00:00</td>\n",
       "      <td>2024-08-29 23:05:33.393026+00:00</td>\n",
       "    </tr>\n",
       "    <tr>\n",
       "      <th>4</th>\n",
       "      <td>3316247</td>\n",
       "      <td>0</td>\n",
       "      <td>2340475</td>\n",
       "      <td>point2point</td>\n",
       "      <td>Pending</td>\n",
       "      <td>At destination</td>\n",
       "      <td>1162413</td>\n",
       "      <td>1</td>\n",
       "      <td>16</td>\n",
       "      <td>2024-03-28</td>\n",
       "      <td>...</td>\n",
       "      <td>0</td>\n",
       "      <td>0</td>\n",
       "      <td>0</td>\n",
       "      <td>0</td>\n",
       "      <td>0</td>\n",
       "      <td>0</td>\n",
       "      <td>None</td>\n",
       "      <td>2024-04-18 05:23:39+00:00</td>\n",
       "      <td>2024-04-18 05:24:06+00:00</td>\n",
       "      <td>2024-08-29 23:05:33.393026+00:00</td>\n",
       "    </tr>\n",
       "  </tbody>\n",
       "</table>\n",
       "<p>5 rows × 56 columns</p>\n",
       "</div>"
      ]
     },
     "execution_count": 26,
     "metadata": {},
     "output_type": "execute_result"
    }
   ],
   "execution_count": 26
  },
  {
   "metadata": {
    "ExecuteTime": {
     "end_time": "2024-08-30T02:17:01.167843Z",
     "start_time": "2024-08-30T02:17:01.165115Z"
    }
   },
   "cell_type": "code",
   "source": [
    "QUERY_ROUTE = \"\"\"\n",
    "        SELECT r.*, p1.lat from_lat, p1.lng from_lng, p2.lat to_lat, p2.lng to_lng\n",
    "        FROM `report.ride_dispatch_v` r\n",
    "        left JOIN `report.dim_place` p1\n",
    "        ON r.pickup_place_id=p1.id\n",
    "        INNER JOIN `report.dim_place` p2\n",
    "        ON r.pickup_place_id=p2.id\n",
    "        ORDER BY ride_id DESC\n",
    "        limit 2;\n",
    "\t\t\"\"\"\n"
   ],
   "id": "347f3950aa14cc48",
   "outputs": [],
   "execution_count": 14
  },
  {
   "metadata": {
    "ExecuteTime": {
     "end_time": "2024-08-30T02:17:04.989887Z",
     "start_time": "2024-08-30T02:17:01.212045Z"
    }
   },
   "cell_type": "code",
   "source": "df_route = pandas_gbq.read_gbq(QUERY_ROUTE,credentials=credentials)",
   "id": "152bcf5ff80968a6",
   "outputs": [
    {
     "name": "stdout",
     "output_type": "stream",
     "text": [
      "Downloading: 100%|\u001B[32m██████████\u001B[0m|\n"
     ]
    }
   ],
   "execution_count": 15
  },
  {
   "metadata": {
    "ExecuteTime": {
     "end_time": "2024-08-30T02:17:05.113998Z",
     "start_time": "2024-08-30T02:17:05.104939Z"
    }
   },
   "cell_type": "code",
   "source": "df_route.head()",
   "id": "fcf736c1c65d7921",
   "outputs": [
    {
     "data": {
      "text/plain": [
       "   ride_id  trip_no  dispatch_id    trip_type ride_stat dispatch_stat  \\\n",
       "0  3766119        0      3218599  point2point   Pending          None   \n",
       "1  3766118        0      3218598  point2point   Pending          None   \n",
       "\n",
       "   partner_tran_id  partner_id  from_fleet_id_as_customer pickup_date  ...  \\\n",
       "0          1584248           2                         18  2024-09-03  ...   \n",
       "1          1584247           2                         18  2024-09-06  ...   \n",
       "\n",
       "  gps_ad_check gps_cns_check score incoming_dispatch_info_last_updated_at  \\\n",
       "0            0             0  None              2024-08-29 22:51:31+00:00   \n",
       "1            0             0  None              2024-08-29 22:51:12+00:00   \n",
       "\n",
       "   dispatch_info_last_updated_at                         etl_time  \\\n",
       "0                            NaT 2024-08-29 23:05:33.393026+00:00   \n",
       "1                            NaT 2024-08-29 23:05:33.393026+00:00   \n",
       "\n",
       "       from_lat       from_lng        to_lat         to_lng  \n",
       "0   9.547790000  100.062000000   9.547790000  100.062000000  \n",
       "1  25.796914000  -80.288455000  25.796914000  -80.288455000  \n",
       "\n",
       "[2 rows x 60 columns]"
      ],
      "text/html": [
       "<div>\n",
       "<style scoped>\n",
       "    .dataframe tbody tr th:only-of-type {\n",
       "        vertical-align: middle;\n",
       "    }\n",
       "\n",
       "    .dataframe tbody tr th {\n",
       "        vertical-align: top;\n",
       "    }\n",
       "\n",
       "    .dataframe thead th {\n",
       "        text-align: right;\n",
       "    }\n",
       "</style>\n",
       "<table border=\"1\" class=\"dataframe\">\n",
       "  <thead>\n",
       "    <tr style=\"text-align: right;\">\n",
       "      <th></th>\n",
       "      <th>ride_id</th>\n",
       "      <th>trip_no</th>\n",
       "      <th>dispatch_id</th>\n",
       "      <th>trip_type</th>\n",
       "      <th>ride_stat</th>\n",
       "      <th>dispatch_stat</th>\n",
       "      <th>partner_tran_id</th>\n",
       "      <th>partner_id</th>\n",
       "      <th>from_fleet_id_as_customer</th>\n",
       "      <th>pickup_date</th>\n",
       "      <th>...</th>\n",
       "      <th>gps_ad_check</th>\n",
       "      <th>gps_cns_check</th>\n",
       "      <th>score</th>\n",
       "      <th>incoming_dispatch_info_last_updated_at</th>\n",
       "      <th>dispatch_info_last_updated_at</th>\n",
       "      <th>etl_time</th>\n",
       "      <th>from_lat</th>\n",
       "      <th>from_lng</th>\n",
       "      <th>to_lat</th>\n",
       "      <th>to_lng</th>\n",
       "    </tr>\n",
       "  </thead>\n",
       "  <tbody>\n",
       "    <tr>\n",
       "      <th>0</th>\n",
       "      <td>3766119</td>\n",
       "      <td>0</td>\n",
       "      <td>3218599</td>\n",
       "      <td>point2point</td>\n",
       "      <td>Pending</td>\n",
       "      <td>None</td>\n",
       "      <td>1584248</td>\n",
       "      <td>2</td>\n",
       "      <td>18</td>\n",
       "      <td>2024-09-03</td>\n",
       "      <td>...</td>\n",
       "      <td>0</td>\n",
       "      <td>0</td>\n",
       "      <td>None</td>\n",
       "      <td>2024-08-29 22:51:31+00:00</td>\n",
       "      <td>NaT</td>\n",
       "      <td>2024-08-29 23:05:33.393026+00:00</td>\n",
       "      <td>9.547790000</td>\n",
       "      <td>100.062000000</td>\n",
       "      <td>9.547790000</td>\n",
       "      <td>100.062000000</td>\n",
       "    </tr>\n",
       "    <tr>\n",
       "      <th>1</th>\n",
       "      <td>3766118</td>\n",
       "      <td>0</td>\n",
       "      <td>3218598</td>\n",
       "      <td>point2point</td>\n",
       "      <td>Pending</td>\n",
       "      <td>None</td>\n",
       "      <td>1584247</td>\n",
       "      <td>2</td>\n",
       "      <td>18</td>\n",
       "      <td>2024-09-06</td>\n",
       "      <td>...</td>\n",
       "      <td>0</td>\n",
       "      <td>0</td>\n",
       "      <td>None</td>\n",
       "      <td>2024-08-29 22:51:12+00:00</td>\n",
       "      <td>NaT</td>\n",
       "      <td>2024-08-29 23:05:33.393026+00:00</td>\n",
       "      <td>25.796914000</td>\n",
       "      <td>-80.288455000</td>\n",
       "      <td>25.796914000</td>\n",
       "      <td>-80.288455000</td>\n",
       "    </tr>\n",
       "  </tbody>\n",
       "</table>\n",
       "<p>2 rows × 60 columns</p>\n",
       "</div>"
      ]
     },
     "execution_count": 16,
     "metadata": {},
     "output_type": "execute_result"
    }
   ],
   "execution_count": 16
  },
  {
   "metadata": {
    "ExecuteTime": {
     "end_time": "2024-08-30T02:17:05.231966Z",
     "start_time": "2024-08-30T02:17:05.228766Z"
    }
   },
   "cell_type": "code",
   "source": "df_route.dtypes",
   "id": "2e1c0b7643c57034",
   "outputs": [
    {
     "data": {
      "text/plain": [
       "ride_id                                                 Int64\n",
       "trip_no                                                 Int64\n",
       "dispatch_id                                             Int64\n",
       "trip_type                                              object\n",
       "ride_stat                                              object\n",
       "dispatch_stat                                          object\n",
       "partner_tran_id                                         Int64\n",
       "partner_id                                              Int64\n",
       "from_fleet_id_as_customer                               Int64\n",
       "pickup_date                                            dbdate\n",
       "pickup_time                                            dbtime\n",
       "pickup_datetime                           datetime64[us, UTC]\n",
       "pickup_local_datetime                          datetime64[us]\n",
       "pickup_local_datetime_str                              object\n",
       "pickup_place_id                                         Int64\n",
       "dropoff_place_id                                        Int64\n",
       "passenger_id                                            Int64\n",
       "vehicle_class_id                                        Int64\n",
       "vehicle_class                                          object\n",
       "service_area_id                                         Int64\n",
       "vip                                                     Int64\n",
       "meet_n_greet                                            Int64\n",
       "booking_date                                           dbdate\n",
       "booking_datetime                          datetime64[us, UTC]\n",
       "from_fleet_id                                           Int64\n",
       "to_fleet_id                                             Int64\n",
       "fleet_driver_id                                         Int64\n",
       "distance                                                Int64\n",
       "duration                                                Int64\n",
       "trip_count                                              Int64\n",
       "luggage_count                                           Int64\n",
       "passenger_count                                         Int64\n",
       "infant_count                                            Int64\n",
       "children_count                                          Int64\n",
       "ride_operator                                           Int64\n",
       "additional_operator                                     Int64\n",
       "dispatch_operator                                       Int64\n",
       "dispatch_type                                          object\n",
       "partner_amount_currency                                object\n",
       "original_partner_amount_by_trip                        object\n",
       "partner_amount_usd                                     object\n",
       "elife_amount_usd                                       object\n",
       "elife_amount_usd_by_trip                               object\n",
       "original_dispatch_amount                               object\n",
       "dispatch_amount_net_usd                                object\n",
       "additional_charge_amount_usd                           object\n",
       "has_complaint                                           Int64\n",
       "has_fleet_complaint                                     Int64\n",
       "has_penalty_complaint                                   Int64\n",
       "has_ops_complaint                                       Int64\n",
       "gps_ad_check                                            Int64\n",
       "gps_cns_check                                           Int64\n",
       "score                                                  object\n",
       "incoming_dispatch_info_last_updated_at    datetime64[us, UTC]\n",
       "dispatch_info_last_updated_at             datetime64[us, UTC]\n",
       "etl_time                                  datetime64[us, UTC]\n",
       "from_lat                                               object\n",
       "from_lng                                               object\n",
       "to_lat                                                 object\n",
       "to_lng                                                 object\n",
       "dtype: object"
      ]
     },
     "execution_count": 17,
     "metadata": {},
     "output_type": "execute_result"
    }
   ],
   "execution_count": 17
  }
 ],
 "metadata": {
  "kernelspec": {
   "display_name": "Python 3",
   "language": "python",
   "name": "python3"
  },
  "language_info": {
   "codemirror_mode": {
    "name": "ipython",
    "version": 2
   },
   "file_extension": ".py",
   "mimetype": "text/x-python",
   "name": "python",
   "nbconvert_exporter": "python",
   "pygments_lexer": "ipython2",
   "version": "2.7.6"
  }
 },
 "nbformat": 4,
 "nbformat_minor": 5
}
