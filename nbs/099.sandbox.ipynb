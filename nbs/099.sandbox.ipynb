{
 "cells": [
  {
   "cell_type": "code",
   "id": "initial_id",
   "metadata": {
    "collapsed": true,
    "ExecuteTime": {
     "end_time": "2024-09-17T07:28:46.848824Z",
     "start_time": "2024-09-17T07:28:46.846029Z"
    }
   },
   "source": "#| default_exp sandbox",
   "outputs": [],
   "execution_count": 1
  },
  {
   "metadata": {
    "ExecuteTime": {
     "end_time": "2024-09-17T07:28:46.978600Z",
     "start_time": "2024-09-17T07:28:46.906365Z"
    }
   },
   "cell_type": "code",
   "source": [
    "#| hide\n",
    "from nbdev.showdoc import *"
   ],
   "id": "69f2fd9f1001fde",
   "outputs": [],
   "execution_count": 2
  },
  {
   "metadata": {
    "ExecuteTime": {
     "end_time": "2024-09-17T07:28:47.036163Z",
     "start_time": "2024-09-17T07:28:47.009454Z"
    }
   },
   "cell_type": "code",
   "source": [
    "#| hide\n",
    "import nbdev; nbdev.nbdev_export()"
   ],
   "id": "e45af2fbb67e9b10",
   "outputs": [],
   "execution_count": 3
  },
  {
   "metadata": {
    "ExecuteTime": {
     "end_time": "2024-09-17T07:28:47.056661Z",
     "start_time": "2024-09-17T07:28:47.054223Z"
    }
   },
   "cell_type": "code",
   "source": [
    "#| hide\n",
    "from IPython.core.interactiveshell import InteractiveShell\n",
    "InteractiveShell.ast_node_interactivity = \"all\""
   ],
   "id": "64bbfb25e116b5d7",
   "outputs": [],
   "execution_count": 4
  },
  {
   "metadata": {
    "ExecuteTime": {
     "end_time": "2024-09-17T07:28:47.121678Z",
     "start_time": "2024-09-17T07:28:47.115363Z"
    }
   },
   "cell_type": "code",
   "source": [
    "from dotenv import load_dotenv\n",
    "import os\n",
    "load_dotenv(\"../.env\")"
   ],
   "id": "9ece9e708562bcd0",
   "outputs": [
    {
     "data": {
      "text/plain": [
       "True"
      ]
     },
     "execution_count": 5,
     "metadata": {},
     "output_type": "execute_result"
    }
   ],
   "execution_count": 5
  },
  {
   "metadata": {
    "ExecuteTime": {
     "end_time": "2024-09-17T07:28:47.179779Z",
     "start_time": "2024-09-17T07:28:47.177211Z"
    }
   },
   "cell_type": "code",
   "source": [
    "os.environ['HTTP_PROXY'] = \"http://127.0.0.1:20171\"\n",
    "os.environ['HTTPS_PROXY'] = \"http://127.0.0.1:20171\"\n",
    "os.environ['http_proxy'] = \"http://127.0.0.1:20171\"\n",
    "os.environ['https_proxy'] = \"http://127.0.0.1:20171\""
   ],
   "id": "20252bb0530c80f1",
   "outputs": [],
   "execution_count": 6
  },
  {
   "metadata": {
    "ExecuteTime": {
     "end_time": "2024-09-17T07:28:47.238675Z",
     "start_time": "2024-09-17T07:28:47.234575Z"
    }
   },
   "cell_type": "code",
   "source": [
    "os.getenv('GC_QUOTE_API_CREDENTIALS')\n",
    "os.getenv('HTTP_PROXY')\n",
    "os.getenv('HTTPS_PROXY')"
   ],
   "id": "5f0abe5ff30ba42f",
   "outputs": [
    {
     "data": {
      "text/plain": [
       "'res/quote-api-365206-39d39b2fde07.json'"
      ]
     },
     "execution_count": 7,
     "metadata": {},
     "output_type": "execute_result"
    },
    {
     "data": {
      "text/plain": [
       "'http://127.0.0.1:20171'"
      ]
     },
     "execution_count": 7,
     "metadata": {},
     "output_type": "execute_result"
    },
    {
     "data": {
      "text/plain": [
       "'http://127.0.0.1:20171'"
      ]
     },
     "execution_count": 7,
     "metadata": {},
     "output_type": "execute_result"
    }
   ],
   "execution_count": 7
  },
  {
   "metadata": {
    "ExecuteTime": {
     "end_time": "2024-09-17T07:28:47.306079Z",
     "start_time": "2024-09-17T07:28:47.303976Z"
    }
   },
   "cell_type": "code",
   "source": [
    "from dotenv import dotenv_values\n",
    "config = dotenv_values(\"../.env\")\n",
    "key = config.get('GC_QUOTE_API_CREDENTIALS')"
   ],
   "id": "7d7b4652b6129837",
   "outputs": [],
   "execution_count": 8
  },
  {
   "metadata": {
    "ExecuteTime": {
     "end_time": "2024-09-17T07:28:47.794983Z",
     "start_time": "2024-09-17T07:28:47.350676Z"
    }
   },
   "cell_type": "code",
   "source": [
    "from google.cloud import bigquery\n",
    "import pandas_gbq\n",
    "from google.oauth2 import service_account\n",
    "credentials = service_account.Credentials.from_service_account_file(\"../\" + key)"
   ],
   "id": "b7544c5a7f3bc524",
   "outputs": [],
   "execution_count": 9
  },
  {
   "metadata": {
    "ExecuteTime": {
     "end_time": "2024-09-17T07:28:47.801194Z",
     "start_time": "2024-09-17T07:28:47.799380Z"
    }
   },
   "cell_type": "code",
   "source": [
    "client = bigquery.Client(credentials=credentials)\n",
    "\n",
    "QUERY = \"\"\"\n",
    "\t\tselect *\n",
    "\t\tfrom `quote-api-365206.report.ride_dispatch_v` r\n",
    "\t\twhere dispatch_amount_net_usd is not null\n",
    "        limit 200\n",
    "\t\t\"\"\""
   ],
   "id": "9f7054304ef1f5e7",
   "outputs": [],
   "execution_count": 10
  },
  {
   "metadata": {
    "ExecuteTime": {
     "end_time": "2024-09-17T07:28:47.846190Z",
     "start_time": "2024-09-17T07:28:47.844283Z"
    }
   },
   "cell_type": "code",
   "source": [
    "QUERY_DISINCT = \"\"\"\n",
    "\t\tselect count (*)\n",
    "\t\tfrom `quote-api-365206.report.ride_dispatch_v` r\n",
    "\t\twhere trip_type is null\n",
    "        limit 200\n",
    "\t\t\"\"\""
   ],
   "id": "5e519ab5e84831b",
   "outputs": [],
   "execution_count": 11
  },
  {
   "metadata": {
    "ExecuteTime": {
     "end_time": "2024-09-17T07:28:48.125784Z",
     "start_time": "2024-09-17T07:28:47.905046Z"
    }
   },
   "cell_type": "code",
   "source": "!echo $HTTP_PROXY",
   "id": "7f3fb8607d727318",
   "outputs": [
    {
     "name": "stdout",
     "output_type": "stream",
     "text": [
      "http://127.0.0.1:20171\r\n"
     ]
    }
   ],
   "execution_count": 12
  },
  {
   "metadata": {
    "ExecuteTime": {
     "end_time": "2024-09-17T07:28:48.132851Z",
     "start_time": "2024-09-17T07:28:48.130328Z"
    }
   },
   "cell_type": "code",
   "source": "#query_job = client.query(QUERY)",
   "id": "eeeab2e7d37fa1f8",
   "outputs": [],
   "execution_count": 13
  },
  {
   "metadata": {
    "ExecuteTime": {
     "end_time": "2024-09-17T07:28:50.564015Z",
     "start_time": "2024-09-17T07:28:48.190945Z"
    }
   },
   "cell_type": "code",
   "source": [
    "\n",
    "df = pandas_gbq.read_gbq(QUERY,credentials=credentials)"
   ],
   "id": "b3e020145cabe697",
   "outputs": [
    {
     "name": "stdout",
     "output_type": "stream",
     "text": [
      "Downloading: 100%|\u001B[32m██████████\u001B[0m|\n"
     ]
    }
   ],
   "execution_count": 14
  },
  {
   "metadata": {
    "ExecuteTime": {
     "end_time": "2024-09-17T07:28:53.118613Z",
     "start_time": "2024-09-17T07:28:50.574932Z"
    }
   },
   "cell_type": "code",
   "source": [
    "\n",
    "df_trip_type = pandas_gbq.read_gbq(QUERY_DISINCT,credentials=credentials)"
   ],
   "id": "a265f9a53856f6f1",
   "outputs": [
    {
     "name": "stdout",
     "output_type": "stream",
     "text": [
      "Downloading: 100%|\u001B[32m██████████\u001B[0m|\n"
     ]
    }
   ],
   "execution_count": 15
  },
  {
   "metadata": {
    "ExecuteTime": {
     "end_time": "2024-09-17T07:28:53.176902Z",
     "start_time": "2024-09-17T07:28:53.163501Z"
    }
   },
   "cell_type": "code",
   "source": [
    "\n",
    "df.head()"
   ],
   "id": "a1d4a54fb0713446",
   "outputs": [
    {
     "data": {
      "text/plain": [
       "   ride_id  trip_no  dispatch_id    trip_type  ride_stat   dispatch_stat  \\\n",
       "0  2429723        0       583182         None   Accepted  At destination   \n",
       "1  2324292        0       345056         None   Accepted  At destination   \n",
       "2  3531231        1      2800358  point2point  Cancelled        Accepted   \n",
       "3  2443954        0       609438         None   Accepted        Accepted   \n",
       "4  2328037        0       354302         None   Accepted  At destination   \n",
       "\n",
       "   partner_tran_id  partner_id  from_fleet_id_as_customer pickup_date  ...  \\\n",
       "0           268620           1                         16  2023-02-03  ...   \n",
       "1           161955           1                         16  2022-07-28  ...   \n",
       "2          1377216           1                         16  2024-06-30  ...   \n",
       "3           283048           1                         16  2023-02-18  ...   \n",
       "4           165711           1                         16  2022-10-07  ...   \n",
       "\n",
       "  has_complaint has_fleet_complaint has_penalty_complaint has_ops_complaint  \\\n",
       "0             1                   0                     1                 1   \n",
       "1             0                   0                     0                 0   \n",
       "2             0                   0                     0                 0   \n",
       "3             1                   0                     1                 1   \n",
       "4             0                   0                     0                 0   \n",
       "\n",
       "   gps_ad_check  gps_cns_check        score  \\\n",
       "0             0              0         None   \n",
       "1             0              0         None   \n",
       "2             0              0         None   \n",
       "3             0              0  4.000000000   \n",
       "4             0              0         None   \n",
       "\n",
       "   incoming_dispatch_info_last_updated_at dispatch_info_last_updated_at  \\\n",
       "0               2023-03-31 23:22:47+00:00     2023-03-31 23:22:47+00:00   \n",
       "1               2022-07-08 20:18:48+00:00     2022-07-28 15:37:37+00:00   \n",
       "2               2024-06-13 13:12:21+00:00     2024-06-13 14:10:50+00:00   \n",
       "3               2023-02-25 01:40:42+00:00     2023-02-25 01:40:42+00:00   \n",
       "4               2022-11-02 05:51:37+00:00     2022-10-07 15:56:36+00:00   \n",
       "\n",
       "                          etl_time  \n",
       "0 2024-09-17 07:14:54.748547+00:00  \n",
       "1 2024-09-17 07:14:54.748547+00:00  \n",
       "2 2024-09-17 07:14:54.748547+00:00  \n",
       "3 2024-09-17 07:14:54.748547+00:00  \n",
       "4 2024-09-17 07:14:54.748547+00:00  \n",
       "\n",
       "[5 rows x 56 columns]"
      ],
      "text/html": [
       "<div>\n",
       "<style scoped>\n",
       "    .dataframe tbody tr th:only-of-type {\n",
       "        vertical-align: middle;\n",
       "    }\n",
       "\n",
       "    .dataframe tbody tr th {\n",
       "        vertical-align: top;\n",
       "    }\n",
       "\n",
       "    .dataframe thead th {\n",
       "        text-align: right;\n",
       "    }\n",
       "</style>\n",
       "<table border=\"1\" class=\"dataframe\">\n",
       "  <thead>\n",
       "    <tr style=\"text-align: right;\">\n",
       "      <th></th>\n",
       "      <th>ride_id</th>\n",
       "      <th>trip_no</th>\n",
       "      <th>dispatch_id</th>\n",
       "      <th>trip_type</th>\n",
       "      <th>ride_stat</th>\n",
       "      <th>dispatch_stat</th>\n",
       "      <th>partner_tran_id</th>\n",
       "      <th>partner_id</th>\n",
       "      <th>from_fleet_id_as_customer</th>\n",
       "      <th>pickup_date</th>\n",
       "      <th>...</th>\n",
       "      <th>has_complaint</th>\n",
       "      <th>has_fleet_complaint</th>\n",
       "      <th>has_penalty_complaint</th>\n",
       "      <th>has_ops_complaint</th>\n",
       "      <th>gps_ad_check</th>\n",
       "      <th>gps_cns_check</th>\n",
       "      <th>score</th>\n",
       "      <th>incoming_dispatch_info_last_updated_at</th>\n",
       "      <th>dispatch_info_last_updated_at</th>\n",
       "      <th>etl_time</th>\n",
       "    </tr>\n",
       "  </thead>\n",
       "  <tbody>\n",
       "    <tr>\n",
       "      <th>0</th>\n",
       "      <td>2429723</td>\n",
       "      <td>0</td>\n",
       "      <td>583182</td>\n",
       "      <td>None</td>\n",
       "      <td>Accepted</td>\n",
       "      <td>At destination</td>\n",
       "      <td>268620</td>\n",
       "      <td>1</td>\n",
       "      <td>16</td>\n",
       "      <td>2023-02-03</td>\n",
       "      <td>...</td>\n",
       "      <td>1</td>\n",
       "      <td>0</td>\n",
       "      <td>1</td>\n",
       "      <td>1</td>\n",
       "      <td>0</td>\n",
       "      <td>0</td>\n",
       "      <td>None</td>\n",
       "      <td>2023-03-31 23:22:47+00:00</td>\n",
       "      <td>2023-03-31 23:22:47+00:00</td>\n",
       "      <td>2024-09-17 07:14:54.748547+00:00</td>\n",
       "    </tr>\n",
       "    <tr>\n",
       "      <th>1</th>\n",
       "      <td>2324292</td>\n",
       "      <td>0</td>\n",
       "      <td>345056</td>\n",
       "      <td>None</td>\n",
       "      <td>Accepted</td>\n",
       "      <td>At destination</td>\n",
       "      <td>161955</td>\n",
       "      <td>1</td>\n",
       "      <td>16</td>\n",
       "      <td>2022-07-28</td>\n",
       "      <td>...</td>\n",
       "      <td>0</td>\n",
       "      <td>0</td>\n",
       "      <td>0</td>\n",
       "      <td>0</td>\n",
       "      <td>0</td>\n",
       "      <td>0</td>\n",
       "      <td>None</td>\n",
       "      <td>2022-07-08 20:18:48+00:00</td>\n",
       "      <td>2022-07-28 15:37:37+00:00</td>\n",
       "      <td>2024-09-17 07:14:54.748547+00:00</td>\n",
       "    </tr>\n",
       "    <tr>\n",
       "      <th>2</th>\n",
       "      <td>3531231</td>\n",
       "      <td>1</td>\n",
       "      <td>2800358</td>\n",
       "      <td>point2point</td>\n",
       "      <td>Cancelled</td>\n",
       "      <td>Accepted</td>\n",
       "      <td>1377216</td>\n",
       "      <td>1</td>\n",
       "      <td>16</td>\n",
       "      <td>2024-06-30</td>\n",
       "      <td>...</td>\n",
       "      <td>0</td>\n",
       "      <td>0</td>\n",
       "      <td>0</td>\n",
       "      <td>0</td>\n",
       "      <td>0</td>\n",
       "      <td>0</td>\n",
       "      <td>None</td>\n",
       "      <td>2024-06-13 13:12:21+00:00</td>\n",
       "      <td>2024-06-13 14:10:50+00:00</td>\n",
       "      <td>2024-09-17 07:14:54.748547+00:00</td>\n",
       "    </tr>\n",
       "    <tr>\n",
       "      <th>3</th>\n",
       "      <td>2443954</td>\n",
       "      <td>0</td>\n",
       "      <td>609438</td>\n",
       "      <td>None</td>\n",
       "      <td>Accepted</td>\n",
       "      <td>Accepted</td>\n",
       "      <td>283048</td>\n",
       "      <td>1</td>\n",
       "      <td>16</td>\n",
       "      <td>2023-02-18</td>\n",
       "      <td>...</td>\n",
       "      <td>1</td>\n",
       "      <td>0</td>\n",
       "      <td>1</td>\n",
       "      <td>1</td>\n",
       "      <td>0</td>\n",
       "      <td>0</td>\n",
       "      <td>4.000000000</td>\n",
       "      <td>2023-02-25 01:40:42+00:00</td>\n",
       "      <td>2023-02-25 01:40:42+00:00</td>\n",
       "      <td>2024-09-17 07:14:54.748547+00:00</td>\n",
       "    </tr>\n",
       "    <tr>\n",
       "      <th>4</th>\n",
       "      <td>2328037</td>\n",
       "      <td>0</td>\n",
       "      <td>354302</td>\n",
       "      <td>None</td>\n",
       "      <td>Accepted</td>\n",
       "      <td>At destination</td>\n",
       "      <td>165711</td>\n",
       "      <td>1</td>\n",
       "      <td>16</td>\n",
       "      <td>2022-10-07</td>\n",
       "      <td>...</td>\n",
       "      <td>0</td>\n",
       "      <td>0</td>\n",
       "      <td>0</td>\n",
       "      <td>0</td>\n",
       "      <td>0</td>\n",
       "      <td>0</td>\n",
       "      <td>None</td>\n",
       "      <td>2022-11-02 05:51:37+00:00</td>\n",
       "      <td>2022-10-07 15:56:36+00:00</td>\n",
       "      <td>2024-09-17 07:14:54.748547+00:00</td>\n",
       "    </tr>\n",
       "  </tbody>\n",
       "</table>\n",
       "<p>5 rows × 56 columns</p>\n",
       "</div>"
      ]
     },
     "execution_count": 16,
     "metadata": {},
     "output_type": "execute_result"
    }
   ],
   "execution_count": 16
  },
  {
   "metadata": {
    "ExecuteTime": {
     "end_time": "2024-09-17T07:28:53.230468Z",
     "start_time": "2024-09-17T07:28:53.227927Z"
    }
   },
   "cell_type": "code",
   "source": [
    "QUERY_ROUTE = \"\"\"\n",
    "        SELECT r.*, p1.lat from_lat, p1.lng from_lng, p2.lat to_lat, p2.lng to_lng\n",
    "        FROM `report.ride_dispatch_v` r\n",
    "        left JOIN `report.dim_place` p1\n",
    "        ON r.pickup_place_id=p1.id\n",
    "        INNER JOIN `report.dim_place` p2\n",
    "        ON r.pickup_place_id=p2.id\n",
    "        ORDER BY ride_id DESC\n",
    "        limit 2;\n",
    "\t\t\"\"\"\n"
   ],
   "id": "347f3950aa14cc48",
   "outputs": [],
   "execution_count": 17
  },
  {
   "metadata": {
    "ExecuteTime": {
     "end_time": "2024-09-17T07:28:57.826892Z",
     "start_time": "2024-09-17T07:28:53.280866Z"
    }
   },
   "cell_type": "code",
   "source": "df_route = pandas_gbq.read_gbq(QUERY_ROUTE,credentials=credentials)",
   "id": "152bcf5ff80968a6",
   "outputs": [
    {
     "name": "stdout",
     "output_type": "stream",
     "text": [
      "Downloading: 100%|\u001B[32m██████████\u001B[0m|\n"
     ]
    }
   ],
   "execution_count": 18
  },
  {
   "metadata": {
    "ExecuteTime": {
     "end_time": "2024-09-17T07:28:57.893030Z",
     "start_time": "2024-09-17T07:28:57.877669Z"
    }
   },
   "cell_type": "code",
   "source": "df_route.head()",
   "id": "fcf736c1c65d7921",
   "outputs": [
    {
     "data": {
      "text/plain": [
       "   ride_id  trip_no  dispatch_id    trip_type ride_stat dispatch_stat  \\\n",
       "0  3820538        0      3330003  point2point   Pending          None   \n",
       "1  3820537        0      3329998  point2point   Pending          None   \n",
       "\n",
       "   partner_tran_id  partner_id  from_fleet_id_as_customer pickup_date  ...  \\\n",
       "0          1639243           2                         18  2025-01-14  ...   \n",
       "1          1639242        2692                      57395  2024-09-28  ...   \n",
       "\n",
       "  gps_ad_check gps_cns_check score incoming_dispatch_info_last_updated_at  \\\n",
       "0            0             0  None              2024-09-17 07:02:01+00:00   \n",
       "1            0             0  None              2024-09-17 07:01:16+00:00   \n",
       "\n",
       "   dispatch_info_last_updated_at                         etl_time  \\\n",
       "0                            NaT 2024-09-17 07:14:54.748547+00:00   \n",
       "1                            NaT 2024-09-17 07:14:54.748547+00:00   \n",
       "\n",
       "        from_lat      from_lng         to_lat        to_lng  \n",
       "0  -33.972900000  18.602380000  -33.972900000  18.602380000  \n",
       "1   45.653276000  12.202081000   45.653276000  12.202081000  \n",
       "\n",
       "[2 rows x 60 columns]"
      ],
      "text/html": [
       "<div>\n",
       "<style scoped>\n",
       "    .dataframe tbody tr th:only-of-type {\n",
       "        vertical-align: middle;\n",
       "    }\n",
       "\n",
       "    .dataframe tbody tr th {\n",
       "        vertical-align: top;\n",
       "    }\n",
       "\n",
       "    .dataframe thead th {\n",
       "        text-align: right;\n",
       "    }\n",
       "</style>\n",
       "<table border=\"1\" class=\"dataframe\">\n",
       "  <thead>\n",
       "    <tr style=\"text-align: right;\">\n",
       "      <th></th>\n",
       "      <th>ride_id</th>\n",
       "      <th>trip_no</th>\n",
       "      <th>dispatch_id</th>\n",
       "      <th>trip_type</th>\n",
       "      <th>ride_stat</th>\n",
       "      <th>dispatch_stat</th>\n",
       "      <th>partner_tran_id</th>\n",
       "      <th>partner_id</th>\n",
       "      <th>from_fleet_id_as_customer</th>\n",
       "      <th>pickup_date</th>\n",
       "      <th>...</th>\n",
       "      <th>gps_ad_check</th>\n",
       "      <th>gps_cns_check</th>\n",
       "      <th>score</th>\n",
       "      <th>incoming_dispatch_info_last_updated_at</th>\n",
       "      <th>dispatch_info_last_updated_at</th>\n",
       "      <th>etl_time</th>\n",
       "      <th>from_lat</th>\n",
       "      <th>from_lng</th>\n",
       "      <th>to_lat</th>\n",
       "      <th>to_lng</th>\n",
       "    </tr>\n",
       "  </thead>\n",
       "  <tbody>\n",
       "    <tr>\n",
       "      <th>0</th>\n",
       "      <td>3820538</td>\n",
       "      <td>0</td>\n",
       "      <td>3330003</td>\n",
       "      <td>point2point</td>\n",
       "      <td>Pending</td>\n",
       "      <td>None</td>\n",
       "      <td>1639243</td>\n",
       "      <td>2</td>\n",
       "      <td>18</td>\n",
       "      <td>2025-01-14</td>\n",
       "      <td>...</td>\n",
       "      <td>0</td>\n",
       "      <td>0</td>\n",
       "      <td>None</td>\n",
       "      <td>2024-09-17 07:02:01+00:00</td>\n",
       "      <td>NaT</td>\n",
       "      <td>2024-09-17 07:14:54.748547+00:00</td>\n",
       "      <td>-33.972900000</td>\n",
       "      <td>18.602380000</td>\n",
       "      <td>-33.972900000</td>\n",
       "      <td>18.602380000</td>\n",
       "    </tr>\n",
       "    <tr>\n",
       "      <th>1</th>\n",
       "      <td>3820537</td>\n",
       "      <td>0</td>\n",
       "      <td>3329998</td>\n",
       "      <td>point2point</td>\n",
       "      <td>Pending</td>\n",
       "      <td>None</td>\n",
       "      <td>1639242</td>\n",
       "      <td>2692</td>\n",
       "      <td>57395</td>\n",
       "      <td>2024-09-28</td>\n",
       "      <td>...</td>\n",
       "      <td>0</td>\n",
       "      <td>0</td>\n",
       "      <td>None</td>\n",
       "      <td>2024-09-17 07:01:16+00:00</td>\n",
       "      <td>NaT</td>\n",
       "      <td>2024-09-17 07:14:54.748547+00:00</td>\n",
       "      <td>45.653276000</td>\n",
       "      <td>12.202081000</td>\n",
       "      <td>45.653276000</td>\n",
       "      <td>12.202081000</td>\n",
       "    </tr>\n",
       "  </tbody>\n",
       "</table>\n",
       "<p>2 rows × 60 columns</p>\n",
       "</div>"
      ]
     },
     "execution_count": 19,
     "metadata": {},
     "output_type": "execute_result"
    }
   ],
   "execution_count": 19
  },
  {
   "metadata": {
    "ExecuteTime": {
     "end_time": "2024-09-17T07:28:58.006149Z",
     "start_time": "2024-09-17T07:28:58.002197Z"
    }
   },
   "cell_type": "code",
   "source": "df_route.dtypes",
   "id": "2e1c0b7643c57034",
   "outputs": [
    {
     "data": {
      "text/plain": [
       "ride_id                                                 Int64\n",
       "trip_no                                                 Int64\n",
       "dispatch_id                                             Int64\n",
       "trip_type                                              object\n",
       "ride_stat                                              object\n",
       "dispatch_stat                                          object\n",
       "partner_tran_id                                         Int64\n",
       "partner_id                                              Int64\n",
       "from_fleet_id_as_customer                               Int64\n",
       "pickup_date                                            dbdate\n",
       "pickup_time                                            dbtime\n",
       "pickup_datetime                           datetime64[us, UTC]\n",
       "pickup_local_datetime                          datetime64[us]\n",
       "pickup_local_datetime_str                              object\n",
       "pickup_place_id                                         Int64\n",
       "dropoff_place_id                                        Int64\n",
       "passenger_id                                            Int64\n",
       "vehicle_class_id                                        Int64\n",
       "vehicle_class                                          object\n",
       "service_area_id                                         Int64\n",
       "vip                                                     Int64\n",
       "meet_n_greet                                            Int64\n",
       "booking_date                                           dbdate\n",
       "booking_datetime                          datetime64[us, UTC]\n",
       "from_fleet_id                                           Int64\n",
       "to_fleet_id                                             Int64\n",
       "fleet_driver_id                                         Int64\n",
       "distance                                                Int64\n",
       "duration                                                Int64\n",
       "trip_count                                              Int64\n",
       "luggage_count                                           Int64\n",
       "passenger_count                                         Int64\n",
       "infant_count                                            Int64\n",
       "children_count                                          Int64\n",
       "ride_operator                                           Int64\n",
       "additional_operator                                     Int64\n",
       "dispatch_operator                                       Int64\n",
       "dispatch_type                                          object\n",
       "partner_amount_currency                                object\n",
       "original_partner_amount_by_trip                        object\n",
       "partner_amount_usd                                     object\n",
       "elife_amount_usd                                       object\n",
       "elife_amount_usd_by_trip                               object\n",
       "original_dispatch_amount                               object\n",
       "dispatch_amount_net_usd                                object\n",
       "additional_charge_amount_usd                           object\n",
       "has_complaint                                           Int64\n",
       "has_fleet_complaint                                     Int64\n",
       "has_penalty_complaint                                   Int64\n",
       "has_ops_complaint                                       Int64\n",
       "gps_ad_check                                            Int64\n",
       "gps_cns_check                                           Int64\n",
       "score                                                  object\n",
       "incoming_dispatch_info_last_updated_at    datetime64[us, UTC]\n",
       "dispatch_info_last_updated_at             datetime64[us, UTC]\n",
       "etl_time                                  datetime64[us, UTC]\n",
       "from_lat                                               object\n",
       "from_lng                                               object\n",
       "to_lat                                                 object\n",
       "to_lng                                                 object\n",
       "dtype: object"
      ]
     },
     "execution_count": 20,
     "metadata": {},
     "output_type": "execute_result"
    }
   ],
   "execution_count": 20
  },
  {
   "metadata": {
    "ExecuteTime": {
     "end_time": "2024-09-17T07:28:59.473960Z",
     "start_time": "2024-09-17T07:28:58.230914Z"
    }
   },
   "cell_type": "code",
   "source": [
    "import pandas as pd\n",
    "import pandera as pa\n",
    "\n",
    "# data to validate\n",
    "df = pd.DataFrame({\n",
    "    \"column1\": [1, 4, 0, 10, 9, 11],\n",
    "    \"column2\": [-1.3, -1.4, -2.9, -10.1, -20.4, -2.0],\n",
    "    \"column3\": [\"value_1\", \"value_2\", \"value_3\", \"value_2\", \"value_1\", \"value_2\"],\n",
    "})\n",
    "\n",
    "# define schema\n",
    "schema = pa.DataFrameSchema({\n",
    "    \"column1\": pa.Column(int, checks=pa.Check.le(10)),\n",
    "    \"column2\": pa.Column(float, checks=pa.Check.lt(-1.2)),\n",
    "    \"column3\": pa.Column(str, checks=[\n",
    "        pa.Check.str_startswith(\"value_\"),\n",
    "        # define custom checks as functions that take a series as input and\n",
    "        # outputs a boolean or boolean Series\n",
    "        pa.Check(lambda s: s.str.split(\"_\", expand=True).shape[1] == 2)\n",
    "    ]),\n",
    "})\n",
    "\n",
    "validated_df = schema(df)\n",
    "print(validated_df)"
   ],
   "id": "d8a7ca37295db23f",
   "outputs": [
    {
     "ename": "SchemaError",
     "evalue": "Column 'column1' failed element-wise validator number 0: less_than_or_equal_to(10) failure cases: 11",
     "output_type": "error",
     "traceback": [
      "\u001B[0;31m---------------------------------------------------------------------------\u001B[0m",
      "\u001B[0;31mSchemaError\u001B[0m                               Traceback (most recent call last)",
      "Cell \u001B[0;32mIn[21], line 23\u001B[0m\n\u001B[1;32m     11\u001B[0m \u001B[38;5;66;03m# define schema\u001B[39;00m\n\u001B[1;32m     12\u001B[0m schema \u001B[38;5;241m=\u001B[39m pa\u001B[38;5;241m.\u001B[39mDataFrameSchema({\n\u001B[1;32m     13\u001B[0m     \u001B[38;5;124m\"\u001B[39m\u001B[38;5;124mcolumn1\u001B[39m\u001B[38;5;124m\"\u001B[39m: pa\u001B[38;5;241m.\u001B[39mColumn(\u001B[38;5;28mint\u001B[39m, checks\u001B[38;5;241m=\u001B[39mpa\u001B[38;5;241m.\u001B[39mCheck\u001B[38;5;241m.\u001B[39mle(\u001B[38;5;241m10\u001B[39m)),\n\u001B[1;32m     14\u001B[0m     \u001B[38;5;124m\"\u001B[39m\u001B[38;5;124mcolumn2\u001B[39m\u001B[38;5;124m\"\u001B[39m: pa\u001B[38;5;241m.\u001B[39mColumn(\u001B[38;5;28mfloat\u001B[39m, checks\u001B[38;5;241m=\u001B[39mpa\u001B[38;5;241m.\u001B[39mCheck\u001B[38;5;241m.\u001B[39mlt(\u001B[38;5;241m-\u001B[39m\u001B[38;5;241m1.2\u001B[39m)),\n\u001B[0;32m   (...)\u001B[0m\n\u001B[1;32m     20\u001B[0m     ]),\n\u001B[1;32m     21\u001B[0m })\n\u001B[0;32m---> 23\u001B[0m validated_df \u001B[38;5;241m=\u001B[39m \u001B[43mschema\u001B[49m\u001B[43m(\u001B[49m\u001B[43mdf\u001B[49m\u001B[43m)\u001B[49m\n\u001B[1;32m     24\u001B[0m \u001B[38;5;28mprint\u001B[39m(validated_df)\n",
      "File \u001B[0;32m~/.pyenv/versions/miniforge3-latest/envs/prc/lib/python3.12/site-packages/pandera/api/dataframe/container.py:340\u001B[0m, in \u001B[0;36mDataFrameSchema.__call__\u001B[0;34m(self, dataframe, head, tail, sample, random_state, lazy, inplace)\u001B[0m\n\u001B[1;32m    312\u001B[0m \u001B[38;5;28;01mdef\u001B[39;00m \u001B[38;5;21m__call__\u001B[39m(\n\u001B[1;32m    313\u001B[0m     \u001B[38;5;28mself\u001B[39m,\n\u001B[1;32m    314\u001B[0m     dataframe: TDataObject,\n\u001B[0;32m   (...)\u001B[0m\n\u001B[1;32m    320\u001B[0m     inplace: \u001B[38;5;28mbool\u001B[39m \u001B[38;5;241m=\u001B[39m \u001B[38;5;28;01mFalse\u001B[39;00m,\n\u001B[1;32m    321\u001B[0m ) \u001B[38;5;241m-\u001B[39m\u001B[38;5;241m>\u001B[39m TDataObject:\n\u001B[1;32m    322\u001B[0m \u001B[38;5;250m    \u001B[39m\u001B[38;5;124;03m\"\"\"Alias for :func:`DataFrameSchema.validate` method.\u001B[39;00m\n\u001B[1;32m    323\u001B[0m \n\u001B[1;32m    324\u001B[0m \u001B[38;5;124;03m    :param pd.DataFrame dataframe: the dataframe to be validated.\u001B[39;00m\n\u001B[0;32m   (...)\u001B[0m\n\u001B[1;32m    338\u001B[0m \u001B[38;5;124;03m        otherwise creates a copy of the data.\u001B[39;00m\n\u001B[1;32m    339\u001B[0m \u001B[38;5;124;03m    \"\"\"\u001B[39;00m\n\u001B[0;32m--> 340\u001B[0m     \u001B[38;5;28;01mreturn\u001B[39;00m \u001B[38;5;28;43mself\u001B[39;49m\u001B[38;5;241;43m.\u001B[39;49m\u001B[43mvalidate\u001B[49m\u001B[43m(\u001B[49m\n\u001B[1;32m    341\u001B[0m \u001B[43m        \u001B[49m\u001B[43mdataframe\u001B[49m\u001B[43m,\u001B[49m\u001B[43m \u001B[49m\u001B[43mhead\u001B[49m\u001B[43m,\u001B[49m\u001B[43m \u001B[49m\u001B[43mtail\u001B[49m\u001B[43m,\u001B[49m\u001B[43m \u001B[49m\u001B[43msample\u001B[49m\u001B[43m,\u001B[49m\u001B[43m \u001B[49m\u001B[43mrandom_state\u001B[49m\u001B[43m,\u001B[49m\u001B[43m \u001B[49m\u001B[43mlazy\u001B[49m\u001B[43m,\u001B[49m\u001B[43m \u001B[49m\u001B[43minplace\u001B[49m\n\u001B[1;32m    342\u001B[0m \u001B[43m    \u001B[49m\u001B[43m)\u001B[49m\n",
      "File \u001B[0;32m~/.pyenv/versions/miniforge3-latest/envs/prc/lib/python3.12/site-packages/pandera/api/pandas/container.py:126\u001B[0m, in \u001B[0;36mDataFrameSchema.validate\u001B[0;34m(self, check_obj, head, tail, sample, random_state, lazy, inplace)\u001B[0m\n\u001B[1;32m    114\u001B[0m     check_obj \u001B[38;5;241m=\u001B[39m check_obj\u001B[38;5;241m.\u001B[39mmap_partitions(  \u001B[38;5;66;03m# type: ignore [operator]\u001B[39;00m\n\u001B[1;32m    115\u001B[0m         \u001B[38;5;28mself\u001B[39m\u001B[38;5;241m.\u001B[39m_validate,\n\u001B[1;32m    116\u001B[0m         head\u001B[38;5;241m=\u001B[39mhead,\n\u001B[0;32m   (...)\u001B[0m\n\u001B[1;32m    122\u001B[0m         meta\u001B[38;5;241m=\u001B[39mcheck_obj,\n\u001B[1;32m    123\u001B[0m     )\n\u001B[1;32m    124\u001B[0m     \u001B[38;5;28;01mreturn\u001B[39;00m check_obj\u001B[38;5;241m.\u001B[39mpandera\u001B[38;5;241m.\u001B[39madd_schema(\u001B[38;5;28mself\u001B[39m)\n\u001B[0;32m--> 126\u001B[0m \u001B[38;5;28;01mreturn\u001B[39;00m \u001B[38;5;28;43mself\u001B[39;49m\u001B[38;5;241;43m.\u001B[39;49m\u001B[43m_validate\u001B[49m\u001B[43m(\u001B[49m\n\u001B[1;32m    127\u001B[0m \u001B[43m    \u001B[49m\u001B[43mcheck_obj\u001B[49m\u001B[38;5;241;43m=\u001B[39;49m\u001B[43mcheck_obj\u001B[49m\u001B[43m,\u001B[49m\n\u001B[1;32m    128\u001B[0m \u001B[43m    \u001B[49m\u001B[43mhead\u001B[49m\u001B[38;5;241;43m=\u001B[39;49m\u001B[43mhead\u001B[49m\u001B[43m,\u001B[49m\n\u001B[1;32m    129\u001B[0m \u001B[43m    \u001B[49m\u001B[43mtail\u001B[49m\u001B[38;5;241;43m=\u001B[39;49m\u001B[43mtail\u001B[49m\u001B[43m,\u001B[49m\n\u001B[1;32m    130\u001B[0m \u001B[43m    \u001B[49m\u001B[43msample\u001B[49m\u001B[38;5;241;43m=\u001B[39;49m\u001B[43msample\u001B[49m\u001B[43m,\u001B[49m\n\u001B[1;32m    131\u001B[0m \u001B[43m    \u001B[49m\u001B[43mrandom_state\u001B[49m\u001B[38;5;241;43m=\u001B[39;49m\u001B[43mrandom_state\u001B[49m\u001B[43m,\u001B[49m\n\u001B[1;32m    132\u001B[0m \u001B[43m    \u001B[49m\u001B[43mlazy\u001B[49m\u001B[38;5;241;43m=\u001B[39;49m\u001B[43mlazy\u001B[49m\u001B[43m,\u001B[49m\n\u001B[1;32m    133\u001B[0m \u001B[43m    \u001B[49m\u001B[43minplace\u001B[49m\u001B[38;5;241;43m=\u001B[39;49m\u001B[43minplace\u001B[49m\u001B[43m,\u001B[49m\n\u001B[1;32m    134\u001B[0m \u001B[43m\u001B[49m\u001B[43m)\u001B[49m\n",
      "File \u001B[0;32m~/.pyenv/versions/miniforge3-latest/envs/prc/lib/python3.12/site-packages/pandera/api/pandas/container.py:155\u001B[0m, in \u001B[0;36mDataFrameSchema._validate\u001B[0;34m(self, check_obj, head, tail, sample, random_state, lazy, inplace)\u001B[0m\n\u001B[1;32m    146\u001B[0m \u001B[38;5;28;01mif\u001B[39;00m \u001B[38;5;28mself\u001B[39m\u001B[38;5;241m.\u001B[39m_is_inferred:\n\u001B[1;32m    147\u001B[0m     warnings\u001B[38;5;241m.\u001B[39mwarn(\n\u001B[1;32m    148\u001B[0m         \u001B[38;5;124mf\u001B[39m\u001B[38;5;124m\"\u001B[39m\u001B[38;5;124mThis \u001B[39m\u001B[38;5;132;01m{\u001B[39;00m\u001B[38;5;28mtype\u001B[39m(\u001B[38;5;28mself\u001B[39m)\u001B[38;5;132;01m}\u001B[39;00m\u001B[38;5;124m is an inferred schema that hasn\u001B[39m\u001B[38;5;124m'\u001B[39m\u001B[38;5;124mt been \u001B[39m\u001B[38;5;124m\"\u001B[39m\n\u001B[1;32m    149\u001B[0m         \u001B[38;5;124m\"\u001B[39m\u001B[38;5;124mmodified. It\u001B[39m\u001B[38;5;124m'\u001B[39m\u001B[38;5;124ms recommended that you refine the schema \u001B[39m\u001B[38;5;124m\"\u001B[39m\n\u001B[0;32m   (...)\u001B[0m\n\u001B[1;32m    152\u001B[0m         \u001B[38;5;167;01mUserWarning\u001B[39;00m,\n\u001B[1;32m    153\u001B[0m     )\n\u001B[0;32m--> 155\u001B[0m \u001B[38;5;28;01mreturn\u001B[39;00m \u001B[38;5;28;43mself\u001B[39;49m\u001B[38;5;241;43m.\u001B[39;49m\u001B[43mget_backend\u001B[49m\u001B[43m(\u001B[49m\u001B[43mcheck_obj\u001B[49m\u001B[43m)\u001B[49m\u001B[38;5;241;43m.\u001B[39;49m\u001B[43mvalidate\u001B[49m\u001B[43m(\u001B[49m\n\u001B[1;32m    156\u001B[0m \u001B[43m    \u001B[49m\u001B[43mcheck_obj\u001B[49m\u001B[43m,\u001B[49m\n\u001B[1;32m    157\u001B[0m \u001B[43m    \u001B[49m\u001B[43mschema\u001B[49m\u001B[38;5;241;43m=\u001B[39;49m\u001B[38;5;28;43mself\u001B[39;49m\u001B[43m,\u001B[49m\n\u001B[1;32m    158\u001B[0m \u001B[43m    \u001B[49m\u001B[43mhead\u001B[49m\u001B[38;5;241;43m=\u001B[39;49m\u001B[43mhead\u001B[49m\u001B[43m,\u001B[49m\n\u001B[1;32m    159\u001B[0m \u001B[43m    \u001B[49m\u001B[43mtail\u001B[49m\u001B[38;5;241;43m=\u001B[39;49m\u001B[43mtail\u001B[49m\u001B[43m,\u001B[49m\n\u001B[1;32m    160\u001B[0m \u001B[43m    \u001B[49m\u001B[43msample\u001B[49m\u001B[38;5;241;43m=\u001B[39;49m\u001B[43msample\u001B[49m\u001B[43m,\u001B[49m\n\u001B[1;32m    161\u001B[0m \u001B[43m    \u001B[49m\u001B[43mrandom_state\u001B[49m\u001B[38;5;241;43m=\u001B[39;49m\u001B[43mrandom_state\u001B[49m\u001B[43m,\u001B[49m\n\u001B[1;32m    162\u001B[0m \u001B[43m    \u001B[49m\u001B[43mlazy\u001B[49m\u001B[38;5;241;43m=\u001B[39;49m\u001B[43mlazy\u001B[49m\u001B[43m,\u001B[49m\n\u001B[1;32m    163\u001B[0m \u001B[43m    \u001B[49m\u001B[43minplace\u001B[49m\u001B[38;5;241;43m=\u001B[39;49m\u001B[43minplace\u001B[49m\u001B[43m,\u001B[49m\n\u001B[1;32m    164\u001B[0m \u001B[43m\u001B[49m\u001B[43m)\u001B[49m\n",
      "File \u001B[0;32m~/.pyenv/versions/miniforge3-latest/envs/prc/lib/python3.12/site-packages/pandera/backends/pandas/container.py:105\u001B[0m, in \u001B[0;36mDataFrameSchemaBackend.validate\u001B[0;34m(self, check_obj, schema, head, tail, sample, random_state, lazy, inplace)\u001B[0m\n\u001B[1;32m    100\u001B[0m components \u001B[38;5;241m=\u001B[39m \u001B[38;5;28mself\u001B[39m\u001B[38;5;241m.\u001B[39mcollect_schema_components(\n\u001B[1;32m    101\u001B[0m     check_obj, schema, column_info\n\u001B[1;32m    102\u001B[0m )\n\u001B[1;32m    104\u001B[0m \u001B[38;5;66;03m# run the checks\u001B[39;00m\n\u001B[0;32m--> 105\u001B[0m error_handler \u001B[38;5;241m=\u001B[39m \u001B[38;5;28;43mself\u001B[39;49m\u001B[38;5;241;43m.\u001B[39;49m\u001B[43mrun_checks_and_handle_errors\u001B[49m\u001B[43m(\u001B[49m\n\u001B[1;32m    106\u001B[0m \u001B[43m    \u001B[49m\u001B[43merror_handler\u001B[49m\u001B[43m,\u001B[49m\n\u001B[1;32m    107\u001B[0m \u001B[43m    \u001B[49m\u001B[43mschema\u001B[49m\u001B[43m,\u001B[49m\n\u001B[1;32m    108\u001B[0m \u001B[43m    \u001B[49m\u001B[43mcheck_obj\u001B[49m\u001B[43m,\u001B[49m\n\u001B[1;32m    109\u001B[0m \u001B[43m    \u001B[49m\u001B[43mcolumn_info\u001B[49m\u001B[43m,\u001B[49m\n\u001B[1;32m    110\u001B[0m \u001B[43m    \u001B[49m\u001B[43msample\u001B[49m\u001B[43m,\u001B[49m\n\u001B[1;32m    111\u001B[0m \u001B[43m    \u001B[49m\u001B[43mcomponents\u001B[49m\u001B[43m,\u001B[49m\n\u001B[1;32m    112\u001B[0m \u001B[43m    \u001B[49m\u001B[43mlazy\u001B[49m\u001B[43m,\u001B[49m\n\u001B[1;32m    113\u001B[0m \u001B[43m    \u001B[49m\u001B[43mhead\u001B[49m\u001B[43m,\u001B[49m\n\u001B[1;32m    114\u001B[0m \u001B[43m    \u001B[49m\u001B[43mtail\u001B[49m\u001B[43m,\u001B[49m\n\u001B[1;32m    115\u001B[0m \u001B[43m    \u001B[49m\u001B[43mrandom_state\u001B[49m\u001B[43m,\u001B[49m\n\u001B[1;32m    116\u001B[0m \u001B[43m\u001B[49m\u001B[43m)\u001B[49m\n\u001B[1;32m    118\u001B[0m \u001B[38;5;28;01mif\u001B[39;00m error_handler\u001B[38;5;241m.\u001B[39mcollected_errors:\n\u001B[1;32m    119\u001B[0m     \u001B[38;5;28;01mif\u001B[39;00m \u001B[38;5;28mgetattr\u001B[39m(schema, \u001B[38;5;124m\"\u001B[39m\u001B[38;5;124mdrop_invalid_rows\u001B[39m\u001B[38;5;124m\"\u001B[39m, \u001B[38;5;28;01mFalse\u001B[39;00m):\n",
      "File \u001B[0;32m~/.pyenv/versions/miniforge3-latest/envs/prc/lib/python3.12/site-packages/pandera/backends/pandas/container.py:180\u001B[0m, in \u001B[0;36mDataFrameSchemaBackend.run_checks_and_handle_errors\u001B[0;34m(self, error_handler, schema, check_obj, column_info, sample, components, lazy, head, tail, random_state)\u001B[0m\n\u001B[1;32m    169\u001B[0m         \u001B[38;5;28;01melse\u001B[39;00m:\n\u001B[1;32m    170\u001B[0m             error \u001B[38;5;241m=\u001B[39m SchemaError(\n\u001B[1;32m    171\u001B[0m                 schema,\n\u001B[1;32m    172\u001B[0m                 data\u001B[38;5;241m=\u001B[39mcheck_obj,\n\u001B[0;32m   (...)\u001B[0m\n\u001B[1;32m    178\u001B[0m                 reason_code\u001B[38;5;241m=\u001B[39mresult\u001B[38;5;241m.\u001B[39mreason_code,\n\u001B[1;32m    179\u001B[0m             )\n\u001B[0;32m--> 180\u001B[0m         \u001B[43merror_handler\u001B[49m\u001B[38;5;241;43m.\u001B[39;49m\u001B[43mcollect_error\u001B[49m\u001B[43m(\u001B[49m\n\u001B[1;32m    181\u001B[0m \u001B[43m            \u001B[49m\u001B[43mvalidation_type\u001B[49m\u001B[43m(\u001B[49m\u001B[43mresult\u001B[49m\u001B[38;5;241;43m.\u001B[39;49m\u001B[43mreason_code\u001B[49m\u001B[43m)\u001B[49m\u001B[43m,\u001B[49m\n\u001B[1;32m    182\u001B[0m \u001B[43m            \u001B[49m\u001B[43mresult\u001B[49m\u001B[38;5;241;43m.\u001B[39;49m\u001B[43mreason_code\u001B[49m\u001B[43m,\u001B[49m\n\u001B[1;32m    183\u001B[0m \u001B[43m            \u001B[49m\u001B[43merror\u001B[49m\u001B[43m,\u001B[49m\n\u001B[1;32m    184\u001B[0m \u001B[43m            \u001B[49m\u001B[43mresult\u001B[49m\u001B[38;5;241;43m.\u001B[39;49m\u001B[43moriginal_exc\u001B[49m\u001B[43m,\u001B[49m\n\u001B[1;32m    185\u001B[0m \u001B[43m        \u001B[49m\u001B[43m)\u001B[49m\n\u001B[1;32m    187\u001B[0m \u001B[38;5;28;01mreturn\u001B[39;00m error_handler\n",
      "File \u001B[0;32m~/.pyenv/versions/miniforge3-latest/envs/prc/lib/python3.12/site-packages/pandera/api/base/error_handler.py:54\u001B[0m, in \u001B[0;36mErrorHandler.collect_error\u001B[0;34m(self, error_type, reason_code, schema_error, original_exc)\u001B[0m\n\u001B[1;32m     47\u001B[0m \u001B[38;5;250m\u001B[39m\u001B[38;5;124;03m\"\"\"Collect schema error, raising exception if lazy is False.\u001B[39;00m\n\u001B[1;32m     48\u001B[0m \n\u001B[1;32m     49\u001B[0m \u001B[38;5;124;03m:param error_type: type of error\u001B[39;00m\n\u001B[1;32m     50\u001B[0m \u001B[38;5;124;03m:param reason_code: string representing reason for error\u001B[39;00m\n\u001B[1;32m     51\u001B[0m \u001B[38;5;124;03m:param schema_error: ``SchemaError`` object.\u001B[39;00m\n\u001B[1;32m     52\u001B[0m \u001B[38;5;124;03m\"\"\"\u001B[39;00m\n\u001B[1;32m     53\u001B[0m \u001B[38;5;28;01mif\u001B[39;00m \u001B[38;5;129;01mnot\u001B[39;00m \u001B[38;5;28mself\u001B[39m\u001B[38;5;241m.\u001B[39m_lazy:\n\u001B[0;32m---> 54\u001B[0m     \u001B[38;5;28;01mraise\u001B[39;00m schema_error \u001B[38;5;28;01mfrom\u001B[39;00m \u001B[38;5;21;01moriginal_exc\u001B[39;00m\n\u001B[1;32m     56\u001B[0m \u001B[38;5;66;03m# delete data of validated object from SchemaError object to prevent\u001B[39;00m\n\u001B[1;32m     57\u001B[0m \u001B[38;5;66;03m# storing copies of the validated DataFrame/Series for every\u001B[39;00m\n\u001B[1;32m     58\u001B[0m \u001B[38;5;66;03m# SchemaError collected.\u001B[39;00m\n\u001B[1;32m     59\u001B[0m \u001B[38;5;28;01mif\u001B[39;00m \u001B[38;5;28mhasattr\u001B[39m(schema_error, \u001B[38;5;124m\"\u001B[39m\u001B[38;5;124mdata\u001B[39m\u001B[38;5;124m\"\u001B[39m):\n",
      "File \u001B[0;32m~/.pyenv/versions/miniforge3-latest/envs/prc/lib/python3.12/site-packages/pandera/backends/pandas/container.py:201\u001B[0m, in \u001B[0;36mDataFrameSchemaBackend.run_schema_component_checks\u001B[0;34m(self, check_obj, schema_components, lazy)\u001B[0m\n\u001B[1;32m    199\u001B[0m \u001B[38;5;28;01mfor\u001B[39;00m schema_component \u001B[38;5;129;01min\u001B[39;00m schema_components:\n\u001B[1;32m    200\u001B[0m     \u001B[38;5;28;01mtry\u001B[39;00m:\n\u001B[0;32m--> 201\u001B[0m         result \u001B[38;5;241m=\u001B[39m \u001B[43mschema_component\u001B[49m\u001B[38;5;241;43m.\u001B[39;49m\u001B[43mvalidate\u001B[49m\u001B[43m(\u001B[49m\n\u001B[1;32m    202\u001B[0m \u001B[43m            \u001B[49m\u001B[43mcheck_obj\u001B[49m\u001B[43m,\u001B[49m\u001B[43m \u001B[49m\u001B[43mlazy\u001B[49m\u001B[38;5;241;43m=\u001B[39;49m\u001B[43mlazy\u001B[49m\u001B[43m,\u001B[49m\u001B[43m \u001B[49m\u001B[43minplace\u001B[49m\u001B[38;5;241;43m=\u001B[39;49m\u001B[38;5;28;43;01mTrue\u001B[39;49;00m\n\u001B[1;32m    203\u001B[0m \u001B[43m        \u001B[49m\u001B[43m)\u001B[49m\n\u001B[1;32m    204\u001B[0m         check_passed\u001B[38;5;241m.\u001B[39mappend(is_table(result))\n\u001B[1;32m    205\u001B[0m     \u001B[38;5;28;01mexcept\u001B[39;00m SchemaError \u001B[38;5;28;01mas\u001B[39;00m err:\n",
      "File \u001B[0;32m~/.pyenv/versions/miniforge3-latest/envs/prc/lib/python3.12/site-packages/pandera/api/dataframe/components.py:162\u001B[0m, in \u001B[0;36mComponentSchema.validate\u001B[0;34m(self, check_obj, head, tail, sample, random_state, lazy, inplace)\u001B[0m\n\u001B[1;32m    133\u001B[0m \u001B[38;5;28;01mdef\u001B[39;00m \u001B[38;5;21mvalidate\u001B[39m(\n\u001B[1;32m    134\u001B[0m     \u001B[38;5;28mself\u001B[39m,\n\u001B[1;32m    135\u001B[0m     check_obj,\n\u001B[0;32m   (...)\u001B[0m\n\u001B[1;32m    142\u001B[0m ):\n\u001B[1;32m    143\u001B[0m     \u001B[38;5;66;03m# pylint: disable=too-many-locals,too-many-branches,too-many-statements\u001B[39;00m\n\u001B[1;32m    144\u001B[0m \u001B[38;5;250m    \u001B[39m\u001B[38;5;124;03m\"\"\"Validate a series or specific column in dataframe.\u001B[39;00m\n\u001B[1;32m    145\u001B[0m \n\u001B[1;32m    146\u001B[0m \u001B[38;5;124;03m    :check_obj: data object to validate.\u001B[39;00m\n\u001B[0;32m   (...)\u001B[0m\n\u001B[1;32m    160\u001B[0m \n\u001B[1;32m    161\u001B[0m \u001B[38;5;124;03m    \"\"\"\u001B[39;00m\n\u001B[0;32m--> 162\u001B[0m     \u001B[38;5;28;01mreturn\u001B[39;00m \u001B[38;5;28;43mself\u001B[39;49m\u001B[38;5;241;43m.\u001B[39;49m\u001B[43mget_backend\u001B[49m\u001B[43m(\u001B[49m\u001B[43mcheck_obj\u001B[49m\u001B[43m)\u001B[49m\u001B[38;5;241;43m.\u001B[39;49m\u001B[43mvalidate\u001B[49m\u001B[43m(\u001B[49m\n\u001B[1;32m    163\u001B[0m \u001B[43m        \u001B[49m\u001B[43mcheck_obj\u001B[49m\u001B[43m,\u001B[49m\n\u001B[1;32m    164\u001B[0m \u001B[43m        \u001B[49m\u001B[43mschema\u001B[49m\u001B[38;5;241;43m=\u001B[39;49m\u001B[38;5;28;43mself\u001B[39;49m\u001B[43m,\u001B[49m\n\u001B[1;32m    165\u001B[0m \u001B[43m        \u001B[49m\u001B[43mhead\u001B[49m\u001B[38;5;241;43m=\u001B[39;49m\u001B[43mhead\u001B[49m\u001B[43m,\u001B[49m\n\u001B[1;32m    166\u001B[0m \u001B[43m        \u001B[49m\u001B[43mtail\u001B[49m\u001B[38;5;241;43m=\u001B[39;49m\u001B[43mtail\u001B[49m\u001B[43m,\u001B[49m\n\u001B[1;32m    167\u001B[0m \u001B[43m        \u001B[49m\u001B[43msample\u001B[49m\u001B[38;5;241;43m=\u001B[39;49m\u001B[43msample\u001B[49m\u001B[43m,\u001B[49m\n\u001B[1;32m    168\u001B[0m \u001B[43m        \u001B[49m\u001B[43mrandom_state\u001B[49m\u001B[38;5;241;43m=\u001B[39;49m\u001B[43mrandom_state\u001B[49m\u001B[43m,\u001B[49m\n\u001B[1;32m    169\u001B[0m \u001B[43m        \u001B[49m\u001B[43mlazy\u001B[49m\u001B[38;5;241;43m=\u001B[39;49m\u001B[43mlazy\u001B[49m\u001B[43m,\u001B[49m\n\u001B[1;32m    170\u001B[0m \u001B[43m        \u001B[49m\u001B[43minplace\u001B[49m\u001B[38;5;241;43m=\u001B[39;49m\u001B[43minplace\u001B[49m\u001B[43m,\u001B[49m\n\u001B[1;32m    171\u001B[0m \u001B[43m    \u001B[49m\u001B[43m)\u001B[49m\n",
      "File \u001B[0;32m~/.pyenv/versions/miniforge3-latest/envs/prc/lib/python3.12/site-packages/pandera/backends/pandas/components.py:136\u001B[0m, in \u001B[0;36mColumnBackend.validate\u001B[0;34m(self, check_obj, schema, head, tail, sample, random_state, lazy, inplace)\u001B[0m\n\u001B[1;32m    132\u001B[0m             check_obj \u001B[38;5;241m=\u001B[39m validate_column(\n\u001B[1;32m    133\u001B[0m                 check_obj, column_name, return_check_obj\u001B[38;5;241m=\u001B[39m\u001B[38;5;28;01mTrue\u001B[39;00m\n\u001B[1;32m    134\u001B[0m             )\n\u001B[1;32m    135\u001B[0m         \u001B[38;5;28;01melse\u001B[39;00m:\n\u001B[0;32m--> 136\u001B[0m             \u001B[43mvalidate_column\u001B[49m\u001B[43m(\u001B[49m\u001B[43mcheck_obj\u001B[49m\u001B[43m,\u001B[49m\u001B[43m \u001B[49m\u001B[43mcolumn_name\u001B[49m\u001B[43m)\u001B[49m\n\u001B[1;32m    138\u001B[0m \u001B[38;5;28;01mif\u001B[39;00m lazy \u001B[38;5;129;01mand\u001B[39;00m error_handler\u001B[38;5;241m.\u001B[39mcollected_errors:\n\u001B[1;32m    139\u001B[0m     \u001B[38;5;28;01mraise\u001B[39;00m SchemaErrors(\n\u001B[1;32m    140\u001B[0m         schema\u001B[38;5;241m=\u001B[39mschema,\n\u001B[1;32m    141\u001B[0m         schema_errors\u001B[38;5;241m=\u001B[39merror_handler\u001B[38;5;241m.\u001B[39mschema_errors,\n\u001B[1;32m    142\u001B[0m         data\u001B[38;5;241m=\u001B[39mcheck_obj,\n\u001B[1;32m    143\u001B[0m     )\n",
      "File \u001B[0;32m~/.pyenv/versions/miniforge3-latest/envs/prc/lib/python3.12/site-packages/pandera/backends/pandas/components.py:92\u001B[0m, in \u001B[0;36mColumnBackend.validate.<locals>.validate_column\u001B[0;34m(check_obj, column_name, return_check_obj)\u001B[0m\n\u001B[1;32m     88\u001B[0m         error_handler\u001B[38;5;241m.\u001B[39mcollect_error(\n\u001B[1;32m     89\u001B[0m             validation_type(err\u001B[38;5;241m.\u001B[39mreason_code), err\u001B[38;5;241m.\u001B[39mreason_code, err\n\u001B[1;32m     90\u001B[0m         )\n\u001B[1;32m     91\u001B[0m \u001B[38;5;28;01mexcept\u001B[39;00m SchemaError \u001B[38;5;28;01mas\u001B[39;00m err:\n\u001B[0;32m---> 92\u001B[0m     \u001B[43merror_handler\u001B[49m\u001B[38;5;241;43m.\u001B[39;49m\u001B[43mcollect_error\u001B[49m\u001B[43m(\u001B[49m\n\u001B[1;32m     93\u001B[0m \u001B[43m        \u001B[49m\u001B[43mvalidation_type\u001B[49m\u001B[43m(\u001B[49m\u001B[43merr\u001B[49m\u001B[38;5;241;43m.\u001B[39;49m\u001B[43mreason_code\u001B[49m\u001B[43m)\u001B[49m\u001B[43m,\u001B[49m\u001B[43m \u001B[49m\u001B[43merr\u001B[49m\u001B[38;5;241;43m.\u001B[39;49m\u001B[43mreason_code\u001B[49m\u001B[43m,\u001B[49m\u001B[43m \u001B[49m\u001B[43merr\u001B[49m\n\u001B[1;32m     94\u001B[0m \u001B[43m    \u001B[49m\u001B[43m)\u001B[49m\n",
      "File \u001B[0;32m~/.pyenv/versions/miniforge3-latest/envs/prc/lib/python3.12/site-packages/pandera/api/base/error_handler.py:54\u001B[0m, in \u001B[0;36mErrorHandler.collect_error\u001B[0;34m(self, error_type, reason_code, schema_error, original_exc)\u001B[0m\n\u001B[1;32m     47\u001B[0m \u001B[38;5;250m\u001B[39m\u001B[38;5;124;03m\"\"\"Collect schema error, raising exception if lazy is False.\u001B[39;00m\n\u001B[1;32m     48\u001B[0m \n\u001B[1;32m     49\u001B[0m \u001B[38;5;124;03m:param error_type: type of error\u001B[39;00m\n\u001B[1;32m     50\u001B[0m \u001B[38;5;124;03m:param reason_code: string representing reason for error\u001B[39;00m\n\u001B[1;32m     51\u001B[0m \u001B[38;5;124;03m:param schema_error: ``SchemaError`` object.\u001B[39;00m\n\u001B[1;32m     52\u001B[0m \u001B[38;5;124;03m\"\"\"\u001B[39;00m\n\u001B[1;32m     53\u001B[0m \u001B[38;5;28;01mif\u001B[39;00m \u001B[38;5;129;01mnot\u001B[39;00m \u001B[38;5;28mself\u001B[39m\u001B[38;5;241m.\u001B[39m_lazy:\n\u001B[0;32m---> 54\u001B[0m     \u001B[38;5;28;01mraise\u001B[39;00m schema_error \u001B[38;5;28;01mfrom\u001B[39;00m \u001B[38;5;21;01moriginal_exc\u001B[39;00m\n\u001B[1;32m     56\u001B[0m \u001B[38;5;66;03m# delete data of validated object from SchemaError object to prevent\u001B[39;00m\n\u001B[1;32m     57\u001B[0m \u001B[38;5;66;03m# storing copies of the validated DataFrame/Series for every\u001B[39;00m\n\u001B[1;32m     58\u001B[0m \u001B[38;5;66;03m# SchemaError collected.\u001B[39;00m\n\u001B[1;32m     59\u001B[0m \u001B[38;5;28;01mif\u001B[39;00m \u001B[38;5;28mhasattr\u001B[39m(schema_error, \u001B[38;5;124m\"\u001B[39m\u001B[38;5;124mdata\u001B[39m\u001B[38;5;124m\"\u001B[39m):\n",
      "File \u001B[0;32m~/.pyenv/versions/miniforge3-latest/envs/prc/lib/python3.12/site-packages/pandera/backends/pandas/components.py:72\u001B[0m, in \u001B[0;36mColumnBackend.validate.<locals>.validate_column\u001B[0;34m(check_obj, column_name, return_check_obj)\u001B[0m\n\u001B[1;32m     69\u001B[0m \u001B[38;5;28;01mdef\u001B[39;00m \u001B[38;5;21mvalidate_column\u001B[39m(check_obj, column_name, return_check_obj\u001B[38;5;241m=\u001B[39m\u001B[38;5;28;01mFalse\u001B[39;00m):\n\u001B[1;32m     70\u001B[0m     \u001B[38;5;28;01mtry\u001B[39;00m:\n\u001B[1;32m     71\u001B[0m         \u001B[38;5;66;03m# pylint: disable=super-with-arguments\u001B[39;00m\n\u001B[0;32m---> 72\u001B[0m         validated_check_obj \u001B[38;5;241m=\u001B[39m \u001B[38;5;28;43msuper\u001B[39;49m\u001B[43m(\u001B[49m\u001B[43mColumnBackend\u001B[49m\u001B[43m,\u001B[49m\u001B[43m \u001B[49m\u001B[38;5;28;43mself\u001B[39;49m\u001B[43m)\u001B[49m\u001B[38;5;241;43m.\u001B[39;49m\u001B[43mvalidate\u001B[49m\u001B[43m(\u001B[49m\n\u001B[1;32m     73\u001B[0m \u001B[43m            \u001B[49m\u001B[43mcheck_obj\u001B[49m\u001B[43m,\u001B[49m\n\u001B[1;32m     74\u001B[0m \u001B[43m            \u001B[49m\u001B[43mdeepcopy\u001B[49m\u001B[43m(\u001B[49m\u001B[43mschema\u001B[49m\u001B[43m)\u001B[49m\u001B[38;5;241;43m.\u001B[39;49m\u001B[43mset_name\u001B[49m\u001B[43m(\u001B[49m\u001B[43mcolumn_name\u001B[49m\u001B[43m)\u001B[49m\u001B[43m,\u001B[49m\n\u001B[1;32m     75\u001B[0m \u001B[43m            \u001B[49m\u001B[43mhead\u001B[49m\u001B[38;5;241;43m=\u001B[39;49m\u001B[43mhead\u001B[49m\u001B[43m,\u001B[49m\n\u001B[1;32m     76\u001B[0m \u001B[43m            \u001B[49m\u001B[43mtail\u001B[49m\u001B[38;5;241;43m=\u001B[39;49m\u001B[43mtail\u001B[49m\u001B[43m,\u001B[49m\n\u001B[1;32m     77\u001B[0m \u001B[43m            \u001B[49m\u001B[43msample\u001B[49m\u001B[38;5;241;43m=\u001B[39;49m\u001B[43msample\u001B[49m\u001B[43m,\u001B[49m\n\u001B[1;32m     78\u001B[0m \u001B[43m            \u001B[49m\u001B[43mrandom_state\u001B[49m\u001B[38;5;241;43m=\u001B[39;49m\u001B[43mrandom_state\u001B[49m\u001B[43m,\u001B[49m\n\u001B[1;32m     79\u001B[0m \u001B[43m            \u001B[49m\u001B[43mlazy\u001B[49m\u001B[38;5;241;43m=\u001B[39;49m\u001B[43mlazy\u001B[49m\u001B[43m,\u001B[49m\n\u001B[1;32m     80\u001B[0m \u001B[43m            \u001B[49m\u001B[43minplace\u001B[49m\u001B[38;5;241;43m=\u001B[39;49m\u001B[43minplace\u001B[49m\u001B[43m,\u001B[49m\n\u001B[1;32m     81\u001B[0m \u001B[43m        \u001B[49m\u001B[43m)\u001B[49m\n\u001B[1;32m     83\u001B[0m         \u001B[38;5;28;01mif\u001B[39;00m return_check_obj:\n\u001B[1;32m     84\u001B[0m             \u001B[38;5;28;01mreturn\u001B[39;00m validated_check_obj\n",
      "File \u001B[0;32m~/.pyenv/versions/miniforge3-latest/envs/prc/lib/python3.12/site-packages/pandera/backends/pandas/array.py:81\u001B[0m, in \u001B[0;36mArraySchemaBackend.validate\u001B[0;34m(self, check_obj, schema, head, tail, sample, random_state, lazy, inplace)\u001B[0m\n\u001B[1;32m     75\u001B[0m check_obj \u001B[38;5;241m=\u001B[39m \u001B[38;5;28mself\u001B[39m\u001B[38;5;241m.\u001B[39mrun_parsers(\n\u001B[1;32m     76\u001B[0m     schema,\n\u001B[1;32m     77\u001B[0m     check_obj,\n\u001B[1;32m     78\u001B[0m )\n\u001B[1;32m     80\u001B[0m \u001B[38;5;66;03m# run the core checks\u001B[39;00m\n\u001B[0;32m---> 81\u001B[0m error_handler \u001B[38;5;241m=\u001B[39m \u001B[38;5;28;43mself\u001B[39;49m\u001B[38;5;241;43m.\u001B[39;49m\u001B[43mrun_checks_and_handle_errors\u001B[49m\u001B[43m(\u001B[49m\n\u001B[1;32m     82\u001B[0m \u001B[43m    \u001B[49m\u001B[43merror_handler\u001B[49m\u001B[43m,\u001B[49m\n\u001B[1;32m     83\u001B[0m \u001B[43m    \u001B[49m\u001B[43mschema\u001B[49m\u001B[43m,\u001B[49m\n\u001B[1;32m     84\u001B[0m \u001B[43m    \u001B[49m\u001B[43mcheck_obj\u001B[49m\u001B[43m,\u001B[49m\n\u001B[1;32m     85\u001B[0m \u001B[43m    \u001B[49m\u001B[43mhead\u001B[49m\u001B[38;5;241;43m=\u001B[39;49m\u001B[43mhead\u001B[49m\u001B[43m,\u001B[49m\n\u001B[1;32m     86\u001B[0m \u001B[43m    \u001B[49m\u001B[43mtail\u001B[49m\u001B[38;5;241;43m=\u001B[39;49m\u001B[43mtail\u001B[49m\u001B[43m,\u001B[49m\n\u001B[1;32m     87\u001B[0m \u001B[43m    \u001B[49m\u001B[43msample\u001B[49m\u001B[38;5;241;43m=\u001B[39;49m\u001B[43msample\u001B[49m\u001B[43m,\u001B[49m\n\u001B[1;32m     88\u001B[0m \u001B[43m    \u001B[49m\u001B[43mrandom_state\u001B[49m\u001B[38;5;241;43m=\u001B[39;49m\u001B[43mrandom_state\u001B[49m\u001B[43m,\u001B[49m\n\u001B[1;32m     89\u001B[0m \u001B[43m\u001B[49m\u001B[43m)\u001B[49m\n\u001B[1;32m     91\u001B[0m \u001B[38;5;28;01mif\u001B[39;00m lazy \u001B[38;5;129;01mand\u001B[39;00m error_handler\u001B[38;5;241m.\u001B[39mcollected_errors:\n\u001B[1;32m     92\u001B[0m     \u001B[38;5;28;01mif\u001B[39;00m \u001B[38;5;28mgetattr\u001B[39m(schema, \u001B[38;5;124m\"\u001B[39m\u001B[38;5;124mdrop_invalid_rows\u001B[39m\u001B[38;5;124m\"\u001B[39m, \u001B[38;5;28;01mFalse\u001B[39;00m):\n",
      "File \u001B[0;32m~/.pyenv/versions/miniforge3-latest/envs/prc/lib/python3.12/site-packages/pandera/backends/pandas/array.py:145\u001B[0m, in \u001B[0;36mArraySchemaBackend.run_checks_and_handle_errors\u001B[0;34m(self, error_handler, schema, check_obj, **subsample_kwargs)\u001B[0m\n\u001B[1;32m    134\u001B[0m         \u001B[38;5;28;01melse\u001B[39;00m:\n\u001B[1;32m    135\u001B[0m             error \u001B[38;5;241m=\u001B[39m SchemaError(\n\u001B[1;32m    136\u001B[0m                 schema\u001B[38;5;241m=\u001B[39mschema,\n\u001B[1;32m    137\u001B[0m                 data\u001B[38;5;241m=\u001B[39mcheck_obj,\n\u001B[0;32m   (...)\u001B[0m\n\u001B[1;32m    143\u001B[0m                 reason_code\u001B[38;5;241m=\u001B[39mresult\u001B[38;5;241m.\u001B[39mreason_code,\n\u001B[1;32m    144\u001B[0m             )\n\u001B[0;32m--> 145\u001B[0m             \u001B[43merror_handler\u001B[49m\u001B[38;5;241;43m.\u001B[39;49m\u001B[43mcollect_error\u001B[49m\u001B[43m(\u001B[49m\n\u001B[1;32m    146\u001B[0m \u001B[43m                \u001B[49m\u001B[43mvalidation_type\u001B[49m\u001B[43m(\u001B[49m\u001B[43mresult\u001B[49m\u001B[38;5;241;43m.\u001B[39;49m\u001B[43mreason_code\u001B[49m\u001B[43m)\u001B[49m\u001B[43m,\u001B[49m\n\u001B[1;32m    147\u001B[0m \u001B[43m                \u001B[49m\u001B[43mresult\u001B[49m\u001B[38;5;241;43m.\u001B[39;49m\u001B[43mreason_code\u001B[49m\u001B[43m,\u001B[49m\n\u001B[1;32m    148\u001B[0m \u001B[43m                \u001B[49m\u001B[43merror\u001B[49m\u001B[43m,\u001B[49m\n\u001B[1;32m    149\u001B[0m \u001B[43m                \u001B[49m\u001B[43moriginal_exc\u001B[49m\u001B[38;5;241;43m=\u001B[39;49m\u001B[43mresult\u001B[49m\u001B[38;5;241;43m.\u001B[39;49m\u001B[43moriginal_exc\u001B[49m\u001B[43m,\u001B[49m\n\u001B[1;32m    150\u001B[0m \u001B[43m            \u001B[49m\u001B[43m)\u001B[49m\n\u001B[1;32m    152\u001B[0m \u001B[38;5;28;01mreturn\u001B[39;00m error_handler\n",
      "File \u001B[0;32m~/.pyenv/versions/miniforge3-latest/envs/prc/lib/python3.12/site-packages/pandera/api/base/error_handler.py:54\u001B[0m, in \u001B[0;36mErrorHandler.collect_error\u001B[0;34m(self, error_type, reason_code, schema_error, original_exc)\u001B[0m\n\u001B[1;32m     47\u001B[0m \u001B[38;5;250m\u001B[39m\u001B[38;5;124;03m\"\"\"Collect schema error, raising exception if lazy is False.\u001B[39;00m\n\u001B[1;32m     48\u001B[0m \n\u001B[1;32m     49\u001B[0m \u001B[38;5;124;03m:param error_type: type of error\u001B[39;00m\n\u001B[1;32m     50\u001B[0m \u001B[38;5;124;03m:param reason_code: string representing reason for error\u001B[39;00m\n\u001B[1;32m     51\u001B[0m \u001B[38;5;124;03m:param schema_error: ``SchemaError`` object.\u001B[39;00m\n\u001B[1;32m     52\u001B[0m \u001B[38;5;124;03m\"\"\"\u001B[39;00m\n\u001B[1;32m     53\u001B[0m \u001B[38;5;28;01mif\u001B[39;00m \u001B[38;5;129;01mnot\u001B[39;00m \u001B[38;5;28mself\u001B[39m\u001B[38;5;241m.\u001B[39m_lazy:\n\u001B[0;32m---> 54\u001B[0m     \u001B[38;5;28;01mraise\u001B[39;00m schema_error \u001B[38;5;28;01mfrom\u001B[39;00m \u001B[38;5;21;01moriginal_exc\u001B[39;00m\n\u001B[1;32m     56\u001B[0m \u001B[38;5;66;03m# delete data of validated object from SchemaError object to prevent\u001B[39;00m\n\u001B[1;32m     57\u001B[0m \u001B[38;5;66;03m# storing copies of the validated DataFrame/Series for every\u001B[39;00m\n\u001B[1;32m     58\u001B[0m \u001B[38;5;66;03m# SchemaError collected.\u001B[39;00m\n\u001B[1;32m     59\u001B[0m \u001B[38;5;28;01mif\u001B[39;00m \u001B[38;5;28mhasattr\u001B[39m(schema_error, \u001B[38;5;124m\"\u001B[39m\u001B[38;5;124mdata\u001B[39m\u001B[38;5;124m\"\u001B[39m):\n",
      "\u001B[0;31mSchemaError\u001B[0m: Column 'column1' failed element-wise validator number 0: less_than_or_equal_to(10) failure cases: 11"
     ]
    }
   ],
   "execution_count": 21
  },
  {
   "metadata": {
    "ExecuteTime": {
     "end_time": "2024-09-17T07:28:59.587438750Z",
     "start_time": "2024-09-14T05:46:43.709421Z"
    }
   },
   "cell_type": "code",
   "source": [
    "from pandera.typing import Series\n",
    "\n",
    "class Schema(pa.DataFrameModel):\n",
    "\n",
    "    column1: int = pa.Field(le=10)\n",
    "    column2: float = pa.Field(lt=-1.2)\n",
    "    column3: str = pa.Field(str_startswith=\"value_\")\n",
    "\n",
    "    @pa.check(\"column3\")\n",
    "    def column_3_check(cls, series: Series[str]) -> Series[bool]:\n",
    "        \"\"\"Check that column3 values have two elements after being split with '_'\"\"\"\n",
    "        return series.str.split(\"_\", expand=True).shape[1] == 2\n",
    "\n",
    "Schema.validate(df)"
   ],
   "id": "e7825863ecc902e",
   "outputs": [
    {
     "ename": "SchemaError",
     "evalue": "Column 'column1' failed element-wise validator number 0: less_than_or_equal_to(10) failure cases: 11",
     "output_type": "error",
     "traceback": [
      "\u001B[0;31m---------------------------------------------------------------------------\u001B[0m",
      "\u001B[0;31mSchemaError\u001B[0m                               Traceback (most recent call last)",
      "Cell \u001B[0;32mIn[3], line 14\u001B[0m\n\u001B[1;32m     11\u001B[0m \u001B[38;5;250m        \u001B[39m\u001B[38;5;124;03m\"\"\"Check that column3 values have two elements after being split with '_'\"\"\"\u001B[39;00m\n\u001B[1;32m     12\u001B[0m         \u001B[38;5;28;01mreturn\u001B[39;00m series\u001B[38;5;241m.\u001B[39mstr\u001B[38;5;241m.\u001B[39msplit(\u001B[38;5;124m\"\u001B[39m\u001B[38;5;124m_\u001B[39m\u001B[38;5;124m\"\u001B[39m, expand\u001B[38;5;241m=\u001B[39m\u001B[38;5;28;01mTrue\u001B[39;00m)\u001B[38;5;241m.\u001B[39mshape[\u001B[38;5;241m1\u001B[39m] \u001B[38;5;241m==\u001B[39m \u001B[38;5;241m2\u001B[39m\n\u001B[0;32m---> 14\u001B[0m \u001B[43mSchema\u001B[49m\u001B[38;5;241;43m.\u001B[39;49m\u001B[43mvalidate\u001B[49m\u001B[43m(\u001B[49m\u001B[43mdf\u001B[49m\u001B[43m)\u001B[49m\n",
      "File \u001B[0;32m~/.pyenv/versions/miniforge3-latest/envs/prc/lib/python3.12/site-packages/pandera/api/dataframe/model.py:289\u001B[0m, in \u001B[0;36mDataFrameModel.validate\u001B[0;34m(cls, check_obj, head, tail, sample, random_state, lazy, inplace)\u001B[0m\n\u001B[1;32m    274\u001B[0m \u001B[38;5;129m@classmethod\u001B[39m\n\u001B[1;32m    275\u001B[0m \u001B[38;5;129m@docstring_substitution\u001B[39m(validate_doc\u001B[38;5;241m=\u001B[39mBaseSchema\u001B[38;5;241m.\u001B[39mvalidate\u001B[38;5;241m.\u001B[39m\u001B[38;5;18m__doc__\u001B[39m)\n\u001B[1;32m    276\u001B[0m \u001B[38;5;28;01mdef\u001B[39;00m \u001B[38;5;21mvalidate\u001B[39m(\n\u001B[0;32m   (...)\u001B[0m\n\u001B[1;32m    284\u001B[0m     inplace: \u001B[38;5;28mbool\u001B[39m \u001B[38;5;241m=\u001B[39m \u001B[38;5;28;01mFalse\u001B[39;00m,\n\u001B[1;32m    285\u001B[0m ) \u001B[38;5;241m-\u001B[39m\u001B[38;5;241m>\u001B[39m DataFrameBase[TDataFrameModel]:\n\u001B[1;32m    286\u001B[0m \u001B[38;5;250m    \u001B[39m\u001B[38;5;124;03m\"\"\"%(validate_doc)s\"\"\"\u001B[39;00m\n\u001B[1;32m    287\u001B[0m     \u001B[38;5;28;01mreturn\u001B[39;00m cast(\n\u001B[1;32m    288\u001B[0m         DataFrameBase[TDataFrameModel],\n\u001B[0;32m--> 289\u001B[0m         \u001B[38;5;28;43mcls\u001B[39;49m\u001B[38;5;241;43m.\u001B[39;49m\u001B[43mto_schema\u001B[49m\u001B[43m(\u001B[49m\u001B[43m)\u001B[49m\u001B[38;5;241;43m.\u001B[39;49m\u001B[43mvalidate\u001B[49m\u001B[43m(\u001B[49m\n\u001B[1;32m    290\u001B[0m \u001B[43m            \u001B[49m\u001B[43mcheck_obj\u001B[49m\u001B[43m,\u001B[49m\u001B[43m \u001B[49m\u001B[43mhead\u001B[49m\u001B[43m,\u001B[49m\u001B[43m \u001B[49m\u001B[43mtail\u001B[49m\u001B[43m,\u001B[49m\u001B[43m \u001B[49m\u001B[43msample\u001B[49m\u001B[43m,\u001B[49m\u001B[43m \u001B[49m\u001B[43mrandom_state\u001B[49m\u001B[43m,\u001B[49m\u001B[43m \u001B[49m\u001B[43mlazy\u001B[49m\u001B[43m,\u001B[49m\u001B[43m \u001B[49m\u001B[43minplace\u001B[49m\n\u001B[1;32m    291\u001B[0m \u001B[43m        \u001B[49m\u001B[43m)\u001B[49m,\n\u001B[1;32m    292\u001B[0m     )\n",
      "File \u001B[0;32m~/.pyenv/versions/miniforge3-latest/envs/prc/lib/python3.12/site-packages/pandera/api/pandas/container.py:126\u001B[0m, in \u001B[0;36mDataFrameSchema.validate\u001B[0;34m(self, check_obj, head, tail, sample, random_state, lazy, inplace)\u001B[0m\n\u001B[1;32m    114\u001B[0m     check_obj \u001B[38;5;241m=\u001B[39m check_obj\u001B[38;5;241m.\u001B[39mmap_partitions(  \u001B[38;5;66;03m# type: ignore [operator]\u001B[39;00m\n\u001B[1;32m    115\u001B[0m         \u001B[38;5;28mself\u001B[39m\u001B[38;5;241m.\u001B[39m_validate,\n\u001B[1;32m    116\u001B[0m         head\u001B[38;5;241m=\u001B[39mhead,\n\u001B[0;32m   (...)\u001B[0m\n\u001B[1;32m    122\u001B[0m         meta\u001B[38;5;241m=\u001B[39mcheck_obj,\n\u001B[1;32m    123\u001B[0m     )\n\u001B[1;32m    124\u001B[0m     \u001B[38;5;28;01mreturn\u001B[39;00m check_obj\u001B[38;5;241m.\u001B[39mpandera\u001B[38;5;241m.\u001B[39madd_schema(\u001B[38;5;28mself\u001B[39m)\n\u001B[0;32m--> 126\u001B[0m \u001B[38;5;28;01mreturn\u001B[39;00m \u001B[38;5;28;43mself\u001B[39;49m\u001B[38;5;241;43m.\u001B[39;49m\u001B[43m_validate\u001B[49m\u001B[43m(\u001B[49m\n\u001B[1;32m    127\u001B[0m \u001B[43m    \u001B[49m\u001B[43mcheck_obj\u001B[49m\u001B[38;5;241;43m=\u001B[39;49m\u001B[43mcheck_obj\u001B[49m\u001B[43m,\u001B[49m\n\u001B[1;32m    128\u001B[0m \u001B[43m    \u001B[49m\u001B[43mhead\u001B[49m\u001B[38;5;241;43m=\u001B[39;49m\u001B[43mhead\u001B[49m\u001B[43m,\u001B[49m\n\u001B[1;32m    129\u001B[0m \u001B[43m    \u001B[49m\u001B[43mtail\u001B[49m\u001B[38;5;241;43m=\u001B[39;49m\u001B[43mtail\u001B[49m\u001B[43m,\u001B[49m\n\u001B[1;32m    130\u001B[0m \u001B[43m    \u001B[49m\u001B[43msample\u001B[49m\u001B[38;5;241;43m=\u001B[39;49m\u001B[43msample\u001B[49m\u001B[43m,\u001B[49m\n\u001B[1;32m    131\u001B[0m \u001B[43m    \u001B[49m\u001B[43mrandom_state\u001B[49m\u001B[38;5;241;43m=\u001B[39;49m\u001B[43mrandom_state\u001B[49m\u001B[43m,\u001B[49m\n\u001B[1;32m    132\u001B[0m \u001B[43m    \u001B[49m\u001B[43mlazy\u001B[49m\u001B[38;5;241;43m=\u001B[39;49m\u001B[43mlazy\u001B[49m\u001B[43m,\u001B[49m\n\u001B[1;32m    133\u001B[0m \u001B[43m    \u001B[49m\u001B[43minplace\u001B[49m\u001B[38;5;241;43m=\u001B[39;49m\u001B[43minplace\u001B[49m\u001B[43m,\u001B[49m\n\u001B[1;32m    134\u001B[0m \u001B[43m\u001B[49m\u001B[43m)\u001B[49m\n",
      "File \u001B[0;32m~/.pyenv/versions/miniforge3-latest/envs/prc/lib/python3.12/site-packages/pandera/api/pandas/container.py:155\u001B[0m, in \u001B[0;36mDataFrameSchema._validate\u001B[0;34m(self, check_obj, head, tail, sample, random_state, lazy, inplace)\u001B[0m\n\u001B[1;32m    146\u001B[0m \u001B[38;5;28;01mif\u001B[39;00m \u001B[38;5;28mself\u001B[39m\u001B[38;5;241m.\u001B[39m_is_inferred:\n\u001B[1;32m    147\u001B[0m     warnings\u001B[38;5;241m.\u001B[39mwarn(\n\u001B[1;32m    148\u001B[0m         \u001B[38;5;124mf\u001B[39m\u001B[38;5;124m\"\u001B[39m\u001B[38;5;124mThis \u001B[39m\u001B[38;5;132;01m{\u001B[39;00m\u001B[38;5;28mtype\u001B[39m(\u001B[38;5;28mself\u001B[39m)\u001B[38;5;132;01m}\u001B[39;00m\u001B[38;5;124m is an inferred schema that hasn\u001B[39m\u001B[38;5;124m'\u001B[39m\u001B[38;5;124mt been \u001B[39m\u001B[38;5;124m\"\u001B[39m\n\u001B[1;32m    149\u001B[0m         \u001B[38;5;124m\"\u001B[39m\u001B[38;5;124mmodified. It\u001B[39m\u001B[38;5;124m'\u001B[39m\u001B[38;5;124ms recommended that you refine the schema \u001B[39m\u001B[38;5;124m\"\u001B[39m\n\u001B[0;32m   (...)\u001B[0m\n\u001B[1;32m    152\u001B[0m         \u001B[38;5;167;01mUserWarning\u001B[39;00m,\n\u001B[1;32m    153\u001B[0m     )\n\u001B[0;32m--> 155\u001B[0m \u001B[38;5;28;01mreturn\u001B[39;00m \u001B[38;5;28;43mself\u001B[39;49m\u001B[38;5;241;43m.\u001B[39;49m\u001B[43mget_backend\u001B[49m\u001B[43m(\u001B[49m\u001B[43mcheck_obj\u001B[49m\u001B[43m)\u001B[49m\u001B[38;5;241;43m.\u001B[39;49m\u001B[43mvalidate\u001B[49m\u001B[43m(\u001B[49m\n\u001B[1;32m    156\u001B[0m \u001B[43m    \u001B[49m\u001B[43mcheck_obj\u001B[49m\u001B[43m,\u001B[49m\n\u001B[1;32m    157\u001B[0m \u001B[43m    \u001B[49m\u001B[43mschema\u001B[49m\u001B[38;5;241;43m=\u001B[39;49m\u001B[38;5;28;43mself\u001B[39;49m\u001B[43m,\u001B[49m\n\u001B[1;32m    158\u001B[0m \u001B[43m    \u001B[49m\u001B[43mhead\u001B[49m\u001B[38;5;241;43m=\u001B[39;49m\u001B[43mhead\u001B[49m\u001B[43m,\u001B[49m\n\u001B[1;32m    159\u001B[0m \u001B[43m    \u001B[49m\u001B[43mtail\u001B[49m\u001B[38;5;241;43m=\u001B[39;49m\u001B[43mtail\u001B[49m\u001B[43m,\u001B[49m\n\u001B[1;32m    160\u001B[0m \u001B[43m    \u001B[49m\u001B[43msample\u001B[49m\u001B[38;5;241;43m=\u001B[39;49m\u001B[43msample\u001B[49m\u001B[43m,\u001B[49m\n\u001B[1;32m    161\u001B[0m \u001B[43m    \u001B[49m\u001B[43mrandom_state\u001B[49m\u001B[38;5;241;43m=\u001B[39;49m\u001B[43mrandom_state\u001B[49m\u001B[43m,\u001B[49m\n\u001B[1;32m    162\u001B[0m \u001B[43m    \u001B[49m\u001B[43mlazy\u001B[49m\u001B[38;5;241;43m=\u001B[39;49m\u001B[43mlazy\u001B[49m\u001B[43m,\u001B[49m\n\u001B[1;32m    163\u001B[0m \u001B[43m    \u001B[49m\u001B[43minplace\u001B[49m\u001B[38;5;241;43m=\u001B[39;49m\u001B[43minplace\u001B[49m\u001B[43m,\u001B[49m\n\u001B[1;32m    164\u001B[0m \u001B[43m\u001B[49m\u001B[43m)\u001B[49m\n",
      "File \u001B[0;32m~/.pyenv/versions/miniforge3-latest/envs/prc/lib/python3.12/site-packages/pandera/backends/pandas/container.py:105\u001B[0m, in \u001B[0;36mDataFrameSchemaBackend.validate\u001B[0;34m(self, check_obj, schema, head, tail, sample, random_state, lazy, inplace)\u001B[0m\n\u001B[1;32m    100\u001B[0m components \u001B[38;5;241m=\u001B[39m \u001B[38;5;28mself\u001B[39m\u001B[38;5;241m.\u001B[39mcollect_schema_components(\n\u001B[1;32m    101\u001B[0m     check_obj, schema, column_info\n\u001B[1;32m    102\u001B[0m )\n\u001B[1;32m    104\u001B[0m \u001B[38;5;66;03m# run the checks\u001B[39;00m\n\u001B[0;32m--> 105\u001B[0m error_handler \u001B[38;5;241m=\u001B[39m \u001B[38;5;28;43mself\u001B[39;49m\u001B[38;5;241;43m.\u001B[39;49m\u001B[43mrun_checks_and_handle_errors\u001B[49m\u001B[43m(\u001B[49m\n\u001B[1;32m    106\u001B[0m \u001B[43m    \u001B[49m\u001B[43merror_handler\u001B[49m\u001B[43m,\u001B[49m\n\u001B[1;32m    107\u001B[0m \u001B[43m    \u001B[49m\u001B[43mschema\u001B[49m\u001B[43m,\u001B[49m\n\u001B[1;32m    108\u001B[0m \u001B[43m    \u001B[49m\u001B[43mcheck_obj\u001B[49m\u001B[43m,\u001B[49m\n\u001B[1;32m    109\u001B[0m \u001B[43m    \u001B[49m\u001B[43mcolumn_info\u001B[49m\u001B[43m,\u001B[49m\n\u001B[1;32m    110\u001B[0m \u001B[43m    \u001B[49m\u001B[43msample\u001B[49m\u001B[43m,\u001B[49m\n\u001B[1;32m    111\u001B[0m \u001B[43m    \u001B[49m\u001B[43mcomponents\u001B[49m\u001B[43m,\u001B[49m\n\u001B[1;32m    112\u001B[0m \u001B[43m    \u001B[49m\u001B[43mlazy\u001B[49m\u001B[43m,\u001B[49m\n\u001B[1;32m    113\u001B[0m \u001B[43m    \u001B[49m\u001B[43mhead\u001B[49m\u001B[43m,\u001B[49m\n\u001B[1;32m    114\u001B[0m \u001B[43m    \u001B[49m\u001B[43mtail\u001B[49m\u001B[43m,\u001B[49m\n\u001B[1;32m    115\u001B[0m \u001B[43m    \u001B[49m\u001B[43mrandom_state\u001B[49m\u001B[43m,\u001B[49m\n\u001B[1;32m    116\u001B[0m \u001B[43m\u001B[49m\u001B[43m)\u001B[49m\n\u001B[1;32m    118\u001B[0m \u001B[38;5;28;01mif\u001B[39;00m error_handler\u001B[38;5;241m.\u001B[39mcollected_errors:\n\u001B[1;32m    119\u001B[0m     \u001B[38;5;28;01mif\u001B[39;00m \u001B[38;5;28mgetattr\u001B[39m(schema, \u001B[38;5;124m\"\u001B[39m\u001B[38;5;124mdrop_invalid_rows\u001B[39m\u001B[38;5;124m\"\u001B[39m, \u001B[38;5;28;01mFalse\u001B[39;00m):\n",
      "File \u001B[0;32m~/.pyenv/versions/miniforge3-latest/envs/prc/lib/python3.12/site-packages/pandera/backends/pandas/container.py:180\u001B[0m, in \u001B[0;36mDataFrameSchemaBackend.run_checks_and_handle_errors\u001B[0;34m(self, error_handler, schema, check_obj, column_info, sample, components, lazy, head, tail, random_state)\u001B[0m\n\u001B[1;32m    169\u001B[0m         \u001B[38;5;28;01melse\u001B[39;00m:\n\u001B[1;32m    170\u001B[0m             error \u001B[38;5;241m=\u001B[39m SchemaError(\n\u001B[1;32m    171\u001B[0m                 schema,\n\u001B[1;32m    172\u001B[0m                 data\u001B[38;5;241m=\u001B[39mcheck_obj,\n\u001B[0;32m   (...)\u001B[0m\n\u001B[1;32m    178\u001B[0m                 reason_code\u001B[38;5;241m=\u001B[39mresult\u001B[38;5;241m.\u001B[39mreason_code,\n\u001B[1;32m    179\u001B[0m             )\n\u001B[0;32m--> 180\u001B[0m         \u001B[43merror_handler\u001B[49m\u001B[38;5;241;43m.\u001B[39;49m\u001B[43mcollect_error\u001B[49m\u001B[43m(\u001B[49m\n\u001B[1;32m    181\u001B[0m \u001B[43m            \u001B[49m\u001B[43mvalidation_type\u001B[49m\u001B[43m(\u001B[49m\u001B[43mresult\u001B[49m\u001B[38;5;241;43m.\u001B[39;49m\u001B[43mreason_code\u001B[49m\u001B[43m)\u001B[49m\u001B[43m,\u001B[49m\n\u001B[1;32m    182\u001B[0m \u001B[43m            \u001B[49m\u001B[43mresult\u001B[49m\u001B[38;5;241;43m.\u001B[39;49m\u001B[43mreason_code\u001B[49m\u001B[43m,\u001B[49m\n\u001B[1;32m    183\u001B[0m \u001B[43m            \u001B[49m\u001B[43merror\u001B[49m\u001B[43m,\u001B[49m\n\u001B[1;32m    184\u001B[0m \u001B[43m            \u001B[49m\u001B[43mresult\u001B[49m\u001B[38;5;241;43m.\u001B[39;49m\u001B[43moriginal_exc\u001B[49m\u001B[43m,\u001B[49m\n\u001B[1;32m    185\u001B[0m \u001B[43m        \u001B[49m\u001B[43m)\u001B[49m\n\u001B[1;32m    187\u001B[0m \u001B[38;5;28;01mreturn\u001B[39;00m error_handler\n",
      "File \u001B[0;32m~/.pyenv/versions/miniforge3-latest/envs/prc/lib/python3.12/site-packages/pandera/api/base/error_handler.py:54\u001B[0m, in \u001B[0;36mErrorHandler.collect_error\u001B[0;34m(self, error_type, reason_code, schema_error, original_exc)\u001B[0m\n\u001B[1;32m     47\u001B[0m \u001B[38;5;250m\u001B[39m\u001B[38;5;124;03m\"\"\"Collect schema error, raising exception if lazy is False.\u001B[39;00m\n\u001B[1;32m     48\u001B[0m \n\u001B[1;32m     49\u001B[0m \u001B[38;5;124;03m:param error_type: type of error\u001B[39;00m\n\u001B[1;32m     50\u001B[0m \u001B[38;5;124;03m:param reason_code: string representing reason for error\u001B[39;00m\n\u001B[1;32m     51\u001B[0m \u001B[38;5;124;03m:param schema_error: ``SchemaError`` object.\u001B[39;00m\n\u001B[1;32m     52\u001B[0m \u001B[38;5;124;03m\"\"\"\u001B[39;00m\n\u001B[1;32m     53\u001B[0m \u001B[38;5;28;01mif\u001B[39;00m \u001B[38;5;129;01mnot\u001B[39;00m \u001B[38;5;28mself\u001B[39m\u001B[38;5;241m.\u001B[39m_lazy:\n\u001B[0;32m---> 54\u001B[0m     \u001B[38;5;28;01mraise\u001B[39;00m schema_error \u001B[38;5;28;01mfrom\u001B[39;00m \u001B[38;5;21;01moriginal_exc\u001B[39;00m\n\u001B[1;32m     56\u001B[0m \u001B[38;5;66;03m# delete data of validated object from SchemaError object to prevent\u001B[39;00m\n\u001B[1;32m     57\u001B[0m \u001B[38;5;66;03m# storing copies of the validated DataFrame/Series for every\u001B[39;00m\n\u001B[1;32m     58\u001B[0m \u001B[38;5;66;03m# SchemaError collected.\u001B[39;00m\n\u001B[1;32m     59\u001B[0m \u001B[38;5;28;01mif\u001B[39;00m \u001B[38;5;28mhasattr\u001B[39m(schema_error, \u001B[38;5;124m\"\u001B[39m\u001B[38;5;124mdata\u001B[39m\u001B[38;5;124m\"\u001B[39m):\n",
      "File \u001B[0;32m~/.pyenv/versions/miniforge3-latest/envs/prc/lib/python3.12/site-packages/pandera/backends/pandas/container.py:201\u001B[0m, in \u001B[0;36mDataFrameSchemaBackend.run_schema_component_checks\u001B[0;34m(self, check_obj, schema_components, lazy)\u001B[0m\n\u001B[1;32m    199\u001B[0m \u001B[38;5;28;01mfor\u001B[39;00m schema_component \u001B[38;5;129;01min\u001B[39;00m schema_components:\n\u001B[1;32m    200\u001B[0m     \u001B[38;5;28;01mtry\u001B[39;00m:\n\u001B[0;32m--> 201\u001B[0m         result \u001B[38;5;241m=\u001B[39m \u001B[43mschema_component\u001B[49m\u001B[38;5;241;43m.\u001B[39;49m\u001B[43mvalidate\u001B[49m\u001B[43m(\u001B[49m\n\u001B[1;32m    202\u001B[0m \u001B[43m            \u001B[49m\u001B[43mcheck_obj\u001B[49m\u001B[43m,\u001B[49m\u001B[43m \u001B[49m\u001B[43mlazy\u001B[49m\u001B[38;5;241;43m=\u001B[39;49m\u001B[43mlazy\u001B[49m\u001B[43m,\u001B[49m\u001B[43m \u001B[49m\u001B[43minplace\u001B[49m\u001B[38;5;241;43m=\u001B[39;49m\u001B[38;5;28;43;01mTrue\u001B[39;49;00m\n\u001B[1;32m    203\u001B[0m \u001B[43m        \u001B[49m\u001B[43m)\u001B[49m\n\u001B[1;32m    204\u001B[0m         check_passed\u001B[38;5;241m.\u001B[39mappend(is_table(result))\n\u001B[1;32m    205\u001B[0m     \u001B[38;5;28;01mexcept\u001B[39;00m SchemaError \u001B[38;5;28;01mas\u001B[39;00m err:\n",
      "File \u001B[0;32m~/.pyenv/versions/miniforge3-latest/envs/prc/lib/python3.12/site-packages/pandera/api/dataframe/components.py:162\u001B[0m, in \u001B[0;36mComponentSchema.validate\u001B[0;34m(self, check_obj, head, tail, sample, random_state, lazy, inplace)\u001B[0m\n\u001B[1;32m    133\u001B[0m \u001B[38;5;28;01mdef\u001B[39;00m \u001B[38;5;21mvalidate\u001B[39m(\n\u001B[1;32m    134\u001B[0m     \u001B[38;5;28mself\u001B[39m,\n\u001B[1;32m    135\u001B[0m     check_obj,\n\u001B[0;32m   (...)\u001B[0m\n\u001B[1;32m    142\u001B[0m ):\n\u001B[1;32m    143\u001B[0m     \u001B[38;5;66;03m# pylint: disable=too-many-locals,too-many-branches,too-many-statements\u001B[39;00m\n\u001B[1;32m    144\u001B[0m \u001B[38;5;250m    \u001B[39m\u001B[38;5;124;03m\"\"\"Validate a series or specific column in dataframe.\u001B[39;00m\n\u001B[1;32m    145\u001B[0m \n\u001B[1;32m    146\u001B[0m \u001B[38;5;124;03m    :check_obj: data object to validate.\u001B[39;00m\n\u001B[0;32m   (...)\u001B[0m\n\u001B[1;32m    160\u001B[0m \n\u001B[1;32m    161\u001B[0m \u001B[38;5;124;03m    \"\"\"\u001B[39;00m\n\u001B[0;32m--> 162\u001B[0m     \u001B[38;5;28;01mreturn\u001B[39;00m \u001B[38;5;28;43mself\u001B[39;49m\u001B[38;5;241;43m.\u001B[39;49m\u001B[43mget_backend\u001B[49m\u001B[43m(\u001B[49m\u001B[43mcheck_obj\u001B[49m\u001B[43m)\u001B[49m\u001B[38;5;241;43m.\u001B[39;49m\u001B[43mvalidate\u001B[49m\u001B[43m(\u001B[49m\n\u001B[1;32m    163\u001B[0m \u001B[43m        \u001B[49m\u001B[43mcheck_obj\u001B[49m\u001B[43m,\u001B[49m\n\u001B[1;32m    164\u001B[0m \u001B[43m        \u001B[49m\u001B[43mschema\u001B[49m\u001B[38;5;241;43m=\u001B[39;49m\u001B[38;5;28;43mself\u001B[39;49m\u001B[43m,\u001B[49m\n\u001B[1;32m    165\u001B[0m \u001B[43m        \u001B[49m\u001B[43mhead\u001B[49m\u001B[38;5;241;43m=\u001B[39;49m\u001B[43mhead\u001B[49m\u001B[43m,\u001B[49m\n\u001B[1;32m    166\u001B[0m \u001B[43m        \u001B[49m\u001B[43mtail\u001B[49m\u001B[38;5;241;43m=\u001B[39;49m\u001B[43mtail\u001B[49m\u001B[43m,\u001B[49m\n\u001B[1;32m    167\u001B[0m \u001B[43m        \u001B[49m\u001B[43msample\u001B[49m\u001B[38;5;241;43m=\u001B[39;49m\u001B[43msample\u001B[49m\u001B[43m,\u001B[49m\n\u001B[1;32m    168\u001B[0m \u001B[43m        \u001B[49m\u001B[43mrandom_state\u001B[49m\u001B[38;5;241;43m=\u001B[39;49m\u001B[43mrandom_state\u001B[49m\u001B[43m,\u001B[49m\n\u001B[1;32m    169\u001B[0m \u001B[43m        \u001B[49m\u001B[43mlazy\u001B[49m\u001B[38;5;241;43m=\u001B[39;49m\u001B[43mlazy\u001B[49m\u001B[43m,\u001B[49m\n\u001B[1;32m    170\u001B[0m \u001B[43m        \u001B[49m\u001B[43minplace\u001B[49m\u001B[38;5;241;43m=\u001B[39;49m\u001B[43minplace\u001B[49m\u001B[43m,\u001B[49m\n\u001B[1;32m    171\u001B[0m \u001B[43m    \u001B[49m\u001B[43m)\u001B[49m\n",
      "File \u001B[0;32m~/.pyenv/versions/miniforge3-latest/envs/prc/lib/python3.12/site-packages/pandera/backends/pandas/components.py:136\u001B[0m, in \u001B[0;36mColumnBackend.validate\u001B[0;34m(self, check_obj, schema, head, tail, sample, random_state, lazy, inplace)\u001B[0m\n\u001B[1;32m    132\u001B[0m             check_obj \u001B[38;5;241m=\u001B[39m validate_column(\n\u001B[1;32m    133\u001B[0m                 check_obj, column_name, return_check_obj\u001B[38;5;241m=\u001B[39m\u001B[38;5;28;01mTrue\u001B[39;00m\n\u001B[1;32m    134\u001B[0m             )\n\u001B[1;32m    135\u001B[0m         \u001B[38;5;28;01melse\u001B[39;00m:\n\u001B[0;32m--> 136\u001B[0m             \u001B[43mvalidate_column\u001B[49m\u001B[43m(\u001B[49m\u001B[43mcheck_obj\u001B[49m\u001B[43m,\u001B[49m\u001B[43m \u001B[49m\u001B[43mcolumn_name\u001B[49m\u001B[43m)\u001B[49m\n\u001B[1;32m    138\u001B[0m \u001B[38;5;28;01mif\u001B[39;00m lazy \u001B[38;5;129;01mand\u001B[39;00m error_handler\u001B[38;5;241m.\u001B[39mcollected_errors:\n\u001B[1;32m    139\u001B[0m     \u001B[38;5;28;01mraise\u001B[39;00m SchemaErrors(\n\u001B[1;32m    140\u001B[0m         schema\u001B[38;5;241m=\u001B[39mschema,\n\u001B[1;32m    141\u001B[0m         schema_errors\u001B[38;5;241m=\u001B[39merror_handler\u001B[38;5;241m.\u001B[39mschema_errors,\n\u001B[1;32m    142\u001B[0m         data\u001B[38;5;241m=\u001B[39mcheck_obj,\n\u001B[1;32m    143\u001B[0m     )\n",
      "File \u001B[0;32m~/.pyenv/versions/miniforge3-latest/envs/prc/lib/python3.12/site-packages/pandera/backends/pandas/components.py:92\u001B[0m, in \u001B[0;36mColumnBackend.validate.<locals>.validate_column\u001B[0;34m(check_obj, column_name, return_check_obj)\u001B[0m\n\u001B[1;32m     88\u001B[0m         error_handler\u001B[38;5;241m.\u001B[39mcollect_error(\n\u001B[1;32m     89\u001B[0m             validation_type(err\u001B[38;5;241m.\u001B[39mreason_code), err\u001B[38;5;241m.\u001B[39mreason_code, err\n\u001B[1;32m     90\u001B[0m         )\n\u001B[1;32m     91\u001B[0m \u001B[38;5;28;01mexcept\u001B[39;00m SchemaError \u001B[38;5;28;01mas\u001B[39;00m err:\n\u001B[0;32m---> 92\u001B[0m     \u001B[43merror_handler\u001B[49m\u001B[38;5;241;43m.\u001B[39;49m\u001B[43mcollect_error\u001B[49m\u001B[43m(\u001B[49m\n\u001B[1;32m     93\u001B[0m \u001B[43m        \u001B[49m\u001B[43mvalidation_type\u001B[49m\u001B[43m(\u001B[49m\u001B[43merr\u001B[49m\u001B[38;5;241;43m.\u001B[39;49m\u001B[43mreason_code\u001B[49m\u001B[43m)\u001B[49m\u001B[43m,\u001B[49m\u001B[43m \u001B[49m\u001B[43merr\u001B[49m\u001B[38;5;241;43m.\u001B[39;49m\u001B[43mreason_code\u001B[49m\u001B[43m,\u001B[49m\u001B[43m \u001B[49m\u001B[43merr\u001B[49m\n\u001B[1;32m     94\u001B[0m \u001B[43m    \u001B[49m\u001B[43m)\u001B[49m\n",
      "File \u001B[0;32m~/.pyenv/versions/miniforge3-latest/envs/prc/lib/python3.12/site-packages/pandera/api/base/error_handler.py:54\u001B[0m, in \u001B[0;36mErrorHandler.collect_error\u001B[0;34m(self, error_type, reason_code, schema_error, original_exc)\u001B[0m\n\u001B[1;32m     47\u001B[0m \u001B[38;5;250m\u001B[39m\u001B[38;5;124;03m\"\"\"Collect schema error, raising exception if lazy is False.\u001B[39;00m\n\u001B[1;32m     48\u001B[0m \n\u001B[1;32m     49\u001B[0m \u001B[38;5;124;03m:param error_type: type of error\u001B[39;00m\n\u001B[1;32m     50\u001B[0m \u001B[38;5;124;03m:param reason_code: string representing reason for error\u001B[39;00m\n\u001B[1;32m     51\u001B[0m \u001B[38;5;124;03m:param schema_error: ``SchemaError`` object.\u001B[39;00m\n\u001B[1;32m     52\u001B[0m \u001B[38;5;124;03m\"\"\"\u001B[39;00m\n\u001B[1;32m     53\u001B[0m \u001B[38;5;28;01mif\u001B[39;00m \u001B[38;5;129;01mnot\u001B[39;00m \u001B[38;5;28mself\u001B[39m\u001B[38;5;241m.\u001B[39m_lazy:\n\u001B[0;32m---> 54\u001B[0m     \u001B[38;5;28;01mraise\u001B[39;00m schema_error \u001B[38;5;28;01mfrom\u001B[39;00m \u001B[38;5;21;01moriginal_exc\u001B[39;00m\n\u001B[1;32m     56\u001B[0m \u001B[38;5;66;03m# delete data of validated object from SchemaError object to prevent\u001B[39;00m\n\u001B[1;32m     57\u001B[0m \u001B[38;5;66;03m# storing copies of the validated DataFrame/Series for every\u001B[39;00m\n\u001B[1;32m     58\u001B[0m \u001B[38;5;66;03m# SchemaError collected.\u001B[39;00m\n\u001B[1;32m     59\u001B[0m \u001B[38;5;28;01mif\u001B[39;00m \u001B[38;5;28mhasattr\u001B[39m(schema_error, \u001B[38;5;124m\"\u001B[39m\u001B[38;5;124mdata\u001B[39m\u001B[38;5;124m\"\u001B[39m):\n",
      "File \u001B[0;32m~/.pyenv/versions/miniforge3-latest/envs/prc/lib/python3.12/site-packages/pandera/backends/pandas/components.py:72\u001B[0m, in \u001B[0;36mColumnBackend.validate.<locals>.validate_column\u001B[0;34m(check_obj, column_name, return_check_obj)\u001B[0m\n\u001B[1;32m     69\u001B[0m \u001B[38;5;28;01mdef\u001B[39;00m \u001B[38;5;21mvalidate_column\u001B[39m(check_obj, column_name, return_check_obj\u001B[38;5;241m=\u001B[39m\u001B[38;5;28;01mFalse\u001B[39;00m):\n\u001B[1;32m     70\u001B[0m     \u001B[38;5;28;01mtry\u001B[39;00m:\n\u001B[1;32m     71\u001B[0m         \u001B[38;5;66;03m# pylint: disable=super-with-arguments\u001B[39;00m\n\u001B[0;32m---> 72\u001B[0m         validated_check_obj \u001B[38;5;241m=\u001B[39m \u001B[38;5;28;43msuper\u001B[39;49m\u001B[43m(\u001B[49m\u001B[43mColumnBackend\u001B[49m\u001B[43m,\u001B[49m\u001B[43m \u001B[49m\u001B[38;5;28;43mself\u001B[39;49m\u001B[43m)\u001B[49m\u001B[38;5;241;43m.\u001B[39;49m\u001B[43mvalidate\u001B[49m\u001B[43m(\u001B[49m\n\u001B[1;32m     73\u001B[0m \u001B[43m            \u001B[49m\u001B[43mcheck_obj\u001B[49m\u001B[43m,\u001B[49m\n\u001B[1;32m     74\u001B[0m \u001B[43m            \u001B[49m\u001B[43mdeepcopy\u001B[49m\u001B[43m(\u001B[49m\u001B[43mschema\u001B[49m\u001B[43m)\u001B[49m\u001B[38;5;241;43m.\u001B[39;49m\u001B[43mset_name\u001B[49m\u001B[43m(\u001B[49m\u001B[43mcolumn_name\u001B[49m\u001B[43m)\u001B[49m\u001B[43m,\u001B[49m\n\u001B[1;32m     75\u001B[0m \u001B[43m            \u001B[49m\u001B[43mhead\u001B[49m\u001B[38;5;241;43m=\u001B[39;49m\u001B[43mhead\u001B[49m\u001B[43m,\u001B[49m\n\u001B[1;32m     76\u001B[0m \u001B[43m            \u001B[49m\u001B[43mtail\u001B[49m\u001B[38;5;241;43m=\u001B[39;49m\u001B[43mtail\u001B[49m\u001B[43m,\u001B[49m\n\u001B[1;32m     77\u001B[0m \u001B[43m            \u001B[49m\u001B[43msample\u001B[49m\u001B[38;5;241;43m=\u001B[39;49m\u001B[43msample\u001B[49m\u001B[43m,\u001B[49m\n\u001B[1;32m     78\u001B[0m \u001B[43m            \u001B[49m\u001B[43mrandom_state\u001B[49m\u001B[38;5;241;43m=\u001B[39;49m\u001B[43mrandom_state\u001B[49m\u001B[43m,\u001B[49m\n\u001B[1;32m     79\u001B[0m \u001B[43m            \u001B[49m\u001B[43mlazy\u001B[49m\u001B[38;5;241;43m=\u001B[39;49m\u001B[43mlazy\u001B[49m\u001B[43m,\u001B[49m\n\u001B[1;32m     80\u001B[0m \u001B[43m            \u001B[49m\u001B[43minplace\u001B[49m\u001B[38;5;241;43m=\u001B[39;49m\u001B[43minplace\u001B[49m\u001B[43m,\u001B[49m\n\u001B[1;32m     81\u001B[0m \u001B[43m        \u001B[49m\u001B[43m)\u001B[49m\n\u001B[1;32m     83\u001B[0m         \u001B[38;5;28;01mif\u001B[39;00m return_check_obj:\n\u001B[1;32m     84\u001B[0m             \u001B[38;5;28;01mreturn\u001B[39;00m validated_check_obj\n",
      "File \u001B[0;32m~/.pyenv/versions/miniforge3-latest/envs/prc/lib/python3.12/site-packages/pandera/backends/pandas/array.py:81\u001B[0m, in \u001B[0;36mArraySchemaBackend.validate\u001B[0;34m(self, check_obj, schema, head, tail, sample, random_state, lazy, inplace)\u001B[0m\n\u001B[1;32m     75\u001B[0m check_obj \u001B[38;5;241m=\u001B[39m \u001B[38;5;28mself\u001B[39m\u001B[38;5;241m.\u001B[39mrun_parsers(\n\u001B[1;32m     76\u001B[0m     schema,\n\u001B[1;32m     77\u001B[0m     check_obj,\n\u001B[1;32m     78\u001B[0m )\n\u001B[1;32m     80\u001B[0m \u001B[38;5;66;03m# run the core checks\u001B[39;00m\n\u001B[0;32m---> 81\u001B[0m error_handler \u001B[38;5;241m=\u001B[39m \u001B[38;5;28;43mself\u001B[39;49m\u001B[38;5;241;43m.\u001B[39;49m\u001B[43mrun_checks_and_handle_errors\u001B[49m\u001B[43m(\u001B[49m\n\u001B[1;32m     82\u001B[0m \u001B[43m    \u001B[49m\u001B[43merror_handler\u001B[49m\u001B[43m,\u001B[49m\n\u001B[1;32m     83\u001B[0m \u001B[43m    \u001B[49m\u001B[43mschema\u001B[49m\u001B[43m,\u001B[49m\n\u001B[1;32m     84\u001B[0m \u001B[43m    \u001B[49m\u001B[43mcheck_obj\u001B[49m\u001B[43m,\u001B[49m\n\u001B[1;32m     85\u001B[0m \u001B[43m    \u001B[49m\u001B[43mhead\u001B[49m\u001B[38;5;241;43m=\u001B[39;49m\u001B[43mhead\u001B[49m\u001B[43m,\u001B[49m\n\u001B[1;32m     86\u001B[0m \u001B[43m    \u001B[49m\u001B[43mtail\u001B[49m\u001B[38;5;241;43m=\u001B[39;49m\u001B[43mtail\u001B[49m\u001B[43m,\u001B[49m\n\u001B[1;32m     87\u001B[0m \u001B[43m    \u001B[49m\u001B[43msample\u001B[49m\u001B[38;5;241;43m=\u001B[39;49m\u001B[43msample\u001B[49m\u001B[43m,\u001B[49m\n\u001B[1;32m     88\u001B[0m \u001B[43m    \u001B[49m\u001B[43mrandom_state\u001B[49m\u001B[38;5;241;43m=\u001B[39;49m\u001B[43mrandom_state\u001B[49m\u001B[43m,\u001B[49m\n\u001B[1;32m     89\u001B[0m \u001B[43m\u001B[49m\u001B[43m)\u001B[49m\n\u001B[1;32m     91\u001B[0m \u001B[38;5;28;01mif\u001B[39;00m lazy \u001B[38;5;129;01mand\u001B[39;00m error_handler\u001B[38;5;241m.\u001B[39mcollected_errors:\n\u001B[1;32m     92\u001B[0m     \u001B[38;5;28;01mif\u001B[39;00m \u001B[38;5;28mgetattr\u001B[39m(schema, \u001B[38;5;124m\"\u001B[39m\u001B[38;5;124mdrop_invalid_rows\u001B[39m\u001B[38;5;124m\"\u001B[39m, \u001B[38;5;28;01mFalse\u001B[39;00m):\n",
      "File \u001B[0;32m~/.pyenv/versions/miniforge3-latest/envs/prc/lib/python3.12/site-packages/pandera/backends/pandas/array.py:145\u001B[0m, in \u001B[0;36mArraySchemaBackend.run_checks_and_handle_errors\u001B[0;34m(self, error_handler, schema, check_obj, **subsample_kwargs)\u001B[0m\n\u001B[1;32m    134\u001B[0m         \u001B[38;5;28;01melse\u001B[39;00m:\n\u001B[1;32m    135\u001B[0m             error \u001B[38;5;241m=\u001B[39m SchemaError(\n\u001B[1;32m    136\u001B[0m                 schema\u001B[38;5;241m=\u001B[39mschema,\n\u001B[1;32m    137\u001B[0m                 data\u001B[38;5;241m=\u001B[39mcheck_obj,\n\u001B[0;32m   (...)\u001B[0m\n\u001B[1;32m    143\u001B[0m                 reason_code\u001B[38;5;241m=\u001B[39mresult\u001B[38;5;241m.\u001B[39mreason_code,\n\u001B[1;32m    144\u001B[0m             )\n\u001B[0;32m--> 145\u001B[0m             \u001B[43merror_handler\u001B[49m\u001B[38;5;241;43m.\u001B[39;49m\u001B[43mcollect_error\u001B[49m\u001B[43m(\u001B[49m\n\u001B[1;32m    146\u001B[0m \u001B[43m                \u001B[49m\u001B[43mvalidation_type\u001B[49m\u001B[43m(\u001B[49m\u001B[43mresult\u001B[49m\u001B[38;5;241;43m.\u001B[39;49m\u001B[43mreason_code\u001B[49m\u001B[43m)\u001B[49m\u001B[43m,\u001B[49m\n\u001B[1;32m    147\u001B[0m \u001B[43m                \u001B[49m\u001B[43mresult\u001B[49m\u001B[38;5;241;43m.\u001B[39;49m\u001B[43mreason_code\u001B[49m\u001B[43m,\u001B[49m\n\u001B[1;32m    148\u001B[0m \u001B[43m                \u001B[49m\u001B[43merror\u001B[49m\u001B[43m,\u001B[49m\n\u001B[1;32m    149\u001B[0m \u001B[43m                \u001B[49m\u001B[43moriginal_exc\u001B[49m\u001B[38;5;241;43m=\u001B[39;49m\u001B[43mresult\u001B[49m\u001B[38;5;241;43m.\u001B[39;49m\u001B[43moriginal_exc\u001B[49m\u001B[43m,\u001B[49m\n\u001B[1;32m    150\u001B[0m \u001B[43m            \u001B[49m\u001B[43m)\u001B[49m\n\u001B[1;32m    152\u001B[0m \u001B[38;5;28;01mreturn\u001B[39;00m error_handler\n",
      "File \u001B[0;32m~/.pyenv/versions/miniforge3-latest/envs/prc/lib/python3.12/site-packages/pandera/api/base/error_handler.py:54\u001B[0m, in \u001B[0;36mErrorHandler.collect_error\u001B[0;34m(self, error_type, reason_code, schema_error, original_exc)\u001B[0m\n\u001B[1;32m     47\u001B[0m \u001B[38;5;250m\u001B[39m\u001B[38;5;124;03m\"\"\"Collect schema error, raising exception if lazy is False.\u001B[39;00m\n\u001B[1;32m     48\u001B[0m \n\u001B[1;32m     49\u001B[0m \u001B[38;5;124;03m:param error_type: type of error\u001B[39;00m\n\u001B[1;32m     50\u001B[0m \u001B[38;5;124;03m:param reason_code: string representing reason for error\u001B[39;00m\n\u001B[1;32m     51\u001B[0m \u001B[38;5;124;03m:param schema_error: ``SchemaError`` object.\u001B[39;00m\n\u001B[1;32m     52\u001B[0m \u001B[38;5;124;03m\"\"\"\u001B[39;00m\n\u001B[1;32m     53\u001B[0m \u001B[38;5;28;01mif\u001B[39;00m \u001B[38;5;129;01mnot\u001B[39;00m \u001B[38;5;28mself\u001B[39m\u001B[38;5;241m.\u001B[39m_lazy:\n\u001B[0;32m---> 54\u001B[0m     \u001B[38;5;28;01mraise\u001B[39;00m schema_error \u001B[38;5;28;01mfrom\u001B[39;00m \u001B[38;5;21;01moriginal_exc\u001B[39;00m\n\u001B[1;32m     56\u001B[0m \u001B[38;5;66;03m# delete data of validated object from SchemaError object to prevent\u001B[39;00m\n\u001B[1;32m     57\u001B[0m \u001B[38;5;66;03m# storing copies of the validated DataFrame/Series for every\u001B[39;00m\n\u001B[1;32m     58\u001B[0m \u001B[38;5;66;03m# SchemaError collected.\u001B[39;00m\n\u001B[1;32m     59\u001B[0m \u001B[38;5;28;01mif\u001B[39;00m \u001B[38;5;28mhasattr\u001B[39m(schema_error, \u001B[38;5;124m\"\u001B[39m\u001B[38;5;124mdata\u001B[39m\u001B[38;5;124m\"\u001B[39m):\n",
      "\u001B[0;31mSchemaError\u001B[0m: Column 'column1' failed element-wise validator number 0: less_than_or_equal_to(10) failure cases: 11"
     ]
    }
   ],
   "execution_count": 3
  },
  {
   "metadata": {
    "ExecuteTime": {
     "end_time": "2024-09-17T07:29:50.978520Z",
     "start_time": "2024-09-17T07:29:50.970523Z"
    }
   },
   "cell_type": "code",
   "source": [
    "from datetime import datetime\n",
    "\n",
    "def validate_datetime(date_string, format_string):\n",
    "    \"\"\"\n",
    "    Validates if a string is a valid datetime according to the given format.\n",
    "    \"\"\"\n",
    "\n",
    "    try:\n",
    "        datetime.strptime(date_string, format_string)\n",
    "        return True\n",
    "    except ValueError:\n",
    "        return False\n",
    "    \n",
    "def validate_datetime_in_iso_format(date_text):\n",
    "        try:\n",
    "            datetime.fromisoformat(date_text)\n",
    "            return True\n",
    "        except ValueError:\n",
    "            # raise ValueError(\"Incorrect data format, should be YYYY-MM-DD\")\n",
    "            return False\n",
    "# Example usage\n",
    "date_strings = [\n",
    "    \"2023-12-25 24:00:00\",\n",
    "    \"2023-12-25 12:10:00\",\n",
    "    \"2023-12-25 23:00:00\",\n",
    "    \"2011-11-04\",\n",
    "    \"20111104\",\n",
    "    \"2011-11-04T00:05:23\",\n",
    "    \"2011-11-04T00:05:23Z\",\n",
    "    \"2011-11-04T00:05:23.283185\",\n",
    "    \"2011-11-04T00:05:23.283185+08:00\",\n",
    "    \"20111104T000523\",\n",
    "    \"20111104T000523.283185\",\n",
    "    \"2011-11-04T00:05:23+08:00\",\n",
    "    ]\n",
    "format_string = \"%Y-%m-%d\"\n",
    "\n",
    "for s in date_strings:\n",
    "    if validate_datetime_in_iso_format(s):\n",
    "        print(f\"{s} is Valid datetime string\")\n",
    "    else:\n",
    "        print(f\"{s} is Invalid datetime string\")"
   ],
   "id": "aabeb5d4ee7e1197",
   "outputs": [
    {
     "name": "stdout",
     "output_type": "stream",
     "text": [
      "2023-12-25 24:00:00 is Invalid datetime string\n",
      "2023-12-25 12:10:00 is Valid datetime string\n",
      "2023-12-25 23:00:00 is Valid datetime string\n",
      "2011-11-04 is Valid datetime string\n",
      "20111104 is Valid datetime string\n",
      "2011-11-04T00:05:23 is Valid datetime string\n",
      "2011-11-04T00:05:23Z is Valid datetime string\n",
      "2011-11-04T00:05:23.283185 is Valid datetime string\n",
      "2011-11-04T00:05:23.283185+08:00 is Valid datetime string\n",
      "20111104T000523 is Valid datetime string\n",
      "20111104T000523.283185 is Valid datetime string\n",
      "2011-11-04T00:05:23+08:00 is Valid datetime string\n"
     ]
    }
   ],
   "execution_count": 22
  },
  {
   "metadata": {
    "ExecuteTime": {
     "end_time": "2024-09-17T07:29:51.033031Z",
     "start_time": "2024-09-17T07:29:51.028135Z"
    }
   },
   "cell_type": "code",
   "source": [
    "df_datetime_str = pd.DataFrame(date_strings)\n",
    "df_datetime_str.columns = ['datetime']\n",
    "# df_datetime_str\n",
    "df_datetime_str['validity'] = df_datetime_str.apply(lambda x: validate_datetime_in_iso_format(x.iloc[0]), axis=1)\n",
    "df_datetime_str\n"
   ],
   "id": "905edaf912eed68a",
   "outputs": [
    {
     "data": {
      "text/plain": [
       "                            datetime  validity\n",
       "0                2023-12-25 24:00:00     False\n",
       "1                2023-12-25 12:10:00      True\n",
       "2                2023-12-25 23:00:00      True\n",
       "3                         2011-11-04      True\n",
       "4                           20111104      True\n",
       "5                2011-11-04T00:05:23      True\n",
       "6               2011-11-04T00:05:23Z      True\n",
       "7         2011-11-04T00:05:23.283185      True\n",
       "8   2011-11-04T00:05:23.283185+08:00      True\n",
       "9                    20111104T000523      True\n",
       "10            20111104T000523.283185      True\n",
       "11         2011-11-04T00:05:23+08:00      True"
      ],
      "text/html": [
       "<div>\n",
       "<style scoped>\n",
       "    .dataframe tbody tr th:only-of-type {\n",
       "        vertical-align: middle;\n",
       "    }\n",
       "\n",
       "    .dataframe tbody tr th {\n",
       "        vertical-align: top;\n",
       "    }\n",
       "\n",
       "    .dataframe thead th {\n",
       "        text-align: right;\n",
       "    }\n",
       "</style>\n",
       "<table border=\"1\" class=\"dataframe\">\n",
       "  <thead>\n",
       "    <tr style=\"text-align: right;\">\n",
       "      <th></th>\n",
       "      <th>datetime</th>\n",
       "      <th>validity</th>\n",
       "    </tr>\n",
       "  </thead>\n",
       "  <tbody>\n",
       "    <tr>\n",
       "      <th>0</th>\n",
       "      <td>2023-12-25 24:00:00</td>\n",
       "      <td>False</td>\n",
       "    </tr>\n",
       "    <tr>\n",
       "      <th>1</th>\n",
       "      <td>2023-12-25 12:10:00</td>\n",
       "      <td>True</td>\n",
       "    </tr>\n",
       "    <tr>\n",
       "      <th>2</th>\n",
       "      <td>2023-12-25 23:00:00</td>\n",
       "      <td>True</td>\n",
       "    </tr>\n",
       "    <tr>\n",
       "      <th>3</th>\n",
       "      <td>2011-11-04</td>\n",
       "      <td>True</td>\n",
       "    </tr>\n",
       "    <tr>\n",
       "      <th>4</th>\n",
       "      <td>20111104</td>\n",
       "      <td>True</td>\n",
       "    </tr>\n",
       "    <tr>\n",
       "      <th>5</th>\n",
       "      <td>2011-11-04T00:05:23</td>\n",
       "      <td>True</td>\n",
       "    </tr>\n",
       "    <tr>\n",
       "      <th>6</th>\n",
       "      <td>2011-11-04T00:05:23Z</td>\n",
       "      <td>True</td>\n",
       "    </tr>\n",
       "    <tr>\n",
       "      <th>7</th>\n",
       "      <td>2011-11-04T00:05:23.283185</td>\n",
       "      <td>True</td>\n",
       "    </tr>\n",
       "    <tr>\n",
       "      <th>8</th>\n",
       "      <td>2011-11-04T00:05:23.283185+08:00</td>\n",
       "      <td>True</td>\n",
       "    </tr>\n",
       "    <tr>\n",
       "      <th>9</th>\n",
       "      <td>20111104T000523</td>\n",
       "      <td>True</td>\n",
       "    </tr>\n",
       "    <tr>\n",
       "      <th>10</th>\n",
       "      <td>20111104T000523.283185</td>\n",
       "      <td>True</td>\n",
       "    </tr>\n",
       "    <tr>\n",
       "      <th>11</th>\n",
       "      <td>2011-11-04T00:05:23+08:00</td>\n",
       "      <td>True</td>\n",
       "    </tr>\n",
       "  </tbody>\n",
       "</table>\n",
       "</div>"
      ]
     },
     "execution_count": 23,
     "metadata": {},
     "output_type": "execute_result"
    }
   ],
   "execution_count": 23
  },
  {
   "metadata": {
    "ExecuteTime": {
     "end_time": "2024-09-17T07:29:51.097123Z",
     "start_time": "2024-09-17T07:29:51.092805Z"
    }
   },
   "cell_type": "code",
   "source": [
    "df_datetime = df_datetime_str[df_datetime_str.apply(lambda x: validate_datetime_in_iso_format(x.iloc[0]), axis=1)]\n",
    "df_datetime\n"
   ],
   "id": "57ade225648c853a",
   "outputs": [
    {
     "data": {
      "text/plain": [
       "                            datetime  validity\n",
       "1                2023-12-25 12:10:00      True\n",
       "2                2023-12-25 23:00:00      True\n",
       "3                         2011-11-04      True\n",
       "4                           20111104      True\n",
       "5                2011-11-04T00:05:23      True\n",
       "6               2011-11-04T00:05:23Z      True\n",
       "7         2011-11-04T00:05:23.283185      True\n",
       "8   2011-11-04T00:05:23.283185+08:00      True\n",
       "9                    20111104T000523      True\n",
       "10            20111104T000523.283185      True\n",
       "11         2011-11-04T00:05:23+08:00      True"
      ],
      "text/html": [
       "<div>\n",
       "<style scoped>\n",
       "    .dataframe tbody tr th:only-of-type {\n",
       "        vertical-align: middle;\n",
       "    }\n",
       "\n",
       "    .dataframe tbody tr th {\n",
       "        vertical-align: top;\n",
       "    }\n",
       "\n",
       "    .dataframe thead th {\n",
       "        text-align: right;\n",
       "    }\n",
       "</style>\n",
       "<table border=\"1\" class=\"dataframe\">\n",
       "  <thead>\n",
       "    <tr style=\"text-align: right;\">\n",
       "      <th></th>\n",
       "      <th>datetime</th>\n",
       "      <th>validity</th>\n",
       "    </tr>\n",
       "  </thead>\n",
       "  <tbody>\n",
       "    <tr>\n",
       "      <th>1</th>\n",
       "      <td>2023-12-25 12:10:00</td>\n",
       "      <td>True</td>\n",
       "    </tr>\n",
       "    <tr>\n",
       "      <th>2</th>\n",
       "      <td>2023-12-25 23:00:00</td>\n",
       "      <td>True</td>\n",
       "    </tr>\n",
       "    <tr>\n",
       "      <th>3</th>\n",
       "      <td>2011-11-04</td>\n",
       "      <td>True</td>\n",
       "    </tr>\n",
       "    <tr>\n",
       "      <th>4</th>\n",
       "      <td>20111104</td>\n",
       "      <td>True</td>\n",
       "    </tr>\n",
       "    <tr>\n",
       "      <th>5</th>\n",
       "      <td>2011-11-04T00:05:23</td>\n",
       "      <td>True</td>\n",
       "    </tr>\n",
       "    <tr>\n",
       "      <th>6</th>\n",
       "      <td>2011-11-04T00:05:23Z</td>\n",
       "      <td>True</td>\n",
       "    </tr>\n",
       "    <tr>\n",
       "      <th>7</th>\n",
       "      <td>2011-11-04T00:05:23.283185</td>\n",
       "      <td>True</td>\n",
       "    </tr>\n",
       "    <tr>\n",
       "      <th>8</th>\n",
       "      <td>2011-11-04T00:05:23.283185+08:00</td>\n",
       "      <td>True</td>\n",
       "    </tr>\n",
       "    <tr>\n",
       "      <th>9</th>\n",
       "      <td>20111104T000523</td>\n",
       "      <td>True</td>\n",
       "    </tr>\n",
       "    <tr>\n",
       "      <th>10</th>\n",
       "      <td>20111104T000523.283185</td>\n",
       "      <td>True</td>\n",
       "    </tr>\n",
       "    <tr>\n",
       "      <th>11</th>\n",
       "      <td>2011-11-04T00:05:23+08:00</td>\n",
       "      <td>True</td>\n",
       "    </tr>\n",
       "  </tbody>\n",
       "</table>\n",
       "</div>"
      ]
     },
     "execution_count": 24,
     "metadata": {},
     "output_type": "execute_result"
    }
   ],
   "execution_count": 24
  },
  {
   "metadata": {
    "ExecuteTime": {
     "end_time": "2024-09-17T07:29:51.150880Z",
     "start_time": "2024-09-17T07:29:51.146029Z"
    }
   },
   "cell_type": "code",
   "source": "df_datetime['datetime']",
   "id": "97a234f131288320",
   "outputs": [
    {
     "data": {
      "text/plain": [
       "1                  2023-12-25 12:10:00\n",
       "2                  2023-12-25 23:00:00\n",
       "3                           2011-11-04\n",
       "4                             20111104\n",
       "5                  2011-11-04T00:05:23\n",
       "6                 2011-11-04T00:05:23Z\n",
       "7           2011-11-04T00:05:23.283185\n",
       "8     2011-11-04T00:05:23.283185+08:00\n",
       "9                      20111104T000523\n",
       "10              20111104T000523.283185\n",
       "11           2011-11-04T00:05:23+08:00\n",
       "Name: datetime, dtype: object"
      ]
     },
     "execution_count": 25,
     "metadata": {},
     "output_type": "execute_result"
    }
   ],
   "execution_count": 25
  },
  {
   "metadata": {
    "ExecuteTime": {
     "end_time": "2024-09-17T07:29:51.251808Z",
     "start_time": "2024-09-17T07:29:51.247964Z"
    }
   },
   "cell_type": "code",
   "source": [
    "# df_datetime_str.apply(lambda x: validate_datetime_in_iso_format(x.iloc[0]), axis=1)\n",
    "df_datetime1 = df_datetime.apply(lambda x: datetime.fromisoformat(x['datetime']), axis=1)\n",
    "df_datetime1.name = 'datetime'\n",
    "df_datetime1\n"
   ],
   "id": "6af81c048a238644",
   "outputs": [
    {
     "data": {
      "text/plain": [
       "1                  2023-12-25 12:10:00\n",
       "2                  2023-12-25 23:00:00\n",
       "3                  2011-11-04 00:00:00\n",
       "4                  2011-11-04 00:00:00\n",
       "5                  2011-11-04 00:05:23\n",
       "6            2011-11-04 00:05:23+00:00\n",
       "7           2011-11-04 00:05:23.283185\n",
       "8     2011-11-04 00:05:23.283185+08:00\n",
       "9                  2011-11-04 00:05:23\n",
       "10          2011-11-04 00:05:23.283185\n",
       "11           2011-11-04 00:05:23+08:00\n",
       "Name: datetime, dtype: object"
      ]
     },
     "execution_count": 26,
     "metadata": {},
     "output_type": "execute_result"
    }
   ],
   "execution_count": 26
  },
  {
   "metadata": {
    "ExecuteTime": {
     "end_time": "2024-09-17T07:30:34.100390Z",
     "start_time": "2024-09-17T07:30:34.097239Z"
    }
   },
   "cell_type": "code",
   "source": "pd.to_datetime(df_datetime1[5])",
   "id": "563c31da0452adbf",
   "outputs": [
    {
     "data": {
      "text/plain": [
       "Timestamp('2011-11-04 00:05:23')"
      ]
     },
     "execution_count": 31,
     "metadata": {},
     "output_type": "execute_result"
    }
   ],
   "execution_count": 31
  },
  {
   "metadata": {
    "ExecuteTime": {
     "end_time": "2024-09-17T07:30:34.194214Z",
     "start_time": "2024-09-17T07:30:34.190542Z"
    }
   },
   "cell_type": "code",
   "source": [
    "import pytz\n",
    "def get_timezone_abbreviation(timezone_name):\n",
    "    timezone = pytz.timezone(timezone_name)\n",
    "    now = datetime.now(timezone)\n",
    "    return now.strftime(\"%Z\")\n",
    "\n",
    "def validate_timezone_in_iana(timezone_name):\n",
    "     return timezone_name in pytz.all_timezones\n",
    "\n",
    "time_zone_strings = [\n",
    "    'Asia/Shanghai',\n",
    "    'Asia/Mumbai',\n",
    "    'America/New_York',\n",
    "    'Europe/London', \n",
    "    'Eastern Standard Time', \n",
    "    'US/Eastern', \n",
    "    'America/Los_Angeles', \n",
    "    'Asia/Kolkata', \n",
    "    'Europe/London'\n",
    "]"
   ],
   "id": "a70bc55e194f13db",
   "outputs": [],
   "execution_count": 32
  },
  {
   "metadata": {
    "ExecuteTime": {
     "end_time": "2024-09-17T07:30:34.253541Z",
     "start_time": "2024-09-17T07:30:34.240699Z"
    }
   },
   "cell_type": "code",
   "source": [
    "df_timezone_str = pd.DataFrame(time_zone_strings)\n",
    "df_timezone_str.columns = ['timezone']\n",
    "# df_datetime_str\n",
    "df_timezone_str['validity'] = df_timezone_str.apply(lambda x: validate_timezone_in_iana(x.iloc[0]), axis=1)\n",
    "df_timezone_str\n"
   ],
   "id": "599c26fa4b339e3b",
   "outputs": [
    {
     "data": {
      "text/plain": [
       "                timezone  validity\n",
       "0          Asia/Shanghai      True\n",
       "1            Asia/Mumbai     False\n",
       "2       America/New_York      True\n",
       "3          Europe/London      True\n",
       "4  Eastern Standard Time     False\n",
       "5             US/Eastern      True\n",
       "6    America/Los_Angeles      True\n",
       "7           Asia/Kolkata      True\n",
       "8          Europe/London      True"
      ],
      "text/html": [
       "<div>\n",
       "<style scoped>\n",
       "    .dataframe tbody tr th:only-of-type {\n",
       "        vertical-align: middle;\n",
       "    }\n",
       "\n",
       "    .dataframe tbody tr th {\n",
       "        vertical-align: top;\n",
       "    }\n",
       "\n",
       "    .dataframe thead th {\n",
       "        text-align: right;\n",
       "    }\n",
       "</style>\n",
       "<table border=\"1\" class=\"dataframe\">\n",
       "  <thead>\n",
       "    <tr style=\"text-align: right;\">\n",
       "      <th></th>\n",
       "      <th>timezone</th>\n",
       "      <th>validity</th>\n",
       "    </tr>\n",
       "  </thead>\n",
       "  <tbody>\n",
       "    <tr>\n",
       "      <th>0</th>\n",
       "      <td>Asia/Shanghai</td>\n",
       "      <td>True</td>\n",
       "    </tr>\n",
       "    <tr>\n",
       "      <th>1</th>\n",
       "      <td>Asia/Mumbai</td>\n",
       "      <td>False</td>\n",
       "    </tr>\n",
       "    <tr>\n",
       "      <th>2</th>\n",
       "      <td>America/New_York</td>\n",
       "      <td>True</td>\n",
       "    </tr>\n",
       "    <tr>\n",
       "      <th>3</th>\n",
       "      <td>Europe/London</td>\n",
       "      <td>True</td>\n",
       "    </tr>\n",
       "    <tr>\n",
       "      <th>4</th>\n",
       "      <td>Eastern Standard Time</td>\n",
       "      <td>False</td>\n",
       "    </tr>\n",
       "    <tr>\n",
       "      <th>5</th>\n",
       "      <td>US/Eastern</td>\n",
       "      <td>True</td>\n",
       "    </tr>\n",
       "    <tr>\n",
       "      <th>6</th>\n",
       "      <td>America/Los_Angeles</td>\n",
       "      <td>True</td>\n",
       "    </tr>\n",
       "    <tr>\n",
       "      <th>7</th>\n",
       "      <td>Asia/Kolkata</td>\n",
       "      <td>True</td>\n",
       "    </tr>\n",
       "    <tr>\n",
       "      <th>8</th>\n",
       "      <td>Europe/London</td>\n",
       "      <td>True</td>\n",
       "    </tr>\n",
       "  </tbody>\n",
       "</table>\n",
       "</div>"
      ]
     },
     "execution_count": 33,
     "metadata": {},
     "output_type": "execute_result"
    }
   ],
   "execution_count": 33
  },
  {
   "metadata": {
    "ExecuteTime": {
     "end_time": "2024-09-17T07:30:34.306809Z",
     "start_time": "2024-09-17T07:30:34.302829Z"
    }
   },
   "cell_type": "code",
   "source": [
    "\n",
    "df_timezone = df_timezone_str[df_timezone_str.apply(lambda x: validate_timezone_in_iana(x.iloc[0]), axis=1)]\n",
    "df_timezone\n"
   ],
   "id": "5238e737123155e2",
   "outputs": [
    {
     "data": {
      "text/plain": [
       "              timezone  validity\n",
       "0        Asia/Shanghai      True\n",
       "2     America/New_York      True\n",
       "3        Europe/London      True\n",
       "5           US/Eastern      True\n",
       "6  America/Los_Angeles      True\n",
       "7         Asia/Kolkata      True\n",
       "8        Europe/London      True"
      ],
      "text/html": [
       "<div>\n",
       "<style scoped>\n",
       "    .dataframe tbody tr th:only-of-type {\n",
       "        vertical-align: middle;\n",
       "    }\n",
       "\n",
       "    .dataframe tbody tr th {\n",
       "        vertical-align: top;\n",
       "    }\n",
       "\n",
       "    .dataframe thead th {\n",
       "        text-align: right;\n",
       "    }\n",
       "</style>\n",
       "<table border=\"1\" class=\"dataframe\">\n",
       "  <thead>\n",
       "    <tr style=\"text-align: right;\">\n",
       "      <th></th>\n",
       "      <th>timezone</th>\n",
       "      <th>validity</th>\n",
       "    </tr>\n",
       "  </thead>\n",
       "  <tbody>\n",
       "    <tr>\n",
       "      <th>0</th>\n",
       "      <td>Asia/Shanghai</td>\n",
       "      <td>True</td>\n",
       "    </tr>\n",
       "    <tr>\n",
       "      <th>2</th>\n",
       "      <td>America/New_York</td>\n",
       "      <td>True</td>\n",
       "    </tr>\n",
       "    <tr>\n",
       "      <th>3</th>\n",
       "      <td>Europe/London</td>\n",
       "      <td>True</td>\n",
       "    </tr>\n",
       "    <tr>\n",
       "      <th>5</th>\n",
       "      <td>US/Eastern</td>\n",
       "      <td>True</td>\n",
       "    </tr>\n",
       "    <tr>\n",
       "      <th>6</th>\n",
       "      <td>America/Los_Angeles</td>\n",
       "      <td>True</td>\n",
       "    </tr>\n",
       "    <tr>\n",
       "      <th>7</th>\n",
       "      <td>Asia/Kolkata</td>\n",
       "      <td>True</td>\n",
       "    </tr>\n",
       "    <tr>\n",
       "      <th>8</th>\n",
       "      <td>Europe/London</td>\n",
       "      <td>True</td>\n",
       "    </tr>\n",
       "  </tbody>\n",
       "</table>\n",
       "</div>"
      ]
     },
     "execution_count": 34,
     "metadata": {},
     "output_type": "execute_result"
    }
   ],
   "execution_count": 34
  },
  {
   "metadata": {
    "ExecuteTime": {
     "end_time": "2024-09-17T07:30:34.353169Z",
     "start_time": "2024-09-17T07:30:34.347777Z"
    }
   },
   "cell_type": "code",
   "source": [
    "df_abbr = df_timezone.apply(lambda x: get_timezone_abbreviation(x.loc['timezone']), axis=1)\n",
    "df_abbr.name = 'abbr'\n",
    "df_abbr"
   ],
   "id": "dd34bfb6006682a5",
   "outputs": [
    {
     "data": {
      "text/plain": [
       "0    CST\n",
       "2    EDT\n",
       "3    BST\n",
       "5    EDT\n",
       "6    PDT\n",
       "7    IST\n",
       "8    BST\n",
       "Name: abbr, dtype: object"
      ]
     },
     "execution_count": 35,
     "metadata": {},
     "output_type": "execute_result"
    }
   ],
   "execution_count": 35
  },
  {
   "metadata": {
    "ExecuteTime": {
     "end_time": "2024-09-17T07:30:34.443842Z",
     "start_time": "2024-09-17T07:30:34.439974Z"
    }
   },
   "cell_type": "code",
   "source": "df_timezone",
   "id": "f4d98e1308e8afcd",
   "outputs": [
    {
     "data": {
      "text/plain": [
       "              timezone  validity\n",
       "0        Asia/Shanghai      True\n",
       "2     America/New_York      True\n",
       "3        Europe/London      True\n",
       "5           US/Eastern      True\n",
       "6  America/Los_Angeles      True\n",
       "7         Asia/Kolkata      True\n",
       "8        Europe/London      True"
      ],
      "text/html": [
       "<div>\n",
       "<style scoped>\n",
       "    .dataframe tbody tr th:only-of-type {\n",
       "        vertical-align: middle;\n",
       "    }\n",
       "\n",
       "    .dataframe tbody tr th {\n",
       "        vertical-align: top;\n",
       "    }\n",
       "\n",
       "    .dataframe thead th {\n",
       "        text-align: right;\n",
       "    }\n",
       "</style>\n",
       "<table border=\"1\" class=\"dataframe\">\n",
       "  <thead>\n",
       "    <tr style=\"text-align: right;\">\n",
       "      <th></th>\n",
       "      <th>timezone</th>\n",
       "      <th>validity</th>\n",
       "    </tr>\n",
       "  </thead>\n",
       "  <tbody>\n",
       "    <tr>\n",
       "      <th>0</th>\n",
       "      <td>Asia/Shanghai</td>\n",
       "      <td>True</td>\n",
       "    </tr>\n",
       "    <tr>\n",
       "      <th>2</th>\n",
       "      <td>America/New_York</td>\n",
       "      <td>True</td>\n",
       "    </tr>\n",
       "    <tr>\n",
       "      <th>3</th>\n",
       "      <td>Europe/London</td>\n",
       "      <td>True</td>\n",
       "    </tr>\n",
       "    <tr>\n",
       "      <th>5</th>\n",
       "      <td>US/Eastern</td>\n",
       "      <td>True</td>\n",
       "    </tr>\n",
       "    <tr>\n",
       "      <th>6</th>\n",
       "      <td>America/Los_Angeles</td>\n",
       "      <td>True</td>\n",
       "    </tr>\n",
       "    <tr>\n",
       "      <th>7</th>\n",
       "      <td>Asia/Kolkata</td>\n",
       "      <td>True</td>\n",
       "    </tr>\n",
       "    <tr>\n",
       "      <th>8</th>\n",
       "      <td>Europe/London</td>\n",
       "      <td>True</td>\n",
       "    </tr>\n",
       "  </tbody>\n",
       "</table>\n",
       "</div>"
      ]
     },
     "execution_count": 36,
     "metadata": {},
     "output_type": "execute_result"
    }
   ],
   "execution_count": 36
  },
  {
   "metadata": {
    "ExecuteTime": {
     "end_time": "2024-09-17T07:30:34.541315Z",
     "start_time": "2024-09-17T07:30:34.537325Z"
    }
   },
   "cell_type": "code",
   "source": [
    "# df_timezone_str['validity'] = df_timezone_str.apply(lambda x: validate_timezone_in_iana(x.iloc[0]), axis=1)\n",
    "# df_timezone['abbr'] = df_timezone.apply(lambda x: get_timezone_abbreviation(x.iloc[0]), axis=1)\n",
    "# df_timezone.apply(lambda x: get_timezone_abbreviation(x.iloc[0]), axis=1)\n",
    "df_timezone.loc[:,'abbr'] = df_abbr\n",
    "df_timezone\n",
    "# df_timezone\n"
   ],
   "id": "4ed42e0608199bdb",
   "outputs": [
    {
     "name": "stderr",
     "output_type": "stream",
     "text": [
      "/tmp/ipykernel_464126/540448849.py:4: SettingWithCopyWarning: \n",
      "A value is trying to be set on a copy of a slice from a DataFrame.\n",
      "Try using .loc[row_indexer,col_indexer] = value instead\n",
      "\n",
      "See the caveats in the documentation: https://pandas.pydata.org/pandas-docs/stable/user_guide/indexing.html#returning-a-view-versus-a-copy\n",
      "  df_timezone.loc[:,'abbr'] = df_abbr\n"
     ]
    },
    {
     "data": {
      "text/plain": [
       "              timezone  validity abbr\n",
       "0        Asia/Shanghai      True  CST\n",
       "2     America/New_York      True  EDT\n",
       "3        Europe/London      True  BST\n",
       "5           US/Eastern      True  EDT\n",
       "6  America/Los_Angeles      True  PDT\n",
       "7         Asia/Kolkata      True  IST\n",
       "8        Europe/London      True  BST"
      ],
      "text/html": [
       "<div>\n",
       "<style scoped>\n",
       "    .dataframe tbody tr th:only-of-type {\n",
       "        vertical-align: middle;\n",
       "    }\n",
       "\n",
       "    .dataframe tbody tr th {\n",
       "        vertical-align: top;\n",
       "    }\n",
       "\n",
       "    .dataframe thead th {\n",
       "        text-align: right;\n",
       "    }\n",
       "</style>\n",
       "<table border=\"1\" class=\"dataframe\">\n",
       "  <thead>\n",
       "    <tr style=\"text-align: right;\">\n",
       "      <th></th>\n",
       "      <th>timezone</th>\n",
       "      <th>validity</th>\n",
       "      <th>abbr</th>\n",
       "    </tr>\n",
       "  </thead>\n",
       "  <tbody>\n",
       "    <tr>\n",
       "      <th>0</th>\n",
       "      <td>Asia/Shanghai</td>\n",
       "      <td>True</td>\n",
       "      <td>CST</td>\n",
       "    </tr>\n",
       "    <tr>\n",
       "      <th>2</th>\n",
       "      <td>America/New_York</td>\n",
       "      <td>True</td>\n",
       "      <td>EDT</td>\n",
       "    </tr>\n",
       "    <tr>\n",
       "      <th>3</th>\n",
       "      <td>Europe/London</td>\n",
       "      <td>True</td>\n",
       "      <td>BST</td>\n",
       "    </tr>\n",
       "    <tr>\n",
       "      <th>5</th>\n",
       "      <td>US/Eastern</td>\n",
       "      <td>True</td>\n",
       "      <td>EDT</td>\n",
       "    </tr>\n",
       "    <tr>\n",
       "      <th>6</th>\n",
       "      <td>America/Los_Angeles</td>\n",
       "      <td>True</td>\n",
       "      <td>PDT</td>\n",
       "    </tr>\n",
       "    <tr>\n",
       "      <th>7</th>\n",
       "      <td>Asia/Kolkata</td>\n",
       "      <td>True</td>\n",
       "      <td>IST</td>\n",
       "    </tr>\n",
       "    <tr>\n",
       "      <th>8</th>\n",
       "      <td>Europe/London</td>\n",
       "      <td>True</td>\n",
       "      <td>BST</td>\n",
       "    </tr>\n",
       "  </tbody>\n",
       "</table>\n",
       "</div>"
      ]
     },
     "execution_count": 37,
     "metadata": {},
     "output_type": "execute_result"
    }
   ],
   "execution_count": 37
  },
  {
   "metadata": {
    "ExecuteTime": {
     "end_time": "2024-09-17T07:30:34.618946Z",
     "start_time": "2024-09-17T07:30:34.614789Z"
    }
   },
   "cell_type": "code",
   "source": [
    "\n",
    "df_utc_offset = (df_timezone.apply(lambda x: datetime.now(pytz.timezone(x.loc['timezone'])), axis=1)\n",
    "                            .apply(lambda x: x.strftime('%z')))\n",
    "df_utc_offset.name = 'utc_offset'\n",
    "df_utc_offset\n"
   ],
   "id": "654a9caf85cd9150",
   "outputs": [
    {
     "data": {
      "text/plain": [
       "0    +0800\n",
       "2    -0400\n",
       "3    +0100\n",
       "5    -0400\n",
       "6    -0700\n",
       "7    +0530\n",
       "8    +0100\n",
       "Name: utc_offset, dtype: object"
      ]
     },
     "execution_count": 38,
     "metadata": {},
     "output_type": "execute_result"
    }
   ],
   "execution_count": 38
  },
  {
   "metadata": {
    "ExecuteTime": {
     "end_time": "2024-09-17T07:30:34.777638Z",
     "start_time": "2024-09-17T07:30:34.773090Z"
    }
   },
   "cell_type": "code",
   "source": [
    "\n",
    "df_timezone.loc[:,'utc_offset'] = df_utc_offset\n",
    "df_timezone\n"
   ],
   "id": "c9f601971b59c7b3",
   "outputs": [
    {
     "name": "stderr",
     "output_type": "stream",
     "text": [
      "/tmp/ipykernel_464126/3792723555.py:1: SettingWithCopyWarning: \n",
      "A value is trying to be set on a copy of a slice from a DataFrame.\n",
      "Try using .loc[row_indexer,col_indexer] = value instead\n",
      "\n",
      "See the caveats in the documentation: https://pandas.pydata.org/pandas-docs/stable/user_guide/indexing.html#returning-a-view-versus-a-copy\n",
      "  df_timezone.loc[:,'utc_offset'] = df_utc_offset\n"
     ]
    },
    {
     "data": {
      "text/plain": [
       "              timezone  validity abbr utc_offset\n",
       "0        Asia/Shanghai      True  CST      +0800\n",
       "2     America/New_York      True  EDT      -0400\n",
       "3        Europe/London      True  BST      +0100\n",
       "5           US/Eastern      True  EDT      -0400\n",
       "6  America/Los_Angeles      True  PDT      -0700\n",
       "7         Asia/Kolkata      True  IST      +0530\n",
       "8        Europe/London      True  BST      +0100"
      ],
      "text/html": [
       "<div>\n",
       "<style scoped>\n",
       "    .dataframe tbody tr th:only-of-type {\n",
       "        vertical-align: middle;\n",
       "    }\n",
       "\n",
       "    .dataframe tbody tr th {\n",
       "        vertical-align: top;\n",
       "    }\n",
       "\n",
       "    .dataframe thead th {\n",
       "        text-align: right;\n",
       "    }\n",
       "</style>\n",
       "<table border=\"1\" class=\"dataframe\">\n",
       "  <thead>\n",
       "    <tr style=\"text-align: right;\">\n",
       "      <th></th>\n",
       "      <th>timezone</th>\n",
       "      <th>validity</th>\n",
       "      <th>abbr</th>\n",
       "      <th>utc_offset</th>\n",
       "    </tr>\n",
       "  </thead>\n",
       "  <tbody>\n",
       "    <tr>\n",
       "      <th>0</th>\n",
       "      <td>Asia/Shanghai</td>\n",
       "      <td>True</td>\n",
       "      <td>CST</td>\n",
       "      <td>+0800</td>\n",
       "    </tr>\n",
       "    <tr>\n",
       "      <th>2</th>\n",
       "      <td>America/New_York</td>\n",
       "      <td>True</td>\n",
       "      <td>EDT</td>\n",
       "      <td>-0400</td>\n",
       "    </tr>\n",
       "    <tr>\n",
       "      <th>3</th>\n",
       "      <td>Europe/London</td>\n",
       "      <td>True</td>\n",
       "      <td>BST</td>\n",
       "      <td>+0100</td>\n",
       "    </tr>\n",
       "    <tr>\n",
       "      <th>5</th>\n",
       "      <td>US/Eastern</td>\n",
       "      <td>True</td>\n",
       "      <td>EDT</td>\n",
       "      <td>-0400</td>\n",
       "    </tr>\n",
       "    <tr>\n",
       "      <th>6</th>\n",
       "      <td>America/Los_Angeles</td>\n",
       "      <td>True</td>\n",
       "      <td>PDT</td>\n",
       "      <td>-0700</td>\n",
       "    </tr>\n",
       "    <tr>\n",
       "      <th>7</th>\n",
       "      <td>Asia/Kolkata</td>\n",
       "      <td>True</td>\n",
       "      <td>IST</td>\n",
       "      <td>+0530</td>\n",
       "    </tr>\n",
       "    <tr>\n",
       "      <th>8</th>\n",
       "      <td>Europe/London</td>\n",
       "      <td>True</td>\n",
       "      <td>BST</td>\n",
       "      <td>+0100</td>\n",
       "    </tr>\n",
       "  </tbody>\n",
       "</table>\n",
       "</div>"
      ]
     },
     "execution_count": 39,
     "metadata": {},
     "output_type": "execute_result"
    }
   ],
   "execution_count": 39
  },
  {
   "metadata": {
    "ExecuteTime": {
     "end_time": "2024-09-17T07:30:34.897100Z",
     "start_time": "2024-09-17T07:30:34.894897Z"
    }
   },
   "cell_type": "code",
   "source": [
    "for tz in df_timezone.loc[:,'timezone']:\n",
    "    print(f\"{tz}: {datetime.now(pytz.timezone(tz)).strftime('%Z')}, {datetime.now(pytz.timezone(tz)).strftime('%z')}\")"
   ],
   "id": "d3cae03d9ec2389d",
   "outputs": [
    {
     "name": "stdout",
     "output_type": "stream",
     "text": [
      "Asia/Shanghai: CST, +0800\n",
      "America/New_York: EDT, -0400\n",
      "Europe/London: BST, +0100\n",
      "US/Eastern: EDT, -0400\n",
      "America/Los_Angeles: PDT, -0700\n",
      "Asia/Kolkata: IST, +0530\n",
      "Europe/London: BST, +0100\n"
     ]
    }
   ],
   "execution_count": 40
  },
  {
   "metadata": {
    "ExecuteTime": {
     "end_time": "2024-09-17T07:31:16.024402Z",
     "start_time": "2024-09-17T07:31:16.021375Z"
    }
   },
   "cell_type": "code",
   "source": [
    "# Create a timezone object for Eastern Time\n",
    "eastern = pytz.timezone('US/Eastern')\n",
    "\n",
    "# Create a datetime object for a specific date and time in Eastern Time\n",
    "dt = eastern.localize(datetime(2024, 3, 10, 2, 0)) \n",
    "\n",
    "# Check if DST is in effect for this datetime\n",
    "print(dt.dst())"
   ],
   "id": "7fd75c3711992ee3",
   "outputs": [
    {
     "name": "stdout",
     "output_type": "stream",
     "text": [
      "0:00:00\n"
     ]
    }
   ],
   "execution_count": 43
  },
  {
   "metadata": {
    "ExecuteTime": {
     "end_time": "2024-09-17T09:59:47.575717Z",
     "start_time": "2024-09-17T09:59:47.572306Z"
    }
   },
   "cell_type": "code",
   "source": "from zoneinfo import ZoneInfo",
   "id": "e6895a5d134824c0",
   "outputs": [],
   "execution_count": 56
  },
  {
   "metadata": {},
   "cell_type": "code",
   "outputs": [],
   "execution_count": null,
   "source": "",
   "id": "45d1ff9cdbe4b7e1"
  },
  {
   "metadata": {
    "ExecuteTime": {
     "end_time": "2024-09-17T07:30:54.717539Z",
     "start_time": "2024-09-17T07:30:54.713490Z"
    }
   },
   "cell_type": "code",
   "outputs": [
    {
     "name": "stdout",
     "output_type": "stream",
     "text": [
      "0:00:00\n",
      "2024-03-10 07:00:00+00:00\n"
     ]
    }
   ],
   "execution_count": 42,
   "source": [
    "\n",
    "# Convert the datetime to UTC\n",
    "dt_utc = dt.astimezone(pytz.utc)\n",
    "print(dt_utc)"
   ],
   "id": "449320a42e966585"
  },
  {
   "metadata": {
    "ExecuteTime": {
     "end_time": "2024-09-17T07:37:32.232063Z",
     "start_time": "2024-09-17T07:37:32.228173Z"
    }
   },
   "cell_type": "code",
   "source": [
    "\n",
    "dt1 = eastern.localize(datetime(2024, 3, 10, 1, 59), is_dst=False)\n",
    "print(dt1, dt1.dst())\n",
    "\n",
    "# After DST transition\n",
    "dt2 = eastern.localize(datetime(2024, 3, 10, 3, 0), is_dst=False)\n",
    "print(dt2, dt2.dst())\n"
   ],
   "id": "a2c7329b65253deb",
   "outputs": [
    {
     "name": "stdout",
     "output_type": "stream",
     "text": [
      "2024-03-10 01:59:00-05:00 0:00:00\n",
      "2024-03-10 03:00:00-04:00 1:00:00\n"
     ]
    }
   ],
   "execution_count": 55
  },
  {
   "metadata": {
    "ExecuteTime": {
     "end_time": "2024-09-17T07:37:29.316308Z",
     "start_time": "2024-09-17T07:37:29.313876Z"
    }
   },
   "cell_type": "code",
   "source": [
    "# Before DST transition\n",
    "dt1 = eastern.localize(datetime(2024, 3, 10, 1, 59), is_dst=True)\n",
    "print(dt1, dt1.dst())\n",
    "\n",
    "# After DST transition\n",
    "dt2 = eastern.localize(datetime(2024, 3, 10, 3, 0), is_dst=True)\n",
    "print(dt2, dt2.dst())\n",
    "# dt2.is_dst()"
   ],
   "id": "e43e7f54a97f0bfe",
   "outputs": [
    {
     "name": "stdout",
     "output_type": "stream",
     "text": [
      "2024-03-10 01:59:00-05:00 0:00:00\n",
      "2024-03-10 03:00:00-04:00 1:00:00\n"
     ]
    }
   ],
   "execution_count": 54
  }
 ],
 "metadata": {
  "kernelspec": {
   "display_name": "Python 3",
   "language": "python",
   "name": "python3"
  },
  "language_info": {
   "codemirror_mode": {
    "name": "ipython",
    "version": 2
   },
   "file_extension": ".py",
   "mimetype": "text/x-python",
   "name": "python",
   "nbconvert_exporter": "python",
   "pygments_lexer": "ipython2",
   "version": "2.7.6"
  }
 },
 "nbformat": 4,
 "nbformat_minor": 5
}
