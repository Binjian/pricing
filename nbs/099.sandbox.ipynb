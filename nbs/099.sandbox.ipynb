{
 "cells": [
  {
   "cell_type": "code",
   "id": "initial_id",
   "metadata": {
    "collapsed": true,
    "ExecuteTime": {
     "end_time": "2024-08-29T01:09:34.973211Z",
     "start_time": "2024-08-29T01:09:34.970607Z"
    }
   },
   "source": "#| default_exp sandbox",
   "outputs": [],
   "execution_count": 1
  },
  {
   "metadata": {
    "ExecuteTime": {
     "end_time": "2024-08-29T01:09:35.371574Z",
     "start_time": "2024-08-29T01:09:35.032672Z"
    }
   },
   "cell_type": "code",
   "source": [
    "from jupyterlab.extensions.pypi import https_proxy_url\n",
    "#| hide\n",
    "from nbdev.showdoc import *"
   ],
   "id": "69f2fd9f1001fde",
   "outputs": [],
   "execution_count": 2
  },
  {
   "metadata": {
    "ExecuteTime": {
     "end_time": "2024-08-29T01:09:35.415983Z",
     "start_time": "2024-08-29T01:09:35.407654Z"
    }
   },
   "cell_type": "code",
   "source": [
    "#| hide\n",
    "import nbdev; nbdev.nbdev_export()"
   ],
   "id": "e45af2fbb67e9b10",
   "outputs": [],
   "execution_count": 3
  },
  {
   "metadata": {
    "ExecuteTime": {
     "end_time": "2024-08-29T01:09:35.469232Z",
     "start_time": "2024-08-29T01:09:35.460403Z"
    }
   },
   "cell_type": "code",
   "source": [
    "from dotenv import load_dotenv\n",
    "load_dotenv()"
   ],
   "id": "9ece9e708562bcd0",
   "outputs": [
    {
     "data": {
      "text/plain": [
       "True"
      ]
     },
     "execution_count": 4,
     "metadata": {},
     "output_type": "execute_result"
    }
   ],
   "execution_count": 4
  },
  {
   "metadata": {
    "ExecuteTime": {
     "end_time": "2024-08-29T01:09:35.514776Z",
     "start_time": "2024-08-29T01:09:35.512499Z"
    }
   },
   "cell_type": "code",
   "source": [
    "from dotenv import dotenv_values\n",
    "config = dotenv_values(\".env\")\n",
    "key = config.get('GC_QUOTE_API_CREDENTIALS')"
   ],
   "id": "7d7b4652b6129837",
   "outputs": [],
   "execution_count": 5
  },
  {
   "metadata": {
    "ExecuteTime": {
     "end_time": "2024-08-29T01:09:36.030638Z",
     "start_time": "2024-08-29T01:09:35.560597Z"
    }
   },
   "cell_type": "code",
   "source": [
    "from google.cloud import bigquery\n",
    "import pandas_gbq\n",
    "from google.oauth2 import service_account\n",
    "credentials = service_account.Credentials.from_service_account_file(\"../res/quote-api-365206-39d39b2fde07.json\")"
   ],
   "id": "b7544c5a7f3bc524",
   "outputs": [],
   "execution_count": 6
  },
  {
   "metadata": {
    "ExecuteTime": {
     "end_time": "2024-08-29T01:09:36.038555Z",
     "start_time": "2024-08-29T01:09:36.036202Z"
    }
   },
   "cell_type": "code",
   "source": [
    "client = bigquery.Client(credentials=credentials)\n",
    "\n",
    "QUERY = \"\"\"\n",
    "\t\tselect *\n",
    "\t\tfrom `quote-api-365206.report.ride_dispatch_v` r\n",
    "\t\twhere dispatch_amount_net_usd is not null\n",
    "        limit 200\n",
    "\t\t\"\"\""
   ],
   "id": "9f7054304ef1f5e7",
   "outputs": [],
   "execution_count": 7
  },
  {
   "metadata": {
    "ExecuteTime": {
     "end_time": "2024-08-29T01:09:36.088432Z",
     "start_time": "2024-08-29T01:09:36.083668Z"
    }
   },
   "cell_type": "code",
   "source": [
    "QUERY_DISINCT = \"\"\"\n",
    "\t\tselect count (*)\n",
    "\t\tfrom `quote-api-365206.report.ride_dispatch_v` r\n",
    "\t\twhere trip_type is null\n",
    "        limit 200\n",
    "\t\t\"\"\""
   ],
   "id": "5e519ab5e84831b",
   "outputs": [],
   "execution_count": 8
  },
  {
   "metadata": {
    "ExecuteTime": {
     "end_time": "2024-08-29T01:09:36.387289Z",
     "start_time": "2024-08-29T01:09:36.149892Z"
    }
   },
   "cell_type": "code",
   "source": "!echo $HTTP_PROXY",
   "id": "7f3fb8607d727318",
   "outputs": [
    {
     "name": "stdout",
     "output_type": "stream",
     "text": [
      "http://127.0.0.1:20171\r\n"
     ]
    }
   ],
   "execution_count": 9
  },
  {
   "metadata": {
    "ExecuteTime": {
     "end_time": "2024-08-29T01:09:38.446420Z",
     "start_time": "2024-08-29T01:09:36.400743Z"
    }
   },
   "cell_type": "code",
   "source": "#query_job = client.query(QUERY)",
   "id": "eeeab2e7d37fa1f8",
   "outputs": [],
   "execution_count": 10
  },
  {
   "metadata": {
    "ExecuteTime": {
     "end_time": "2024-08-29T01:09:38.452515Z",
     "start_time": "2024-08-29T01:09:38.451320Z"
    }
   },
   "cell_type": "code",
   "source": "",
   "id": "b1b22490da524ffa",
   "outputs": [],
   "execution_count": null
  },
  {
   "metadata": {
    "ExecuteTime": {
     "end_time": "2024-08-29T01:09:40.142523Z",
     "start_time": "2024-08-29T01:09:38.518089Z"
    }
   },
   "cell_type": "code",
   "source": [
    "\n",
    "df = pandas_gbq.read_gbq(QUERY,credentials=credentials)"
   ],
   "id": "b3e020145cabe697",
   "outputs": [
    {
     "name": "stdout",
     "output_type": "stream",
     "text": [
      "Downloading: 100%|\u001B[32m██████████\u001B[0m|\n"
     ]
    }
   ],
   "execution_count": 11
  },
  {
   "metadata": {
    "ExecuteTime": {
     "end_time": "2024-08-29T01:09:41.703537Z",
     "start_time": "2024-08-29T01:09:40.203055Z"
    }
   },
   "cell_type": "code",
   "source": [
    "\n",
    "df_trip_type = pandas_gbq.read_gbq(QUERY_DISINCT,credentials=credentials)"
   ],
   "id": "a265f9a53856f6f1",
   "outputs": [
    {
     "name": "stdout",
     "output_type": "stream",
     "text": [
      "Downloading: 100%|\u001B[32m██████████\u001B[0m|\n"
     ]
    }
   ],
   "execution_count": 12
  },
  {
   "metadata": {
    "ExecuteTime": {
     "end_time": "2024-08-29T01:09:41.823225Z",
     "start_time": "2024-08-29T01:09:41.809914Z"
    }
   },
   "cell_type": "code",
   "source": [
    "\n",
    "df.head()"
   ],
   "id": "a1d4a54fb0713446",
   "outputs": [
    {
     "data": {
      "text/plain": [
       "   ride_id  trip_no  dispatch_id    trip_type  ride_stat   dispatch_stat  \\\n",
       "0  2180308        1        30975         None  Cancelled  At destination   \n",
       "1  2392467        0       505428         None   Accepted  At destination   \n",
       "2  2165291        0         1057         None  Cancelled  At destination   \n",
       "3  2165060        0          601         None  Cancelled  At destination   \n",
       "4  3531231        0      2800358  point2point  Cancelled        Accepted   \n",
       "\n",
       "   partner_tran_id  partner_id  from_fleet_id_as_customer pickup_date  ...  \\\n",
       "0            16772           1                         16  2021-07-11  ...   \n",
       "1           230866           1                         16  2022-11-12  ...   \n",
       "2              602           1                         16  2020-07-11  ...   \n",
       "3              324           1                         16  2020-06-24  ...   \n",
       "4          1377216           1                         16  2024-06-27  ...   \n",
       "\n",
       "  has_complaint has_fleet_complaint has_penalty_complaint has_ops_complaint  \\\n",
       "0             0                   0                     0                 0   \n",
       "1             1                   0                     1                 1   \n",
       "2             0                   0                     0                 0   \n",
       "3             0                   0                     0                 0   \n",
       "4             0                   0                     0                 0   \n",
       "\n",
       "   gps_ad_check  gps_cns_check  score  incoming_dispatch_info_last_updated_at  \\\n",
       "0             0              0   None               2021-07-08 02:48:47+00:00   \n",
       "1             0              0   None               2022-11-28 13:56:20+00:00   \n",
       "2             0              0   None               2020-07-09 23:21:31+00:00   \n",
       "3             0              0   None               2020-06-22 05:12:23+00:00   \n",
       "4             0              0   None               2024-06-13 13:12:21+00:00   \n",
       "\n",
       "  dispatch_info_last_updated_at                         etl_time  \n",
       "0     2021-07-11 22:17:56+00:00 2024-08-28 23:05:44.634866+00:00  \n",
       "1     2022-11-28 13:56:41+00:00 2024-08-28 23:05:44.634866+00:00  \n",
       "2     2020-07-11 00:38:55+00:00 2024-08-28 23:05:44.634866+00:00  \n",
       "3     2020-06-24 22:55:30+00:00 2024-08-28 23:05:44.634866+00:00  \n",
       "4     2024-06-13 14:10:19+00:00 2024-08-28 23:05:44.634866+00:00  \n",
       "\n",
       "[5 rows x 56 columns]"
      ],
      "text/html": [
       "<div>\n",
       "<style scoped>\n",
       "    .dataframe tbody tr th:only-of-type {\n",
       "        vertical-align: middle;\n",
       "    }\n",
       "\n",
       "    .dataframe tbody tr th {\n",
       "        vertical-align: top;\n",
       "    }\n",
       "\n",
       "    .dataframe thead th {\n",
       "        text-align: right;\n",
       "    }\n",
       "</style>\n",
       "<table border=\"1\" class=\"dataframe\">\n",
       "  <thead>\n",
       "    <tr style=\"text-align: right;\">\n",
       "      <th></th>\n",
       "      <th>ride_id</th>\n",
       "      <th>trip_no</th>\n",
       "      <th>dispatch_id</th>\n",
       "      <th>trip_type</th>\n",
       "      <th>ride_stat</th>\n",
       "      <th>dispatch_stat</th>\n",
       "      <th>partner_tran_id</th>\n",
       "      <th>partner_id</th>\n",
       "      <th>from_fleet_id_as_customer</th>\n",
       "      <th>pickup_date</th>\n",
       "      <th>...</th>\n",
       "      <th>has_complaint</th>\n",
       "      <th>has_fleet_complaint</th>\n",
       "      <th>has_penalty_complaint</th>\n",
       "      <th>has_ops_complaint</th>\n",
       "      <th>gps_ad_check</th>\n",
       "      <th>gps_cns_check</th>\n",
       "      <th>score</th>\n",
       "      <th>incoming_dispatch_info_last_updated_at</th>\n",
       "      <th>dispatch_info_last_updated_at</th>\n",
       "      <th>etl_time</th>\n",
       "    </tr>\n",
       "  </thead>\n",
       "  <tbody>\n",
       "    <tr>\n",
       "      <th>0</th>\n",
       "      <td>2180308</td>\n",
       "      <td>1</td>\n",
       "      <td>30975</td>\n",
       "      <td>None</td>\n",
       "      <td>Cancelled</td>\n",
       "      <td>At destination</td>\n",
       "      <td>16772</td>\n",
       "      <td>1</td>\n",
       "      <td>16</td>\n",
       "      <td>2021-07-11</td>\n",
       "      <td>...</td>\n",
       "      <td>0</td>\n",
       "      <td>0</td>\n",
       "      <td>0</td>\n",
       "      <td>0</td>\n",
       "      <td>0</td>\n",
       "      <td>0</td>\n",
       "      <td>None</td>\n",
       "      <td>2021-07-08 02:48:47+00:00</td>\n",
       "      <td>2021-07-11 22:17:56+00:00</td>\n",
       "      <td>2024-08-28 23:05:44.634866+00:00</td>\n",
       "    </tr>\n",
       "    <tr>\n",
       "      <th>1</th>\n",
       "      <td>2392467</td>\n",
       "      <td>0</td>\n",
       "      <td>505428</td>\n",
       "      <td>None</td>\n",
       "      <td>Accepted</td>\n",
       "      <td>At destination</td>\n",
       "      <td>230866</td>\n",
       "      <td>1</td>\n",
       "      <td>16</td>\n",
       "      <td>2022-11-12</td>\n",
       "      <td>...</td>\n",
       "      <td>1</td>\n",
       "      <td>0</td>\n",
       "      <td>1</td>\n",
       "      <td>1</td>\n",
       "      <td>0</td>\n",
       "      <td>0</td>\n",
       "      <td>None</td>\n",
       "      <td>2022-11-28 13:56:20+00:00</td>\n",
       "      <td>2022-11-28 13:56:41+00:00</td>\n",
       "      <td>2024-08-28 23:05:44.634866+00:00</td>\n",
       "    </tr>\n",
       "    <tr>\n",
       "      <th>2</th>\n",
       "      <td>2165291</td>\n",
       "      <td>0</td>\n",
       "      <td>1057</td>\n",
       "      <td>None</td>\n",
       "      <td>Cancelled</td>\n",
       "      <td>At destination</td>\n",
       "      <td>602</td>\n",
       "      <td>1</td>\n",
       "      <td>16</td>\n",
       "      <td>2020-07-11</td>\n",
       "      <td>...</td>\n",
       "      <td>0</td>\n",
       "      <td>0</td>\n",
       "      <td>0</td>\n",
       "      <td>0</td>\n",
       "      <td>0</td>\n",
       "      <td>0</td>\n",
       "      <td>None</td>\n",
       "      <td>2020-07-09 23:21:31+00:00</td>\n",
       "      <td>2020-07-11 00:38:55+00:00</td>\n",
       "      <td>2024-08-28 23:05:44.634866+00:00</td>\n",
       "    </tr>\n",
       "    <tr>\n",
       "      <th>3</th>\n",
       "      <td>2165060</td>\n",
       "      <td>0</td>\n",
       "      <td>601</td>\n",
       "      <td>None</td>\n",
       "      <td>Cancelled</td>\n",
       "      <td>At destination</td>\n",
       "      <td>324</td>\n",
       "      <td>1</td>\n",
       "      <td>16</td>\n",
       "      <td>2020-06-24</td>\n",
       "      <td>...</td>\n",
       "      <td>0</td>\n",
       "      <td>0</td>\n",
       "      <td>0</td>\n",
       "      <td>0</td>\n",
       "      <td>0</td>\n",
       "      <td>0</td>\n",
       "      <td>None</td>\n",
       "      <td>2020-06-22 05:12:23+00:00</td>\n",
       "      <td>2020-06-24 22:55:30+00:00</td>\n",
       "      <td>2024-08-28 23:05:44.634866+00:00</td>\n",
       "    </tr>\n",
       "    <tr>\n",
       "      <th>4</th>\n",
       "      <td>3531231</td>\n",
       "      <td>0</td>\n",
       "      <td>2800358</td>\n",
       "      <td>point2point</td>\n",
       "      <td>Cancelled</td>\n",
       "      <td>Accepted</td>\n",
       "      <td>1377216</td>\n",
       "      <td>1</td>\n",
       "      <td>16</td>\n",
       "      <td>2024-06-27</td>\n",
       "      <td>...</td>\n",
       "      <td>0</td>\n",
       "      <td>0</td>\n",
       "      <td>0</td>\n",
       "      <td>0</td>\n",
       "      <td>0</td>\n",
       "      <td>0</td>\n",
       "      <td>None</td>\n",
       "      <td>2024-06-13 13:12:21+00:00</td>\n",
       "      <td>2024-06-13 14:10:19+00:00</td>\n",
       "      <td>2024-08-28 23:05:44.634866+00:00</td>\n",
       "    </tr>\n",
       "  </tbody>\n",
       "</table>\n",
       "<p>5 rows × 56 columns</p>\n",
       "</div>"
      ]
     },
     "execution_count": 13,
     "metadata": {},
     "output_type": "execute_result"
    }
   ],
   "execution_count": 13
  },
  {
   "metadata": {
    "ExecuteTime": {
     "end_time": "2024-08-29T01:09:41.877913Z",
     "start_time": "2024-08-29T01:09:41.875191Z"
    }
   },
   "cell_type": "code",
   "source": [
    "QUERY_ROUTE = \"\"\"\n",
    "        SELECT r.*, p1.lat from_lat, p1.lng from_lng, p2.lat to_lat, p2.lng to_lng\n",
    "        FROM `report.ride_dispatch_v` r\n",
    "        left JOIN `report.dim_place` p1\n",
    "        ON r.pickup_place_id=p1.id\n",
    "        INNER JOIN `report.dim_place` p2\n",
    "        ON r.pickup_place_id=p2.id\n",
    "        ORDER BY ride_id DESC\n",
    "        limit 2;\n",
    "\t\t\"\"\"\n"
   ],
   "id": "347f3950aa14cc48",
   "outputs": [],
   "execution_count": 14
  },
  {
   "metadata": {
    "ExecuteTime": {
     "end_time": "2024-08-29T01:09:45.295393Z",
     "start_time": "2024-08-29T01:09:41.923370Z"
    }
   },
   "cell_type": "code",
   "source": "df_route = pandas_gbq.read_gbq(QUERY_ROUTE,credentials=credentials)",
   "id": "152bcf5ff80968a6",
   "outputs": [
    {
     "name": "stdout",
     "output_type": "stream",
     "text": [
      "Downloading: 100%|\u001B[32m██████████\u001B[0m|\n"
     ]
    }
   ],
   "execution_count": 15
  },
  {
   "metadata": {
    "ExecuteTime": {
     "end_time": "2024-08-29T01:09:45.389142Z",
     "start_time": "2024-08-29T01:09:45.380549Z"
    }
   },
   "cell_type": "code",
   "source": "df_route.head()",
   "id": "fcf736c1c65d7921",
   "outputs": [
    {
     "data": {
      "text/plain": [
       "   ride_id  trip_no  dispatch_id    trip_type ride_stat dispatch_stat  \\\n",
       "0  3763046        0      3212553  point2point   Pending          None   \n",
       "1  3763045        0      3212552  point2point   Pending          None   \n",
       "\n",
       "   partner_tran_id  partner_id  from_fleet_id_as_customer pickup_date  ...  \\\n",
       "0          1581152        2692                      57395  2024-11-11  ...   \n",
       "1          1581151           2                         18  2024-10-19  ...   \n",
       "\n",
       "  gps_ad_check gps_cns_check score incoming_dispatch_info_last_updated_at  \\\n",
       "0            0             0  None              2024-08-28 22:50:59+00:00   \n",
       "1            0             0  None              2024-08-28 22:50:24+00:00   \n",
       "\n",
       "   dispatch_info_last_updated_at                         etl_time  \\\n",
       "0                            NaT 2024-08-28 23:05:44.634866+00:00   \n",
       "1                            NaT 2024-08-28 23:05:44.634866+00:00   \n",
       "\n",
       "        from_lat       from_lng         to_lat         to_lng  \n",
       "0    1.316602200  103.900220000    1.316602200  103.900220000  \n",
       "1  -33.410093000  -70.792723000  -33.410093000  -70.792723000  \n",
       "\n",
       "[2 rows x 60 columns]"
      ],
      "text/html": [
       "<div>\n",
       "<style scoped>\n",
       "    .dataframe tbody tr th:only-of-type {\n",
       "        vertical-align: middle;\n",
       "    }\n",
       "\n",
       "    .dataframe tbody tr th {\n",
       "        vertical-align: top;\n",
       "    }\n",
       "\n",
       "    .dataframe thead th {\n",
       "        text-align: right;\n",
       "    }\n",
       "</style>\n",
       "<table border=\"1\" class=\"dataframe\">\n",
       "  <thead>\n",
       "    <tr style=\"text-align: right;\">\n",
       "      <th></th>\n",
       "      <th>ride_id</th>\n",
       "      <th>trip_no</th>\n",
       "      <th>dispatch_id</th>\n",
       "      <th>trip_type</th>\n",
       "      <th>ride_stat</th>\n",
       "      <th>dispatch_stat</th>\n",
       "      <th>partner_tran_id</th>\n",
       "      <th>partner_id</th>\n",
       "      <th>from_fleet_id_as_customer</th>\n",
       "      <th>pickup_date</th>\n",
       "      <th>...</th>\n",
       "      <th>gps_ad_check</th>\n",
       "      <th>gps_cns_check</th>\n",
       "      <th>score</th>\n",
       "      <th>incoming_dispatch_info_last_updated_at</th>\n",
       "      <th>dispatch_info_last_updated_at</th>\n",
       "      <th>etl_time</th>\n",
       "      <th>from_lat</th>\n",
       "      <th>from_lng</th>\n",
       "      <th>to_lat</th>\n",
       "      <th>to_lng</th>\n",
       "    </tr>\n",
       "  </thead>\n",
       "  <tbody>\n",
       "    <tr>\n",
       "      <th>0</th>\n",
       "      <td>3763046</td>\n",
       "      <td>0</td>\n",
       "      <td>3212553</td>\n",
       "      <td>point2point</td>\n",
       "      <td>Pending</td>\n",
       "      <td>None</td>\n",
       "      <td>1581152</td>\n",
       "      <td>2692</td>\n",
       "      <td>57395</td>\n",
       "      <td>2024-11-11</td>\n",
       "      <td>...</td>\n",
       "      <td>0</td>\n",
       "      <td>0</td>\n",
       "      <td>None</td>\n",
       "      <td>2024-08-28 22:50:59+00:00</td>\n",
       "      <td>NaT</td>\n",
       "      <td>2024-08-28 23:05:44.634866+00:00</td>\n",
       "      <td>1.316602200</td>\n",
       "      <td>103.900220000</td>\n",
       "      <td>1.316602200</td>\n",
       "      <td>103.900220000</td>\n",
       "    </tr>\n",
       "    <tr>\n",
       "      <th>1</th>\n",
       "      <td>3763045</td>\n",
       "      <td>0</td>\n",
       "      <td>3212552</td>\n",
       "      <td>point2point</td>\n",
       "      <td>Pending</td>\n",
       "      <td>None</td>\n",
       "      <td>1581151</td>\n",
       "      <td>2</td>\n",
       "      <td>18</td>\n",
       "      <td>2024-10-19</td>\n",
       "      <td>...</td>\n",
       "      <td>0</td>\n",
       "      <td>0</td>\n",
       "      <td>None</td>\n",
       "      <td>2024-08-28 22:50:24+00:00</td>\n",
       "      <td>NaT</td>\n",
       "      <td>2024-08-28 23:05:44.634866+00:00</td>\n",
       "      <td>-33.410093000</td>\n",
       "      <td>-70.792723000</td>\n",
       "      <td>-33.410093000</td>\n",
       "      <td>-70.792723000</td>\n",
       "    </tr>\n",
       "  </tbody>\n",
       "</table>\n",
       "<p>2 rows × 60 columns</p>\n",
       "</div>"
      ]
     },
     "execution_count": 16,
     "metadata": {},
     "output_type": "execute_result"
    }
   ],
   "execution_count": 16
  },
  {
   "metadata": {
    "ExecuteTime": {
     "end_time": "2024-08-29T01:09:45.484364Z",
     "start_time": "2024-08-29T01:09:45.480186Z"
    }
   },
   "cell_type": "code",
   "source": "df_route.dtypes",
   "id": "2e1c0b7643c57034",
   "outputs": [
    {
     "data": {
      "text/plain": [
       "ride_id                                                 Int64\n",
       "trip_no                                                 Int64\n",
       "dispatch_id                                             Int64\n",
       "trip_type                                              object\n",
       "ride_stat                                              object\n",
       "dispatch_stat                                          object\n",
       "partner_tran_id                                         Int64\n",
       "partner_id                                              Int64\n",
       "from_fleet_id_as_customer                               Int64\n",
       "pickup_date                                            dbdate\n",
       "pickup_time                                            dbtime\n",
       "pickup_datetime                           datetime64[us, UTC]\n",
       "pickup_local_datetime                          datetime64[us]\n",
       "pickup_local_datetime_str                              object\n",
       "pickup_place_id                                         Int64\n",
       "dropoff_place_id                                        Int64\n",
       "passenger_id                                            Int64\n",
       "vehicle_class_id                                        Int64\n",
       "vehicle_class                                          object\n",
       "service_area_id                                         Int64\n",
       "vip                                                     Int64\n",
       "meet_n_greet                                            Int64\n",
       "booking_date                                           dbdate\n",
       "booking_datetime                          datetime64[us, UTC]\n",
       "from_fleet_id                                           Int64\n",
       "to_fleet_id                                             Int64\n",
       "fleet_driver_id                                         Int64\n",
       "distance                                                Int64\n",
       "duration                                                Int64\n",
       "trip_count                                              Int64\n",
       "luggage_count                                           Int64\n",
       "passenger_count                                         Int64\n",
       "infant_count                                            Int64\n",
       "children_count                                          Int64\n",
       "ride_operator                                           Int64\n",
       "additional_operator                                     Int64\n",
       "dispatch_operator                                       Int64\n",
       "dispatch_type                                          object\n",
       "partner_amount_currency                                object\n",
       "original_partner_amount_by_trip                        object\n",
       "partner_amount_usd                                     object\n",
       "elife_amount_usd                                       object\n",
       "elife_amount_usd_by_trip                               object\n",
       "original_dispatch_amount                               object\n",
       "dispatch_amount_net_usd                                object\n",
       "additional_charge_amount_usd                           object\n",
       "has_complaint                                           Int64\n",
       "has_fleet_complaint                                     Int64\n",
       "has_penalty_complaint                                   Int64\n",
       "has_ops_complaint                                       Int64\n",
       "gps_ad_check                                            Int64\n",
       "gps_cns_check                                           Int64\n",
       "score                                                  object\n",
       "incoming_dispatch_info_last_updated_at    datetime64[us, UTC]\n",
       "dispatch_info_last_updated_at             datetime64[us, UTC]\n",
       "etl_time                                  datetime64[us, UTC]\n",
       "from_lat                                               object\n",
       "from_lng                                               object\n",
       "to_lat                                                 object\n",
       "to_lng                                                 object\n",
       "dtype: object"
      ]
     },
     "execution_count": 17,
     "metadata": {},
     "output_type": "execute_result"
    }
   ],
   "execution_count": 17
  }
 ],
 "metadata": {
  "kernelspec": {
   "display_name": "Python 3",
   "language": "python",
   "name": "python3"
  },
  "language_info": {
   "codemirror_mode": {
    "name": "ipython",
    "version": 2
   },
   "file_extension": ".py",
   "mimetype": "text/x-python",
   "name": "python",
   "nbconvert_exporter": "python",
   "pygments_lexer": "ipython2",
   "version": "2.7.6"
  }
 },
 "nbformat": 4,
 "nbformat_minor": 5
}
