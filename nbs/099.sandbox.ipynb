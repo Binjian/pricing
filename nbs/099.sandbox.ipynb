{
 "cells": [
  {
   "cell_type": "code",
   "id": "initial_id",
   "metadata": {
    "collapsed": true,
    "ExecuteTime": {
     "end_time": "2024-09-02T07:27:59.545308Z",
     "start_time": "2024-09-02T07:27:59.543261Z"
    }
   },
   "source": "#| default_exp sandbox",
   "outputs": [],
   "execution_count": 14
  },
  {
   "metadata": {
    "ExecuteTime": {
     "end_time": "2024-09-02T07:27:59.592901Z",
     "start_time": "2024-09-02T07:27:59.590343Z"
    }
   },
   "cell_type": "code",
   "source": [
    "#| hide\n",
    "from nbdev.showdoc import *"
   ],
   "id": "69f2fd9f1001fde",
   "outputs": [],
   "execution_count": 15
  },
  {
   "metadata": {
    "ExecuteTime": {
     "end_time": "2024-09-02T07:27:59.653298Z",
     "start_time": "2024-09-02T07:27:59.635701Z"
    }
   },
   "cell_type": "code",
   "source": [
    "#| hide\n",
    "import nbdev; nbdev.nbdev_export()"
   ],
   "id": "e45af2fbb67e9b10",
   "outputs": [],
   "execution_count": 16
  },
  {
   "metadata": {
    "ExecuteTime": {
     "end_time": "2024-09-02T07:27:59.687402Z",
     "start_time": "2024-09-02T07:27:59.684568Z"
    }
   },
   "cell_type": "code",
   "source": [
    "#| hide\n",
    "from IPython.core.interactiveshell import InteractiveShell\n",
    "InteractiveShell.ast_node_interactivity = \"all\""
   ],
   "id": "64bbfb25e116b5d7",
   "outputs": [],
   "execution_count": 17
  },
  {
   "metadata": {
    "ExecuteTime": {
     "end_time": "2024-09-02T07:31:53.660360Z",
     "start_time": "2024-09-02T07:31:53.657354Z"
    }
   },
   "cell_type": "code",
   "source": [
    "from dotenv import load_dotenv\n",
    "import os\n",
    "load_dotenv(\"../.env\")"
   ],
   "id": "9ece9e708562bcd0",
   "outputs": [
    {
     "data": {
      "text/plain": [
       "True"
      ]
     },
     "execution_count": 31,
     "metadata": {},
     "output_type": "execute_result"
    }
   ],
   "execution_count": 31
  },
  {
   "metadata": {},
   "cell_type": "code",
   "outputs": [],
   "execution_count": null,
   "source": [
    "os.environ['HTTP_PROXY'] = \"http://127.0.0.1:20171\"\n",
    "os.environ['HTTPS_PROXY'] = \"http://127.0.0.1:20171\"\n",
    "os.environ['http_proxy'] = \"http://127.0.0.1:20171\"\n",
    "os.environ['https_proxy'] = \"http://127.0.0.1:20171\""
   ],
   "id": "20252bb0530c80f1"
  },
  {
   "metadata": {
    "ExecuteTime": {
     "end_time": "2024-09-02T07:31:56.568446Z",
     "start_time": "2024-09-02T07:31:56.561959Z"
    }
   },
   "cell_type": "code",
   "source": [
    "os.getenv('GC_QUOTE_API_CREDENTIALS')\n",
    "os.getenv('HTTP_PROXY')\n",
    "os.getenv('HTTPS_PROXY')"
   ],
   "id": "5f0abe5ff30ba42f",
   "outputs": [
    {
     "data": {
      "text/plain": [
       "'res/quote-api-365206-39d39b2fde07.json'"
      ]
     },
     "execution_count": 32,
     "metadata": {},
     "output_type": "execute_result"
    },
    {
     "data": {
      "text/plain": [
       "'http://127.0.0.1:20171'"
      ]
     },
     "execution_count": 32,
     "metadata": {},
     "output_type": "execute_result"
    },
    {
     "data": {
      "text/plain": [
       "'http://127.0.0.1:20171'"
      ]
     },
     "execution_count": 32,
     "metadata": {},
     "output_type": "execute_result"
    }
   ],
   "execution_count": 32
  },
  {
   "metadata": {
    "ExecuteTime": {
     "end_time": "2024-09-02T07:32:02.106257Z",
     "start_time": "2024-09-02T07:32:02.101537Z"
    }
   },
   "cell_type": "code",
   "source": [
    "from dotenv import dotenv_values\n",
    "config = dotenv_values(\"../.env\")\n",
    "key = config.get('GC_QUOTE_API_CREDENTIALS')"
   ],
   "id": "7d7b4652b6129837",
   "outputs": [],
   "execution_count": 34
  },
  {
   "metadata": {
    "ExecuteTime": {
     "end_time": "2024-09-02T07:32:07.121447Z",
     "start_time": "2024-09-02T07:32:07.117630Z"
    }
   },
   "cell_type": "code",
   "source": [
    "from google.cloud import bigquery\n",
    "import pandas_gbq\n",
    "from google.oauth2 import service_account\n",
    "credentials = service_account.Credentials.from_service_account_file(\"../\" + key)"
   ],
   "id": "b7544c5a7f3bc524",
   "outputs": [],
   "execution_count": 35
  },
  {
   "metadata": {
    "ExecuteTime": {
     "end_time": "2024-09-02T07:32:09.126499Z",
     "start_time": "2024-09-02T07:32:09.122327Z"
    }
   },
   "cell_type": "code",
   "source": [
    "client = bigquery.Client(credentials=credentials)\n",
    "\n",
    "QUERY = \"\"\"\n",
    "\t\tselect *\n",
    "\t\tfrom `quote-api-365206.report.ride_dispatch_v` r\n",
    "\t\twhere dispatch_amount_net_usd is not null\n",
    "        limit 200\n",
    "\t\t\"\"\""
   ],
   "id": "9f7054304ef1f5e7",
   "outputs": [],
   "execution_count": 36
  },
  {
   "metadata": {
    "ExecuteTime": {
     "end_time": "2024-09-02T07:32:10.973177Z",
     "start_time": "2024-09-02T07:32:10.971139Z"
    }
   },
   "cell_type": "code",
   "source": [
    "QUERY_DISINCT = \"\"\"\n",
    "\t\tselect count (*)\n",
    "\t\tfrom `quote-api-365206.report.ride_dispatch_v` r\n",
    "\t\twhere trip_type is null\n",
    "        limit 200\n",
    "\t\t\"\"\""
   ],
   "id": "5e519ab5e84831b",
   "outputs": [],
   "execution_count": 37
  },
  {
   "metadata": {
    "ExecuteTime": {
     "end_time": "2024-09-02T07:32:14.021928Z",
     "start_time": "2024-09-02T07:32:13.804183Z"
    }
   },
   "cell_type": "code",
   "source": "!echo $HTTP_PROXY",
   "id": "7f3fb8607d727318",
   "outputs": [
    {
     "name": "stdout",
     "output_type": "stream",
     "text": [
      "http://127.0.0.1:20171\r\n"
     ]
    }
   ],
   "execution_count": 38
  },
  {
   "metadata": {
    "ExecuteTime": {
     "end_time": "2024-09-02T07:28:00.538830Z",
     "start_time": "2024-09-02T07:28:00.536195Z"
    }
   },
   "cell_type": "code",
   "source": "#query_job = client.query(QUERY)",
   "id": "eeeab2e7d37fa1f8",
   "outputs": [],
   "execution_count": 26
  },
  {
   "metadata": {
    "ExecuteTime": {
     "end_time": "2024-09-02T07:32:35.770100811Z",
     "start_time": "2024-09-02T07:32:25.829806Z"
    }
   },
   "cell_type": "code",
   "source": [
    "\n",
    "df = pandas_gbq.read_gbq(QUERY,credentials=credentials)"
   ],
   "id": "b3e020145cabe697",
   "outputs": [
    {
     "ename": "KeyboardInterrupt",
     "evalue": "",
     "output_type": "error",
     "traceback": [
      "\u001B[0;31m---------------------------------------------------------------------------\u001B[0m",
      "\u001B[0;31mgaierror\u001B[0m                                  Traceback (most recent call last)",
      "File \u001B[0;32m~/.pyenv/versions/miniconda3-3.12-24.5.0-0/envs/prc/lib/python3.12/site-packages/urllib3/connection.py:196\u001B[0m, in \u001B[0;36mHTTPConnection._new_conn\u001B[0;34m(self)\u001B[0m\n\u001B[1;32m    195\u001B[0m \u001B[38;5;28;01mtry\u001B[39;00m:\n\u001B[0;32m--> 196\u001B[0m     sock \u001B[38;5;241m=\u001B[39m \u001B[43mconnection\u001B[49m\u001B[38;5;241;43m.\u001B[39;49m\u001B[43mcreate_connection\u001B[49m\u001B[43m(\u001B[49m\n\u001B[1;32m    197\u001B[0m \u001B[43m        \u001B[49m\u001B[43m(\u001B[49m\u001B[38;5;28;43mself\u001B[39;49m\u001B[38;5;241;43m.\u001B[39;49m\u001B[43m_dns_host\u001B[49m\u001B[43m,\u001B[49m\u001B[43m \u001B[49m\u001B[38;5;28;43mself\u001B[39;49m\u001B[38;5;241;43m.\u001B[39;49m\u001B[43mport\u001B[49m\u001B[43m)\u001B[49m\u001B[43m,\u001B[49m\n\u001B[1;32m    198\u001B[0m \u001B[43m        \u001B[49m\u001B[38;5;28;43mself\u001B[39;49m\u001B[38;5;241;43m.\u001B[39;49m\u001B[43mtimeout\u001B[49m\u001B[43m,\u001B[49m\n\u001B[1;32m    199\u001B[0m \u001B[43m        \u001B[49m\u001B[43msource_address\u001B[49m\u001B[38;5;241;43m=\u001B[39;49m\u001B[38;5;28;43mself\u001B[39;49m\u001B[38;5;241;43m.\u001B[39;49m\u001B[43msource_address\u001B[49m\u001B[43m,\u001B[49m\n\u001B[1;32m    200\u001B[0m \u001B[43m        \u001B[49m\u001B[43msocket_options\u001B[49m\u001B[38;5;241;43m=\u001B[39;49m\u001B[38;5;28;43mself\u001B[39;49m\u001B[38;5;241;43m.\u001B[39;49m\u001B[43msocket_options\u001B[49m\u001B[43m,\u001B[49m\n\u001B[1;32m    201\u001B[0m \u001B[43m    \u001B[49m\u001B[43m)\u001B[49m\n\u001B[1;32m    202\u001B[0m \u001B[38;5;28;01mexcept\u001B[39;00m socket\u001B[38;5;241m.\u001B[39mgaierror \u001B[38;5;28;01mas\u001B[39;00m e:\n",
      "File \u001B[0;32m~/.pyenv/versions/miniconda3-3.12-24.5.0-0/envs/prc/lib/python3.12/site-packages/urllib3/util/connection.py:60\u001B[0m, in \u001B[0;36mcreate_connection\u001B[0;34m(address, timeout, source_address, socket_options)\u001B[0m\n\u001B[1;32m     58\u001B[0m     \u001B[38;5;28;01mraise\u001B[39;00m LocationParseError(\u001B[38;5;124mf\u001B[39m\u001B[38;5;124m\"\u001B[39m\u001B[38;5;124m'\u001B[39m\u001B[38;5;132;01m{\u001B[39;00mhost\u001B[38;5;132;01m}\u001B[39;00m\u001B[38;5;124m'\u001B[39m\u001B[38;5;124m, label empty or too long\u001B[39m\u001B[38;5;124m\"\u001B[39m) \u001B[38;5;28;01mfrom\u001B[39;00m \u001B[38;5;28;01mNone\u001B[39;00m\n\u001B[0;32m---> 60\u001B[0m \u001B[38;5;28;01mfor\u001B[39;00m res \u001B[38;5;129;01min\u001B[39;00m \u001B[43msocket\u001B[49m\u001B[38;5;241;43m.\u001B[39;49m\u001B[43mgetaddrinfo\u001B[49m\u001B[43m(\u001B[49m\u001B[43mhost\u001B[49m\u001B[43m,\u001B[49m\u001B[43m \u001B[49m\u001B[43mport\u001B[49m\u001B[43m,\u001B[49m\u001B[43m \u001B[49m\u001B[43mfamily\u001B[49m\u001B[43m,\u001B[49m\u001B[43m \u001B[49m\u001B[43msocket\u001B[49m\u001B[38;5;241;43m.\u001B[39;49m\u001B[43mSOCK_STREAM\u001B[49m\u001B[43m)\u001B[49m:\n\u001B[1;32m     61\u001B[0m     af, socktype, proto, canonname, sa \u001B[38;5;241m=\u001B[39m res\n",
      "File \u001B[0;32m~/.pyenv/versions/miniconda3-3.12-24.5.0-0/envs/prc/lib/python3.12/socket.py:976\u001B[0m, in \u001B[0;36mgetaddrinfo\u001B[0;34m(host, port, family, type, proto, flags)\u001B[0m\n\u001B[1;32m    975\u001B[0m addrlist \u001B[38;5;241m=\u001B[39m []\n\u001B[0;32m--> 976\u001B[0m \u001B[38;5;28;01mfor\u001B[39;00m res \u001B[38;5;129;01min\u001B[39;00m \u001B[43m_socket\u001B[49m\u001B[38;5;241;43m.\u001B[39;49m\u001B[43mgetaddrinfo\u001B[49m\u001B[43m(\u001B[49m\u001B[43mhost\u001B[49m\u001B[43m,\u001B[49m\u001B[43m \u001B[49m\u001B[43mport\u001B[49m\u001B[43m,\u001B[49m\u001B[43m \u001B[49m\u001B[43mfamily\u001B[49m\u001B[43m,\u001B[49m\u001B[43m \u001B[49m\u001B[38;5;28;43mtype\u001B[39;49m\u001B[43m,\u001B[49m\u001B[43m \u001B[49m\u001B[43mproto\u001B[49m\u001B[43m,\u001B[49m\u001B[43m \u001B[49m\u001B[43mflags\u001B[49m\u001B[43m)\u001B[49m:\n\u001B[1;32m    977\u001B[0m     af, socktype, proto, canonname, sa \u001B[38;5;241m=\u001B[39m res\n",
      "\u001B[0;31mgaierror\u001B[0m: [Errno -3] Temporary failure in name resolution",
      "\nThe above exception was the direct cause of the following exception:\n",
      "\u001B[0;31mNameResolutionError\u001B[0m                       Traceback (most recent call last)",
      "File \u001B[0;32m~/.pyenv/versions/miniconda3-3.12-24.5.0-0/envs/prc/lib/python3.12/site-packages/urllib3/connectionpool.py:775\u001B[0m, in \u001B[0;36mHTTPConnectionPool.urlopen\u001B[0;34m(self, method, url, body, headers, retries, redirect, assert_same_host, timeout, pool_timeout, release_conn, chunked, body_pos, preload_content, decode_content, **response_kw)\u001B[0m\n\u001B[1;32m    774\u001B[0m \u001B[38;5;28;01mtry\u001B[39;00m:\n\u001B[0;32m--> 775\u001B[0m     \u001B[38;5;28;43mself\u001B[39;49m\u001B[38;5;241;43m.\u001B[39;49m\u001B[43m_prepare_proxy\u001B[49m\u001B[43m(\u001B[49m\u001B[43mconn\u001B[49m\u001B[43m)\u001B[49m\n\u001B[1;32m    776\u001B[0m \u001B[38;5;28;01mexcept\u001B[39;00m (BaseSSLError, \u001B[38;5;167;01mOSError\u001B[39;00m, SocketTimeout) \u001B[38;5;28;01mas\u001B[39;00m e:\n",
      "File \u001B[0;32m~/.pyenv/versions/miniconda3-3.12-24.5.0-0/envs/prc/lib/python3.12/site-packages/urllib3/connectionpool.py:1044\u001B[0m, in \u001B[0;36mHTTPSConnectionPool._prepare_proxy\u001B[0;34m(self, conn)\u001B[0m\n\u001B[1;32m   1038\u001B[0m conn\u001B[38;5;241m.\u001B[39mset_tunnel(\n\u001B[1;32m   1039\u001B[0m     scheme\u001B[38;5;241m=\u001B[39mtunnel_scheme,\n\u001B[1;32m   1040\u001B[0m     host\u001B[38;5;241m=\u001B[39m\u001B[38;5;28mself\u001B[39m\u001B[38;5;241m.\u001B[39m_tunnel_host,\n\u001B[1;32m   1041\u001B[0m     port\u001B[38;5;241m=\u001B[39m\u001B[38;5;28mself\u001B[39m\u001B[38;5;241m.\u001B[39mport,\n\u001B[1;32m   1042\u001B[0m     headers\u001B[38;5;241m=\u001B[39m\u001B[38;5;28mself\u001B[39m\u001B[38;5;241m.\u001B[39mproxy_headers,\n\u001B[1;32m   1043\u001B[0m )\n\u001B[0;32m-> 1044\u001B[0m \u001B[43mconn\u001B[49m\u001B[38;5;241;43m.\u001B[39;49m\u001B[43mconnect\u001B[49m\u001B[43m(\u001B[49m\u001B[43m)\u001B[49m\n",
      "File \u001B[0;32m~/.pyenv/versions/miniconda3-3.12-24.5.0-0/envs/prc/lib/python3.12/site-packages/urllib3/connection.py:615\u001B[0m, in \u001B[0;36mHTTPSConnection.connect\u001B[0;34m(self)\u001B[0m\n\u001B[1;32m    614\u001B[0m sock: socket\u001B[38;5;241m.\u001B[39msocket \u001B[38;5;241m|\u001B[39m ssl\u001B[38;5;241m.\u001B[39mSSLSocket\n\u001B[0;32m--> 615\u001B[0m \u001B[38;5;28mself\u001B[39m\u001B[38;5;241m.\u001B[39msock \u001B[38;5;241m=\u001B[39m sock \u001B[38;5;241m=\u001B[39m \u001B[38;5;28;43mself\u001B[39;49m\u001B[38;5;241;43m.\u001B[39;49m\u001B[43m_new_conn\u001B[49m\u001B[43m(\u001B[49m\u001B[43m)\u001B[49m\n\u001B[1;32m    616\u001B[0m server_hostname: \u001B[38;5;28mstr\u001B[39m \u001B[38;5;241m=\u001B[39m \u001B[38;5;28mself\u001B[39m\u001B[38;5;241m.\u001B[39mhost\n",
      "File \u001B[0;32m~/.pyenv/versions/miniconda3-3.12-24.5.0-0/envs/prc/lib/python3.12/site-packages/urllib3/connection.py:203\u001B[0m, in \u001B[0;36mHTTPConnection._new_conn\u001B[0;34m(self)\u001B[0m\n\u001B[1;32m    202\u001B[0m \u001B[38;5;28;01mexcept\u001B[39;00m socket\u001B[38;5;241m.\u001B[39mgaierror \u001B[38;5;28;01mas\u001B[39;00m e:\n\u001B[0;32m--> 203\u001B[0m     \u001B[38;5;28;01mraise\u001B[39;00m NameResolutionError(\u001B[38;5;28mself\u001B[39m\u001B[38;5;241m.\u001B[39mhost, \u001B[38;5;28mself\u001B[39m, e) \u001B[38;5;28;01mfrom\u001B[39;00m \u001B[38;5;21;01me\u001B[39;00m\n\u001B[1;32m    204\u001B[0m \u001B[38;5;28;01mexcept\u001B[39;00m SocketTimeout \u001B[38;5;28;01mas\u001B[39;00m e:\n",
      "\u001B[0;31mNameResolutionError\u001B[0m: <urllib3.connection.HTTPSConnection object at 0x784fd689e630>: Failed to resolve 'http' ([Errno -3] Temporary failure in name resolution)",
      "\nThe above exception was the direct cause of the following exception:\n",
      "\u001B[0;31mProxyError\u001B[0m                                Traceback (most recent call last)",
      "\u001B[0;31mProxyError\u001B[0m: ('Unable to connect to proxy', NameResolutionError(\"<urllib3.connection.HTTPSConnection object at 0x784fd689e630>: Failed to resolve 'http' ([Errno -3] Temporary failure in name resolution)\"))",
      "\nThe above exception was the direct cause of the following exception:\n",
      "\u001B[0;31mMaxRetryError\u001B[0m                             Traceback (most recent call last)",
      "File \u001B[0;32m~/.pyenv/versions/miniconda3-3.12-24.5.0-0/envs/prc/lib/python3.12/site-packages/requests/adapters.py:667\u001B[0m, in \u001B[0;36mHTTPAdapter.send\u001B[0;34m(self, request, stream, timeout, verify, cert, proxies)\u001B[0m\n\u001B[1;32m    666\u001B[0m \u001B[38;5;28;01mtry\u001B[39;00m:\n\u001B[0;32m--> 667\u001B[0m     resp \u001B[38;5;241m=\u001B[39m \u001B[43mconn\u001B[49m\u001B[38;5;241;43m.\u001B[39;49m\u001B[43murlopen\u001B[49m\u001B[43m(\u001B[49m\n\u001B[1;32m    668\u001B[0m \u001B[43m        \u001B[49m\u001B[43mmethod\u001B[49m\u001B[38;5;241;43m=\u001B[39;49m\u001B[43mrequest\u001B[49m\u001B[38;5;241;43m.\u001B[39;49m\u001B[43mmethod\u001B[49m\u001B[43m,\u001B[49m\n\u001B[1;32m    669\u001B[0m \u001B[43m        \u001B[49m\u001B[43murl\u001B[49m\u001B[38;5;241;43m=\u001B[39;49m\u001B[43murl\u001B[49m\u001B[43m,\u001B[49m\n\u001B[1;32m    670\u001B[0m \u001B[43m        \u001B[49m\u001B[43mbody\u001B[49m\u001B[38;5;241;43m=\u001B[39;49m\u001B[43mrequest\u001B[49m\u001B[38;5;241;43m.\u001B[39;49m\u001B[43mbody\u001B[49m\u001B[43m,\u001B[49m\n\u001B[1;32m    671\u001B[0m \u001B[43m        \u001B[49m\u001B[43mheaders\u001B[49m\u001B[38;5;241;43m=\u001B[39;49m\u001B[43mrequest\u001B[49m\u001B[38;5;241;43m.\u001B[39;49m\u001B[43mheaders\u001B[49m\u001B[43m,\u001B[49m\n\u001B[1;32m    672\u001B[0m \u001B[43m        \u001B[49m\u001B[43mredirect\u001B[49m\u001B[38;5;241;43m=\u001B[39;49m\u001B[38;5;28;43;01mFalse\u001B[39;49;00m\u001B[43m,\u001B[49m\n\u001B[1;32m    673\u001B[0m \u001B[43m        \u001B[49m\u001B[43massert_same_host\u001B[49m\u001B[38;5;241;43m=\u001B[39;49m\u001B[38;5;28;43;01mFalse\u001B[39;49;00m\u001B[43m,\u001B[49m\n\u001B[1;32m    674\u001B[0m \u001B[43m        \u001B[49m\u001B[43mpreload_content\u001B[49m\u001B[38;5;241;43m=\u001B[39;49m\u001B[38;5;28;43;01mFalse\u001B[39;49;00m\u001B[43m,\u001B[49m\n\u001B[1;32m    675\u001B[0m \u001B[43m        \u001B[49m\u001B[43mdecode_content\u001B[49m\u001B[38;5;241;43m=\u001B[39;49m\u001B[38;5;28;43;01mFalse\u001B[39;49;00m\u001B[43m,\u001B[49m\n\u001B[1;32m    676\u001B[0m \u001B[43m        \u001B[49m\u001B[43mretries\u001B[49m\u001B[38;5;241;43m=\u001B[39;49m\u001B[38;5;28;43mself\u001B[39;49m\u001B[38;5;241;43m.\u001B[39;49m\u001B[43mmax_retries\u001B[49m\u001B[43m,\u001B[49m\n\u001B[1;32m    677\u001B[0m \u001B[43m        \u001B[49m\u001B[43mtimeout\u001B[49m\u001B[38;5;241;43m=\u001B[39;49m\u001B[43mtimeout\u001B[49m\u001B[43m,\u001B[49m\n\u001B[1;32m    678\u001B[0m \u001B[43m        \u001B[49m\u001B[43mchunked\u001B[49m\u001B[38;5;241;43m=\u001B[39;49m\u001B[43mchunked\u001B[49m\u001B[43m,\u001B[49m\n\u001B[1;32m    679\u001B[0m \u001B[43m    \u001B[49m\u001B[43m)\u001B[49m\n\u001B[1;32m    681\u001B[0m \u001B[38;5;28;01mexcept\u001B[39;00m (ProtocolError, \u001B[38;5;167;01mOSError\u001B[39;00m) \u001B[38;5;28;01mas\u001B[39;00m err:\n",
      "File \u001B[0;32m~/.pyenv/versions/miniconda3-3.12-24.5.0-0/envs/prc/lib/python3.12/site-packages/urllib3/connectionpool.py:873\u001B[0m, in \u001B[0;36mHTTPConnectionPool.urlopen\u001B[0;34m(self, method, url, body, headers, retries, redirect, assert_same_host, timeout, pool_timeout, release_conn, chunked, body_pos, preload_content, decode_content, **response_kw)\u001B[0m\n\u001B[1;32m    870\u001B[0m     log\u001B[38;5;241m.\u001B[39mwarning(\n\u001B[1;32m    871\u001B[0m         \u001B[38;5;124m\"\u001B[39m\u001B[38;5;124mRetrying (\u001B[39m\u001B[38;5;132;01m%r\u001B[39;00m\u001B[38;5;124m) after connection broken by \u001B[39m\u001B[38;5;124m'\u001B[39m\u001B[38;5;132;01m%r\u001B[39;00m\u001B[38;5;124m'\u001B[39m\u001B[38;5;124m: \u001B[39m\u001B[38;5;132;01m%s\u001B[39;00m\u001B[38;5;124m\"\u001B[39m, retries, err, url\n\u001B[1;32m    872\u001B[0m     )\n\u001B[0;32m--> 873\u001B[0m     \u001B[38;5;28;01mreturn\u001B[39;00m \u001B[38;5;28;43mself\u001B[39;49m\u001B[38;5;241;43m.\u001B[39;49m\u001B[43murlopen\u001B[49m\u001B[43m(\u001B[49m\n\u001B[1;32m    874\u001B[0m \u001B[43m        \u001B[49m\u001B[43mmethod\u001B[49m\u001B[43m,\u001B[49m\n\u001B[1;32m    875\u001B[0m \u001B[43m        \u001B[49m\u001B[43murl\u001B[49m\u001B[43m,\u001B[49m\n\u001B[1;32m    876\u001B[0m \u001B[43m        \u001B[49m\u001B[43mbody\u001B[49m\u001B[43m,\u001B[49m\n\u001B[1;32m    877\u001B[0m \u001B[43m        \u001B[49m\u001B[43mheaders\u001B[49m\u001B[43m,\u001B[49m\n\u001B[1;32m    878\u001B[0m \u001B[43m        \u001B[49m\u001B[43mretries\u001B[49m\u001B[43m,\u001B[49m\n\u001B[1;32m    879\u001B[0m \u001B[43m        \u001B[49m\u001B[43mredirect\u001B[49m\u001B[43m,\u001B[49m\n\u001B[1;32m    880\u001B[0m \u001B[43m        \u001B[49m\u001B[43massert_same_host\u001B[49m\u001B[43m,\u001B[49m\n\u001B[1;32m    881\u001B[0m \u001B[43m        \u001B[49m\u001B[43mtimeout\u001B[49m\u001B[38;5;241;43m=\u001B[39;49m\u001B[43mtimeout\u001B[49m\u001B[43m,\u001B[49m\n\u001B[1;32m    882\u001B[0m \u001B[43m        \u001B[49m\u001B[43mpool_timeout\u001B[49m\u001B[38;5;241;43m=\u001B[39;49m\u001B[43mpool_timeout\u001B[49m\u001B[43m,\u001B[49m\n\u001B[1;32m    883\u001B[0m \u001B[43m        \u001B[49m\u001B[43mrelease_conn\u001B[49m\u001B[38;5;241;43m=\u001B[39;49m\u001B[43mrelease_conn\u001B[49m\u001B[43m,\u001B[49m\n\u001B[1;32m    884\u001B[0m \u001B[43m        \u001B[49m\u001B[43mchunked\u001B[49m\u001B[38;5;241;43m=\u001B[39;49m\u001B[43mchunked\u001B[49m\u001B[43m,\u001B[49m\n\u001B[1;32m    885\u001B[0m \u001B[43m        \u001B[49m\u001B[43mbody_pos\u001B[49m\u001B[38;5;241;43m=\u001B[39;49m\u001B[43mbody_pos\u001B[49m\u001B[43m,\u001B[49m\n\u001B[1;32m    886\u001B[0m \u001B[43m        \u001B[49m\u001B[43mpreload_content\u001B[49m\u001B[38;5;241;43m=\u001B[39;49m\u001B[43mpreload_content\u001B[49m\u001B[43m,\u001B[49m\n\u001B[1;32m    887\u001B[0m \u001B[43m        \u001B[49m\u001B[43mdecode_content\u001B[49m\u001B[38;5;241;43m=\u001B[39;49m\u001B[43mdecode_content\u001B[49m\u001B[43m,\u001B[49m\n\u001B[1;32m    888\u001B[0m \u001B[43m        \u001B[49m\u001B[38;5;241;43m*\u001B[39;49m\u001B[38;5;241;43m*\u001B[39;49m\u001B[43mresponse_kw\u001B[49m\u001B[43m,\u001B[49m\n\u001B[1;32m    889\u001B[0m \u001B[43m    \u001B[49m\u001B[43m)\u001B[49m\n\u001B[1;32m    891\u001B[0m \u001B[38;5;66;03m# Handle redirect?\u001B[39;00m\n",
      "File \u001B[0;32m~/.pyenv/versions/miniconda3-3.12-24.5.0-0/envs/prc/lib/python3.12/site-packages/urllib3/connectionpool.py:873\u001B[0m, in \u001B[0;36mHTTPConnectionPool.urlopen\u001B[0;34m(self, method, url, body, headers, retries, redirect, assert_same_host, timeout, pool_timeout, release_conn, chunked, body_pos, preload_content, decode_content, **response_kw)\u001B[0m\n\u001B[1;32m    870\u001B[0m     log\u001B[38;5;241m.\u001B[39mwarning(\n\u001B[1;32m    871\u001B[0m         \u001B[38;5;124m\"\u001B[39m\u001B[38;5;124mRetrying (\u001B[39m\u001B[38;5;132;01m%r\u001B[39;00m\u001B[38;5;124m) after connection broken by \u001B[39m\u001B[38;5;124m'\u001B[39m\u001B[38;5;132;01m%r\u001B[39;00m\u001B[38;5;124m'\u001B[39m\u001B[38;5;124m: \u001B[39m\u001B[38;5;132;01m%s\u001B[39;00m\u001B[38;5;124m\"\u001B[39m, retries, err, url\n\u001B[1;32m    872\u001B[0m     )\n\u001B[0;32m--> 873\u001B[0m     \u001B[38;5;28;01mreturn\u001B[39;00m \u001B[38;5;28;43mself\u001B[39;49m\u001B[38;5;241;43m.\u001B[39;49m\u001B[43murlopen\u001B[49m\u001B[43m(\u001B[49m\n\u001B[1;32m    874\u001B[0m \u001B[43m        \u001B[49m\u001B[43mmethod\u001B[49m\u001B[43m,\u001B[49m\n\u001B[1;32m    875\u001B[0m \u001B[43m        \u001B[49m\u001B[43murl\u001B[49m\u001B[43m,\u001B[49m\n\u001B[1;32m    876\u001B[0m \u001B[43m        \u001B[49m\u001B[43mbody\u001B[49m\u001B[43m,\u001B[49m\n\u001B[1;32m    877\u001B[0m \u001B[43m        \u001B[49m\u001B[43mheaders\u001B[49m\u001B[43m,\u001B[49m\n\u001B[1;32m    878\u001B[0m \u001B[43m        \u001B[49m\u001B[43mretries\u001B[49m\u001B[43m,\u001B[49m\n\u001B[1;32m    879\u001B[0m \u001B[43m        \u001B[49m\u001B[43mredirect\u001B[49m\u001B[43m,\u001B[49m\n\u001B[1;32m    880\u001B[0m \u001B[43m        \u001B[49m\u001B[43massert_same_host\u001B[49m\u001B[43m,\u001B[49m\n\u001B[1;32m    881\u001B[0m \u001B[43m        \u001B[49m\u001B[43mtimeout\u001B[49m\u001B[38;5;241;43m=\u001B[39;49m\u001B[43mtimeout\u001B[49m\u001B[43m,\u001B[49m\n\u001B[1;32m    882\u001B[0m \u001B[43m        \u001B[49m\u001B[43mpool_timeout\u001B[49m\u001B[38;5;241;43m=\u001B[39;49m\u001B[43mpool_timeout\u001B[49m\u001B[43m,\u001B[49m\n\u001B[1;32m    883\u001B[0m \u001B[43m        \u001B[49m\u001B[43mrelease_conn\u001B[49m\u001B[38;5;241;43m=\u001B[39;49m\u001B[43mrelease_conn\u001B[49m\u001B[43m,\u001B[49m\n\u001B[1;32m    884\u001B[0m \u001B[43m        \u001B[49m\u001B[43mchunked\u001B[49m\u001B[38;5;241;43m=\u001B[39;49m\u001B[43mchunked\u001B[49m\u001B[43m,\u001B[49m\n\u001B[1;32m    885\u001B[0m \u001B[43m        \u001B[49m\u001B[43mbody_pos\u001B[49m\u001B[38;5;241;43m=\u001B[39;49m\u001B[43mbody_pos\u001B[49m\u001B[43m,\u001B[49m\n\u001B[1;32m    886\u001B[0m \u001B[43m        \u001B[49m\u001B[43mpreload_content\u001B[49m\u001B[38;5;241;43m=\u001B[39;49m\u001B[43mpreload_content\u001B[49m\u001B[43m,\u001B[49m\n\u001B[1;32m    887\u001B[0m \u001B[43m        \u001B[49m\u001B[43mdecode_content\u001B[49m\u001B[38;5;241;43m=\u001B[39;49m\u001B[43mdecode_content\u001B[49m\u001B[43m,\u001B[49m\n\u001B[1;32m    888\u001B[0m \u001B[43m        \u001B[49m\u001B[38;5;241;43m*\u001B[39;49m\u001B[38;5;241;43m*\u001B[39;49m\u001B[43mresponse_kw\u001B[49m\u001B[43m,\u001B[49m\n\u001B[1;32m    889\u001B[0m \u001B[43m    \u001B[49m\u001B[43m)\u001B[49m\n\u001B[1;32m    891\u001B[0m \u001B[38;5;66;03m# Handle redirect?\u001B[39;00m\n",
      "File \u001B[0;32m~/.pyenv/versions/miniconda3-3.12-24.5.0-0/envs/prc/lib/python3.12/site-packages/urllib3/connectionpool.py:873\u001B[0m, in \u001B[0;36mHTTPConnectionPool.urlopen\u001B[0;34m(self, method, url, body, headers, retries, redirect, assert_same_host, timeout, pool_timeout, release_conn, chunked, body_pos, preload_content, decode_content, **response_kw)\u001B[0m\n\u001B[1;32m    870\u001B[0m     log\u001B[38;5;241m.\u001B[39mwarning(\n\u001B[1;32m    871\u001B[0m         \u001B[38;5;124m\"\u001B[39m\u001B[38;5;124mRetrying (\u001B[39m\u001B[38;5;132;01m%r\u001B[39;00m\u001B[38;5;124m) after connection broken by \u001B[39m\u001B[38;5;124m'\u001B[39m\u001B[38;5;132;01m%r\u001B[39;00m\u001B[38;5;124m'\u001B[39m\u001B[38;5;124m: \u001B[39m\u001B[38;5;132;01m%s\u001B[39;00m\u001B[38;5;124m\"\u001B[39m, retries, err, url\n\u001B[1;32m    872\u001B[0m     )\n\u001B[0;32m--> 873\u001B[0m     \u001B[38;5;28;01mreturn\u001B[39;00m \u001B[38;5;28;43mself\u001B[39;49m\u001B[38;5;241;43m.\u001B[39;49m\u001B[43murlopen\u001B[49m\u001B[43m(\u001B[49m\n\u001B[1;32m    874\u001B[0m \u001B[43m        \u001B[49m\u001B[43mmethod\u001B[49m\u001B[43m,\u001B[49m\n\u001B[1;32m    875\u001B[0m \u001B[43m        \u001B[49m\u001B[43murl\u001B[49m\u001B[43m,\u001B[49m\n\u001B[1;32m    876\u001B[0m \u001B[43m        \u001B[49m\u001B[43mbody\u001B[49m\u001B[43m,\u001B[49m\n\u001B[1;32m    877\u001B[0m \u001B[43m        \u001B[49m\u001B[43mheaders\u001B[49m\u001B[43m,\u001B[49m\n\u001B[1;32m    878\u001B[0m \u001B[43m        \u001B[49m\u001B[43mretries\u001B[49m\u001B[43m,\u001B[49m\n\u001B[1;32m    879\u001B[0m \u001B[43m        \u001B[49m\u001B[43mredirect\u001B[49m\u001B[43m,\u001B[49m\n\u001B[1;32m    880\u001B[0m \u001B[43m        \u001B[49m\u001B[43massert_same_host\u001B[49m\u001B[43m,\u001B[49m\n\u001B[1;32m    881\u001B[0m \u001B[43m        \u001B[49m\u001B[43mtimeout\u001B[49m\u001B[38;5;241;43m=\u001B[39;49m\u001B[43mtimeout\u001B[49m\u001B[43m,\u001B[49m\n\u001B[1;32m    882\u001B[0m \u001B[43m        \u001B[49m\u001B[43mpool_timeout\u001B[49m\u001B[38;5;241;43m=\u001B[39;49m\u001B[43mpool_timeout\u001B[49m\u001B[43m,\u001B[49m\n\u001B[1;32m    883\u001B[0m \u001B[43m        \u001B[49m\u001B[43mrelease_conn\u001B[49m\u001B[38;5;241;43m=\u001B[39;49m\u001B[43mrelease_conn\u001B[49m\u001B[43m,\u001B[49m\n\u001B[1;32m    884\u001B[0m \u001B[43m        \u001B[49m\u001B[43mchunked\u001B[49m\u001B[38;5;241;43m=\u001B[39;49m\u001B[43mchunked\u001B[49m\u001B[43m,\u001B[49m\n\u001B[1;32m    885\u001B[0m \u001B[43m        \u001B[49m\u001B[43mbody_pos\u001B[49m\u001B[38;5;241;43m=\u001B[39;49m\u001B[43mbody_pos\u001B[49m\u001B[43m,\u001B[49m\n\u001B[1;32m    886\u001B[0m \u001B[43m        \u001B[49m\u001B[43mpreload_content\u001B[49m\u001B[38;5;241;43m=\u001B[39;49m\u001B[43mpreload_content\u001B[49m\u001B[43m,\u001B[49m\n\u001B[1;32m    887\u001B[0m \u001B[43m        \u001B[49m\u001B[43mdecode_content\u001B[49m\u001B[38;5;241;43m=\u001B[39;49m\u001B[43mdecode_content\u001B[49m\u001B[43m,\u001B[49m\n\u001B[1;32m    888\u001B[0m \u001B[43m        \u001B[49m\u001B[38;5;241;43m*\u001B[39;49m\u001B[38;5;241;43m*\u001B[39;49m\u001B[43mresponse_kw\u001B[49m\u001B[43m,\u001B[49m\n\u001B[1;32m    889\u001B[0m \u001B[43m    \u001B[49m\u001B[43m)\u001B[49m\n\u001B[1;32m    891\u001B[0m \u001B[38;5;66;03m# Handle redirect?\u001B[39;00m\n",
      "File \u001B[0;32m~/.pyenv/versions/miniconda3-3.12-24.5.0-0/envs/prc/lib/python3.12/site-packages/urllib3/connectionpool.py:843\u001B[0m, in \u001B[0;36mHTTPConnectionPool.urlopen\u001B[0;34m(self, method, url, body, headers, retries, redirect, assert_same_host, timeout, pool_timeout, release_conn, chunked, body_pos, preload_content, decode_content, **response_kw)\u001B[0m\n\u001B[1;32m    841\u001B[0m     new_e \u001B[38;5;241m=\u001B[39m ProtocolError(\u001B[38;5;124m\"\u001B[39m\u001B[38;5;124mConnection aborted.\u001B[39m\u001B[38;5;124m\"\u001B[39m, new_e)\n\u001B[0;32m--> 843\u001B[0m retries \u001B[38;5;241m=\u001B[39m \u001B[43mretries\u001B[49m\u001B[38;5;241;43m.\u001B[39;49m\u001B[43mincrement\u001B[49m\u001B[43m(\u001B[49m\n\u001B[1;32m    844\u001B[0m \u001B[43m    \u001B[49m\u001B[43mmethod\u001B[49m\u001B[43m,\u001B[49m\u001B[43m \u001B[49m\u001B[43murl\u001B[49m\u001B[43m,\u001B[49m\u001B[43m \u001B[49m\u001B[43merror\u001B[49m\u001B[38;5;241;43m=\u001B[39;49m\u001B[43mnew_e\u001B[49m\u001B[43m,\u001B[49m\u001B[43m \u001B[49m\u001B[43m_pool\u001B[49m\u001B[38;5;241;43m=\u001B[39;49m\u001B[38;5;28;43mself\u001B[39;49m\u001B[43m,\u001B[49m\u001B[43m \u001B[49m\u001B[43m_stacktrace\u001B[49m\u001B[38;5;241;43m=\u001B[39;49m\u001B[43msys\u001B[49m\u001B[38;5;241;43m.\u001B[39;49m\u001B[43mexc_info\u001B[49m\u001B[43m(\u001B[49m\u001B[43m)\u001B[49m\u001B[43m[\u001B[49m\u001B[38;5;241;43m2\u001B[39;49m\u001B[43m]\u001B[49m\n\u001B[1;32m    845\u001B[0m \u001B[43m\u001B[49m\u001B[43m)\u001B[49m\n\u001B[1;32m    846\u001B[0m retries\u001B[38;5;241m.\u001B[39msleep()\n",
      "File \u001B[0;32m~/.pyenv/versions/miniconda3-3.12-24.5.0-0/envs/prc/lib/python3.12/site-packages/urllib3/util/retry.py:519\u001B[0m, in \u001B[0;36mRetry.increment\u001B[0;34m(self, method, url, response, error, _pool, _stacktrace)\u001B[0m\n\u001B[1;32m    518\u001B[0m     reason \u001B[38;5;241m=\u001B[39m error \u001B[38;5;129;01mor\u001B[39;00m ResponseError(cause)\n\u001B[0;32m--> 519\u001B[0m     \u001B[38;5;28;01mraise\u001B[39;00m MaxRetryError(_pool, url, reason) \u001B[38;5;28;01mfrom\u001B[39;00m \u001B[38;5;21;01mreason\u001B[39;00m  \u001B[38;5;66;03m# type: ignore[arg-type]\u001B[39;00m\n\u001B[1;32m    521\u001B[0m log\u001B[38;5;241m.\u001B[39mdebug(\u001B[38;5;124m\"\u001B[39m\u001B[38;5;124mIncremented Retry for (url=\u001B[39m\u001B[38;5;124m'\u001B[39m\u001B[38;5;132;01m%s\u001B[39;00m\u001B[38;5;124m'\u001B[39m\u001B[38;5;124m): \u001B[39m\u001B[38;5;132;01m%r\u001B[39;00m\u001B[38;5;124m\"\u001B[39m, url, new_retry)\n",
      "\u001B[0;31mMaxRetryError\u001B[0m: HTTPSConnectionPool(host='oauth2.googleapis.com', port=443): Max retries exceeded with url: /token (Caused by ProxyError('Unable to connect to proxy', NameResolutionError(\"<urllib3.connection.HTTPSConnection object at 0x784fd689e630>: Failed to resolve 'http' ([Errno -3] Temporary failure in name resolution)\")))",
      "\nDuring handling of the above exception, another exception occurred:\n",
      "\u001B[0;31mProxyError\u001B[0m                                Traceback (most recent call last)",
      "File \u001B[0;32m~/.pyenv/versions/miniconda3-3.12-24.5.0-0/envs/prc/lib/python3.12/site-packages/google/auth/transport/requests.py:187\u001B[0m, in \u001B[0;36mRequest.__call__\u001B[0;34m(self, url, method, body, headers, timeout, **kwargs)\u001B[0m\n\u001B[1;32m    186\u001B[0m _LOGGER\u001B[38;5;241m.\u001B[39mdebug(\u001B[38;5;124m\"\u001B[39m\u001B[38;5;124mMaking request: \u001B[39m\u001B[38;5;132;01m%s\u001B[39;00m\u001B[38;5;124m \u001B[39m\u001B[38;5;132;01m%s\u001B[39;00m\u001B[38;5;124m\"\u001B[39m, method, url)\n\u001B[0;32m--> 187\u001B[0m response \u001B[38;5;241m=\u001B[39m \u001B[38;5;28;43mself\u001B[39;49m\u001B[38;5;241;43m.\u001B[39;49m\u001B[43msession\u001B[49m\u001B[38;5;241;43m.\u001B[39;49m\u001B[43mrequest\u001B[49m\u001B[43m(\u001B[49m\n\u001B[1;32m    188\u001B[0m \u001B[43m    \u001B[49m\u001B[43mmethod\u001B[49m\u001B[43m,\u001B[49m\u001B[43m \u001B[49m\u001B[43murl\u001B[49m\u001B[43m,\u001B[49m\u001B[43m \u001B[49m\u001B[43mdata\u001B[49m\u001B[38;5;241;43m=\u001B[39;49m\u001B[43mbody\u001B[49m\u001B[43m,\u001B[49m\u001B[43m \u001B[49m\u001B[43mheaders\u001B[49m\u001B[38;5;241;43m=\u001B[39;49m\u001B[43mheaders\u001B[49m\u001B[43m,\u001B[49m\u001B[43m \u001B[49m\u001B[43mtimeout\u001B[49m\u001B[38;5;241;43m=\u001B[39;49m\u001B[43mtimeout\u001B[49m\u001B[43m,\u001B[49m\u001B[43m \u001B[49m\u001B[38;5;241;43m*\u001B[39;49m\u001B[38;5;241;43m*\u001B[39;49m\u001B[43mkwargs\u001B[49m\n\u001B[1;32m    189\u001B[0m \u001B[43m\u001B[49m\u001B[43m)\u001B[49m\n\u001B[1;32m    190\u001B[0m \u001B[38;5;28;01mreturn\u001B[39;00m _Response(response)\n",
      "File \u001B[0;32m~/.pyenv/versions/miniconda3-3.12-24.5.0-0/envs/prc/lib/python3.12/site-packages/requests/sessions.py:589\u001B[0m, in \u001B[0;36mSession.request\u001B[0;34m(self, method, url, params, data, headers, cookies, files, auth, timeout, allow_redirects, proxies, hooks, stream, verify, cert, json)\u001B[0m\n\u001B[1;32m    588\u001B[0m send_kwargs\u001B[38;5;241m.\u001B[39mupdate(settings)\n\u001B[0;32m--> 589\u001B[0m resp \u001B[38;5;241m=\u001B[39m \u001B[38;5;28;43mself\u001B[39;49m\u001B[38;5;241;43m.\u001B[39;49m\u001B[43msend\u001B[49m\u001B[43m(\u001B[49m\u001B[43mprep\u001B[49m\u001B[43m,\u001B[49m\u001B[43m \u001B[49m\u001B[38;5;241;43m*\u001B[39;49m\u001B[38;5;241;43m*\u001B[39;49m\u001B[43msend_kwargs\u001B[49m\u001B[43m)\u001B[49m\n\u001B[1;32m    591\u001B[0m \u001B[38;5;28;01mreturn\u001B[39;00m resp\n",
      "File \u001B[0;32m~/.pyenv/versions/miniconda3-3.12-24.5.0-0/envs/prc/lib/python3.12/site-packages/requests/sessions.py:703\u001B[0m, in \u001B[0;36mSession.send\u001B[0;34m(self, request, **kwargs)\u001B[0m\n\u001B[1;32m    702\u001B[0m \u001B[38;5;66;03m# Send the request\u001B[39;00m\n\u001B[0;32m--> 703\u001B[0m r \u001B[38;5;241m=\u001B[39m \u001B[43madapter\u001B[49m\u001B[38;5;241;43m.\u001B[39;49m\u001B[43msend\u001B[49m\u001B[43m(\u001B[49m\u001B[43mrequest\u001B[49m\u001B[43m,\u001B[49m\u001B[43m \u001B[49m\u001B[38;5;241;43m*\u001B[39;49m\u001B[38;5;241;43m*\u001B[39;49m\u001B[43mkwargs\u001B[49m\u001B[43m)\u001B[49m\n\u001B[1;32m    705\u001B[0m \u001B[38;5;66;03m# Total elapsed time of the request (approximately)\u001B[39;00m\n",
      "File \u001B[0;32m~/.pyenv/versions/miniconda3-3.12-24.5.0-0/envs/prc/lib/python3.12/site-packages/requests/adapters.py:694\u001B[0m, in \u001B[0;36mHTTPAdapter.send\u001B[0;34m(self, request, stream, timeout, verify, cert, proxies)\u001B[0m\n\u001B[1;32m    693\u001B[0m \u001B[38;5;28;01mif\u001B[39;00m \u001B[38;5;28misinstance\u001B[39m(e\u001B[38;5;241m.\u001B[39mreason, _ProxyError):\n\u001B[0;32m--> 694\u001B[0m     \u001B[38;5;28;01mraise\u001B[39;00m ProxyError(e, request\u001B[38;5;241m=\u001B[39mrequest)\n\u001B[1;32m    696\u001B[0m \u001B[38;5;28;01mif\u001B[39;00m \u001B[38;5;28misinstance\u001B[39m(e\u001B[38;5;241m.\u001B[39mreason, _SSLError):\n\u001B[1;32m    697\u001B[0m     \u001B[38;5;66;03m# This branch is for urllib3 v1.22 and later.\u001B[39;00m\n",
      "\u001B[0;31mProxyError\u001B[0m: HTTPSConnectionPool(host='oauth2.googleapis.com', port=443): Max retries exceeded with url: /token (Caused by ProxyError('Unable to connect to proxy', NameResolutionError(\"<urllib3.connection.HTTPSConnection object at 0x784fd689e630>: Failed to resolve 'http' ([Errno -3] Temporary failure in name resolution)\")))",
      "\nThe above exception was the direct cause of the following exception:\n",
      "\u001B[0;31mTransportError\u001B[0m                            Traceback (most recent call last)",
      "File \u001B[0;32m~/.pyenv/versions/miniconda3-3.12-24.5.0-0/envs/prc/lib/python3.12/site-packages/google/api_core/retry/retry_unary.py:144\u001B[0m, in \u001B[0;36mretry_target\u001B[0;34m(target, predicate, sleep_generator, timeout, on_error, exception_factory, **kwargs)\u001B[0m\n\u001B[1;32m    143\u001B[0m \u001B[38;5;28;01mtry\u001B[39;00m:\n\u001B[0;32m--> 144\u001B[0m     result \u001B[38;5;241m=\u001B[39m \u001B[43mtarget\u001B[49m\u001B[43m(\u001B[49m\u001B[43m)\u001B[49m\n\u001B[1;32m    145\u001B[0m     \u001B[38;5;28;01mif\u001B[39;00m inspect\u001B[38;5;241m.\u001B[39misawaitable(result):\n",
      "File \u001B[0;32m~/.pyenv/versions/miniconda3-3.12-24.5.0-0/envs/prc/lib/python3.12/site-packages/google/cloud/bigquery/client.py:833\u001B[0m, in \u001B[0;36mClient._call_api\u001B[0;34m(self, retry, span_name, span_attributes, job_ref, headers, **kwargs)\u001B[0m\n\u001B[1;32m    830\u001B[0m     \u001B[38;5;28;01mwith\u001B[39;00m create_span(\n\u001B[1;32m    831\u001B[0m         name\u001B[38;5;241m=\u001B[39mspan_name, attributes\u001B[38;5;241m=\u001B[39mspan_attributes, client\u001B[38;5;241m=\u001B[39m\u001B[38;5;28mself\u001B[39m, job_ref\u001B[38;5;241m=\u001B[39mjob_ref\n\u001B[1;32m    832\u001B[0m     ):\n\u001B[0;32m--> 833\u001B[0m         \u001B[38;5;28;01mreturn\u001B[39;00m \u001B[43mcall\u001B[49m\u001B[43m(\u001B[49m\u001B[43m)\u001B[49m\n\u001B[1;32m    835\u001B[0m \u001B[38;5;28;01mreturn\u001B[39;00m call()\n",
      "File \u001B[0;32m~/.pyenv/versions/miniconda3-3.12-24.5.0-0/envs/prc/lib/python3.12/site-packages/google/cloud/_http/__init__.py:482\u001B[0m, in \u001B[0;36mJSONConnection.api_request\u001B[0;34m(self, method, path, query_params, data, content_type, headers, api_base_url, api_version, expect_json, _target_object, timeout, extra_api_info)\u001B[0m\n\u001B[1;32m    480\u001B[0m     content_type \u001B[38;5;241m=\u001B[39m \u001B[38;5;124m\"\u001B[39m\u001B[38;5;124mapplication/json\u001B[39m\u001B[38;5;124m\"\u001B[39m\n\u001B[0;32m--> 482\u001B[0m response \u001B[38;5;241m=\u001B[39m \u001B[38;5;28;43mself\u001B[39;49m\u001B[38;5;241;43m.\u001B[39;49m\u001B[43m_make_request\u001B[49m\u001B[43m(\u001B[49m\n\u001B[1;32m    483\u001B[0m \u001B[43m    \u001B[49m\u001B[43mmethod\u001B[49m\u001B[38;5;241;43m=\u001B[39;49m\u001B[43mmethod\u001B[49m\u001B[43m,\u001B[49m\n\u001B[1;32m    484\u001B[0m \u001B[43m    \u001B[49m\u001B[43murl\u001B[49m\u001B[38;5;241;43m=\u001B[39;49m\u001B[43murl\u001B[49m\u001B[43m,\u001B[49m\n\u001B[1;32m    485\u001B[0m \u001B[43m    \u001B[49m\u001B[43mdata\u001B[49m\u001B[38;5;241;43m=\u001B[39;49m\u001B[43mdata\u001B[49m\u001B[43m,\u001B[49m\n\u001B[1;32m    486\u001B[0m \u001B[43m    \u001B[49m\u001B[43mcontent_type\u001B[49m\u001B[38;5;241;43m=\u001B[39;49m\u001B[43mcontent_type\u001B[49m\u001B[43m,\u001B[49m\n\u001B[1;32m    487\u001B[0m \u001B[43m    \u001B[49m\u001B[43mheaders\u001B[49m\u001B[38;5;241;43m=\u001B[39;49m\u001B[43mheaders\u001B[49m\u001B[43m,\u001B[49m\n\u001B[1;32m    488\u001B[0m \u001B[43m    \u001B[49m\u001B[43mtarget_object\u001B[49m\u001B[38;5;241;43m=\u001B[39;49m\u001B[43m_target_object\u001B[49m\u001B[43m,\u001B[49m\n\u001B[1;32m    489\u001B[0m \u001B[43m    \u001B[49m\u001B[43mtimeout\u001B[49m\u001B[38;5;241;43m=\u001B[39;49m\u001B[43mtimeout\u001B[49m\u001B[43m,\u001B[49m\n\u001B[1;32m    490\u001B[0m \u001B[43m    \u001B[49m\u001B[43mextra_api_info\u001B[49m\u001B[38;5;241;43m=\u001B[39;49m\u001B[43mextra_api_info\u001B[49m\u001B[43m,\u001B[49m\n\u001B[1;32m    491\u001B[0m \u001B[43m\u001B[49m\u001B[43m)\u001B[49m\n\u001B[1;32m    493\u001B[0m \u001B[38;5;28;01mif\u001B[39;00m \u001B[38;5;129;01mnot\u001B[39;00m \u001B[38;5;241m200\u001B[39m \u001B[38;5;241m<\u001B[39m\u001B[38;5;241m=\u001B[39m response\u001B[38;5;241m.\u001B[39mstatus_code \u001B[38;5;241m<\u001B[39m \u001B[38;5;241m300\u001B[39m:\n",
      "File \u001B[0;32m~/.pyenv/versions/miniconda3-3.12-24.5.0-0/envs/prc/lib/python3.12/site-packages/google/cloud/_http/__init__.py:341\u001B[0m, in \u001B[0;36mJSONConnection._make_request\u001B[0;34m(self, method, url, data, content_type, headers, target_object, timeout, extra_api_info)\u001B[0m\n\u001B[1;32m    339\u001B[0m headers[\u001B[38;5;124m\"\u001B[39m\u001B[38;5;124mUser-Agent\u001B[39m\u001B[38;5;124m\"\u001B[39m] \u001B[38;5;241m=\u001B[39m \u001B[38;5;28mself\u001B[39m\u001B[38;5;241m.\u001B[39muser_agent\n\u001B[0;32m--> 341\u001B[0m \u001B[38;5;28;01mreturn\u001B[39;00m \u001B[38;5;28;43mself\u001B[39;49m\u001B[38;5;241;43m.\u001B[39;49m\u001B[43m_do_request\u001B[49m\u001B[43m(\u001B[49m\n\u001B[1;32m    342\u001B[0m \u001B[43m    \u001B[49m\u001B[43mmethod\u001B[49m\u001B[43m,\u001B[49m\u001B[43m \u001B[49m\u001B[43murl\u001B[49m\u001B[43m,\u001B[49m\u001B[43m \u001B[49m\u001B[43mheaders\u001B[49m\u001B[43m,\u001B[49m\u001B[43m \u001B[49m\u001B[43mdata\u001B[49m\u001B[43m,\u001B[49m\u001B[43m \u001B[49m\u001B[43mtarget_object\u001B[49m\u001B[43m,\u001B[49m\u001B[43m \u001B[49m\u001B[43mtimeout\u001B[49m\u001B[38;5;241;43m=\u001B[39;49m\u001B[43mtimeout\u001B[49m\n\u001B[1;32m    343\u001B[0m \u001B[43m\u001B[49m\u001B[43m)\u001B[49m\n",
      "File \u001B[0;32m~/.pyenv/versions/miniconda3-3.12-24.5.0-0/envs/prc/lib/python3.12/site-packages/google/cloud/_http/__init__.py:379\u001B[0m, in \u001B[0;36mJSONConnection._do_request\u001B[0;34m(self, method, url, headers, data, target_object, timeout)\u001B[0m\n\u001B[1;32m    348\u001B[0m \u001B[38;5;250m\u001B[39m\u001B[38;5;124;03m\"\"\"Low-level helper:  perform the actual API request over HTTP.\u001B[39;00m\n\u001B[1;32m    349\u001B[0m \n\u001B[1;32m    350\u001B[0m \u001B[38;5;124;03mAllows batch context managers to override and defer a request.\u001B[39;00m\n\u001B[0;32m   (...)\u001B[0m\n\u001B[1;32m    377\u001B[0m \u001B[38;5;124;03m:returns: The HTTP response.\u001B[39;00m\n\u001B[1;32m    378\u001B[0m \u001B[38;5;124;03m\"\"\"\u001B[39;00m\n\u001B[0;32m--> 379\u001B[0m \u001B[38;5;28;01mreturn\u001B[39;00m \u001B[38;5;28;43mself\u001B[39;49m\u001B[38;5;241;43m.\u001B[39;49m\u001B[43mhttp\u001B[49m\u001B[38;5;241;43m.\u001B[39;49m\u001B[43mrequest\u001B[49m\u001B[43m(\u001B[49m\n\u001B[1;32m    380\u001B[0m \u001B[43m    \u001B[49m\u001B[43murl\u001B[49m\u001B[38;5;241;43m=\u001B[39;49m\u001B[43murl\u001B[49m\u001B[43m,\u001B[49m\u001B[43m \u001B[49m\u001B[43mmethod\u001B[49m\u001B[38;5;241;43m=\u001B[39;49m\u001B[43mmethod\u001B[49m\u001B[43m,\u001B[49m\u001B[43m \u001B[49m\u001B[43mheaders\u001B[49m\u001B[38;5;241;43m=\u001B[39;49m\u001B[43mheaders\u001B[49m\u001B[43m,\u001B[49m\u001B[43m \u001B[49m\u001B[43mdata\u001B[49m\u001B[38;5;241;43m=\u001B[39;49m\u001B[43mdata\u001B[49m\u001B[43m,\u001B[49m\u001B[43m \u001B[49m\u001B[43mtimeout\u001B[49m\u001B[38;5;241;43m=\u001B[39;49m\u001B[43mtimeout\u001B[49m\n\u001B[1;32m    381\u001B[0m \u001B[43m\u001B[49m\u001B[43m)\u001B[49m\n",
      "File \u001B[0;32m~/.pyenv/versions/miniconda3-3.12-24.5.0-0/envs/prc/lib/python3.12/site-packages/google/auth/transport/requests.py:534\u001B[0m, in \u001B[0;36mAuthorizedSession.request\u001B[0;34m(self, method, url, data, headers, max_allowed_time, timeout, **kwargs)\u001B[0m\n\u001B[1;32m    533\u001B[0m \u001B[38;5;28;01mwith\u001B[39;00m TimeoutGuard(remaining_time) \u001B[38;5;28;01mas\u001B[39;00m guard:\n\u001B[0;32m--> 534\u001B[0m     \u001B[38;5;28;43mself\u001B[39;49m\u001B[38;5;241;43m.\u001B[39;49m\u001B[43mcredentials\u001B[49m\u001B[38;5;241;43m.\u001B[39;49m\u001B[43mbefore_request\u001B[49m\u001B[43m(\u001B[49m\u001B[43mauth_request\u001B[49m\u001B[43m,\u001B[49m\u001B[43m \u001B[49m\u001B[43mmethod\u001B[49m\u001B[43m,\u001B[49m\u001B[43m \u001B[49m\u001B[43murl\u001B[49m\u001B[43m,\u001B[49m\u001B[43m \u001B[49m\u001B[43mrequest_headers\u001B[49m\u001B[43m)\u001B[49m\n\u001B[1;32m    535\u001B[0m remaining_time \u001B[38;5;241m=\u001B[39m guard\u001B[38;5;241m.\u001B[39mremaining_timeout\n",
      "File \u001B[0;32m~/.pyenv/versions/miniconda3-3.12-24.5.0-0/envs/prc/lib/python3.12/site-packages/google/auth/credentials.py:228\u001B[0m, in \u001B[0;36mCredentials.before_request\u001B[0;34m(self, request, method, url, headers)\u001B[0m\n\u001B[1;32m    227\u001B[0m \u001B[38;5;28;01melse\u001B[39;00m:\n\u001B[0;32m--> 228\u001B[0m     \u001B[38;5;28;43mself\u001B[39;49m\u001B[38;5;241;43m.\u001B[39;49m\u001B[43m_blocking_refresh\u001B[49m\u001B[43m(\u001B[49m\u001B[43mrequest\u001B[49m\u001B[43m)\u001B[49m\n\u001B[1;32m    230\u001B[0m metrics\u001B[38;5;241m.\u001B[39madd_metric_header(headers, \u001B[38;5;28mself\u001B[39m\u001B[38;5;241m.\u001B[39m_metric_header_for_usage())\n",
      "File \u001B[0;32m~/.pyenv/versions/miniconda3-3.12-24.5.0-0/envs/prc/lib/python3.12/site-packages/google/auth/credentials.py:191\u001B[0m, in \u001B[0;36mCredentials._blocking_refresh\u001B[0;34m(self, request)\u001B[0m\n\u001B[1;32m    190\u001B[0m \u001B[38;5;28;01mif\u001B[39;00m \u001B[38;5;129;01mnot\u001B[39;00m \u001B[38;5;28mself\u001B[39m\u001B[38;5;241m.\u001B[39mvalid:\n\u001B[0;32m--> 191\u001B[0m     \u001B[38;5;28;43mself\u001B[39;49m\u001B[38;5;241;43m.\u001B[39;49m\u001B[43mrefresh\u001B[49m\u001B[43m(\u001B[49m\u001B[43mrequest\u001B[49m\u001B[43m)\u001B[49m\n",
      "File \u001B[0;32m~/.pyenv/versions/miniconda3-3.12-24.5.0-0/envs/prc/lib/python3.12/site-packages/google/oauth2/service_account.py:446\u001B[0m, in \u001B[0;36mCredentials.refresh\u001B[0;34m(self, request)\u001B[0m\n\u001B[1;32m    445\u001B[0m assertion \u001B[38;5;241m=\u001B[39m \u001B[38;5;28mself\u001B[39m\u001B[38;5;241m.\u001B[39m_make_authorization_grant_assertion()\n\u001B[0;32m--> 446\u001B[0m access_token, expiry, _ \u001B[38;5;241m=\u001B[39m \u001B[43m_client\u001B[49m\u001B[38;5;241;43m.\u001B[39;49m\u001B[43mjwt_grant\u001B[49m\u001B[43m(\u001B[49m\n\u001B[1;32m    447\u001B[0m \u001B[43m    \u001B[49m\u001B[43mrequest\u001B[49m\u001B[43m,\u001B[49m\u001B[43m \u001B[49m\u001B[38;5;28;43mself\u001B[39;49m\u001B[38;5;241;43m.\u001B[39;49m\u001B[43m_token_uri\u001B[49m\u001B[43m,\u001B[49m\u001B[43m \u001B[49m\u001B[43massertion\u001B[49m\n\u001B[1;32m    448\u001B[0m \u001B[43m\u001B[49m\u001B[43m)\u001B[49m\n\u001B[1;32m    449\u001B[0m \u001B[38;5;28mself\u001B[39m\u001B[38;5;241m.\u001B[39mtoken \u001B[38;5;241m=\u001B[39m access_token\n",
      "File \u001B[0;32m~/.pyenv/versions/miniconda3-3.12-24.5.0-0/envs/prc/lib/python3.12/site-packages/google/oauth2/_client.py:298\u001B[0m, in \u001B[0;36mjwt_grant\u001B[0;34m(request, token_uri, assertion, can_retry)\u001B[0m\n\u001B[1;32m    296\u001B[0m body \u001B[38;5;241m=\u001B[39m {\u001B[38;5;124m\"\u001B[39m\u001B[38;5;124massertion\u001B[39m\u001B[38;5;124m\"\u001B[39m: assertion, \u001B[38;5;124m\"\u001B[39m\u001B[38;5;124mgrant_type\u001B[39m\u001B[38;5;124m\"\u001B[39m: _JWT_GRANT_TYPE}\n\u001B[0;32m--> 298\u001B[0m response_data \u001B[38;5;241m=\u001B[39m \u001B[43m_token_endpoint_request\u001B[49m\u001B[43m(\u001B[49m\n\u001B[1;32m    299\u001B[0m \u001B[43m    \u001B[49m\u001B[43mrequest\u001B[49m\u001B[43m,\u001B[49m\n\u001B[1;32m    300\u001B[0m \u001B[43m    \u001B[49m\u001B[43mtoken_uri\u001B[49m\u001B[43m,\u001B[49m\n\u001B[1;32m    301\u001B[0m \u001B[43m    \u001B[49m\u001B[43mbody\u001B[49m\u001B[43m,\u001B[49m\n\u001B[1;32m    302\u001B[0m \u001B[43m    \u001B[49m\u001B[43mcan_retry\u001B[49m\u001B[38;5;241;43m=\u001B[39;49m\u001B[43mcan_retry\u001B[49m\u001B[43m,\u001B[49m\n\u001B[1;32m    303\u001B[0m \u001B[43m    \u001B[49m\u001B[43mheaders\u001B[49m\u001B[38;5;241;43m=\u001B[39;49m\u001B[43m{\u001B[49m\n\u001B[1;32m    304\u001B[0m \u001B[43m        \u001B[49m\u001B[43mmetrics\u001B[49m\u001B[38;5;241;43m.\u001B[39;49m\u001B[43mAPI_CLIENT_HEADER\u001B[49m\u001B[43m:\u001B[49m\u001B[43m \u001B[49m\u001B[43mmetrics\u001B[49m\u001B[38;5;241;43m.\u001B[39;49m\u001B[43mtoken_request_access_token_sa_assertion\u001B[49m\u001B[43m(\u001B[49m\u001B[43m)\u001B[49m\n\u001B[1;32m    305\u001B[0m \u001B[43m    \u001B[49m\u001B[43m}\u001B[49m\u001B[43m,\u001B[49m\n\u001B[1;32m    306\u001B[0m \u001B[43m\u001B[49m\u001B[43m)\u001B[49m\n\u001B[1;32m    308\u001B[0m \u001B[38;5;28;01mtry\u001B[39;00m:\n",
      "File \u001B[0;32m~/.pyenv/versions/miniconda3-3.12-24.5.0-0/envs/prc/lib/python3.12/site-packages/google/oauth2/_client.py:258\u001B[0m, in \u001B[0;36m_token_endpoint_request\u001B[0;34m(request, token_uri, body, access_token, use_json, can_retry, headers, **kwargs)\u001B[0m\n\u001B[1;32m    229\u001B[0m \u001B[38;5;250m\u001B[39m\u001B[38;5;124;03m\"\"\"Makes a request to the OAuth 2.0 authorization server's token endpoint.\u001B[39;00m\n\u001B[1;32m    230\u001B[0m \n\u001B[1;32m    231\u001B[0m \u001B[38;5;124;03mArgs:\u001B[39;00m\n\u001B[0;32m   (...)\u001B[0m\n\u001B[1;32m    255\u001B[0m \u001B[38;5;124;03m        an error.\u001B[39;00m\n\u001B[1;32m    256\u001B[0m \u001B[38;5;124;03m\"\"\"\u001B[39;00m\n\u001B[0;32m--> 258\u001B[0m response_status_ok, response_data, retryable_error \u001B[38;5;241m=\u001B[39m \u001B[43m_token_endpoint_request_no_throw\u001B[49m\u001B[43m(\u001B[49m\n\u001B[1;32m    259\u001B[0m \u001B[43m    \u001B[49m\u001B[43mrequest\u001B[49m\u001B[43m,\u001B[49m\n\u001B[1;32m    260\u001B[0m \u001B[43m    \u001B[49m\u001B[43mtoken_uri\u001B[49m\u001B[43m,\u001B[49m\n\u001B[1;32m    261\u001B[0m \u001B[43m    \u001B[49m\u001B[43mbody\u001B[49m\u001B[43m,\u001B[49m\n\u001B[1;32m    262\u001B[0m \u001B[43m    \u001B[49m\u001B[43maccess_token\u001B[49m\u001B[38;5;241;43m=\u001B[39;49m\u001B[43maccess_token\u001B[49m\u001B[43m,\u001B[49m\n\u001B[1;32m    263\u001B[0m \u001B[43m    \u001B[49m\u001B[43muse_json\u001B[49m\u001B[38;5;241;43m=\u001B[39;49m\u001B[43muse_json\u001B[49m\u001B[43m,\u001B[49m\n\u001B[1;32m    264\u001B[0m \u001B[43m    \u001B[49m\u001B[43mcan_retry\u001B[49m\u001B[38;5;241;43m=\u001B[39;49m\u001B[43mcan_retry\u001B[49m\u001B[43m,\u001B[49m\n\u001B[1;32m    265\u001B[0m \u001B[43m    \u001B[49m\u001B[43mheaders\u001B[49m\u001B[38;5;241;43m=\u001B[39;49m\u001B[43mheaders\u001B[49m\u001B[43m,\u001B[49m\n\u001B[1;32m    266\u001B[0m \u001B[43m    \u001B[49m\u001B[38;5;241;43m*\u001B[39;49m\u001B[38;5;241;43m*\u001B[39;49m\u001B[43mkwargs\u001B[49m\n\u001B[1;32m    267\u001B[0m \u001B[43m\u001B[49m\u001B[43m)\u001B[49m\n\u001B[1;32m    268\u001B[0m \u001B[38;5;28;01mif\u001B[39;00m \u001B[38;5;129;01mnot\u001B[39;00m response_status_ok:\n",
      "File \u001B[0;32m~/.pyenv/versions/miniconda3-3.12-24.5.0-0/envs/prc/lib/python3.12/site-packages/google/oauth2/_client.py:191\u001B[0m, in \u001B[0;36m_token_endpoint_request_no_throw\u001B[0;34m(request, token_uri, body, access_token, use_json, can_retry, headers, **kwargs)\u001B[0m\n\u001B[1;32m    190\u001B[0m \u001B[38;5;28;01mfor\u001B[39;00m _ \u001B[38;5;129;01min\u001B[39;00m retries:\n\u001B[0;32m--> 191\u001B[0m     response \u001B[38;5;241m=\u001B[39m \u001B[43mrequest\u001B[49m\u001B[43m(\u001B[49m\n\u001B[1;32m    192\u001B[0m \u001B[43m        \u001B[49m\u001B[43mmethod\u001B[49m\u001B[38;5;241;43m=\u001B[39;49m\u001B[38;5;124;43m\"\u001B[39;49m\u001B[38;5;124;43mPOST\u001B[39;49m\u001B[38;5;124;43m\"\u001B[39;49m\u001B[43m,\u001B[49m\u001B[43m \u001B[49m\u001B[43murl\u001B[49m\u001B[38;5;241;43m=\u001B[39;49m\u001B[43mtoken_uri\u001B[49m\u001B[43m,\u001B[49m\u001B[43m \u001B[49m\u001B[43mheaders\u001B[49m\u001B[38;5;241;43m=\u001B[39;49m\u001B[43mheaders_to_use\u001B[49m\u001B[43m,\u001B[49m\u001B[43m \u001B[49m\u001B[43mbody\u001B[49m\u001B[38;5;241;43m=\u001B[39;49m\u001B[43mbody\u001B[49m\u001B[43m,\u001B[49m\u001B[43m \u001B[49m\u001B[38;5;241;43m*\u001B[39;49m\u001B[38;5;241;43m*\u001B[39;49m\u001B[43mkwargs\u001B[49m\n\u001B[1;32m    193\u001B[0m \u001B[43m    \u001B[49m\u001B[43m)\u001B[49m\n\u001B[1;32m    194\u001B[0m     response_body \u001B[38;5;241m=\u001B[39m (\n\u001B[1;32m    195\u001B[0m         response\u001B[38;5;241m.\u001B[39mdata\u001B[38;5;241m.\u001B[39mdecode(\u001B[38;5;124m\"\u001B[39m\u001B[38;5;124mutf-8\u001B[39m\u001B[38;5;124m\"\u001B[39m)\n\u001B[1;32m    196\u001B[0m         \u001B[38;5;28;01mif\u001B[39;00m \u001B[38;5;28mhasattr\u001B[39m(response\u001B[38;5;241m.\u001B[39mdata, \u001B[38;5;124m\"\u001B[39m\u001B[38;5;124mdecode\u001B[39m\u001B[38;5;124m\"\u001B[39m)\n\u001B[1;32m    197\u001B[0m         \u001B[38;5;28;01melse\u001B[39;00m response\u001B[38;5;241m.\u001B[39mdata\n\u001B[1;32m    198\u001B[0m     )\n",
      "File \u001B[0;32m~/.pyenv/versions/miniconda3-3.12-24.5.0-0/envs/prc/lib/python3.12/site-packages/google/auth/transport/requests.py:193\u001B[0m, in \u001B[0;36mRequest.__call__\u001B[0;34m(self, url, method, body, headers, timeout, **kwargs)\u001B[0m\n\u001B[1;32m    192\u001B[0m new_exc \u001B[38;5;241m=\u001B[39m exceptions\u001B[38;5;241m.\u001B[39mTransportError(caught_exc)\n\u001B[0;32m--> 193\u001B[0m \u001B[38;5;28;01mraise\u001B[39;00m new_exc \u001B[38;5;28;01mfrom\u001B[39;00m \u001B[38;5;21;01mcaught_exc\u001B[39;00m\n",
      "\u001B[0;31mTransportError\u001B[0m: HTTPSConnectionPool(host='oauth2.googleapis.com', port=443): Max retries exceeded with url: /token (Caused by ProxyError('Unable to connect to proxy', NameResolutionError(\"<urllib3.connection.HTTPSConnection object at 0x784fd689e630>: Failed to resolve 'http' ([Errno -3] Temporary failure in name resolution)\")))",
      "\nDuring handling of the above exception, another exception occurred:\n",
      "\u001B[0;31mKeyboardInterrupt\u001B[0m                         Traceback (most recent call last)",
      "Cell \u001B[0;32mIn[39], line 1\u001B[0m\n\u001B[0;32m----> 1\u001B[0m df \u001B[38;5;241m=\u001B[39m \u001B[43mpandas_gbq\u001B[49m\u001B[38;5;241;43m.\u001B[39;49m\u001B[43mread_gbq\u001B[49m\u001B[43m(\u001B[49m\u001B[43mQUERY\u001B[49m\u001B[43m,\u001B[49m\u001B[43mcredentials\u001B[49m\u001B[38;5;241;43m=\u001B[39;49m\u001B[43mcredentials\u001B[49m\u001B[43m)\u001B[49m\n",
      "File \u001B[0;32m~/.pyenv/versions/miniconda3-3.12-24.5.0-0/envs/prc/lib/python3.12/site-packages/pandas_gbq/gbq.py:896\u001B[0m, in \u001B[0;36mread_gbq\u001B[0;34m(query_or_table, project_id, index_col, columns, reauth, auth_local_webserver, dialect, location, configuration, credentials, use_bqstorage_api, max_results, verbose, private_key, progress_bar_type, dtypes, auth_redirect_uri, client_id, client_secret, col_order)\u001B[0m\n\u001B[1;32m    881\u001B[0m connector \u001B[38;5;241m=\u001B[39m GbqConnector(\n\u001B[1;32m    882\u001B[0m     project_id,\n\u001B[1;32m    883\u001B[0m     reauth\u001B[38;5;241m=\u001B[39mreauth,\n\u001B[0;32m   (...)\u001B[0m\n\u001B[1;32m    892\u001B[0m     client_secret\u001B[38;5;241m=\u001B[39mclient_secret,\n\u001B[1;32m    893\u001B[0m )\n\u001B[1;32m    895\u001B[0m \u001B[38;5;28;01mif\u001B[39;00m _is_query(query_or_table):\n\u001B[0;32m--> 896\u001B[0m     final_df \u001B[38;5;241m=\u001B[39m \u001B[43mconnector\u001B[49m\u001B[38;5;241;43m.\u001B[39;49m\u001B[43mrun_query\u001B[49m\u001B[43m(\u001B[49m\n\u001B[1;32m    897\u001B[0m \u001B[43m        \u001B[49m\u001B[43mquery_or_table\u001B[49m\u001B[43m,\u001B[49m\n\u001B[1;32m    898\u001B[0m \u001B[43m        \u001B[49m\u001B[43mconfiguration\u001B[49m\u001B[38;5;241;43m=\u001B[39;49m\u001B[43mconfiguration\u001B[49m\u001B[43m,\u001B[49m\n\u001B[1;32m    899\u001B[0m \u001B[43m        \u001B[49m\u001B[43mmax_results\u001B[49m\u001B[38;5;241;43m=\u001B[39;49m\u001B[43mmax_results\u001B[49m\u001B[43m,\u001B[49m\n\u001B[1;32m    900\u001B[0m \u001B[43m        \u001B[49m\u001B[43mprogress_bar_type\u001B[49m\u001B[38;5;241;43m=\u001B[39;49m\u001B[43mprogress_bar_type\u001B[49m\u001B[43m,\u001B[49m\n\u001B[1;32m    901\u001B[0m \u001B[43m        \u001B[49m\u001B[43mdtypes\u001B[49m\u001B[38;5;241;43m=\u001B[39;49m\u001B[43mdtypes\u001B[49m\u001B[43m,\u001B[49m\n\u001B[1;32m    902\u001B[0m \u001B[43m    \u001B[49m\u001B[43m)\u001B[49m\n\u001B[1;32m    903\u001B[0m \u001B[38;5;28;01melse\u001B[39;00m:\n\u001B[1;32m    904\u001B[0m     final_df \u001B[38;5;241m=\u001B[39m connector\u001B[38;5;241m.\u001B[39mdownload_table(\n\u001B[1;32m    905\u001B[0m         query_or_table,\n\u001B[1;32m    906\u001B[0m         max_results\u001B[38;5;241m=\u001B[39mmax_results,\n\u001B[1;32m    907\u001B[0m         progress_bar_type\u001B[38;5;241m=\u001B[39mprogress_bar_type,\n\u001B[1;32m    908\u001B[0m         dtypes\u001B[38;5;241m=\u001B[39mdtypes,\n\u001B[1;32m    909\u001B[0m     )\n",
      "File \u001B[0;32m~/.pyenv/versions/miniconda3-3.12-24.5.0-0/envs/prc/lib/python3.12/site-packages/pandas_gbq/gbq.py:435\u001B[0m, in \u001B[0;36mGbqConnector.run_query\u001B[0;34m(self, query, max_results, progress_bar_type, **kwargs)\u001B[0m\n\u001B[1;32m    432\u001B[0m job_config \u001B[38;5;241m=\u001B[39m bigquery\u001B[38;5;241m.\u001B[39mQueryJobConfig\u001B[38;5;241m.\u001B[39mfrom_api_repr(job_config_dict)\n\u001B[1;32m    434\u001B[0m \u001B[38;5;28;01mif\u001B[39;00m FEATURES\u001B[38;5;241m.\u001B[39mbigquery_has_query_and_wait:\n\u001B[0;32m--> 435\u001B[0m     rows_iter \u001B[38;5;241m=\u001B[39m \u001B[43mpandas_gbq\u001B[49m\u001B[38;5;241;43m.\u001B[39;49m\u001B[43mquery\u001B[49m\u001B[38;5;241;43m.\u001B[39;49m\u001B[43mquery_and_wait_via_client_library\u001B[49m\u001B[43m(\u001B[49m\n\u001B[1;32m    436\u001B[0m \u001B[43m        \u001B[49m\u001B[38;5;28;43mself\u001B[39;49m\u001B[43m,\u001B[49m\n\u001B[1;32m    437\u001B[0m \u001B[43m        \u001B[49m\u001B[38;5;28;43mself\u001B[39;49m\u001B[38;5;241;43m.\u001B[39;49m\u001B[43mclient\u001B[49m\u001B[43m,\u001B[49m\n\u001B[1;32m    438\u001B[0m \u001B[43m        \u001B[49m\u001B[43mquery\u001B[49m\u001B[43m,\u001B[49m\n\u001B[1;32m    439\u001B[0m \u001B[43m        \u001B[49m\u001B[43mlocation\u001B[49m\u001B[38;5;241;43m=\u001B[39;49m\u001B[38;5;28;43mself\u001B[39;49m\u001B[38;5;241;43m.\u001B[39;49m\u001B[43mlocation\u001B[49m\u001B[43m,\u001B[49m\n\u001B[1;32m    440\u001B[0m \u001B[43m        \u001B[49m\u001B[43mproject_id\u001B[49m\u001B[38;5;241;43m=\u001B[39;49m\u001B[38;5;28;43mself\u001B[39;49m\u001B[38;5;241;43m.\u001B[39;49m\u001B[43mproject_id\u001B[49m\u001B[43m,\u001B[49m\n\u001B[1;32m    441\u001B[0m \u001B[43m        \u001B[49m\u001B[43mjob_config\u001B[49m\u001B[38;5;241;43m=\u001B[39;49m\u001B[43mjob_config\u001B[49m\u001B[43m,\u001B[49m\n\u001B[1;32m    442\u001B[0m \u001B[43m        \u001B[49m\u001B[43mmax_results\u001B[49m\u001B[38;5;241;43m=\u001B[39;49m\u001B[43mmax_results\u001B[49m\u001B[43m,\u001B[49m\n\u001B[1;32m    443\u001B[0m \u001B[43m        \u001B[49m\u001B[43mtimeout_ms\u001B[49m\u001B[38;5;241;43m=\u001B[39;49m\u001B[43mtimeout_ms\u001B[49m\u001B[43m,\u001B[49m\n\u001B[1;32m    444\u001B[0m \u001B[43m    \u001B[49m\u001B[43m)\u001B[49m\n\u001B[1;32m    445\u001B[0m \u001B[38;5;28;01melse\u001B[39;00m:\n\u001B[1;32m    446\u001B[0m     rows_iter \u001B[38;5;241m=\u001B[39m pandas_gbq\u001B[38;5;241m.\u001B[39mquery\u001B[38;5;241m.\u001B[39mquery_and_wait(\n\u001B[1;32m    447\u001B[0m         \u001B[38;5;28mself\u001B[39m,\n\u001B[1;32m    448\u001B[0m         \u001B[38;5;28mself\u001B[39m\u001B[38;5;241m.\u001B[39mclient,\n\u001B[0;32m   (...)\u001B[0m\n\u001B[1;32m    454\u001B[0m         timeout_ms\u001B[38;5;241m=\u001B[39mtimeout_ms,\n\u001B[1;32m    455\u001B[0m     )\n",
      "File \u001B[0;32m~/.pyenv/versions/miniconda3-3.12-24.5.0-0/envs/prc/lib/python3.12/site-packages/pandas_gbq/query.py:198\u001B[0m, in \u001B[0;36mquery_and_wait_via_client_library\u001B[0;34m(connector, client, query, job_config, location, project_id, max_results, timeout_ms)\u001B[0m\n\u001B[1;32m    187\u001B[0m \u001B[38;5;28;01mdef\u001B[39;00m \u001B[38;5;21mquery_and_wait_via_client_library\u001B[39m(\n\u001B[1;32m    188\u001B[0m     connector,\n\u001B[1;32m    189\u001B[0m     client: bigquery\u001B[38;5;241m.\u001B[39mClient,\n\u001B[0;32m   (...)\u001B[0m\n\u001B[1;32m    196\u001B[0m     timeout_ms: Optional[\u001B[38;5;28mint\u001B[39m],\n\u001B[1;32m    197\u001B[0m ):\n\u001B[0;32m--> 198\u001B[0m     rows_iter \u001B[38;5;241m=\u001B[39m \u001B[43mtry_query\u001B[49m\u001B[43m(\u001B[49m\n\u001B[1;32m    199\u001B[0m \u001B[43m        \u001B[49m\u001B[43mconnector\u001B[49m\u001B[43m,\u001B[49m\n\u001B[1;32m    200\u001B[0m \u001B[43m        \u001B[49m\u001B[43mfunctools\u001B[49m\u001B[38;5;241;43m.\u001B[39;49m\u001B[43mpartial\u001B[49m\u001B[43m(\u001B[49m\n\u001B[1;32m    201\u001B[0m \u001B[43m            \u001B[49m\u001B[43mclient\u001B[49m\u001B[38;5;241;43m.\u001B[39;49m\u001B[43mquery_and_wait\u001B[49m\u001B[43m,\u001B[49m\n\u001B[1;32m    202\u001B[0m \u001B[43m            \u001B[49m\u001B[43mquery\u001B[49m\u001B[43m,\u001B[49m\n\u001B[1;32m    203\u001B[0m \u001B[43m            \u001B[49m\u001B[43mjob_config\u001B[49m\u001B[38;5;241;43m=\u001B[39;49m\u001B[43mjob_config\u001B[49m\u001B[43m,\u001B[49m\n\u001B[1;32m    204\u001B[0m \u001B[43m            \u001B[49m\u001B[43mlocation\u001B[49m\u001B[38;5;241;43m=\u001B[39;49m\u001B[43mlocation\u001B[49m\u001B[43m,\u001B[49m\n\u001B[1;32m    205\u001B[0m \u001B[43m            \u001B[49m\u001B[43mproject\u001B[49m\u001B[38;5;241;43m=\u001B[39;49m\u001B[43mproject_id\u001B[49m\u001B[43m,\u001B[49m\n\u001B[1;32m    206\u001B[0m \u001B[43m            \u001B[49m\u001B[43mmax_results\u001B[49m\u001B[38;5;241;43m=\u001B[39;49m\u001B[43mmax_results\u001B[49m\u001B[43m,\u001B[49m\n\u001B[1;32m    207\u001B[0m \u001B[43m            \u001B[49m\u001B[43mwait_timeout\u001B[49m\u001B[38;5;241;43m=\u001B[39;49m\u001B[43mtimeout_ms\u001B[49m\u001B[43m \u001B[49m\u001B[38;5;241;43m/\u001B[39;49m\u001B[43m \u001B[49m\u001B[38;5;241;43m1000.0\u001B[39;49m\u001B[43m \u001B[49m\u001B[38;5;28;43;01mif\u001B[39;49;00m\u001B[43m \u001B[49m\u001B[43mtimeout_ms\u001B[49m\u001B[43m \u001B[49m\u001B[38;5;28;43;01melse\u001B[39;49;00m\u001B[43m \u001B[49m\u001B[38;5;28;43;01mNone\u001B[39;49;00m\u001B[43m,\u001B[49m\n\u001B[1;32m    208\u001B[0m \u001B[43m        \u001B[49m\u001B[43m)\u001B[49m\u001B[43m,\u001B[49m\n\u001B[1;32m    209\u001B[0m \u001B[43m    \u001B[49m\u001B[43m)\u001B[49m\n\u001B[1;32m    210\u001B[0m     logger\u001B[38;5;241m.\u001B[39mdebug(\u001B[38;5;124m\"\u001B[39m\u001B[38;5;124mQuery done.\u001B[39m\u001B[38;5;130;01m\\n\u001B[39;00m\u001B[38;5;124m\"\u001B[39m)\n\u001B[1;32m    211\u001B[0m     \u001B[38;5;28;01mreturn\u001B[39;00m rows_iter\n",
      "File \u001B[0;32m~/.pyenv/versions/miniconda3-3.12-24.5.0-0/envs/prc/lib/python3.12/site-packages/pandas_gbq/query.py:85\u001B[0m, in \u001B[0;36mtry_query\u001B[0;34m(connector, query_fn)\u001B[0m\n\u001B[1;32m     83\u001B[0m \u001B[38;5;28;01mtry\u001B[39;00m:\n\u001B[1;32m     84\u001B[0m     logger\u001B[38;5;241m.\u001B[39mdebug(\u001B[38;5;124m\"\u001B[39m\u001B[38;5;124mRequesting query... \u001B[39m\u001B[38;5;124m\"\u001B[39m)\n\u001B[0;32m---> 85\u001B[0m     \u001B[38;5;28;01mreturn\u001B[39;00m \u001B[43mquery_fn\u001B[49m\u001B[43m(\u001B[49m\u001B[43m)\u001B[49m\n\u001B[1;32m     86\u001B[0m \u001B[38;5;28;01mexcept\u001B[39;00m concurrent\u001B[38;5;241m.\u001B[39mfutures\u001B[38;5;241m.\u001B[39mTimeoutError \u001B[38;5;28;01mas\u001B[39;00m ex:\n\u001B[1;32m     87\u001B[0m     \u001B[38;5;28;01mraise\u001B[39;00m pandas_gbq\u001B[38;5;241m.\u001B[39mexceptions\u001B[38;5;241m.\u001B[39mQueryTimeout(\u001B[38;5;124m\"\u001B[39m\u001B[38;5;124mReason: \u001B[39m\u001B[38;5;132;01m{0}\u001B[39;00m\u001B[38;5;124m\"\u001B[39m\u001B[38;5;241m.\u001B[39mformat(ex))\n",
      "File \u001B[0;32m~/.pyenv/versions/miniconda3-3.12-24.5.0-0/envs/prc/lib/python3.12/site-packages/google/cloud/bigquery/client.py:3601\u001B[0m, in \u001B[0;36mClient.query_and_wait\u001B[0;34m(self, query, job_config, location, project, api_timeout, wait_timeout, retry, job_retry, page_size, max_results)\u001B[0m\n\u001B[1;32m   3595\u001B[0m     _verify_job_config_type(job_config, QueryJobConfig)\n\u001B[1;32m   3597\u001B[0m job_config \u001B[38;5;241m=\u001B[39m _job_helpers\u001B[38;5;241m.\u001B[39mjob_config_with_defaults(\n\u001B[1;32m   3598\u001B[0m     job_config, \u001B[38;5;28mself\u001B[39m\u001B[38;5;241m.\u001B[39m_default_query_job_config\n\u001B[1;32m   3599\u001B[0m )\n\u001B[0;32m-> 3601\u001B[0m \u001B[38;5;28;01mreturn\u001B[39;00m \u001B[43m_job_helpers\u001B[49m\u001B[38;5;241;43m.\u001B[39;49m\u001B[43mquery_and_wait\u001B[49m\u001B[43m(\u001B[49m\n\u001B[1;32m   3602\u001B[0m \u001B[43m    \u001B[49m\u001B[38;5;28;43mself\u001B[39;49m\u001B[43m,\u001B[49m\n\u001B[1;32m   3603\u001B[0m \u001B[43m    \u001B[49m\u001B[43mquery\u001B[49m\u001B[43m,\u001B[49m\n\u001B[1;32m   3604\u001B[0m \u001B[43m    \u001B[49m\u001B[43mjob_config\u001B[49m\u001B[38;5;241;43m=\u001B[39;49m\u001B[43mjob_config\u001B[49m\u001B[43m,\u001B[49m\n\u001B[1;32m   3605\u001B[0m \u001B[43m    \u001B[49m\u001B[43mlocation\u001B[49m\u001B[38;5;241;43m=\u001B[39;49m\u001B[43mlocation\u001B[49m\u001B[43m,\u001B[49m\n\u001B[1;32m   3606\u001B[0m \u001B[43m    \u001B[49m\u001B[43mproject\u001B[49m\u001B[38;5;241;43m=\u001B[39;49m\u001B[43mproject\u001B[49m\u001B[43m,\u001B[49m\n\u001B[1;32m   3607\u001B[0m \u001B[43m    \u001B[49m\u001B[43mapi_timeout\u001B[49m\u001B[38;5;241;43m=\u001B[39;49m\u001B[43mapi_timeout\u001B[49m\u001B[43m,\u001B[49m\n\u001B[1;32m   3608\u001B[0m \u001B[43m    \u001B[49m\u001B[43mwait_timeout\u001B[49m\u001B[38;5;241;43m=\u001B[39;49m\u001B[43mwait_timeout\u001B[49m\u001B[43m,\u001B[49m\n\u001B[1;32m   3609\u001B[0m \u001B[43m    \u001B[49m\u001B[43mretry\u001B[49m\u001B[38;5;241;43m=\u001B[39;49m\u001B[43mretry\u001B[49m\u001B[43m,\u001B[49m\n\u001B[1;32m   3610\u001B[0m \u001B[43m    \u001B[49m\u001B[43mjob_retry\u001B[49m\u001B[38;5;241;43m=\u001B[39;49m\u001B[43mjob_retry\u001B[49m\u001B[43m,\u001B[49m\n\u001B[1;32m   3611\u001B[0m \u001B[43m    \u001B[49m\u001B[43mpage_size\u001B[49m\u001B[38;5;241;43m=\u001B[39;49m\u001B[43mpage_size\u001B[49m\u001B[43m,\u001B[49m\n\u001B[1;32m   3612\u001B[0m \u001B[43m    \u001B[49m\u001B[43mmax_results\u001B[49m\u001B[38;5;241;43m=\u001B[39;49m\u001B[43mmax_results\u001B[49m\u001B[43m,\u001B[49m\n\u001B[1;32m   3613\u001B[0m \u001B[43m\u001B[49m\u001B[43m)\u001B[49m\n",
      "File \u001B[0;32m~/.pyenv/versions/miniconda3-3.12-24.5.0-0/envs/prc/lib/python3.12/site-packages/google/cloud/bigquery/_job_helpers.py:509\u001B[0m, in \u001B[0;36mquery_and_wait\u001B[0;34m(client, query, job_config, location, project, api_timeout, wait_timeout, retry, job_retry, page_size, max_results)\u001B[0m\n\u001B[1;32m    492\u001B[0m     \u001B[38;5;28;01mreturn\u001B[39;00m table\u001B[38;5;241m.\u001B[39mRowIterator(\n\u001B[1;32m    493\u001B[0m         client\u001B[38;5;241m=\u001B[39mclient,\n\u001B[1;32m    494\u001B[0m         api_request\u001B[38;5;241m=\u001B[39mfunctools\u001B[38;5;241m.\u001B[39mpartial(client\u001B[38;5;241m.\u001B[39m_call_api, retry, timeout\u001B[38;5;241m=\u001B[39mapi_timeout),\n\u001B[0;32m   (...)\u001B[0m\n\u001B[1;32m    505\u001B[0m         num_dml_affected_rows\u001B[38;5;241m=\u001B[39mquery_results\u001B[38;5;241m.\u001B[39mnum_dml_affected_rows,\n\u001B[1;32m    506\u001B[0m     )\n\u001B[1;32m    508\u001B[0m \u001B[38;5;28;01mif\u001B[39;00m job_retry \u001B[38;5;129;01mis\u001B[39;00m \u001B[38;5;129;01mnot\u001B[39;00m \u001B[38;5;28;01mNone\u001B[39;00m:\n\u001B[0;32m--> 509\u001B[0m     \u001B[38;5;28;01mreturn\u001B[39;00m \u001B[43mjob_retry\u001B[49m\u001B[43m(\u001B[49m\u001B[43mdo_query\u001B[49m\u001B[43m)\u001B[49m\u001B[43m(\u001B[49m\u001B[43m)\u001B[49m\n\u001B[1;32m    510\u001B[0m \u001B[38;5;28;01melse\u001B[39;00m:\n\u001B[1;32m    511\u001B[0m     \u001B[38;5;28;01mreturn\u001B[39;00m do_query()\n",
      "File \u001B[0;32m~/.pyenv/versions/miniconda3-3.12-24.5.0-0/envs/prc/lib/python3.12/site-packages/google/api_core/retry/retry_unary.py:293\u001B[0m, in \u001B[0;36mRetry.__call__.<locals>.retry_wrapped_func\u001B[0;34m(*args, **kwargs)\u001B[0m\n\u001B[1;32m    289\u001B[0m target \u001B[38;5;241m=\u001B[39m functools\u001B[38;5;241m.\u001B[39mpartial(func, \u001B[38;5;241m*\u001B[39margs, \u001B[38;5;241m*\u001B[39m\u001B[38;5;241m*\u001B[39mkwargs)\n\u001B[1;32m    290\u001B[0m sleep_generator \u001B[38;5;241m=\u001B[39m exponential_sleep_generator(\n\u001B[1;32m    291\u001B[0m     \u001B[38;5;28mself\u001B[39m\u001B[38;5;241m.\u001B[39m_initial, \u001B[38;5;28mself\u001B[39m\u001B[38;5;241m.\u001B[39m_maximum, multiplier\u001B[38;5;241m=\u001B[39m\u001B[38;5;28mself\u001B[39m\u001B[38;5;241m.\u001B[39m_multiplier\n\u001B[1;32m    292\u001B[0m )\n\u001B[0;32m--> 293\u001B[0m \u001B[38;5;28;01mreturn\u001B[39;00m \u001B[43mretry_target\u001B[49m\u001B[43m(\u001B[49m\n\u001B[1;32m    294\u001B[0m \u001B[43m    \u001B[49m\u001B[43mtarget\u001B[49m\u001B[43m,\u001B[49m\n\u001B[1;32m    295\u001B[0m \u001B[43m    \u001B[49m\u001B[38;5;28;43mself\u001B[39;49m\u001B[38;5;241;43m.\u001B[39;49m\u001B[43m_predicate\u001B[49m\u001B[43m,\u001B[49m\n\u001B[1;32m    296\u001B[0m \u001B[43m    \u001B[49m\u001B[43msleep_generator\u001B[49m\u001B[43m,\u001B[49m\n\u001B[1;32m    297\u001B[0m \u001B[43m    \u001B[49m\u001B[43mtimeout\u001B[49m\u001B[38;5;241;43m=\u001B[39;49m\u001B[38;5;28;43mself\u001B[39;49m\u001B[38;5;241;43m.\u001B[39;49m\u001B[43m_timeout\u001B[49m\u001B[43m,\u001B[49m\n\u001B[1;32m    298\u001B[0m \u001B[43m    \u001B[49m\u001B[43mon_error\u001B[49m\u001B[38;5;241;43m=\u001B[39;49m\u001B[43mon_error\u001B[49m\u001B[43m,\u001B[49m\n\u001B[1;32m    299\u001B[0m \u001B[43m\u001B[49m\u001B[43m)\u001B[49m\n",
      "File \u001B[0;32m~/.pyenv/versions/miniconda3-3.12-24.5.0-0/envs/prc/lib/python3.12/site-packages/google/api_core/retry/retry_unary.py:144\u001B[0m, in \u001B[0;36mretry_target\u001B[0;34m(target, predicate, sleep_generator, timeout, on_error, exception_factory, **kwargs)\u001B[0m\n\u001B[1;32m    142\u001B[0m \u001B[38;5;28;01mfor\u001B[39;00m sleep \u001B[38;5;129;01min\u001B[39;00m sleep_generator:\n\u001B[1;32m    143\u001B[0m     \u001B[38;5;28;01mtry\u001B[39;00m:\n\u001B[0;32m--> 144\u001B[0m         result \u001B[38;5;241m=\u001B[39m \u001B[43mtarget\u001B[49m\u001B[43m(\u001B[49m\u001B[43m)\u001B[49m\n\u001B[1;32m    145\u001B[0m         \u001B[38;5;28;01mif\u001B[39;00m inspect\u001B[38;5;241m.\u001B[39misawaitable(result):\n\u001B[1;32m    146\u001B[0m             warnings\u001B[38;5;241m.\u001B[39mwarn(_ASYNC_RETRY_WARNING)\n",
      "File \u001B[0;32m~/.pyenv/versions/miniconda3-3.12-24.5.0-0/envs/prc/lib/python3.12/site-packages/google/cloud/bigquery/_job_helpers.py:450\u001B[0m, in \u001B[0;36mquery_and_wait.<locals>.do_query\u001B[0;34m()\u001B[0m\n\u001B[1;32m    448\u001B[0m \u001B[38;5;66;03m# For easier testing, handle the retries ourselves.\u001B[39;00m\n\u001B[1;32m    449\u001B[0m \u001B[38;5;28;01mif\u001B[39;00m retry \u001B[38;5;129;01mis\u001B[39;00m \u001B[38;5;129;01mnot\u001B[39;00m \u001B[38;5;28;01mNone\u001B[39;00m:\n\u001B[0;32m--> 450\u001B[0m     response \u001B[38;5;241m=\u001B[39m \u001B[43mretry\u001B[49m\u001B[43m(\u001B[49m\u001B[43mclient\u001B[49m\u001B[38;5;241;43m.\u001B[39;49m\u001B[43m_call_api\u001B[49m\u001B[43m)\u001B[49m\u001B[43m(\u001B[49m\n\u001B[1;32m    451\u001B[0m \u001B[43m        \u001B[49m\u001B[43mretry\u001B[49m\u001B[38;5;241;43m=\u001B[39;49m\u001B[38;5;28;43;01mNone\u001B[39;49;00m\u001B[43m,\u001B[49m\u001B[43m  \u001B[49m\u001B[38;5;66;43;03m# We're calling the retry decorator ourselves.\u001B[39;49;00m\n\u001B[1;32m    452\u001B[0m \u001B[43m        \u001B[49m\u001B[43mspan_name\u001B[49m\u001B[38;5;241;43m=\u001B[39;49m\u001B[38;5;124;43m\"\u001B[39;49m\u001B[38;5;124;43mBigQuery.query\u001B[39;49m\u001B[38;5;124;43m\"\u001B[39;49m\u001B[43m,\u001B[49m\n\u001B[1;32m    453\u001B[0m \u001B[43m        \u001B[49m\u001B[43mspan_attributes\u001B[49m\u001B[38;5;241;43m=\u001B[39;49m\u001B[43mspan_attributes\u001B[49m\u001B[43m,\u001B[49m\n\u001B[1;32m    454\u001B[0m \u001B[43m        \u001B[49m\u001B[43mmethod\u001B[49m\u001B[38;5;241;43m=\u001B[39;49m\u001B[38;5;124;43m\"\u001B[39;49m\u001B[38;5;124;43mPOST\u001B[39;49m\u001B[38;5;124;43m\"\u001B[39;49m\u001B[43m,\u001B[49m\n\u001B[1;32m    455\u001B[0m \u001B[43m        \u001B[49m\u001B[43mpath\u001B[49m\u001B[38;5;241;43m=\u001B[39;49m\u001B[43mpath\u001B[49m\u001B[43m,\u001B[49m\n\u001B[1;32m    456\u001B[0m \u001B[43m        \u001B[49m\u001B[43mdata\u001B[49m\u001B[38;5;241;43m=\u001B[39;49m\u001B[43mrequest_body\u001B[49m\u001B[43m,\u001B[49m\n\u001B[1;32m    457\u001B[0m \u001B[43m        \u001B[49m\u001B[43mtimeout\u001B[49m\u001B[38;5;241;43m=\u001B[39;49m\u001B[43mapi_timeout\u001B[49m\u001B[43m,\u001B[49m\n\u001B[1;32m    458\u001B[0m \u001B[43m    \u001B[49m\u001B[43m)\u001B[49m\n\u001B[1;32m    459\u001B[0m \u001B[38;5;28;01melse\u001B[39;00m:\n\u001B[1;32m    460\u001B[0m     response \u001B[38;5;241m=\u001B[39m client\u001B[38;5;241m.\u001B[39m_call_api(\n\u001B[1;32m    461\u001B[0m         retry\u001B[38;5;241m=\u001B[39m\u001B[38;5;28;01mNone\u001B[39;00m,\n\u001B[1;32m    462\u001B[0m         span_name\u001B[38;5;241m=\u001B[39m\u001B[38;5;124m\"\u001B[39m\u001B[38;5;124mBigQuery.query\u001B[39m\u001B[38;5;124m\"\u001B[39m,\n\u001B[0;32m   (...)\u001B[0m\n\u001B[1;32m    467\u001B[0m         timeout\u001B[38;5;241m=\u001B[39mapi_timeout,\n\u001B[1;32m    468\u001B[0m     )\n",
      "File \u001B[0;32m~/.pyenv/versions/miniconda3-3.12-24.5.0-0/envs/prc/lib/python3.12/site-packages/google/api_core/retry/retry_unary.py:293\u001B[0m, in \u001B[0;36mRetry.__call__.<locals>.retry_wrapped_func\u001B[0;34m(*args, **kwargs)\u001B[0m\n\u001B[1;32m    289\u001B[0m target \u001B[38;5;241m=\u001B[39m functools\u001B[38;5;241m.\u001B[39mpartial(func, \u001B[38;5;241m*\u001B[39margs, \u001B[38;5;241m*\u001B[39m\u001B[38;5;241m*\u001B[39mkwargs)\n\u001B[1;32m    290\u001B[0m sleep_generator \u001B[38;5;241m=\u001B[39m exponential_sleep_generator(\n\u001B[1;32m    291\u001B[0m     \u001B[38;5;28mself\u001B[39m\u001B[38;5;241m.\u001B[39m_initial, \u001B[38;5;28mself\u001B[39m\u001B[38;5;241m.\u001B[39m_maximum, multiplier\u001B[38;5;241m=\u001B[39m\u001B[38;5;28mself\u001B[39m\u001B[38;5;241m.\u001B[39m_multiplier\n\u001B[1;32m    292\u001B[0m )\n\u001B[0;32m--> 293\u001B[0m \u001B[38;5;28;01mreturn\u001B[39;00m \u001B[43mretry_target\u001B[49m\u001B[43m(\u001B[49m\n\u001B[1;32m    294\u001B[0m \u001B[43m    \u001B[49m\u001B[43mtarget\u001B[49m\u001B[43m,\u001B[49m\n\u001B[1;32m    295\u001B[0m \u001B[43m    \u001B[49m\u001B[38;5;28;43mself\u001B[39;49m\u001B[38;5;241;43m.\u001B[39;49m\u001B[43m_predicate\u001B[49m\u001B[43m,\u001B[49m\n\u001B[1;32m    296\u001B[0m \u001B[43m    \u001B[49m\u001B[43msleep_generator\u001B[49m\u001B[43m,\u001B[49m\n\u001B[1;32m    297\u001B[0m \u001B[43m    \u001B[49m\u001B[43mtimeout\u001B[49m\u001B[38;5;241;43m=\u001B[39;49m\u001B[38;5;28;43mself\u001B[39;49m\u001B[38;5;241;43m.\u001B[39;49m\u001B[43m_timeout\u001B[49m\u001B[43m,\u001B[49m\n\u001B[1;32m    298\u001B[0m \u001B[43m    \u001B[49m\u001B[43mon_error\u001B[49m\u001B[38;5;241;43m=\u001B[39;49m\u001B[43mon_error\u001B[49m\u001B[43m,\u001B[49m\n\u001B[1;32m    299\u001B[0m \u001B[43m\u001B[49m\u001B[43m)\u001B[49m\n",
      "File \u001B[0;32m~/.pyenv/versions/miniconda3-3.12-24.5.0-0/envs/prc/lib/python3.12/site-packages/google/api_core/retry/retry_unary.py:164\u001B[0m, in \u001B[0;36mretry_target\u001B[0;34m(target, predicate, sleep_generator, timeout, on_error, exception_factory, **kwargs)\u001B[0m\n\u001B[1;32m    153\u001B[0m         _retry_error_helper(\n\u001B[1;32m    154\u001B[0m             exc,\n\u001B[1;32m    155\u001B[0m             deadline,\n\u001B[0;32m   (...)\u001B[0m\n\u001B[1;32m    161\u001B[0m             timeout,\n\u001B[1;32m    162\u001B[0m         )\n\u001B[1;32m    163\u001B[0m         \u001B[38;5;66;03m# if exception not raised, sleep before next attempt\u001B[39;00m\n\u001B[0;32m--> 164\u001B[0m         \u001B[43mtime\u001B[49m\u001B[38;5;241;43m.\u001B[39;49m\u001B[43msleep\u001B[49m\u001B[43m(\u001B[49m\u001B[43msleep\u001B[49m\u001B[43m)\u001B[49m\n\u001B[1;32m    166\u001B[0m \u001B[38;5;28;01mraise\u001B[39;00m \u001B[38;5;167;01mValueError\u001B[39;00m(\u001B[38;5;124m\"\u001B[39m\u001B[38;5;124mSleep generator stopped yielding sleep values.\u001B[39m\u001B[38;5;124m\"\u001B[39m)\n",
      "\u001B[0;31mKeyboardInterrupt\u001B[0m: "
     ]
    }
   ],
   "execution_count": 39
  },
  {
   "metadata": {
    "ExecuteTime": {
     "end_time": "2024-09-02T07:28:12.162990764Z",
     "start_time": "2024-08-30T02:16:59.019759Z"
    }
   },
   "cell_type": "code",
   "source": [
    "\n",
    "df_trip_type = pandas_gbq.read_gbq(QUERY_DISINCT,credentials=credentials)"
   ],
   "id": "a265f9a53856f6f1",
   "outputs": [
    {
     "name": "stdout",
     "output_type": "stream",
     "text": [
      "Downloading: 100%|\u001B[32m██████████\u001B[0m|\n"
     ]
    }
   ],
   "execution_count": 12
  },
  {
   "metadata": {
    "ExecuteTime": {
     "end_time": "2024-09-02T07:28:12.164832296Z",
     "start_time": "2024-08-30T02:58:21.279329Z"
    }
   },
   "cell_type": "code",
   "source": [
    "\n",
    "df.head()"
   ],
   "id": "a1d4a54fb0713446",
   "outputs": [
    {
     "data": {
      "text/plain": [
       "   ride_id  trip_no  dispatch_id    trip_type ride_stat     dispatch_stat  \\\n",
       "0  2324292        1       345056         None  Accepted    At destination   \n",
       "1  2398953        0       518874         None  Accepted  Customer no show   \n",
       "2  2378500        0       472749         None  Accepted    At destination   \n",
       "3  2382836        0       482760         None  Accepted  Customer no show   \n",
       "4  3316247        0      2340475  point2point   Pending    At destination   \n",
       "\n",
       "   partner_tran_id  partner_id  from_fleet_id_as_customer pickup_date  ...  \\\n",
       "0           161955           1                         16  2022-08-01  ...   \n",
       "1           237411           1                         16  2022-11-24  ...   \n",
       "2           216589           1                         16  2022-10-21  ...   \n",
       "3           221063           1                         16  2022-11-25  ...   \n",
       "4          1162413           1                         16  2024-03-28  ...   \n",
       "\n",
       "  has_complaint has_fleet_complaint has_penalty_complaint has_ops_complaint  \\\n",
       "0             0                   0                     0                 0   \n",
       "1             1                   1                     0                 0   \n",
       "2             1                   0                     1                 1   \n",
       "3             1                   1                     0                 0   \n",
       "4             0                   0                     0                 0   \n",
       "\n",
       "   gps_ad_check  gps_cns_check  score  incoming_dispatch_info_last_updated_at  \\\n",
       "0             0              0   None               2022-07-08 20:18:48+00:00   \n",
       "1             0              0   None               2022-11-24 09:28:34+00:00   \n",
       "2             0              0   None               2023-01-10 16:48:45+00:00   \n",
       "3             0              0   None               2022-12-02 10:25:19+00:00   \n",
       "4             0              0   None               2024-04-18 05:23:39+00:00   \n",
       "\n",
       "  dispatch_info_last_updated_at                         etl_time  \n",
       "0     2022-08-01 23:58:01+00:00 2024-08-29 23:05:33.393026+00:00  \n",
       "1     2022-11-24 09:03:50+00:00 2024-08-29 23:05:33.393026+00:00  \n",
       "2     2023-01-10 01:08:03+00:00 2024-08-29 23:05:33.393026+00:00  \n",
       "3     2022-11-25 12:12:22+00:00 2024-08-29 23:05:33.393026+00:00  \n",
       "4     2024-04-18 05:24:06+00:00 2024-08-29 23:05:33.393026+00:00  \n",
       "\n",
       "[5 rows x 56 columns]"
      ],
      "text/html": [
       "<div>\n",
       "<style scoped>\n",
       "    .dataframe tbody tr th:only-of-type {\n",
       "        vertical-align: middle;\n",
       "    }\n",
       "\n",
       "    .dataframe tbody tr th {\n",
       "        vertical-align: top;\n",
       "    }\n",
       "\n",
       "    .dataframe thead th {\n",
       "        text-align: right;\n",
       "    }\n",
       "</style>\n",
       "<table border=\"1\" class=\"dataframe\">\n",
       "  <thead>\n",
       "    <tr style=\"text-align: right;\">\n",
       "      <th></th>\n",
       "      <th>ride_id</th>\n",
       "      <th>trip_no</th>\n",
       "      <th>dispatch_id</th>\n",
       "      <th>trip_type</th>\n",
       "      <th>ride_stat</th>\n",
       "      <th>dispatch_stat</th>\n",
       "      <th>partner_tran_id</th>\n",
       "      <th>partner_id</th>\n",
       "      <th>from_fleet_id_as_customer</th>\n",
       "      <th>pickup_date</th>\n",
       "      <th>...</th>\n",
       "      <th>has_complaint</th>\n",
       "      <th>has_fleet_complaint</th>\n",
       "      <th>has_penalty_complaint</th>\n",
       "      <th>has_ops_complaint</th>\n",
       "      <th>gps_ad_check</th>\n",
       "      <th>gps_cns_check</th>\n",
       "      <th>score</th>\n",
       "      <th>incoming_dispatch_info_last_updated_at</th>\n",
       "      <th>dispatch_info_last_updated_at</th>\n",
       "      <th>etl_time</th>\n",
       "    </tr>\n",
       "  </thead>\n",
       "  <tbody>\n",
       "    <tr>\n",
       "      <th>0</th>\n",
       "      <td>2324292</td>\n",
       "      <td>1</td>\n",
       "      <td>345056</td>\n",
       "      <td>None</td>\n",
       "      <td>Accepted</td>\n",
       "      <td>At destination</td>\n",
       "      <td>161955</td>\n",
       "      <td>1</td>\n",
       "      <td>16</td>\n",
       "      <td>2022-08-01</td>\n",
       "      <td>...</td>\n",
       "      <td>0</td>\n",
       "      <td>0</td>\n",
       "      <td>0</td>\n",
       "      <td>0</td>\n",
       "      <td>0</td>\n",
       "      <td>0</td>\n",
       "      <td>None</td>\n",
       "      <td>2022-07-08 20:18:48+00:00</td>\n",
       "      <td>2022-08-01 23:58:01+00:00</td>\n",
       "      <td>2024-08-29 23:05:33.393026+00:00</td>\n",
       "    </tr>\n",
       "    <tr>\n",
       "      <th>1</th>\n",
       "      <td>2398953</td>\n",
       "      <td>0</td>\n",
       "      <td>518874</td>\n",
       "      <td>None</td>\n",
       "      <td>Accepted</td>\n",
       "      <td>Customer no show</td>\n",
       "      <td>237411</td>\n",
       "      <td>1</td>\n",
       "      <td>16</td>\n",
       "      <td>2022-11-24</td>\n",
       "      <td>...</td>\n",
       "      <td>1</td>\n",
       "      <td>1</td>\n",
       "      <td>0</td>\n",
       "      <td>0</td>\n",
       "      <td>0</td>\n",
       "      <td>0</td>\n",
       "      <td>None</td>\n",
       "      <td>2022-11-24 09:28:34+00:00</td>\n",
       "      <td>2022-11-24 09:03:50+00:00</td>\n",
       "      <td>2024-08-29 23:05:33.393026+00:00</td>\n",
       "    </tr>\n",
       "    <tr>\n",
       "      <th>2</th>\n",
       "      <td>2378500</td>\n",
       "      <td>0</td>\n",
       "      <td>472749</td>\n",
       "      <td>None</td>\n",
       "      <td>Accepted</td>\n",
       "      <td>At destination</td>\n",
       "      <td>216589</td>\n",
       "      <td>1</td>\n",
       "      <td>16</td>\n",
       "      <td>2022-10-21</td>\n",
       "      <td>...</td>\n",
       "      <td>1</td>\n",
       "      <td>0</td>\n",
       "      <td>1</td>\n",
       "      <td>1</td>\n",
       "      <td>0</td>\n",
       "      <td>0</td>\n",
       "      <td>None</td>\n",
       "      <td>2023-01-10 16:48:45+00:00</td>\n",
       "      <td>2023-01-10 01:08:03+00:00</td>\n",
       "      <td>2024-08-29 23:05:33.393026+00:00</td>\n",
       "    </tr>\n",
       "    <tr>\n",
       "      <th>3</th>\n",
       "      <td>2382836</td>\n",
       "      <td>0</td>\n",
       "      <td>482760</td>\n",
       "      <td>None</td>\n",
       "      <td>Accepted</td>\n",
       "      <td>Customer no show</td>\n",
       "      <td>221063</td>\n",
       "      <td>1</td>\n",
       "      <td>16</td>\n",
       "      <td>2022-11-25</td>\n",
       "      <td>...</td>\n",
       "      <td>1</td>\n",
       "      <td>1</td>\n",
       "      <td>0</td>\n",
       "      <td>0</td>\n",
       "      <td>0</td>\n",
       "      <td>0</td>\n",
       "      <td>None</td>\n",
       "      <td>2022-12-02 10:25:19+00:00</td>\n",
       "      <td>2022-11-25 12:12:22+00:00</td>\n",
       "      <td>2024-08-29 23:05:33.393026+00:00</td>\n",
       "    </tr>\n",
       "    <tr>\n",
       "      <th>4</th>\n",
       "      <td>3316247</td>\n",
       "      <td>0</td>\n",
       "      <td>2340475</td>\n",
       "      <td>point2point</td>\n",
       "      <td>Pending</td>\n",
       "      <td>At destination</td>\n",
       "      <td>1162413</td>\n",
       "      <td>1</td>\n",
       "      <td>16</td>\n",
       "      <td>2024-03-28</td>\n",
       "      <td>...</td>\n",
       "      <td>0</td>\n",
       "      <td>0</td>\n",
       "      <td>0</td>\n",
       "      <td>0</td>\n",
       "      <td>0</td>\n",
       "      <td>0</td>\n",
       "      <td>None</td>\n",
       "      <td>2024-04-18 05:23:39+00:00</td>\n",
       "      <td>2024-04-18 05:24:06+00:00</td>\n",
       "      <td>2024-08-29 23:05:33.393026+00:00</td>\n",
       "    </tr>\n",
       "  </tbody>\n",
       "</table>\n",
       "<p>5 rows × 56 columns</p>\n",
       "</div>"
      ]
     },
     "execution_count": 26,
     "metadata": {},
     "output_type": "execute_result"
    }
   ],
   "execution_count": 26
  },
  {
   "metadata": {
    "ExecuteTime": {
     "end_time": "2024-09-02T07:28:12.180689583Z",
     "start_time": "2024-08-30T02:17:01.165115Z"
    }
   },
   "cell_type": "code",
   "source": [
    "QUERY_ROUTE = \"\"\"\n",
    "        SELECT r.*, p1.lat from_lat, p1.lng from_lng, p2.lat to_lat, p2.lng to_lng\n",
    "        FROM `report.ride_dispatch_v` r\n",
    "        left JOIN `report.dim_place` p1\n",
    "        ON r.pickup_place_id=p1.id\n",
    "        INNER JOIN `report.dim_place` p2\n",
    "        ON r.pickup_place_id=p2.id\n",
    "        ORDER BY ride_id DESC\n",
    "        limit 2;\n",
    "\t\t\"\"\"\n"
   ],
   "id": "347f3950aa14cc48",
   "outputs": [],
   "execution_count": 14
  },
  {
   "metadata": {
    "ExecuteTime": {
     "end_time": "2024-09-02T07:28:12.181221400Z",
     "start_time": "2024-08-30T02:17:01.212045Z"
    }
   },
   "cell_type": "code",
   "source": "df_route = pandas_gbq.read_gbq(QUERY_ROUTE,credentials=credentials)",
   "id": "152bcf5ff80968a6",
   "outputs": [
    {
     "name": "stdout",
     "output_type": "stream",
     "text": [
      "Downloading: 100%|\u001B[32m██████████\u001B[0m|\n"
     ]
    }
   ],
   "execution_count": 15
  },
  {
   "metadata": {
    "ExecuteTime": {
     "end_time": "2024-09-02T07:28:12.181425135Z",
     "start_time": "2024-08-30T02:17:05.104939Z"
    }
   },
   "cell_type": "code",
   "source": "df_route.head()",
   "id": "fcf736c1c65d7921",
   "outputs": [
    {
     "data": {
      "text/plain": [
       "   ride_id  trip_no  dispatch_id    trip_type ride_stat dispatch_stat  \\\n",
       "0  3766119        0      3218599  point2point   Pending          None   \n",
       "1  3766118        0      3218598  point2point   Pending          None   \n",
       "\n",
       "   partner_tran_id  partner_id  from_fleet_id_as_customer pickup_date  ...  \\\n",
       "0          1584248           2                         18  2024-09-03  ...   \n",
       "1          1584247           2                         18  2024-09-06  ...   \n",
       "\n",
       "  gps_ad_check gps_cns_check score incoming_dispatch_info_last_updated_at  \\\n",
       "0            0             0  None              2024-08-29 22:51:31+00:00   \n",
       "1            0             0  None              2024-08-29 22:51:12+00:00   \n",
       "\n",
       "   dispatch_info_last_updated_at                         etl_time  \\\n",
       "0                            NaT 2024-08-29 23:05:33.393026+00:00   \n",
       "1                            NaT 2024-08-29 23:05:33.393026+00:00   \n",
       "\n",
       "       from_lat       from_lng        to_lat         to_lng  \n",
       "0   9.547790000  100.062000000   9.547790000  100.062000000  \n",
       "1  25.796914000  -80.288455000  25.796914000  -80.288455000  \n",
       "\n",
       "[2 rows x 60 columns]"
      ],
      "text/html": [
       "<div>\n",
       "<style scoped>\n",
       "    .dataframe tbody tr th:only-of-type {\n",
       "        vertical-align: middle;\n",
       "    }\n",
       "\n",
       "    .dataframe tbody tr th {\n",
       "        vertical-align: top;\n",
       "    }\n",
       "\n",
       "    .dataframe thead th {\n",
       "        text-align: right;\n",
       "    }\n",
       "</style>\n",
       "<table border=\"1\" class=\"dataframe\">\n",
       "  <thead>\n",
       "    <tr style=\"text-align: right;\">\n",
       "      <th></th>\n",
       "      <th>ride_id</th>\n",
       "      <th>trip_no</th>\n",
       "      <th>dispatch_id</th>\n",
       "      <th>trip_type</th>\n",
       "      <th>ride_stat</th>\n",
       "      <th>dispatch_stat</th>\n",
       "      <th>partner_tran_id</th>\n",
       "      <th>partner_id</th>\n",
       "      <th>from_fleet_id_as_customer</th>\n",
       "      <th>pickup_date</th>\n",
       "      <th>...</th>\n",
       "      <th>gps_ad_check</th>\n",
       "      <th>gps_cns_check</th>\n",
       "      <th>score</th>\n",
       "      <th>incoming_dispatch_info_last_updated_at</th>\n",
       "      <th>dispatch_info_last_updated_at</th>\n",
       "      <th>etl_time</th>\n",
       "      <th>from_lat</th>\n",
       "      <th>from_lng</th>\n",
       "      <th>to_lat</th>\n",
       "      <th>to_lng</th>\n",
       "    </tr>\n",
       "  </thead>\n",
       "  <tbody>\n",
       "    <tr>\n",
       "      <th>0</th>\n",
       "      <td>3766119</td>\n",
       "      <td>0</td>\n",
       "      <td>3218599</td>\n",
       "      <td>point2point</td>\n",
       "      <td>Pending</td>\n",
       "      <td>None</td>\n",
       "      <td>1584248</td>\n",
       "      <td>2</td>\n",
       "      <td>18</td>\n",
       "      <td>2024-09-03</td>\n",
       "      <td>...</td>\n",
       "      <td>0</td>\n",
       "      <td>0</td>\n",
       "      <td>None</td>\n",
       "      <td>2024-08-29 22:51:31+00:00</td>\n",
       "      <td>NaT</td>\n",
       "      <td>2024-08-29 23:05:33.393026+00:00</td>\n",
       "      <td>9.547790000</td>\n",
       "      <td>100.062000000</td>\n",
       "      <td>9.547790000</td>\n",
       "      <td>100.062000000</td>\n",
       "    </tr>\n",
       "    <tr>\n",
       "      <th>1</th>\n",
       "      <td>3766118</td>\n",
       "      <td>0</td>\n",
       "      <td>3218598</td>\n",
       "      <td>point2point</td>\n",
       "      <td>Pending</td>\n",
       "      <td>None</td>\n",
       "      <td>1584247</td>\n",
       "      <td>2</td>\n",
       "      <td>18</td>\n",
       "      <td>2024-09-06</td>\n",
       "      <td>...</td>\n",
       "      <td>0</td>\n",
       "      <td>0</td>\n",
       "      <td>None</td>\n",
       "      <td>2024-08-29 22:51:12+00:00</td>\n",
       "      <td>NaT</td>\n",
       "      <td>2024-08-29 23:05:33.393026+00:00</td>\n",
       "      <td>25.796914000</td>\n",
       "      <td>-80.288455000</td>\n",
       "      <td>25.796914000</td>\n",
       "      <td>-80.288455000</td>\n",
       "    </tr>\n",
       "  </tbody>\n",
       "</table>\n",
       "<p>2 rows × 60 columns</p>\n",
       "</div>"
      ]
     },
     "execution_count": 16,
     "metadata": {},
     "output_type": "execute_result"
    }
   ],
   "execution_count": 16
  },
  {
   "metadata": {
    "ExecuteTime": {
     "end_time": "2024-09-02T07:28:12.182602471Z",
     "start_time": "2024-08-30T02:17:05.228766Z"
    }
   },
   "cell_type": "code",
   "source": "df_route.dtypes",
   "id": "2e1c0b7643c57034",
   "outputs": [
    {
     "data": {
      "text/plain": [
       "ride_id                                                 Int64\n",
       "trip_no                                                 Int64\n",
       "dispatch_id                                             Int64\n",
       "trip_type                                              object\n",
       "ride_stat                                              object\n",
       "dispatch_stat                                          object\n",
       "partner_tran_id                                         Int64\n",
       "partner_id                                              Int64\n",
       "from_fleet_id_as_customer                               Int64\n",
       "pickup_date                                            dbdate\n",
       "pickup_time                                            dbtime\n",
       "pickup_datetime                           datetime64[us, UTC]\n",
       "pickup_local_datetime                          datetime64[us]\n",
       "pickup_local_datetime_str                              object\n",
       "pickup_place_id                                         Int64\n",
       "dropoff_place_id                                        Int64\n",
       "passenger_id                                            Int64\n",
       "vehicle_class_id                                        Int64\n",
       "vehicle_class                                          object\n",
       "service_area_id                                         Int64\n",
       "vip                                                     Int64\n",
       "meet_n_greet                                            Int64\n",
       "booking_date                                           dbdate\n",
       "booking_datetime                          datetime64[us, UTC]\n",
       "from_fleet_id                                           Int64\n",
       "to_fleet_id                                             Int64\n",
       "fleet_driver_id                                         Int64\n",
       "distance                                                Int64\n",
       "duration                                                Int64\n",
       "trip_count                                              Int64\n",
       "luggage_count                                           Int64\n",
       "passenger_count                                         Int64\n",
       "infant_count                                            Int64\n",
       "children_count                                          Int64\n",
       "ride_operator                                           Int64\n",
       "additional_operator                                     Int64\n",
       "dispatch_operator                                       Int64\n",
       "dispatch_type                                          object\n",
       "partner_amount_currency                                object\n",
       "original_partner_amount_by_trip                        object\n",
       "partner_amount_usd                                     object\n",
       "elife_amount_usd                                       object\n",
       "elife_amount_usd_by_trip                               object\n",
       "original_dispatch_amount                               object\n",
       "dispatch_amount_net_usd                                object\n",
       "additional_charge_amount_usd                           object\n",
       "has_complaint                                           Int64\n",
       "has_fleet_complaint                                     Int64\n",
       "has_penalty_complaint                                   Int64\n",
       "has_ops_complaint                                       Int64\n",
       "gps_ad_check                                            Int64\n",
       "gps_cns_check                                           Int64\n",
       "score                                                  object\n",
       "incoming_dispatch_info_last_updated_at    datetime64[us, UTC]\n",
       "dispatch_info_last_updated_at             datetime64[us, UTC]\n",
       "etl_time                                  datetime64[us, UTC]\n",
       "from_lat                                               object\n",
       "from_lng                                               object\n",
       "to_lat                                                 object\n",
       "to_lng                                                 object\n",
       "dtype: object"
      ]
     },
     "execution_count": 17,
     "metadata": {},
     "output_type": "execute_result"
    }
   ],
   "execution_count": 17
  },
  {
   "metadata": {
    "ExecuteTime": {
     "end_time": "2024-09-14T05:45:17.956967Z",
     "start_time": "2024-09-14T05:45:17.721419Z"
    }
   },
   "cell_type": "code",
   "source": [
    "import pandas as pd\n",
    "import pandera as pa\n",
    "\n",
    "# data to validate\n",
    "df = pd.DataFrame({\n",
    "    \"column1\": [1, 4, 0, 10, 9, 11],\n",
    "    \"column2\": [-1.3, -1.4, -2.9, -10.1, -20.4, -2.0],\n",
    "    \"column3\": [\"value_1\", \"value_2\", \"value_3\", \"value_2\", \"value_1\", \"value_2\"],\n",
    "})\n",
    "\n",
    "# define schema\n",
    "schema = pa.DataFrameSchema({\n",
    "    \"column1\": pa.Column(int, checks=pa.Check.le(10)),\n",
    "    \"column2\": pa.Column(float, checks=pa.Check.lt(-1.2)),\n",
    "    \"column3\": pa.Column(str, checks=[\n",
    "        pa.Check.str_startswith(\"value_\"),\n",
    "        # define custom checks as functions that take a series as input and\n",
    "        # outputs a boolean or boolean Series\n",
    "        pa.Check(lambda s: s.str.split(\"_\", expand=True).shape[1] == 2)\n",
    "    ]),\n",
    "})\n",
    "\n",
    "validated_df = schema(df)\n",
    "print(validated_df)"
   ],
   "id": "d8a7ca37295db23f",
   "outputs": [
    {
     "ename": "SchemaError",
     "evalue": "Column 'column1' failed element-wise validator number 0: less_than_or_equal_to(10) failure cases: 11",
     "output_type": "error",
     "traceback": [
      "\u001B[0;31m---------------------------------------------------------------------------\u001B[0m",
      "\u001B[0;31mSchemaError\u001B[0m                               Traceback (most recent call last)",
      "Cell \u001B[0;32mIn[2], line 23\u001B[0m\n\u001B[1;32m     11\u001B[0m \u001B[38;5;66;03m# define schema\u001B[39;00m\n\u001B[1;32m     12\u001B[0m schema \u001B[38;5;241m=\u001B[39m pa\u001B[38;5;241m.\u001B[39mDataFrameSchema({\n\u001B[1;32m     13\u001B[0m     \u001B[38;5;124m\"\u001B[39m\u001B[38;5;124mcolumn1\u001B[39m\u001B[38;5;124m\"\u001B[39m: pa\u001B[38;5;241m.\u001B[39mColumn(\u001B[38;5;28mint\u001B[39m, checks\u001B[38;5;241m=\u001B[39mpa\u001B[38;5;241m.\u001B[39mCheck\u001B[38;5;241m.\u001B[39mle(\u001B[38;5;241m10\u001B[39m)),\n\u001B[1;32m     14\u001B[0m     \u001B[38;5;124m\"\u001B[39m\u001B[38;5;124mcolumn2\u001B[39m\u001B[38;5;124m\"\u001B[39m: pa\u001B[38;5;241m.\u001B[39mColumn(\u001B[38;5;28mfloat\u001B[39m, checks\u001B[38;5;241m=\u001B[39mpa\u001B[38;5;241m.\u001B[39mCheck\u001B[38;5;241m.\u001B[39mlt(\u001B[38;5;241m-\u001B[39m\u001B[38;5;241m1.2\u001B[39m)),\n\u001B[0;32m   (...)\u001B[0m\n\u001B[1;32m     20\u001B[0m     ]),\n\u001B[1;32m     21\u001B[0m })\n\u001B[0;32m---> 23\u001B[0m validated_df \u001B[38;5;241m=\u001B[39m \u001B[43mschema\u001B[49m\u001B[43m(\u001B[49m\u001B[43mdf\u001B[49m\u001B[43m)\u001B[49m\n\u001B[1;32m     24\u001B[0m \u001B[38;5;28mprint\u001B[39m(validated_df)\n",
      "File \u001B[0;32m~/.pyenv/versions/miniforge3-latest/envs/prc/lib/python3.12/site-packages/pandera/api/dataframe/container.py:340\u001B[0m, in \u001B[0;36mDataFrameSchema.__call__\u001B[0;34m(self, dataframe, head, tail, sample, random_state, lazy, inplace)\u001B[0m\n\u001B[1;32m    312\u001B[0m \u001B[38;5;28;01mdef\u001B[39;00m \u001B[38;5;21m__call__\u001B[39m(\n\u001B[1;32m    313\u001B[0m     \u001B[38;5;28mself\u001B[39m,\n\u001B[1;32m    314\u001B[0m     dataframe: TDataObject,\n\u001B[0;32m   (...)\u001B[0m\n\u001B[1;32m    320\u001B[0m     inplace: \u001B[38;5;28mbool\u001B[39m \u001B[38;5;241m=\u001B[39m \u001B[38;5;28;01mFalse\u001B[39;00m,\n\u001B[1;32m    321\u001B[0m ) \u001B[38;5;241m-\u001B[39m\u001B[38;5;241m>\u001B[39m TDataObject:\n\u001B[1;32m    322\u001B[0m \u001B[38;5;250m    \u001B[39m\u001B[38;5;124;03m\"\"\"Alias for :func:`DataFrameSchema.validate` method.\u001B[39;00m\n\u001B[1;32m    323\u001B[0m \n\u001B[1;32m    324\u001B[0m \u001B[38;5;124;03m    :param pd.DataFrame dataframe: the dataframe to be validated.\u001B[39;00m\n\u001B[0;32m   (...)\u001B[0m\n\u001B[1;32m    338\u001B[0m \u001B[38;5;124;03m        otherwise creates a copy of the data.\u001B[39;00m\n\u001B[1;32m    339\u001B[0m \u001B[38;5;124;03m    \"\"\"\u001B[39;00m\n\u001B[0;32m--> 340\u001B[0m     \u001B[38;5;28;01mreturn\u001B[39;00m \u001B[38;5;28;43mself\u001B[39;49m\u001B[38;5;241;43m.\u001B[39;49m\u001B[43mvalidate\u001B[49m\u001B[43m(\u001B[49m\n\u001B[1;32m    341\u001B[0m \u001B[43m        \u001B[49m\u001B[43mdataframe\u001B[49m\u001B[43m,\u001B[49m\u001B[43m \u001B[49m\u001B[43mhead\u001B[49m\u001B[43m,\u001B[49m\u001B[43m \u001B[49m\u001B[43mtail\u001B[49m\u001B[43m,\u001B[49m\u001B[43m \u001B[49m\u001B[43msample\u001B[49m\u001B[43m,\u001B[49m\u001B[43m \u001B[49m\u001B[43mrandom_state\u001B[49m\u001B[43m,\u001B[49m\u001B[43m \u001B[49m\u001B[43mlazy\u001B[49m\u001B[43m,\u001B[49m\u001B[43m \u001B[49m\u001B[43minplace\u001B[49m\n\u001B[1;32m    342\u001B[0m \u001B[43m    \u001B[49m\u001B[43m)\u001B[49m\n",
      "File \u001B[0;32m~/.pyenv/versions/miniforge3-latest/envs/prc/lib/python3.12/site-packages/pandera/api/pandas/container.py:126\u001B[0m, in \u001B[0;36mDataFrameSchema.validate\u001B[0;34m(self, check_obj, head, tail, sample, random_state, lazy, inplace)\u001B[0m\n\u001B[1;32m    114\u001B[0m     check_obj \u001B[38;5;241m=\u001B[39m check_obj\u001B[38;5;241m.\u001B[39mmap_partitions(  \u001B[38;5;66;03m# type: ignore [operator]\u001B[39;00m\n\u001B[1;32m    115\u001B[0m         \u001B[38;5;28mself\u001B[39m\u001B[38;5;241m.\u001B[39m_validate,\n\u001B[1;32m    116\u001B[0m         head\u001B[38;5;241m=\u001B[39mhead,\n\u001B[0;32m   (...)\u001B[0m\n\u001B[1;32m    122\u001B[0m         meta\u001B[38;5;241m=\u001B[39mcheck_obj,\n\u001B[1;32m    123\u001B[0m     )\n\u001B[1;32m    124\u001B[0m     \u001B[38;5;28;01mreturn\u001B[39;00m check_obj\u001B[38;5;241m.\u001B[39mpandera\u001B[38;5;241m.\u001B[39madd_schema(\u001B[38;5;28mself\u001B[39m)\n\u001B[0;32m--> 126\u001B[0m \u001B[38;5;28;01mreturn\u001B[39;00m \u001B[38;5;28;43mself\u001B[39;49m\u001B[38;5;241;43m.\u001B[39;49m\u001B[43m_validate\u001B[49m\u001B[43m(\u001B[49m\n\u001B[1;32m    127\u001B[0m \u001B[43m    \u001B[49m\u001B[43mcheck_obj\u001B[49m\u001B[38;5;241;43m=\u001B[39;49m\u001B[43mcheck_obj\u001B[49m\u001B[43m,\u001B[49m\n\u001B[1;32m    128\u001B[0m \u001B[43m    \u001B[49m\u001B[43mhead\u001B[49m\u001B[38;5;241;43m=\u001B[39;49m\u001B[43mhead\u001B[49m\u001B[43m,\u001B[49m\n\u001B[1;32m    129\u001B[0m \u001B[43m    \u001B[49m\u001B[43mtail\u001B[49m\u001B[38;5;241;43m=\u001B[39;49m\u001B[43mtail\u001B[49m\u001B[43m,\u001B[49m\n\u001B[1;32m    130\u001B[0m \u001B[43m    \u001B[49m\u001B[43msample\u001B[49m\u001B[38;5;241;43m=\u001B[39;49m\u001B[43msample\u001B[49m\u001B[43m,\u001B[49m\n\u001B[1;32m    131\u001B[0m \u001B[43m    \u001B[49m\u001B[43mrandom_state\u001B[49m\u001B[38;5;241;43m=\u001B[39;49m\u001B[43mrandom_state\u001B[49m\u001B[43m,\u001B[49m\n\u001B[1;32m    132\u001B[0m \u001B[43m    \u001B[49m\u001B[43mlazy\u001B[49m\u001B[38;5;241;43m=\u001B[39;49m\u001B[43mlazy\u001B[49m\u001B[43m,\u001B[49m\n\u001B[1;32m    133\u001B[0m \u001B[43m    \u001B[49m\u001B[43minplace\u001B[49m\u001B[38;5;241;43m=\u001B[39;49m\u001B[43minplace\u001B[49m\u001B[43m,\u001B[49m\n\u001B[1;32m    134\u001B[0m \u001B[43m\u001B[49m\u001B[43m)\u001B[49m\n",
      "File \u001B[0;32m~/.pyenv/versions/miniforge3-latest/envs/prc/lib/python3.12/site-packages/pandera/api/pandas/container.py:155\u001B[0m, in \u001B[0;36mDataFrameSchema._validate\u001B[0;34m(self, check_obj, head, tail, sample, random_state, lazy, inplace)\u001B[0m\n\u001B[1;32m    146\u001B[0m \u001B[38;5;28;01mif\u001B[39;00m \u001B[38;5;28mself\u001B[39m\u001B[38;5;241m.\u001B[39m_is_inferred:\n\u001B[1;32m    147\u001B[0m     warnings\u001B[38;5;241m.\u001B[39mwarn(\n\u001B[1;32m    148\u001B[0m         \u001B[38;5;124mf\u001B[39m\u001B[38;5;124m\"\u001B[39m\u001B[38;5;124mThis \u001B[39m\u001B[38;5;132;01m{\u001B[39;00m\u001B[38;5;28mtype\u001B[39m(\u001B[38;5;28mself\u001B[39m)\u001B[38;5;132;01m}\u001B[39;00m\u001B[38;5;124m is an inferred schema that hasn\u001B[39m\u001B[38;5;124m'\u001B[39m\u001B[38;5;124mt been \u001B[39m\u001B[38;5;124m\"\u001B[39m\n\u001B[1;32m    149\u001B[0m         \u001B[38;5;124m\"\u001B[39m\u001B[38;5;124mmodified. It\u001B[39m\u001B[38;5;124m'\u001B[39m\u001B[38;5;124ms recommended that you refine the schema \u001B[39m\u001B[38;5;124m\"\u001B[39m\n\u001B[0;32m   (...)\u001B[0m\n\u001B[1;32m    152\u001B[0m         \u001B[38;5;167;01mUserWarning\u001B[39;00m,\n\u001B[1;32m    153\u001B[0m     )\n\u001B[0;32m--> 155\u001B[0m \u001B[38;5;28;01mreturn\u001B[39;00m \u001B[38;5;28;43mself\u001B[39;49m\u001B[38;5;241;43m.\u001B[39;49m\u001B[43mget_backend\u001B[49m\u001B[43m(\u001B[49m\u001B[43mcheck_obj\u001B[49m\u001B[43m)\u001B[49m\u001B[38;5;241;43m.\u001B[39;49m\u001B[43mvalidate\u001B[49m\u001B[43m(\u001B[49m\n\u001B[1;32m    156\u001B[0m \u001B[43m    \u001B[49m\u001B[43mcheck_obj\u001B[49m\u001B[43m,\u001B[49m\n\u001B[1;32m    157\u001B[0m \u001B[43m    \u001B[49m\u001B[43mschema\u001B[49m\u001B[38;5;241;43m=\u001B[39;49m\u001B[38;5;28;43mself\u001B[39;49m\u001B[43m,\u001B[49m\n\u001B[1;32m    158\u001B[0m \u001B[43m    \u001B[49m\u001B[43mhead\u001B[49m\u001B[38;5;241;43m=\u001B[39;49m\u001B[43mhead\u001B[49m\u001B[43m,\u001B[49m\n\u001B[1;32m    159\u001B[0m \u001B[43m    \u001B[49m\u001B[43mtail\u001B[49m\u001B[38;5;241;43m=\u001B[39;49m\u001B[43mtail\u001B[49m\u001B[43m,\u001B[49m\n\u001B[1;32m    160\u001B[0m \u001B[43m    \u001B[49m\u001B[43msample\u001B[49m\u001B[38;5;241;43m=\u001B[39;49m\u001B[43msample\u001B[49m\u001B[43m,\u001B[49m\n\u001B[1;32m    161\u001B[0m \u001B[43m    \u001B[49m\u001B[43mrandom_state\u001B[49m\u001B[38;5;241;43m=\u001B[39;49m\u001B[43mrandom_state\u001B[49m\u001B[43m,\u001B[49m\n\u001B[1;32m    162\u001B[0m \u001B[43m    \u001B[49m\u001B[43mlazy\u001B[49m\u001B[38;5;241;43m=\u001B[39;49m\u001B[43mlazy\u001B[49m\u001B[43m,\u001B[49m\n\u001B[1;32m    163\u001B[0m \u001B[43m    \u001B[49m\u001B[43minplace\u001B[49m\u001B[38;5;241;43m=\u001B[39;49m\u001B[43minplace\u001B[49m\u001B[43m,\u001B[49m\n\u001B[1;32m    164\u001B[0m \u001B[43m\u001B[49m\u001B[43m)\u001B[49m\n",
      "File \u001B[0;32m~/.pyenv/versions/miniforge3-latest/envs/prc/lib/python3.12/site-packages/pandera/backends/pandas/container.py:105\u001B[0m, in \u001B[0;36mDataFrameSchemaBackend.validate\u001B[0;34m(self, check_obj, schema, head, tail, sample, random_state, lazy, inplace)\u001B[0m\n\u001B[1;32m    100\u001B[0m components \u001B[38;5;241m=\u001B[39m \u001B[38;5;28mself\u001B[39m\u001B[38;5;241m.\u001B[39mcollect_schema_components(\n\u001B[1;32m    101\u001B[0m     check_obj, schema, column_info\n\u001B[1;32m    102\u001B[0m )\n\u001B[1;32m    104\u001B[0m \u001B[38;5;66;03m# run the checks\u001B[39;00m\n\u001B[0;32m--> 105\u001B[0m error_handler \u001B[38;5;241m=\u001B[39m \u001B[38;5;28;43mself\u001B[39;49m\u001B[38;5;241;43m.\u001B[39;49m\u001B[43mrun_checks_and_handle_errors\u001B[49m\u001B[43m(\u001B[49m\n\u001B[1;32m    106\u001B[0m \u001B[43m    \u001B[49m\u001B[43merror_handler\u001B[49m\u001B[43m,\u001B[49m\n\u001B[1;32m    107\u001B[0m \u001B[43m    \u001B[49m\u001B[43mschema\u001B[49m\u001B[43m,\u001B[49m\n\u001B[1;32m    108\u001B[0m \u001B[43m    \u001B[49m\u001B[43mcheck_obj\u001B[49m\u001B[43m,\u001B[49m\n\u001B[1;32m    109\u001B[0m \u001B[43m    \u001B[49m\u001B[43mcolumn_info\u001B[49m\u001B[43m,\u001B[49m\n\u001B[1;32m    110\u001B[0m \u001B[43m    \u001B[49m\u001B[43msample\u001B[49m\u001B[43m,\u001B[49m\n\u001B[1;32m    111\u001B[0m \u001B[43m    \u001B[49m\u001B[43mcomponents\u001B[49m\u001B[43m,\u001B[49m\n\u001B[1;32m    112\u001B[0m \u001B[43m    \u001B[49m\u001B[43mlazy\u001B[49m\u001B[43m,\u001B[49m\n\u001B[1;32m    113\u001B[0m \u001B[43m    \u001B[49m\u001B[43mhead\u001B[49m\u001B[43m,\u001B[49m\n\u001B[1;32m    114\u001B[0m \u001B[43m    \u001B[49m\u001B[43mtail\u001B[49m\u001B[43m,\u001B[49m\n\u001B[1;32m    115\u001B[0m \u001B[43m    \u001B[49m\u001B[43mrandom_state\u001B[49m\u001B[43m,\u001B[49m\n\u001B[1;32m    116\u001B[0m \u001B[43m\u001B[49m\u001B[43m)\u001B[49m\n\u001B[1;32m    118\u001B[0m \u001B[38;5;28;01mif\u001B[39;00m error_handler\u001B[38;5;241m.\u001B[39mcollected_errors:\n\u001B[1;32m    119\u001B[0m     \u001B[38;5;28;01mif\u001B[39;00m \u001B[38;5;28mgetattr\u001B[39m(schema, \u001B[38;5;124m\"\u001B[39m\u001B[38;5;124mdrop_invalid_rows\u001B[39m\u001B[38;5;124m\"\u001B[39m, \u001B[38;5;28;01mFalse\u001B[39;00m):\n",
      "File \u001B[0;32m~/.pyenv/versions/miniforge3-latest/envs/prc/lib/python3.12/site-packages/pandera/backends/pandas/container.py:180\u001B[0m, in \u001B[0;36mDataFrameSchemaBackend.run_checks_and_handle_errors\u001B[0;34m(self, error_handler, schema, check_obj, column_info, sample, components, lazy, head, tail, random_state)\u001B[0m\n\u001B[1;32m    169\u001B[0m         \u001B[38;5;28;01melse\u001B[39;00m:\n\u001B[1;32m    170\u001B[0m             error \u001B[38;5;241m=\u001B[39m SchemaError(\n\u001B[1;32m    171\u001B[0m                 schema,\n\u001B[1;32m    172\u001B[0m                 data\u001B[38;5;241m=\u001B[39mcheck_obj,\n\u001B[0;32m   (...)\u001B[0m\n\u001B[1;32m    178\u001B[0m                 reason_code\u001B[38;5;241m=\u001B[39mresult\u001B[38;5;241m.\u001B[39mreason_code,\n\u001B[1;32m    179\u001B[0m             )\n\u001B[0;32m--> 180\u001B[0m         \u001B[43merror_handler\u001B[49m\u001B[38;5;241;43m.\u001B[39;49m\u001B[43mcollect_error\u001B[49m\u001B[43m(\u001B[49m\n\u001B[1;32m    181\u001B[0m \u001B[43m            \u001B[49m\u001B[43mvalidation_type\u001B[49m\u001B[43m(\u001B[49m\u001B[43mresult\u001B[49m\u001B[38;5;241;43m.\u001B[39;49m\u001B[43mreason_code\u001B[49m\u001B[43m)\u001B[49m\u001B[43m,\u001B[49m\n\u001B[1;32m    182\u001B[0m \u001B[43m            \u001B[49m\u001B[43mresult\u001B[49m\u001B[38;5;241;43m.\u001B[39;49m\u001B[43mreason_code\u001B[49m\u001B[43m,\u001B[49m\n\u001B[1;32m    183\u001B[0m \u001B[43m            \u001B[49m\u001B[43merror\u001B[49m\u001B[43m,\u001B[49m\n\u001B[1;32m    184\u001B[0m \u001B[43m            \u001B[49m\u001B[43mresult\u001B[49m\u001B[38;5;241;43m.\u001B[39;49m\u001B[43moriginal_exc\u001B[49m\u001B[43m,\u001B[49m\n\u001B[1;32m    185\u001B[0m \u001B[43m        \u001B[49m\u001B[43m)\u001B[49m\n\u001B[1;32m    187\u001B[0m \u001B[38;5;28;01mreturn\u001B[39;00m error_handler\n",
      "File \u001B[0;32m~/.pyenv/versions/miniforge3-latest/envs/prc/lib/python3.12/site-packages/pandera/api/base/error_handler.py:54\u001B[0m, in \u001B[0;36mErrorHandler.collect_error\u001B[0;34m(self, error_type, reason_code, schema_error, original_exc)\u001B[0m\n\u001B[1;32m     47\u001B[0m \u001B[38;5;250m\u001B[39m\u001B[38;5;124;03m\"\"\"Collect schema error, raising exception if lazy is False.\u001B[39;00m\n\u001B[1;32m     48\u001B[0m \n\u001B[1;32m     49\u001B[0m \u001B[38;5;124;03m:param error_type: type of error\u001B[39;00m\n\u001B[1;32m     50\u001B[0m \u001B[38;5;124;03m:param reason_code: string representing reason for error\u001B[39;00m\n\u001B[1;32m     51\u001B[0m \u001B[38;5;124;03m:param schema_error: ``SchemaError`` object.\u001B[39;00m\n\u001B[1;32m     52\u001B[0m \u001B[38;5;124;03m\"\"\"\u001B[39;00m\n\u001B[1;32m     53\u001B[0m \u001B[38;5;28;01mif\u001B[39;00m \u001B[38;5;129;01mnot\u001B[39;00m \u001B[38;5;28mself\u001B[39m\u001B[38;5;241m.\u001B[39m_lazy:\n\u001B[0;32m---> 54\u001B[0m     \u001B[38;5;28;01mraise\u001B[39;00m schema_error \u001B[38;5;28;01mfrom\u001B[39;00m \u001B[38;5;21;01moriginal_exc\u001B[39;00m\n\u001B[1;32m     56\u001B[0m \u001B[38;5;66;03m# delete data of validated object from SchemaError object to prevent\u001B[39;00m\n\u001B[1;32m     57\u001B[0m \u001B[38;5;66;03m# storing copies of the validated DataFrame/Series for every\u001B[39;00m\n\u001B[1;32m     58\u001B[0m \u001B[38;5;66;03m# SchemaError collected.\u001B[39;00m\n\u001B[1;32m     59\u001B[0m \u001B[38;5;28;01mif\u001B[39;00m \u001B[38;5;28mhasattr\u001B[39m(schema_error, \u001B[38;5;124m\"\u001B[39m\u001B[38;5;124mdata\u001B[39m\u001B[38;5;124m\"\u001B[39m):\n",
      "File \u001B[0;32m~/.pyenv/versions/miniforge3-latest/envs/prc/lib/python3.12/site-packages/pandera/backends/pandas/container.py:201\u001B[0m, in \u001B[0;36mDataFrameSchemaBackend.run_schema_component_checks\u001B[0;34m(self, check_obj, schema_components, lazy)\u001B[0m\n\u001B[1;32m    199\u001B[0m \u001B[38;5;28;01mfor\u001B[39;00m schema_component \u001B[38;5;129;01min\u001B[39;00m schema_components:\n\u001B[1;32m    200\u001B[0m     \u001B[38;5;28;01mtry\u001B[39;00m:\n\u001B[0;32m--> 201\u001B[0m         result \u001B[38;5;241m=\u001B[39m \u001B[43mschema_component\u001B[49m\u001B[38;5;241;43m.\u001B[39;49m\u001B[43mvalidate\u001B[49m\u001B[43m(\u001B[49m\n\u001B[1;32m    202\u001B[0m \u001B[43m            \u001B[49m\u001B[43mcheck_obj\u001B[49m\u001B[43m,\u001B[49m\u001B[43m \u001B[49m\u001B[43mlazy\u001B[49m\u001B[38;5;241;43m=\u001B[39;49m\u001B[43mlazy\u001B[49m\u001B[43m,\u001B[49m\u001B[43m \u001B[49m\u001B[43minplace\u001B[49m\u001B[38;5;241;43m=\u001B[39;49m\u001B[38;5;28;43;01mTrue\u001B[39;49;00m\n\u001B[1;32m    203\u001B[0m \u001B[43m        \u001B[49m\u001B[43m)\u001B[49m\n\u001B[1;32m    204\u001B[0m         check_passed\u001B[38;5;241m.\u001B[39mappend(is_table(result))\n\u001B[1;32m    205\u001B[0m     \u001B[38;5;28;01mexcept\u001B[39;00m SchemaError \u001B[38;5;28;01mas\u001B[39;00m err:\n",
      "File \u001B[0;32m~/.pyenv/versions/miniforge3-latest/envs/prc/lib/python3.12/site-packages/pandera/api/dataframe/components.py:162\u001B[0m, in \u001B[0;36mComponentSchema.validate\u001B[0;34m(self, check_obj, head, tail, sample, random_state, lazy, inplace)\u001B[0m\n\u001B[1;32m    133\u001B[0m \u001B[38;5;28;01mdef\u001B[39;00m \u001B[38;5;21mvalidate\u001B[39m(\n\u001B[1;32m    134\u001B[0m     \u001B[38;5;28mself\u001B[39m,\n\u001B[1;32m    135\u001B[0m     check_obj,\n\u001B[0;32m   (...)\u001B[0m\n\u001B[1;32m    142\u001B[0m ):\n\u001B[1;32m    143\u001B[0m     \u001B[38;5;66;03m# pylint: disable=too-many-locals,too-many-branches,too-many-statements\u001B[39;00m\n\u001B[1;32m    144\u001B[0m \u001B[38;5;250m    \u001B[39m\u001B[38;5;124;03m\"\"\"Validate a series or specific column in dataframe.\u001B[39;00m\n\u001B[1;32m    145\u001B[0m \n\u001B[1;32m    146\u001B[0m \u001B[38;5;124;03m    :check_obj: data object to validate.\u001B[39;00m\n\u001B[0;32m   (...)\u001B[0m\n\u001B[1;32m    160\u001B[0m \n\u001B[1;32m    161\u001B[0m \u001B[38;5;124;03m    \"\"\"\u001B[39;00m\n\u001B[0;32m--> 162\u001B[0m     \u001B[38;5;28;01mreturn\u001B[39;00m \u001B[38;5;28;43mself\u001B[39;49m\u001B[38;5;241;43m.\u001B[39;49m\u001B[43mget_backend\u001B[49m\u001B[43m(\u001B[49m\u001B[43mcheck_obj\u001B[49m\u001B[43m)\u001B[49m\u001B[38;5;241;43m.\u001B[39;49m\u001B[43mvalidate\u001B[49m\u001B[43m(\u001B[49m\n\u001B[1;32m    163\u001B[0m \u001B[43m        \u001B[49m\u001B[43mcheck_obj\u001B[49m\u001B[43m,\u001B[49m\n\u001B[1;32m    164\u001B[0m \u001B[43m        \u001B[49m\u001B[43mschema\u001B[49m\u001B[38;5;241;43m=\u001B[39;49m\u001B[38;5;28;43mself\u001B[39;49m\u001B[43m,\u001B[49m\n\u001B[1;32m    165\u001B[0m \u001B[43m        \u001B[49m\u001B[43mhead\u001B[49m\u001B[38;5;241;43m=\u001B[39;49m\u001B[43mhead\u001B[49m\u001B[43m,\u001B[49m\n\u001B[1;32m    166\u001B[0m \u001B[43m        \u001B[49m\u001B[43mtail\u001B[49m\u001B[38;5;241;43m=\u001B[39;49m\u001B[43mtail\u001B[49m\u001B[43m,\u001B[49m\n\u001B[1;32m    167\u001B[0m \u001B[43m        \u001B[49m\u001B[43msample\u001B[49m\u001B[38;5;241;43m=\u001B[39;49m\u001B[43msample\u001B[49m\u001B[43m,\u001B[49m\n\u001B[1;32m    168\u001B[0m \u001B[43m        \u001B[49m\u001B[43mrandom_state\u001B[49m\u001B[38;5;241;43m=\u001B[39;49m\u001B[43mrandom_state\u001B[49m\u001B[43m,\u001B[49m\n\u001B[1;32m    169\u001B[0m \u001B[43m        \u001B[49m\u001B[43mlazy\u001B[49m\u001B[38;5;241;43m=\u001B[39;49m\u001B[43mlazy\u001B[49m\u001B[43m,\u001B[49m\n\u001B[1;32m    170\u001B[0m \u001B[43m        \u001B[49m\u001B[43minplace\u001B[49m\u001B[38;5;241;43m=\u001B[39;49m\u001B[43minplace\u001B[49m\u001B[43m,\u001B[49m\n\u001B[1;32m    171\u001B[0m \u001B[43m    \u001B[49m\u001B[43m)\u001B[49m\n",
      "File \u001B[0;32m~/.pyenv/versions/miniforge3-latest/envs/prc/lib/python3.12/site-packages/pandera/backends/pandas/components.py:136\u001B[0m, in \u001B[0;36mColumnBackend.validate\u001B[0;34m(self, check_obj, schema, head, tail, sample, random_state, lazy, inplace)\u001B[0m\n\u001B[1;32m    132\u001B[0m             check_obj \u001B[38;5;241m=\u001B[39m validate_column(\n\u001B[1;32m    133\u001B[0m                 check_obj, column_name, return_check_obj\u001B[38;5;241m=\u001B[39m\u001B[38;5;28;01mTrue\u001B[39;00m\n\u001B[1;32m    134\u001B[0m             )\n\u001B[1;32m    135\u001B[0m         \u001B[38;5;28;01melse\u001B[39;00m:\n\u001B[0;32m--> 136\u001B[0m             \u001B[43mvalidate_column\u001B[49m\u001B[43m(\u001B[49m\u001B[43mcheck_obj\u001B[49m\u001B[43m,\u001B[49m\u001B[43m \u001B[49m\u001B[43mcolumn_name\u001B[49m\u001B[43m)\u001B[49m\n\u001B[1;32m    138\u001B[0m \u001B[38;5;28;01mif\u001B[39;00m lazy \u001B[38;5;129;01mand\u001B[39;00m error_handler\u001B[38;5;241m.\u001B[39mcollected_errors:\n\u001B[1;32m    139\u001B[0m     \u001B[38;5;28;01mraise\u001B[39;00m SchemaErrors(\n\u001B[1;32m    140\u001B[0m         schema\u001B[38;5;241m=\u001B[39mschema,\n\u001B[1;32m    141\u001B[0m         schema_errors\u001B[38;5;241m=\u001B[39merror_handler\u001B[38;5;241m.\u001B[39mschema_errors,\n\u001B[1;32m    142\u001B[0m         data\u001B[38;5;241m=\u001B[39mcheck_obj,\n\u001B[1;32m    143\u001B[0m     )\n",
      "File \u001B[0;32m~/.pyenv/versions/miniforge3-latest/envs/prc/lib/python3.12/site-packages/pandera/backends/pandas/components.py:92\u001B[0m, in \u001B[0;36mColumnBackend.validate.<locals>.validate_column\u001B[0;34m(check_obj, column_name, return_check_obj)\u001B[0m\n\u001B[1;32m     88\u001B[0m         error_handler\u001B[38;5;241m.\u001B[39mcollect_error(\n\u001B[1;32m     89\u001B[0m             validation_type(err\u001B[38;5;241m.\u001B[39mreason_code), err\u001B[38;5;241m.\u001B[39mreason_code, err\n\u001B[1;32m     90\u001B[0m         )\n\u001B[1;32m     91\u001B[0m \u001B[38;5;28;01mexcept\u001B[39;00m SchemaError \u001B[38;5;28;01mas\u001B[39;00m err:\n\u001B[0;32m---> 92\u001B[0m     \u001B[43merror_handler\u001B[49m\u001B[38;5;241;43m.\u001B[39;49m\u001B[43mcollect_error\u001B[49m\u001B[43m(\u001B[49m\n\u001B[1;32m     93\u001B[0m \u001B[43m        \u001B[49m\u001B[43mvalidation_type\u001B[49m\u001B[43m(\u001B[49m\u001B[43merr\u001B[49m\u001B[38;5;241;43m.\u001B[39;49m\u001B[43mreason_code\u001B[49m\u001B[43m)\u001B[49m\u001B[43m,\u001B[49m\u001B[43m \u001B[49m\u001B[43merr\u001B[49m\u001B[38;5;241;43m.\u001B[39;49m\u001B[43mreason_code\u001B[49m\u001B[43m,\u001B[49m\u001B[43m \u001B[49m\u001B[43merr\u001B[49m\n\u001B[1;32m     94\u001B[0m \u001B[43m    \u001B[49m\u001B[43m)\u001B[49m\n",
      "File \u001B[0;32m~/.pyenv/versions/miniforge3-latest/envs/prc/lib/python3.12/site-packages/pandera/api/base/error_handler.py:54\u001B[0m, in \u001B[0;36mErrorHandler.collect_error\u001B[0;34m(self, error_type, reason_code, schema_error, original_exc)\u001B[0m\n\u001B[1;32m     47\u001B[0m \u001B[38;5;250m\u001B[39m\u001B[38;5;124;03m\"\"\"Collect schema error, raising exception if lazy is False.\u001B[39;00m\n\u001B[1;32m     48\u001B[0m \n\u001B[1;32m     49\u001B[0m \u001B[38;5;124;03m:param error_type: type of error\u001B[39;00m\n\u001B[1;32m     50\u001B[0m \u001B[38;5;124;03m:param reason_code: string representing reason for error\u001B[39;00m\n\u001B[1;32m     51\u001B[0m \u001B[38;5;124;03m:param schema_error: ``SchemaError`` object.\u001B[39;00m\n\u001B[1;32m     52\u001B[0m \u001B[38;5;124;03m\"\"\"\u001B[39;00m\n\u001B[1;32m     53\u001B[0m \u001B[38;5;28;01mif\u001B[39;00m \u001B[38;5;129;01mnot\u001B[39;00m \u001B[38;5;28mself\u001B[39m\u001B[38;5;241m.\u001B[39m_lazy:\n\u001B[0;32m---> 54\u001B[0m     \u001B[38;5;28;01mraise\u001B[39;00m schema_error \u001B[38;5;28;01mfrom\u001B[39;00m \u001B[38;5;21;01moriginal_exc\u001B[39;00m\n\u001B[1;32m     56\u001B[0m \u001B[38;5;66;03m# delete data of validated object from SchemaError object to prevent\u001B[39;00m\n\u001B[1;32m     57\u001B[0m \u001B[38;5;66;03m# storing copies of the validated DataFrame/Series for every\u001B[39;00m\n\u001B[1;32m     58\u001B[0m \u001B[38;5;66;03m# SchemaError collected.\u001B[39;00m\n\u001B[1;32m     59\u001B[0m \u001B[38;5;28;01mif\u001B[39;00m \u001B[38;5;28mhasattr\u001B[39m(schema_error, \u001B[38;5;124m\"\u001B[39m\u001B[38;5;124mdata\u001B[39m\u001B[38;5;124m\"\u001B[39m):\n",
      "File \u001B[0;32m~/.pyenv/versions/miniforge3-latest/envs/prc/lib/python3.12/site-packages/pandera/backends/pandas/components.py:72\u001B[0m, in \u001B[0;36mColumnBackend.validate.<locals>.validate_column\u001B[0;34m(check_obj, column_name, return_check_obj)\u001B[0m\n\u001B[1;32m     69\u001B[0m \u001B[38;5;28;01mdef\u001B[39;00m \u001B[38;5;21mvalidate_column\u001B[39m(check_obj, column_name, return_check_obj\u001B[38;5;241m=\u001B[39m\u001B[38;5;28;01mFalse\u001B[39;00m):\n\u001B[1;32m     70\u001B[0m     \u001B[38;5;28;01mtry\u001B[39;00m:\n\u001B[1;32m     71\u001B[0m         \u001B[38;5;66;03m# pylint: disable=super-with-arguments\u001B[39;00m\n\u001B[0;32m---> 72\u001B[0m         validated_check_obj \u001B[38;5;241m=\u001B[39m \u001B[38;5;28;43msuper\u001B[39;49m\u001B[43m(\u001B[49m\u001B[43mColumnBackend\u001B[49m\u001B[43m,\u001B[49m\u001B[43m \u001B[49m\u001B[38;5;28;43mself\u001B[39;49m\u001B[43m)\u001B[49m\u001B[38;5;241;43m.\u001B[39;49m\u001B[43mvalidate\u001B[49m\u001B[43m(\u001B[49m\n\u001B[1;32m     73\u001B[0m \u001B[43m            \u001B[49m\u001B[43mcheck_obj\u001B[49m\u001B[43m,\u001B[49m\n\u001B[1;32m     74\u001B[0m \u001B[43m            \u001B[49m\u001B[43mdeepcopy\u001B[49m\u001B[43m(\u001B[49m\u001B[43mschema\u001B[49m\u001B[43m)\u001B[49m\u001B[38;5;241;43m.\u001B[39;49m\u001B[43mset_name\u001B[49m\u001B[43m(\u001B[49m\u001B[43mcolumn_name\u001B[49m\u001B[43m)\u001B[49m\u001B[43m,\u001B[49m\n\u001B[1;32m     75\u001B[0m \u001B[43m            \u001B[49m\u001B[43mhead\u001B[49m\u001B[38;5;241;43m=\u001B[39;49m\u001B[43mhead\u001B[49m\u001B[43m,\u001B[49m\n\u001B[1;32m     76\u001B[0m \u001B[43m            \u001B[49m\u001B[43mtail\u001B[49m\u001B[38;5;241;43m=\u001B[39;49m\u001B[43mtail\u001B[49m\u001B[43m,\u001B[49m\n\u001B[1;32m     77\u001B[0m \u001B[43m            \u001B[49m\u001B[43msample\u001B[49m\u001B[38;5;241;43m=\u001B[39;49m\u001B[43msample\u001B[49m\u001B[43m,\u001B[49m\n\u001B[1;32m     78\u001B[0m \u001B[43m            \u001B[49m\u001B[43mrandom_state\u001B[49m\u001B[38;5;241;43m=\u001B[39;49m\u001B[43mrandom_state\u001B[49m\u001B[43m,\u001B[49m\n\u001B[1;32m     79\u001B[0m \u001B[43m            \u001B[49m\u001B[43mlazy\u001B[49m\u001B[38;5;241;43m=\u001B[39;49m\u001B[43mlazy\u001B[49m\u001B[43m,\u001B[49m\n\u001B[1;32m     80\u001B[0m \u001B[43m            \u001B[49m\u001B[43minplace\u001B[49m\u001B[38;5;241;43m=\u001B[39;49m\u001B[43minplace\u001B[49m\u001B[43m,\u001B[49m\n\u001B[1;32m     81\u001B[0m \u001B[43m        \u001B[49m\u001B[43m)\u001B[49m\n\u001B[1;32m     83\u001B[0m         \u001B[38;5;28;01mif\u001B[39;00m return_check_obj:\n\u001B[1;32m     84\u001B[0m             \u001B[38;5;28;01mreturn\u001B[39;00m validated_check_obj\n",
      "File \u001B[0;32m~/.pyenv/versions/miniforge3-latest/envs/prc/lib/python3.12/site-packages/pandera/backends/pandas/array.py:81\u001B[0m, in \u001B[0;36mArraySchemaBackend.validate\u001B[0;34m(self, check_obj, schema, head, tail, sample, random_state, lazy, inplace)\u001B[0m\n\u001B[1;32m     75\u001B[0m check_obj \u001B[38;5;241m=\u001B[39m \u001B[38;5;28mself\u001B[39m\u001B[38;5;241m.\u001B[39mrun_parsers(\n\u001B[1;32m     76\u001B[0m     schema,\n\u001B[1;32m     77\u001B[0m     check_obj,\n\u001B[1;32m     78\u001B[0m )\n\u001B[1;32m     80\u001B[0m \u001B[38;5;66;03m# run the core checks\u001B[39;00m\n\u001B[0;32m---> 81\u001B[0m error_handler \u001B[38;5;241m=\u001B[39m \u001B[38;5;28;43mself\u001B[39;49m\u001B[38;5;241;43m.\u001B[39;49m\u001B[43mrun_checks_and_handle_errors\u001B[49m\u001B[43m(\u001B[49m\n\u001B[1;32m     82\u001B[0m \u001B[43m    \u001B[49m\u001B[43merror_handler\u001B[49m\u001B[43m,\u001B[49m\n\u001B[1;32m     83\u001B[0m \u001B[43m    \u001B[49m\u001B[43mschema\u001B[49m\u001B[43m,\u001B[49m\n\u001B[1;32m     84\u001B[0m \u001B[43m    \u001B[49m\u001B[43mcheck_obj\u001B[49m\u001B[43m,\u001B[49m\n\u001B[1;32m     85\u001B[0m \u001B[43m    \u001B[49m\u001B[43mhead\u001B[49m\u001B[38;5;241;43m=\u001B[39;49m\u001B[43mhead\u001B[49m\u001B[43m,\u001B[49m\n\u001B[1;32m     86\u001B[0m \u001B[43m    \u001B[49m\u001B[43mtail\u001B[49m\u001B[38;5;241;43m=\u001B[39;49m\u001B[43mtail\u001B[49m\u001B[43m,\u001B[49m\n\u001B[1;32m     87\u001B[0m \u001B[43m    \u001B[49m\u001B[43msample\u001B[49m\u001B[38;5;241;43m=\u001B[39;49m\u001B[43msample\u001B[49m\u001B[43m,\u001B[49m\n\u001B[1;32m     88\u001B[0m \u001B[43m    \u001B[49m\u001B[43mrandom_state\u001B[49m\u001B[38;5;241;43m=\u001B[39;49m\u001B[43mrandom_state\u001B[49m\u001B[43m,\u001B[49m\n\u001B[1;32m     89\u001B[0m \u001B[43m\u001B[49m\u001B[43m)\u001B[49m\n\u001B[1;32m     91\u001B[0m \u001B[38;5;28;01mif\u001B[39;00m lazy \u001B[38;5;129;01mand\u001B[39;00m error_handler\u001B[38;5;241m.\u001B[39mcollected_errors:\n\u001B[1;32m     92\u001B[0m     \u001B[38;5;28;01mif\u001B[39;00m \u001B[38;5;28mgetattr\u001B[39m(schema, \u001B[38;5;124m\"\u001B[39m\u001B[38;5;124mdrop_invalid_rows\u001B[39m\u001B[38;5;124m\"\u001B[39m, \u001B[38;5;28;01mFalse\u001B[39;00m):\n",
      "File \u001B[0;32m~/.pyenv/versions/miniforge3-latest/envs/prc/lib/python3.12/site-packages/pandera/backends/pandas/array.py:145\u001B[0m, in \u001B[0;36mArraySchemaBackend.run_checks_and_handle_errors\u001B[0;34m(self, error_handler, schema, check_obj, **subsample_kwargs)\u001B[0m\n\u001B[1;32m    134\u001B[0m         \u001B[38;5;28;01melse\u001B[39;00m:\n\u001B[1;32m    135\u001B[0m             error \u001B[38;5;241m=\u001B[39m SchemaError(\n\u001B[1;32m    136\u001B[0m                 schema\u001B[38;5;241m=\u001B[39mschema,\n\u001B[1;32m    137\u001B[0m                 data\u001B[38;5;241m=\u001B[39mcheck_obj,\n\u001B[0;32m   (...)\u001B[0m\n\u001B[1;32m    143\u001B[0m                 reason_code\u001B[38;5;241m=\u001B[39mresult\u001B[38;5;241m.\u001B[39mreason_code,\n\u001B[1;32m    144\u001B[0m             )\n\u001B[0;32m--> 145\u001B[0m             \u001B[43merror_handler\u001B[49m\u001B[38;5;241;43m.\u001B[39;49m\u001B[43mcollect_error\u001B[49m\u001B[43m(\u001B[49m\n\u001B[1;32m    146\u001B[0m \u001B[43m                \u001B[49m\u001B[43mvalidation_type\u001B[49m\u001B[43m(\u001B[49m\u001B[43mresult\u001B[49m\u001B[38;5;241;43m.\u001B[39;49m\u001B[43mreason_code\u001B[49m\u001B[43m)\u001B[49m\u001B[43m,\u001B[49m\n\u001B[1;32m    147\u001B[0m \u001B[43m                \u001B[49m\u001B[43mresult\u001B[49m\u001B[38;5;241;43m.\u001B[39;49m\u001B[43mreason_code\u001B[49m\u001B[43m,\u001B[49m\n\u001B[1;32m    148\u001B[0m \u001B[43m                \u001B[49m\u001B[43merror\u001B[49m\u001B[43m,\u001B[49m\n\u001B[1;32m    149\u001B[0m \u001B[43m                \u001B[49m\u001B[43moriginal_exc\u001B[49m\u001B[38;5;241;43m=\u001B[39;49m\u001B[43mresult\u001B[49m\u001B[38;5;241;43m.\u001B[39;49m\u001B[43moriginal_exc\u001B[49m\u001B[43m,\u001B[49m\n\u001B[1;32m    150\u001B[0m \u001B[43m            \u001B[49m\u001B[43m)\u001B[49m\n\u001B[1;32m    152\u001B[0m \u001B[38;5;28;01mreturn\u001B[39;00m error_handler\n",
      "File \u001B[0;32m~/.pyenv/versions/miniforge3-latest/envs/prc/lib/python3.12/site-packages/pandera/api/base/error_handler.py:54\u001B[0m, in \u001B[0;36mErrorHandler.collect_error\u001B[0;34m(self, error_type, reason_code, schema_error, original_exc)\u001B[0m\n\u001B[1;32m     47\u001B[0m \u001B[38;5;250m\u001B[39m\u001B[38;5;124;03m\"\"\"Collect schema error, raising exception if lazy is False.\u001B[39;00m\n\u001B[1;32m     48\u001B[0m \n\u001B[1;32m     49\u001B[0m \u001B[38;5;124;03m:param error_type: type of error\u001B[39;00m\n\u001B[1;32m     50\u001B[0m \u001B[38;5;124;03m:param reason_code: string representing reason for error\u001B[39;00m\n\u001B[1;32m     51\u001B[0m \u001B[38;5;124;03m:param schema_error: ``SchemaError`` object.\u001B[39;00m\n\u001B[1;32m     52\u001B[0m \u001B[38;5;124;03m\"\"\"\u001B[39;00m\n\u001B[1;32m     53\u001B[0m \u001B[38;5;28;01mif\u001B[39;00m \u001B[38;5;129;01mnot\u001B[39;00m \u001B[38;5;28mself\u001B[39m\u001B[38;5;241m.\u001B[39m_lazy:\n\u001B[0;32m---> 54\u001B[0m     \u001B[38;5;28;01mraise\u001B[39;00m schema_error \u001B[38;5;28;01mfrom\u001B[39;00m \u001B[38;5;21;01moriginal_exc\u001B[39;00m\n\u001B[1;32m     56\u001B[0m \u001B[38;5;66;03m# delete data of validated object from SchemaError object to prevent\u001B[39;00m\n\u001B[1;32m     57\u001B[0m \u001B[38;5;66;03m# storing copies of the validated DataFrame/Series for every\u001B[39;00m\n\u001B[1;32m     58\u001B[0m \u001B[38;5;66;03m# SchemaError collected.\u001B[39;00m\n\u001B[1;32m     59\u001B[0m \u001B[38;5;28;01mif\u001B[39;00m \u001B[38;5;28mhasattr\u001B[39m(schema_error, \u001B[38;5;124m\"\u001B[39m\u001B[38;5;124mdata\u001B[39m\u001B[38;5;124m\"\u001B[39m):\n",
      "\u001B[0;31mSchemaError\u001B[0m: Column 'column1' failed element-wise validator number 0: less_than_or_equal_to(10) failure cases: 11"
     ]
    }
   ],
   "execution_count": 2
  },
  {
   "metadata": {
    "ExecuteTime": {
     "end_time": "2024-09-14T05:46:43.802546Z",
     "start_time": "2024-09-14T05:46:43.709421Z"
    }
   },
   "cell_type": "code",
   "source": [
    "from pandera.typing import Series\n",
    "\n",
    "class Schema(pa.DataFrameModel):\n",
    "\n",
    "    column1: int = pa.Field(le=10)\n",
    "    column2: float = pa.Field(lt=-1.2)\n",
    "    column3: str = pa.Field(str_startswith=\"value_\")\n",
    "\n",
    "    @pa.check(\"column3\")\n",
    "    def column_3_check(cls, series: Series[str]) -> Series[bool]:\n",
    "        \"\"\"Check that column3 values have two elements after being split with '_'\"\"\"\n",
    "        return series.str.split(\"_\", expand=True).shape[1] == 2\n",
    "\n",
    "Schema.validate(df)"
   ],
   "id": "e7825863ecc902e",
   "outputs": [
    {
     "ename": "SchemaError",
     "evalue": "Column 'column1' failed element-wise validator number 0: less_than_or_equal_to(10) failure cases: 11",
     "output_type": "error",
     "traceback": [
      "\u001B[0;31m---------------------------------------------------------------------------\u001B[0m",
      "\u001B[0;31mSchemaError\u001B[0m                               Traceback (most recent call last)",
      "Cell \u001B[0;32mIn[3], line 14\u001B[0m\n\u001B[1;32m     11\u001B[0m \u001B[38;5;250m        \u001B[39m\u001B[38;5;124;03m\"\"\"Check that column3 values have two elements after being split with '_'\"\"\"\u001B[39;00m\n\u001B[1;32m     12\u001B[0m         \u001B[38;5;28;01mreturn\u001B[39;00m series\u001B[38;5;241m.\u001B[39mstr\u001B[38;5;241m.\u001B[39msplit(\u001B[38;5;124m\"\u001B[39m\u001B[38;5;124m_\u001B[39m\u001B[38;5;124m\"\u001B[39m, expand\u001B[38;5;241m=\u001B[39m\u001B[38;5;28;01mTrue\u001B[39;00m)\u001B[38;5;241m.\u001B[39mshape[\u001B[38;5;241m1\u001B[39m] \u001B[38;5;241m==\u001B[39m \u001B[38;5;241m2\u001B[39m\n\u001B[0;32m---> 14\u001B[0m \u001B[43mSchema\u001B[49m\u001B[38;5;241;43m.\u001B[39;49m\u001B[43mvalidate\u001B[49m\u001B[43m(\u001B[49m\u001B[43mdf\u001B[49m\u001B[43m)\u001B[49m\n",
      "File \u001B[0;32m~/.pyenv/versions/miniforge3-latest/envs/prc/lib/python3.12/site-packages/pandera/api/dataframe/model.py:289\u001B[0m, in \u001B[0;36mDataFrameModel.validate\u001B[0;34m(cls, check_obj, head, tail, sample, random_state, lazy, inplace)\u001B[0m\n\u001B[1;32m    274\u001B[0m \u001B[38;5;129m@classmethod\u001B[39m\n\u001B[1;32m    275\u001B[0m \u001B[38;5;129m@docstring_substitution\u001B[39m(validate_doc\u001B[38;5;241m=\u001B[39mBaseSchema\u001B[38;5;241m.\u001B[39mvalidate\u001B[38;5;241m.\u001B[39m\u001B[38;5;18m__doc__\u001B[39m)\n\u001B[1;32m    276\u001B[0m \u001B[38;5;28;01mdef\u001B[39;00m \u001B[38;5;21mvalidate\u001B[39m(\n\u001B[0;32m   (...)\u001B[0m\n\u001B[1;32m    284\u001B[0m     inplace: \u001B[38;5;28mbool\u001B[39m \u001B[38;5;241m=\u001B[39m \u001B[38;5;28;01mFalse\u001B[39;00m,\n\u001B[1;32m    285\u001B[0m ) \u001B[38;5;241m-\u001B[39m\u001B[38;5;241m>\u001B[39m DataFrameBase[TDataFrameModel]:\n\u001B[1;32m    286\u001B[0m \u001B[38;5;250m    \u001B[39m\u001B[38;5;124;03m\"\"\"%(validate_doc)s\"\"\"\u001B[39;00m\n\u001B[1;32m    287\u001B[0m     \u001B[38;5;28;01mreturn\u001B[39;00m cast(\n\u001B[1;32m    288\u001B[0m         DataFrameBase[TDataFrameModel],\n\u001B[0;32m--> 289\u001B[0m         \u001B[38;5;28;43mcls\u001B[39;49m\u001B[38;5;241;43m.\u001B[39;49m\u001B[43mto_schema\u001B[49m\u001B[43m(\u001B[49m\u001B[43m)\u001B[49m\u001B[38;5;241;43m.\u001B[39;49m\u001B[43mvalidate\u001B[49m\u001B[43m(\u001B[49m\n\u001B[1;32m    290\u001B[0m \u001B[43m            \u001B[49m\u001B[43mcheck_obj\u001B[49m\u001B[43m,\u001B[49m\u001B[43m \u001B[49m\u001B[43mhead\u001B[49m\u001B[43m,\u001B[49m\u001B[43m \u001B[49m\u001B[43mtail\u001B[49m\u001B[43m,\u001B[49m\u001B[43m \u001B[49m\u001B[43msample\u001B[49m\u001B[43m,\u001B[49m\u001B[43m \u001B[49m\u001B[43mrandom_state\u001B[49m\u001B[43m,\u001B[49m\u001B[43m \u001B[49m\u001B[43mlazy\u001B[49m\u001B[43m,\u001B[49m\u001B[43m \u001B[49m\u001B[43minplace\u001B[49m\n\u001B[1;32m    291\u001B[0m \u001B[43m        \u001B[49m\u001B[43m)\u001B[49m,\n\u001B[1;32m    292\u001B[0m     )\n",
      "File \u001B[0;32m~/.pyenv/versions/miniforge3-latest/envs/prc/lib/python3.12/site-packages/pandera/api/pandas/container.py:126\u001B[0m, in \u001B[0;36mDataFrameSchema.validate\u001B[0;34m(self, check_obj, head, tail, sample, random_state, lazy, inplace)\u001B[0m\n\u001B[1;32m    114\u001B[0m     check_obj \u001B[38;5;241m=\u001B[39m check_obj\u001B[38;5;241m.\u001B[39mmap_partitions(  \u001B[38;5;66;03m# type: ignore [operator]\u001B[39;00m\n\u001B[1;32m    115\u001B[0m         \u001B[38;5;28mself\u001B[39m\u001B[38;5;241m.\u001B[39m_validate,\n\u001B[1;32m    116\u001B[0m         head\u001B[38;5;241m=\u001B[39mhead,\n\u001B[0;32m   (...)\u001B[0m\n\u001B[1;32m    122\u001B[0m         meta\u001B[38;5;241m=\u001B[39mcheck_obj,\n\u001B[1;32m    123\u001B[0m     )\n\u001B[1;32m    124\u001B[0m     \u001B[38;5;28;01mreturn\u001B[39;00m check_obj\u001B[38;5;241m.\u001B[39mpandera\u001B[38;5;241m.\u001B[39madd_schema(\u001B[38;5;28mself\u001B[39m)\n\u001B[0;32m--> 126\u001B[0m \u001B[38;5;28;01mreturn\u001B[39;00m \u001B[38;5;28;43mself\u001B[39;49m\u001B[38;5;241;43m.\u001B[39;49m\u001B[43m_validate\u001B[49m\u001B[43m(\u001B[49m\n\u001B[1;32m    127\u001B[0m \u001B[43m    \u001B[49m\u001B[43mcheck_obj\u001B[49m\u001B[38;5;241;43m=\u001B[39;49m\u001B[43mcheck_obj\u001B[49m\u001B[43m,\u001B[49m\n\u001B[1;32m    128\u001B[0m \u001B[43m    \u001B[49m\u001B[43mhead\u001B[49m\u001B[38;5;241;43m=\u001B[39;49m\u001B[43mhead\u001B[49m\u001B[43m,\u001B[49m\n\u001B[1;32m    129\u001B[0m \u001B[43m    \u001B[49m\u001B[43mtail\u001B[49m\u001B[38;5;241;43m=\u001B[39;49m\u001B[43mtail\u001B[49m\u001B[43m,\u001B[49m\n\u001B[1;32m    130\u001B[0m \u001B[43m    \u001B[49m\u001B[43msample\u001B[49m\u001B[38;5;241;43m=\u001B[39;49m\u001B[43msample\u001B[49m\u001B[43m,\u001B[49m\n\u001B[1;32m    131\u001B[0m \u001B[43m    \u001B[49m\u001B[43mrandom_state\u001B[49m\u001B[38;5;241;43m=\u001B[39;49m\u001B[43mrandom_state\u001B[49m\u001B[43m,\u001B[49m\n\u001B[1;32m    132\u001B[0m \u001B[43m    \u001B[49m\u001B[43mlazy\u001B[49m\u001B[38;5;241;43m=\u001B[39;49m\u001B[43mlazy\u001B[49m\u001B[43m,\u001B[49m\n\u001B[1;32m    133\u001B[0m \u001B[43m    \u001B[49m\u001B[43minplace\u001B[49m\u001B[38;5;241;43m=\u001B[39;49m\u001B[43minplace\u001B[49m\u001B[43m,\u001B[49m\n\u001B[1;32m    134\u001B[0m \u001B[43m\u001B[49m\u001B[43m)\u001B[49m\n",
      "File \u001B[0;32m~/.pyenv/versions/miniforge3-latest/envs/prc/lib/python3.12/site-packages/pandera/api/pandas/container.py:155\u001B[0m, in \u001B[0;36mDataFrameSchema._validate\u001B[0;34m(self, check_obj, head, tail, sample, random_state, lazy, inplace)\u001B[0m\n\u001B[1;32m    146\u001B[0m \u001B[38;5;28;01mif\u001B[39;00m \u001B[38;5;28mself\u001B[39m\u001B[38;5;241m.\u001B[39m_is_inferred:\n\u001B[1;32m    147\u001B[0m     warnings\u001B[38;5;241m.\u001B[39mwarn(\n\u001B[1;32m    148\u001B[0m         \u001B[38;5;124mf\u001B[39m\u001B[38;5;124m\"\u001B[39m\u001B[38;5;124mThis \u001B[39m\u001B[38;5;132;01m{\u001B[39;00m\u001B[38;5;28mtype\u001B[39m(\u001B[38;5;28mself\u001B[39m)\u001B[38;5;132;01m}\u001B[39;00m\u001B[38;5;124m is an inferred schema that hasn\u001B[39m\u001B[38;5;124m'\u001B[39m\u001B[38;5;124mt been \u001B[39m\u001B[38;5;124m\"\u001B[39m\n\u001B[1;32m    149\u001B[0m         \u001B[38;5;124m\"\u001B[39m\u001B[38;5;124mmodified. It\u001B[39m\u001B[38;5;124m'\u001B[39m\u001B[38;5;124ms recommended that you refine the schema \u001B[39m\u001B[38;5;124m\"\u001B[39m\n\u001B[0;32m   (...)\u001B[0m\n\u001B[1;32m    152\u001B[0m         \u001B[38;5;167;01mUserWarning\u001B[39;00m,\n\u001B[1;32m    153\u001B[0m     )\n\u001B[0;32m--> 155\u001B[0m \u001B[38;5;28;01mreturn\u001B[39;00m \u001B[38;5;28;43mself\u001B[39;49m\u001B[38;5;241;43m.\u001B[39;49m\u001B[43mget_backend\u001B[49m\u001B[43m(\u001B[49m\u001B[43mcheck_obj\u001B[49m\u001B[43m)\u001B[49m\u001B[38;5;241;43m.\u001B[39;49m\u001B[43mvalidate\u001B[49m\u001B[43m(\u001B[49m\n\u001B[1;32m    156\u001B[0m \u001B[43m    \u001B[49m\u001B[43mcheck_obj\u001B[49m\u001B[43m,\u001B[49m\n\u001B[1;32m    157\u001B[0m \u001B[43m    \u001B[49m\u001B[43mschema\u001B[49m\u001B[38;5;241;43m=\u001B[39;49m\u001B[38;5;28;43mself\u001B[39;49m\u001B[43m,\u001B[49m\n\u001B[1;32m    158\u001B[0m \u001B[43m    \u001B[49m\u001B[43mhead\u001B[49m\u001B[38;5;241;43m=\u001B[39;49m\u001B[43mhead\u001B[49m\u001B[43m,\u001B[49m\n\u001B[1;32m    159\u001B[0m \u001B[43m    \u001B[49m\u001B[43mtail\u001B[49m\u001B[38;5;241;43m=\u001B[39;49m\u001B[43mtail\u001B[49m\u001B[43m,\u001B[49m\n\u001B[1;32m    160\u001B[0m \u001B[43m    \u001B[49m\u001B[43msample\u001B[49m\u001B[38;5;241;43m=\u001B[39;49m\u001B[43msample\u001B[49m\u001B[43m,\u001B[49m\n\u001B[1;32m    161\u001B[0m \u001B[43m    \u001B[49m\u001B[43mrandom_state\u001B[49m\u001B[38;5;241;43m=\u001B[39;49m\u001B[43mrandom_state\u001B[49m\u001B[43m,\u001B[49m\n\u001B[1;32m    162\u001B[0m \u001B[43m    \u001B[49m\u001B[43mlazy\u001B[49m\u001B[38;5;241;43m=\u001B[39;49m\u001B[43mlazy\u001B[49m\u001B[43m,\u001B[49m\n\u001B[1;32m    163\u001B[0m \u001B[43m    \u001B[49m\u001B[43minplace\u001B[49m\u001B[38;5;241;43m=\u001B[39;49m\u001B[43minplace\u001B[49m\u001B[43m,\u001B[49m\n\u001B[1;32m    164\u001B[0m \u001B[43m\u001B[49m\u001B[43m)\u001B[49m\n",
      "File \u001B[0;32m~/.pyenv/versions/miniforge3-latest/envs/prc/lib/python3.12/site-packages/pandera/backends/pandas/container.py:105\u001B[0m, in \u001B[0;36mDataFrameSchemaBackend.validate\u001B[0;34m(self, check_obj, schema, head, tail, sample, random_state, lazy, inplace)\u001B[0m\n\u001B[1;32m    100\u001B[0m components \u001B[38;5;241m=\u001B[39m \u001B[38;5;28mself\u001B[39m\u001B[38;5;241m.\u001B[39mcollect_schema_components(\n\u001B[1;32m    101\u001B[0m     check_obj, schema, column_info\n\u001B[1;32m    102\u001B[0m )\n\u001B[1;32m    104\u001B[0m \u001B[38;5;66;03m# run the checks\u001B[39;00m\n\u001B[0;32m--> 105\u001B[0m error_handler \u001B[38;5;241m=\u001B[39m \u001B[38;5;28;43mself\u001B[39;49m\u001B[38;5;241;43m.\u001B[39;49m\u001B[43mrun_checks_and_handle_errors\u001B[49m\u001B[43m(\u001B[49m\n\u001B[1;32m    106\u001B[0m \u001B[43m    \u001B[49m\u001B[43merror_handler\u001B[49m\u001B[43m,\u001B[49m\n\u001B[1;32m    107\u001B[0m \u001B[43m    \u001B[49m\u001B[43mschema\u001B[49m\u001B[43m,\u001B[49m\n\u001B[1;32m    108\u001B[0m \u001B[43m    \u001B[49m\u001B[43mcheck_obj\u001B[49m\u001B[43m,\u001B[49m\n\u001B[1;32m    109\u001B[0m \u001B[43m    \u001B[49m\u001B[43mcolumn_info\u001B[49m\u001B[43m,\u001B[49m\n\u001B[1;32m    110\u001B[0m \u001B[43m    \u001B[49m\u001B[43msample\u001B[49m\u001B[43m,\u001B[49m\n\u001B[1;32m    111\u001B[0m \u001B[43m    \u001B[49m\u001B[43mcomponents\u001B[49m\u001B[43m,\u001B[49m\n\u001B[1;32m    112\u001B[0m \u001B[43m    \u001B[49m\u001B[43mlazy\u001B[49m\u001B[43m,\u001B[49m\n\u001B[1;32m    113\u001B[0m \u001B[43m    \u001B[49m\u001B[43mhead\u001B[49m\u001B[43m,\u001B[49m\n\u001B[1;32m    114\u001B[0m \u001B[43m    \u001B[49m\u001B[43mtail\u001B[49m\u001B[43m,\u001B[49m\n\u001B[1;32m    115\u001B[0m \u001B[43m    \u001B[49m\u001B[43mrandom_state\u001B[49m\u001B[43m,\u001B[49m\n\u001B[1;32m    116\u001B[0m \u001B[43m\u001B[49m\u001B[43m)\u001B[49m\n\u001B[1;32m    118\u001B[0m \u001B[38;5;28;01mif\u001B[39;00m error_handler\u001B[38;5;241m.\u001B[39mcollected_errors:\n\u001B[1;32m    119\u001B[0m     \u001B[38;5;28;01mif\u001B[39;00m \u001B[38;5;28mgetattr\u001B[39m(schema, \u001B[38;5;124m\"\u001B[39m\u001B[38;5;124mdrop_invalid_rows\u001B[39m\u001B[38;5;124m\"\u001B[39m, \u001B[38;5;28;01mFalse\u001B[39;00m):\n",
      "File \u001B[0;32m~/.pyenv/versions/miniforge3-latest/envs/prc/lib/python3.12/site-packages/pandera/backends/pandas/container.py:180\u001B[0m, in \u001B[0;36mDataFrameSchemaBackend.run_checks_and_handle_errors\u001B[0;34m(self, error_handler, schema, check_obj, column_info, sample, components, lazy, head, tail, random_state)\u001B[0m\n\u001B[1;32m    169\u001B[0m         \u001B[38;5;28;01melse\u001B[39;00m:\n\u001B[1;32m    170\u001B[0m             error \u001B[38;5;241m=\u001B[39m SchemaError(\n\u001B[1;32m    171\u001B[0m                 schema,\n\u001B[1;32m    172\u001B[0m                 data\u001B[38;5;241m=\u001B[39mcheck_obj,\n\u001B[0;32m   (...)\u001B[0m\n\u001B[1;32m    178\u001B[0m                 reason_code\u001B[38;5;241m=\u001B[39mresult\u001B[38;5;241m.\u001B[39mreason_code,\n\u001B[1;32m    179\u001B[0m             )\n\u001B[0;32m--> 180\u001B[0m         \u001B[43merror_handler\u001B[49m\u001B[38;5;241;43m.\u001B[39;49m\u001B[43mcollect_error\u001B[49m\u001B[43m(\u001B[49m\n\u001B[1;32m    181\u001B[0m \u001B[43m            \u001B[49m\u001B[43mvalidation_type\u001B[49m\u001B[43m(\u001B[49m\u001B[43mresult\u001B[49m\u001B[38;5;241;43m.\u001B[39;49m\u001B[43mreason_code\u001B[49m\u001B[43m)\u001B[49m\u001B[43m,\u001B[49m\n\u001B[1;32m    182\u001B[0m \u001B[43m            \u001B[49m\u001B[43mresult\u001B[49m\u001B[38;5;241;43m.\u001B[39;49m\u001B[43mreason_code\u001B[49m\u001B[43m,\u001B[49m\n\u001B[1;32m    183\u001B[0m \u001B[43m            \u001B[49m\u001B[43merror\u001B[49m\u001B[43m,\u001B[49m\n\u001B[1;32m    184\u001B[0m \u001B[43m            \u001B[49m\u001B[43mresult\u001B[49m\u001B[38;5;241;43m.\u001B[39;49m\u001B[43moriginal_exc\u001B[49m\u001B[43m,\u001B[49m\n\u001B[1;32m    185\u001B[0m \u001B[43m        \u001B[49m\u001B[43m)\u001B[49m\n\u001B[1;32m    187\u001B[0m \u001B[38;5;28;01mreturn\u001B[39;00m error_handler\n",
      "File \u001B[0;32m~/.pyenv/versions/miniforge3-latest/envs/prc/lib/python3.12/site-packages/pandera/api/base/error_handler.py:54\u001B[0m, in \u001B[0;36mErrorHandler.collect_error\u001B[0;34m(self, error_type, reason_code, schema_error, original_exc)\u001B[0m\n\u001B[1;32m     47\u001B[0m \u001B[38;5;250m\u001B[39m\u001B[38;5;124;03m\"\"\"Collect schema error, raising exception if lazy is False.\u001B[39;00m\n\u001B[1;32m     48\u001B[0m \n\u001B[1;32m     49\u001B[0m \u001B[38;5;124;03m:param error_type: type of error\u001B[39;00m\n\u001B[1;32m     50\u001B[0m \u001B[38;5;124;03m:param reason_code: string representing reason for error\u001B[39;00m\n\u001B[1;32m     51\u001B[0m \u001B[38;5;124;03m:param schema_error: ``SchemaError`` object.\u001B[39;00m\n\u001B[1;32m     52\u001B[0m \u001B[38;5;124;03m\"\"\"\u001B[39;00m\n\u001B[1;32m     53\u001B[0m \u001B[38;5;28;01mif\u001B[39;00m \u001B[38;5;129;01mnot\u001B[39;00m \u001B[38;5;28mself\u001B[39m\u001B[38;5;241m.\u001B[39m_lazy:\n\u001B[0;32m---> 54\u001B[0m     \u001B[38;5;28;01mraise\u001B[39;00m schema_error \u001B[38;5;28;01mfrom\u001B[39;00m \u001B[38;5;21;01moriginal_exc\u001B[39;00m\n\u001B[1;32m     56\u001B[0m \u001B[38;5;66;03m# delete data of validated object from SchemaError object to prevent\u001B[39;00m\n\u001B[1;32m     57\u001B[0m \u001B[38;5;66;03m# storing copies of the validated DataFrame/Series for every\u001B[39;00m\n\u001B[1;32m     58\u001B[0m \u001B[38;5;66;03m# SchemaError collected.\u001B[39;00m\n\u001B[1;32m     59\u001B[0m \u001B[38;5;28;01mif\u001B[39;00m \u001B[38;5;28mhasattr\u001B[39m(schema_error, \u001B[38;5;124m\"\u001B[39m\u001B[38;5;124mdata\u001B[39m\u001B[38;5;124m\"\u001B[39m):\n",
      "File \u001B[0;32m~/.pyenv/versions/miniforge3-latest/envs/prc/lib/python3.12/site-packages/pandera/backends/pandas/container.py:201\u001B[0m, in \u001B[0;36mDataFrameSchemaBackend.run_schema_component_checks\u001B[0;34m(self, check_obj, schema_components, lazy)\u001B[0m\n\u001B[1;32m    199\u001B[0m \u001B[38;5;28;01mfor\u001B[39;00m schema_component \u001B[38;5;129;01min\u001B[39;00m schema_components:\n\u001B[1;32m    200\u001B[0m     \u001B[38;5;28;01mtry\u001B[39;00m:\n\u001B[0;32m--> 201\u001B[0m         result \u001B[38;5;241m=\u001B[39m \u001B[43mschema_component\u001B[49m\u001B[38;5;241;43m.\u001B[39;49m\u001B[43mvalidate\u001B[49m\u001B[43m(\u001B[49m\n\u001B[1;32m    202\u001B[0m \u001B[43m            \u001B[49m\u001B[43mcheck_obj\u001B[49m\u001B[43m,\u001B[49m\u001B[43m \u001B[49m\u001B[43mlazy\u001B[49m\u001B[38;5;241;43m=\u001B[39;49m\u001B[43mlazy\u001B[49m\u001B[43m,\u001B[49m\u001B[43m \u001B[49m\u001B[43minplace\u001B[49m\u001B[38;5;241;43m=\u001B[39;49m\u001B[38;5;28;43;01mTrue\u001B[39;49;00m\n\u001B[1;32m    203\u001B[0m \u001B[43m        \u001B[49m\u001B[43m)\u001B[49m\n\u001B[1;32m    204\u001B[0m         check_passed\u001B[38;5;241m.\u001B[39mappend(is_table(result))\n\u001B[1;32m    205\u001B[0m     \u001B[38;5;28;01mexcept\u001B[39;00m SchemaError \u001B[38;5;28;01mas\u001B[39;00m err:\n",
      "File \u001B[0;32m~/.pyenv/versions/miniforge3-latest/envs/prc/lib/python3.12/site-packages/pandera/api/dataframe/components.py:162\u001B[0m, in \u001B[0;36mComponentSchema.validate\u001B[0;34m(self, check_obj, head, tail, sample, random_state, lazy, inplace)\u001B[0m\n\u001B[1;32m    133\u001B[0m \u001B[38;5;28;01mdef\u001B[39;00m \u001B[38;5;21mvalidate\u001B[39m(\n\u001B[1;32m    134\u001B[0m     \u001B[38;5;28mself\u001B[39m,\n\u001B[1;32m    135\u001B[0m     check_obj,\n\u001B[0;32m   (...)\u001B[0m\n\u001B[1;32m    142\u001B[0m ):\n\u001B[1;32m    143\u001B[0m     \u001B[38;5;66;03m# pylint: disable=too-many-locals,too-many-branches,too-many-statements\u001B[39;00m\n\u001B[1;32m    144\u001B[0m \u001B[38;5;250m    \u001B[39m\u001B[38;5;124;03m\"\"\"Validate a series or specific column in dataframe.\u001B[39;00m\n\u001B[1;32m    145\u001B[0m \n\u001B[1;32m    146\u001B[0m \u001B[38;5;124;03m    :check_obj: data object to validate.\u001B[39;00m\n\u001B[0;32m   (...)\u001B[0m\n\u001B[1;32m    160\u001B[0m \n\u001B[1;32m    161\u001B[0m \u001B[38;5;124;03m    \"\"\"\u001B[39;00m\n\u001B[0;32m--> 162\u001B[0m     \u001B[38;5;28;01mreturn\u001B[39;00m \u001B[38;5;28;43mself\u001B[39;49m\u001B[38;5;241;43m.\u001B[39;49m\u001B[43mget_backend\u001B[49m\u001B[43m(\u001B[49m\u001B[43mcheck_obj\u001B[49m\u001B[43m)\u001B[49m\u001B[38;5;241;43m.\u001B[39;49m\u001B[43mvalidate\u001B[49m\u001B[43m(\u001B[49m\n\u001B[1;32m    163\u001B[0m \u001B[43m        \u001B[49m\u001B[43mcheck_obj\u001B[49m\u001B[43m,\u001B[49m\n\u001B[1;32m    164\u001B[0m \u001B[43m        \u001B[49m\u001B[43mschema\u001B[49m\u001B[38;5;241;43m=\u001B[39;49m\u001B[38;5;28;43mself\u001B[39;49m\u001B[43m,\u001B[49m\n\u001B[1;32m    165\u001B[0m \u001B[43m        \u001B[49m\u001B[43mhead\u001B[49m\u001B[38;5;241;43m=\u001B[39;49m\u001B[43mhead\u001B[49m\u001B[43m,\u001B[49m\n\u001B[1;32m    166\u001B[0m \u001B[43m        \u001B[49m\u001B[43mtail\u001B[49m\u001B[38;5;241;43m=\u001B[39;49m\u001B[43mtail\u001B[49m\u001B[43m,\u001B[49m\n\u001B[1;32m    167\u001B[0m \u001B[43m        \u001B[49m\u001B[43msample\u001B[49m\u001B[38;5;241;43m=\u001B[39;49m\u001B[43msample\u001B[49m\u001B[43m,\u001B[49m\n\u001B[1;32m    168\u001B[0m \u001B[43m        \u001B[49m\u001B[43mrandom_state\u001B[49m\u001B[38;5;241;43m=\u001B[39;49m\u001B[43mrandom_state\u001B[49m\u001B[43m,\u001B[49m\n\u001B[1;32m    169\u001B[0m \u001B[43m        \u001B[49m\u001B[43mlazy\u001B[49m\u001B[38;5;241;43m=\u001B[39;49m\u001B[43mlazy\u001B[49m\u001B[43m,\u001B[49m\n\u001B[1;32m    170\u001B[0m \u001B[43m        \u001B[49m\u001B[43minplace\u001B[49m\u001B[38;5;241;43m=\u001B[39;49m\u001B[43minplace\u001B[49m\u001B[43m,\u001B[49m\n\u001B[1;32m    171\u001B[0m \u001B[43m    \u001B[49m\u001B[43m)\u001B[49m\n",
      "File \u001B[0;32m~/.pyenv/versions/miniforge3-latest/envs/prc/lib/python3.12/site-packages/pandera/backends/pandas/components.py:136\u001B[0m, in \u001B[0;36mColumnBackend.validate\u001B[0;34m(self, check_obj, schema, head, tail, sample, random_state, lazy, inplace)\u001B[0m\n\u001B[1;32m    132\u001B[0m             check_obj \u001B[38;5;241m=\u001B[39m validate_column(\n\u001B[1;32m    133\u001B[0m                 check_obj, column_name, return_check_obj\u001B[38;5;241m=\u001B[39m\u001B[38;5;28;01mTrue\u001B[39;00m\n\u001B[1;32m    134\u001B[0m             )\n\u001B[1;32m    135\u001B[0m         \u001B[38;5;28;01melse\u001B[39;00m:\n\u001B[0;32m--> 136\u001B[0m             \u001B[43mvalidate_column\u001B[49m\u001B[43m(\u001B[49m\u001B[43mcheck_obj\u001B[49m\u001B[43m,\u001B[49m\u001B[43m \u001B[49m\u001B[43mcolumn_name\u001B[49m\u001B[43m)\u001B[49m\n\u001B[1;32m    138\u001B[0m \u001B[38;5;28;01mif\u001B[39;00m lazy \u001B[38;5;129;01mand\u001B[39;00m error_handler\u001B[38;5;241m.\u001B[39mcollected_errors:\n\u001B[1;32m    139\u001B[0m     \u001B[38;5;28;01mraise\u001B[39;00m SchemaErrors(\n\u001B[1;32m    140\u001B[0m         schema\u001B[38;5;241m=\u001B[39mschema,\n\u001B[1;32m    141\u001B[0m         schema_errors\u001B[38;5;241m=\u001B[39merror_handler\u001B[38;5;241m.\u001B[39mschema_errors,\n\u001B[1;32m    142\u001B[0m         data\u001B[38;5;241m=\u001B[39mcheck_obj,\n\u001B[1;32m    143\u001B[0m     )\n",
      "File \u001B[0;32m~/.pyenv/versions/miniforge3-latest/envs/prc/lib/python3.12/site-packages/pandera/backends/pandas/components.py:92\u001B[0m, in \u001B[0;36mColumnBackend.validate.<locals>.validate_column\u001B[0;34m(check_obj, column_name, return_check_obj)\u001B[0m\n\u001B[1;32m     88\u001B[0m         error_handler\u001B[38;5;241m.\u001B[39mcollect_error(\n\u001B[1;32m     89\u001B[0m             validation_type(err\u001B[38;5;241m.\u001B[39mreason_code), err\u001B[38;5;241m.\u001B[39mreason_code, err\n\u001B[1;32m     90\u001B[0m         )\n\u001B[1;32m     91\u001B[0m \u001B[38;5;28;01mexcept\u001B[39;00m SchemaError \u001B[38;5;28;01mas\u001B[39;00m err:\n\u001B[0;32m---> 92\u001B[0m     \u001B[43merror_handler\u001B[49m\u001B[38;5;241;43m.\u001B[39;49m\u001B[43mcollect_error\u001B[49m\u001B[43m(\u001B[49m\n\u001B[1;32m     93\u001B[0m \u001B[43m        \u001B[49m\u001B[43mvalidation_type\u001B[49m\u001B[43m(\u001B[49m\u001B[43merr\u001B[49m\u001B[38;5;241;43m.\u001B[39;49m\u001B[43mreason_code\u001B[49m\u001B[43m)\u001B[49m\u001B[43m,\u001B[49m\u001B[43m \u001B[49m\u001B[43merr\u001B[49m\u001B[38;5;241;43m.\u001B[39;49m\u001B[43mreason_code\u001B[49m\u001B[43m,\u001B[49m\u001B[43m \u001B[49m\u001B[43merr\u001B[49m\n\u001B[1;32m     94\u001B[0m \u001B[43m    \u001B[49m\u001B[43m)\u001B[49m\n",
      "File \u001B[0;32m~/.pyenv/versions/miniforge3-latest/envs/prc/lib/python3.12/site-packages/pandera/api/base/error_handler.py:54\u001B[0m, in \u001B[0;36mErrorHandler.collect_error\u001B[0;34m(self, error_type, reason_code, schema_error, original_exc)\u001B[0m\n\u001B[1;32m     47\u001B[0m \u001B[38;5;250m\u001B[39m\u001B[38;5;124;03m\"\"\"Collect schema error, raising exception if lazy is False.\u001B[39;00m\n\u001B[1;32m     48\u001B[0m \n\u001B[1;32m     49\u001B[0m \u001B[38;5;124;03m:param error_type: type of error\u001B[39;00m\n\u001B[1;32m     50\u001B[0m \u001B[38;5;124;03m:param reason_code: string representing reason for error\u001B[39;00m\n\u001B[1;32m     51\u001B[0m \u001B[38;5;124;03m:param schema_error: ``SchemaError`` object.\u001B[39;00m\n\u001B[1;32m     52\u001B[0m \u001B[38;5;124;03m\"\"\"\u001B[39;00m\n\u001B[1;32m     53\u001B[0m \u001B[38;5;28;01mif\u001B[39;00m \u001B[38;5;129;01mnot\u001B[39;00m \u001B[38;5;28mself\u001B[39m\u001B[38;5;241m.\u001B[39m_lazy:\n\u001B[0;32m---> 54\u001B[0m     \u001B[38;5;28;01mraise\u001B[39;00m schema_error \u001B[38;5;28;01mfrom\u001B[39;00m \u001B[38;5;21;01moriginal_exc\u001B[39;00m\n\u001B[1;32m     56\u001B[0m \u001B[38;5;66;03m# delete data of validated object from SchemaError object to prevent\u001B[39;00m\n\u001B[1;32m     57\u001B[0m \u001B[38;5;66;03m# storing copies of the validated DataFrame/Series for every\u001B[39;00m\n\u001B[1;32m     58\u001B[0m \u001B[38;5;66;03m# SchemaError collected.\u001B[39;00m\n\u001B[1;32m     59\u001B[0m \u001B[38;5;28;01mif\u001B[39;00m \u001B[38;5;28mhasattr\u001B[39m(schema_error, \u001B[38;5;124m\"\u001B[39m\u001B[38;5;124mdata\u001B[39m\u001B[38;5;124m\"\u001B[39m):\n",
      "File \u001B[0;32m~/.pyenv/versions/miniforge3-latest/envs/prc/lib/python3.12/site-packages/pandera/backends/pandas/components.py:72\u001B[0m, in \u001B[0;36mColumnBackend.validate.<locals>.validate_column\u001B[0;34m(check_obj, column_name, return_check_obj)\u001B[0m\n\u001B[1;32m     69\u001B[0m \u001B[38;5;28;01mdef\u001B[39;00m \u001B[38;5;21mvalidate_column\u001B[39m(check_obj, column_name, return_check_obj\u001B[38;5;241m=\u001B[39m\u001B[38;5;28;01mFalse\u001B[39;00m):\n\u001B[1;32m     70\u001B[0m     \u001B[38;5;28;01mtry\u001B[39;00m:\n\u001B[1;32m     71\u001B[0m         \u001B[38;5;66;03m# pylint: disable=super-with-arguments\u001B[39;00m\n\u001B[0;32m---> 72\u001B[0m         validated_check_obj \u001B[38;5;241m=\u001B[39m \u001B[38;5;28;43msuper\u001B[39;49m\u001B[43m(\u001B[49m\u001B[43mColumnBackend\u001B[49m\u001B[43m,\u001B[49m\u001B[43m \u001B[49m\u001B[38;5;28;43mself\u001B[39;49m\u001B[43m)\u001B[49m\u001B[38;5;241;43m.\u001B[39;49m\u001B[43mvalidate\u001B[49m\u001B[43m(\u001B[49m\n\u001B[1;32m     73\u001B[0m \u001B[43m            \u001B[49m\u001B[43mcheck_obj\u001B[49m\u001B[43m,\u001B[49m\n\u001B[1;32m     74\u001B[0m \u001B[43m            \u001B[49m\u001B[43mdeepcopy\u001B[49m\u001B[43m(\u001B[49m\u001B[43mschema\u001B[49m\u001B[43m)\u001B[49m\u001B[38;5;241;43m.\u001B[39;49m\u001B[43mset_name\u001B[49m\u001B[43m(\u001B[49m\u001B[43mcolumn_name\u001B[49m\u001B[43m)\u001B[49m\u001B[43m,\u001B[49m\n\u001B[1;32m     75\u001B[0m \u001B[43m            \u001B[49m\u001B[43mhead\u001B[49m\u001B[38;5;241;43m=\u001B[39;49m\u001B[43mhead\u001B[49m\u001B[43m,\u001B[49m\n\u001B[1;32m     76\u001B[0m \u001B[43m            \u001B[49m\u001B[43mtail\u001B[49m\u001B[38;5;241;43m=\u001B[39;49m\u001B[43mtail\u001B[49m\u001B[43m,\u001B[49m\n\u001B[1;32m     77\u001B[0m \u001B[43m            \u001B[49m\u001B[43msample\u001B[49m\u001B[38;5;241;43m=\u001B[39;49m\u001B[43msample\u001B[49m\u001B[43m,\u001B[49m\n\u001B[1;32m     78\u001B[0m \u001B[43m            \u001B[49m\u001B[43mrandom_state\u001B[49m\u001B[38;5;241;43m=\u001B[39;49m\u001B[43mrandom_state\u001B[49m\u001B[43m,\u001B[49m\n\u001B[1;32m     79\u001B[0m \u001B[43m            \u001B[49m\u001B[43mlazy\u001B[49m\u001B[38;5;241;43m=\u001B[39;49m\u001B[43mlazy\u001B[49m\u001B[43m,\u001B[49m\n\u001B[1;32m     80\u001B[0m \u001B[43m            \u001B[49m\u001B[43minplace\u001B[49m\u001B[38;5;241;43m=\u001B[39;49m\u001B[43minplace\u001B[49m\u001B[43m,\u001B[49m\n\u001B[1;32m     81\u001B[0m \u001B[43m        \u001B[49m\u001B[43m)\u001B[49m\n\u001B[1;32m     83\u001B[0m         \u001B[38;5;28;01mif\u001B[39;00m return_check_obj:\n\u001B[1;32m     84\u001B[0m             \u001B[38;5;28;01mreturn\u001B[39;00m validated_check_obj\n",
      "File \u001B[0;32m~/.pyenv/versions/miniforge3-latest/envs/prc/lib/python3.12/site-packages/pandera/backends/pandas/array.py:81\u001B[0m, in \u001B[0;36mArraySchemaBackend.validate\u001B[0;34m(self, check_obj, schema, head, tail, sample, random_state, lazy, inplace)\u001B[0m\n\u001B[1;32m     75\u001B[0m check_obj \u001B[38;5;241m=\u001B[39m \u001B[38;5;28mself\u001B[39m\u001B[38;5;241m.\u001B[39mrun_parsers(\n\u001B[1;32m     76\u001B[0m     schema,\n\u001B[1;32m     77\u001B[0m     check_obj,\n\u001B[1;32m     78\u001B[0m )\n\u001B[1;32m     80\u001B[0m \u001B[38;5;66;03m# run the core checks\u001B[39;00m\n\u001B[0;32m---> 81\u001B[0m error_handler \u001B[38;5;241m=\u001B[39m \u001B[38;5;28;43mself\u001B[39;49m\u001B[38;5;241;43m.\u001B[39;49m\u001B[43mrun_checks_and_handle_errors\u001B[49m\u001B[43m(\u001B[49m\n\u001B[1;32m     82\u001B[0m \u001B[43m    \u001B[49m\u001B[43merror_handler\u001B[49m\u001B[43m,\u001B[49m\n\u001B[1;32m     83\u001B[0m \u001B[43m    \u001B[49m\u001B[43mschema\u001B[49m\u001B[43m,\u001B[49m\n\u001B[1;32m     84\u001B[0m \u001B[43m    \u001B[49m\u001B[43mcheck_obj\u001B[49m\u001B[43m,\u001B[49m\n\u001B[1;32m     85\u001B[0m \u001B[43m    \u001B[49m\u001B[43mhead\u001B[49m\u001B[38;5;241;43m=\u001B[39;49m\u001B[43mhead\u001B[49m\u001B[43m,\u001B[49m\n\u001B[1;32m     86\u001B[0m \u001B[43m    \u001B[49m\u001B[43mtail\u001B[49m\u001B[38;5;241;43m=\u001B[39;49m\u001B[43mtail\u001B[49m\u001B[43m,\u001B[49m\n\u001B[1;32m     87\u001B[0m \u001B[43m    \u001B[49m\u001B[43msample\u001B[49m\u001B[38;5;241;43m=\u001B[39;49m\u001B[43msample\u001B[49m\u001B[43m,\u001B[49m\n\u001B[1;32m     88\u001B[0m \u001B[43m    \u001B[49m\u001B[43mrandom_state\u001B[49m\u001B[38;5;241;43m=\u001B[39;49m\u001B[43mrandom_state\u001B[49m\u001B[43m,\u001B[49m\n\u001B[1;32m     89\u001B[0m \u001B[43m\u001B[49m\u001B[43m)\u001B[49m\n\u001B[1;32m     91\u001B[0m \u001B[38;5;28;01mif\u001B[39;00m lazy \u001B[38;5;129;01mand\u001B[39;00m error_handler\u001B[38;5;241m.\u001B[39mcollected_errors:\n\u001B[1;32m     92\u001B[0m     \u001B[38;5;28;01mif\u001B[39;00m \u001B[38;5;28mgetattr\u001B[39m(schema, \u001B[38;5;124m\"\u001B[39m\u001B[38;5;124mdrop_invalid_rows\u001B[39m\u001B[38;5;124m\"\u001B[39m, \u001B[38;5;28;01mFalse\u001B[39;00m):\n",
      "File \u001B[0;32m~/.pyenv/versions/miniforge3-latest/envs/prc/lib/python3.12/site-packages/pandera/backends/pandas/array.py:145\u001B[0m, in \u001B[0;36mArraySchemaBackend.run_checks_and_handle_errors\u001B[0;34m(self, error_handler, schema, check_obj, **subsample_kwargs)\u001B[0m\n\u001B[1;32m    134\u001B[0m         \u001B[38;5;28;01melse\u001B[39;00m:\n\u001B[1;32m    135\u001B[0m             error \u001B[38;5;241m=\u001B[39m SchemaError(\n\u001B[1;32m    136\u001B[0m                 schema\u001B[38;5;241m=\u001B[39mschema,\n\u001B[1;32m    137\u001B[0m                 data\u001B[38;5;241m=\u001B[39mcheck_obj,\n\u001B[0;32m   (...)\u001B[0m\n\u001B[1;32m    143\u001B[0m                 reason_code\u001B[38;5;241m=\u001B[39mresult\u001B[38;5;241m.\u001B[39mreason_code,\n\u001B[1;32m    144\u001B[0m             )\n\u001B[0;32m--> 145\u001B[0m             \u001B[43merror_handler\u001B[49m\u001B[38;5;241;43m.\u001B[39;49m\u001B[43mcollect_error\u001B[49m\u001B[43m(\u001B[49m\n\u001B[1;32m    146\u001B[0m \u001B[43m                \u001B[49m\u001B[43mvalidation_type\u001B[49m\u001B[43m(\u001B[49m\u001B[43mresult\u001B[49m\u001B[38;5;241;43m.\u001B[39;49m\u001B[43mreason_code\u001B[49m\u001B[43m)\u001B[49m\u001B[43m,\u001B[49m\n\u001B[1;32m    147\u001B[0m \u001B[43m                \u001B[49m\u001B[43mresult\u001B[49m\u001B[38;5;241;43m.\u001B[39;49m\u001B[43mreason_code\u001B[49m\u001B[43m,\u001B[49m\n\u001B[1;32m    148\u001B[0m \u001B[43m                \u001B[49m\u001B[43merror\u001B[49m\u001B[43m,\u001B[49m\n\u001B[1;32m    149\u001B[0m \u001B[43m                \u001B[49m\u001B[43moriginal_exc\u001B[49m\u001B[38;5;241;43m=\u001B[39;49m\u001B[43mresult\u001B[49m\u001B[38;5;241;43m.\u001B[39;49m\u001B[43moriginal_exc\u001B[49m\u001B[43m,\u001B[49m\n\u001B[1;32m    150\u001B[0m \u001B[43m            \u001B[49m\u001B[43m)\u001B[49m\n\u001B[1;32m    152\u001B[0m \u001B[38;5;28;01mreturn\u001B[39;00m error_handler\n",
      "File \u001B[0;32m~/.pyenv/versions/miniforge3-latest/envs/prc/lib/python3.12/site-packages/pandera/api/base/error_handler.py:54\u001B[0m, in \u001B[0;36mErrorHandler.collect_error\u001B[0;34m(self, error_type, reason_code, schema_error, original_exc)\u001B[0m\n\u001B[1;32m     47\u001B[0m \u001B[38;5;250m\u001B[39m\u001B[38;5;124;03m\"\"\"Collect schema error, raising exception if lazy is False.\u001B[39;00m\n\u001B[1;32m     48\u001B[0m \n\u001B[1;32m     49\u001B[0m \u001B[38;5;124;03m:param error_type: type of error\u001B[39;00m\n\u001B[1;32m     50\u001B[0m \u001B[38;5;124;03m:param reason_code: string representing reason for error\u001B[39;00m\n\u001B[1;32m     51\u001B[0m \u001B[38;5;124;03m:param schema_error: ``SchemaError`` object.\u001B[39;00m\n\u001B[1;32m     52\u001B[0m \u001B[38;5;124;03m\"\"\"\u001B[39;00m\n\u001B[1;32m     53\u001B[0m \u001B[38;5;28;01mif\u001B[39;00m \u001B[38;5;129;01mnot\u001B[39;00m \u001B[38;5;28mself\u001B[39m\u001B[38;5;241m.\u001B[39m_lazy:\n\u001B[0;32m---> 54\u001B[0m     \u001B[38;5;28;01mraise\u001B[39;00m schema_error \u001B[38;5;28;01mfrom\u001B[39;00m \u001B[38;5;21;01moriginal_exc\u001B[39;00m\n\u001B[1;32m     56\u001B[0m \u001B[38;5;66;03m# delete data of validated object from SchemaError object to prevent\u001B[39;00m\n\u001B[1;32m     57\u001B[0m \u001B[38;5;66;03m# storing copies of the validated DataFrame/Series for every\u001B[39;00m\n\u001B[1;32m     58\u001B[0m \u001B[38;5;66;03m# SchemaError collected.\u001B[39;00m\n\u001B[1;32m     59\u001B[0m \u001B[38;5;28;01mif\u001B[39;00m \u001B[38;5;28mhasattr\u001B[39m(schema_error, \u001B[38;5;124m\"\u001B[39m\u001B[38;5;124mdata\u001B[39m\u001B[38;5;124m\"\u001B[39m):\n",
      "\u001B[0;31mSchemaError\u001B[0m: Column 'column1' failed element-wise validator number 0: less_than_or_equal_to(10) failure cases: 11"
     ]
    }
   ],
   "execution_count": 3
  },
  {
   "metadata": {
    "ExecuteTime": {
     "end_time": "2024-09-14T08:44:54.524589Z",
     "start_time": "2024-09-14T08:44:54.520294Z"
    }
   },
   "cell_type": "code",
   "source": [
    "from datetime import datetime\n",
    "\n",
    "def validate_datetime(date_string, format_string):\n",
    "    \"\"\"\n",
    "    Validates if a string is a valid datetime according to the given format.\n",
    "    \"\"\"\n",
    "\n",
    "    try:\n",
    "        datetime.strptime(date_string, format_string)\n",
    "        return True\n",
    "    except ValueError:\n",
    "        return False\n",
    "    \n",
    "def validate_datetime_in_iso_format(date_text):\n",
    "        try:\n",
    "            datetime.fromisoformat(date_text)\n",
    "            return True\n",
    "        except ValueError:\n",
    "            # raise ValueError(\"Incorrect data format, should be YYYY-MM-DD\")\n",
    "            return False\n",
    "# Example usage\n",
    "date_strings = [\n",
    "    \"2023-12-25 24:00:00\",\n",
    "    \"2023-12-25 12:10:00\",\n",
    "    \"2023-12-25 23:00:00\",\n",
    "    \"2011-11-04\",\n",
    "    \"20111104\",\n",
    "    \"2011-11-04T00:05:23\",\n",
    "    \"2011-11-04T00:05:23Z\",\n",
    "    \"2011-11-04T00:05:23.283185\",\n",
    "    \"2011-11-04T00:05:23.283185+08:00\",\n",
    "    \"20111104T000523\",\n",
    "    \"20111104T000523.283185\",\n",
    "    \"2011-11-04T00:05:23+08:00\",\n",
    "    ]\n",
    "format_string = \"%Y-%m-%d\"\n",
    "\n",
    "for s in date_strings:\n",
    "    if validate_datetime_in_iso_format(s):\n",
    "        print(f\"{s} is Valid datetime string\")\n",
    "    else:\n",
    "        print(f\"{s} is Invalid datetime string\")"
   ],
   "id": "aabeb5d4ee7e1197",
   "outputs": [
    {
     "name": "stdout",
     "output_type": "stream",
     "text": [
      "2023-12-25 24:00:00 is Invalid datetime string\n",
      "2023-12-25 12:10:00 is Valid datetime string\n",
      "2023-12-25 23:00:00 is Valid datetime string\n",
      "2011-11-04 is Valid datetime string\n",
      "20111104 is Valid datetime string\n",
      "2011-11-04T00:05:23 is Valid datetime string\n",
      "2011-11-04T00:05:23Z is Valid datetime string\n",
      "2011-11-04T00:05:23.283185 is Valid datetime string\n",
      "2011-11-04T00:05:23.283185+08:00 is Valid datetime string\n",
      "20111104T000523 is Valid datetime string\n",
      "20111104T000523.283185 is Valid datetime string\n",
      "2011-11-04T00:05:23+08:00 is Valid datetime string\n"
     ]
    }
   ],
   "execution_count": 155
  },
  {
   "metadata": {
    "ExecuteTime": {
     "end_time": "2024-09-14T13:39:36.152502Z",
     "start_time": "2024-09-14T13:39:36.142647Z"
    }
   },
   "cell_type": "code",
   "source": [
    "df_datetime_str = pd.DataFrame(date_strings)\n",
    "df_datetime_str.columns = ['datetime']\n",
    "# df_datetime_str\n",
    "df_datetime_str['validity'] = df_datetime_str.apply(lambda x: validate_datetime_in_iso_format(x.iloc[0]), axis=1)\n",
    "df_datetime_str\n"
   ],
   "id": "905edaf912eed68a",
   "outputs": [
    {
     "data": {
      "text/plain": [
       "                            datetime  validity\n",
       "0                2023-12-25 24:00:00     False\n",
       "1                2023-12-25 12:10:00      True\n",
       "2                2023-12-25 23:00:00      True\n",
       "3                         2011-11-04      True\n",
       "4                           20111104      True\n",
       "5                2011-11-04T00:05:23      True\n",
       "6               2011-11-04T00:05:23Z      True\n",
       "7         2011-11-04T00:05:23.283185      True\n",
       "8   2011-11-04T00:05:23.283185+08:00      True\n",
       "9                    20111104T000523      True\n",
       "10            20111104T000523.283185      True\n",
       "11         2011-11-04T00:05:23+08:00      True"
      ],
      "text/html": [
       "<div>\n",
       "<style scoped>\n",
       "    .dataframe tbody tr th:only-of-type {\n",
       "        vertical-align: middle;\n",
       "    }\n",
       "\n",
       "    .dataframe tbody tr th {\n",
       "        vertical-align: top;\n",
       "    }\n",
       "\n",
       "    .dataframe thead th {\n",
       "        text-align: right;\n",
       "    }\n",
       "</style>\n",
       "<table border=\"1\" class=\"dataframe\">\n",
       "  <thead>\n",
       "    <tr style=\"text-align: right;\">\n",
       "      <th></th>\n",
       "      <th>datetime</th>\n",
       "      <th>validity</th>\n",
       "    </tr>\n",
       "  </thead>\n",
       "  <tbody>\n",
       "    <tr>\n",
       "      <th>0</th>\n",
       "      <td>2023-12-25 24:00:00</td>\n",
       "      <td>False</td>\n",
       "    </tr>\n",
       "    <tr>\n",
       "      <th>1</th>\n",
       "      <td>2023-12-25 12:10:00</td>\n",
       "      <td>True</td>\n",
       "    </tr>\n",
       "    <tr>\n",
       "      <th>2</th>\n",
       "      <td>2023-12-25 23:00:00</td>\n",
       "      <td>True</td>\n",
       "    </tr>\n",
       "    <tr>\n",
       "      <th>3</th>\n",
       "      <td>2011-11-04</td>\n",
       "      <td>True</td>\n",
       "    </tr>\n",
       "    <tr>\n",
       "      <th>4</th>\n",
       "      <td>20111104</td>\n",
       "      <td>True</td>\n",
       "    </tr>\n",
       "    <tr>\n",
       "      <th>5</th>\n",
       "      <td>2011-11-04T00:05:23</td>\n",
       "      <td>True</td>\n",
       "    </tr>\n",
       "    <tr>\n",
       "      <th>6</th>\n",
       "      <td>2011-11-04T00:05:23Z</td>\n",
       "      <td>True</td>\n",
       "    </tr>\n",
       "    <tr>\n",
       "      <th>7</th>\n",
       "      <td>2011-11-04T00:05:23.283185</td>\n",
       "      <td>True</td>\n",
       "    </tr>\n",
       "    <tr>\n",
       "      <th>8</th>\n",
       "      <td>2011-11-04T00:05:23.283185+08:00</td>\n",
       "      <td>True</td>\n",
       "    </tr>\n",
       "    <tr>\n",
       "      <th>9</th>\n",
       "      <td>20111104T000523</td>\n",
       "      <td>True</td>\n",
       "    </tr>\n",
       "    <tr>\n",
       "      <th>10</th>\n",
       "      <td>20111104T000523.283185</td>\n",
       "      <td>True</td>\n",
       "    </tr>\n",
       "    <tr>\n",
       "      <th>11</th>\n",
       "      <td>2011-11-04T00:05:23+08:00</td>\n",
       "      <td>True</td>\n",
       "    </tr>\n",
       "  </tbody>\n",
       "</table>\n",
       "</div>"
      ]
     },
     "execution_count": 172,
     "metadata": {},
     "output_type": "execute_result"
    }
   ],
   "execution_count": 172
  },
  {
   "metadata": {
    "ExecuteTime": {
     "end_time": "2024-09-14T06:51:29.107626Z",
     "start_time": "2024-09-14T06:51:29.102287Z"
    }
   },
   "cell_type": "code",
   "source": [
    "df_datetime = df_datetime_str[df_datetime_str.apply(lambda x: validate_datetime_in_iso_format(x.iloc[0]), axis=1)]\n",
    "df_datetime\n"
   ],
   "id": "57ade225648c853a",
   "outputs": [
    {
     "data": {
      "text/plain": [
       "                      datetime  validity\n",
       "1          2023-12-25 12:10:00      True\n",
       "2          2023-12-25 23:00:00      True\n",
       "3                   2011-11-04      True\n",
       "4                     20111104      True\n",
       "5          2011-11-04T00:05:23      True\n",
       "6         2011-11-04T00:05:23Z      True\n",
       "7   2011-11-04T00:05:23.283185      True\n",
       "8              20111104T000523      True\n",
       "9       20111104T000523.283185      True\n",
       "10   2011-11-04T00:05:23+08:00      True"
      ],
      "text/html": [
       "<div>\n",
       "<style scoped>\n",
       "    .dataframe tbody tr th:only-of-type {\n",
       "        vertical-align: middle;\n",
       "    }\n",
       "\n",
       "    .dataframe tbody tr th {\n",
       "        vertical-align: top;\n",
       "    }\n",
       "\n",
       "    .dataframe thead th {\n",
       "        text-align: right;\n",
       "    }\n",
       "</style>\n",
       "<table border=\"1\" class=\"dataframe\">\n",
       "  <thead>\n",
       "    <tr style=\"text-align: right;\">\n",
       "      <th></th>\n",
       "      <th>datetime</th>\n",
       "      <th>validity</th>\n",
       "    </tr>\n",
       "  </thead>\n",
       "  <tbody>\n",
       "    <tr>\n",
       "      <th>1</th>\n",
       "      <td>2023-12-25 12:10:00</td>\n",
       "      <td>True</td>\n",
       "    </tr>\n",
       "    <tr>\n",
       "      <th>2</th>\n",
       "      <td>2023-12-25 23:00:00</td>\n",
       "      <td>True</td>\n",
       "    </tr>\n",
       "    <tr>\n",
       "      <th>3</th>\n",
       "      <td>2011-11-04</td>\n",
       "      <td>True</td>\n",
       "    </tr>\n",
       "    <tr>\n",
       "      <th>4</th>\n",
       "      <td>20111104</td>\n",
       "      <td>True</td>\n",
       "    </tr>\n",
       "    <tr>\n",
       "      <th>5</th>\n",
       "      <td>2011-11-04T00:05:23</td>\n",
       "      <td>True</td>\n",
       "    </tr>\n",
       "    <tr>\n",
       "      <th>6</th>\n",
       "      <td>2011-11-04T00:05:23Z</td>\n",
       "      <td>True</td>\n",
       "    </tr>\n",
       "    <tr>\n",
       "      <th>7</th>\n",
       "      <td>2011-11-04T00:05:23.283185</td>\n",
       "      <td>True</td>\n",
       "    </tr>\n",
       "    <tr>\n",
       "      <th>8</th>\n",
       "      <td>20111104T000523</td>\n",
       "      <td>True</td>\n",
       "    </tr>\n",
       "    <tr>\n",
       "      <th>9</th>\n",
       "      <td>20111104T000523.283185</td>\n",
       "      <td>True</td>\n",
       "    </tr>\n",
       "    <tr>\n",
       "      <th>10</th>\n",
       "      <td>2011-11-04T00:05:23+08:00</td>\n",
       "      <td>True</td>\n",
       "    </tr>\n",
       "  </tbody>\n",
       "</table>\n",
       "</div>"
      ]
     },
     "execution_count": 38,
     "metadata": {},
     "output_type": "execute_result"
    }
   ],
   "execution_count": 38
  },
  {
   "metadata": {
    "ExecuteTime": {
     "end_time": "2024-09-14T06:54:12.072684Z",
     "start_time": "2024-09-14T06:54:12.069042Z"
    }
   },
   "cell_type": "code",
   "source": "df_datetime['datetime']",
   "id": "97a234f131288320",
   "outputs": [
    {
     "data": {
      "text/plain": [
       "1            2023-12-25 12:10:00\n",
       "2            2023-12-25 23:00:00\n",
       "3                     2011-11-04\n",
       "4                       20111104\n",
       "5            2011-11-04T00:05:23\n",
       "6           2011-11-04T00:05:23Z\n",
       "7     2011-11-04T00:05:23.283185\n",
       "8                20111104T000523\n",
       "9         20111104T000523.283185\n",
       "10     2011-11-04T00:05:23+08:00\n",
       "Name: datetime, dtype: object"
      ]
     },
     "execution_count": 44,
     "metadata": {},
     "output_type": "execute_result"
    }
   ],
   "execution_count": 44
  },
  {
   "metadata": {
    "ExecuteTime": {
     "end_time": "2024-09-14T07:01:33.056576Z",
     "start_time": "2024-09-14T07:01:33.052548Z"
    }
   },
   "cell_type": "code",
   "source": [
    "# df_datetime_str.apply(lambda x: validate_datetime_in_iso_format(x.iloc[0]), axis=1)\n",
    "df_datetime1 = df_datetime.apply(lambda x: datetime.fromisoformat(x['datetime']), axis=1)\n",
    "df_datetime1.name = 'datetime'\n",
    "df_datetime1\n"
   ],
   "id": "6af81c048a238644",
   "outputs": [
    {
     "data": {
      "text/plain": [
       "1            2023-12-25 12:10:00\n",
       "2            2023-12-25 23:00:00\n",
       "3            2011-11-04 00:00:00\n",
       "4            2011-11-04 00:00:00\n",
       "5            2011-11-04 00:05:23\n",
       "6      2011-11-04 00:05:23+00:00\n",
       "7     2011-11-04 00:05:23.283185\n",
       "8            2011-11-04 00:05:23\n",
       "9     2011-11-04 00:05:23.283185\n",
       "10     2011-11-04 00:05:23+08:00\n",
       "Name: datetime, dtype: object"
      ]
     },
     "execution_count": 55,
     "metadata": {},
     "output_type": "execute_result"
    }
   ],
   "execution_count": 55
  },
  {
   "metadata": {
    "ExecuteTime": {
     "end_time": "2024-09-14T07:06:38.274537Z",
     "start_time": "2024-09-14T07:06:38.270595Z"
    }
   },
   "cell_type": "code",
   "source": "pd.to_datetime(df_datetime1[7:9])",
   "id": "563c31da0452adbf",
   "outputs": [
    {
     "data": {
      "text/plain": [
       "8   2011-11-04 00:05:23.000000\n",
       "9   2011-11-04 00:05:23.283185\n",
       "Name: datetime, dtype: datetime64[ns]"
      ]
     },
     "execution_count": 71,
     "metadata": {},
     "output_type": "execute_result"
    }
   ],
   "execution_count": 71
  },
  {
   "metadata": {
    "ExecuteTime": {
     "end_time": "2024-09-14T07:32:09.650302Z",
     "start_time": "2024-09-14T07:32:09.647649Z"
    }
   },
   "cell_type": "code",
   "source": [
    "import pytz\n",
    "def get_timezone_abbreviation(timezone_name):\n",
    "    timezone = pytz.timezone(timezone_name)\n",
    "    now = datetime.now(timezone)\n",
    "    return now.strftime(\"%Z\")\n",
    "\n",
    "def validate_timezone_in_iana(timezone_name):\n",
    "     return timezone_name in pytz.all_timezones\n",
    "\n",
    "time_zone_strings = [\n",
    "    'Asia/Shanghai',\n",
    "    'Asia/Mumbai',\n",
    "    'America/New_York',\n",
    "    'Europe/London', \n",
    "    'Eastern Standard Time', \n",
    "    'US/Eastern', \n",
    "    'America/Los_Angeles', \n",
    "    'Asia/Kolkata', \n",
    "    'Europe/London'\n",
    "]"
   ],
   "id": "a70bc55e194f13db",
   "outputs": [],
   "execution_count": 87
  },
  {
   "metadata": {
    "ExecuteTime": {
     "end_time": "2024-09-14T13:47:58.318091Z",
     "start_time": "2024-09-14T13:47:58.310454Z"
    }
   },
   "cell_type": "code",
   "source": [
    "df_timezone_str = pd.DataFrame(time_zone_strings)\n",
    "df_timezone_str.columns = ['timezone']\n",
    "# df_datetime_str\n",
    "df_timezone_str['validity'] = df_timezone_str.apply(lambda x: validate_timezone_in_iana(x.iloc[0]), axis=1)\n",
    "df_timezone_str\n"
   ],
   "id": "599c26fa4b339e3b",
   "outputs": [
    {
     "data": {
      "text/plain": [
       "                timezone  validity\n",
       "0          Asia/Shanghai      True\n",
       "1            Asia/Mumbai     False\n",
       "2       America/New_York      True\n",
       "3          Europe/London      True\n",
       "4  Eastern Standard Time     False\n",
       "5             US/Eastern      True\n",
       "6    America/Los_Angeles      True\n",
       "7           Asia/Kolkata      True\n",
       "8          Europe/London      True"
      ],
      "text/html": [
       "<div>\n",
       "<style scoped>\n",
       "    .dataframe tbody tr th:only-of-type {\n",
       "        vertical-align: middle;\n",
       "    }\n",
       "\n",
       "    .dataframe tbody tr th {\n",
       "        vertical-align: top;\n",
       "    }\n",
       "\n",
       "    .dataframe thead th {\n",
       "        text-align: right;\n",
       "    }\n",
       "</style>\n",
       "<table border=\"1\" class=\"dataframe\">\n",
       "  <thead>\n",
       "    <tr style=\"text-align: right;\">\n",
       "      <th></th>\n",
       "      <th>timezone</th>\n",
       "      <th>validity</th>\n",
       "    </tr>\n",
       "  </thead>\n",
       "  <tbody>\n",
       "    <tr>\n",
       "      <th>0</th>\n",
       "      <td>Asia/Shanghai</td>\n",
       "      <td>True</td>\n",
       "    </tr>\n",
       "    <tr>\n",
       "      <th>1</th>\n",
       "      <td>Asia/Mumbai</td>\n",
       "      <td>False</td>\n",
       "    </tr>\n",
       "    <tr>\n",
       "      <th>2</th>\n",
       "      <td>America/New_York</td>\n",
       "      <td>True</td>\n",
       "    </tr>\n",
       "    <tr>\n",
       "      <th>3</th>\n",
       "      <td>Europe/London</td>\n",
       "      <td>True</td>\n",
       "    </tr>\n",
       "    <tr>\n",
       "      <th>4</th>\n",
       "      <td>Eastern Standard Time</td>\n",
       "      <td>False</td>\n",
       "    </tr>\n",
       "    <tr>\n",
       "      <th>5</th>\n",
       "      <td>US/Eastern</td>\n",
       "      <td>True</td>\n",
       "    </tr>\n",
       "    <tr>\n",
       "      <th>6</th>\n",
       "      <td>America/Los_Angeles</td>\n",
       "      <td>True</td>\n",
       "    </tr>\n",
       "    <tr>\n",
       "      <th>7</th>\n",
       "      <td>Asia/Kolkata</td>\n",
       "      <td>True</td>\n",
       "    </tr>\n",
       "    <tr>\n",
       "      <th>8</th>\n",
       "      <td>Europe/London</td>\n",
       "      <td>True</td>\n",
       "    </tr>\n",
       "  </tbody>\n",
       "</table>\n",
       "</div>"
      ]
     },
     "execution_count": 180,
     "metadata": {},
     "output_type": "execute_result"
    }
   ],
   "execution_count": 180
  },
  {
   "metadata": {
    "ExecuteTime": {
     "end_time": "2024-09-14T13:48:08.027086Z",
     "start_time": "2024-09-14T13:48:07.987769Z"
    }
   },
   "cell_type": "code",
   "source": [
    "\n",
    "df_timezone = df_timezone_str[df_timezone_str.apply(lambda x: validate_timezone_in_iana(x.iloc[0]), axis=1)]\n",
    "df_timezone\n"
   ],
   "id": "5238e737123155e2",
   "outputs": [
    {
     "data": {
      "text/plain": [
       "              timezone  validity\n",
       "0        Asia/Shanghai      True\n",
       "2     America/New_York      True\n",
       "3        Europe/London      True\n",
       "5           US/Eastern      True\n",
       "6  America/Los_Angeles      True\n",
       "7         Asia/Kolkata      True\n",
       "8        Europe/London      True"
      ],
      "text/html": [
       "<div>\n",
       "<style scoped>\n",
       "    .dataframe tbody tr th:only-of-type {\n",
       "        vertical-align: middle;\n",
       "    }\n",
       "\n",
       "    .dataframe tbody tr th {\n",
       "        vertical-align: top;\n",
       "    }\n",
       "\n",
       "    .dataframe thead th {\n",
       "        text-align: right;\n",
       "    }\n",
       "</style>\n",
       "<table border=\"1\" class=\"dataframe\">\n",
       "  <thead>\n",
       "    <tr style=\"text-align: right;\">\n",
       "      <th></th>\n",
       "      <th>timezone</th>\n",
       "      <th>validity</th>\n",
       "    </tr>\n",
       "  </thead>\n",
       "  <tbody>\n",
       "    <tr>\n",
       "      <th>0</th>\n",
       "      <td>Asia/Shanghai</td>\n",
       "      <td>True</td>\n",
       "    </tr>\n",
       "    <tr>\n",
       "      <th>2</th>\n",
       "      <td>America/New_York</td>\n",
       "      <td>True</td>\n",
       "    </tr>\n",
       "    <tr>\n",
       "      <th>3</th>\n",
       "      <td>Europe/London</td>\n",
       "      <td>True</td>\n",
       "    </tr>\n",
       "    <tr>\n",
       "      <th>5</th>\n",
       "      <td>US/Eastern</td>\n",
       "      <td>True</td>\n",
       "    </tr>\n",
       "    <tr>\n",
       "      <th>6</th>\n",
       "      <td>America/Los_Angeles</td>\n",
       "      <td>True</td>\n",
       "    </tr>\n",
       "    <tr>\n",
       "      <th>7</th>\n",
       "      <td>Asia/Kolkata</td>\n",
       "      <td>True</td>\n",
       "    </tr>\n",
       "    <tr>\n",
       "      <th>8</th>\n",
       "      <td>Europe/London</td>\n",
       "      <td>True</td>\n",
       "    </tr>\n",
       "  </tbody>\n",
       "</table>\n",
       "</div>"
      ]
     },
     "execution_count": 181,
     "metadata": {},
     "output_type": "execute_result"
    }
   ],
   "execution_count": 181
  },
  {
   "metadata": {
    "ExecuteTime": {
     "end_time": "2024-09-14T13:53:01.688501Z",
     "start_time": "2024-09-14T13:53:01.681993Z"
    }
   },
   "cell_type": "code",
   "source": [
    "df_abbr = df_timezone.apply(lambda x: get_timezone_abbreviation(x.loc['timezone']), axis=1)\n",
    "df_abbr.name = 'abbr'\n",
    "df_abbr"
   ],
   "id": "dd34bfb6006682a5",
   "outputs": [
    {
     "data": {
      "text/plain": [
       "0    CST\n",
       "2    EDT\n",
       "3    BST\n",
       "5    EDT\n",
       "6    PDT\n",
       "7    IST\n",
       "8    BST\n",
       "Name: abbr, dtype: object"
      ]
     },
     "execution_count": 188,
     "metadata": {},
     "output_type": "execute_result"
    }
   ],
   "execution_count": 188
  },
  {
   "metadata": {
    "ExecuteTime": {
     "end_time": "2024-09-14T13:48:49.961180Z",
     "start_time": "2024-09-14T13:48:49.953804Z"
    }
   },
   "cell_type": "code",
   "source": "df_timezone",
   "id": "f4d98e1308e8afcd",
   "outputs": [
    {
     "data": {
      "text/plain": [
       "              timezone  validity\n",
       "0        Asia/Shanghai      True\n",
       "2     America/New_York      True\n",
       "3        Europe/London      True\n",
       "5           US/Eastern      True\n",
       "6  America/Los_Angeles      True\n",
       "7         Asia/Kolkata      True\n",
       "8        Europe/London      True"
      ],
      "text/html": [
       "<div>\n",
       "<style scoped>\n",
       "    .dataframe tbody tr th:only-of-type {\n",
       "        vertical-align: middle;\n",
       "    }\n",
       "\n",
       "    .dataframe tbody tr th {\n",
       "        vertical-align: top;\n",
       "    }\n",
       "\n",
       "    .dataframe thead th {\n",
       "        text-align: right;\n",
       "    }\n",
       "</style>\n",
       "<table border=\"1\" class=\"dataframe\">\n",
       "  <thead>\n",
       "    <tr style=\"text-align: right;\">\n",
       "      <th></th>\n",
       "      <th>timezone</th>\n",
       "      <th>validity</th>\n",
       "    </tr>\n",
       "  </thead>\n",
       "  <tbody>\n",
       "    <tr>\n",
       "      <th>0</th>\n",
       "      <td>Asia/Shanghai</td>\n",
       "      <td>True</td>\n",
       "    </tr>\n",
       "    <tr>\n",
       "      <th>2</th>\n",
       "      <td>America/New_York</td>\n",
       "      <td>True</td>\n",
       "    </tr>\n",
       "    <tr>\n",
       "      <th>3</th>\n",
       "      <td>Europe/London</td>\n",
       "      <td>True</td>\n",
       "    </tr>\n",
       "    <tr>\n",
       "      <th>5</th>\n",
       "      <td>US/Eastern</td>\n",
       "      <td>True</td>\n",
       "    </tr>\n",
       "    <tr>\n",
       "      <th>6</th>\n",
       "      <td>America/Los_Angeles</td>\n",
       "      <td>True</td>\n",
       "    </tr>\n",
       "    <tr>\n",
       "      <th>7</th>\n",
       "      <td>Asia/Kolkata</td>\n",
       "      <td>True</td>\n",
       "    </tr>\n",
       "    <tr>\n",
       "      <th>8</th>\n",
       "      <td>Europe/London</td>\n",
       "      <td>True</td>\n",
       "    </tr>\n",
       "  </tbody>\n",
       "</table>\n",
       "</div>"
      ]
     },
     "execution_count": 183,
     "metadata": {},
     "output_type": "execute_result"
    }
   ],
   "execution_count": 183
  },
  {
   "metadata": {
    "ExecuteTime": {
     "end_time": "2024-09-14T13:50:01.347614Z",
     "start_time": "2024-09-14T13:50:01.341011Z"
    }
   },
   "cell_type": "code",
   "source": [
    "# df_timezone_str['validity'] = df_timezone_str.apply(lambda x: validate_timezone_in_iana(x.iloc[0]), axis=1)\n",
    "# df_timezone['abbr'] = df_timezone.apply(lambda x: get_timezone_abbreviation(x.iloc[0]), axis=1)\n",
    "# df_timezone.apply(lambda x: get_timezone_abbreviation(x.iloc[0]), axis=1)\n",
    "df_timezone.loc[:,'abbr'] = df_abbr\n",
    "df_timezone\n",
    "# df_timezone\n"
   ],
   "id": "4ed42e0608199bdb",
   "outputs": [
    {
     "data": {
      "text/plain": [
       "              timezone  validity abbr\n",
       "0        Asia/Shanghai      True  CST\n",
       "2     America/New_York      True  EDT\n",
       "3        Europe/London      True  BST\n",
       "5           US/Eastern      True  EDT\n",
       "6  America/Los_Angeles      True  PDT\n",
       "7         Asia/Kolkata      True  IST\n",
       "8        Europe/London      True  BST"
      ],
      "text/html": [
       "<div>\n",
       "<style scoped>\n",
       "    .dataframe tbody tr th:only-of-type {\n",
       "        vertical-align: middle;\n",
       "    }\n",
       "\n",
       "    .dataframe tbody tr th {\n",
       "        vertical-align: top;\n",
       "    }\n",
       "\n",
       "    .dataframe thead th {\n",
       "        text-align: right;\n",
       "    }\n",
       "</style>\n",
       "<table border=\"1\" class=\"dataframe\">\n",
       "  <thead>\n",
       "    <tr style=\"text-align: right;\">\n",
       "      <th></th>\n",
       "      <th>timezone</th>\n",
       "      <th>validity</th>\n",
       "      <th>abbr</th>\n",
       "    </tr>\n",
       "  </thead>\n",
       "  <tbody>\n",
       "    <tr>\n",
       "      <th>0</th>\n",
       "      <td>Asia/Shanghai</td>\n",
       "      <td>True</td>\n",
       "      <td>CST</td>\n",
       "    </tr>\n",
       "    <tr>\n",
       "      <th>2</th>\n",
       "      <td>America/New_York</td>\n",
       "      <td>True</td>\n",
       "      <td>EDT</td>\n",
       "    </tr>\n",
       "    <tr>\n",
       "      <th>3</th>\n",
       "      <td>Europe/London</td>\n",
       "      <td>True</td>\n",
       "      <td>BST</td>\n",
       "    </tr>\n",
       "    <tr>\n",
       "      <th>5</th>\n",
       "      <td>US/Eastern</td>\n",
       "      <td>True</td>\n",
       "      <td>EDT</td>\n",
       "    </tr>\n",
       "    <tr>\n",
       "      <th>6</th>\n",
       "      <td>America/Los_Angeles</td>\n",
       "      <td>True</td>\n",
       "      <td>PDT</td>\n",
       "    </tr>\n",
       "    <tr>\n",
       "      <th>7</th>\n",
       "      <td>Asia/Kolkata</td>\n",
       "      <td>True</td>\n",
       "      <td>IST</td>\n",
       "    </tr>\n",
       "    <tr>\n",
       "      <th>8</th>\n",
       "      <td>Europe/London</td>\n",
       "      <td>True</td>\n",
       "      <td>BST</td>\n",
       "    </tr>\n",
       "  </tbody>\n",
       "</table>\n",
       "</div>"
      ]
     },
     "execution_count": 186,
     "metadata": {},
     "output_type": "execute_result"
    }
   ],
   "execution_count": 186
  },
  {
   "metadata": {
    "ExecuteTime": {
     "end_time": "2024-09-14T14:05:07.075326Z",
     "start_time": "2024-09-14T14:05:07.068412Z"
    }
   },
   "cell_type": "code",
   "source": [
    "\n",
    "df_utc_offset = (df_timezone.apply(lambda x: datetime.now(pytz.timezone(x.loc['timezone'])), axis=1)\n",
    "                            .apply(lambda x: x.strftime('%z')))\n",
    "df_utc_offset.name = 'utc_offset'\n",
    "df_utc_offset\n"
   ],
   "id": "654a9caf85cd9150",
   "outputs": [
    {
     "data": {
      "text/plain": [
       "0    +0800\n",
       "2    -0400\n",
       "3    +0100\n",
       "5    -0400\n",
       "6    -0700\n",
       "7    +0530\n",
       "8    +0100\n",
       "Name: utc_offset, dtype: object"
      ]
     },
     "execution_count": 200,
     "metadata": {},
     "output_type": "execute_result"
    }
   ],
   "execution_count": 200
  },
  {
   "metadata": {
    "ExecuteTime": {
     "end_time": "2024-09-14T14:05:20.992749Z",
     "start_time": "2024-09-14T14:05:20.987212Z"
    }
   },
   "cell_type": "code",
   "source": [
    "\n",
    "df_timezone.loc[:,'utc_offset'] = df_utc_offset\n",
    "df_timezone\n"
   ],
   "id": "c9f601971b59c7b3",
   "outputs": [
    {
     "data": {
      "text/plain": [
       "              timezone  validity abbr utc_offset\n",
       "0        Asia/Shanghai      True  CST      +0800\n",
       "2     America/New_York      True  EDT      -0400\n",
       "3        Europe/London      True  BST      +0100\n",
       "5           US/Eastern      True  EDT      -0400\n",
       "6  America/Los_Angeles      True  PDT      -0700\n",
       "7         Asia/Kolkata      True  IST      +0530\n",
       "8        Europe/London      True  BST      +0100"
      ],
      "text/html": [
       "<div>\n",
       "<style scoped>\n",
       "    .dataframe tbody tr th:only-of-type {\n",
       "        vertical-align: middle;\n",
       "    }\n",
       "\n",
       "    .dataframe tbody tr th {\n",
       "        vertical-align: top;\n",
       "    }\n",
       "\n",
       "    .dataframe thead th {\n",
       "        text-align: right;\n",
       "    }\n",
       "</style>\n",
       "<table border=\"1\" class=\"dataframe\">\n",
       "  <thead>\n",
       "    <tr style=\"text-align: right;\">\n",
       "      <th></th>\n",
       "      <th>timezone</th>\n",
       "      <th>validity</th>\n",
       "      <th>abbr</th>\n",
       "      <th>utc_offset</th>\n",
       "    </tr>\n",
       "  </thead>\n",
       "  <tbody>\n",
       "    <tr>\n",
       "      <th>0</th>\n",
       "      <td>Asia/Shanghai</td>\n",
       "      <td>True</td>\n",
       "      <td>CST</td>\n",
       "      <td>+0800</td>\n",
       "    </tr>\n",
       "    <tr>\n",
       "      <th>2</th>\n",
       "      <td>America/New_York</td>\n",
       "      <td>True</td>\n",
       "      <td>EDT</td>\n",
       "      <td>-0400</td>\n",
       "    </tr>\n",
       "    <tr>\n",
       "      <th>3</th>\n",
       "      <td>Europe/London</td>\n",
       "      <td>True</td>\n",
       "      <td>BST</td>\n",
       "      <td>+0100</td>\n",
       "    </tr>\n",
       "    <tr>\n",
       "      <th>5</th>\n",
       "      <td>US/Eastern</td>\n",
       "      <td>True</td>\n",
       "      <td>EDT</td>\n",
       "      <td>-0400</td>\n",
       "    </tr>\n",
       "    <tr>\n",
       "      <th>6</th>\n",
       "      <td>America/Los_Angeles</td>\n",
       "      <td>True</td>\n",
       "      <td>PDT</td>\n",
       "      <td>-0700</td>\n",
       "    </tr>\n",
       "    <tr>\n",
       "      <th>7</th>\n",
       "      <td>Asia/Kolkata</td>\n",
       "      <td>True</td>\n",
       "      <td>IST</td>\n",
       "      <td>+0530</td>\n",
       "    </tr>\n",
       "    <tr>\n",
       "      <th>8</th>\n",
       "      <td>Europe/London</td>\n",
       "      <td>True</td>\n",
       "      <td>BST</td>\n",
       "      <td>+0100</td>\n",
       "    </tr>\n",
       "  </tbody>\n",
       "</table>\n",
       "</div>"
      ]
     },
     "execution_count": 201,
     "metadata": {},
     "output_type": "execute_result"
    }
   ],
   "execution_count": 201
  },
  {
   "metadata": {
    "ExecuteTime": {
     "end_time": "2024-09-14T13:38:15.266687Z",
     "start_time": "2024-09-14T13:38:15.263406Z"
    }
   },
   "cell_type": "code",
   "source": [
    "for tz in df_timezone.loc[:,'timezone']:\n",
    "    print(f\"{tz}: {datetime.now(pytz.timezone(tz)).strftime('%Z')}, {datetime.now(pytz.timezone(tz)).strftime('%z')}\")"
   ],
   "id": "d3cae03d9ec2389d",
   "outputs": [
    {
     "name": "stdout",
     "output_type": "stream",
     "text": [
      "Asia/Shanghai: CST, +0800\n",
      "America/New_York: EDT, -0400\n",
      "Europe/London: BST, +0100\n",
      "US/Eastern: EDT, -0400\n",
      "America/Los_Angeles: PDT, -0700\n",
      "Asia/Kolkata: IST, +0530\n",
      "Europe/London: BST, +0100\n"
     ]
    }
   ],
   "execution_count": 171
  }
 ],
 "metadata": {
  "kernelspec": {
   "display_name": "Python 3",
   "language": "python",
   "name": "python3"
  },
  "language_info": {
   "codemirror_mode": {
    "name": "ipython",
    "version": 2
   },
   "file_extension": ".py",
   "mimetype": "text/x-python",
   "name": "python",
   "nbconvert_exporter": "python",
   "pygments_lexer": "ipython2",
   "version": "2.7.6"
  }
 },
 "nbformat": 4,
 "nbformat_minor": 5
}
